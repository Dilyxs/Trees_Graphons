{
 "cells": [
  {
   "cell_type": "code",
   "execution_count": 1,
   "id": "bd7aaddb-6637-47e2-b3ff-ecb925abc5a7",
   "metadata": {},
   "outputs": [
    {
     "name": "stderr",
     "output_type": "stream",
     "text": [
      "/home/adsayan/.local/lib/python3.10/site-packages/matplotlib/projections/__init__.py:63: UserWarning: Unable to import Axes3D. This may be due to multiple versions of Matplotlib being installed (e.g. as a system package and as a pip package). As a result, the 3D projection is not available.\n",
      "  warnings.warn(\"Unable to import Axes3D. This may be due to multiple versions of \"\n"
     ]
    },
    {
     "name": "stdout",
     "output_type": "stream",
     "text": [
      "0.04873085021972656\n",
      "time take  is 4.5299530029296875e-05\n",
      "printing time is (5.9604644775390625e-06)\n"
     ]
    }
   ],
   "source": [
    "import numpy as np\n",
    "import networkx as nx\n",
    "import matplotlib.pyplot as plt\n",
    "import copy\n",
    "from uniform_attachment_model  import matrix_uniform_attachment\n",
    "from tqdm.notebook import tqdm\n",
    "import pandas as pd\n",
    "import time\n",
    "import copy\n",
    "import  heapq\n",
    "from reg_three_g import make_that_0_into_1_with_transpose\n",
    "from line_tree import create_line_tree_adjacency_matrix\n",
    "from reg_three_g import final_3_reg_tree\n",
    "import seaborn as sns\n",
    "import os\n",
    "import math\n",
    "import matplotlib.animation as animation\n",
    "import imageio.v2 as imageio\n",
    "import ast"
   ]
  },
  {
   "cell_type": "code",
   "execution_count": 2,
   "id": "76db6e3d-497b-4189-abff-bee0b122de5d",
   "metadata": {},
   "outputs": [],
   "source": [
    "def find_barycenter_prob(matrix, vertex_to_remove):\n",
    "\n",
    "    matrix_copy = copy.deepcopy(matrix)\n",
    "\n",
    "    row_c = [0, 1]\n",
    "\n",
    "    for i in vertex_to_remove:\n",
    "        if vertex_to_remove.count(i) >= 2:\n",
    "            return i  \n",
    "\n",
    "    while len(row_c) != 0:\n",
    "        row, column = row_colum_returner(matrix_copy, vertex_to_remove)\n",
    "        row_c = row\n",
    "\n",
    "        if len(row_c) == 0:\n",
    "            break\n",
    "\n",
    "        for r, c in zip(row, column):\n",
    "            matrix_copy = make_that_1_into_0_with_transpose(matrix_copy, r, c)\n",
    "\n",
    " \n",
    "    for s, i in enumerate(matrix_copy):\n",
    "        if sum(i) == 3:\n",
    "            return s  #\n",
    "\n",
    "    for i in vertex_to_remove:\n",
    "        if sum(matrix_copy[i]) == 2:\n",
    "            return i  \n",
    "\n",
    " \n",
    "    return None\n",
    "def row_colum_returner(matrix, vertex_to_remove):\n",
    "    s= 0 \n",
    "    column = []\n",
    "    row = []\n",
    "    for i in matrix:\n",
    "        if sum(i) == 1:\n",
    "            if s in vertex_to_remove:\n",
    "                pass\n",
    "            if s not in vertex_to_remove:\n",
    "                d = 0\n",
    "                for v in i:\n",
    "                    if v==1:\n",
    "                        row.append(s)\n",
    "                        column.append(d)\n",
    "                    d+=1\n",
    "                        \n",
    "    \n",
    "        s+=1\n",
    "\n",
    "    return row, column\n",
    "\n",
    "def calculate_u_new(matrix):\n",
    "    row_count = max(len(i) for i in matrix)\n",
    "    u_new = [0] * row_count\n",
    "    u_old = [1 / row_count] * row_count\n",
    "    \n",
    "    for i in range(0, row_count):\n",
    "        for j in range(0, row_count):\n",
    "            for k in range(0, row_count):\n",
    "                center = find_barycenter_prob(matrix, vertex_to_remove=[i, j, k])\n",
    "                u_new[center] += u_old[i] * u_old[j] * u_old[k]\n",
    "    \n",
    "    return u_new\n",
    "\n",
    "\n",
    "def find_barycenter_deterministic(adj_matrix):\n",
    "    leaf_cut = []    \n",
    "    adj_matrix_copy = copy.deepcopy(adj_matrix)\n",
    "    \n",
    "    n = len(adj_matrix_copy)  # Number of nodes, number of rows\n",
    "    degrees = np.sum(adj_matrix_copy, axis=1)  # Sum of row = degree\n",
    "    nodes = set(range(n))  # All vertices\n",
    "    \n",
    "    while len(nodes) > 2: \n",
    "        # Find all leaf nodes (nodes with degree 1)\n",
    "        leaf_nodes = [i for i in nodes if degrees[i] == 1]  # Only those with a single 1 are leaves\n",
    "        \n",
    "        for leaf in leaf_nodes:\n",
    "            nodes.remove(leaf)  # Remove the leaf\n",
    "            degrees[leaf] = 0  # Degree is then 0\n",
    "\n",
    "            for neighbor in range(n):  # Check all neighbors\n",
    "                if adj_matrix_copy[leaf][neighbor] == 1:  # If there is a connection\n",
    "                    degrees[neighbor] -= 1  # Decrement the degree of the neighbor\n",
    "                    adj_matrix_copy[leaf][neighbor] = 0  # Change the 1 to 0\n",
    "                    adj_matrix_copy[neighbor][leaf] = 0  # Also change its \"transpose position\" to 0\n",
    "        leaf_cut.append(1)\n",
    "\n",
    "    # At this point, there should only be 1 or 2 nodes left\n",
    "    remaining_nodes = list(nodes)  # Convert the set to a list\n",
    "\n",
    "    if len(remaining_nodes) == 1:  # If only 1 vertex remains\n",
    "        return remaining_nodes, adj_matrix_copy, sum(leaf_cut)\n",
    "    elif len(remaining_nodes) == 2:  # If 2 vertices remain\n",
    "        return remaining_nodes, adj_matrix_copy, sum(leaf_cut)\n",
    "\n",
    "def make_that_1_into_0_with_transpose(matrix, row, column):\n",
    "    matrix[row][column] = 0\n",
    "    matrix[column][row] = 0\n",
    "\n",
    "\n",
    "    return matrix\n",
    "\n",
    "def draw_graph_from_adjacency_matrix(adjacency_matrix):\n",
    "    G = nx.Graph()\n",
    "\n",
    "    for i in range(len(adjacency_matrix)):\n",
    "        for j in range(len(adjacency_matrix[i])):\n",
    "            if adjacency_matrix[i][j] != 0: \n",
    "                G.add_edge(i, j, weight=adjacency_matrix[i][j])\n",
    "\n",
    "\n",
    "    G.add_nodes_from(range(len(adjacency_matrix)))\n",
    "\n",
    "    pos = nx.spring_layout(G, seed=42)\n",
    "\n",
    "    # Draw the graph\n",
    "    plt.figure(figsize=(8, 6))\n",
    "    nx.draw(\n",
    "        G,\n",
    "        pos,\n",
    "        with_labels=True,\n",
    "        node_color='lightblue',\n",
    "        edge_color='black',\n",
    "        node_size=10,\n",
    "        font_size=10,\n",
    "        width=0.5\n",
    "    )\n",
    "    plt.title(\"Graph from Adjacency Matrix\")\n",
    "    plt.show()\n",
    "def calculate_u_new(matrix, u_old = None, centers = None):\n",
    "    centers = []\n",
    "    row_count = max(len(i) for i in matrix)\n",
    "    u_new = [0] * row_count\n",
    "\n",
    "    if u_old is None:\n",
    "        u_old = [1 / row_count] * row_count\n",
    "\n",
    "    if  not centers:\n",
    "        for i in range(0, row_count):\n",
    "            for j in range(0, row_count):\n",
    "                for k in range(0, row_count):\n",
    "                    center = find_barycenter_prob(matrix, vertex_to_remove=[i, j, k])\n",
    "                    no_change_center = [i,j,k,center]\n",
    "                    u_new[center] += u_old[i] * u_old[j] * u_old[k]\n",
    "                    centers.append(no_change_center)\n",
    "        return u_new,centers\n",
    "\n",
    "\n",
    "    if centers:\n",
    "        for element in centers:\n",
    "            u_new[element[3]] += u_old[element[0]] * u_old[element[1]] * u_old[element[2]]\n",
    "            return u_new, centers\n",
    "            \n",
    "\n",
    "\n",
    "def entropy_calculator(list_s):\n",
    "    entropy_sum_list = []\n",
    "    for i in list_s:\n",
    "        if i < 0.0000000001:\n",
    "            value = 0\n",
    "        else:\n",
    "            value = i * np.log(i)\n",
    "            entropy_sum_list.append(value)\n",
    "    \n",
    "    return -sum(entropy_sum_list)\n",
    "\n",
    "def main_entropy_for_each_interation(n, matrix, lower_barrier = np.log(2).round(10)):\n",
    "    start_time = time.time() \n",
    "    total_steps = n\n",
    "    progress_bar = tqdm(total=total_steps, desc=\"Computing\", dynamic_ncols=True)\n",
    "\n",
    "    list_with_all_iteration = []\n",
    "    u_old = None\n",
    "    centers = None\n",
    "    for s in range(n):\n",
    "        elapsed_time = time.time() - start_time\n",
    "        progress_bar.set_description(f\"Elapsed: {elapsed_time:.2f} sec\")\n",
    "        u_calculated, los_centers = calculate_u_new(matrix, u_old, centers)\n",
    "        entropy_received = (entropy_calculator(u_calculated)).round(4)\n",
    "        centers = los_centers\n",
    "        u_old = u_calculated\n",
    "\n",
    "        dict_2_send = {\n",
    "            \"interation\": s,\n",
    "            \"entropy\": entropy_received,\n",
    "            'u_calculated': u_calculated\n",
    "        }\n",
    "        list_with_all_iteration.append(dict_2_send)\n",
    "\n",
    "        if entropy_received < lower_barrier:  \n",
    "            progress_bar.n = total_steps  # Set progress to max\n",
    "            progress_bar.refresh()  # Force update the UI\n",
    "            progress_bar.close\n",
    "            break  \n",
    "\n",
    "        progress_bar.update(1)  \n",
    "\n",
    "    progress_bar.close()  \n",
    "    return list_with_all_iteration\n",
    "    \n",
    "def runner(iterations, node_size):\n",
    "    \n",
    "    node_counter = []\n",
    "    edge_counter = []\n",
    "    \n",
    "    edge_count = 0\n",
    "    vertex_count = 0\n",
    "    for i in set(range(iterations)):\n",
    "        matrix = matrix_uniform_attachment(node_size)\n",
    "        sd ,ad, cuts = find_barycenter_deterministic(matrix)\n",
    "\n",
    "\n",
    "        \n",
    "        if len(sd) == 2:#it is an edge\n",
    "            edge_count+=1\n",
    "            edge_counter.append(sd[0])\n",
    "            edge_counter.append(sd[1])\n",
    "        elif len(sd) == 1: #is is an vertex\n",
    "            vertex_count+=1\n",
    "            node_counter.append(sd[0])\n",
    "    return edge_count, vertex_count, node_counter, edge_counter\n",
    "def generate_galton_watson_adjacency(n, p, max_nodes=100, max_iterations=20):\n",
    "    \"\"\"Generate the adjacency matrix for a Galton-Watson process.\"\"\"\n",
    "    matrix = [[0]]  \n",
    "    rows_completed = []  \n",
    "    \n",
    "    iteration = 0\n",
    "    while iteration < max_iterations:\n",
    "        new_nodes_added = False \n",
    "\n",
    "        for i in range(len(matrix)):\n",
    "            if i in rows_completed:\n",
    "                continue\n",
    "\n",
    "            locally_completed_int = []\n",
    "            how_many_kids = quick_binomial(n, p)\n",
    "\n",
    "            if how_many_kids > 0:\n",
    "                new_nodes_added = True  \n",
    "\n",
    "            for _ in range(how_many_kids):\n",
    "                while len(matrix[i]) <= max_finder_in_list(locally_completed_int):\n",
    "                    matrix[i].append(0)\n",
    "                \n",
    "                matrix[i].append(1)\n",
    "                locally_completed_int.append(len(matrix[i]) - 1)\n",
    "\n",
    "            how_many_rows_required = len(matrix[i])\n",
    "            while len(matrix) < how_many_rows_required:\n",
    "                matrix.append([0] * how_many_rows_required)\n",
    "\n",
    "            for row in matrix:\n",
    "                while len(row) < len(matrix):\n",
    "                    row.append(0)\n",
    "\n",
    "            for child_index in locally_completed_int:\n",
    "                make_that_0_into_1_with_transpose(matrix, i, child_index)\n",
    "\n",
    "            rows_completed.append(i)\n",
    "\n",
    "        iteration += 1\n",
    "\n",
    "        if not new_nodes_added:  \n",
    "            break\n",
    "\n",
    "    return matrix\n"
   ]
  },
  {
   "cell_type": "code",
   "execution_count": null,
   "id": "64b9a65b-3db9-4cbb-af75-7b9075846cbc",
   "metadata": {},
   "outputs": [],
   "source": []
  },
  {
   "cell_type": "code",
   "execution_count": 3,
   "id": "513c4fdf-eb4a-418e-9335-97e6fefafa9a",
   "metadata": {},
   "outputs": [],
   "source": [
    "\n",
    "def make_that_1_into_0_with_transpos(matrix, row, column):\n",
    "    matrix[row][column] = 0\n",
    "    matrix[column][row] = 0\n",
    "\n",
    "    \n",
    "def merge_trees(matrix_1, matrix_2, random_vertex_selection = True, vertex_from_matrix_1 = None, vertex_from_matrix_2 = None):\n",
    "    matrix_1_cp = copy.deepcopy(matrix_1)\n",
    "    matrix_2_cp = copy.deepcopy(matrix_2)\n",
    "\n",
    "\n",
    "    for i in range(len(matrix_2_cp)):\n",
    "        for li in matrix_1_cp:\n",
    "            li.append(0)\n",
    "\n",
    "\n",
    "    for i in range(len(matrix_1_cp)):\n",
    "        for li in matrix_2_cp:\n",
    "            li.insert(0, 0)\n",
    "        \n",
    "\n",
    "\n",
    "    for row in matrix_2_cp:\n",
    "        matrix_1_cp.append(row)\n",
    "\n",
    "    if random_vertex_selection: \n",
    "        vertex_for_matrix_1 = np.random.choice(list(range(len(matrix_1))))\n",
    "        vertex_for_matrix_2_og = np.random.choice(list(range(len(matrix_2))))\n",
    "        vertex_2_to_change = vertex_for_matrix_2_og + len(matrix_1)\n",
    "        print(f\"vertex {vertex_for_matrix_1} from matrix_1 and {vertex_for_matrix_2_og} from matrix_2_were chosen\")\n",
    "        matrix_final = make_that_0_into_1_with_transpose(matrix_1_cp, vertex_for_matrix_1, vertex_2_to_change)\n",
    "        return matrix_final, vertex_for_matrix_1, vertex_for_matrix_2_og\n",
    "\n",
    "    else:\n",
    "        if vertex_from_matrix_1 is None:\n",
    "            vertex_for_matrix_1 = np.random.choice(list(range(len(matrix_1))))\n",
    "            vertex_2_to_change = vertex_from_matrix_2 + len(matrix_1)\n",
    "            print(f\"vertex {vertex_for_matrix_1} from matrix_1 and {vertex_from_matrix_2} from matrix_2_were chosen\")\n",
    "            matrix_final = make_that_0_into_1_with_transpose(matrix_1_cp, vertex_for_matrix_1, vertex_2_to_change)\n",
    "            return matrix_final, vertex_for_matrix_1, vertex_from_matrix_2\n",
    "            \n",
    "        else:\n",
    "            vertex_for_matrix_1 = vertex_from_matrix_1\n",
    "            vertex_2_to_change = vertex_from_matrix_2 + len(matrix_1)\n",
    "            print(f\"vertex {vertex_for_matrix_1} from matrix_1 and {vertex_from_matrix_2} from matrix_2_were chosen\")\n",
    "            matrix_final = make_that_0_into_1_with_transpose(matrix_1_cp, vertex_for_matrix_1, vertex_2_to_change)\n",
    "            return matrix_final, vertex_for_matrix_1, vertex_from_matrix_2\n",
    "\n"
   ]
  },
  {
   "cell_type": "code",
   "execution_count": 4,
   "id": "2400af2d-356a-49d3-a790-8652726e0033",
   "metadata": {},
   "outputs": [],
   "source": [
    "def diffusion_process(M, delta):\n",
    "    matrix = copy.deepcopy(M)\n",
    "    size = np.array(matrix).shape[0]\n",
    "    m = np.identity(size)\n",
    "    first_half = (1-delta) * m\n",
    "    second_half = return_deg(M, delta)\n",
    "    return (first_half + second_half)\n",
    "    \n",
    "\n",
    "def return_deg(matrix, delta):\n",
    "    ma = copy.deepcopy(matrix)\n",
    "    clean = copy.deepcopy(matrix)\n",
    "    for i in ma:\n",
    "        deg = sum(i)\n",
    "        for v, num in enumerate(i):\n",
    "            i[v] = num / deg\n",
    "    ma = np.matrix.transpose(np.array(ma))\n",
    "    return (delta *ma) "
   ]
  },
  {
   "cell_type": "code",
   "execution_count": 12,
   "id": "e6256ab2-7ea6-47d6-9e60-3f2a80ff59ce",
   "metadata": {
    "scrolled": true
   },
   "outputs": [
    {
     "ename": "KeyboardInterrupt",
     "evalue": "",
     "output_type": "error",
     "traceback": [
      "\u001b[0;31m---------------------------------------------------------------------------\u001b[0m",
      "\u001b[0;31mKeyboardInterrupt\u001b[0m                         Traceback (most recent call last)",
      "\u001b[0;32m/tmp/ipykernel_131280/2285463846.py\u001b[0m in \u001b[0;36m<module>\u001b[0;34m\u001b[0m\n\u001b[1;32m      9\u001b[0m \u001b[0mtolerance\u001b[0m \u001b[0;34m=\u001b[0m \u001b[0;36m1e-5\u001b[0m\u001b[0;34m\u001b[0m\u001b[0;34m\u001b[0m\u001b[0m\n\u001b[1;32m     10\u001b[0m \u001b[0;32mfor\u001b[0m \u001b[0m_\u001b[0m \u001b[0;32min\u001b[0m \u001b[0mrange\u001b[0m\u001b[0;34m(\u001b[0m\u001b[0;36m20\u001b[0m\u001b[0;34m)\u001b[0m\u001b[0;34m:\u001b[0m\u001b[0;34m\u001b[0m\u001b[0;34m\u001b[0m\u001b[0m\n\u001b[0;32m---> 11\u001b[0;31m     \u001b[0mx\u001b[0m\u001b[0;34m,\u001b[0m\u001b[0my\u001b[0m \u001b[0;34m=\u001b[0m \u001b[0mcalculate_u_new\u001b[0m\u001b[0;34m(\u001b[0m\u001b[0mmatrix\u001b[0m\u001b[0;34m,\u001b[0m \u001b[0mu_old\u001b[0m \u001b[0;34m=\u001b[0m \u001b[0mu_old\u001b[0m\u001b[0;34m,\u001b[0m \u001b[0mcenters\u001b[0m \u001b[0;34m=\u001b[0m \u001b[0mcenters\u001b[0m\u001b[0;34m)\u001b[0m\u001b[0;34m\u001b[0m\u001b[0;34m\u001b[0m\u001b[0m\n\u001b[0m\u001b[1;32m     12\u001b[0m     \u001b[0mcenters\u001b[0m \u001b[0;34m=\u001b[0m \u001b[0my\u001b[0m\u001b[0;34m\u001b[0m\u001b[0;34m\u001b[0m\u001b[0m\n\u001b[1;32m     13\u001b[0m     \u001b[0mvalue\u001b[0m \u001b[0;34m=\u001b[0m \u001b[0mnp\u001b[0m\u001b[0;34m.\u001b[0m\u001b[0mmatmul\u001b[0m\u001b[0;34m(\u001b[0m\u001b[0mmatri\u001b[0m\u001b[0;34m,\u001b[0m \u001b[0mnp\u001b[0m\u001b[0;34m.\u001b[0m\u001b[0marray\u001b[0m\u001b[0;34m(\u001b[0m\u001b[0mx\u001b[0m\u001b[0;34m)\u001b[0m\u001b[0;34m)\u001b[0m\u001b[0;34m\u001b[0m\u001b[0;34m\u001b[0m\u001b[0m\n",
      "\u001b[0;32m/tmp/ipykernel_131280/812122930.py\u001b[0m in \u001b[0;36mcalculate_u_new\u001b[0;34m(matrix, u_old, centers)\u001b[0m\n\u001b[1;32m    142\u001b[0m             \u001b[0;32mfor\u001b[0m \u001b[0mj\u001b[0m \u001b[0;32min\u001b[0m \u001b[0mrange\u001b[0m\u001b[0;34m(\u001b[0m\u001b[0;36m0\u001b[0m\u001b[0;34m,\u001b[0m \u001b[0mrow_count\u001b[0m\u001b[0;34m)\u001b[0m\u001b[0;34m:\u001b[0m\u001b[0;34m\u001b[0m\u001b[0;34m\u001b[0m\u001b[0m\n\u001b[1;32m    143\u001b[0m                 \u001b[0;32mfor\u001b[0m \u001b[0mk\u001b[0m \u001b[0;32min\u001b[0m \u001b[0mrange\u001b[0m\u001b[0;34m(\u001b[0m\u001b[0;36m0\u001b[0m\u001b[0;34m,\u001b[0m \u001b[0mrow_count\u001b[0m\u001b[0;34m)\u001b[0m\u001b[0;34m:\u001b[0m\u001b[0;34m\u001b[0m\u001b[0;34m\u001b[0m\u001b[0m\n\u001b[0;32m--> 144\u001b[0;31m                     \u001b[0mcenter\u001b[0m \u001b[0;34m=\u001b[0m \u001b[0mfind_barycenter_prob\u001b[0m\u001b[0;34m(\u001b[0m\u001b[0mmatrix\u001b[0m\u001b[0;34m,\u001b[0m \u001b[0mvertex_to_remove\u001b[0m\u001b[0;34m=\u001b[0m\u001b[0;34m[\u001b[0m\u001b[0mi\u001b[0m\u001b[0;34m,\u001b[0m \u001b[0mj\u001b[0m\u001b[0;34m,\u001b[0m \u001b[0mk\u001b[0m\u001b[0;34m]\u001b[0m\u001b[0;34m)\u001b[0m\u001b[0;34m\u001b[0m\u001b[0;34m\u001b[0m\u001b[0m\n\u001b[0m\u001b[1;32m    145\u001b[0m                     \u001b[0mno_change_center\u001b[0m \u001b[0;34m=\u001b[0m \u001b[0;34m[\u001b[0m\u001b[0mi\u001b[0m\u001b[0;34m,\u001b[0m\u001b[0mj\u001b[0m\u001b[0;34m,\u001b[0m\u001b[0mk\u001b[0m\u001b[0;34m,\u001b[0m\u001b[0mcenter\u001b[0m\u001b[0;34m]\u001b[0m\u001b[0;34m\u001b[0m\u001b[0;34m\u001b[0m\u001b[0m\n\u001b[1;32m    146\u001b[0m                     \u001b[0mu_new\u001b[0m\u001b[0;34m[\u001b[0m\u001b[0mcenter\u001b[0m\u001b[0;34m]\u001b[0m \u001b[0;34m+=\u001b[0m \u001b[0mu_old\u001b[0m\u001b[0;34m[\u001b[0m\u001b[0mi\u001b[0m\u001b[0;34m]\u001b[0m \u001b[0;34m*\u001b[0m \u001b[0mu_old\u001b[0m\u001b[0;34m[\u001b[0m\u001b[0mj\u001b[0m\u001b[0;34m]\u001b[0m \u001b[0;34m*\u001b[0m \u001b[0mu_old\u001b[0m\u001b[0;34m[\u001b[0m\u001b[0mk\u001b[0m\u001b[0;34m]\u001b[0m\u001b[0;34m\u001b[0m\u001b[0;34m\u001b[0m\u001b[0m\n",
      "\u001b[0;32m/tmp/ipykernel_131280/812122930.py\u001b[0m in \u001b[0;36mfind_barycenter_prob\u001b[0;34m(matrix, vertex_to_remove)\u001b[0m\n\u001b[1;32m      1\u001b[0m \u001b[0;32mdef\u001b[0m \u001b[0mfind_barycenter_prob\u001b[0m\u001b[0;34m(\u001b[0m\u001b[0mmatrix\u001b[0m\u001b[0;34m,\u001b[0m \u001b[0mvertex_to_remove\u001b[0m\u001b[0;34m)\u001b[0m\u001b[0;34m:\u001b[0m\u001b[0;34m\u001b[0m\u001b[0;34m\u001b[0m\u001b[0m\n\u001b[1;32m      2\u001b[0m \u001b[0;34m\u001b[0m\u001b[0m\n\u001b[0;32m----> 3\u001b[0;31m     \u001b[0mmatrix_copy\u001b[0m \u001b[0;34m=\u001b[0m \u001b[0mcopy\u001b[0m\u001b[0;34m.\u001b[0m\u001b[0mdeepcopy\u001b[0m\u001b[0;34m(\u001b[0m\u001b[0mmatrix\u001b[0m\u001b[0;34m)\u001b[0m\u001b[0;34m\u001b[0m\u001b[0;34m\u001b[0m\u001b[0m\n\u001b[0m\u001b[1;32m      4\u001b[0m \u001b[0;34m\u001b[0m\u001b[0m\n\u001b[1;32m      5\u001b[0m     \u001b[0mrow_c\u001b[0m \u001b[0;34m=\u001b[0m \u001b[0;34m[\u001b[0m\u001b[0;36m0\u001b[0m\u001b[0;34m,\u001b[0m \u001b[0;36m1\u001b[0m\u001b[0;34m]\u001b[0m\u001b[0;34m\u001b[0m\u001b[0;34m\u001b[0m\u001b[0m\n",
      "\u001b[0;32m/usr/lib/python3.10/copy.py\u001b[0m in \u001b[0;36mdeepcopy\u001b[0;34m(x, memo, _nil)\u001b[0m\n\u001b[1;32m    144\u001b[0m     \u001b[0mcopier\u001b[0m \u001b[0;34m=\u001b[0m \u001b[0m_deepcopy_dispatch\u001b[0m\u001b[0;34m.\u001b[0m\u001b[0mget\u001b[0m\u001b[0;34m(\u001b[0m\u001b[0mcls\u001b[0m\u001b[0;34m)\u001b[0m\u001b[0;34m\u001b[0m\u001b[0;34m\u001b[0m\u001b[0m\n\u001b[1;32m    145\u001b[0m     \u001b[0;32mif\u001b[0m \u001b[0mcopier\u001b[0m \u001b[0;32mis\u001b[0m \u001b[0;32mnot\u001b[0m \u001b[0;32mNone\u001b[0m\u001b[0;34m:\u001b[0m\u001b[0;34m\u001b[0m\u001b[0;34m\u001b[0m\u001b[0m\n\u001b[0;32m--> 146\u001b[0;31m         \u001b[0my\u001b[0m \u001b[0;34m=\u001b[0m \u001b[0mcopier\u001b[0m\u001b[0;34m(\u001b[0m\u001b[0mx\u001b[0m\u001b[0;34m,\u001b[0m \u001b[0mmemo\u001b[0m\u001b[0;34m)\u001b[0m\u001b[0;34m\u001b[0m\u001b[0;34m\u001b[0m\u001b[0m\n\u001b[0m\u001b[1;32m    147\u001b[0m     \u001b[0;32melse\u001b[0m\u001b[0;34m:\u001b[0m\u001b[0;34m\u001b[0m\u001b[0;34m\u001b[0m\u001b[0m\n\u001b[1;32m    148\u001b[0m         \u001b[0;32mif\u001b[0m \u001b[0missubclass\u001b[0m\u001b[0;34m(\u001b[0m\u001b[0mcls\u001b[0m\u001b[0;34m,\u001b[0m \u001b[0mtype\u001b[0m\u001b[0;34m)\u001b[0m\u001b[0;34m:\u001b[0m\u001b[0;34m\u001b[0m\u001b[0;34m\u001b[0m\u001b[0m\n",
      "\u001b[0;32m/usr/lib/python3.10/copy.py\u001b[0m in \u001b[0;36m_deepcopy_list\u001b[0;34m(x, memo, deepcopy)\u001b[0m\n\u001b[1;32m    204\u001b[0m     \u001b[0mappend\u001b[0m \u001b[0;34m=\u001b[0m \u001b[0my\u001b[0m\u001b[0;34m.\u001b[0m\u001b[0mappend\u001b[0m\u001b[0;34m\u001b[0m\u001b[0;34m\u001b[0m\u001b[0m\n\u001b[1;32m    205\u001b[0m     \u001b[0;32mfor\u001b[0m \u001b[0ma\u001b[0m \u001b[0;32min\u001b[0m \u001b[0mx\u001b[0m\u001b[0;34m:\u001b[0m\u001b[0;34m\u001b[0m\u001b[0;34m\u001b[0m\u001b[0m\n\u001b[0;32m--> 206\u001b[0;31m         \u001b[0mappend\u001b[0m\u001b[0;34m(\u001b[0m\u001b[0mdeepcopy\u001b[0m\u001b[0;34m(\u001b[0m\u001b[0ma\u001b[0m\u001b[0;34m,\u001b[0m \u001b[0mmemo\u001b[0m\u001b[0;34m)\u001b[0m\u001b[0;34m)\u001b[0m\u001b[0;34m\u001b[0m\u001b[0;34m\u001b[0m\u001b[0m\n\u001b[0m\u001b[1;32m    207\u001b[0m     \u001b[0;32mreturn\u001b[0m \u001b[0my\u001b[0m\u001b[0;34m\u001b[0m\u001b[0;34m\u001b[0m\u001b[0m\n\u001b[1;32m    208\u001b[0m \u001b[0md\u001b[0m\u001b[0;34m[\u001b[0m\u001b[0mlist\u001b[0m\u001b[0;34m]\u001b[0m \u001b[0;34m=\u001b[0m \u001b[0m_deepcopy_list\u001b[0m\u001b[0;34m\u001b[0m\u001b[0;34m\u001b[0m\u001b[0m\n",
      "\u001b[0;32m/usr/lib/python3.10/copy.py\u001b[0m in \u001b[0;36mdeepcopy\u001b[0;34m(x, memo, _nil)\u001b[0m\n\u001b[1;32m    144\u001b[0m     \u001b[0mcopier\u001b[0m \u001b[0;34m=\u001b[0m \u001b[0m_deepcopy_dispatch\u001b[0m\u001b[0;34m.\u001b[0m\u001b[0mget\u001b[0m\u001b[0;34m(\u001b[0m\u001b[0mcls\u001b[0m\u001b[0;34m)\u001b[0m\u001b[0;34m\u001b[0m\u001b[0;34m\u001b[0m\u001b[0m\n\u001b[1;32m    145\u001b[0m     \u001b[0;32mif\u001b[0m \u001b[0mcopier\u001b[0m \u001b[0;32mis\u001b[0m \u001b[0;32mnot\u001b[0m \u001b[0;32mNone\u001b[0m\u001b[0;34m:\u001b[0m\u001b[0;34m\u001b[0m\u001b[0;34m\u001b[0m\u001b[0m\n\u001b[0;32m--> 146\u001b[0;31m         \u001b[0my\u001b[0m \u001b[0;34m=\u001b[0m \u001b[0mcopier\u001b[0m\u001b[0;34m(\u001b[0m\u001b[0mx\u001b[0m\u001b[0;34m,\u001b[0m \u001b[0mmemo\u001b[0m\u001b[0;34m)\u001b[0m\u001b[0;34m\u001b[0m\u001b[0;34m\u001b[0m\u001b[0m\n\u001b[0m\u001b[1;32m    147\u001b[0m     \u001b[0;32melse\u001b[0m\u001b[0;34m:\u001b[0m\u001b[0;34m\u001b[0m\u001b[0;34m\u001b[0m\u001b[0m\n\u001b[1;32m    148\u001b[0m         \u001b[0;32mif\u001b[0m \u001b[0missubclass\u001b[0m\u001b[0;34m(\u001b[0m\u001b[0mcls\u001b[0m\u001b[0;34m,\u001b[0m \u001b[0mtype\u001b[0m\u001b[0;34m)\u001b[0m\u001b[0;34m:\u001b[0m\u001b[0;34m\u001b[0m\u001b[0;34m\u001b[0m\u001b[0m\n",
      "\u001b[0;32m/usr/lib/python3.10/copy.py\u001b[0m in \u001b[0;36m_deepcopy_list\u001b[0;34m(x, memo, deepcopy)\u001b[0m\n\u001b[1;32m    204\u001b[0m     \u001b[0mappend\u001b[0m \u001b[0;34m=\u001b[0m \u001b[0my\u001b[0m\u001b[0;34m.\u001b[0m\u001b[0mappend\u001b[0m\u001b[0;34m\u001b[0m\u001b[0;34m\u001b[0m\u001b[0m\n\u001b[1;32m    205\u001b[0m     \u001b[0;32mfor\u001b[0m \u001b[0ma\u001b[0m \u001b[0;32min\u001b[0m \u001b[0mx\u001b[0m\u001b[0;34m:\u001b[0m\u001b[0;34m\u001b[0m\u001b[0;34m\u001b[0m\u001b[0m\n\u001b[0;32m--> 206\u001b[0;31m         \u001b[0mappend\u001b[0m\u001b[0;34m(\u001b[0m\u001b[0mdeepcopy\u001b[0m\u001b[0;34m(\u001b[0m\u001b[0ma\u001b[0m\u001b[0;34m,\u001b[0m \u001b[0mmemo\u001b[0m\u001b[0;34m)\u001b[0m\u001b[0;34m)\u001b[0m\u001b[0;34m\u001b[0m\u001b[0;34m\u001b[0m\u001b[0m\n\u001b[0m\u001b[1;32m    207\u001b[0m     \u001b[0;32mreturn\u001b[0m \u001b[0my\u001b[0m\u001b[0;34m\u001b[0m\u001b[0;34m\u001b[0m\u001b[0m\n\u001b[1;32m    208\u001b[0m \u001b[0md\u001b[0m\u001b[0;34m[\u001b[0m\u001b[0mlist\u001b[0m\u001b[0;34m]\u001b[0m \u001b[0;34m=\u001b[0m \u001b[0m_deepcopy_list\u001b[0m\u001b[0;34m\u001b[0m\u001b[0;34m\u001b[0m\u001b[0m\n",
      "\u001b[0;32m/usr/lib/python3.10/copy.py\u001b[0m in \u001b[0;36mdeepcopy\u001b[0;34m(x, memo, _nil)\u001b[0m\n\u001b[1;32m    136\u001b[0m \u001b[0;34m\u001b[0m\u001b[0m\n\u001b[1;32m    137\u001b[0m     \u001b[0md\u001b[0m \u001b[0;34m=\u001b[0m \u001b[0mid\u001b[0m\u001b[0;34m(\u001b[0m\u001b[0mx\u001b[0m\u001b[0;34m)\u001b[0m\u001b[0;34m\u001b[0m\u001b[0;34m\u001b[0m\u001b[0m\n\u001b[0;32m--> 138\u001b[0;31m     \u001b[0my\u001b[0m \u001b[0;34m=\u001b[0m \u001b[0mmemo\u001b[0m\u001b[0;34m.\u001b[0m\u001b[0mget\u001b[0m\u001b[0;34m(\u001b[0m\u001b[0md\u001b[0m\u001b[0;34m,\u001b[0m \u001b[0m_nil\u001b[0m\u001b[0;34m)\u001b[0m\u001b[0;34m\u001b[0m\u001b[0;34m\u001b[0m\u001b[0m\n\u001b[0m\u001b[1;32m    139\u001b[0m     \u001b[0;32mif\u001b[0m \u001b[0my\u001b[0m \u001b[0;32mis\u001b[0m \u001b[0;32mnot\u001b[0m \u001b[0m_nil\u001b[0m\u001b[0;34m:\u001b[0m\u001b[0;34m\u001b[0m\u001b[0;34m\u001b[0m\u001b[0m\n\u001b[1;32m    140\u001b[0m         \u001b[0;32mreturn\u001b[0m \u001b[0my\u001b[0m\u001b[0;34m\u001b[0m\u001b[0;34m\u001b[0m\u001b[0m\n",
      "\u001b[0;31mKeyboardInterrupt\u001b[0m: "
     ]
    }
   ],
   "source": [
    "centers = None\n",
    "u_old = None\n",
    "matrix = matrix_uniform_attachment(15)\n",
    "delta = 0.3\n",
    "matri = diffusion_process(matrix, delta)\n",
    "iterations_done = 0\n",
    "last_four_value = []\n",
    "\n",
    "tolerance = 1e-5\n",
    "for _ in range(20):\n",
    "    x,y = calculate_u_new(matrix, u_old = u_old, centers = centers)\n",
    "    centers = y\n",
    "    value = np.matmul(matri, np.array(x))\n",
    "    u_old = value\n",
    "    entropy = entropy_calculator(value)\n",
    "\n",
    "    if len(last_four_value) < 4:\n",
    "        last_four_value.append(entropy)\n",
    "    elif len(last_four_value) >= 4:\n",
    "        last_four_value.remove(last_four_value[0])\n",
    "        last_four_value.append(entropy)\n",
    "\n",
    "\n",
    "    iterations_done+=1\n",
    "    if len(last_four_value) >= 4:\n",
    "        diffs = [np.linalg.norm(last_four_value[i] - last_four_value[i - 1]) for i in range(1, 4)]\n",
    "        if np.mean(diffs) < tolerance:\n",
    "            break\n",
    "\n",
    "\n",
    "\n",
    "        "
   ]
  },
  {
   "cell_type": "code",
   "execution_count": null,
   "id": "e341a89e-ee88-433a-b8fa-a847b4ac8689",
   "metadata": {},
   "outputs": [],
   "source": []
  },
  {
   "cell_type": "code",
   "execution_count": null,
   "id": "244fc102-3c02-4ee6-94b8-a4ef2daa62ba",
   "metadata": {},
   "outputs": [],
   "source": []
  },
  {
   "cell_type": "code",
   "execution_count": null,
   "id": "5295ad9e-afd6-42c6-949f-e8084dd9caa3",
   "metadata": {},
   "outputs": [],
   "source": []
  },
  {
   "cell_type": "code",
   "execution_count": 26,
   "id": "6e2ba88c-4e52-41c2-b272-9507fc84a205",
   "metadata": {},
   "outputs": [],
   "source": [
    "def main_guy(delta,model_type, matrix_size=15, tolerance=1e-5, max_tolerance = 40):\n",
    "    \"\"\"for model type, put either random_uni, straight_line, tree_3, note that for tree_3 it's iterations done\"\"\"\n",
    "    centers = None\n",
    "    u_old = None\n",
    "    last_before_u = None\n",
    "\n",
    "    if model_type == \"random_uni\":\n",
    "        matrix = matrix_uniform_attachment(matrix_size)\n",
    "\n",
    "    elif model_type == \"straight_line\":\n",
    "        matrix = create_line_tree_adjacency_matrix(matrix_size)\n",
    "    elif model_type == \"tree_3\":\n",
    "        matrix = final_3_reg_tree(matrix_size)\n",
    "    matri = diffusion_process(matrix, delta)\n",
    "    iterations_done = 0\n",
    "    last_four_value = []\n",
    "\n",
    "    start_time = time.time()\n",
    "    pbar = tqdm(total=max_tolerance, desc=\"Processing Iterations\", unit=\"step\") \n",
    "\n",
    "    for _ in range(max_tolerance):\n",
    "        x, y = calculate_u_new(matrix, u_old=u_old, centers=centers)\n",
    "        centers = y\n",
    "        value = np.matmul(matri, np.array(x))\n",
    "\n",
    "        u_old = value\n",
    "        entropy = entropy_calculator(value)\n",
    "\n",
    "\n",
    "        if entropy < 0.1:\n",
    "            pbar.n = pbar.total\n",
    "            pbar.update(0)\n",
    "            break\n",
    "            \n",
    "        \n",
    "\n",
    "        if len(last_four_value) < 4:\n",
    "            last_four_value.append(entropy)\n",
    "        else:\n",
    "            last_four_value.pop(0)  \n",
    "            last_four_value.append(entropy)\n",
    "\n",
    "        iterations_done += 1\n",
    "\n",
    "        elapsed_time = time.time() - start_time\n",
    "        pbar.set_description(f\"Processing Iterations | Time: {elapsed_time:.2f}s\")\n",
    "        pbar.update(1)  \n",
    "\n",
    "        if len(last_four_value) >= 4:\n",
    "            diffs = [np.linalg.norm(last_four_value[i] - last_four_value[i - 1]) for i in range(1, 4)]\n",
    "            if np.mean(diffs) < tolerance:\n",
    "                pbar.n = pbar.total\n",
    "                pbar.update(0)\n",
    "                break\n",
    "\n",
    "    pbar.close()\n",
    "\n",
    "\n",
    "    return u_old, iterations_done, np.mean(last_four_value)\n",
    "\n",
    "def make_gif(df):\n",
    "    os.makedirs('frames', exist_ok=True)\n",
    "    folder_path = \"gifs\"\n",
    "    os.makedirs(folder_path, exist_ok=True)\n",
    "    \n",
    "    filenames = []\n",
    "\n",
    "    for i in range(len(df)):\n",
    "        frame_path = f'frames/frame_{i:03d}.png'\n",
    "        filenames.append(frame_path)\n",
    "        \n",
    "        fig, ax = plt.subplots(figsize=(14, 12))\n",
    "        \n",
    "        vertex = df.iloc[i]['vertex']\n",
    "        u_old = df.iloc[i]['u_old']\n",
    "        u_old = [i/sum(u_old) for i in u_old]\n",
    "        \n",
    "        ax.bar(range(vertex), u_old)\n",
    "        ax.set_xlabel('vertex')\n",
    "        ax.set_ylabel('Prob')\n",
    "        ax.set_title(f\"Prob distribution vs. Delta, Vertex count is {df['vertex'][0]}, \"\n",
    "                     f\"Initial entropy: {round(np.log(df['vertex'][0]), 3)}\")\n",
    "\n",
    "        ax.set_ylim(0, max(u_old) + 1)\n",
    "        ticks = np.arange(0, max(u_old) + 0.01, 1)\n",
    "        ax.set_yticks(ticks)\n",
    "        ax.legend([f\"delta is {df.delta[i]}\"])\n",
    "        \n",
    "        fig.savefig(frame_path)\n",
    "        plt.close(fig)\n",
    "    \n",
    "    filename = f\"Prob distribution vs. Delta, Vertex count is {df['vertex'][0]}, and initial entropy is {round(np.log(df['vertex'][0]), 3)}\"\n",
    "    gif_filename = f\"{folder_path}/{filename}.gif\"\n",
    "    \n",
    "    with imageio.get_writer(gif_filename, mode='I', duration=4.0, loop = 0) as writer:\n",
    "        for filename in filenames:\n",
    "            image = imageio.imread(filename)\n",
    "            writer.append_data(image)\n",
    "    \n",
    "\n",
    "    for filename in filenames:\n",
    "        os.remove(filename)\n",
    "    \n",
    "    print(f\"GIF saved as '{gif_filename}'\")"
   ]
  },
  {
   "cell_type": "code",
   "execution_count": null,
   "id": "57b5d72d-f53c-4a78-9b0e-f8d1da413aae",
   "metadata": {},
   "outputs": [],
   "source": []
  },
  {
   "cell_type": "code",
   "execution_count": 57,
   "id": "0cff180b-1322-4312-beb4-596165ad6bed",
   "metadata": {
    "scrolled": true
   },
   "outputs": [],
   "source": [
    "delta_range = [0.1, 0.2, 0.3, 0.4, 0.5, 0.6, 0.7, 0.8, 0.9]\n",
    "matrix_sizes = list(range(10, 11))\n",
    "matrix_sizes_2 =list(range(15, 16))\n",
    "def boss_runner(delta_range, matrix_sizes, tolerance = 1e-3, model_type = \"straight_line\"):\n",
    "\n",
    "    all_data = []\n",
    "    \n",
    "    for matrix_size in matrix_sizes:   \n",
    "        iteration = []\n",
    "        for delta in delta_range:\n",
    "            for _ in range(10):\n",
    "                local_it = []\n",
    "                local_entropy = []\n",
    "                u_new, iterr, entropy = main_guy(delta, model_type=model_type, matrix_size=matrix_size, tolerance=tolerance)\n",
    "                local_it.append(iterr)\n",
    "                local_entropy.append(entropy)\n",
    "            iteration.append({'delta':delta ,\n",
    "                              'vertex':matrix_size,\n",
    "                            'iterration':np.mean(local_it),\n",
    "                            'entropy': np.mean(local_entropy),\n",
    "                             'u_old' : u_new})\n",
    "    \n",
    "        all_data.append(iteration)\n",
    "        df = pd.DataFrame(iteration)\n",
    "        test_df = df\n",
    "        make_gif(df)\n",
    "\n",
    "    \n",
    "    return all_data, df"
   ]
  },
  {
   "cell_type": "code",
   "execution_count": 58,
   "id": "3036e976-381d-4b99-a136-df691241d144",
   "metadata": {
    "scrolled": true
   },
   "outputs": [
    {
     "data": {
      "application/vnd.jupyter.widget-view+json": {
       "model_id": "1ed773d705324e5fb65fbaf98cfb616f",
       "version_major": 2,
       "version_minor": 0
      },
      "text/plain": [
       "Processing Iterations:   0%|          | 0/40 [00:00<?, ?step/s]"
      ]
     },
     "metadata": {},
     "output_type": "display_data"
    },
    {
     "data": {
      "application/vnd.jupyter.widget-view+json": {
       "model_id": "0ea63512ad4243c7a34c573bc1181f48",
       "version_major": 2,
       "version_minor": 0
      },
      "text/plain": [
       "Processing Iterations:   0%|          | 0/40 [00:00<?, ?step/s]"
      ]
     },
     "metadata": {},
     "output_type": "display_data"
    },
    {
     "data": {
      "application/vnd.jupyter.widget-view+json": {
       "model_id": "718476d4a7584d2bb99764a9022763b4",
       "version_major": 2,
       "version_minor": 0
      },
      "text/plain": [
       "Processing Iterations:   0%|          | 0/40 [00:00<?, ?step/s]"
      ]
     },
     "metadata": {},
     "output_type": "display_data"
    },
    {
     "data": {
      "application/vnd.jupyter.widget-view+json": {
       "model_id": "fb2838d2e45148549d6d16e978583a86",
       "version_major": 2,
       "version_minor": 0
      },
      "text/plain": [
       "Processing Iterations:   0%|          | 0/40 [00:00<?, ?step/s]"
      ]
     },
     "metadata": {},
     "output_type": "display_data"
    },
    {
     "data": {
      "application/vnd.jupyter.widget-view+json": {
       "model_id": "d476444800344abb86ae8f13eefe8ac1",
       "version_major": 2,
       "version_minor": 0
      },
      "text/plain": [
       "Processing Iterations:   0%|          | 0/40 [00:00<?, ?step/s]"
      ]
     },
     "metadata": {},
     "output_type": "display_data"
    },
    {
     "data": {
      "application/vnd.jupyter.widget-view+json": {
       "model_id": "0d96bf0581d64dee85c37f681ed6943a",
       "version_major": 2,
       "version_minor": 0
      },
      "text/plain": [
       "Processing Iterations:   0%|          | 0/40 [00:00<?, ?step/s]"
      ]
     },
     "metadata": {},
     "output_type": "display_data"
    },
    {
     "data": {
      "application/vnd.jupyter.widget-view+json": {
       "model_id": "e40703d652dd4c7a8801d94509599a39",
       "version_major": 2,
       "version_minor": 0
      },
      "text/plain": [
       "Processing Iterations:   0%|          | 0/40 [00:00<?, ?step/s]"
      ]
     },
     "metadata": {},
     "output_type": "display_data"
    },
    {
     "data": {
      "application/vnd.jupyter.widget-view+json": {
       "model_id": "f3953ee6b11b462a9f3907c6756e7de4",
       "version_major": 2,
       "version_minor": 0
      },
      "text/plain": [
       "Processing Iterations:   0%|          | 0/40 [00:00<?, ?step/s]"
      ]
     },
     "metadata": {},
     "output_type": "display_data"
    },
    {
     "data": {
      "application/vnd.jupyter.widget-view+json": {
       "model_id": "31af968b7df040648fcfa6e82d5932be",
       "version_major": 2,
       "version_minor": 0
      },
      "text/plain": [
       "Processing Iterations:   0%|          | 0/40 [00:00<?, ?step/s]"
      ]
     },
     "metadata": {},
     "output_type": "display_data"
    },
    {
     "data": {
      "application/vnd.jupyter.widget-view+json": {
       "model_id": "ae3ff9c641054df59160b9ff98ad0c2c",
       "version_major": 2,
       "version_minor": 0
      },
      "text/plain": [
       "Processing Iterations:   0%|          | 0/40 [00:00<?, ?step/s]"
      ]
     },
     "metadata": {},
     "output_type": "display_data"
    },
    {
     "data": {
      "application/vnd.jupyter.widget-view+json": {
       "model_id": "a319b35a552745839c51f22b1373faa9",
       "version_major": 2,
       "version_minor": 0
      },
      "text/plain": [
       "Processing Iterations:   0%|          | 0/40 [00:00<?, ?step/s]"
      ]
     },
     "metadata": {},
     "output_type": "display_data"
    },
    {
     "data": {
      "application/vnd.jupyter.widget-view+json": {
       "model_id": "699a1cc4d78844b9964fbfd7f1a69caa",
       "version_major": 2,
       "version_minor": 0
      },
      "text/plain": [
       "Processing Iterations:   0%|          | 0/40 [00:00<?, ?step/s]"
      ]
     },
     "metadata": {},
     "output_type": "display_data"
    },
    {
     "data": {
      "application/vnd.jupyter.widget-view+json": {
       "model_id": "c559e629b8d847788d13b7bbe5ec13c8",
       "version_major": 2,
       "version_minor": 0
      },
      "text/plain": [
       "Processing Iterations:   0%|          | 0/40 [00:00<?, ?step/s]"
      ]
     },
     "metadata": {},
     "output_type": "display_data"
    },
    {
     "data": {
      "application/vnd.jupyter.widget-view+json": {
       "model_id": "c4f061bb44c14e13ad55ceb18a4c5f5f",
       "version_major": 2,
       "version_minor": 0
      },
      "text/plain": [
       "Processing Iterations:   0%|          | 0/40 [00:00<?, ?step/s]"
      ]
     },
     "metadata": {},
     "output_type": "display_data"
    },
    {
     "data": {
      "application/vnd.jupyter.widget-view+json": {
       "model_id": "b89995f101f148d5b60db25e92b1c6e8",
       "version_major": 2,
       "version_minor": 0
      },
      "text/plain": [
       "Processing Iterations:   0%|          | 0/40 [00:00<?, ?step/s]"
      ]
     },
     "metadata": {},
     "output_type": "display_data"
    },
    {
     "data": {
      "application/vnd.jupyter.widget-view+json": {
       "model_id": "9476fae8ea5e448ca6f11a8bcfb99619",
       "version_major": 2,
       "version_minor": 0
      },
      "text/plain": [
       "Processing Iterations:   0%|          | 0/40 [00:00<?, ?step/s]"
      ]
     },
     "metadata": {},
     "output_type": "display_data"
    },
    {
     "data": {
      "application/vnd.jupyter.widget-view+json": {
       "model_id": "064df6a2d4e34b7a9ff157c6e976d318",
       "version_major": 2,
       "version_minor": 0
      },
      "text/plain": [
       "Processing Iterations:   0%|          | 0/40 [00:00<?, ?step/s]"
      ]
     },
     "metadata": {},
     "output_type": "display_data"
    },
    {
     "data": {
      "application/vnd.jupyter.widget-view+json": {
       "model_id": "614351e48471410aafcf041333452cbe",
       "version_major": 2,
       "version_minor": 0
      },
      "text/plain": [
       "Processing Iterations:   0%|          | 0/40 [00:00<?, ?step/s]"
      ]
     },
     "metadata": {},
     "output_type": "display_data"
    },
    {
     "data": {
      "application/vnd.jupyter.widget-view+json": {
       "model_id": "727c2cb7e3b843039e54f274f05b7e94",
       "version_major": 2,
       "version_minor": 0
      },
      "text/plain": [
       "Processing Iterations:   0%|          | 0/40 [00:00<?, ?step/s]"
      ]
     },
     "metadata": {},
     "output_type": "display_data"
    },
    {
     "data": {
      "application/vnd.jupyter.widget-view+json": {
       "model_id": "d60453fd95654fe29379fa09c51068d1",
       "version_major": 2,
       "version_minor": 0
      },
      "text/plain": [
       "Processing Iterations:   0%|          | 0/40 [00:00<?, ?step/s]"
      ]
     },
     "metadata": {},
     "output_type": "display_data"
    },
    {
     "data": {
      "application/vnd.jupyter.widget-view+json": {
       "model_id": "60e3291180e24e8dbdd6e5b47be3f809",
       "version_major": 2,
       "version_minor": 0
      },
      "text/plain": [
       "Processing Iterations:   0%|          | 0/40 [00:00<?, ?step/s]"
      ]
     },
     "metadata": {},
     "output_type": "display_data"
    },
    {
     "data": {
      "application/vnd.jupyter.widget-view+json": {
       "model_id": "5f48f6d443114606a2ea0ea8212570d0",
       "version_major": 2,
       "version_minor": 0
      },
      "text/plain": [
       "Processing Iterations:   0%|          | 0/40 [00:00<?, ?step/s]"
      ]
     },
     "metadata": {},
     "output_type": "display_data"
    },
    {
     "data": {
      "application/vnd.jupyter.widget-view+json": {
       "model_id": "ad1c0efeef414e158cdcd1945d5ecb2c",
       "version_major": 2,
       "version_minor": 0
      },
      "text/plain": [
       "Processing Iterations:   0%|          | 0/40 [00:00<?, ?step/s]"
      ]
     },
     "metadata": {},
     "output_type": "display_data"
    },
    {
     "data": {
      "application/vnd.jupyter.widget-view+json": {
       "model_id": "96dcca13e74a4f63811caca5c1adb72a",
       "version_major": 2,
       "version_minor": 0
      },
      "text/plain": [
       "Processing Iterations:   0%|          | 0/40 [00:00<?, ?step/s]"
      ]
     },
     "metadata": {},
     "output_type": "display_data"
    },
    {
     "data": {
      "application/vnd.jupyter.widget-view+json": {
       "model_id": "da9230fd0c0946aa93c65157869237be",
       "version_major": 2,
       "version_minor": 0
      },
      "text/plain": [
       "Processing Iterations:   0%|          | 0/40 [00:00<?, ?step/s]"
      ]
     },
     "metadata": {},
     "output_type": "display_data"
    },
    {
     "data": {
      "application/vnd.jupyter.widget-view+json": {
       "model_id": "395c2c22f2b0422c9e41e5b8103539e5",
       "version_major": 2,
       "version_minor": 0
      },
      "text/plain": [
       "Processing Iterations:   0%|          | 0/40 [00:00<?, ?step/s]"
      ]
     },
     "metadata": {},
     "output_type": "display_data"
    },
    {
     "data": {
      "application/vnd.jupyter.widget-view+json": {
       "model_id": "4a96b3c3ec574323b784b7b25bde0328",
       "version_major": 2,
       "version_minor": 0
      },
      "text/plain": [
       "Processing Iterations:   0%|          | 0/40 [00:00<?, ?step/s]"
      ]
     },
     "metadata": {},
     "output_type": "display_data"
    },
    {
     "data": {
      "application/vnd.jupyter.widget-view+json": {
       "model_id": "61d496d0cb9c4a20bc009cc86e317dcb",
       "version_major": 2,
       "version_minor": 0
      },
      "text/plain": [
       "Processing Iterations:   0%|          | 0/40 [00:00<?, ?step/s]"
      ]
     },
     "metadata": {},
     "output_type": "display_data"
    },
    {
     "data": {
      "application/vnd.jupyter.widget-view+json": {
       "model_id": "888936098a4a41cb8d80b7ab6b9c85f0",
       "version_major": 2,
       "version_minor": 0
      },
      "text/plain": [
       "Processing Iterations:   0%|          | 0/40 [00:00<?, ?step/s]"
      ]
     },
     "metadata": {},
     "output_type": "display_data"
    },
    {
     "data": {
      "application/vnd.jupyter.widget-view+json": {
       "model_id": "03ba56ca02d24553b3b3253260526ea1",
       "version_major": 2,
       "version_minor": 0
      },
      "text/plain": [
       "Processing Iterations:   0%|          | 0/40 [00:00<?, ?step/s]"
      ]
     },
     "metadata": {},
     "output_type": "display_data"
    },
    {
     "data": {
      "application/vnd.jupyter.widget-view+json": {
       "model_id": "2f30d8fc68524edf9a567f664ff03bd5",
       "version_major": 2,
       "version_minor": 0
      },
      "text/plain": [
       "Processing Iterations:   0%|          | 0/40 [00:00<?, ?step/s]"
      ]
     },
     "metadata": {},
     "output_type": "display_data"
    },
    {
     "data": {
      "application/vnd.jupyter.widget-view+json": {
       "model_id": "61babfa6518f4434bb882bf4310f15d8",
       "version_major": 2,
       "version_minor": 0
      },
      "text/plain": [
       "Processing Iterations:   0%|          | 0/40 [00:00<?, ?step/s]"
      ]
     },
     "metadata": {},
     "output_type": "display_data"
    },
    {
     "data": {
      "application/vnd.jupyter.widget-view+json": {
       "model_id": "2588c695a7674b25864796c6ebd84765",
       "version_major": 2,
       "version_minor": 0
      },
      "text/plain": [
       "Processing Iterations:   0%|          | 0/40 [00:00<?, ?step/s]"
      ]
     },
     "metadata": {},
     "output_type": "display_data"
    },
    {
     "data": {
      "application/vnd.jupyter.widget-view+json": {
       "model_id": "2a270e82046544fd8436f85ebef59d35",
       "version_major": 2,
       "version_minor": 0
      },
      "text/plain": [
       "Processing Iterations:   0%|          | 0/40 [00:00<?, ?step/s]"
      ]
     },
     "metadata": {},
     "output_type": "display_data"
    },
    {
     "data": {
      "application/vnd.jupyter.widget-view+json": {
       "model_id": "329d5906b0ba493397181112eb508480",
       "version_major": 2,
       "version_minor": 0
      },
      "text/plain": [
       "Processing Iterations:   0%|          | 0/40 [00:00<?, ?step/s]"
      ]
     },
     "metadata": {},
     "output_type": "display_data"
    },
    {
     "data": {
      "application/vnd.jupyter.widget-view+json": {
       "model_id": "a9973782a0ee41c0a05273316f8e39e5",
       "version_major": 2,
       "version_minor": 0
      },
      "text/plain": [
       "Processing Iterations:   0%|          | 0/40 [00:00<?, ?step/s]"
      ]
     },
     "metadata": {},
     "output_type": "display_data"
    },
    {
     "data": {
      "application/vnd.jupyter.widget-view+json": {
       "model_id": "88ac997324b44fa9a99243b8d4624cf4",
       "version_major": 2,
       "version_minor": 0
      },
      "text/plain": [
       "Processing Iterations:   0%|          | 0/40 [00:00<?, ?step/s]"
      ]
     },
     "metadata": {},
     "output_type": "display_data"
    },
    {
     "data": {
      "application/vnd.jupyter.widget-view+json": {
       "model_id": "4a7eb8fdedcd4db0a9a4c743e5a74a46",
       "version_major": 2,
       "version_minor": 0
      },
      "text/plain": [
       "Processing Iterations:   0%|          | 0/40 [00:00<?, ?step/s]"
      ]
     },
     "metadata": {},
     "output_type": "display_data"
    },
    {
     "data": {
      "application/vnd.jupyter.widget-view+json": {
       "model_id": "54e8e582335d4cc7add3739f79c10c08",
       "version_major": 2,
       "version_minor": 0
      },
      "text/plain": [
       "Processing Iterations:   0%|          | 0/40 [00:00<?, ?step/s]"
      ]
     },
     "metadata": {},
     "output_type": "display_data"
    },
    {
     "data": {
      "application/vnd.jupyter.widget-view+json": {
       "model_id": "8a9446ac05464ab89a7cdac24b0012e7",
       "version_major": 2,
       "version_minor": 0
      },
      "text/plain": [
       "Processing Iterations:   0%|          | 0/40 [00:00<?, ?step/s]"
      ]
     },
     "metadata": {},
     "output_type": "display_data"
    },
    {
     "data": {
      "application/vnd.jupyter.widget-view+json": {
       "model_id": "1577e833422a4432840e4cef43afd9be",
       "version_major": 2,
       "version_minor": 0
      },
      "text/plain": [
       "Processing Iterations:   0%|          | 0/40 [00:00<?, ?step/s]"
      ]
     },
     "metadata": {},
     "output_type": "display_data"
    },
    {
     "data": {
      "application/vnd.jupyter.widget-view+json": {
       "model_id": "37ff8fad6cdd4430b8bc7e5fce7bfcde",
       "version_major": 2,
       "version_minor": 0
      },
      "text/plain": [
       "Processing Iterations:   0%|          | 0/40 [00:00<?, ?step/s]"
      ]
     },
     "metadata": {},
     "output_type": "display_data"
    },
    {
     "data": {
      "application/vnd.jupyter.widget-view+json": {
       "model_id": "371fe2ee5f7d4ef489bd85042c19617f",
       "version_major": 2,
       "version_minor": 0
      },
      "text/plain": [
       "Processing Iterations:   0%|          | 0/40 [00:00<?, ?step/s]"
      ]
     },
     "metadata": {},
     "output_type": "display_data"
    },
    {
     "data": {
      "application/vnd.jupyter.widget-view+json": {
       "model_id": "4f6b74a6290742aa90c90bbe6c977e2a",
       "version_major": 2,
       "version_minor": 0
      },
      "text/plain": [
       "Processing Iterations:   0%|          | 0/40 [00:00<?, ?step/s]"
      ]
     },
     "metadata": {},
     "output_type": "display_data"
    },
    {
     "data": {
      "application/vnd.jupyter.widget-view+json": {
       "model_id": "4b13fcd553a9401fb5cf1168695f20c7",
       "version_major": 2,
       "version_minor": 0
      },
      "text/plain": [
       "Processing Iterations:   0%|          | 0/40 [00:00<?, ?step/s]"
      ]
     },
     "metadata": {},
     "output_type": "display_data"
    },
    {
     "data": {
      "application/vnd.jupyter.widget-view+json": {
       "model_id": "6bbbaca534974b36ad8843b637d5a486",
       "version_major": 2,
       "version_minor": 0
      },
      "text/plain": [
       "Processing Iterations:   0%|          | 0/40 [00:00<?, ?step/s]"
      ]
     },
     "metadata": {},
     "output_type": "display_data"
    },
    {
     "data": {
      "application/vnd.jupyter.widget-view+json": {
       "model_id": "013459260f034d68bf6363dcb119fd6b",
       "version_major": 2,
       "version_minor": 0
      },
      "text/plain": [
       "Processing Iterations:   0%|          | 0/40 [00:00<?, ?step/s]"
      ]
     },
     "metadata": {},
     "output_type": "display_data"
    },
    {
     "data": {
      "application/vnd.jupyter.widget-view+json": {
       "model_id": "f1b47b9a165b49f691fb9ef6fb982011",
       "version_major": 2,
       "version_minor": 0
      },
      "text/plain": [
       "Processing Iterations:   0%|          | 0/40 [00:00<?, ?step/s]"
      ]
     },
     "metadata": {},
     "output_type": "display_data"
    },
    {
     "data": {
      "application/vnd.jupyter.widget-view+json": {
       "model_id": "58f0f438b0af479d86e7ecfa22a26b6e",
       "version_major": 2,
       "version_minor": 0
      },
      "text/plain": [
       "Processing Iterations:   0%|          | 0/40 [00:00<?, ?step/s]"
      ]
     },
     "metadata": {},
     "output_type": "display_data"
    },
    {
     "data": {
      "application/vnd.jupyter.widget-view+json": {
       "model_id": "37a1215c2d254eb1b493750d820ec3d8",
       "version_major": 2,
       "version_minor": 0
      },
      "text/plain": [
       "Processing Iterations:   0%|          | 0/40 [00:00<?, ?step/s]"
      ]
     },
     "metadata": {},
     "output_type": "display_data"
    },
    {
     "data": {
      "application/vnd.jupyter.widget-view+json": {
       "model_id": "61a19f8bbc8e4473b10c0ceb6fca2634",
       "version_major": 2,
       "version_minor": 0
      },
      "text/plain": [
       "Processing Iterations:   0%|          | 0/40 [00:00<?, ?step/s]"
      ]
     },
     "metadata": {},
     "output_type": "display_data"
    },
    {
     "data": {
      "application/vnd.jupyter.widget-view+json": {
       "model_id": "f5d2170e3b9b424bafee9bd1f79b52a4",
       "version_major": 2,
       "version_minor": 0
      },
      "text/plain": [
       "Processing Iterations:   0%|          | 0/40 [00:00<?, ?step/s]"
      ]
     },
     "metadata": {},
     "output_type": "display_data"
    },
    {
     "data": {
      "application/vnd.jupyter.widget-view+json": {
       "model_id": "30953fa3e75e4e83a637c4a6c9460cbc",
       "version_major": 2,
       "version_minor": 0
      },
      "text/plain": [
       "Processing Iterations:   0%|          | 0/40 [00:00<?, ?step/s]"
      ]
     },
     "metadata": {},
     "output_type": "display_data"
    },
    {
     "data": {
      "application/vnd.jupyter.widget-view+json": {
       "model_id": "511a85057a114837b81bd432a32b6750",
       "version_major": 2,
       "version_minor": 0
      },
      "text/plain": [
       "Processing Iterations:   0%|          | 0/40 [00:00<?, ?step/s]"
      ]
     },
     "metadata": {},
     "output_type": "display_data"
    },
    {
     "data": {
      "application/vnd.jupyter.widget-view+json": {
       "model_id": "8f86c9fb73b24a4880c7c3097cc54eb8",
       "version_major": 2,
       "version_minor": 0
      },
      "text/plain": [
       "Processing Iterations:   0%|          | 0/40 [00:00<?, ?step/s]"
      ]
     },
     "metadata": {},
     "output_type": "display_data"
    },
    {
     "data": {
      "application/vnd.jupyter.widget-view+json": {
       "model_id": "fb9c7b10610c471badabb51a7d4b6084",
       "version_major": 2,
       "version_minor": 0
      },
      "text/plain": [
       "Processing Iterations:   0%|          | 0/40 [00:00<?, ?step/s]"
      ]
     },
     "metadata": {},
     "output_type": "display_data"
    },
    {
     "data": {
      "application/vnd.jupyter.widget-view+json": {
       "model_id": "e6645aec2b1c4aa1b87bb2fa743ee96d",
       "version_major": 2,
       "version_minor": 0
      },
      "text/plain": [
       "Processing Iterations:   0%|          | 0/40 [00:00<?, ?step/s]"
      ]
     },
     "metadata": {},
     "output_type": "display_data"
    },
    {
     "data": {
      "application/vnd.jupyter.widget-view+json": {
       "model_id": "14b5a0373cdc431abeac5296e3b2aa20",
       "version_major": 2,
       "version_minor": 0
      },
      "text/plain": [
       "Processing Iterations:   0%|          | 0/40 [00:00<?, ?step/s]"
      ]
     },
     "metadata": {},
     "output_type": "display_data"
    },
    {
     "data": {
      "application/vnd.jupyter.widget-view+json": {
       "model_id": "241eb20a07ef4c3aadc2491c932ec685",
       "version_major": 2,
       "version_minor": 0
      },
      "text/plain": [
       "Processing Iterations:   0%|          | 0/40 [00:00<?, ?step/s]"
      ]
     },
     "metadata": {},
     "output_type": "display_data"
    },
    {
     "data": {
      "application/vnd.jupyter.widget-view+json": {
       "model_id": "39481eb6740a42a5987a43fda4895a1f",
       "version_major": 2,
       "version_minor": 0
      },
      "text/plain": [
       "Processing Iterations:   0%|          | 0/40 [00:00<?, ?step/s]"
      ]
     },
     "metadata": {},
     "output_type": "display_data"
    },
    {
     "data": {
      "application/vnd.jupyter.widget-view+json": {
       "model_id": "6c7bb09cb54c4cd7bacf1589cf90a093",
       "version_major": 2,
       "version_minor": 0
      },
      "text/plain": [
       "Processing Iterations:   0%|          | 0/40 [00:00<?, ?step/s]"
      ]
     },
     "metadata": {},
     "output_type": "display_data"
    },
    {
     "data": {
      "application/vnd.jupyter.widget-view+json": {
       "model_id": "2dca85431af945b9ab8ac9879feaaaf1",
       "version_major": 2,
       "version_minor": 0
      },
      "text/plain": [
       "Processing Iterations:   0%|          | 0/40 [00:00<?, ?step/s]"
      ]
     },
     "metadata": {},
     "output_type": "display_data"
    },
    {
     "data": {
      "application/vnd.jupyter.widget-view+json": {
       "model_id": "17d71d8b12c04d1aadb2eb1b367bafd6",
       "version_major": 2,
       "version_minor": 0
      },
      "text/plain": [
       "Processing Iterations:   0%|          | 0/40 [00:00<?, ?step/s]"
      ]
     },
     "metadata": {},
     "output_type": "display_data"
    },
    {
     "data": {
      "application/vnd.jupyter.widget-view+json": {
       "model_id": "c558592f11334d2999138cb067b2530b",
       "version_major": 2,
       "version_minor": 0
      },
      "text/plain": [
       "Processing Iterations:   0%|          | 0/40 [00:00<?, ?step/s]"
      ]
     },
     "metadata": {},
     "output_type": "display_data"
    },
    {
     "data": {
      "application/vnd.jupyter.widget-view+json": {
       "model_id": "a1a4755e234e4d42bd1bc8a66e00d48c",
       "version_major": 2,
       "version_minor": 0
      },
      "text/plain": [
       "Processing Iterations:   0%|          | 0/40 [00:00<?, ?step/s]"
      ]
     },
     "metadata": {},
     "output_type": "display_data"
    },
    {
     "data": {
      "application/vnd.jupyter.widget-view+json": {
       "model_id": "bfa3c353c55e4c80af874fecb46b334f",
       "version_major": 2,
       "version_minor": 0
      },
      "text/plain": [
       "Processing Iterations:   0%|          | 0/40 [00:00<?, ?step/s]"
      ]
     },
     "metadata": {},
     "output_type": "display_data"
    },
    {
     "data": {
      "application/vnd.jupyter.widget-view+json": {
       "model_id": "1ecc919a09d64a70a15380bac35a9f2c",
       "version_major": 2,
       "version_minor": 0
      },
      "text/plain": [
       "Processing Iterations:   0%|          | 0/40 [00:00<?, ?step/s]"
      ]
     },
     "metadata": {},
     "output_type": "display_data"
    },
    {
     "data": {
      "application/vnd.jupyter.widget-view+json": {
       "model_id": "8fac94c93a1847578e2beaa39d78474e",
       "version_major": 2,
       "version_minor": 0
      },
      "text/plain": [
       "Processing Iterations:   0%|          | 0/40 [00:00<?, ?step/s]"
      ]
     },
     "metadata": {},
     "output_type": "display_data"
    },
    {
     "data": {
      "application/vnd.jupyter.widget-view+json": {
       "model_id": "f681b09d8e9143aa8cb832acb0bbf356",
       "version_major": 2,
       "version_minor": 0
      },
      "text/plain": [
       "Processing Iterations:   0%|          | 0/40 [00:00<?, ?step/s]"
      ]
     },
     "metadata": {},
     "output_type": "display_data"
    },
    {
     "data": {
      "application/vnd.jupyter.widget-view+json": {
       "model_id": "f77f87f9629b406baad9f3be52e418ac",
       "version_major": 2,
       "version_minor": 0
      },
      "text/plain": [
       "Processing Iterations:   0%|          | 0/40 [00:00<?, ?step/s]"
      ]
     },
     "metadata": {},
     "output_type": "display_data"
    },
    {
     "data": {
      "application/vnd.jupyter.widget-view+json": {
       "model_id": "7570d6a3728346258b49f57ecdc4a03e",
       "version_major": 2,
       "version_minor": 0
      },
      "text/plain": [
       "Processing Iterations:   0%|          | 0/40 [00:00<?, ?step/s]"
      ]
     },
     "metadata": {},
     "output_type": "display_data"
    },
    {
     "data": {
      "application/vnd.jupyter.widget-view+json": {
       "model_id": "9e085c64e1234f39861593a0911fb33f",
       "version_major": 2,
       "version_minor": 0
      },
      "text/plain": [
       "Processing Iterations:   0%|          | 0/40 [00:00<?, ?step/s]"
      ]
     },
     "metadata": {},
     "output_type": "display_data"
    },
    {
     "data": {
      "application/vnd.jupyter.widget-view+json": {
       "model_id": "58dbadd9ff4246f3bea0650331d083ba",
       "version_major": 2,
       "version_minor": 0
      },
      "text/plain": [
       "Processing Iterations:   0%|          | 0/40 [00:00<?, ?step/s]"
      ]
     },
     "metadata": {},
     "output_type": "display_data"
    },
    {
     "data": {
      "application/vnd.jupyter.widget-view+json": {
       "model_id": "d8254ca612d74b5398ecffa013522b2d",
       "version_major": 2,
       "version_minor": 0
      },
      "text/plain": [
       "Processing Iterations:   0%|          | 0/40 [00:00<?, ?step/s]"
      ]
     },
     "metadata": {},
     "output_type": "display_data"
    },
    {
     "data": {
      "application/vnd.jupyter.widget-view+json": {
       "model_id": "ed6a3c4ce8d64136b675b011d8b4a72c",
       "version_major": 2,
       "version_minor": 0
      },
      "text/plain": [
       "Processing Iterations:   0%|          | 0/40 [00:00<?, ?step/s]"
      ]
     },
     "metadata": {},
     "output_type": "display_data"
    },
    {
     "data": {
      "application/vnd.jupyter.widget-view+json": {
       "model_id": "0664d66c8ee0440289c1c6cfadfc8098",
       "version_major": 2,
       "version_minor": 0
      },
      "text/plain": [
       "Processing Iterations:   0%|          | 0/40 [00:00<?, ?step/s]"
      ]
     },
     "metadata": {},
     "output_type": "display_data"
    },
    {
     "data": {
      "application/vnd.jupyter.widget-view+json": {
       "model_id": "7775f4b0c473490e9d260dea18781a11",
       "version_major": 2,
       "version_minor": 0
      },
      "text/plain": [
       "Processing Iterations:   0%|          | 0/40 [00:00<?, ?step/s]"
      ]
     },
     "metadata": {},
     "output_type": "display_data"
    },
    {
     "data": {
      "application/vnd.jupyter.widget-view+json": {
       "model_id": "89ace884e0c4479db48dab3cf06816d9",
       "version_major": 2,
       "version_minor": 0
      },
      "text/plain": [
       "Processing Iterations:   0%|          | 0/40 [00:00<?, ?step/s]"
      ]
     },
     "metadata": {},
     "output_type": "display_data"
    },
    {
     "data": {
      "application/vnd.jupyter.widget-view+json": {
       "model_id": "f45959b385e3435998b240b0d12eda8a",
       "version_major": 2,
       "version_minor": 0
      },
      "text/plain": [
       "Processing Iterations:   0%|          | 0/40 [00:00<?, ?step/s]"
      ]
     },
     "metadata": {},
     "output_type": "display_data"
    },
    {
     "data": {
      "application/vnd.jupyter.widget-view+json": {
       "model_id": "809636be942a41b4b8b35da02a3d1207",
       "version_major": 2,
       "version_minor": 0
      },
      "text/plain": [
       "Processing Iterations:   0%|          | 0/40 [00:00<?, ?step/s]"
      ]
     },
     "metadata": {},
     "output_type": "display_data"
    },
    {
     "data": {
      "application/vnd.jupyter.widget-view+json": {
       "model_id": "275513344bcd4403a9573373a87080fd",
       "version_major": 2,
       "version_minor": 0
      },
      "text/plain": [
       "Processing Iterations:   0%|          | 0/40 [00:00<?, ?step/s]"
      ]
     },
     "metadata": {},
     "output_type": "display_data"
    },
    {
     "data": {
      "application/vnd.jupyter.widget-view+json": {
       "model_id": "3a8b9247b7b54805bbcc8eea54a54281",
       "version_major": 2,
       "version_minor": 0
      },
      "text/plain": [
       "Processing Iterations:   0%|          | 0/40 [00:00<?, ?step/s]"
      ]
     },
     "metadata": {},
     "output_type": "display_data"
    },
    {
     "data": {
      "application/vnd.jupyter.widget-view+json": {
       "model_id": "f34ba707eb674a6d92cf407c197ab171",
       "version_major": 2,
       "version_minor": 0
      },
      "text/plain": [
       "Processing Iterations:   0%|          | 0/40 [00:00<?, ?step/s]"
      ]
     },
     "metadata": {},
     "output_type": "display_data"
    },
    {
     "data": {
      "application/vnd.jupyter.widget-view+json": {
       "model_id": "f944a14cf8e2456fa9f8b11b457d8a7d",
       "version_major": 2,
       "version_minor": 0
      },
      "text/plain": [
       "Processing Iterations:   0%|          | 0/40 [00:00<?, ?step/s]"
      ]
     },
     "metadata": {},
     "output_type": "display_data"
    },
    {
     "data": {
      "application/vnd.jupyter.widget-view+json": {
       "model_id": "a7b90a8b94a144e2a4d04c31538e3c78",
       "version_major": 2,
       "version_minor": 0
      },
      "text/plain": [
       "Processing Iterations:   0%|          | 0/40 [00:00<?, ?step/s]"
      ]
     },
     "metadata": {},
     "output_type": "display_data"
    },
    {
     "data": {
      "application/vnd.jupyter.widget-view+json": {
       "model_id": "c355705db30a48f4906cfa0ef8cde7b4",
       "version_major": 2,
       "version_minor": 0
      },
      "text/plain": [
       "Processing Iterations:   0%|          | 0/40 [00:00<?, ?step/s]"
      ]
     },
     "metadata": {},
     "output_type": "display_data"
    },
    {
     "data": {
      "application/vnd.jupyter.widget-view+json": {
       "model_id": "44797367386f4d6facfdd7b6be197a3f",
       "version_major": 2,
       "version_minor": 0
      },
      "text/plain": [
       "Processing Iterations:   0%|          | 0/40 [00:00<?, ?step/s]"
      ]
     },
     "metadata": {},
     "output_type": "display_data"
    },
    {
     "data": {
      "application/vnd.jupyter.widget-view+json": {
       "model_id": "25cb871ef1bb4241bebbbf4dc46e9df0",
       "version_major": 2,
       "version_minor": 0
      },
      "text/plain": [
       "Processing Iterations:   0%|          | 0/40 [00:00<?, ?step/s]"
      ]
     },
     "metadata": {},
     "output_type": "display_data"
    },
    {
     "data": {
      "application/vnd.jupyter.widget-view+json": {
       "model_id": "93cc2adbfd69444b8ece54751f0ad8de",
       "version_major": 2,
       "version_minor": 0
      },
      "text/plain": [
       "Processing Iterations:   0%|          | 0/40 [00:00<?, ?step/s]"
      ]
     },
     "metadata": {},
     "output_type": "display_data"
    },
    {
     "data": {
      "application/vnd.jupyter.widget-view+json": {
       "model_id": "a1d77ac834ed4e3fa5a0ca16d6742754",
       "version_major": 2,
       "version_minor": 0
      },
      "text/plain": [
       "Processing Iterations:   0%|          | 0/40 [00:00<?, ?step/s]"
      ]
     },
     "metadata": {},
     "output_type": "display_data"
    },
    {
     "name": "stderr",
     "output_type": "stream",
     "text": [
      "/tmp/ipykernel_210476/568697184.py:97: DeprecationWarning: Starting with ImageIO v3 the behavior of this function will switch to that of iio.v3.imread. To keep the current behavior (and make this warning disappear) use `import imageio.v2 as imageio` or call `imageio.v2.imread` directly.\n",
      "  image = imageio.imread(filename)\n"
     ]
    },
    {
     "name": "stdout",
     "output_type": "stream",
     "text": [
      "GIF saved as 'gifs/Prob distribution vs. Delta, Vertex count is 10, and initial entropy is 2.303.gif'\n"
     ]
    },
    {
     "data": {
      "application/vnd.jupyter.widget-view+json": {
       "model_id": "f67fe2db843740bbb19d72261e649cb9",
       "version_major": 2,
       "version_minor": 0
      },
      "text/plain": [
       "Processing Iterations:   0%|          | 0/40 [00:00<?, ?step/s]"
      ]
     },
     "metadata": {},
     "output_type": "display_data"
    },
    {
     "data": {
      "application/vnd.jupyter.widget-view+json": {
       "model_id": "d9312999ef924799a4a70ef3e42ce29e",
       "version_major": 2,
       "version_minor": 0
      },
      "text/plain": [
       "Processing Iterations:   0%|          | 0/40 [00:00<?, ?step/s]"
      ]
     },
     "metadata": {},
     "output_type": "display_data"
    },
    {
     "data": {
      "application/vnd.jupyter.widget-view+json": {
       "model_id": "0e531d7ce9a14a25b9e8c61ed4d42fa1",
       "version_major": 2,
       "version_minor": 0
      },
      "text/plain": [
       "Processing Iterations:   0%|          | 0/40 [00:00<?, ?step/s]"
      ]
     },
     "metadata": {},
     "output_type": "display_data"
    },
    {
     "data": {
      "application/vnd.jupyter.widget-view+json": {
       "model_id": "f610174b4436405e9d714e93bba87d36",
       "version_major": 2,
       "version_minor": 0
      },
      "text/plain": [
       "Processing Iterations:   0%|          | 0/40 [00:00<?, ?step/s]"
      ]
     },
     "metadata": {},
     "output_type": "display_data"
    },
    {
     "data": {
      "application/vnd.jupyter.widget-view+json": {
       "model_id": "8989b2414a5c4c4c8e30e0bba217a2d3",
       "version_major": 2,
       "version_minor": 0
      },
      "text/plain": [
       "Processing Iterations:   0%|          | 0/40 [00:00<?, ?step/s]"
      ]
     },
     "metadata": {},
     "output_type": "display_data"
    },
    {
     "data": {
      "application/vnd.jupyter.widget-view+json": {
       "model_id": "57244b0d812743c6af3536d92f55c777",
       "version_major": 2,
       "version_minor": 0
      },
      "text/plain": [
       "Processing Iterations:   0%|          | 0/40 [00:00<?, ?step/s]"
      ]
     },
     "metadata": {},
     "output_type": "display_data"
    },
    {
     "data": {
      "application/vnd.jupyter.widget-view+json": {
       "model_id": "d8c90a323ecd42bc9bbb127041a222de",
       "version_major": 2,
       "version_minor": 0
      },
      "text/plain": [
       "Processing Iterations:   0%|          | 0/40 [00:00<?, ?step/s]"
      ]
     },
     "metadata": {},
     "output_type": "display_data"
    },
    {
     "data": {
      "application/vnd.jupyter.widget-view+json": {
       "model_id": "34350ca27cfd43b4812ba3c98d4ae6ae",
       "version_major": 2,
       "version_minor": 0
      },
      "text/plain": [
       "Processing Iterations:   0%|          | 0/40 [00:00<?, ?step/s]"
      ]
     },
     "metadata": {},
     "output_type": "display_data"
    },
    {
     "data": {
      "application/vnd.jupyter.widget-view+json": {
       "model_id": "6259cdc3d7d043089f8d50882bd2091e",
       "version_major": 2,
       "version_minor": 0
      },
      "text/plain": [
       "Processing Iterations:   0%|          | 0/40 [00:00<?, ?step/s]"
      ]
     },
     "metadata": {},
     "output_type": "display_data"
    },
    {
     "data": {
      "application/vnd.jupyter.widget-view+json": {
       "model_id": "65e2d1800a544f39983eee2a0e248f7c",
       "version_major": 2,
       "version_minor": 0
      },
      "text/plain": [
       "Processing Iterations:   0%|          | 0/40 [00:00<?, ?step/s]"
      ]
     },
     "metadata": {},
     "output_type": "display_data"
    },
    {
     "data": {
      "application/vnd.jupyter.widget-view+json": {
       "model_id": "32db54e11e7745f29c01ba3ba5e4e82a",
       "version_major": 2,
       "version_minor": 0
      },
      "text/plain": [
       "Processing Iterations:   0%|          | 0/40 [00:00<?, ?step/s]"
      ]
     },
     "metadata": {},
     "output_type": "display_data"
    },
    {
     "data": {
      "application/vnd.jupyter.widget-view+json": {
       "model_id": "b0a1d168c3084dec8549b1b808a33346",
       "version_major": 2,
       "version_minor": 0
      },
      "text/plain": [
       "Processing Iterations:   0%|          | 0/40 [00:00<?, ?step/s]"
      ]
     },
     "metadata": {},
     "output_type": "display_data"
    },
    {
     "data": {
      "application/vnd.jupyter.widget-view+json": {
       "model_id": "3087eebb445d49959490a9198d59c986",
       "version_major": 2,
       "version_minor": 0
      },
      "text/plain": [
       "Processing Iterations:   0%|          | 0/40 [00:00<?, ?step/s]"
      ]
     },
     "metadata": {},
     "output_type": "display_data"
    },
    {
     "data": {
      "application/vnd.jupyter.widget-view+json": {
       "model_id": "ee6c17a1777d4915b1709b4be0d51aa6",
       "version_major": 2,
       "version_minor": 0
      },
      "text/plain": [
       "Processing Iterations:   0%|          | 0/40 [00:00<?, ?step/s]"
      ]
     },
     "metadata": {},
     "output_type": "display_data"
    },
    {
     "data": {
      "application/vnd.jupyter.widget-view+json": {
       "model_id": "d8d62e5829f54538a450acca4be189f8",
       "version_major": 2,
       "version_minor": 0
      },
      "text/plain": [
       "Processing Iterations:   0%|          | 0/40 [00:00<?, ?step/s]"
      ]
     },
     "metadata": {},
     "output_type": "display_data"
    },
    {
     "data": {
      "application/vnd.jupyter.widget-view+json": {
       "model_id": "a166c6b6164d4e2b8681843098dc58c4",
       "version_major": 2,
       "version_minor": 0
      },
      "text/plain": [
       "Processing Iterations:   0%|          | 0/40 [00:00<?, ?step/s]"
      ]
     },
     "metadata": {},
     "output_type": "display_data"
    },
    {
     "data": {
      "application/vnd.jupyter.widget-view+json": {
       "model_id": "06d0edfd1f724203a019f89d85946795",
       "version_major": 2,
       "version_minor": 0
      },
      "text/plain": [
       "Processing Iterations:   0%|          | 0/40 [00:00<?, ?step/s]"
      ]
     },
     "metadata": {},
     "output_type": "display_data"
    },
    {
     "data": {
      "application/vnd.jupyter.widget-view+json": {
       "model_id": "e08b76fcf6ff45148362a2e7c77ddd8a",
       "version_major": 2,
       "version_minor": 0
      },
      "text/plain": [
       "Processing Iterations:   0%|          | 0/40 [00:00<?, ?step/s]"
      ]
     },
     "metadata": {},
     "output_type": "display_data"
    },
    {
     "data": {
      "application/vnd.jupyter.widget-view+json": {
       "model_id": "2b4828338f66498c91d638494be96c46",
       "version_major": 2,
       "version_minor": 0
      },
      "text/plain": [
       "Processing Iterations:   0%|          | 0/40 [00:00<?, ?step/s]"
      ]
     },
     "metadata": {},
     "output_type": "display_data"
    },
    {
     "data": {
      "application/vnd.jupyter.widget-view+json": {
       "model_id": "4ceaaf389fa4491d8bf82949fc525f95",
       "version_major": 2,
       "version_minor": 0
      },
      "text/plain": [
       "Processing Iterations:   0%|          | 0/40 [00:00<?, ?step/s]"
      ]
     },
     "metadata": {},
     "output_type": "display_data"
    },
    {
     "data": {
      "application/vnd.jupyter.widget-view+json": {
       "model_id": "da2a29f8ed894cd08a8468cd07478de0",
       "version_major": 2,
       "version_minor": 0
      },
      "text/plain": [
       "Processing Iterations:   0%|          | 0/40 [00:00<?, ?step/s]"
      ]
     },
     "metadata": {},
     "output_type": "display_data"
    },
    {
     "data": {
      "application/vnd.jupyter.widget-view+json": {
       "model_id": "07af14c6a49e452a90eb503dd95da0ff",
       "version_major": 2,
       "version_minor": 0
      },
      "text/plain": [
       "Processing Iterations:   0%|          | 0/40 [00:00<?, ?step/s]"
      ]
     },
     "metadata": {},
     "output_type": "display_data"
    },
    {
     "data": {
      "application/vnd.jupyter.widget-view+json": {
       "model_id": "293aa42114204ff1a7f6c0766e851ac3",
       "version_major": 2,
       "version_minor": 0
      },
      "text/plain": [
       "Processing Iterations:   0%|          | 0/40 [00:00<?, ?step/s]"
      ]
     },
     "metadata": {},
     "output_type": "display_data"
    },
    {
     "data": {
      "application/vnd.jupyter.widget-view+json": {
       "model_id": "5936267007ff4e6b8b4eb46959f5da6c",
       "version_major": 2,
       "version_minor": 0
      },
      "text/plain": [
       "Processing Iterations:   0%|          | 0/40 [00:00<?, ?step/s]"
      ]
     },
     "metadata": {},
     "output_type": "display_data"
    },
    {
     "data": {
      "application/vnd.jupyter.widget-view+json": {
       "model_id": "dac6652ac7bc49b0bb1239c93f662e06",
       "version_major": 2,
       "version_minor": 0
      },
      "text/plain": [
       "Processing Iterations:   0%|          | 0/40 [00:00<?, ?step/s]"
      ]
     },
     "metadata": {},
     "output_type": "display_data"
    },
    {
     "data": {
      "application/vnd.jupyter.widget-view+json": {
       "model_id": "695d9335e7d941d58dffb509f022abdb",
       "version_major": 2,
       "version_minor": 0
      },
      "text/plain": [
       "Processing Iterations:   0%|          | 0/40 [00:00<?, ?step/s]"
      ]
     },
     "metadata": {},
     "output_type": "display_data"
    },
    {
     "data": {
      "application/vnd.jupyter.widget-view+json": {
       "model_id": "1d8bad528657413c8cb549978b95b4a3",
       "version_major": 2,
       "version_minor": 0
      },
      "text/plain": [
       "Processing Iterations:   0%|          | 0/40 [00:00<?, ?step/s]"
      ]
     },
     "metadata": {},
     "output_type": "display_data"
    },
    {
     "data": {
      "application/vnd.jupyter.widget-view+json": {
       "model_id": "01982bd7156545359c85c08a835affb6",
       "version_major": 2,
       "version_minor": 0
      },
      "text/plain": [
       "Processing Iterations:   0%|          | 0/40 [00:00<?, ?step/s]"
      ]
     },
     "metadata": {},
     "output_type": "display_data"
    },
    {
     "data": {
      "application/vnd.jupyter.widget-view+json": {
       "model_id": "a2929d182c7e4bd6b3e9c6e12ad764b6",
       "version_major": 2,
       "version_minor": 0
      },
      "text/plain": [
       "Processing Iterations:   0%|          | 0/40 [00:00<?, ?step/s]"
      ]
     },
     "metadata": {},
     "output_type": "display_data"
    },
    {
     "data": {
      "application/vnd.jupyter.widget-view+json": {
       "model_id": "bf68009a5bc74d8a9e3aca3a275b172f",
       "version_major": 2,
       "version_minor": 0
      },
      "text/plain": [
       "Processing Iterations:   0%|          | 0/40 [00:00<?, ?step/s]"
      ]
     },
     "metadata": {},
     "output_type": "display_data"
    },
    {
     "data": {
      "application/vnd.jupyter.widget-view+json": {
       "model_id": "64c8dcf08b4c42b5956cca511e5350aa",
       "version_major": 2,
       "version_minor": 0
      },
      "text/plain": [
       "Processing Iterations:   0%|          | 0/40 [00:00<?, ?step/s]"
      ]
     },
     "metadata": {},
     "output_type": "display_data"
    },
    {
     "data": {
      "application/vnd.jupyter.widget-view+json": {
       "model_id": "ac16353f455346609959203fa34f2dbc",
       "version_major": 2,
       "version_minor": 0
      },
      "text/plain": [
       "Processing Iterations:   0%|          | 0/40 [00:00<?, ?step/s]"
      ]
     },
     "metadata": {},
     "output_type": "display_data"
    },
    {
     "data": {
      "application/vnd.jupyter.widget-view+json": {
       "model_id": "6cef347291364563939545037d59bb0b",
       "version_major": 2,
       "version_minor": 0
      },
      "text/plain": [
       "Processing Iterations:   0%|          | 0/40 [00:00<?, ?step/s]"
      ]
     },
     "metadata": {},
     "output_type": "display_data"
    },
    {
     "data": {
      "application/vnd.jupyter.widget-view+json": {
       "model_id": "2641b8ae68624f599509d7f3ca61e188",
       "version_major": 2,
       "version_minor": 0
      },
      "text/plain": [
       "Processing Iterations:   0%|          | 0/40 [00:00<?, ?step/s]"
      ]
     },
     "metadata": {},
     "output_type": "display_data"
    },
    {
     "data": {
      "application/vnd.jupyter.widget-view+json": {
       "model_id": "c44a599ba9314a9e9d32ea7c437280e3",
       "version_major": 2,
       "version_minor": 0
      },
      "text/plain": [
       "Processing Iterations:   0%|          | 0/40 [00:00<?, ?step/s]"
      ]
     },
     "metadata": {},
     "output_type": "display_data"
    },
    {
     "data": {
      "application/vnd.jupyter.widget-view+json": {
       "model_id": "cea79c8ff78843e999814fac48a2dd28",
       "version_major": 2,
       "version_minor": 0
      },
      "text/plain": [
       "Processing Iterations:   0%|          | 0/40 [00:00<?, ?step/s]"
      ]
     },
     "metadata": {},
     "output_type": "display_data"
    },
    {
     "data": {
      "application/vnd.jupyter.widget-view+json": {
       "model_id": "c48f38475cdf4d41951fca8872b310f3",
       "version_major": 2,
       "version_minor": 0
      },
      "text/plain": [
       "Processing Iterations:   0%|          | 0/40 [00:00<?, ?step/s]"
      ]
     },
     "metadata": {},
     "output_type": "display_data"
    },
    {
     "data": {
      "application/vnd.jupyter.widget-view+json": {
       "model_id": "67be86e49ede4c60b6cc096a1b8e5c80",
       "version_major": 2,
       "version_minor": 0
      },
      "text/plain": [
       "Processing Iterations:   0%|          | 0/40 [00:00<?, ?step/s]"
      ]
     },
     "metadata": {},
     "output_type": "display_data"
    },
    {
     "data": {
      "application/vnd.jupyter.widget-view+json": {
       "model_id": "e39370c6cbcf4c37b992738556d62f45",
       "version_major": 2,
       "version_minor": 0
      },
      "text/plain": [
       "Processing Iterations:   0%|          | 0/40 [00:00<?, ?step/s]"
      ]
     },
     "metadata": {},
     "output_type": "display_data"
    },
    {
     "data": {
      "application/vnd.jupyter.widget-view+json": {
       "model_id": "b7489f7a77594d62ba0b945677157874",
       "version_major": 2,
       "version_minor": 0
      },
      "text/plain": [
       "Processing Iterations:   0%|          | 0/40 [00:00<?, ?step/s]"
      ]
     },
     "metadata": {},
     "output_type": "display_data"
    },
    {
     "data": {
      "application/vnd.jupyter.widget-view+json": {
       "model_id": "9f091862b80b45a59dbb42e93333f640",
       "version_major": 2,
       "version_minor": 0
      },
      "text/plain": [
       "Processing Iterations:   0%|          | 0/40 [00:00<?, ?step/s]"
      ]
     },
     "metadata": {},
     "output_type": "display_data"
    },
    {
     "data": {
      "application/vnd.jupyter.widget-view+json": {
       "model_id": "624ff409874c4cea87168cc2c458f0c5",
       "version_major": 2,
       "version_minor": 0
      },
      "text/plain": [
       "Processing Iterations:   0%|          | 0/40 [00:00<?, ?step/s]"
      ]
     },
     "metadata": {},
     "output_type": "display_data"
    },
    {
     "data": {
      "application/vnd.jupyter.widget-view+json": {
       "model_id": "4248c7352e284d89914f863861ee72eb",
       "version_major": 2,
       "version_minor": 0
      },
      "text/plain": [
       "Processing Iterations:   0%|          | 0/40 [00:00<?, ?step/s]"
      ]
     },
     "metadata": {},
     "output_type": "display_data"
    },
    {
     "data": {
      "application/vnd.jupyter.widget-view+json": {
       "model_id": "872314cd57ea48bda64efd0058092db7",
       "version_major": 2,
       "version_minor": 0
      },
      "text/plain": [
       "Processing Iterations:   0%|          | 0/40 [00:00<?, ?step/s]"
      ]
     },
     "metadata": {},
     "output_type": "display_data"
    },
    {
     "data": {
      "application/vnd.jupyter.widget-view+json": {
       "model_id": "4442b00da99f47c19ca28e08f69d95ea",
       "version_major": 2,
       "version_minor": 0
      },
      "text/plain": [
       "Processing Iterations:   0%|          | 0/40 [00:00<?, ?step/s]"
      ]
     },
     "metadata": {},
     "output_type": "display_data"
    },
    {
     "data": {
      "application/vnd.jupyter.widget-view+json": {
       "model_id": "61a0b5e2b2f74135b674515a73374c3a",
       "version_major": 2,
       "version_minor": 0
      },
      "text/plain": [
       "Processing Iterations:   0%|          | 0/40 [00:00<?, ?step/s]"
      ]
     },
     "metadata": {},
     "output_type": "display_data"
    },
    {
     "data": {
      "application/vnd.jupyter.widget-view+json": {
       "model_id": "d6762af8a36e4c39a1a810aec4782fdd",
       "version_major": 2,
       "version_minor": 0
      },
      "text/plain": [
       "Processing Iterations:   0%|          | 0/40 [00:00<?, ?step/s]"
      ]
     },
     "metadata": {},
     "output_type": "display_data"
    },
    {
     "data": {
      "application/vnd.jupyter.widget-view+json": {
       "model_id": "dc63724c7e534d17a2b4cfd481a1a861",
       "version_major": 2,
       "version_minor": 0
      },
      "text/plain": [
       "Processing Iterations:   0%|          | 0/40 [00:00<?, ?step/s]"
      ]
     },
     "metadata": {},
     "output_type": "display_data"
    },
    {
     "data": {
      "application/vnd.jupyter.widget-view+json": {
       "model_id": "a84dd873caae4e688ca673f412b8a528",
       "version_major": 2,
       "version_minor": 0
      },
      "text/plain": [
       "Processing Iterations:   0%|          | 0/40 [00:00<?, ?step/s]"
      ]
     },
     "metadata": {},
     "output_type": "display_data"
    },
    {
     "data": {
      "application/vnd.jupyter.widget-view+json": {
       "model_id": "95684a11133b48f49e2117bf9628449e",
       "version_major": 2,
       "version_minor": 0
      },
      "text/plain": [
       "Processing Iterations:   0%|          | 0/40 [00:00<?, ?step/s]"
      ]
     },
     "metadata": {},
     "output_type": "display_data"
    },
    {
     "data": {
      "application/vnd.jupyter.widget-view+json": {
       "model_id": "7f3b17ed03cf4907a335659fafad96f6",
       "version_major": 2,
       "version_minor": 0
      },
      "text/plain": [
       "Processing Iterations:   0%|          | 0/40 [00:00<?, ?step/s]"
      ]
     },
     "metadata": {},
     "output_type": "display_data"
    },
    {
     "data": {
      "application/vnd.jupyter.widget-view+json": {
       "model_id": "bc22bf0a92234badb3205654df300f19",
       "version_major": 2,
       "version_minor": 0
      },
      "text/plain": [
       "Processing Iterations:   0%|          | 0/40 [00:00<?, ?step/s]"
      ]
     },
     "metadata": {},
     "output_type": "display_data"
    },
    {
     "data": {
      "application/vnd.jupyter.widget-view+json": {
       "model_id": "1a83e812bc474f5090986dac27810da6",
       "version_major": 2,
       "version_minor": 0
      },
      "text/plain": [
       "Processing Iterations:   0%|          | 0/40 [00:00<?, ?step/s]"
      ]
     },
     "metadata": {},
     "output_type": "display_data"
    },
    {
     "data": {
      "application/vnd.jupyter.widget-view+json": {
       "model_id": "106e1d897499456a84fef0ad8a6e0bf0",
       "version_major": 2,
       "version_minor": 0
      },
      "text/plain": [
       "Processing Iterations:   0%|          | 0/40 [00:00<?, ?step/s]"
      ]
     },
     "metadata": {},
     "output_type": "display_data"
    },
    {
     "data": {
      "application/vnd.jupyter.widget-view+json": {
       "model_id": "e10f7bd04a07404aa251df1c9c8f54fc",
       "version_major": 2,
       "version_minor": 0
      },
      "text/plain": [
       "Processing Iterations:   0%|          | 0/40 [00:00<?, ?step/s]"
      ]
     },
     "metadata": {},
     "output_type": "display_data"
    },
    {
     "data": {
      "application/vnd.jupyter.widget-view+json": {
       "model_id": "8d4e3eda6cff48d7a33a62ab79939228",
       "version_major": 2,
       "version_minor": 0
      },
      "text/plain": [
       "Processing Iterations:   0%|          | 0/40 [00:00<?, ?step/s]"
      ]
     },
     "metadata": {},
     "output_type": "display_data"
    },
    {
     "data": {
      "application/vnd.jupyter.widget-view+json": {
       "model_id": "763dc51eefbf48c89728a9b39d50d56e",
       "version_major": 2,
       "version_minor": 0
      },
      "text/plain": [
       "Processing Iterations:   0%|          | 0/40 [00:00<?, ?step/s]"
      ]
     },
     "metadata": {},
     "output_type": "display_data"
    },
    {
     "data": {
      "application/vnd.jupyter.widget-view+json": {
       "model_id": "a340fcaa63d3451e8ca49206eec97458",
       "version_major": 2,
       "version_minor": 0
      },
      "text/plain": [
       "Processing Iterations:   0%|          | 0/40 [00:00<?, ?step/s]"
      ]
     },
     "metadata": {},
     "output_type": "display_data"
    },
    {
     "data": {
      "application/vnd.jupyter.widget-view+json": {
       "model_id": "07ee956ddc0945c49c4c27fd9b4005a7",
       "version_major": 2,
       "version_minor": 0
      },
      "text/plain": [
       "Processing Iterations:   0%|          | 0/40 [00:00<?, ?step/s]"
      ]
     },
     "metadata": {},
     "output_type": "display_data"
    },
    {
     "data": {
      "application/vnd.jupyter.widget-view+json": {
       "model_id": "a44836b2fd854203ae13b4074f135459",
       "version_major": 2,
       "version_minor": 0
      },
      "text/plain": [
       "Processing Iterations:   0%|          | 0/40 [00:00<?, ?step/s]"
      ]
     },
     "metadata": {},
     "output_type": "display_data"
    },
    {
     "data": {
      "application/vnd.jupyter.widget-view+json": {
       "model_id": "4d2bc3f087a5412c92bb27b79a45c851",
       "version_major": 2,
       "version_minor": 0
      },
      "text/plain": [
       "Processing Iterations:   0%|          | 0/40 [00:00<?, ?step/s]"
      ]
     },
     "metadata": {},
     "output_type": "display_data"
    },
    {
     "data": {
      "application/vnd.jupyter.widget-view+json": {
       "model_id": "9203ec5422e44c0b88f02708dc9f85be",
       "version_major": 2,
       "version_minor": 0
      },
      "text/plain": [
       "Processing Iterations:   0%|          | 0/40 [00:00<?, ?step/s]"
      ]
     },
     "metadata": {},
     "output_type": "display_data"
    },
    {
     "data": {
      "application/vnd.jupyter.widget-view+json": {
       "model_id": "1faba95950c047ff8952d30382e0b7d0",
       "version_major": 2,
       "version_minor": 0
      },
      "text/plain": [
       "Processing Iterations:   0%|          | 0/40 [00:00<?, ?step/s]"
      ]
     },
     "metadata": {},
     "output_type": "display_data"
    },
    {
     "data": {
      "application/vnd.jupyter.widget-view+json": {
       "model_id": "fb266e477ad343c88e4dab2f6207b73e",
       "version_major": 2,
       "version_minor": 0
      },
      "text/plain": [
       "Processing Iterations:   0%|          | 0/40 [00:00<?, ?step/s]"
      ]
     },
     "metadata": {},
     "output_type": "display_data"
    },
    {
     "data": {
      "application/vnd.jupyter.widget-view+json": {
       "model_id": "bb8f3bad284f47c3a1ac4f95d85d93b2",
       "version_major": 2,
       "version_minor": 0
      },
      "text/plain": [
       "Processing Iterations:   0%|          | 0/40 [00:00<?, ?step/s]"
      ]
     },
     "metadata": {},
     "output_type": "display_data"
    },
    {
     "data": {
      "application/vnd.jupyter.widget-view+json": {
       "model_id": "f07883877a464de999e733ba6d1b13de",
       "version_major": 2,
       "version_minor": 0
      },
      "text/plain": [
       "Processing Iterations:   0%|          | 0/40 [00:00<?, ?step/s]"
      ]
     },
     "metadata": {},
     "output_type": "display_data"
    },
    {
     "data": {
      "application/vnd.jupyter.widget-view+json": {
       "model_id": "d6937192ced94990a37b58e67be25c4a",
       "version_major": 2,
       "version_minor": 0
      },
      "text/plain": [
       "Processing Iterations:   0%|          | 0/40 [00:00<?, ?step/s]"
      ]
     },
     "metadata": {},
     "output_type": "display_data"
    },
    {
     "data": {
      "application/vnd.jupyter.widget-view+json": {
       "model_id": "3f46635f9e5846888321cbabd8c7bbef",
       "version_major": 2,
       "version_minor": 0
      },
      "text/plain": [
       "Processing Iterations:   0%|          | 0/40 [00:00<?, ?step/s]"
      ]
     },
     "metadata": {},
     "output_type": "display_data"
    },
    {
     "data": {
      "application/vnd.jupyter.widget-view+json": {
       "model_id": "b44cd2207aa1433e80622ba6c5def2b6",
       "version_major": 2,
       "version_minor": 0
      },
      "text/plain": [
       "Processing Iterations:   0%|          | 0/40 [00:00<?, ?step/s]"
      ]
     },
     "metadata": {},
     "output_type": "display_data"
    },
    {
     "data": {
      "application/vnd.jupyter.widget-view+json": {
       "model_id": "86056806d3d3429884517cc1a20bd178",
       "version_major": 2,
       "version_minor": 0
      },
      "text/plain": [
       "Processing Iterations:   0%|          | 0/40 [00:00<?, ?step/s]"
      ]
     },
     "metadata": {},
     "output_type": "display_data"
    },
    {
     "data": {
      "application/vnd.jupyter.widget-view+json": {
       "model_id": "ddd0a6997ceb4ceaa28b0ab09a4d55b5",
       "version_major": 2,
       "version_minor": 0
      },
      "text/plain": [
       "Processing Iterations:   0%|          | 0/40 [00:00<?, ?step/s]"
      ]
     },
     "metadata": {},
     "output_type": "display_data"
    },
    {
     "data": {
      "application/vnd.jupyter.widget-view+json": {
       "model_id": "1673493c61cc4f0491f5d100062602f6",
       "version_major": 2,
       "version_minor": 0
      },
      "text/plain": [
       "Processing Iterations:   0%|          | 0/40 [00:00<?, ?step/s]"
      ]
     },
     "metadata": {},
     "output_type": "display_data"
    },
    {
     "data": {
      "application/vnd.jupyter.widget-view+json": {
       "model_id": "01fc66ced09f40939b90946062d3e0fe",
       "version_major": 2,
       "version_minor": 0
      },
      "text/plain": [
       "Processing Iterations:   0%|          | 0/40 [00:00<?, ?step/s]"
      ]
     },
     "metadata": {},
     "output_type": "display_data"
    },
    {
     "data": {
      "application/vnd.jupyter.widget-view+json": {
       "model_id": "ee39c45f26a3415a8af3b22c2bd76a35",
       "version_major": 2,
       "version_minor": 0
      },
      "text/plain": [
       "Processing Iterations:   0%|          | 0/40 [00:00<?, ?step/s]"
      ]
     },
     "metadata": {},
     "output_type": "display_data"
    },
    {
     "data": {
      "application/vnd.jupyter.widget-view+json": {
       "model_id": "2886b436148f44a59e955478dc6af037",
       "version_major": 2,
       "version_minor": 0
      },
      "text/plain": [
       "Processing Iterations:   0%|          | 0/40 [00:00<?, ?step/s]"
      ]
     },
     "metadata": {},
     "output_type": "display_data"
    },
    {
     "data": {
      "application/vnd.jupyter.widget-view+json": {
       "model_id": "d820d4cc3b6c441f937be04029041244",
       "version_major": 2,
       "version_minor": 0
      },
      "text/plain": [
       "Processing Iterations:   0%|          | 0/40 [00:00<?, ?step/s]"
      ]
     },
     "metadata": {},
     "output_type": "display_data"
    },
    {
     "data": {
      "application/vnd.jupyter.widget-view+json": {
       "model_id": "43dc7a82120c447aac071df1f46fda51",
       "version_major": 2,
       "version_minor": 0
      },
      "text/plain": [
       "Processing Iterations:   0%|          | 0/40 [00:00<?, ?step/s]"
      ]
     },
     "metadata": {},
     "output_type": "display_data"
    },
    {
     "data": {
      "application/vnd.jupyter.widget-view+json": {
       "model_id": "a2cbc54347fc4fa79a98479752aaac6c",
       "version_major": 2,
       "version_minor": 0
      },
      "text/plain": [
       "Processing Iterations:   0%|          | 0/40 [00:00<?, ?step/s]"
      ]
     },
     "metadata": {},
     "output_type": "display_data"
    },
    {
     "data": {
      "application/vnd.jupyter.widget-view+json": {
       "model_id": "4f4e23d5f19c43b39bad5e4fa8e78e58",
       "version_major": 2,
       "version_minor": 0
      },
      "text/plain": [
       "Processing Iterations:   0%|          | 0/40 [00:00<?, ?step/s]"
      ]
     },
     "metadata": {},
     "output_type": "display_data"
    },
    {
     "data": {
      "application/vnd.jupyter.widget-view+json": {
       "model_id": "94b3915b2ab049afb268f3e5d27005f9",
       "version_major": 2,
       "version_minor": 0
      },
      "text/plain": [
       "Processing Iterations:   0%|          | 0/40 [00:00<?, ?step/s]"
      ]
     },
     "metadata": {},
     "output_type": "display_data"
    },
    {
     "data": {
      "application/vnd.jupyter.widget-view+json": {
       "model_id": "83d2ba1430f84fd39b26841da1b52693",
       "version_major": 2,
       "version_minor": 0
      },
      "text/plain": [
       "Processing Iterations:   0%|          | 0/40 [00:00<?, ?step/s]"
      ]
     },
     "metadata": {},
     "output_type": "display_data"
    },
    {
     "data": {
      "application/vnd.jupyter.widget-view+json": {
       "model_id": "43d26e375f3a48a3b6155798c0ce2c22",
       "version_major": 2,
       "version_minor": 0
      },
      "text/plain": [
       "Processing Iterations:   0%|          | 0/40 [00:00<?, ?step/s]"
      ]
     },
     "metadata": {},
     "output_type": "display_data"
    },
    {
     "data": {
      "application/vnd.jupyter.widget-view+json": {
       "model_id": "8f01eb068db84403a5cdb21cd57096bc",
       "version_major": 2,
       "version_minor": 0
      },
      "text/plain": [
       "Processing Iterations:   0%|          | 0/40 [00:00<?, ?step/s]"
      ]
     },
     "metadata": {},
     "output_type": "display_data"
    },
    {
     "data": {
      "application/vnd.jupyter.widget-view+json": {
       "model_id": "90a63b5763dc4fdcb4f57702ca2ee16d",
       "version_major": 2,
       "version_minor": 0
      },
      "text/plain": [
       "Processing Iterations:   0%|          | 0/40 [00:00<?, ?step/s]"
      ]
     },
     "metadata": {},
     "output_type": "display_data"
    },
    {
     "data": {
      "application/vnd.jupyter.widget-view+json": {
       "model_id": "104c40a28d6e43d0ab3f047e1d58d683",
       "version_major": 2,
       "version_minor": 0
      },
      "text/plain": [
       "Processing Iterations:   0%|          | 0/40 [00:00<?, ?step/s]"
      ]
     },
     "metadata": {},
     "output_type": "display_data"
    },
    {
     "data": {
      "application/vnd.jupyter.widget-view+json": {
       "model_id": "b3b168de405d4e24b89f1cb02d047315",
       "version_major": 2,
       "version_minor": 0
      },
      "text/plain": [
       "Processing Iterations:   0%|          | 0/40 [00:00<?, ?step/s]"
      ]
     },
     "metadata": {},
     "output_type": "display_data"
    },
    {
     "data": {
      "application/vnd.jupyter.widget-view+json": {
       "model_id": "265c0ffe243a495cb6943419a2f0be98",
       "version_major": 2,
       "version_minor": 0
      },
      "text/plain": [
       "Processing Iterations:   0%|          | 0/40 [00:00<?, ?step/s]"
      ]
     },
     "metadata": {},
     "output_type": "display_data"
    },
    {
     "data": {
      "application/vnd.jupyter.widget-view+json": {
       "model_id": "1135086d05af4009bfcf1845fb828361",
       "version_major": 2,
       "version_minor": 0
      },
      "text/plain": [
       "Processing Iterations:   0%|          | 0/40 [00:00<?, ?step/s]"
      ]
     },
     "metadata": {},
     "output_type": "display_data"
    },
    {
     "data": {
      "application/vnd.jupyter.widget-view+json": {
       "model_id": "8407624edeaa4636a3571f2e894beb5f",
       "version_major": 2,
       "version_minor": 0
      },
      "text/plain": [
       "Processing Iterations:   0%|          | 0/40 [00:00<?, ?step/s]"
      ]
     },
     "metadata": {},
     "output_type": "display_data"
    },
    {
     "data": {
      "application/vnd.jupyter.widget-view+json": {
       "model_id": "c6aa633cabdf4456ab15a6e0848a5c8e",
       "version_major": 2,
       "version_minor": 0
      },
      "text/plain": [
       "Processing Iterations:   0%|          | 0/40 [00:00<?, ?step/s]"
      ]
     },
     "metadata": {},
     "output_type": "display_data"
    },
    {
     "name": "stdout",
     "output_type": "stream",
     "text": [
      "GIF saved as 'gifs/Prob distribution vs. Delta, Vertex count is 15, and initial entropy is 2.708.gif'\n"
     ]
    }
   ],
   "source": [
    "_, df15 = boss_runner(delta_range, matrix_sizes)\n",
    "_, df10 =  boss_runner(delta_range, matrix_sizes_2)"
   ]
  },
  {
   "cell_type": "code",
   "execution_count": 59,
   "id": "1413ceef-c213-439b-a502-1f8b50715d96",
   "metadata": {},
   "outputs": [
    {
     "name": "stdout",
     "output_type": "stream",
     "text": [
      "GIF saved as gifs/superposition_between_10_and_15.gif\n"
     ]
    },
    {
     "name": "stderr",
     "output_type": "stream",
     "text": [
      "/tmp/ipykernel_210476/3107715350.py:53: DeprecationWarning: Starting with ImageIO v3 the behavior of this function will switch to that of iio.v3.imread. To keep the current behavior (and make this warning disappear) use `import imageio.v2 as imageio` or call `imageio.v2.imread` directly.\n",
      "  image = imageio.imread(filename)\n"
     ]
    }
   ],
   "source": [
    "make_superpose_df(df10, df15)"
   ]
  },
  {
   "cell_type": "code",
   "execution_count": 60,
   "id": "78d4d79a-7e95-4a5c-92b8-ca86a698ba1e",
   "metadata": {},
   "outputs": [
    {
     "data": {
      "text/html": [
       "<div>\n",
       "<style scoped>\n",
       "    .dataframe tbody tr th:only-of-type {\n",
       "        vertical-align: middle;\n",
       "    }\n",
       "\n",
       "    .dataframe tbody tr th {\n",
       "        vertical-align: top;\n",
       "    }\n",
       "\n",
       "    .dataframe thead th {\n",
       "        text-align: right;\n",
       "    }\n",
       "</style>\n",
       "<table border=\"1\" class=\"dataframe\">\n",
       "  <thead>\n",
       "    <tr style=\"text-align: right;\">\n",
       "      <th></th>\n",
       "      <th>delta</th>\n",
       "      <th>vertex</th>\n",
       "      <th>iterration</th>\n",
       "      <th>entropy</th>\n",
       "      <th>u_old</th>\n",
       "    </tr>\n",
       "  </thead>\n",
       "  <tbody>\n",
       "    <tr>\n",
       "      <th>0</th>\n",
       "      <td>0.1</td>\n",
       "      <td>15</td>\n",
       "      <td>15.0</td>\n",
       "      <td>0.447755</td>\n",
       "      <td>[4.3403476444411627e-125, 8.42553849632893e-65...</td>\n",
       "    </tr>\n",
       "    <tr>\n",
       "      <th>1</th>\n",
       "      <td>0.2</td>\n",
       "      <td>15</td>\n",
       "      <td>18.0</td>\n",
       "      <td>0.813146</td>\n",
       "      <td>[7.792638734466412e-90, 3.361330109508181e-45,...</td>\n",
       "    </tr>\n",
       "    <tr>\n",
       "      <th>2</th>\n",
       "      <td>0.3</td>\n",
       "      <td>15</td>\n",
       "      <td>17.0</td>\n",
       "      <td>1.114451</td>\n",
       "      <td>[3.4216376921520563e-66, 1.9925315146568837e-3...</td>\n",
       "    </tr>\n",
       "    <tr>\n",
       "      <th>3</th>\n",
       "      <td>0.4</td>\n",
       "      <td>15</td>\n",
       "      <td>15.0</td>\n",
       "      <td>1.307180</td>\n",
       "      <td>[5.272477121519376e-52, 2.164335563662623e-26,...</td>\n",
       "    </tr>\n",
       "    <tr>\n",
       "      <th>4</th>\n",
       "      <td>0.5</td>\n",
       "      <td>15</td>\n",
       "      <td>14.0</td>\n",
       "      <td>1.430576</td>\n",
       "      <td>[6.806619352205436e-43, 7.214867537388309e-22,...</td>\n",
       "    </tr>\n",
       "    <tr>\n",
       "      <th>5</th>\n",
       "      <td>0.6</td>\n",
       "      <td>15</td>\n",
       "      <td>13.0</td>\n",
       "      <td>1.523660</td>\n",
       "      <td>[3.764637764620583e-36, 1.4223727838760121e-18...</td>\n",
       "    </tr>\n",
       "    <tr>\n",
       "      <th>6</th>\n",
       "      <td>0.7</td>\n",
       "      <td>15</td>\n",
       "      <td>13.0</td>\n",
       "      <td>1.600060</td>\n",
       "      <td>[2.8483868292798114e-31, 4.1563477954619454e-1...</td>\n",
       "    </tr>\n",
       "    <tr>\n",
       "      <th>7</th>\n",
       "      <td>0.8</td>\n",
       "      <td>15</td>\n",
       "      <td>13.0</td>\n",
       "      <td>1.665968</td>\n",
       "      <td>[2.38462069982021e-27, 3.856336121802722e-14, ...</td>\n",
       "    </tr>\n",
       "    <tr>\n",
       "      <th>8</th>\n",
       "      <td>0.9</td>\n",
       "      <td>15</td>\n",
       "      <td>12.0</td>\n",
       "      <td>1.724701</td>\n",
       "      <td>[6.296669113263092e-24, 1.694321961651188e-12,...</td>\n",
       "    </tr>\n",
       "  </tbody>\n",
       "</table>\n",
       "</div>"
      ],
      "text/plain": [
       "   delta  vertex  iterration   entropy  \\\n",
       "0    0.1      15        15.0  0.447755   \n",
       "1    0.2      15        18.0  0.813146   \n",
       "2    0.3      15        17.0  1.114451   \n",
       "3    0.4      15        15.0  1.307180   \n",
       "4    0.5      15        14.0  1.430576   \n",
       "5    0.6      15        13.0  1.523660   \n",
       "6    0.7      15        13.0  1.600060   \n",
       "7    0.8      15        13.0  1.665968   \n",
       "8    0.9      15        12.0  1.724701   \n",
       "\n",
       "                                               u_old  \n",
       "0  [4.3403476444411627e-125, 8.42553849632893e-65...  \n",
       "1  [7.792638734466412e-90, 3.361330109508181e-45,...  \n",
       "2  [3.4216376921520563e-66, 1.9925315146568837e-3...  \n",
       "3  [5.272477121519376e-52, 2.164335563662623e-26,...  \n",
       "4  [6.806619352205436e-43, 7.214867537388309e-22,...  \n",
       "5  [3.764637764620583e-36, 1.4223727838760121e-18...  \n",
       "6  [2.8483868292798114e-31, 4.1563477954619454e-1...  \n",
       "7  [2.38462069982021e-27, 3.856336121802722e-14, ...  \n",
       "8  [6.296669113263092e-24, 1.694321961651188e-12,...  "
      ]
     },
     "execution_count": 60,
     "metadata": {},
     "output_type": "execute_result"
    }
   ],
   "source": [
    "df10"
   ]
  },
  {
   "cell_type": "code",
   "execution_count": null,
   "id": "4c203cad-065a-4c26-b9a0-e5226e8c42a8",
   "metadata": {},
   "outputs": [],
   "source": []
  },
  {
   "cell_type": "code",
   "execution_count": null,
   "id": "903937a5-6f6b-457c-8398-52e30b15e7c9",
   "metadata": {},
   "outputs": [],
   "source": []
  },
  {
   "cell_type": "code",
   "execution_count": null,
   "id": "ceeca147-cd0d-4119-bb76-4ed1e1c07e99",
   "metadata": {},
   "outputs": [],
   "source": []
  },
  {
   "cell_type": "code",
   "execution_count": null,
   "id": "f4658e76-6d6a-4519-9972-66b4bbd37d3b",
   "metadata": {},
   "outputs": [],
   "source": []
  },
  {
   "cell_type": "code",
   "execution_count": null,
   "id": "4e3f3b9d-410a-4660-8949-cc8f36b565aa",
   "metadata": {},
   "outputs": [],
   "source": []
  },
  {
   "cell_type": "code",
   "execution_count": 47,
   "id": "220c9b44-7ff2-4e14-b5e1-b929b6fb078e",
   "metadata": {},
   "outputs": [],
   "source": [
    "def make_superpose_df(df1, df2):\n",
    "    os.makedirs('frames', exist_ok=True)\n",
    "    folder_path = \"gifs\"\n",
    "    os.makedirs(folder_path, exist_ok=True)\n",
    "\n",
    "    filenames = []\n",
    "\n",
    "    for i in range(len(df1)):\n",
    "        frame_path = f'frames/frame_{i:03d}.png'\n",
    "        filenames.append(frame_path)\n",
    "\n",
    "        fig, ax = plt.subplots(figsize=(14, 6))\n",
    "\n",
    "        vertex1 = df1.iloc[i]['vertex']\n",
    "        u_old1 = df1.iloc[i]['u_old']\n",
    "        u_old1 = [v / sum(u_old1) for v in u_old1]\n",
    "\n",
    "        vertex2 = df2.iloc[i]['vertex']\n",
    "        u_old2 = df2.iloc[i]['u_old']\n",
    "        u_old2 = [v / sum(u_old2) for v in u_old2]\n",
    "\n",
    "        max_vertex = max(vertex1, vertex2)\n",
    "        common_range = max_vertex + 2\n",
    "        x_common = np.arange(common_range)\n",
    "\n",
    "        center1 = common_range // 2 - vertex1 // 2\n",
    "        center2 = common_range // 2 - vertex2 // 2\n",
    "\n",
    "        x1 = np.arange(vertex1) + center1\n",
    "        x2 = np.arange(vertex2) + center2\n",
    "\n",
    "        ax.bar(x1, u_old1, width=0.4, color='blue', alpha=0.7, label='Tree 1')\n",
    "        ax.bar(x2, u_old2, width=0.4, edgecolor='red', fill=False, linestyle='--', linewidth=2, label='Tree 2')\n",
    "\n",
    "\n",
    "        ax.set_xlabel('Vertex')\n",
    "        ax.set_ylabel('Probability')\n",
    "        ax.set_title(f\"Superposition of Tree 1 and Tree 2 at Frame {i}\")\n",
    "        ax.set_ylim(0, 1)\n",
    "\n",
    "        ax.legend()\n",
    "        ax.grid(True, linestyle='--', alpha=0.3)\n",
    "\n",
    "        fig.tight_layout()\n",
    "        fig.savefig(frame_path)\n",
    "        plt.close(fig)\n",
    "\n",
    "    filename = f\"superposition_between_10_and_15\"\n",
    "    gif_filename = f\"{folder_path}/{filename}.gif\"\n",
    "\n",
    "    with imageio.get_writer(gif_filename, mode='I', duration=4.0, loop=0) as writer:\n",
    "        for filename in filenames:\n",
    "            image = imageio.imread(filename)\n",
    "            writer.append_data(image)\n",
    "\n",
    "    for filename in filenames:\n",
    "        os.remove(filename)\n",
    "\n",
    "    print(f\"GIF saved as {gif_filename}\")\n"
   ]
  },
  {
   "cell_type": "code",
   "execution_count": 44,
   "id": "655720f1-3d6e-4cb5-8ee2-c56d9d38ceb7",
   "metadata": {},
   "outputs": [],
   "source": [
    "\n",
    "def make_superpose_df(df1, df2):\n",
    "    os.makedirs('frames', exist_ok=True)\n",
    "    folder_path = \"gifs\"\n",
    "    os.makedirs(folder_path, exist_ok=True)\n",
    "    \n",
    "    filenames = []\n",
    "\n",
    "    for i in range(len(df1)):\n",
    "        frame_path = f'frames/frame_{i:03d}.png'\n",
    "        filenames.append(frame_path)\n",
    "        \n",
    "        fig, ax = plt.subplots(figsize=(14, 12))\n",
    "        \n",
    "        vertex1 = df1.iloc[i]['vertex']\n",
    "        u_old1 = df1.iloc[i]['u_old']\n",
    "        u_old1 = [i/sum(u_old1) for i in u_old1]\n",
    "\n",
    "        vertex2 = df2.iloc[i]['vertex']\n",
    "        u_old2 = df2.iloc[i]['u_old']\n",
    "        u_old2 = [i/sum(u_old2) for i in u_old2]\n",
    "        \n",
    "        ax.bar(range(vertex1), u_old1, color = 'blue') #find a way to possibly center this-> maybe ecenter then play with the width?\n",
    "        ax.bar(range(vertex2), u_old2, color = 'red')\n",
    "        ax.set_xlabel('vertex')\n",
    "        ax.set_ylabel('Prob')\n",
    "        ax.set_title(f\"superposition of df1 and df2\")\n",
    "\n",
    "        ax.set_ylim(0, 1)\n",
    "        ticks = np.arange(0, max(u_old1) + 0.01, 1)\n",
    "        ax.set_yticks(ticks)\n",
    "        \n",
    "        fig.savefig(frame_path)\n",
    "        plt.close(fig)\n",
    "    \n",
    "    filename = f\"superposition between 10 and 15\"\n",
    "    gif_filename = f\"{folder_path}/{filename}.gif\"\n",
    "    \n",
    "    with imageio.get_writer(gif_filename, mode='I', duration=4.0, loop = 0) as writer:\n",
    "        for filename in filenames:\n",
    "            image = imageio.imread(filename)\n",
    "            writer.append_data(image)\n",
    "    \n",
    "\n",
    "    for filename in filenames:\n",
    "        os.remove(filename)\n",
    "    \n",
    "    print(f\"GIF saved as \")"
   ]
  },
  {
   "cell_type": "code",
   "execution_count": null,
   "id": "1decc988-7c7b-49e8-bafc-113bd6bef980",
   "metadata": {},
   "outputs": [],
   "source": []
  },
  {
   "cell_type": "code",
   "execution_count": null,
   "id": "9cf7b175-d38b-4657-8ba8-e6982a4111fe",
   "metadata": {},
   "outputs": [],
   "source": []
  },
  {
   "cell_type": "code",
   "execution_count": null,
   "id": "cf350203-03a1-4787-a769-67230b07726c",
   "metadata": {},
   "outputs": [],
   "source": []
  },
  {
   "cell_type": "code",
   "execution_count": null,
   "id": "74a9bdcc-5fdb-4469-884c-7d5beb72c09a",
   "metadata": {},
   "outputs": [],
   "source": []
  },
  {
   "cell_type": "code",
   "execution_count": null,
   "id": "12290e2c-8930-459b-bab9-d9d141866e51",
   "metadata": {},
   "outputs": [],
   "source": []
  },
  {
   "cell_type": "code",
   "execution_count": null,
   "id": "c1a3b1d2-40c7-4b9d-b8bf-d265669508c8",
   "metadata": {},
   "outputs": [],
   "source": []
  },
  {
   "cell_type": "code",
   "execution_count": null,
   "id": "527fb3a8-94c9-4024-ab14-ac18f47844cf",
   "metadata": {},
   "outputs": [],
   "source": []
  },
  {
   "cell_type": "code",
   "execution_count": null,
   "id": "bf9b2160-bb49-45cd-8255-8c1c65386361",
   "metadata": {},
   "outputs": [],
   "source": []
  },
  {
   "cell_type": "code",
   "execution_count": null,
   "id": "7d3d9f4e-b2fa-4363-9323-c7e21957ff5c",
   "metadata": {},
   "outputs": [],
   "source": []
  },
  {
   "cell_type": "code",
   "execution_count": null,
   "id": "85002538-afe7-4244-a919-af9a9d2f7d6a",
   "metadata": {},
   "outputs": [],
   "source": []
  },
  {
   "cell_type": "code",
   "execution_count": null,
   "id": "1671ab52-b424-4f9d-8787-c1b4ca29a750",
   "metadata": {},
   "outputs": [],
   "source": []
  },
  {
   "cell_type": "code",
   "execution_count": null,
   "id": "f78d55a5-b934-48cb-907a-aca85cc24630",
   "metadata": {},
   "outputs": [],
   "source": []
  },
  {
   "cell_type": "code",
   "execution_count": null,
   "id": "1fdc1f2d-4052-43e2-883d-3a26a24dfaa3",
   "metadata": {},
   "outputs": [],
   "source": []
  },
  {
   "cell_type": "code",
   "execution_count": null,
   "id": "051bb67f-acb1-4700-a014-2b6862e44eb1",
   "metadata": {},
   "outputs": [],
   "source": [
    "#from this point onwards, it's old jsut kept just in case as a backup"
   ]
  },
  {
   "cell_type": "code",
   "execution_count": null,
   "id": "7c996c95-1aaa-468a-9221-e2933be9e2e5",
   "metadata": {},
   "outputs": [],
   "source": []
  },
  {
   "cell_type": "code",
   "execution_count": null,
   "id": "2ad0127d-1342-4bae-b921-fc92a40f70a7",
   "metadata": {},
   "outputs": [],
   "source": []
  },
  {
   "cell_type": "code",
   "execution_count": null,
   "id": "d22e83b7-dae7-40b0-94ff-2a8de9fb5bd4",
   "metadata": {},
   "outputs": [],
   "source": []
  },
  {
   "cell_type": "code",
   "execution_count": null,
   "id": "b69e672e-5d41-475e-a406-177e81bcc085",
   "metadata": {},
   "outputs": [],
   "source": []
  },
  {
   "cell_type": "code",
   "execution_count": null,
   "id": "f90c6d4a-4197-4853-a91f-e9f07621f3ca",
   "metadata": {},
   "outputs": [],
   "source": [
    "#previous way of stopping the iterations\n",
    "centers = None\n",
    "u_old = None\n",
    "matrix = matrix_uniform_attachment(15)\n",
    "delta = 0.3\n",
    "matri = diffusion_process(matrix, delta)\n",
    "iterations_done = 0\n",
    "last_four_value = []\n",
    "\n",
    "tolerance = 1e-5\n",
    "for _ in range(20):\n",
    "    x,y = calculate_u_new(matrix, u_old = u_old, centers = centers)\n",
    "    centers = y\n",
    "    value = np.matmul(matri, np.array(x))\n",
    "    u_old = value\n",
    "\n",
    "    if len(last_four_value) < 4:\n",
    "        last_four_value.append(value)\n",
    "    elif len(last_four_value) >= 4:\n",
    "        last_four_value.remove(last_four_value[0])\n",
    "        last_four_value.append(value)\n",
    "\n",
    "\n",
    "    iterations_done+=1\n",
    "    if len(last_four_value) >= 4:\n",
    "        diffs = [np.linalg.norm(last_four_value[i] - last_four_value[i - 1]) for i in range(1, 4)]\n",
    "        if np.mean(diffs) < tolerance:\n",
    "            break\n",
    "\n"
   ]
  },
  {
   "cell_type": "code",
   "execution_count": null,
   "id": "089456f6-d783-4d3b-86e3-f9646bd22553",
   "metadata": {},
   "outputs": [],
   "source": []
  },
  {
   "cell_type": "code",
   "execution_count": null,
   "id": "da1e0aa8-c9f4-4b91-b80e-22ab521fa969",
   "metadata": {},
   "outputs": [],
   "source": []
  },
  {
   "cell_type": "code",
   "execution_count": null,
   "id": "62471cea-ff54-4e0e-8606-e2011fa10dc0",
   "metadata": {},
   "outputs": [],
   "source": []
  },
  {
   "cell_type": "code",
   "execution_count": null,
   "id": "9a244e75-e51f-490d-888f-032ef8e0d20b",
   "metadata": {},
   "outputs": [],
   "source": []
  },
  {
   "cell_type": "code",
   "execution_count": null,
   "id": "c45a7780-8228-43a8-a35a-059e69b0eed2",
   "metadata": {},
   "outputs": [],
   "source": []
  },
  {
   "cell_type": "code",
   "execution_count": null,
   "id": "54825036-7721-4dcf-9e4e-8b3d62b6ab56",
   "metadata": {},
   "outputs": [],
   "source": [
    "delta_range = [0.1, 0.2, 0.3, 0.4, 0.5, 0.6, 0.7, 0.8, 0.9]\n",
    "matrix_sizes = list(range(5,14))\n",
    "\n",
    "def boss_runner(delta_range, matrix_sizes, tolerance = 1e-12, model_type = \"random_uni\"):\n",
    "\n",
    "    all_data = []\n",
    "    \n",
    "    for matrix_size in matrix_sizes:   \n",
    "        iteration = []\n",
    "        for delta in delta_range:\n",
    "            for _ in range(10):\n",
    "                local_it = []\n",
    "                local_entropy = []\n",
    "                u_new, iterr, entropy = main_guy(delta, model_type=model_type, matrix_size=matrix_size, tolerance=tolerance)\n",
    "                local_it.append(iterr)\n",
    "                local_entropy.append(entropy)\n",
    "            iteration.append({'delta':delta ,\n",
    "                              'vertex':matrix_size,\n",
    "                            'iterration':np.mean(local_it),\n",
    "                            'entropy': np.mean(local_entropy),\n",
    "                             'u_old' : u_new})\n",
    "    \n",
    "        all_data.append(iteration)\n",
    "        df = pd.DataFrame(iteration)\n",
    "    \n",
    "        plt.figure(figsize=(8, 5))\n",
    "        sns.set(style=\"whitegrid\")\n",
    "        \n",
    "        \n",
    "        plt.semilogy(df['delta'], df['u_old'], marker='o', linestyle='-', color='b', \n",
    "                     label=f'Entropy (Matrix Size: {matrix_size}, Tolerance: {tolerance}, Model: {model_type})')\n",
    "        \n",
    "        \n",
    "        plt.xlabel(\"(delta)\", fontsize=12)\n",
    "        plt.ylabel(\"Entropy (log scale)\", fontsize=12)\n",
    "        title = f\"Entropy vs. Delta, Vertex count is {df['vertex'][0]}, and initial entropy is {round(np.log(df['vertex'][0]), 3)}\"\n",
    "        plt.title(title, fontsize=14)\n",
    "        plt.legend()\n",
    "        plt.grid(True, which=\"both\", linestyle=\"--\", linewidth=0.5)\n",
    "        \n",
    "        \n",
    "\n",
    "        folder_path = \"images\"\n",
    "        os.makedirs(folder_path, exist_ok=True)\n",
    "        path = os.path.join(folder_path, f\"plot_{title}.png\")\n",
    "        plt.savefig(path)\n",
    "        plt.show()\n",
    "    \n",
    "    return all_data"
   ]
  }
 ],
 "metadata": {
  "kernelspec": {
   "display_name": "Python 3 (ipykernel)",
   "language": "python",
   "name": "python3"
  },
  "language_info": {
   "codemirror_mode": {
    "name": "ipython",
    "version": 3
   },
   "file_extension": ".py",
   "mimetype": "text/x-python",
   "name": "python",
   "nbconvert_exporter": "python",
   "pygments_lexer": "ipython3",
   "version": "3.10.12"
  }
 },
 "nbformat": 4,
 "nbformat_minor": 5
}
