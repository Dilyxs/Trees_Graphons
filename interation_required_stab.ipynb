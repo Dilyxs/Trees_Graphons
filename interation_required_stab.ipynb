{
 "cells": [
  {
   "cell_type": "code",
   "execution_count": 1,
   "id": "48701d9c-e350-43cf-81b0-9ca975d74116",
   "metadata": {},
   "outputs": [
    {
     "name": "stdout",
     "output_type": "stream",
     "text": [
      "0.11748123168945312\n"
     ]
    }
   ],
   "source": [
    "import numpy as np\n",
    "import networkx as nx\n",
    "import matplotlib.pyplot as plt\n",
    "import copy\n",
    "from uniform_attachment_model  import matrix_uniform_attachment\n",
    "from tqdm.notebook import tqdm\n",
    "import pandas as pd\n",
    "import time"
   ]
  },
  {
   "cell_type": "code",
   "execution_count": 2,
   "id": "f5e96de1-4f1b-4c65-9fbc-dbea8ef96f77",
   "metadata": {},
   "outputs": [],
   "source": [
    "def find_barycenter_prob(matrix, vertex_to_remove):\n",
    "\n",
    "    matrix_copy = copy.deepcopy(matrix)\n",
    "\n",
    "    row_c = [0, 1]\n",
    "\n",
    "    for i in vertex_to_remove:\n",
    "        if vertex_to_remove.count(i) >= 2:\n",
    "            return i  \n",
    "\n",
    "    while len(row_c) != 0:\n",
    "        row, column = row_colum_returner(matrix_copy, vertex_to_remove)\n",
    "        row_c = row\n",
    "\n",
    "        if len(row_c) == 0:\n",
    "            break\n",
    "\n",
    "        for r, c in zip(row, column):\n",
    "            matrix_copy = make_that_1_into_0_with_transpose(matrix_copy, r, c)\n",
    "\n",
    " \n",
    "    for s, i in enumerate(matrix_copy):\n",
    "        if sum(i) == 3:\n",
    "            return s  #\n",
    "\n",
    "    for i in vertex_to_remove:\n",
    "        if sum(matrix_copy[i]) == 2:\n",
    "            return i  \n",
    "\n",
    " \n",
    "    return None\n",
    "def row_colum_returner(matrix, vertex_to_remove):\n",
    "    s= 0 \n",
    "    column = []\n",
    "    row = []\n",
    "    for i in matrix:\n",
    "        if sum(i) == 1:\n",
    "            if s in vertex_to_remove:\n",
    "                pass\n",
    "            if s not in vertex_to_remove:\n",
    "                d = 0\n",
    "                for v in i:\n",
    "                    if v==1:\n",
    "                        row.append(s)\n",
    "                        column.append(d)\n",
    "                    d+=1\n",
    "                        \n",
    "    \n",
    "        s+=1\n",
    "\n",
    "    return row, column\n",
    "\n",
    "def calculate_u_new(matrix):\n",
    "    row_count = max(len(i) for i in matrix)\n",
    "    u_new = [0] * row_count\n",
    "    u_old = [1 / row_count] * row_count\n",
    "    \n",
    "    for i in range(0, row_count):\n",
    "        for j in range(0, row_count):\n",
    "            for k in range(0, row_count):\n",
    "                center = find_barycenter_prob(matrix, vertex_to_remove=[i, j, k])\n",
    "                u_new[center] += u_old[i] * u_old[j] * u_old[k]\n",
    "    \n",
    "    return u_new\n",
    "\n",
    "\n",
    "def find_barycenter_deterministic(adj_matrix):\n",
    "    leaf_cut = []    \n",
    "    adj_matrix_copy = copy.deepcopy(adj_matrix)\n",
    "    \n",
    "    n = len(adj_matrix_copy)  # Number of nodes, number of rows\n",
    "    degrees = np.sum(adj_matrix_copy, axis=1)  # Sum of row = degree\n",
    "    nodes = set(range(n))  # All vertices\n",
    "    \n",
    "    while len(nodes) > 2: \n",
    "        # Find all leaf nodes (nodes with degree 1)\n",
    "        leaf_nodes = [i for i in nodes if degrees[i] == 1]  # Only those with a single 1 are leaves\n",
    "        \n",
    "        for leaf in leaf_nodes:\n",
    "            nodes.remove(leaf)  # Remove the leaf\n",
    "            degrees[leaf] = 0  # Degree is then 0\n",
    "\n",
    "            for neighbor in range(n):  # Check all neighbors\n",
    "                if adj_matrix_copy[leaf][neighbor] == 1:  # If there is a connection\n",
    "                    degrees[neighbor] -= 1  # Decrement the degree of the neighbor\n",
    "                    adj_matrix_copy[leaf][neighbor] = 0  # Change the 1 to 0\n",
    "                    adj_matrix_copy[neighbor][leaf] = 0  # Also change its \"transpose position\" to 0\n",
    "        leaf_cut.append(1)\n",
    "\n",
    "    # At this point, there should only be 1 or 2 nodes left\n",
    "    remaining_nodes = list(nodes)  # Convert the set to a list\n",
    "\n",
    "    if len(remaining_nodes) == 1:  # If only 1 vertex remains\n",
    "        return remaining_nodes, adj_matrix_copy, sum(leaf_cut)\n",
    "    elif len(remaining_nodes) == 2:  # If 2 vertices remain\n",
    "        return remaining_nodes, adj_matrix_copy, sum(leaf_cut)\n",
    "\n",
    "def make_that_1_into_0_with_transpose(matrix, row, column):\n",
    "    matrix[row][column] = 0\n",
    "    matrix[column][row] = 0\n",
    "\n",
    "\n",
    "    return matrix\n",
    "\n",
    "def draw_graph_from_adjacency_matrix(adjacency_matrix):\n",
    "    G = nx.Graph()\n",
    "\n",
    "    for i in range(len(adjacency_matrix)):\n",
    "        for j in range(len(adjacency_matrix[i])):\n",
    "            if adjacency_matrix[i][j] != 0: \n",
    "                G.add_edge(i, j, weight=adjacency_matrix[i][j])\n",
    "\n",
    "\n",
    "    G.add_nodes_from(range(len(adjacency_matrix)))\n",
    "\n",
    "    pos = nx.spring_layout(G, seed=42)\n",
    "\n",
    "    # Draw the graph\n",
    "    plt.figure(figsize=(8, 6))\n",
    "    nx.draw(\n",
    "        G,\n",
    "        pos,\n",
    "        with_labels=True,\n",
    "        node_color='lightblue',\n",
    "        edge_color='black',\n",
    "        node_size=10,\n",
    "        font_size=10,\n",
    "        width=0.5\n",
    "    )\n",
    "    plt.title(\"Graph from Adjacency Matrix\")\n",
    "    plt.show()\n"
   ]
  },
  {
   "cell_type": "code",
   "execution_count": 3,
   "id": "904ed64a-4a57-45d1-bbfc-87cf5b401721",
   "metadata": {},
   "outputs": [],
   "source": [
    "def calculate_u_new(matrix, u_old = None):\n",
    "    row_count = max(len(i) for i in matrix)\n",
    "    u_new = [0] * row_count\n",
    "\n",
    "    if u_old is None:\n",
    "        u_old = [1 / row_count] * row_count\n",
    "    \n",
    "    for i in range(0, row_count):\n",
    "        for j in range(0, row_count):\n",
    "            for k in range(0, row_count):\n",
    "                center = find_barycenter_prob(matrix, vertex_to_remove=[i, j, k])\n",
    "                u_new[center] += u_old[i] * u_old[j] * u_old[k]\n",
    "    \n",
    "    return u_new"
   ]
  },
  {
   "cell_type": "code",
   "execution_count": 4,
   "id": "138068a0-aa51-4130-bc8e-935571c111cf",
   "metadata": {},
   "outputs": [],
   "source": [
    "def entropy_calculator(list_s):\n",
    "    entropy_sum_list = []\n",
    "    for i in list_s:\n",
    "        if i < 0.0000000001:\n",
    "            value = 0\n",
    "        else:\n",
    "            value = i * np.log(i)\n",
    "            entropy_sum_list.append(value)\n",
    "    \n",
    "    return -sum(entropy_sum_list)"
   ]
  },
  {
   "cell_type": "code",
   "execution_count": 5,
   "id": "add1fb52-bca1-4884-a029-65922055fa6c",
   "metadata": {},
   "outputs": [],
   "source": [
    "def main_entropy_for_each_interation(n, matrix):\n",
    "    start_time = time.time() \n",
    "    total_steps = n\n",
    "    progress_bar = tqdm(total=total_steps, desc=\"Computing\", dynamic_ncols=True)\n",
    "\n",
    "    list_with_all_iteration = []\n",
    "    u_old = None\n",
    "\n",
    "    for s in range(n):\n",
    "        elapsed_time = time.time() - start_time\n",
    "        progress_bar.set_description(f\"Elapsed: {elapsed_time:.2f} sec\")\n",
    "        u_calculated = calculate_u_new(matrix, u_old)\n",
    "        entropy_received = (entropy_calculator(u_calculated)).round(4)\n",
    "        u_old = u_calculated\n",
    "\n",
    "        dict_2_send = {\n",
    "            \"interation\": s,\n",
    "            \"entropy\": entropy_received,\n",
    "            'u_calculated': u_calculated\n",
    "        }\n",
    "        list_with_all_iteration.append(dict_2_send)\n",
    "\n",
    "        if entropy_received < np.log(2).round(10):  \n",
    "            progress_bar.n = total_steps  # Set progress to max\n",
    "            progress_bar.refresh()  # Force update the UI\n",
    "            progress_bar.close\n",
    "            break  \n",
    "\n",
    "        progress_bar.update(1)  \n",
    "\n",
    "    progress_bar.close()  \n",
    "    return list_with_all_iteration\n"
   ]
  },
  {
   "cell_type": "code",
   "execution_count": 265,
   "id": "a62ec6fb-da4b-4f64-9a5a-5a7d4eec6f1c",
   "metadata": {},
   "outputs": [
    {
     "data": {
      "image/png": "[encoded data removed]",
      "text/plain": [
       "<Figure size 1008x504 with 1 Axes>"
      ]
     },
     "metadata": {
      "needs_background": "light"
     },
     "output_type": "display_data"
    }
   ],
   "source": [
    "plt.figure(figsize=(14, 7))\n",
    "plt.semilogy(final_df['interation'],final_df['entropy'])\n",
    "plt.title(\"Entropy Calculated by interations\")\n",
    "plt.xlabel(\"iterations\")\n",
    "plt.ylabel(\"Entropy\")\n",
    "plt.grid()\n",
    "plt.show()"
   ]
  },
  {
   "cell_type": "code",
   "execution_count": 7,
   "id": "66a3f233-f1a5-49e2-bde4-21ab2a018988",
   "metadata": {
    "scrolled": true
   },
   "outputs": [
    {
     "data": {
      "application/vnd.jupyter.widget-view+json": {
       "model_id": "4ce6c494532e4a1f905bd9916269b075",
       "version_major": 2,
       "version_minor": 0
      },
      "text/plain": [
       "Computing:   0%|                                         | 0/10 [00:00<?, ?it/s]"
      ]
     },
     "metadata": {},
     "output_type": "display_data"
    },
    {
     "data": {
      "application/vnd.jupyter.widget-view+json": {
       "model_id": "50b60cd1b0ff4d8f827fa719c8ee604b",
       "version_major": 2,
       "version_minor": 0
      },
      "text/plain": [
       "Computing:   0%|                                         | 0/10 [00:00<?, ?it/s]"
      ]
     },
     "metadata": {},
     "output_type": "display_data"
    },
    {
     "data": {
      "application/vnd.jupyter.widget-view+json": {
       "model_id": "00433b3b557143d5881a30b86513b5a4",
       "version_major": 2,
       "version_minor": 0
      },
      "text/plain": [
       "Computing:   0%|                                         | 0/10 [00:00<?, ?it/s]"
      ]
     },
     "metadata": {},
     "output_type": "display_data"
    },
    {
     "data": {
      "application/vnd.jupyter.widget-view+json": {
       "model_id": "0989545fe92b4343ab5dea092f387efb",
       "version_major": 2,
       "version_minor": 0
      },
      "text/plain": [
       "Computing:   0%|                                         | 0/10 [00:00<?, ?it/s]"
      ]
     },
     "metadata": {},
     "output_type": "display_data"
    },
    {
     "data": {
      "application/vnd.jupyter.widget-view+json": {
       "model_id": "35bfb490f2e447a594df35b4e6e67311",
       "version_major": 2,
       "version_minor": 0
      },
      "text/plain": [
       "Computing:   0%|                                         | 0/10 [00:00<?, ?it/s]"
      ]
     },
     "metadata": {},
     "output_type": "display_data"
    },
    {
     "data": {
      "application/vnd.jupyter.widget-view+json": {
       "model_id": "d3513412ca4940d39edf961ba9ffff98",
       "version_major": 2,
       "version_minor": 0
      },
      "text/plain": [
       "Computing:   0%|                                         | 0/10 [00:00<?, ?it/s]"
      ]
     },
     "metadata": {},
     "output_type": "display_data"
    },
    {
     "data": {
      "application/vnd.jupyter.widget-view+json": {
       "model_id": "9abff5d1f74d4e8ca65660a02dc07a30",
       "version_major": 2,
       "version_minor": 0
      },
      "text/plain": [
       "Computing:   0%|                                         | 0/10 [00:00<?, ?it/s]"
      ]
     },
     "metadata": {},
     "output_type": "display_data"
    },
    {
     "data": {
      "application/vnd.jupyter.widget-view+json": {
       "model_id": "8f24594b3b154bb7ba32dda65c0a3d0d",
       "version_major": 2,
       "version_minor": 0
      },
      "text/plain": [
       "Computing:   0%|                                         | 0/10 [00:00<?, ?it/s]"
      ]
     },
     "metadata": {},
     "output_type": "display_data"
    },
    {
     "data": {
      "application/vnd.jupyter.widget-view+json": {
       "model_id": "460913eab0ad4fd4b4bdd57117e9e2d0",
       "version_major": 2,
       "version_minor": 0
      },
      "text/plain": [
       "Computing:   0%|                                         | 0/10 [00:00<?, ?it/s]"
      ]
     },
     "metadata": {},
     "output_type": "display_data"
    },
    {
     "data": {
      "application/vnd.jupyter.widget-view+json": {
       "model_id": "4e7549e4fe9f41ffb270bf49351343ec",
       "version_major": 2,
       "version_minor": 0
      },
      "text/plain": [
       "Computing:   0%|                                         | 0/10 [00:00<?, ?it/s]"
      ]
     },
     "metadata": {},
     "output_type": "display_data"
    },
    {
     "data": {
      "application/vnd.jupyter.widget-view+json": {
       "model_id": "556ba149235e45ab805513ba5105c533",
       "version_major": 2,
       "version_minor": 0
      },
      "text/plain": [
       "Computing:   0%|                                         | 0/10 [00:00<?, ?it/s]"
      ]
     },
     "metadata": {},
     "output_type": "display_data"
    },
    {
     "data": {
      "application/vnd.jupyter.widget-view+json": {
       "model_id": "7d6de034dfdf469c95d8086d37106150",
       "version_major": 2,
       "version_minor": 0
      },
      "text/plain": [
       "Computing:   0%|                                         | 0/10 [00:00<?, ?it/s]"
      ]
     },
     "metadata": {},
     "output_type": "display_data"
    },
    {
     "data": {
      "application/vnd.jupyter.widget-view+json": {
       "model_id": "030ee9910b544025a776883c4b998b4b",
       "version_major": 2,
       "version_minor": 0
      },
      "text/plain": [
       "Computing:   0%|                                         | 0/10 [00:00<?, ?it/s]"
      ]
     },
     "metadata": {},
     "output_type": "display_data"
    },
    {
     "data": {
      "application/vnd.jupyter.widget-view+json": {
       "model_id": "50000cc237a7436bb65e7751016f4e3d",
       "version_major": 2,
       "version_minor": 0
      },
      "text/plain": [
       "Computing:   0%|                                         | 0/10 [00:00<?, ?it/s]"
      ]
     },
     "metadata": {},
     "output_type": "display_data"
    },
    {
     "data": {
      "application/vnd.jupyter.widget-view+json": {
       "model_id": "1eb4dbd83f594593b5e532afdf792df8",
       "version_major": 2,
       "version_minor": 0
      },
      "text/plain": [
       "Computing:   0%|                                         | 0/10 [00:00<?, ?it/s]"
      ]
     },
     "metadata": {},
     "output_type": "display_data"
    },
    {
     "data": {
      "application/vnd.jupyter.widget-view+json": {
       "model_id": "0f7c1e8f6e9446c49fcf7dcbe865165a",
       "version_major": 2,
       "version_minor": 0
      },
      "text/plain": [
       "Computing:   0%|                                         | 0/10 [00:00<?, ?it/s]"
      ]
     },
     "metadata": {},
     "output_type": "display_data"
    },
    {
     "data": {
      "application/vnd.jupyter.widget-view+json": {
       "model_id": "2e5de9fdd6074745ad02feea41ee8980",
       "version_major": 2,
       "version_minor": 0
      },
      "text/plain": [
       "Computing:   0%|                                         | 0/10 [00:00<?, ?it/s]"
      ]
     },
     "metadata": {},
     "output_type": "display_data"
    },
    {
     "data": {
      "application/vnd.jupyter.widget-view+json": {
       "model_id": "ed5873b40caf43828f44fa82b6641979",
       "version_major": 2,
       "version_minor": 0
      },
      "text/plain": [
       "Computing:   0%|                                         | 0/10 [00:00<?, ?it/s]"
      ]
     },
     "metadata": {},
     "output_type": "display_data"
    },
    {
     "data": {
      "application/vnd.jupyter.widget-view+json": {
       "model_id": "c3ef059493b44b32a1e83ba13c0e17c9",
       "version_major": 2,
       "version_minor": 0
      },
      "text/plain": [
       "Computing:   0%|                                         | 0/10 [00:00<?, ?it/s]"
      ]
     },
     "metadata": {},
     "output_type": "display_data"
    },
    {
     "data": {
      "application/vnd.jupyter.widget-view+json": {
       "model_id": "ee7fbca52bcb4ca4baf1448d8b26a4e7",
       "version_major": 2,
       "version_minor": 0
      },
      "text/plain": [
       "Computing:   0%|                                         | 0/10 [00:00<?, ?it/s]"
      ]
     },
     "metadata": {},
     "output_type": "display_data"
    },
    {
     "data": {
      "application/vnd.jupyter.widget-view+json": {
       "model_id": "a7568912748e4367b06bd09039f1c357",
       "version_major": 2,
       "version_minor": 0
      },
      "text/plain": [
       "Computing:   0%|                                         | 0/10 [00:00<?, ?it/s]"
      ]
     },
     "metadata": {},
     "output_type": "display_data"
    },
    {
     "data": {
      "application/vnd.jupyter.widget-view+json": {
       "model_id": "6ef72e1a8288414494566a2e1d284f25",
       "version_major": 2,
       "version_minor": 0
      },
      "text/plain": [
       "Computing:   0%|                                         | 0/10 [00:00<?, ?it/s]"
      ]
     },
     "metadata": {},
     "output_type": "display_data"
    },
    {
     "data": {
      "application/vnd.jupyter.widget-view+json": {
       "model_id": "37d35547ce9b4e6193be5eae90fe422b",
       "version_major": 2,
       "version_minor": 0
      },
      "text/plain": [
       "Computing:   0%|                                         | 0/10 [00:00<?, ?it/s]"
      ]
     },
     "metadata": {},
     "output_type": "display_data"
    },
    {
     "data": {
      "application/vnd.jupyter.widget-view+json": {
       "model_id": "b84283a083c244deb075bf5018299b7d",
       "version_major": 2,
       "version_minor": 0
      },
      "text/plain": [
       "Computing:   0%|                                         | 0/10 [00:00<?, ?it/s]"
      ]
     },
     "metadata": {},
     "output_type": "display_data"
    },
    {
     "data": {
      "application/vnd.jupyter.widget-view+json": {
       "model_id": "07a235e9e379482da4873a02e8cbc2b9",
       "version_major": 2,
       "version_minor": 0
      },
      "text/plain": [
       "Computing:   0%|                                         | 0/10 [00:00<?, ?it/s]"
      ]
     },
     "metadata": {},
     "output_type": "display_data"
    },
    {
     "data": {
      "application/vnd.jupyter.widget-view+json": {
       "model_id": "533d3f50de104ac590b5913a6fda2329",
       "version_major": 2,
       "version_minor": 0
      },
      "text/plain": [
       "Computing:   0%|                                         | 0/10 [00:00<?, ?it/s]"
      ]
     },
     "metadata": {},
     "output_type": "display_data"
    },
    {
     "data": {
      "application/vnd.jupyter.widget-view+json": {
       "model_id": "3120cd1c63514cf29e02ef605e57e9b8",
       "version_major": 2,
       "version_minor": 0
      },
      "text/plain": [
       "Computing:   0%|                                         | 0/10 [00:00<?, ?it/s]"
      ]
     },
     "metadata": {},
     "output_type": "display_data"
    },
    {
     "data": {
      "application/vnd.jupyter.widget-view+json": {
       "model_id": "86950c9593f44efcad4fd17f384dc67b",
       "version_major": 2,
       "version_minor": 0
      },
      "text/plain": [
       "Computing:   0%|                                         | 0/10 [00:00<?, ?it/s]"
      ]
     },
     "metadata": {},
     "output_type": "display_data"
    },
    {
     "data": {
      "application/vnd.jupyter.widget-view+json": {
       "model_id": "93b576340dd145b09ffe4a4d7b12dec9",
       "version_major": 2,
       "version_minor": 0
      },
      "text/plain": [
       "Computing:   0%|                                         | 0/10 [00:00<?, ?it/s]"
      ]
     },
     "metadata": {},
     "output_type": "display_data"
    },
    {
     "data": {
      "application/vnd.jupyter.widget-view+json": {
       "model_id": "6b2466e19f154f2799bf89d3c1b64195",
       "version_major": 2,
       "version_minor": 0
      },
      "text/plain": [
       "Computing:   0%|                                         | 0/10 [00:00<?, ?it/s]"
      ]
     },
     "metadata": {},
     "output_type": "display_data"
    },
    {
     "data": {
      "application/vnd.jupyter.widget-view+json": {
       "model_id": "e7baf2c296b741a985e6dc59aacb0064",
       "version_major": 2,
       "version_minor": 0
      },
      "text/plain": [
       "Computing:   0%|                                         | 0/10 [00:00<?, ?it/s]"
      ]
     },
     "metadata": {},
     "output_type": "display_data"
    },
    {
     "data": {
      "application/vnd.jupyter.widget-view+json": {
       "model_id": "fcc4e66b7126411b9a2bc55ca980ea67",
       "version_major": 2,
       "version_minor": 0
      },
      "text/plain": [
       "Computing:   0%|                                         | 0/10 [00:00<?, ?it/s]"
      ]
     },
     "metadata": {},
     "output_type": "display_data"
    },
    {
     "data": {
      "application/vnd.jupyter.widget-view+json": {
       "model_id": "315a96afbcb6466baf0971a299d68840",
       "version_major": 2,
       "version_minor": 0
      },
      "text/plain": [
       "Computing:   0%|                                         | 0/10 [00:00<?, ?it/s]"
      ]
     },
     "metadata": {},
     "output_type": "display_data"
    },
    {
     "data": {
      "application/vnd.jupyter.widget-view+json": {
       "model_id": "c07079322bbb4d8aa3c2304ffe860072",
       "version_major": 2,
       "version_minor": 0
      },
      "text/plain": [
       "Computing:   0%|                                         | 0/10 [00:00<?, ?it/s]"
      ]
     },
     "metadata": {},
     "output_type": "display_data"
    },
    {
     "data": {
      "application/vnd.jupyter.widget-view+json": {
       "model_id": "a79135803b1349db867ac74e697929ef",
       "version_major": 2,
       "version_minor": 0
      },
      "text/plain": [
       "Computing:   0%|                                         | 0/10 [00:00<?, ?it/s]"
      ]
     },
     "metadata": {},
     "output_type": "display_data"
    },
    {
     "data": {
      "application/vnd.jupyter.widget-view+json": {
       "model_id": "d49ef3e71cd9462a90916cdcec007f78",
       "version_major": 2,
       "version_minor": 0
      },
      "text/plain": [
       "Computing:   0%|                                         | 0/10 [00:00<?, ?it/s]"
      ]
     },
     "metadata": {},
     "output_type": "display_data"
    },
    {
     "data": {
      "application/vnd.jupyter.widget-view+json": {
       "model_id": "a3cf1097b3a44921a548019659c6a528",
       "version_major": 2,
       "version_minor": 0
      },
      "text/plain": [
       "Computing:   0%|                                         | 0/10 [00:00<?, ?it/s]"
      ]
     },
     "metadata": {},
     "output_type": "display_data"
    },
    {
     "data": {
      "application/vnd.jupyter.widget-view+json": {
       "model_id": "c5174e77c42d407c8ea0fa4cc835da2e",
       "version_major": 2,
       "version_minor": 0
      },
      "text/plain": [
       "Computing:   0%|                                         | 0/10 [00:00<?, ?it/s]"
      ]
     },
     "metadata": {},
     "output_type": "display_data"
    },
    {
     "data": {
      "application/vnd.jupyter.widget-view+json": {
       "model_id": "6c528d28a393484d80f7c35d146368c7",
       "version_major": 2,
       "version_minor": 0
      },
      "text/plain": [
       "Computing:   0%|                                         | 0/10 [00:00<?, ?it/s]"
      ]
     },
     "metadata": {},
     "output_type": "display_data"
    },
    {
     "data": {
      "application/vnd.jupyter.widget-view+json": {
       "model_id": "ff0ca253fc7f45e086b31a51b6019846",
       "version_major": 2,
       "version_minor": 0
      },
      "text/plain": [
       "Computing:   0%|                                         | 0/10 [00:00<?, ?it/s]"
      ]
     },
     "metadata": {},
     "output_type": "display_data"
    },
    {
     "data": {
      "application/vnd.jupyter.widget-view+json": {
       "model_id": "3b0ebd204d0c47a9bdf7b7e7ac0d3919",
       "version_major": 2,
       "version_minor": 0
      },
      "text/plain": [
       "Computing:   0%|                                         | 0/10 [00:00<?, ?it/s]"
      ]
     },
     "metadata": {},
     "output_type": "display_data"
    },
    {
     "data": {
      "application/vnd.jupyter.widget-view+json": {
       "model_id": "609d22e65bc24255943ecca47b3e6aea",
       "version_major": 2,
       "version_minor": 0
      },
      "text/plain": [
       "Computing:   0%|                                         | 0/10 [00:00<?, ?it/s]"
      ]
     },
     "metadata": {},
     "output_type": "display_data"
    },
    {
     "data": {
      "application/vnd.jupyter.widget-view+json": {
       "model_id": "949709d545f34b2e92f00c1e8780c2c6",
       "version_major": 2,
       "version_minor": 0
      },
      "text/plain": [
       "Computing:   0%|                                         | 0/10 [00:00<?, ?it/s]"
      ]
     },
     "metadata": {},
     "output_type": "display_data"
    },
    {
     "data": {
      "application/vnd.jupyter.widget-view+json": {
       "model_id": "3071f166f7f74927bf0ee6e488bfa32d",
       "version_major": 2,
       "version_minor": 0
      },
      "text/plain": [
       "Computing:   0%|                                         | 0/10 [00:00<?, ?it/s]"
      ]
     },
     "metadata": {},
     "output_type": "display_data"
    },
    {
     "data": {
      "application/vnd.jupyter.widget-view+json": {
       "model_id": "ffaf2aef371049b6a997bd0584995af2",
       "version_major": 2,
       "version_minor": 0
      },
      "text/plain": [
       "Computing:   0%|                                         | 0/10 [00:00<?, ?it/s]"
      ]
     },
     "metadata": {},
     "output_type": "display_data"
    },
    {
     "data": {
      "application/vnd.jupyter.widget-view+json": {
       "model_id": "cd0bccf39d5346ffbc0f3b8402b3bee9",
       "version_major": 2,
       "version_minor": 0
      },
      "text/plain": [
       "Computing:   0%|                                         | 0/10 [00:00<?, ?it/s]"
      ]
     },
     "metadata": {},
     "output_type": "display_data"
    },
    {
     "data": {
      "application/vnd.jupyter.widget-view+json": {
       "model_id": "a7263396fab84c6bae179e0d0a1af413",
       "version_major": 2,
       "version_minor": 0
      },
      "text/plain": [
       "Computing:   0%|                                         | 0/10 [00:00<?, ?it/s]"
      ]
     },
     "metadata": {},
     "output_type": "display_data"
    },
    {
     "data": {
      "application/vnd.jupyter.widget-view+json": {
       "model_id": "77fd93fd86314d8fa3307b3472284317",
       "version_major": 2,
       "version_minor": 0
      },
      "text/plain": [
       "Computing:   0%|                                         | 0/10 [00:00<?, ?it/s]"
      ]
     },
     "metadata": {},
     "output_type": "display_data"
    },
    {
     "data": {
      "application/vnd.jupyter.widget-view+json": {
       "model_id": "963457cb3538442e894b16831d0a4e6f",
       "version_major": 2,
       "version_minor": 0
      },
      "text/plain": [
       "Computing:   0%|                                         | 0/10 [00:00<?, ?it/s]"
      ]
     },
     "metadata": {},
     "output_type": "display_data"
    },
    {
     "data": {
      "application/vnd.jupyter.widget-view+json": {
       "model_id": "03b416386a8648e7bb01ceef6fedd488",
       "version_major": 2,
       "version_minor": 0
      },
      "text/plain": [
       "Computing:   0%|                                         | 0/10 [00:00<?, ?it/s]"
      ]
     },
     "metadata": {},
     "output_type": "display_data"
    }
   ],
   "source": [
    "s = set(range(50))\n",
    "all_list = []\n",
    "important_list = []\n",
    "for i in s:\n",
    "    matrix = matrix_uniform_attachment(i)\n",
    "    given_list = main_entropy_for_each_interation(10, matrix)\n",
    "    dict_2_send = {\n",
    "        'node_size':i,\n",
    "        'iteration_required':len(given_list)\n",
    "    }\n",
    "    all_list.append(given_list)\n",
    "    important_list.append(dict_2_send)"
   ]
  },
  {
   "cell_type": "code",
   "execution_count": 10,
   "id": "3564ef4a-7109-4b85-8b20-255c3ba44d17",
   "metadata": {},
   "outputs": [],
   "source": [
    "important_df = pd.DataFrame(important_list)\n",
    "random_crap_df = pd.DataFrame(all_list)\n",
    "important_df.to_csv(\"barycenter_interations_required.csv\")\n",
    "random_crap_df.to_csv(\"baruycenter_interactions_backup.csv\")"
   ]
  },
  {
   "cell_type": "code",
   "execution_count": 12,
   "id": "8df674bb-3efc-4a57-91dd-1674f87d96c2",
   "metadata": {},
   "outputs": [
    {
     "data": {
      "image/png": "[encoded data removed]",
      "text/plain": [
       "<Figure size 1008x504 with 1 Axes>"
      ]
     },
     "metadata": {
      "needs_background": "light"
     },
     "output_type": "display_data"
    }
   ],
   "source": [
    "plt.figure(figsize=(14, 7))\n",
    "plt.semilogy(important_df['node_size'],important_df['iteration_required'])\n",
    "plt.title(\"interations required by node_size\")\n",
    "plt.xlabel(\"node_size\")\n",
    "plt.ylabel(\"iterations required\")\n",
    "plt.grid()\n",
    "plt.show()"
   ]
  },
  {
   "cell_type": "code",
   "execution_count": null,
   "id": "cba290eb-9108-4d24-a70c-e9a7af5b9e33",
   "metadata": {},
   "outputs": [],
   "source": []
  },
  {
   "cell_type": "code",
   "execution_count": null,
   "id": "0953c724-1bab-41fb-890f-cc6502fc7058",
   "metadata": {},
   "outputs": [],
   "source": []
  },
  {
   "cell_type": "code",
   "execution_count": null,
   "id": "3c8a3644-1dea-4bba-a4f4-3be12f5a018e",
   "metadata": {},
   "outputs": [],
   "source": []
  },
  {
   "cell_type": "code",
   "execution_count": null,
   "id": "07c00ef9-89fb-4d2f-b296-2d93d83ebeb9",
   "metadata": {},
   "outputs": [],
   "source": []
  },
  {
   "cell_type": "code",
   "execution_count": null,
   "id": "75a505ca-874f-4191-87bd-4778547e0ebb",
   "metadata": {},
   "outputs": [],
   "source": []
  },
  {
   "cell_type": "code",
   "execution_count": null,
   "id": "ccab5760-543b-4fd2-886a-555e9441d961",
   "metadata": {},
   "outputs": [],
   "source": []
  },
  {
   "cell_type": "code",
   "execution_count": null,
   "id": "353aed63-b350-4e79-98d6-b2787a96664e",
   "metadata": {},
   "outputs": [],
   "source": []
  },
  {
   "cell_type": "code",
   "execution_count": null,
   "id": "49779b80-da17-4b50-8467-8eeddfcff479",
   "metadata": {},
   "outputs": [],
   "source": []
  },
  {
   "cell_type": "code",
   "execution_count": null,
   "id": "4df9ab48-8c6c-4f8c-9552-d99038f39bbf",
   "metadata": {},
   "outputs": [],
   "source": []
  },
  {
   "cell_type": "code",
   "execution_count": null,
   "id": "9cbb4e60-c00f-4997-923e-61dbd36771b9",
   "metadata": {},
   "outputs": [],
   "source": []
  },
  {
   "cell_type": "code",
   "execution_count": null,
   "id": "96aebc95-79ce-4d5e-98f2-69731536e5a0",
   "metadata": {},
   "outputs": [],
   "source": []
  },
  {
   "cell_type": "code",
   "execution_count": null,
   "id": "476b3a56-0b78-43d5-a7e7-75008b98a5c2",
   "metadata": {},
   "outputs": [],
   "source": []
  },
  {
   "cell_type": "code",
   "execution_count": null,
   "id": "f7cac040-2b37-4c57-8f5b-46bab418b28f",
   "metadata": {},
   "outputs": [],
   "source": []
  },
  {
   "cell_type": "code",
   "execution_count": null,
   "id": "eb8496e3-28a0-4e96-942d-f5e04dab20cc",
   "metadata": {},
   "outputs": [],
   "source": []
  },
  {
   "cell_type": "code",
   "execution_count": null,
   "id": "0d0e9e19-0afa-4dbd-8639-825427252075",
   "metadata": {},
   "outputs": [],
   "source": []
  },
  {
   "cell_type": "code",
   "execution_count": null,
   "id": "51d074c3-fa1c-4b08-a3bd-776902616c43",
   "metadata": {},
   "outputs": [],
   "source": []
  },
  {
   "cell_type": "code",
   "execution_count": null,
   "id": "fac92eb0-fa16-4318-a530-116c1c7db11d",
   "metadata": {},
   "outputs": [],
   "source": []
  },
  {
   "cell_type": "code",
   "execution_count": null,
   "id": "9f4a7211-0f8e-4dfc-b2ba-b1e86102c74b",
   "metadata": {},
   "outputs": [],
   "source": []
  },
  {
   "cell_type": "code",
   "execution_count": null,
   "id": "6706bd56-2b47-49bc-8199-adbc7ea88fe1",
   "metadata": {},
   "outputs": [],
   "source": []
  },
  {
   "cell_type": "code",
   "execution_count": null,
   "id": "df461456-c96a-4298-b970-cc5ffab0c5e3",
   "metadata": {},
   "outputs": [],
   "source": []
  },
  {
   "cell_type": "code",
   "execution_count": null,
   "id": "e8cea795-1e78-4290-9d52-002dd1b49d09",
   "metadata": {},
   "outputs": [],
   "source": []
  },
  {
   "cell_type": "code",
   "execution_count": null,
   "id": "8c8bf430-1f94-401e-831b-e4abc8e55ee3",
   "metadata": {},
   "outputs": [],
   "source": []
  },
  {
   "cell_type": "code",
   "execution_count": null,
   "id": "6eae6ef0-99e6-4904-99ea-db5707ebe6aa",
   "metadata": {},
   "outputs": [],
   "source": []
  },
  {
   "cell_type": "code",
   "execution_count": null,
   "id": "5a7b4b9b-b327-44fe-8755-7a1612e5341c",
   "metadata": {},
   "outputs": [],
   "source": []
  },
  {
   "cell_type": "code",
   "execution_count": null,
   "id": "95bd39fe-31d4-4868-a4a8-c1d745a475c1",
   "metadata": {},
   "outputs": [],
   "source": []
  },
  {
   "cell_type": "code",
   "execution_count": null,
   "id": "dc63390c-355e-42cf-9d44-109ba5c40325",
   "metadata": {},
   "outputs": [],
   "source": []
  },
  {
   "cell_type": "code",
   "execution_count": null,
   "id": "4a9605a2-7aef-45f3-90fe-20d8f2b8f3d6",
   "metadata": {},
   "outputs": [],
   "source": []
  },
  {
   "cell_type": "code",
   "execution_count": null,
   "id": "8828e205-6390-47ba-8692-e4f69454cf7a",
   "metadata": {},
   "outputs": [],
   "source": []
  },
  {
   "cell_type": "code",
   "execution_count": 182,
   "id": "6f7f4194-f20a-431c-9768-0e871429eadc",
   "metadata": {},
   "outputs": [],
   "source": [
    "import copy\n",
    "import numpy as np\n",
    "\n",
    "def make_that_1_into_0_with_transpos(matrix, row, column):\n",
    "    matrix[row][column] = 0\n",
    "    matrix[column][row] = 0\n",
    "\n",
    "    \n",
    "def merge_trees(matrix_1, matrix_2, random_vertex_selection = True, vertex_from_matrix_1 = None, vertex_from_matrix_2 = None):\n",
    "    matrix_1_cp = copy.deepcopy(matrix_1)\n",
    "    matrix_2_cp = copy.deepcopy(matrix_2)\n",
    "\n",
    "\n",
    "    for i in range(len(matrix_2_cp)):\n",
    "        for li in matrix_1_cp:\n",
    "            li.append(0)\n",
    "\n",
    "\n",
    "    for i in range(len(matrix_1_cp)):\n",
    "        for li in matrix_2_cp:\n",
    "            li.insert(0, 0)\n",
    "        \n",
    "\n",
    "\n",
    "    for row in matrix_2_cp:\n",
    "        matrix_1_cp.append(row)\n",
    "\n",
    "    if random_vertex_selection: \n",
    "        vertex_for_matrix_1 = np.random.choice(list(range(len(matrix_1))))\n",
    "        vertex_for_matrix_2_og = np.random.choice(list(range(len(matrix_2))))\n",
    "        vertex_2_to_change = vertex_for_matrix_2_og + len(matrix_1)\n",
    "        print(f\"vertex {vertex_for_matrix_1} from matrix_1 and {vertex_for_matrix_2_og} from matrix_2_were chosen\")\n",
    "        matrix_final = make_that_0_into_1_with_transpose(matrix_1_cp, vertex_for_matrix_1, vertex_2_to_change)\n",
    "        return matrix_final, vertex_for_matrix_1, vertex_for_matrix_2_og\n",
    "\n",
    "    else:\n",
    "        if vertex_from_matrix_1 is None:\n",
    "            vertex_for_matrix_1 = np.random.choice(list(range(len(matrix_1))))\n",
    "            vertex_2_to_change = vertex_from_matrix_2 + len(matrix_1)\n",
    "            print(f\"vertex {vertex_for_matrix_1} from matrix_1 and {vertex_from_matrix_2} from matrix_2_were chosen\")\n",
    "            matrix_final = make_that_0_into_1_with_transpose(matrix_1_cp, vertex_for_matrix_1, vertex_2_to_change)\n",
    "            return matrix_final, vertex_for_matrix_1, vertex_from_matrix_2\n",
    "            \n",
    "        else:\n",
    "            vertex_for_matrix_1 = vertex_from_matrix_1\n",
    "            vertex_2_to_change = vertex_from_matrix_2 + len(matrix_1)\n",
    "            print(f\"vertex {vertex_for_matrix_1} from matrix_1 and {vertex_from_matrix_2} from matrix_2_were chosen\")\n",
    "            matrix_final = make_that_0_into_1_with_transpose(matrix_1_cp, vertex_for_matrix_1, vertex_2_to_change)\n",
    "            return matrix_final, vertex_for_matrix_1, vertex_from_matrix_2\n",
    "\n"
   ]
  },
  {
   "cell_type": "code",
   "execution_count": 187,
   "id": "1098cb52-a9d7-4f7f-910d-3c76f3b521d7",
   "metadata": {},
   "outputs": [],
   "source": [
    "from reg_three_g import make_that_0_into_1_with_transpose\n",
    "from line_tree import create_line_tree_adjacency_matrix"
   ]
  },
  {
   "cell_type": "code",
   "execution_count": 193,
   "id": "389f8ad0-8785-41e5-939d-02ec7f42fb35",
   "metadata": {},
   "outputs": [
    {
     "name": "stdout",
     "output_type": "stream",
     "text": [
      "vertex 0 from matrix_1 and 7 from matrix_2_were chosen\n",
      "vertex 0 from matrix_1 and 1 from matrix_2_were chosen\n"
     ]
    }
   ],
   "source": [
    "matrix_1 = (matrix_uniform_attachment(9))\n",
    "matrix_2 = create_line_tree_adjacency_matrix(9)\n",
    "line_simgle = create_line_tree_adjacency_matrix(2)\n",
    "matrix_left, vertex_from_1, vertex_from_2 = merge_trees(line_simgle, matrix_1, random_vertex_selection=True)\n",
    "possible_answer = list(set(range(len(line_simgle))))\n",
    "if possible_answer[vertex_from_1] == 0 :\n",
    "    value_for_2 = 1\n",
    "else:\n",
    "    value_for_2 = 0\n",
    "matrix_total, v1, v2 = merge_trees(matrix_2,matrix_left, random_vertex_selection=False, vertex_from_matrix_1=None, vertex_from_matrix_2=value_for_2)"
   ]
  },
  {
   "cell_type": "code",
   "execution_count": 194,
   "id": "57234932-237b-4d26-8f90-52aeae26a117",
   "metadata": {},
   "outputs": [
    {
     "data": {
      "image/png": "[encoded data removed]",
      "text/plain": [
       "<Figure size 576x432 with 1 Axes>"
      ]
     },
     "metadata": {},
     "output_type": "display_data"
    }
   ],
   "source": [
    "draw_graph_from_adjacency_matrix(matrix_total)"
   ]
  },
  {
   "cell_type": "code",
   "execution_count": 195,
   "id": "f3aa0ed5-af83-45c1-b790-2721852a412f",
   "metadata": {
    "scrolled": true
   },
   "outputs": [
    {
     "name": "stdout",
     "output_type": "stream",
     "text": [
      "[0.07325000000000005, 0.07025000000000005, 0.06575000000000004, 0.059750000000000046, 0.05225000000000004, 0.04325000000000003, 0.03275000000000002, 0.020750000000000015, 0.007250000000000006, 0.07475000000000005, 0.07475000000000005, 0.007250000000000006, 0.06875000000000005, 0.18724999999999323, 0.03275000000000002, 0.020750000000000015, 0.020750000000000015, 0.007250000000000006, 0.07325000000000005, 0.007250000000000006]\n",
      "[0.10422675659374898, 0.09106675221874921, 0.07360422378124959, 0.05419981503124959, 0.03541452096874984, 0.019574987843749902, 0.008315188156249945, 0.00215117065624999, 0.00015692534374999926, 0.11128965940624842, 0.1112896594062487, 0.00015692534374999928, 0.027733250656249854, 0.2436620278437392, 0.008315188156249945, 0.0021511706562499905, 0.00215117065624999, 0.00015692534374999923, 0.10422675659374817, 0.00015692534374999926]\n",
      "[0.13907654390228755, 0.09898696057642475, 0.05813338919498928, 0.02727516391533713, 0.009669455455711438, 0.002344564399807145, 0.00032020740547737697, 1.588346060123914e-05, 7.38689617831269e-08, 0.16417775782038055, 0.16417775782038158, 7.386896178312692e-08, 0.002664697936322739, 0.19372880440741028, 0.00032020740547737697, 1.5883460601239136e-05, 1.5883460601239143e-05, 7.386896178312684e-08, 0.13907654390228463, 7.38689617831269e-08]\n",
      "[0.161688966080005, 0.07409320544749566, 0.02221572888655127, 0.004132254101276371, 0.0004322933065957273, 2.1181452779581866e-05, 3.3818030852632947e-07, 7.638846038460819e-10, 1.636986973860002e-14, 0.23741603178100848, 0.23741603178101267, 1.6369869738600033e-14, 2.1519633071738314e-05, 0.10087314279769852, 3.381803085263294e-07, 7.638846038460815e-10, 7.638846038460825e-10, 1.636986973859999e-14, 0.16168896607999672, 1.636986973860002e-14]\n",
      "[0.14215529093990575, 0.02636871867993871, 0.0020536003651982016, 6.228549150226452e-05, 6.162643471271521e-07, 1.3890178768745027e-09, 3.446477029487051e-13, 1.7506340912361765e-18, 8.039179057760512e-28, 0.32935948686949146, 0.32935948686950417, 8.039179057760524e-28, 1.38936252457745e-09, 0.028485220800635654, 3.446477029487054e-13, 1.7506340912361746e-18, 1.7506340912361796e-18, 8.039179057760484e-28, 0.14215529093988916, 8.039179057760512e-28]\n",
      "[0.07502907281745937, 0.002374577582812505, 1.340792928580129e-05, 1.186877475376068e-08, 1.1444820528958716e-12, 5.790984326977688e-18, 3.563497375553014e-25, 9.194159172634376e-36, 1.938851997681052e-54, 0.4225829297997388, 0.42258292979977263, 1.9388519976810585e-54, 5.790984683327417e-18, 0.0023879973820165445, 3.563497375553019e-25, 9.194159172634357e-36, 9.19415917263441e-36, 1.9388519976810385e-54, 0.07502907281744113, 1.938851997681052e-54]\n",
      "[0.01703514455141374, 1.7079818960773725e-05, 5.402677758548207e-10, 4.226849411316041e-16, 3.929557274261373e-24, 1.006065108074418e-34, 3.809554063862627e-49, 2.535976886748164e-70, 1.1277441206717895e-107, 0.48294777508699493, 0.48294777508706627, 1.1277441206717967e-107, 1.006065108074419e-34, 1.7080359228958e-05, 3.809554063862637e-49, 2.535976886748154e-70, 2.535976886748184e-70, 1.1277441206717734e-107, 0.017035144551405496, 1.1277441206717895e-107]\n",
      "[0.00086241741152037, 8.752060472898478e-10, 8.75669178740196e-19, 5.359876883415723e-31, 4.63242611172575e-47, 3.036501005040237e-68, 4.353810649627382e-97, 1.929353631027279e-139, 3.8154204051115764e-214, 0.499137581706222, 0.4991375817063408, 3.815420405111626e-214, 3.0365010050402223e-68, 8.752060481640554e-10, 4.3538106496274044e-97, 1.9293536310272645e-139, 1.9293536310273092e-139, 3.8154204051114684e-214, 0.0008624174115195392, 3.815420405111577e-214]\n",
      "[2.2300130302131756e-06, 2.2979568788635758e-18, 2.300389531757231e-36, 8.618484061491741e-61, 6.437811504089534e-93, 2.766101506044427e-135, 5.686700151763112e-193, 1.1167216300518265e-277, 0.0, 0.49999776996590256, 0.49999776996608175, 0.0, 2.7661015060444e-135, 2.2979568788559006e-18, 5.686700151763172e-193, 1.1167216300518096e-277, 1.1167216300518614e-277, 0.0, 2.2300130302088803e-06, 0.0]\n",
      "[1.491885216464368e-11, 1.5841817450684632e-35, 1.5875375992788704e-71, 2.2283480254521245e-120, 1.2433625088134606e-184, 2.2953952624260702e-269, 0.0, 0.0, 0.0, 0.49999999992201366, 0.49999999992228256, 0.0, 2.295395262426026e-269, 1.5841817450578806e-35, 0.0, 0.0, 0.0, 0.0, 1.491885216458621e-11, 0.0]\n"
     ]
    }
   ],
   "source": [
    "answerable_list = main_entropy_for_each_interation(10, matrix_total)"
   ]
  },
  {
   "cell_type": "code",
   "execution_count": null,
   "id": "8483b49e-4c16-42f4-80d0-b4fd071660d5",
   "metadata": {},
   "outputs": [],
   "source": []
  },
  {
   "cell_type": "code",
   "execution_count": null,
   "id": "8446bb4a-57c4-4dbb-8246-4b71055d08fa",
   "metadata": {},
   "outputs": [],
   "source": []
  },
  {
   "cell_type": "code",
   "execution_count": null,
   "id": "778f49e2-1f93-4e06-a308-763efd418c4e",
   "metadata": {},
   "outputs": [],
   "source": []
  },
  {
   "cell_type": "code",
   "execution_count": null,
   "id": "4d9c3a1f-87f6-4abb-8b60-1da5600724ea",
   "metadata": {},
   "outputs": [],
   "source": []
  },
  {
   "cell_type": "code",
   "execution_count": null,
   "id": "8d2d37bb-1371-4716-9315-46d282756972",
   "metadata": {},
   "outputs": [],
   "source": []
  },
  {
   "cell_type": "code",
   "execution_count": null,
   "id": "9e5fd4bc-afd1-405a-9dcd-cdd05ed6805a",
   "metadata": {},
   "outputs": [],
   "source": []
  },
  {
   "cell_type": "code",
   "execution_count": null,
   "id": "b544856e-3dfc-43ca-90fa-eabf43349e17",
   "metadata": {},
   "outputs": [],
   "source": []
  },
  {
   "cell_type": "code",
   "execution_count": null,
   "id": "e269ebe4-c289-46c0-8d77-5a229a1a9afd",
   "metadata": {},
   "outputs": [],
   "source": []
  },
  {
   "cell_type": "code",
   "execution_count": null,
   "id": "3c5ae625-7265-442e-b581-aa69a83d8411",
   "metadata": {},
   "outputs": [],
   "source": []
  },
  {
   "cell_type": "code",
   "execution_count": null,
   "id": "351d48dd-b61e-454b-9f2a-b2fda8ee36e4",
   "metadata": {},
   "outputs": [],
   "source": []
  },
  {
   "cell_type": "code",
   "execution_count": null,
   "id": "f885bb7a-1f40-442d-9b39-6be39bb49459",
   "metadata": {},
   "outputs": [],
   "source": []
  },
  {
   "cell_type": "code",
   "execution_count": null,
   "id": "ebe79f7b-7a63-4920-9510-3fe6ef512f9f",
   "metadata": {},
   "outputs": [],
   "source": []
  },
  {
   "cell_type": "code",
   "execution_count": null,
   "id": "1f1e2f40-69a7-43a8-815f-dfb10543d339",
   "metadata": {},
   "outputs": [],
   "source": []
  },
  {
   "cell_type": "code",
   "execution_count": null,
   "id": "ec4f27c2-1eef-4ef9-85ba-6d9bf289065b",
   "metadata": {},
   "outputs": [],
   "source": []
  },
  {
   "cell_type": "code",
   "execution_count": null,
   "id": "fe616b58-ba85-4651-a9e8-9670e0f70e9f",
   "metadata": {},
   "outputs": [],
   "source": []
  },
  {
   "cell_type": "code",
   "execution_count": null,
   "id": "d51bd16e-886a-4ebc-9d3f-067765a446b9",
   "metadata": {},
   "outputs": [],
   "source": []
  },
  {
   "cell_type": "code",
   "execution_count": null,
   "id": "79661f46-46be-49e5-ae52-f4beabb26398",
   "metadata": {},
   "outputs": [],
   "source": []
  },
  {
   "cell_type": "code",
   "execution_count": null,
   "id": "bbb14a60-7dcc-4b6e-bd09-3bcea398cc9f",
   "metadata": {},
   "outputs": [],
   "source": []
  },
  {
   "cell_type": "code",
   "execution_count": null,
   "id": "45d5422b-8fa8-4b13-b9e4-318949595f73",
   "metadata": {},
   "outputs": [],
   "source": []
  },
  {
   "cell_type": "code",
   "execution_count": 196,
   "id": "c3ea74ac-d490-406b-822d-77be90da3152",
   "metadata": {},
   "outputs": [],
   "source": [
    "from reg_three_g import final_3_reg_tree"
   ]
  },
  {
   "cell_type": "code",
   "execution_count": 210,
   "id": "5401c179-29ab-4476-b5f5-026ed8e114ec",
   "metadata": {},
   "outputs": [],
   "source": [
    "matrix_reg_three = final_3_reg_tree(3)"
   ]
  },
  {
   "cell_type": "code",
   "execution_count": 211,
   "id": "561371da-5781-4af2-baa5-914d4e63773f",
   "metadata": {},
   "outputs": [
    {
     "data": {
      "text/plain": [
       "22"
      ]
     },
     "execution_count": 211,
     "metadata": {},
     "output_type": "execute_result"
    }
   ],
   "source": [
    "len(matrix_reg_three)"
   ]
  },
  {
   "cell_type": "code",
   "execution_count": 212,
   "id": "06fb197a-975e-4906-a967-904a5e45c7c8",
   "metadata": {},
   "outputs": [],
   "source": [
    "matrix_line = create_line_tree_adjacency_matrix(22)"
   ]
  },
  {
   "cell_type": "code",
   "execution_count": 213,
   "id": "8e1834a6-f8b1-4eaa-a23e-87138a315338",
   "metadata": {},
   "outputs": [],
   "source": [
    "from uniform_attachment_model import matrix_uniform_attachment"
   ]
  },
  {
   "cell_type": "code",
   "execution_count": 214,
   "id": "d57a7cb1-d28b-4a44-8b5a-3c93bfff8c28",
   "metadata": {},
   "outputs": [],
   "source": [
    "matrix_random = matrix_uniform_attachment(22)"
   ]
  },
  {
   "cell_type": "code",
   "execution_count": 215,
   "id": "a47c19d5-d092-45e7-8259-cf4da301862a",
   "metadata": {
    "scrolled": true
   },
   "outputs": [
    {
     "name": "stdout",
     "output_type": "stream",
     "text": [
      "[0.28211870773853287, 0.13786626596544202, 0.13786626596544202, 0.13786626596544202, 0.03869271224643109, 0.03869271224643109, 0.03869271224643109, 0.03869271224643109, 0.03869271224643109, 0.03869271224643109, 0.006010518407212619, 0.006010518407212619, 0.006010518407212619, 0.006010518407212619, 0.006010518407212619, 0.006010518407212619, 0.006010518407212619, 0.006010518407212619, 0.006010518407212619, 0.006010518407212619, 0.006010518407212619, 0.006010518407212619]\n",
      "[0.5668603773958379, 0.12947028772743271, 0.12947028772743274, 0.12947028772743274, 0.007238903799753512, 0.0072389037997535105, 0.007238903799753508, 0.007238903799753505, 0.007238903799753503, 0.0072389037997535, 0.00010794471860911115, 0.00010794471860911115, 0.00010794471860911115, 0.00010794471860911118, 0.00010794471860911118, 0.00010794471860911118, 0.00010794471860911118, 0.00010794471860911118, 0.0001079447186091112, 0.0001079447186091112, 0.0001079447186091112, 0.0001079447186091112]\n",
      "[0.8304481329821297, 0.056185502521688094, 0.056185502521688115, 0.05618550252168813, 0.0001658233347784341, 0.00016582333477843403, 0.00016582333477843395, 0.00016582333477843365, 0.00016582333477843355, 0.0001658233347784335, 3.4953671269632214e-08, 3.495367126963222e-08, 3.495367126963222e-08, 3.495367126963225e-08, 3.495367126963225e-08, 3.495367126963226e-08, 3.495367126963226e-08, 3.4953671269632273e-08, 3.49536712696323e-08, 3.49536712696323e-08, 3.4953671269632306e-08, 3.495367126963231e-08]\n",
      "[0.972335330879494, 0.009221391268277946, 0.009221391268277968, 0.009221391268277979, 8.255256506123371e-08, 8.25525650612337e-08, 8.255256506123366e-08, 8.255256506123336e-08, 8.25525650612333e-08, 8.255256506123326e-08, 3.665277320266303e-15, 3.665277320266305e-15, 3.665277320266305e-15, 3.6652773202663115e-15, 3.665277320266312e-15, 3.6652773202663155e-15, 3.665277320266316e-15, 3.6652773202663194e-15, 3.665277320266326e-15, 3.6652773202663265e-15, 3.665277320266328e-15, 3.6652773202663304e-15]\n",
      "[0.9992393711283335, 0.00025354295694479336, 0.00025354295694479445, 0.00025354295694479494, 2.0444780500319924e-14, 2.0444780500319915e-14, 2.04447805003199e-14, 2.0444780500319744e-14, 2.0444780500319722e-14, 2.04447805003197e-14, 4.030277350336596e-29, 4.0302773503366015e-29, 4.0302773503366015e-29, 4.030277350336615e-29, 4.030277350336617e-29, 4.0302773503366245e-29, 4.030277350336626e-29, 4.030277350336633e-29, 4.030277350336648e-29, 4.03027735033665e-29, 4.030277350336655e-29, 4.030277350336659e-29]\n",
      "[0.9999994215393849, 1.9281949558436292e-07, 1.9281949558436448e-07, 1.928194955843652e-07, 1.25396714911789e-27, 1.2539671491178888e-27, 1.2539671491178864e-27, 1.2539671491178676e-27, 1.253967149117865e-27, 1.253967149117862e-27, 4.8729406561873956e-57, 4.872940656187409e-57, 4.872940656187409e-57, 4.8729406561874414e-57, 4.8729406561874454e-57, 4.8729406561874635e-57, 4.8729406561874675e-57, 4.872940656187484e-57, 4.87294065618752e-57, 4.872940656187527e-57, 4.872940656187537e-57, 4.8729406561875473e-57]\n",
      "[0.999999999993281, 1.1153805929417701e-13, 1.1153805929417882e-13, 1.1153805929417965e-13, 4.7173008331905046e-54, 4.7173008331904953e-54, 4.717300833190478e-54, 4.7173008331903354e-54, 4.717300833190316e-54, 4.7173008331902937e-54, 7.123665191602052e-113, 7.123665191602092e-113, 7.123665191602092e-113, 7.123665191602186e-113, 7.123665191602198e-113, 7.12366519160225e-113, 7.123665191602262e-113, 7.123665191602311e-113, 7.123665191602416e-113, 7.123665191602435e-113, 7.123665191602466e-113, 7.123665191602496e-113]\n",
      "[0.9999999999808473, 3.7322216013092996e-26, 3.73222160130942e-26, 3.732221601309476e-26, 6.675878145203326e-107, 6.6758781452033e-107, 6.675878145203251e-107, 6.675878145202847e-107, 6.675878145202794e-107, 6.67587814520273e-107, 1.5223981728515617e-224, 1.5223981728515785e-224, 1.5223981728515785e-224, 1.522398172851619e-224, 1.5223981728516241e-224, 1.5223981728516462e-224, 1.5223981728516517e-224, 1.5223981728516724e-224, 1.5223981728517172e-224, 1.5223981728517256e-224, 1.5223981728517386e-224, 1.5223981728517513e-224]\n",
      "[0.999999999942542, 4.1788434243038896e-51, 4.17884342430416e-51, 4.178843424304285e-51, 1.3370204702624947e-212, 1.3370204702624838e-212, 1.3370204702624646e-212, 1.3370204702623026e-212, 1.3370204702622812e-212, 1.3370204702622556e-212, 0.0, 0.0, 0.0, 0.0, 0.0, 0.0, 0.0, 0.0, 0.0, 0.0, 0.0, 0.0]\n",
      "[0.9999999998276259, 5.238819709153345e-101, 5.238819709154023e-101, 5.238819709154337e-101, 0.0, 0.0, 0.0, 0.0, 0.0, 0.0, 0.0, 0.0, 0.0, 0.0, 0.0, 0.0, 0.0, 0.0, 0.0, 0.0, 0.0, 0.0]\n",
      "[0.006010518407212619, 0.017280240420736333, 0.02742299023290753, 0.03643876784372638, 0.044327573253192865, 0.051089406461306996, 0.05672426746806877, 0.061232156273478194, 0.06461307287753541, 0.06686701728024029, 0.06799398948159273, 0.06799398948159273, 0.06686701728024029, 0.06461307287753541, 0.061232156273478194, 0.05672426746806877, 0.051089406461306996, 0.044327573253192865, 0.03643876784372638, 0.02742299023290753, 0.017280240420736333, 0.006010518407212619]\n",
      "[0.0001079447186091113, 0.0014941650374380587, 0.005852683480924561, 0.014007945819184709, 0.025852506920603827, 0.040508942740578785, 0.056555685484032954, 0.07228311707276017, 0.08595106531563758, 0.0960236564467525, 0.10136228696347205, 0.10136228696347208, 0.09602365644675244, 0.08595106531563756, 0.07228311707276021, 0.05655568548403291, 0.04050894274057882, 0.02585250692060382, 0.014007945819184714, 0.005852683480924561, 0.001494165037438058, 0.0001079447186091113]\n",
      "[3.4953671269633134e-08, 7.657088891392898e-06, 0.0001582011995583157, 0.001196280675487455, 0.005142171229913897, 0.015280127810087262, 0.0347328160483195, 0.06396970898304362, 0.09881487753913619, 0.13073754979627455, 0.1499605746755995, 0.14996057467559956, 0.13073754979627467, 0.09881487753913619, 0.06396970898304377, 0.034732816048319466, 0.01528012781008729, 0.005142171229913893, 0.0011962806754874558, 0.00015820119955831558, 7.657088891392897e-06, 3.4953671269633134e-08]\n",
      "[3.665277320266672e-15, 1.77497980841964e-10, 8.23750707456779e-08, 5.478945697194046e-06, 0.00012080766689330879, 0.0012766443998623205, 0.007818542808397805, 0.030831546062242983, 0.0831329280832384, 0.15861778644766508, 0.21819618303337976, 0.21819618303337984, 0.15861778644766508, 0.08313292808323845, 0.030831546062243066, 0.00781854280839779, 0.0012766443998623238, 0.0001208076668933087, 5.478945697194046e-06, 8.237507074567772e-08, 1.7749798084196394e-10, 3.665277320266672e-15]\n",
      "[4.030277350337954e-29, 9.452050307366953e-20, 2.0444685979824e-14, 9.277000019010086e-11, 4.781067124659816e-08, 5.851914213377461e-06, 0.00024764313931066557, 0.004430699626729283, 0.03710150547386749, 0.15169643216425313, 0.3065178197780119, 0.30651781977801235, 0.15169643216425327, 0.03710150547386757, 0.004430699626729295, 0.00024764313931066443, 5.8519142133774875e-06, 4.781067124659809e-08, 9.277000019010087e-11, 2.044468597982389e-14, 9.452050307366949e-20, 4.030277350337955e-29]\n",
      "[4.8729406561926547e-57, 2.680237652674719e-38, 1.2539671490924663e-27, 2.583019877795362e-20, 6.884198876052524e-15, 1.0441625085251189e-10, 1.927150724494422e-07, 6.542800174749033e-05, 0.00502660549539766, 0.09272768803038565, 0.4021800856525168, 0.4021800856525175, 0.09272768803038584, 0.005026605495397686, 6.542800174749062e-05, 1.9271507244944054e-07, 1.044162508525128e-10, 6.8841988760525025e-15, 2.5830198777953625e-20, 1.2539671490924529e-27, 2.6802376526747144e-38, 4.8729406561926564e-57]\n",
      "[7.123665191626087e-113, 2.1551021624426192e-75, 4.717300833206612e-54, 2.0015977010652872e-39, 1.4217764941640228e-28, 3.271257327358003e-20, 1.1153802658192018e-13, 1.291759986516518e-08, 7.751529818099307e-05, 0.026756652910672443, 0.47316581887206527, 0.4731658188720665, 0.026756652910672554, 7.751529818099386e-05, 1.2917599865165287e-08, 1.1153802658191824e-13, 3.27125732735806e-20, 1.4217764941640148e-28, 2.0015977010652885e-39, 4.717300833206509e-54, 2.1551021624426113e-75, 7.123665191626093e-113]\n",
      "[1.522398172867385e-224, 1.3933395991656405e-149, 6.675878145273257e-107, 1.2019180070696669e-77, 6.064345198226163e-56, 3.210337378435217e-39, 3.732221601343773e-26, 5.006017993412072e-16, 1.8030940291772382e-08, 0.0021215566457886375, 0.49787842531916177, 0.49787842531916365, 0.0021215566457886575, 1.8030940291772756e-08, 5.006017993412158e-16, 3.7322216013436426e-26, 3.210337378435333e-39, 6.064345198226094e-56, 1.2019180070696682e-77, 6.675878145272965e-107, 1.3933395991656303e-149, 1.5223981728673875e-224]\n",
      "[0.0, 5.824185715761354e-298, 1.3370204703051284e-212, 4.333820687119354e-154, 1.103288480488397e-110, 3.0918798249880897e-77, 4.178843424427509e-51, 7.518064846168876e-31, 9.753444658420435e-16, 1.3484138574821509e-05, 0.49998651584909887, 0.4999865158491017, 1.3484138574821765e-05, 9.753444658420841e-16, 7.518064846169134e-31, 4.1788434244272187e-51, 3.091879824988311e-77, 1.1032884804883723e-110, 4.333820687119364e-154, 1.3370204703050118e-212, 5.824185715761269e-298, 0.0]\n",
      "[0.0, 0.0, 0.0, 5.634600524292219e-307, 3.651736413445181e-220, 2.8679162555798267e-153, 5.2388197096351835e-101, 1.6956389708942131e-60, 2.8538904810757636e-30, 5.45461075954531e-10, 0.49999999941756484, 0.49999999941756923, 5.454610759545518e-10, 2.853890481076002e-30, 1.6956389708943298e-60, 5.238819709634456e-101, 2.8679162555802374e-153, 3.651736413445017e-220, 5.634600524292246e-307, 0.0, 0.0, 0.0]\n",
      "[0.06799398948159273, 0.2314049586776806, 0.12997746055597612, 0.006010518407212619, 0.34410217881290783, 0.006010518407212619, 0.017280240420736333, 0.017280240420736333, 0.006010518407212619, 0.06912096168294517, 0.03869271224643109, 0.006010518407212619, 0.006010518407212619, 0.006010518407212619, 0.006010518407212619, 0.006010518407212619, 0.006010518407212619, 0.006010518407212619, 0.006010518407212619, 0.006010518407212619, 0.006010518407212619, 0.006010518407212619]\n",
      "[0.1013622869634685, 0.3104896901633308, 0.08451202448663821, 0.00010794471860910965, 0.47075863355099606, 0.00010794471860910965, 0.001494165037438029, 0.0014941650374380297, 0.00010794471860910965, 0.021138904900329006, 0.007238903799753387, 0.00010794471860910966, 0.00010794471860910966, 0.00010794471860910967, 0.00010794471860910967, 0.00010794471860910969, 0.00010794471860910969, 0.0001079447186091097, 0.0001079447186091097, 0.00010794471860910971, 0.00010794471860910971, 0.00010794471860910973]\n",
      "[0.14996057467557317, 0.32825484750569073, 0.0217690539188131, 3.495367126962967e-08, 0.4984718279791259, 3.49536712696296e-08, 7.657088891392053e-06, 7.65708889139206e-06, 3.495367126962959e-08, 0.0013620690565945264, 0.00016582333477842073, 3.4953671269629607e-08, 3.495367126962961e-08, 3.4953671269629626e-08, 3.495367126962963e-08, 3.4953671269629646e-08, 3.495367126962965e-08, 3.4953671269629666e-08, 3.495367126962967e-08, 3.4953671269629686e-08, 3.495367126962969e-08, 3.49536712696297e-08]\n",
      "[0.2181961830332522, 0.2804008034013563, 0.0014030132100179725, 3.665277320265179e-15, 0.4999943559487605, 3.665277320265156e-15, 1.7749798084188763e-10, 1.77497980841888e-10, 3.665277320265154e-15, 5.561498258588091e-06, 8.255256506120724e-08, 3.665277320265157e-15, 3.665277320265159e-15, 3.665277320265162e-15, 3.665277320265164e-15, 3.665277320265167e-15, 3.665277320265169e-15, 3.665277320265172e-15, 3.665277320265175e-15, 3.665277320265178e-15, 3.6652773202651795e-15, 3.665277320265181e-15]\n",
      "[0.30651781977744164, 0.19347628040379264, 5.8998176750626894e-06, 4.030277350332094e-29, 0.4999999999060532, 4.030277350332043e-29, 9.452050307352784e-20, 9.452050307352821e-20, 4.0302773503320394e-29, 9.27904449704778e-11, 2.0444780500296467e-14, 4.030277350332044e-29, 4.0302773503320495e-29, 4.030277350332056e-29, 4.03027735033206e-29, 4.030277350332067e-29, 4.0302773503320714e-29, 4.0302773503320775e-29, 4.030277350332084e-29, 4.030277350332091e-29, 4.0302773503320943e-29, 4.0302773503320977e-29]\n",
      "[0.40218008565022795, 0.097819914242043, 1.0442313507679975e-10, 4.8729406561691167e-57, 0.49999999999662625, 4.872940656168993e-57, 2.6802376526615296e-38, 2.680237652661551e-38, 4.872940656168984e-57, 2.5830200031802422e-20, 1.2539671491131085e-27, 4.8729406561689945e-57, 4.8729406561690086e-57, 4.872940656169025e-57, 4.872940656169034e-57, 4.87294065616905e-57, 4.872940656169061e-57, 4.8729406561690765e-57, 4.872940656169093e-57, 4.872940656169109e-57, 4.8729406561691167e-57, 4.8729406561691246e-57]\n",
      "[0.4731658188639286, 0.02683418112610261, 3.271257341530688e-20, 7.123665191516188e-113, 0.4999999999899296, 7.123665191515824e-113, 2.1551021624089804e-75, 2.155102162409015e-75, 7.1236651915158e-113, 2.0015977010354075e-39, 4.7173008331330606e-54, 7.12366519151583e-113, 7.123665191515872e-113, 7.123665191515919e-113, 7.123665191515946e-113, 7.123665191515992e-113, 7.123665191516024e-113, 7.123665191516069e-113, 7.123665191516118e-113, 7.123665191516164e-113, 7.123665191516187e-113, 7.12366519151621e-113]\n",
      "[0.49787842529339793, 0.0021215746766196325, 3.210337378291195e-39, 1.5223981727940734e-224, 0.49999999996986505, 1.522398172793918e-224, 1.3933395990980378e-149, 1.3933395990980825e-149, 1.5223981727939076e-224, 1.2019180070129833e-77, 6.675878144949581e-107, 1.5223981727939206e-224, 1.522398172793938e-224, 1.5223981727939585e-224, 1.5223981727939698e-224, 1.5223981727939895e-224, 1.5223981727940031e-224, 1.5223981727940226e-224, 1.5223981727940434e-224, 1.5223981727940634e-224, 1.522398172794073e-224, 1.5223981727940828e-224]\n",
      "[0.49998651577136455, 1.3484138573701316e-05, 3.0918798245501997e-77, 0.0, 0.49999999990970956, 0.0, 5.824185714893907e-298, 5.8241857148942815e-298, 0.0, 4.3338206864856485e-154, 1.3370204701060855e-212, 0.0, 0.0, 0.0, 0.0, 0.0, 0.0, 0.0, 0.0, 0.0, 0.0, 0.0]\n",
      "[0.49999999918418214, 5.454610757000626e-10, 2.8679162543209376e-153, 0.0, 0.4999999997293002, 0.0, 0.0, 0.0, 0.0, 5.634600521767069e-307, 0.0, 0.0, 0.0, 0.0, 0.0, 0.0, 0.0, 0.0, 0.0, 0.0, 0.0, 0.0]\n"
     ]
    }
   ],
   "source": [
    "answerable_list_1 = main_entropy_for_each_interation(10, matrix_reg_three)\n",
    "answerable_list_2 = main_entropy_for_each_interation(10, matrix_line)\n",
    "answerable_list_3 = main_entropy_for_each_interation(10, matrix_random)"
   ]
  },
  {
   "cell_type": "code",
   "execution_count": 216,
   "id": "0fff3188-a47f-4078-9d5e-c17a51ebe6ff",
   "metadata": {},
   "outputs": [],
   "source": [
    "final_df_1 = pd.DataFrame(answerable_list_1)\n",
    "final_df_2 = pd.DataFrame(answerable_list_2)\n",
    "final_df_3 = pd.DataFrame(answerable_list_3)"
   ]
  },
  {
   "cell_type": "code",
   "execution_count": 219,
   "id": "3e8ed050-1cf9-42e5-aee7-b292dc00a4e2",
   "metadata": {},
   "outputs": [
    {
     "data": {
      "image/png": "[encoded data removed]",
      "text/plain": [
       "<Figure size 1008x504 with 1 Axes>"
      ]
     },
     "metadata": {
      "needs_background": "light"
     },
     "output_type": "display_data"
    }
   ],
   "source": [
    "plt.figure(figsize=(14, 7))\n",
    "plt.semilogy(final_df_1['interation'],final_df_1['entropy'], label = '3_reg_tree')\n",
    "plt.semilogy(final_df_2['interation'],final_df_2['entropy'], label = 'line_three')\n",
    "plt.semilogy(final_df_3['interation'],final_df_3['entropy'], label = 'attachment')\n",
    "plt.title(\"Entropy Calculated by interations\")\n",
    "plt.xlabel(\"iterations\")\n",
    "plt.ylabel(\"Entropy\")\n",
    "plt.grid()\n",
    "plt.legend()\n",
    "plt.show()"
   ]
  },
  {
   "cell_type": "code",
   "execution_count": 220,
   "id": "a9347539-f7c6-4796-bd01-1cdc157a7701",
   "metadata": {},
   "outputs": [
    {
     "data": {
      "text/html": [
       "<div>\n",
       "<style scoped>\n",
       "    .dataframe tbody tr th:only-of-type {\n",
       "        vertical-align: middle;\n",
       "    }\n",
       "\n",
       "    .dataframe tbody tr th {\n",
       "        vertical-align: top;\n",
       "    }\n",
       "\n",
       "    .dataframe thead th {\n",
       "        text-align: right;\n",
       "    }\n",
       "</style>\n",
       "<table border=\"1\" class=\"dataframe\">\n",
       "  <thead>\n",
       "    <tr style=\"text-align: right;\">\n",
       "      <th></th>\n",
       "      <th>interation</th>\n",
       "      <th>entropy</th>\n",
       "      <th>u_calculated</th>\n",
       "    </tr>\n",
       "  </thead>\n",
       "  <tbody>\n",
       "    <tr>\n",
       "      <th>0</th>\n",
       "      <td>0</td>\n",
       "      <td>2.969450</td>\n",
       "      <td>[0.006010518407212619, 0.017280240420736333, 0...</td>\n",
       "    </tr>\n",
       "    <tr>\n",
       "      <th>1</th>\n",
       "      <td>1</td>\n",
       "      <td>2.690532</td>\n",
       "      <td>[0.0001079447186091113, 0.0014941650374380587,...</td>\n",
       "    </tr>\n",
       "    <tr>\n",
       "      <th>2</th>\n",
       "      <td>2</td>\n",
       "      <td>2.344657</td>\n",
       "      <td>[3.4953671269633134e-08, 7.657088891392898e-06...</td>\n",
       "    </tr>\n",
       "    <tr>\n",
       "      <th>3</th>\n",
       "      <td>3</td>\n",
       "      <td>1.971742</td>\n",
       "      <td>[3.665277320266672e-15, 1.77497980841964e-10, ...</td>\n",
       "    </tr>\n",
       "    <tr>\n",
       "      <th>4</th>\n",
       "      <td>4</td>\n",
       "      <td>1.593772</td>\n",
       "      <td>[4.030277350337954e-29, 9.452050307366953e-20,...</td>\n",
       "    </tr>\n",
       "    <tr>\n",
       "      <th>5</th>\n",
       "      <td>5</td>\n",
       "      <td>1.228163</td>\n",
       "      <td>[4.8729406561926547e-57, 2.680237652674719e-38...</td>\n",
       "    </tr>\n",
       "    <tr>\n",
       "      <th>6</th>\n",
       "      <td>6</td>\n",
       "      <td>0.903387</td>\n",
       "      <td>[7.123665191626087e-113, 2.1551021624426192e-7...</td>\n",
       "    </tr>\n",
       "    <tr>\n",
       "      <th>7</th>\n",
       "      <td>7</td>\n",
       "      <td>0.720560</td>\n",
       "      <td>[1.522398172867385e-224, 1.3933395991656405e-1...</td>\n",
       "    </tr>\n",
       "    <tr>\n",
       "      <th>8</th>\n",
       "      <td>8</td>\n",
       "      <td>0.693458</td>\n",
       "      <td>[0.0, 5.824185715761354e-298, 1.33702047030512...</td>\n",
       "    </tr>\n",
       "    <tr>\n",
       "      <th>9</th>\n",
       "      <td>9</td>\n",
       "      <td>0.693147</td>\n",
       "      <td>[0.0, 0.0, 0.0, 5.634600524292219e-307, 3.6517...</td>\n",
       "    </tr>\n",
       "  </tbody>\n",
       "</table>\n",
       "</div>"
      ],
      "text/plain": [
       "   interation   entropy                                       u_calculated\n",
       "0           0  2.969450  [0.006010518407212619, 0.017280240420736333, 0...\n",
       "1           1  2.690532  [0.0001079447186091113, 0.0014941650374380587,...\n",
       "2           2  2.344657  [3.4953671269633134e-08, 7.657088891392898e-06...\n",
       "3           3  1.971742  [3.665277320266672e-15, 1.77497980841964e-10, ...\n",
       "4           4  1.593772  [4.030277350337954e-29, 9.452050307366953e-20,...\n",
       "5           5  1.228163  [4.8729406561926547e-57, 2.680237652674719e-38...\n",
       "6           6  0.903387  [7.123665191626087e-113, 2.1551021624426192e-7...\n",
       "7           7  0.720560  [1.522398172867385e-224, 1.3933395991656405e-1...\n",
       "8           8  0.693458  [0.0, 5.824185715761354e-298, 1.33702047030512...\n",
       "9           9  0.693147  [0.0, 0.0, 0.0, 5.634600524292219e-307, 3.6517..."
      ]
     },
     "execution_count": 220,
     "metadata": {},
     "output_type": "execute_result"
    }
   ],
   "source": [
    "final_df_2"
   ]
  },
  {
   "cell_type": "code",
   "execution_count": null,
   "id": "bf0fc8f8-4eb3-4cf8-8df5-1b30cb830b18",
   "metadata": {},
   "outputs": [],
   "source": []
  },
  {
   "cell_type": "code",
   "execution_count": null,
   "id": "0b8f4770-6e2b-4786-8d9f-ab56e0dfb0bf",
   "metadata": {},
   "outputs": [],
   "source": []
  },
  {
   "cell_type": "code",
   "execution_count": null,
   "id": "281c22b8-daaa-4c50-b572-25e987655145",
   "metadata": {},
   "outputs": [],
   "source": []
  },
  {
   "cell_type": "code",
   "execution_count": null,
   "id": "32f3d4f5-795f-49fd-bc82-383947c34127",
   "metadata": {},
   "outputs": [],
   "source": []
  },
  {
   "cell_type": "code",
   "execution_count": null,
   "id": "3cdefb39-9545-4777-a4f5-ebed27e4362b",
   "metadata": {},
   "outputs": [],
   "source": []
  },
  {
   "cell_type": "code",
   "execution_count": null,
   "id": "2e214d85-d951-44e2-98d2-fc73d1474074",
   "metadata": {},
   "outputs": [],
   "source": []
  }
 ],
 "metadata": {
  "kernelspec": {
   "display_name": "Python 3 (ipykernel)",
   "language": "python",
   "name": "python3"
  },
  "language_info": {
   "codemirror_mode": {
    "name": "ipython",
    "version": 3
   },
   "file_extension": ".py",
   "mimetype": "text/x-python",
   "name": "python",
   "nbconvert_exporter": "python",
   "pygments_lexer": "ipython3",
   "version": "3.10.12"
  }
 },
 "nbformat": 4,
 "nbformat_minor": 5
}
