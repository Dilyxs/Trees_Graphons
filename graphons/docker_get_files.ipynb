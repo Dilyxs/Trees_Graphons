{
 "cells": [
  {
   "cell_type": "code",
   "execution_count": 1,
   "id": "a0fe9a41-493b-4049-99ad-618fd58548be",
   "metadata": {},
   "outputs": [],
   "source": [
    ">>> from graph_tool.all import *"
   ]
  },
  {
   "cell_type": "code",
   "execution_count": 6,
   "id": "048927b2-5277-41ff-bc5a-e53bab93bcf3",
   "metadata": {},
   "outputs": [],
   "source": [
    "def take_only_name(name):\n",
    "    g = load_graph(f\"{name}.gt\")\n",
    "    \n",
    "    \n",
    "    g.save(f\"{name}.graphml\", fmt=\"graphml\")\n",
    "    \n",
    "    print(f\"Conversion complete: {name}.graphml\")"
   ]
  },
  {
   "cell_type": "code",
   "execution_count": 17,
   "id": "99153941-0828-4b12-9337-960d85e7b3b3",
   "metadata": {},
   "outputs": [
    {
     "name": "stdout",
     "output_type": "stream",
     "text": [
      "Conversion complete: fao_trade.graphml\n"
     ]
    }
   ],
   "source": [
    "take_only_name(\"fao_trade\")"
   ]
  },
  {
   "cell_type": "code",
   "execution_count": 10,
   "id": "529f263d-1c01-409e-8be5-66767f549a9d",
   "metadata": {},
   "outputs": [],
   "source": [
    "import graph_tool.all as gt\n",
    "g = gt.collection.ns[\"webkb/webkb_texas_cocite\"]"
   ]
  },
  {
   "cell_type": "code",
   "execution_count": 11,
   "id": "1e7ac204-f884-4280-82f6-731eda69ccba",
   "metadata": {},
   "outputs": [],
   "source": [
    "name = 'webkb'"
   ]
  },
  {
   "cell_type": "code",
   "execution_count": 12,
   "id": "8e3a4242-515d-4055-a958-44ae073cadd5",
   "metadata": {},
   "outputs": [
    {
     "name": "stdout",
     "output_type": "stream",
     "text": [
      "Conversion complete: webkb.graphml\n"
     ]
    }
   ],
   "source": [
    "g.save(f\"{name}.graphml\", fmt=\"graphml\")\n",
    "    \n",
    "print(f\"Conversion complete: {name}.graphml\")"
   ]
  },
  {
   "cell_type": "code",
   "execution_count": 14,
   "id": "1f726014-da88-4f5f-8865-5493e22dc84f",
   "metadata": {},
   "outputs": [],
   "source": [
    "g = gt.collection.ns[\"ego_social/gplus_combined\"]"
   ]
  },
  {
   "cell_type": "code",
   "execution_count": 15,
   "id": "e9618c1a-57c1-4593-970f-7b12808cccca",
   "metadata": {},
   "outputs": [],
   "source": [
    "name = 'ego_social'"
   ]
  },
  {
   "cell_type": "code",
   "execution_count": 16,
   "id": "91f03690-21bf-406a-9f3a-30749a671ece",
   "metadata": {},
   "outputs": [
    {
     "name": "stdout",
     "output_type": "stream",
     "text": [
      "Conversion complete: ego_social.graphml\n"
     ]
    }
   ],
   "source": [
    "g.save(f\"{name}.graphml\", fmt=\"graphml\")\n",
    "    \n",
    "print(f\"Conversion complete: {name}.graphml\")"
   ]
  },
  {
   "cell_type": "code",
   "execution_count": null,
   "id": "4f6f0a84-deeb-42d4-bc97-78380525d8e2",
   "metadata": {},
   "outputs": [],
   "source": []
  }
 ],
 "metadata": {
  "kernelspec": {
   "display_name": "Python 3 (ipykernel)",
   "language": "python",
   "name": "python3"
  },
  "language_info": {
   "codemirror_mode": {
    "name": "ipython",
    "version": 3
   },
   "file_extension": ".py",
   "mimetype": "text/x-python",
   "name": "python",
   "nbconvert_exporter": "python",
   "pygments_lexer": "ipython3",
   "version": "3.13.1"
  }
 },
 "nbformat": 4,
 "nbformat_minor": 5
}
