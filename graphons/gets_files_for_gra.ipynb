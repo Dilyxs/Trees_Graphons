{
 "cells": [
  {
   "cell_type": "code",
   "execution_count": 1,
   "id": "62e98a15-0fed-4071-8cb9-ef6cef3e0765",
   "metadata": {},
   "outputs": [
    {
     "name": "stdout",
     "output_type": "stream",
     "text": [
      "Error: 404 <!doctype html>\n",
      "<html lang=en>\n",
      "<title>404 Not Found</title>\n",
      "<h1>Not Found</h1>\n",
      "<p>The requested URL was not found on the server. If you entered the URL manually please check your spelling and try again.</p>\n",
      "\n"
     ]
    }
   ],
   "source": [
    "import requests\n",
    "import networkx as nx\n",
    "url = \"https://networks.skewed.de/api/net\"\n",
    "response = requests.get(url)\n",
    "\n",
    "if response.status_code == 200:\n",
    "    print(response.json())  \n",
    "else:\n",
    "    print(\"Error:\", response.status_code, response.text)\n"
   ]
  },
  {
   "cell_type": "code",
   "execution_count": 2,
   "id": "7ff68166-f6b2-4f16-b036-a6c1d5f78b49",
   "metadata": {},
   "outputs": [
    {
     "name": "stdout",
     "output_type": "stream",
     "text": [
      "{'analyses': {'player-player': {'average_degree': 30.25, 'degree_assortativity': 0.9907544509797475, 'degree_std_dev': 18.59117921070217, 'diameter': 2, 'edge_properties': [], 'edge_reciprocity': 1.0, 'global_clustering': 0.9973602948500847, 'hashimoto_radius': 44.0000245705731, 'is_bipartite': False, 'is_directed': False, 'knn_proj_1': 4.606237499497344, 'knn_proj_2': 2.1165078966485544, 'largest_component_fraction': 0.625, 'mixing_time': 2.5633647708013014, 'num_edges': 1089, 'num_vertices': 72, 'transition_gap': 0.6769808786824754, 'vertex_properties': [['name', 'string'], ['_pos', 'vector<double>']]}, 'user-provider': {'average_degree': 2.0, 'degree_assortativity': -0.45324350935028485, 'degree_std_dev': 4.775931721614517, 'diameter': 4, 'edge_properties': [], 'edge_reciprocity': 1.0, 'global_clustering': 0.0, 'hashimoto_radius': 1.732050807568875, 'is_bipartite': True, 'is_directed': False, 'knn_proj_1': 4.045647796020993, 'knn_proj_2': 1.0754966288732322, 'largest_component_fraction': 0.5595238095238095, 'mixing_time': 6.601759387873558, 'num_edges': 84, 'num_vertices': 84, 'transition_gap': 0.8594395636904105, 'vertex_properties': [['name', 'string'], ['_pos', 'vector<double>']]}}, 'bibtex': ['@unpublished{baseball,\\n    author = {V. Krebs},\\n    title = {The Spread of Steroids in Baseball},\\n    url = {http://orgnet.com/steroids.html},\\n    note = {\\\\url{http://orgnet.com/steroids.html}},\\n}\\n'], 'citation': [['V. Krebs, \"The Spread of Steroids in Baseball.\"', 'http://orgnet.com/steroids.html']], 'description': 'Two networks representing steroid use among baseball players. First, a bipartite network of players and their steroid providers (of illegal performance-enhancing substances). Second, a one-mode projection of players, which are linked if they have a common supplier.[^icon]\\n[^icon]: Description obtained from the [ICON](https://icon.colorado.edu) project.', 'nets': ['player-player', 'user-provider'], 'restricted': False, 'tags': ['Social', 'Offline', 'Weighted', 'Projection'], 'title': 'Baseball steroid use (2008)', 'url': 'http://orgnet.com/steroids.html'}\n"
     ]
    }
   ],
   "source": [
    "url = \"https://networks.skewed.de/api/net/baseball\"\n",
    "response = requests.get(url)\n",
    "\n",
    "if response.status_code == 200:\n",
    "    print(response.json())  \n",
    "else:\n",
    "    print(\"Error:\", response.status_code, response.text)"
   ]
  },
  {
   "cell_type": "code",
   "execution_count": 7,
   "id": "ed04e39d-a22f-4cf1-ae86-db49d4f9417a",
   "metadata": {},
   "outputs": [
    {
     "name": "stdout",
     "output_type": "stream",
     "text": [
      "Failed to download: 404 <!doctype html>\n",
      "<html lang=en>\n",
      "<title>404 Not Found</title>\n",
      "<h1>Not Found</h1>\n",
      "<p>The requested URL was not found on the server. If you entered the URL manually please check your spelling and try again.</p>\n",
      "\n"
     ]
    }
   ],
   "source": [
    "import requests\n",
    "import zstandard as zstd\n",
    "\n",
    "url = \"https://networks.skewed.de/net/advogato/files/advogato.gt.zst\"\n",
    "zst_file = \"advogato.gt.zst\"\n",
    "gt_file = \"advogato.gt\"\n",
    "\n",
    "def download_file(url, output_path):\n",
    "    \"\"\"Download the .zst file in chunks to avoid memory issues.\"\"\"\n",
    "    response = requests.get(url, stream=True)\n",
    "    if response.status_code == 200:\n",
    "        with open(output_path, \"wb\") as f:\n",
    "            for chunk in response.iter_content(chunk_size=8192):\n",
    "                f.write(chunk)\n",
    "        print(f\"Downloaded: {output_path}\")\n",
    "    else:\n",
    "        print(\"Failed to download:\", response.status_code, response.text)\n",
    "        return False\n",
    "    return True\n",
    "\n",
    "def decompress_zst(input_path, output_path):\n",
    "    \"\"\"Decompress .zst file in a streaming manner.\"\"\"\n",
    "    with open(input_path, \"rb\") as f_in, open(output_path, \"wb\") as f_out:\n",
    "        dctx = zstd.ZstdDecompressor()\n",
    "        dctx.copy_stream(f_in, f_out)\n",
    "    print(f\"Decompressed: {output_path}\")\n",
    "\n",
    "\n",
    "if download_file(url, zst_file):\n",
    "    decompress_zst(zst_file, gt_file)"
   ]
  },
  {
   "cell_type": "code",
   "execution_count": 4,
   "id": "2bee5e29-a128-465b-b32a-e0c1c0ec7e50",
   "metadata": {},
   "outputs": [
    {
     "ename": "ModuleNotFoundError",
     "evalue": "No module named 'graph_tool'",
     "output_type": "error",
     "traceback": [
      "\u001b[0;31m---------------------------------------------------------------------------\u001b[0m",
      "\u001b[0;31mModuleNotFoundError\u001b[0m                       Traceback (most recent call last)",
      "\u001b[0;32m/tmp/ipykernel_4944/416300316.py\u001b[0m in \u001b[0;36m<module>\u001b[0;34m\u001b[0m\n\u001b[0;32m----> 1\u001b[0;31m \u001b[0;32mfrom\u001b[0m \u001b[0mgraph_tool\u001b[0m\u001b[0;34m.\u001b[0m\u001b[0mall\u001b[0m \u001b[0;32mimport\u001b[0m \u001b[0;34m*\u001b[0m\u001b[0;34m\u001b[0m\u001b[0;34m\u001b[0m\u001b[0m\n\u001b[0m",
      "\u001b[0;31mModuleNotFoundError\u001b[0m: No module named 'graph_tool'"
     ]
    }
   ],
   "source": [
    "from graph_tool.all import *"
   ]
  },
  {
   "cell_type": "code",
   "execution_count": 5,
   "id": "73fb1505-2d8d-4342-932f-078aec7bcef4",
   "metadata": {},
   "outputs": [
    {
     "name": "stdout",
     "output_type": "stream",
     "text": [
      "--2025-02-12 08:32:06--  https://downloads.skewed.de/skewed-keyring/skewed-keyring_1.0_all_virginia.deb\n",
      "49.12.93.194wnloads.skewed.de (downloads.skewed.de)... \n",
      "connected. to downloads.skewed.de (downloads.skewed.de)|49.12.93.194|:443... \n",
      "HTTP request sent, awaiting response... 404 Not Found\n",
      "2025-02-12 08:32:07 ERROR 404: Not Found.\n",
      "\n",
      "\u001b[1mdpkg:\u001b[0m \u001b[1;31merror:\u001b[0m requested operation requires superuser privilege\n",
      "/bin/bash: line 1: /etc/apt/sources.list.d/skewed.list: Permission denied\n",
      "Reading package lists... Done\n",
      "E: Could not open lock file /var/lib/apt/lists/lock - open (13: Permission denied)\n",
      "E: Unable to lock directory /var/lib/apt/lists/\n",
      "W: Problem unlinking the file /var/cache/apt/pkgcache.bin - RemoveCaches (13: Permission denied)\n",
      "W: Problem unlinking the file /var/cache/apt/srcpkgcache.bin - RemoveCaches (13: Permission denied)\n",
      "E: Could not open lock file /var/lib/dpkg/lock-frontend - open (13: Permission denied)\n",
      "E: Unable to acquire the dpkg frontend lock (/var/lib/dpkg/lock-frontend), are you root?\n"
     ]
    }
   ],
   "source": [
    "!wget https://downloads.skewed.de/skewed-keyring/skewed-keyring_1.0_all_$(lsb_release -s -c).deb\n",
    "!dpkg -i skewed-keyring_1.0_all_$(lsb_release -s -c).deb\n",
    "!echo \"deb [signed-by=/usr/share/keyrings/skewed-keyring.gpg] https://downloads.skewed.de/apt $(lsb_release -s -c) main\" > /etc/apt/sources.list.d/skewed.list\n",
    "!apt-get update\n",
    "!apt-get install python3-graph-tool python3-matplotlib python3-cairo"
   ]
  },
  {
   "cell_type": "code",
   "execution_count": 6,
   "id": "9db986f2-714f-4625-ba4b-2a255df0fdb7",
   "metadata": {},
   "outputs": [
    {
     "ename": "ModuleNotFoundError",
     "evalue": "No module named 'graph_tool'",
     "output_type": "error",
     "traceback": [
      "\u001b[0;31m---------------------------------------------------------------------------\u001b[0m",
      "\u001b[0;31mModuleNotFoundError\u001b[0m                       Traceback (most recent call last)",
      "\u001b[0;32m/tmp/ipykernel_4944/416300316.py\u001b[0m in \u001b[0;36m<module>\u001b[0;34m\u001b[0m\n\u001b[0;32m----> 1\u001b[0;31m \u001b[0;32mfrom\u001b[0m \u001b[0mgraph_tool\u001b[0m\u001b[0;34m.\u001b[0m\u001b[0mall\u001b[0m \u001b[0;32mimport\u001b[0m \u001b[0;34m*\u001b[0m\u001b[0;34m\u001b[0m\u001b[0;34m\u001b[0m\u001b[0m\n\u001b[0m",
      "\u001b[0;31mModuleNotFoundError\u001b[0m: No module named 'graph_tool'"
     ]
    }
   ],
   "source": [
    "from graph_tool.all import *"
   ]
  },
  {
   "cell_type": "code",
   "execution_count": null,
   "id": "64bd90b2-96db-4713-ad79-8c46745fec11",
   "metadata": {},
   "outputs": [],
   "source": []
  }
 ],
 "metadata": {
  "kernelspec": {
   "display_name": "Python 3 (ipykernel)",
   "language": "python",
   "name": "python3"
  },
  "language_info": {
   "codemirror_mode": {
    "name": "ipython",
    "version": 3
   },
   "file_extension": ".py",
   "mimetype": "text/x-python",
   "name": "python",
   "nbconvert_exporter": "python",
   "pygments_lexer": "ipython3",
   "version": "3.10.12"
  }
 },
 "nbformat": 4,
 "nbformat_minor": 5
}
