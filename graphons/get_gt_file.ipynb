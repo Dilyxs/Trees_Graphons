{
 "cells": [
  {
   "cell_type": "code",
   "execution_count": 1,
   "id": "9690ff9a-71dc-41b3-b69f-43da7e0aa4de",
   "metadata": {},
   "outputs": [],
   "source": [
    "import requests\n",
    "import networkx as nx\n",
    "import zstandard as zstd"
   ]
  },
  {
   "cell_type": "code",
   "execution_count": 2,
   "id": "6b70e9b3-c617-42af-845c-08f2daf3d426",
   "metadata": {},
   "outputs": [],
   "source": [
    "\n",
    "def download_file(url, output_path):\n",
    "    response = requests.get(url, stream=True)\n",
    "    if response.status_code == 200:\n",
    "        with open(output_path, \"wb\") as f:\n",
    "            for chunk in response.iter_content(chunk_size=8192):\n",
    "                f.write(chunk)\n",
    "        print(f\"Downloaded: {output_path}\")\n",
    "    else:\n",
    "        print(\"Failed to download:\", response.status_code, response.text)\n",
    "        return False\n",
    "    return True\n",
    "\n",
    "def decompress_zst(input_path, output_path):\n",
    "    with open(input_path, \"rb\") as f_in, open(output_path, \"wb\") as f_out:\n",
    "        dctx = zstd.ZstdDecompressor()\n",
    "        dctx.copy_stream(f_in, f_out)\n",
    "    print(f\"Decompressed: {output_path}\")\n",
    "\n",
    "def take_only_file_name(file_name):\n",
    "    url = f\"https://networks.skewed.de/net/{file_name}/files/{file_name}.gt.zst\"\n",
    "    zst_file = f\"{file_name}.gt.zst\"\n",
    "    gt_file = f\"{file_name}.gt\"\n",
    "    if download_file(url, zst_file):\n",
    "        decompress_zst(zst_file, gt_file)"
   ]
  },
  {
   "cell_type": "code",
   "execution_count": 11,
   "id": "76acad73-20eb-4b8c-b8d1-665d48031821",
   "metadata": {},
   "outputs": [],
   "source": [
    "file_name = \"fao_trade\"\n",
    "url = f\"https://networks.skewed.de/net/{file_name}/files/{file_name}.gt.zst\"\n",
    "zst_file = f\"{file_name}.gt.zst\"\n",
    "gt_file = f\"{file_name}.gt\""
   ]
  },
  {
   "cell_type": "code",
   "execution_count": 12,
   "id": "2099d33e-2c55-4086-b038-e905a3fad4c8",
   "metadata": {},
   "outputs": [
    {
     "name": "stdout",
     "output_type": "stream",
     "text": [
      "Downloaded: fao_trade.gt.zst\n",
      "Decompressed: fao_trade.gt\n"
     ]
    }
   ],
   "source": [
    "if download_file(url, zst_file):\n",
    "    decompress_zst(zst_file, gt_file)"
   ]
  },
  {
   "cell_type": "code",
   "execution_count": null,
   "id": "b852d678-fc66-4a1e-820c-1b77dc0438c4",
   "metadata": {},
   "outputs": [],
   "source": []
  }
 ],
 "metadata": {
  "kernelspec": {
   "display_name": "Python 3 (ipykernel)",
   "language": "python",
   "name": "python3"
  },
  "language_info": {
   "codemirror_mode": {
    "name": "ipython",
    "version": 3
   },
   "file_extension": ".py",
   "mimetype": "text/x-python",
   "name": "python",
   "nbconvert_exporter": "python",
   "pygments_lexer": "ipython3",
   "version": "3.10.12"
  }
 },
 "nbformat": 4,
 "nbformat_minor": 5
}
