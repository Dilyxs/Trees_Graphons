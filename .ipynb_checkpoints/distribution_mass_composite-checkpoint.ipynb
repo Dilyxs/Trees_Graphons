{
 "cells": [
  {
   "cell_type": "code",
   "execution_count": 2,
   "id": "10f045e8-328c-4bd6-b5e2-c7518ec1f08a",
   "metadata": {},
   "outputs": [
    {
     "name": "stderr",
     "output_type": "stream",
     "text": [
      "/home/adsayan/.local/lib/python3.10/site-packages/matplotlib/projections/__init__.py:63: UserWarning: Unable to import Axes3D. This may be due to multiple versions of Matplotlib being installed (e.g. as a system package and as a pip package). As a result, the 3D projection is not available.\n",
      "  warnings.warn(\"Unable to import Axes3D. This may be due to multiple versions of \"\n"
     ]
    },
    {
     "name": "stdout",
     "output_type": "stream",
     "text": [
      "0.09181594848632812\n"
     ]
    }
   ],
   "source": [
    "import numpy as np\n",
    "import networkx as nx\n",
    "import matplotlib.pyplot as plt\n",
    "import copy\n",
    "from uniform_attachment_model  import matrix_uniform_attachment\n",
    "from tqdm.notebook import tqdm\n",
    "import pandas as pd\n",
    "import time\n",
    "import copy\n",
    "import  heapq"
   ]
  },
  {
   "cell_type": "code",
   "execution_count": 4,
   "id": "0d9a6e1a-7e66-4253-8580-fee15933dc48",
   "metadata": {},
   "outputs": [],
   "source": [
    "def find_barycenter_prob(matrix, vertex_to_remove):\n",
    "\n",
    "    matrix_copy = copy.deepcopy(matrix)\n",
    "\n",
    "    row_c = [0, 1]\n",
    "\n",
    "    for i in vertex_to_remove:\n",
    "        if vertex_to_remove.count(i) >= 2:\n",
    "            return i  \n",
    "\n",
    "    while len(row_c) != 0:\n",
    "        row, column = row_colum_returner(matrix_copy, vertex_to_remove)\n",
    "        row_c = row\n",
    "\n",
    "        if len(row_c) == 0:\n",
    "            break\n",
    "\n",
    "        for r, c in zip(row, column):\n",
    "            matrix_copy = make_that_1_into_0_with_transpose(matrix_copy, r, c)\n",
    "\n",
    " \n",
    "    for s, i in enumerate(matrix_copy):\n",
    "        if sum(i) == 3:\n",
    "            return s  #\n",
    "\n",
    "    for i in vertex_to_remove:\n",
    "        if sum(matrix_copy[i]) == 2:\n",
    "            return i  \n",
    "\n",
    " \n",
    "    return None\n",
    "def row_colum_returner(matrix, vertex_to_remove):\n",
    "    s= 0 \n",
    "    column = []\n",
    "    row = []\n",
    "    for i in matrix:\n",
    "        if sum(i) == 1:\n",
    "            if s in vertex_to_remove:\n",
    "                pass\n",
    "            if s not in vertex_to_remove:\n",
    "                d = 0\n",
    "                for v in i:\n",
    "                    if v==1:\n",
    "                        row.append(s)\n",
    "                        column.append(d)\n",
    "                    d+=1\n",
    "                        \n",
    "    \n",
    "        s+=1\n",
    "\n",
    "    return row, column\n",
    "\n",
    "def calculate_u_new(matrix):\n",
    "    row_count = max(len(i) for i in matrix)\n",
    "    u_new = [0] * row_count\n",
    "    u_old = [1 / row_count] * row_count\n",
    "    \n",
    "    for i in range(0, row_count):\n",
    "        for j in range(0, row_count):\n",
    "            for k in range(0, row_count):\n",
    "                center = find_barycenter_prob(matrix, vertex_to_remove=[i, j, k])\n",
    "                u_new[center] += u_old[i] * u_old[j] * u_old[k]\n",
    "    \n",
    "    return u_new\n",
    "\n",
    "\n",
    "def find_barycenter_deterministic(adj_matrix):\n",
    "    leaf_cut = []    \n",
    "    adj_matrix_copy = copy.deepcopy(adj_matrix)\n",
    "    \n",
    "    n = len(adj_matrix_copy)  # Number of nodes, number of rows\n",
    "    degrees = np.sum(adj_matrix_copy, axis=1)  # Sum of row = degree\n",
    "    nodes = set(range(n))  # All vertices\n",
    "    \n",
    "    while len(nodes) > 2: \n",
    "        # Find all leaf nodes (nodes with degree 1)\n",
    "        leaf_nodes = [i for i in nodes if degrees[i] == 1]  # Only those with a single 1 are leaves\n",
    "        \n",
    "        for leaf in leaf_nodes:\n",
    "            nodes.remove(leaf)  # Remove the leaf\n",
    "            degrees[leaf] = 0  # Degree is then 0\n",
    "\n",
    "            for neighbor in range(n):  # Check all neighbors\n",
    "                if adj_matrix_copy[leaf][neighbor] == 1:  # If there is a connection\n",
    "                    degrees[neighbor] -= 1  # Decrement the degree of the neighbor\n",
    "                    adj_matrix_copy[leaf][neighbor] = 0  # Change the 1 to 0\n",
    "                    adj_matrix_copy[neighbor][leaf] = 0  # Also change its \"transpose position\" to 0\n",
    "        leaf_cut.append(1)\n",
    "\n",
    "    # At this point, there should only be 1 or 2 nodes left\n",
    "    remaining_nodes = list(nodes)  # Convert the set to a list\n",
    "\n",
    "    if len(remaining_nodes) == 1:  # If only 1 vertex remains\n",
    "        return remaining_nodes, adj_matrix_copy, sum(leaf_cut)\n",
    "    elif len(remaining_nodes) == 2:  # If 2 vertices remain\n",
    "        return remaining_nodes, adj_matrix_copy, sum(leaf_cut)\n",
    "\n",
    "def make_that_1_into_0_with_transpose(matrix, row, column):\n",
    "    matrix[row][column] = 0\n",
    "    matrix[column][row] = 0\n",
    "\n",
    "\n",
    "    return matrix\n",
    "\n",
    "def draw_graph_from_adjacency_matrix(adjacency_matrix):\n",
    "    G = nx.Graph()\n",
    "\n",
    "    for i in range(len(adjacency_matrix)):\n",
    "        for j in range(len(adjacency_matrix[i])):\n",
    "            if adjacency_matrix[i][j] != 0: \n",
    "                G.add_edge(i, j, weight=adjacency_matrix[i][j])\n",
    "\n",
    "\n",
    "    G.add_nodes_from(range(len(adjacency_matrix)))\n",
    "\n",
    "    pos = nx.spring_layout(G, seed=42)\n",
    "\n",
    "    # Draw the graph\n",
    "    plt.figure(figsize=(8, 6))\n",
    "    nx.draw(\n",
    "        G,\n",
    "        pos,\n",
    "        with_labels=True,\n",
    "        node_color='lightblue',\n",
    "        edge_color='black',\n",
    "        node_size=10,\n",
    "        font_size=10,\n",
    "        width=0.5\n",
    "    )\n",
    "    plt.title(\"Graph from Adjacency Matrix\")\n",
    "    plt.show()\n",
    "def calculate_u_new(matrix, u_old = None, centers = None):\n",
    "    centers = []\n",
    "    row_count = max(len(i) for i in matrix)\n",
    "    u_new = [0] * row_count\n",
    "\n",
    "    if u_old is None:\n",
    "        u_old = [1 / row_count] * row_count\n",
    "\n",
    "    if  not centers:\n",
    "        for i in range(0, row_count):\n",
    "            for j in range(0, row_count):\n",
    "                for k in range(0, row_count):\n",
    "                    center = find_barycenter_prob(matrix, vertex_to_remove=[i, j, k])\n",
    "                    no_change_center = [i,j,k,center]\n",
    "                    u_new[center] += u_old[i] * u_old[j] * u_old[k]\n",
    "                    centers.append(no_change_center)\n",
    "        return u_new,centers\n",
    "\n",
    "\n",
    "    if centers:\n",
    "        for element in centers:\n",
    "            u_new[element[3]] += u_old[element[0]] * u_old[element[1]] * u_old[element[2]]\n",
    "            return u_new, ceters\n",
    "            \n",
    "\n",
    "\n",
    "def entropy_calculator(list_s):\n",
    "    entropy_sum_list = []\n",
    "    for i in list_s:\n",
    "        if i < 0.0000000001:\n",
    "            value = 0\n",
    "        else:\n",
    "            value = i * np.log(i)\n",
    "            entropy_sum_list.append(value)\n",
    "    \n",
    "    return -sum(entropy_sum_list)\n",
    "\n",
    "def main_entropy_for_each_interation(n, matrix, lower_barrier = np.log(2).round(10)):\n",
    "    start_time = time.time() \n",
    "    total_steps = n\n",
    "    progress_bar = tqdm(total=total_steps, desc=\"Computing\", dynamic_ncols=True)\n",
    "\n",
    "    list_with_all_iteration = []\n",
    "    u_old = None\n",
    "    centers = None\n",
    "    for s in range(n):\n",
    "        elapsed_time = time.time() - start_time\n",
    "        progress_bar.set_description(f\"Elapsed: {elapsed_time:.2f} sec\")\n",
    "        u_calculated, los_centers = calculate_u_new(matrix, u_old, centers)\n",
    "        entropy_received = (entropy_calculator(u_calculated)).round(4)\n",
    "        centers = los_centers\n",
    "        u_old = u_calculated\n",
    "\n",
    "        dict_2_send = {\n",
    "            \"interation\": s,\n",
    "            \"entropy\": entropy_received,\n",
    "            'u_calculated': u_calculated\n",
    "        }\n",
    "        list_with_all_iteration.append(dict_2_send)\n",
    "\n",
    "        if entropy_received < lower_barrier:  \n",
    "            progress_bar.n = total_steps  # Set progress to max\n",
    "            progress_bar.refresh()  # Force update the UI\n",
    "            progress_bar.close\n",
    "            break  \n",
    "\n",
    "        progress_bar.update(1)  \n",
    "\n",
    "    progress_bar.close()  \n",
    "    return list_with_all_iteration\n",
    "    \n",
    "def runner(iterations, node_size):\n",
    "    \n",
    "    node_counter = []\n",
    "    edge_counter = []\n",
    "    \n",
    "    edge_count = 0\n",
    "    vertex_count = 0\n",
    "    for i in set(range(iterations)):\n",
    "        matrix = matrix_uniform_attachment(node_size)\n",
    "        sd ,ad, cuts = find_barycenter_deterministic(matrix)\n",
    "\n",
    "\n",
    "        \n",
    "        if len(sd) == 2:#it is an edge\n",
    "            edge_count+=1\n",
    "            edge_counter.append(sd[0])\n",
    "            edge_counter.append(sd[1])\n",
    "        elif len(sd) == 1: #is is an vertex\n",
    "            vertex_count+=1\n",
    "            node_counter.append(sd[0])\n",
    "    return edge_count, vertex_count, node_counter, edge_counter"
   ]
  },
  {
   "cell_type": "code",
   "execution_count": 5,
   "id": "8dd78f4f-6151-4b39-b7f2-01ff03f2823d",
   "metadata": {},
   "outputs": [
    {
     "ename": "NameError",
     "evalue": "name 'create_line_tree_adjacency_matrix' is not defined",
     "output_type": "error",
     "traceback": [
      "\u001b[0;31m---------------------------------------------------------------------------\u001b[0m",
      "\u001b[0;31mNameError\u001b[0m                                 Traceback (most recent call last)",
      "\u001b[0;32m/tmp/ipykernel_134651/3363079952.py\u001b[0m in \u001b[0;36m<module>\u001b[0;34m\u001b[0m\n\u001b[0;32m----> 1\u001b[0;31m \u001b[0mmatrix_1\u001b[0m \u001b[0;34m=\u001b[0m \u001b[0;34m(\u001b[0m\u001b[0mcreate_line_tree_adjacency_matrix\u001b[0m\u001b[0;34m(\u001b[0m\u001b[0;36m15\u001b[0m\u001b[0;34m)\u001b[0m\u001b[0;34m)\u001b[0m\u001b[0;34m\u001b[0m\u001b[0;34m\u001b[0m\u001b[0m\n\u001b[0m\u001b[1;32m      2\u001b[0m \u001b[0mzack\u001b[0m \u001b[0;34m=\u001b[0m \u001b[0mmain_entropy_for_each_interation\u001b[0m\u001b[0;34m(\u001b[0m\u001b[0;36m10\u001b[0m\u001b[0;34m,\u001b[0m \u001b[0mmatrix_1\u001b[0m\u001b[0;34m)\u001b[0m\u001b[0;34m\u001b[0m\u001b[0;34m\u001b[0m\u001b[0m\n",
      "\u001b[0;31mNameError\u001b[0m: name 'create_line_tree_adjacency_matrix' is not defined"
     ]
    }
   ],
   "source": [
    "matrix_1 = (create_line_tree_adjacency_matrix(15))\n",
    "zack = main_entropy_for_each_interation(10, matrix_1)"
   ]
  },
  {
   "cell_type": "code",
   "execution_count": 6,
   "id": "7c9d1703-b12e-446c-8614-37b8ebc5f596",
   "metadata": {},
   "outputs": [],
   "source": [
    "\n",
    "def make_that_1_into_0_with_transpos(matrix, row, column):\n",
    "    matrix[row][column] = 0\n",
    "    matrix[column][row] = 0\n",
    "\n",
    "    \n",
    "def merge_trees(matrix_1, matrix_2, random_vertex_selection = True, vertex_from_matrix_1 = None, vertex_from_matrix_2 = None):\n",
    "    matrix_1_cp = copy.deepcopy(matrix_1)\n",
    "    matrix_2_cp = copy.deepcopy(matrix_2)\n",
    "\n",
    "\n",
    "    for i in range(len(matrix_2_cp)):\n",
    "        for li in matrix_1_cp:\n",
    "            li.append(0)\n",
    "\n",
    "\n",
    "    for i in range(len(matrix_1_cp)):\n",
    "        for li in matrix_2_cp:\n",
    "            li.insert(0, 0)\n",
    "        \n",
    "\n",
    "\n",
    "    for row in matrix_2_cp:\n",
    "        matrix_1_cp.append(row)\n",
    "\n",
    "    if random_vertex_selection: \n",
    "        vertex_for_matrix_1 = np.random.choice(list(range(len(matrix_1))))\n",
    "        vertex_for_matrix_2_og = np.random.choice(list(range(len(matrix_2))))\n",
    "        vertex_2_to_change = vertex_for_matrix_2_og + len(matrix_1)\n",
    "        print(f\"vertex {vertex_for_matrix_1} from matrix_1 and {vertex_for_matrix_2_og} from matrix_2_were chosen\")\n",
    "        matrix_final = make_that_0_into_1_with_transpose(matrix_1_cp, vertex_for_matrix_1, vertex_2_to_change)\n",
    "        return matrix_final, vertex_for_matrix_1, vertex_for_matrix_2_og\n",
    "\n",
    "    else:\n",
    "        if vertex_from_matrix_1 is None:\n",
    "            vertex_for_matrix_1 = np.random.choice(list(range(len(matrix_1))))\n",
    "            vertex_2_to_change = vertex_from_matrix_2 + len(matrix_1)\n",
    "            print(f\"vertex {vertex_for_matrix_1} from matrix_1 and {vertex_from_matrix_2} from matrix_2_were chosen\")\n",
    "            matrix_final = make_that_0_into_1_with_transpose(matrix_1_cp, vertex_for_matrix_1, vertex_2_to_change)\n",
    "            return matrix_final, vertex_for_matrix_1, vertex_from_matrix_2\n",
    "            \n",
    "        else:\n",
    "            vertex_for_matrix_1 = vertex_from_matrix_1\n",
    "            vertex_2_to_change = vertex_from_matrix_2 + len(matrix_1)\n",
    "            print(f\"vertex {vertex_for_matrix_1} from matrix_1 and {vertex_from_matrix_2} from matrix_2_were chosen\")\n",
    "            matrix_final = make_that_0_into_1_with_transpose(matrix_1_cp, vertex_for_matrix_1, vertex_2_to_change)\n",
    "            return matrix_final, vertex_for_matrix_1, vertex_from_matrix_2\n",
    "\n"
   ]
  },
  {
   "cell_type": "code",
   "execution_count": 7,
   "id": "77115d9c-2f75-408b-94eb-1de3f8bff49b",
   "metadata": {},
   "outputs": [
    {
     "name": "stdout",
     "output_type": "stream",
     "text": [
      "time take  is 8.296966552734375e-05\n",
      "printing time is (8.58306884765625e-06)\n"
     ]
    }
   ],
   "source": [
    "from reg_three_g import make_that_0_into_1_with_transpose\n",
    "from line_tree import create_line_tree_adjacency_matrix"
   ]
  },
  {
   "cell_type": "code",
   "execution_count": 8,
   "id": "8271d5d8-9a7f-4eca-ba27-17693c8697ce",
   "metadata": {},
   "outputs": [
    {
     "name": "stdout",
     "output_type": "stream",
     "text": [
      "vertex 1 from matrix_1 and 0 from matrix_2_were chosen\n",
      "vertex 6 from matrix_1 and 0 from matrix_2_were chosen\n"
     ]
    }
   ],
   "source": [
    "matrix_1 = (matrix_uniform_attachment(12))\n",
    "matrix_2 = create_line_tree_adjacency_matrix(12)\n",
    "line_simgle = create_line_tree_adjacency_matrix(2)\n",
    "matrix_left, vertex_from_1, vertex_from_2 = merge_trees(line_simgle, matrix_1, random_vertex_selection=True)\n",
    "possible_answer = list(set(range(len(line_simgle))))\n",
    "if possible_answer[vertex_from_1] == 0 :\n",
    "    value_for_2 = 1\n",
    "else:\n",
    "    value_for_2 = 0\n",
    "matrix_total, v1, v2 = merge_trees(matrix_2,matrix_left, random_vertex_selection=False, vertex_from_matrix_1=None, vertex_from_matrix_2=value_for_2)"
   ]
  },
  {
   "cell_type": "code",
   "execution_count": 9,
   "id": "fc13b09a-bdac-4950-ad33-9189e34f5e47",
   "metadata": {},
   "outputs": [
    {
     "data": {
      "image/png": "[encoded data removed]",
      "text/plain": [
       "<Figure size 576x432 with 1 Axes>"
      ]
     },
     "metadata": {},
     "output_type": "display_data"
    }
   ],
   "source": [
    "draw_graph_from_adjacency_matrix(matrix_total)"
   ]
  },
  {
   "cell_type": "code",
   "execution_count": 29,
   "id": "13d679db-b1b9-4b61-b3bd-2e014a757575",
   "metadata": {},
   "outputs": [
    {
     "data": {
      "application/vnd.jupyter.widget-view+json": {
       "model_id": "6a40b470ccdc45418a97be8bde564c5d",
       "version_major": 2,
       "version_minor": 0
      },
      "text/plain": [
       "Computing:   0%|                                         | 0/10 [00:00<?, ?it/s]"
      ]
     },
     "metadata": {},
     "output_type": "display_data"
    }
   ],
   "source": [
    "fin_list = main_entropy_for_each_interation(10, matrix_total)"
   ]
  },
  {
   "cell_type": "code",
   "execution_count": 22,
   "id": "a5b7df3d-1487-4cde-890a-beeb4737ae62",
   "metadata": {},
   "outputs": [],
   "source": [
    "vertex, adj_matrix, cuts_done = find_barycenter_deterministic(matrix_total)"
   ]
  },
  {
   "cell_type": "code",
   "execution_count": 23,
   "id": "663a59e8-6c20-44cc-b5d6-780d4e15e033",
   "metadata": {},
   "outputs": [
    {
     "name": "stdout",
     "output_type": "stream",
     "text": [
      "Interations taken for prob method is 10\n",
      "Interations taken for deterministicc method is 8\n"
     ]
    }
   ],
   "source": [
    "print(f\"Interations taken for prob method is {len(fin_list)}\")\n",
    "print(f\"Interations taken for deterministicc method is {cuts_done}\")\n"
   ]
  },
  {
   "cell_type": "code",
   "execution_count": 24,
   "id": "5bb74ee7-01e9-4b1c-be94-c7237565aa2b",
   "metadata": {
    "scrolled": true
   },
   "outputs": [
    {
     "data": {
      "text/plain": [
       "[{'interation': 0,\n",
       "  'entropy': np.float64(2.6125),\n",
       "  'u_calculated': [0.004324078288575334,\n",
       "   0.01251706873008645,\n",
       "   0.14906690942194895,\n",
       "   0.050751024123805,\n",
       "   0.0473372781065087,\n",
       "   0.04324078288575314,\n",
       "   0.038461538461538325,\n",
       "   0.03299954483386425,\n",
       "   0.026854802002730906,\n",
       "   0.02002730996813831,\n",
       "   0.01251706873008645,\n",
       "   0.004324078288575334,\n",
       "   0.0575785161583976,\n",
       "   0.0575785161583976,\n",
       "   0.028220300409649426,\n",
       "   0.2719617660446307,\n",
       "   0.03299954483386425,\n",
       "   0.028220300409649426,\n",
       "   0.004324078288575334,\n",
       "   0.04255803368229388,\n",
       "   0.01251706873008645,\n",
       "   0.004324078288575334,\n",
       "   0.004324078288575334,\n",
       "   0.004324078288575334,\n",
       "   0.004324078288575334,\n",
       "   0.004324078288575334]},\n",
       " {'interation': 1,\n",
       "  'entropy': np.float64(1.9265),\n",
       "  'u_calculated': [5.593125890602283e-05,\n",
       "   0.0007853883249977568,\n",
       "   0.22607791190071344,\n",
       "   0.05720240010051626,\n",
       "   0.04574631191314585,\n",
       "   0.03426257687610427,\n",
       "   0.023627323335785683,\n",
       "   0.014591715465039422,\n",
       "   0.007686825010103394,\n",
       "   0.0031363004353304053,\n",
       "   0.0007853883249977563,\n",
       "   5.5931258906022825e-05,\n",
       "   0.08598599579549024,\n",
       "   0.08598599579549004,\n",
       "   0.0038657575014221573,\n",
       "   0.37980260367173274,\n",
       "   0.014591715465039345,\n",
       "   0.0038657575014221556,\n",
       "   5.593125890602282e-05,\n",
       "   0.010767194186527777,\n",
       "   0.0007853883249977562,\n",
       "   5.5931258906022825e-05,\n",
       "   5.5931258906022825e-05,\n",
       "   5.593125890602283e-05,\n",
       "   5.593125890602283e-05,\n",
       "   5.593125890602284e-05]},\n",
       " {'interation': 2,\n",
       "  'entropy': np.float64(1.5979),\n",
       "  'u_calculated': [9.384567228284022e-09,\n",
       "   2.1128803561808572e-06,\n",
       "   0.2803753134780018,\n",
       "   0.045682071436816706,\n",
       "   0.026182913565083916,\n",
       "   0.012833246662649142,\n",
       "   0.0051848729153110605,\n",
       "   0.0016269529131047555,\n",
       "   0.000357665202061018,\n",
       "   4.521625460868087e-05,\n",
       "   2.112880356180856e-06,\n",
       "   9.384567228284019e-09,\n",
       "   0.12770750304265097,\n",
       "   0.12770750304264938,\n",
       "   4.731975039763378e-05,\n",
       "   0.37016586328376605,\n",
       "   0.0016269529131047442,\n",
       "   4.731975039763374e-05,\n",
       "   9.384567228284015e-09,\n",
       "   0.00040287207210246807,\n",
       "   2.112880356180853e-06,\n",
       "   9.384567228284019e-09,\n",
       "   9.384567228284019e-09,\n",
       "   9.384567228284022e-09,\n",
       "   9.384567228284022e-09,\n",
       "   9.384567228284022e-09]},\n",
       " {'interation': 3,\n",
       "  'entropy': np.float64(1.4561),\n",
       "  'u_calculated': [2.6421030453363027e-16,\n",
       "   1.3511741887699998e-11,\n",
       "   0.28881229247343404,\n",
       "   0.01757724599887826,\n",
       "   0.005024926801081751,\n",
       "   0.001034400040970563,\n",
       "   0.00014312637933656722,\n",
       "   1.187781283706088e-05,\n",
       "   4.852285854709794e-07,\n",
       "   6.709082123242899e-09,\n",
       "   1.3511741887699972e-11,\n",
       "   2.6421030453363007e-16,\n",
       "   0.18739563852920915,\n",
       "   0.18739563852920213,\n",
       "   6.722593600920379e-09,\n",
       "   0.3125919782620847,\n",
       "   1.1877812837060775e-05,\n",
       "   6.722593600920371e-09,\n",
       "   2.642103045336296e-16,\n",
       "   4.919376673300038e-07,\n",
       "   1.3511741887699934e-11,\n",
       "   2.6421030453362987e-16,\n",
       "   2.642103045336299e-16,\n",
       "   2.642103045336302e-16,\n",
       "   2.642103045336302e-16,\n",
       "   2.6421030453363027e-16]},\n",
       " {'interation': 4,\n",
       "  'entropy': np.float64(1.3941),\n",
       "  'u_calculated': [2.0942125506545573e-31,\n",
       "   5.477229261636896e-22,\n",
       "   0.23039688241839182,\n",
       "   0.0015558600500799292,\n",
       "   0.00011114780191398572,\n",
       "   4.171659720117214e-06,\n",
       "   7.207060289495239e-08,\n",
       "   4.583033524114214e-10,\n",
       "   7.259120713961631e-13,\n",
       "   1.355792671531139e-16,\n",
       "   5.477229261636874e-22,\n",
       "   2.0942125506545533e-31,\n",
       "   0.2679318655416305,\n",
       "   0.26793186554160775,\n",
       "   1.3557981487604331e-16,\n",
       "   0.23206813400078585,\n",
       "   4.583033524114133e-10,\n",
       "   1.355798148760429e-16,\n",
       "   2.094212550654544e-31,\n",
       "   7.260476506632924e-13,\n",
       "   5.477229261636851e-22,\n",
       "   2.094212550654549e-31,\n",
       "   2.0942125506545507e-31,\n",
       "   2.0942125506545555e-31,\n",
       "   2.094212550654556e-31,\n",
       "   2.094212550654557e-31]},\n",
       " {'interation': 5,\n",
       "  'entropy': np.float64(1.2796),\n",
       "  'u_calculated': [1.315717862199393e-61,\n",
       "   9.000012122266852e-43,\n",
       "   0.1365621411033696,\n",
       "   8.329971402531435e-06,\n",
       "   3.988882270785887e-08,\n",
       "   5.402349523323783e-11,\n",
       "   1.5781009795532975e-14,\n",
       "   6.32122388738327e-19,\n",
       "   1.5814355203451918e-24,\n",
       "   5.514565860471797e-32,\n",
       "   9.000012122266779e-43,\n",
       "   1.3157178621993881e-61,\n",
       "   0.36342948898654576,\n",
       "   0.3634294889864782,\n",
       "   5.514565860562092e-32,\n",
       "   0.1365705110177169,\n",
       "   6.321223887383051e-19,\n",
       "   5.514565860562055e-32,\n",
       "   1.3157178621993765e-61,\n",
       "   1.5814355754907454e-24,\n",
       "   9.000012122266707e-43,\n",
       "   1.3157178621993822e-61,\n",
       "   1.3157178621993845e-61,\n",
       "   1.3157178621993909e-61,\n",
       "   1.3157178621993914e-61,\n",
       "   1.3157178621993922e-61]},\n",
       " {'interation': 6,\n",
       "  'entropy': np.float64(1.022),\n",
       "  'u_calculated': [5.193340478775116e-122,\n",
       "   2.4300065460488593e-84,\n",
       "   0.050860022233098295,\n",
       "   2.1016043537480244e-10,\n",
       "   4.786287782452023e-15,\n",
       "   8.760729588146839e-21,\n",
       "   7.471806638337653e-28,\n",
       "   1.1987421410077862e-36,\n",
       "   7.50281543834706e-48,\n",
       "   9.123130989218509e-63,\n",
       "   2.4300065460488205e-84,\n",
       "   5.193340478775078e-122,\n",
       "   0.44913997756935303,\n",
       "   0.4491399775691861,\n",
       "   9.123130989219483e-63,\n",
       "   0.05086002244332217,\n",
       "   1.1987421410077042e-36,\n",
       "   9.12313098921936e-63,\n",
       "   5.193340478774987e-122,\n",
       "   7.502815438346071e-48,\n",
       "   2.4300065460487816e-84,\n",
       "   5.193340478775032e-122,\n",
       "   5.193340478775048e-122,\n",
       "   5.1933404787751e-122,\n",
       "   5.193340478775104e-122,\n",
       "   5.193340478775111e-122]},\n",
       " {'interation': 7,\n",
       "  'entropy': np.float64(0.771),\n",
       "  'u_calculated': [8.091235598748534e-243,\n",
       "   1.7714795441966e-167,\n",
       "   0.00749710214854136,\n",
       "   1.325082611165351e-19,\n",
       "   6.872590379933442e-29,\n",
       "   2.30251188030766e-40,\n",
       "   1.6748368386373402e-54,\n",
       "   4.31094816204607e-72,\n",
       "   1.688767185099403e-94,\n",
       "   2.4969455714559087e-124,\n",
       "   1.7714795441965435e-167,\n",
       "   8.091235598748417e-243,\n",
       "   0.49250289788929813,\n",
       "   0.4925028978889768,\n",
       "   2.4969455714564407e-124,\n",
       "   0.007497102148558344,\n",
       "   4.3109481620454806e-72,\n",
       "   2.4969455714563735e-124,\n",
       "   8.091235598748134e-243,\n",
       "   1.6887671850989544e-94,\n",
       "   1.7714795441964867e-167,\n",
       "   8.091235598748274e-243,\n",
       "   8.091235598748325e-243,\n",
       "   8.091235598748487e-243,\n",
       "   8.091235598748499e-243,\n",
       "   8.091235598748522e-243]},\n",
       " {'interation': 8,\n",
       "  'entropy': np.float64(0.6962),\n",
       "  'u_calculated': [0.0,\n",
       "   0.0,\n",
       "   0.0001677768495367266,\n",
       "   5.267531785099443e-38,\n",
       "   1.4169749560269086e-56,\n",
       "   1.5904682878072784e-79,\n",
       "   8.415235308804455e-108,\n",
       "   5.575282217174751e-143,\n",
       "   8.555803817050574e-188,\n",
       "   1.8704211561849648e-247,\n",
       "   0.0,\n",
       "   0.0,\n",
       "   0.49983222326377835,\n",
       "   0.4998322232632715,\n",
       "   1.8704211561857613e-247,\n",
       "   0.0001677768495374848,\n",
       "   5.575282217173227e-143,\n",
       "   1.8704211561856612e-247,\n",
       "   0.0,\n",
       "   8.555803817046028e-188,\n",
       "   0.0,\n",
       "   0.0,\n",
       "   0.0,\n",
       "   0.0,\n",
       "   0.0,\n",
       "   0.0]},\n",
       " {'interation': 9,\n",
       "  'entropy': np.float64(0.6931),\n",
       "  'u_calculated': [0.0,\n",
       "   0.0,\n",
       "   8.443776821552352e-08,\n",
       "   8.32406733399215e-75,\n",
       "   6.023454079384426e-112,\n",
       "   7.58876812527785e-158,\n",
       "   2.1244855595568736e-214,\n",
       "   9.325131542452141e-285,\n",
       "   0.0,\n",
       "   0.0,\n",
       "   0.0,\n",
       "   0.0,\n",
       "   0.4999999159017987,\n",
       "   0.4999999159010372,\n",
       "   0.0,\n",
       "   8.443776821628663e-08,\n",
       "   9.325131542447042e-285,\n",
       "   0.0,\n",
       "   0.0,\n",
       "   0.0,\n",
       "   0.0,\n",
       "   0.0,\n",
       "   0.0,\n",
       "   0.0,\n",
       "   0.0,\n",
       "   0.0]}]"
      ]
     },
     "execution_count": 24,
     "metadata": {},
     "output_type": "execute_result"
    }
   ],
   "source": [
    "fin_list"
   ]
  },
  {
   "cell_type": "code",
   "execution_count": null,
   "id": "4130891e-c307-49d9-9ee2-b16adb9cabc5",
   "metadata": {},
   "outputs": [],
   "source": []
  },
  {
   "cell_type": "code",
   "execution_count": null,
   "id": "33e015df-0cd2-47bc-9628-dfd2c1981326",
   "metadata": {},
   "outputs": [],
   "source": []
  },
  {
   "cell_type": "code",
   "execution_count": null,
   "id": "ea13ce73-2f95-434f-b002-6b284375bdbf",
   "metadata": {},
   "outputs": [],
   "source": []
  },
  {
   "cell_type": "code",
   "execution_count": null,
   "id": "aaf7ae66-5776-4df3-a271-e3cb1a3378ad",
   "metadata": {},
   "outputs": [],
   "source": []
  },
  {
   "cell_type": "code",
   "execution_count": null,
   "id": "7b68b8f4-2a35-4fd3-9b6e-dc9e4bdf2eff",
   "metadata": {},
   "outputs": [],
   "source": []
  },
  {
   "cell_type": "code",
   "execution_count": null,
   "id": "58c032e8-d772-42cc-8916-e245a48e5fa5",
   "metadata": {},
   "outputs": [],
   "source": []
  },
  {
   "cell_type": "code",
   "execution_count": 35,
   "id": "5f28f6cf-dab0-4694-9bf6-d74af1d24ebd",
   "metadata": {},
   "outputs": [],
   "source": [
    "# (1-p) and p calculations"
   ]
  },
  {
   "cell_type": "code",
   "execution_count": 36,
   "id": "173a646b-5ae5-4223-8baa-a1687a7ae67d",
   "metadata": {},
   "outputs": [
    {
     "name": "stdout",
     "output_type": "stream",
     "text": [
      "vertex 1 from matrix_1 and 7 from matrix_2_were chosen\n",
      "vertex 8 from matrix_1 and 0 from matrix_2_were chosen\n"
     ]
    }
   ],
   "source": [
    "matrix_1 = (matrix_uniform_attachment(12))\n",
    "matrix_2 = create_line_tree_adjacency_matrix(12)\n",
    "line_simgle = create_line_tree_adjacency_matrix(2)\n",
    "matrix_left, vertex_from_1, vertex_from_2 = merge_trees(line_simgle, matrix_1, random_vertex_selection=True)\n",
    "possible_answer = list(set(range(len(line_simgle))))\n",
    "if possible_answer[vertex_from_1] == 0 :\n",
    "    value_for_2 = 1\n",
    "else:\n",
    "    value_for_2 = 0\n",
    "matrix_total, v1, v2 = merge_trees(matrix_2,matrix_left, random_vertex_selection=False, vertex_from_matrix_1=None, vertex_from_matrix_2=value_for_2)"
   ]
  },
  {
   "cell_type": "code",
   "execution_count": 37,
   "id": "e79f94ce-cf7e-43c9-ade3-f110383d368c",
   "metadata": {},
   "outputs": [
    {
     "data": {
      "application/vnd.jupyter.widget-view+json": {
       "model_id": "b123bd66a73b4192a55d74514b476244",
       "version_major": 2,
       "version_minor": 0
      },
      "text/plain": [
       "Computing:   0%|                                                                                              …"
      ]
     },
     "metadata": {},
     "output_type": "display_data"
    }
   ],
   "source": [
    "fin_list = main_entropy_for_each_interation(10, matrix_total)"
   ]
  },
  {
   "cell_type": "code",
   "execution_count": 38,
   "id": "54db01a5-7fd4-435e-8198-2fed100a20e4",
   "metadata": {},
   "outputs": [],
   "source": [
    "vertex, adj_matrix, cuts_done = find_barycenter_deterministic(matrix_total)"
   ]
  },
  {
   "cell_type": "code",
   "execution_count": 39,
   "id": "afd2ee16-2730-4ea7-aafb-4311990001a7",
   "metadata": {},
   "outputs": [
    {
     "name": "stdout",
     "output_type": "stream",
     "text": [
      "Interations taken for prob method is 10\n",
      "Interations taken for deterministicc method is 8\n"
     ]
    }
   ],
   "source": [
    "print(f\"Interations taken for prob method is {len(fin_list)}\")\n",
    "print(f\"Interations taken for deterministicc method is {cuts_done}\")\n"
   ]
  },
  {
   "cell_type": "code",
   "execution_count": null,
   "id": "a13c35ab-21d9-4b1d-a994-251846446438",
   "metadata": {},
   "outputs": [],
   "source": []
  },
  {
   "cell_type": "code",
   "execution_count": null,
   "id": "7ab5c64f-47f5-4049-8b5a-cdcc81f43b33",
   "metadata": {},
   "outputs": [],
   "source": []
  },
  {
   "cell_type": "code",
   "execution_count": 6,
   "id": "93004b33-e85c-4878-ba7f-42da62ad1a33",
   "metadata": {},
   "outputs": [],
   "source": [
    "def p_and_1_minus_p(nodes, p):#p represents the number of vertex,weigth in TOTAL\n",
    "    nodes_in_p = round(p * nodes)\n",
    "    matrix_1 = (matrix_uniform_attachment(nodes_in_p))\n",
    "    print(f\"matrix size one is {nodes_in_p}\")\n",
    "    matrix_2 = create_line_tree_adjacency_matrix(nodes-nodes_in_p)\n",
    "    print(f\"matrix size 2 is {nodes - nodes_in_p}\")\n",
    "    line_simgle = create_line_tree_adjacency_matrix(2)\n",
    "    matrix_left, vertex_from_1, vertex_from_2 = merge_trees(line_simgle, matrix_1, random_vertex_selection=True)\n",
    "    possible_answer = list(set(range(len(line_simgle))))\n",
    "    if possible_answer[vertex_from_1] == 0 :\n",
    "        value_for_2 = 1\n",
    "    else:\n",
    "        value_for_2 = 0\n",
    "    matrix_total, v1, v2 = merge_trees(matrix_2,matrix_left, random_vertex_selection=False, vertex_from_matrix_1=None, vertex_from_matrix_2=value_for_2)\n",
    "    fin_list = main_entropy_for_each_interation(15, matrix_total, lower_barrier=0.70)\n",
    "    vertex, adj_matrix, cuts_done = find_barycenter_deterministic(matrix_total)\n",
    "    print(f\"Interations taken for prob method is {len(fin_list)}\")\n",
    "    print(f\"Interations taken for deterministicc method is {cuts_done}\")\n",
    "    return fin_list"
   ]
  },
  {
   "cell_type": "code",
   "execution_count": 80,
   "id": "71ffcdca-0389-4f13-b042-f8fa06e3c6fb",
   "metadata": {},
   "outputs": [
    {
     "name": "stdout",
     "output_type": "stream",
     "text": [
      "matrix size one is 27\n",
      "matrix size 2 is 7\n",
      "vertex 1 from matrix_1 and 15 from matrix_2_were chosen\n",
      "vertex 4 from matrix_1 and 0 from matrix_2_were chosen\n"
     ]
    },
    {
     "data": {
      "application/vnd.jupyter.widget-view+json": {
       "model_id": "ac64188443d5485b9adfb0d6042b9cf5",
       "version_major": 2,
       "version_minor": 0
      },
      "text/plain": [
       "Computing:   0%|                                                                                              …"
      ]
     },
     "metadata": {},
     "output_type": "display_data"
    },
    {
     "name": "stdout",
     "output_type": "stream",
     "text": [
      "Interations taken for prob method is 3\n",
      "Interations taken for deterministicc method is 6\n"
     ]
    }
   ],
   "source": [
    "list_r = p_and_1_minus_p(34, 0.8)"
   ]
  },
  {
   "cell_type": "code",
   "execution_count": 84,
   "id": "bf98a84f-bbe3-4a3c-a073-7d7b86a65641",
   "metadata": {},
   "outputs": [],
   "source": [
    "top_2 = heapq.nlargest(2, (list_r[-1:][0]['u_calculated']))"
   ]
  },
  {
   "cell_type": "code",
   "execution_count": 87,
   "id": "b81628f1-562a-498d-804a-818e5068d7cb",
   "metadata": {},
   "outputs": [
    {
     "data": {
      "text/plain": [
       "[0.89840219965324, 0.0734489252500889]"
      ]
     },
     "execution_count": 87,
     "metadata": {},
     "output_type": "execute_result"
    }
   ],
   "source": [
    "top_2"
   ]
  },
  {
   "cell_type": "code",
   "execution_count": 31,
   "id": "7e9bae70-b9ee-4572-a90c-7d16d696109d",
   "metadata": {
    "scrolled": true
   },
   "outputs": [
    {
     "name": "stdout",
     "output_type": "stream",
     "text": [
      "matrix size one is 5\n",
      "matrix size 2 is 5\n",
      "vertex 0 from matrix_1 and 0 from matrix_2_were chosen\n",
      "vertex 2 from matrix_1 and 1 from matrix_2_were chosen\n"
     ]
    },
    {
     "data": {
      "application/vnd.jupyter.widget-view+json": {
       "model_id": "68913d5394654fedaca43cd9c4680ccc",
       "version_major": 2,
       "version_minor": 0
      },
      "text/plain": [
       "Computing:   0%|                                         | 0/15 [00:00<?, ?it/s]"
      ]
     },
     "metadata": {},
     "output_type": "display_data"
    },
    {
     "name": "stdout",
     "output_type": "stream",
     "text": [
      "Interations taken for prob method is 7\n",
      "Interations taken for deterministicc method is 4\n",
      "matrix size one is 5\n",
      "matrix size 2 is 5\n",
      "vertex 0 from matrix_1 and 0 from matrix_2_were chosen\n",
      "vertex 0 from matrix_1 and 1 from matrix_2_were chosen\n"
     ]
    },
    {
     "data": {
      "application/vnd.jupyter.widget-view+json": {
       "model_id": "575f7fd8ba364f44b397960bc5a1638a",
       "version_major": 2,
       "version_minor": 0
      },
      "text/plain": [
       "Computing:   0%|                                         | 0/15 [00:00<?, ?it/s]"
      ]
     },
     "metadata": {},
     "output_type": "display_data"
    },
    {
     "name": "stdout",
     "output_type": "stream",
     "text": [
      "Interations taken for prob method is 7\n",
      "Interations taken for deterministicc method is 5\n",
      "matrix size one is 5\n",
      "matrix size 2 is 5\n",
      "vertex 1 from matrix_1 and 0 from matrix_2_were chosen\n",
      "vertex 4 from matrix_1 and 0 from matrix_2_were chosen\n"
     ]
    },
    {
     "data": {
      "application/vnd.jupyter.widget-view+json": {
       "model_id": "7c01b667432f4b24931db1fd531b8a7d",
       "version_major": 2,
       "version_minor": 0
      },
      "text/plain": [
       "Computing:   0%|                                         | 0/15 [00:00<?, ?it/s]"
      ]
     },
     "metadata": {},
     "output_type": "display_data"
    },
    {
     "name": "stdout",
     "output_type": "stream",
     "text": [
      "Interations taken for prob method is 7\n",
      "Interations taken for deterministicc method is 4\n",
      "matrix size one is 5\n",
      "matrix size 2 is 5\n",
      "vertex 0 from matrix_1 and 2 from matrix_2_were chosen\n",
      "vertex 3 from matrix_1 and 1 from matrix_2_were chosen\n"
     ]
    },
    {
     "data": {
      "application/vnd.jupyter.widget-view+json": {
       "model_id": "86e78c5847ce4aa883c45036914c7f59",
       "version_major": 2,
       "version_minor": 0
      },
      "text/plain": [
       "Computing:   0%|                                         | 0/15 [00:00<?, ?it/s]"
      ]
     },
     "metadata": {},
     "output_type": "display_data"
    },
    {
     "name": "stdout",
     "output_type": "stream",
     "text": [
      "Interations taken for prob method is 7\n",
      "Interations taken for deterministicc method is 4\n",
      "matrix size one is 5\n",
      "matrix size 2 is 5\n",
      "vertex 1 from matrix_1 and 3 from matrix_2_were chosen\n",
      "vertex 0 from matrix_1 and 0 from matrix_2_were chosen\n"
     ]
    },
    {
     "data": {
      "application/vnd.jupyter.widget-view+json": {
       "model_id": "1a2384241dad4f5e801677bd86fb828f",
       "version_major": 2,
       "version_minor": 0
      },
      "text/plain": [
       "Computing:   0%|                                         | 0/15 [00:00<?, ?it/s]"
      ]
     },
     "metadata": {},
     "output_type": "display_data"
    },
    {
     "name": "stdout",
     "output_type": "stream",
     "text": [
      "Interations taken for prob method is 7\n",
      "Interations taken for deterministicc method is 5\n",
      "matrix size one is 5\n",
      "matrix size 2 is 5\n",
      "vertex 1 from matrix_1 and 0 from matrix_2_were chosen\n",
      "vertex 1 from matrix_1 and 0 from matrix_2_were chosen\n"
     ]
    },
    {
     "data": {
      "application/vnd.jupyter.widget-view+json": {
       "model_id": "98761579fec6401a9b21a216b04fb960",
       "version_major": 2,
       "version_minor": 0
      },
      "text/plain": [
       "Computing:   0%|                                         | 0/15 [00:00<?, ?it/s]"
      ]
     },
     "metadata": {},
     "output_type": "display_data"
    },
    {
     "name": "stdout",
     "output_type": "stream",
     "text": [
      "Interations taken for prob method is 7\n",
      "Interations taken for deterministicc method is 5\n",
      "matrix size one is 5\n",
      "matrix size 2 is 5\n",
      "vertex 0 from matrix_1 and 2 from matrix_2_were chosen\n",
      "vertex 0 from matrix_1 and 1 from matrix_2_were chosen\n"
     ]
    },
    {
     "data": {
      "application/vnd.jupyter.widget-view+json": {
       "model_id": "6306645b17ff4431824214d9873bc318",
       "version_major": 2,
       "version_minor": 0
      },
      "text/plain": [
       "Computing:   0%|                                         | 0/15 [00:00<?, ?it/s]"
      ]
     },
     "metadata": {},
     "output_type": "display_data"
    },
    {
     "name": "stdout",
     "output_type": "stream",
     "text": [
      "Interations taken for prob method is 7\n",
      "Interations taken for deterministicc method is 5\n",
      "matrix size one is 5\n",
      "matrix size 2 is 5\n",
      "vertex 0 from matrix_1 and 0 from matrix_2_were chosen\n",
      "vertex 2 from matrix_1 and 1 from matrix_2_were chosen\n"
     ]
    },
    {
     "data": {
      "application/vnd.jupyter.widget-view+json": {
       "model_id": "4fcbdcd2716d49c3ba6ca91a91d41d6b",
       "version_major": 2,
       "version_minor": 0
      },
      "text/plain": [
       "Computing:   0%|                                         | 0/15 [00:00<?, ?it/s]"
      ]
     },
     "metadata": {},
     "output_type": "display_data"
    },
    {
     "name": "stdout",
     "output_type": "stream",
     "text": [
      "Interations taken for prob method is 7\n",
      "Interations taken for deterministicc method is 4\n",
      "matrix size one is 5\n",
      "matrix size 2 is 5\n",
      "vertex 0 from matrix_1 and 2 from matrix_2_were chosen\n",
      "vertex 4 from matrix_1 and 1 from matrix_2_were chosen\n"
     ]
    },
    {
     "data": {
      "application/vnd.jupyter.widget-view+json": {
       "model_id": "cdd6edbabea14b979fd342352e990dfd",
       "version_major": 2,
       "version_minor": 0
      },
      "text/plain": [
       "Computing:   0%|                                         | 0/15 [00:00<?, ?it/s]"
      ]
     },
     "metadata": {},
     "output_type": "display_data"
    },
    {
     "name": "stdout",
     "output_type": "stream",
     "text": [
      "Interations taken for prob method is 7\n",
      "Interations taken for deterministicc method is 5\n",
      "matrix size one is 5\n",
      "matrix size 2 is 5\n",
      "vertex 1 from matrix_1 and 4 from matrix_2_were chosen\n",
      "vertex 0 from matrix_1 and 0 from matrix_2_were chosen\n"
     ]
    },
    {
     "data": {
      "application/vnd.jupyter.widget-view+json": {
       "model_id": "efe328b570df425c8788e0f9257fb993",
       "version_major": 2,
       "version_minor": 0
      },
      "text/plain": [
       "Computing:   0%|                                         | 0/15 [00:00<?, ?it/s]"
      ]
     },
     "metadata": {},
     "output_type": "display_data"
    },
    {
     "name": "stdout",
     "output_type": "stream",
     "text": [
      "Interations taken for prob method is 7\n",
      "Interations taken for deterministicc method is 5\n",
      "matrix size one is 5\n",
      "matrix size 2 is 5\n",
      "vertex 1 from matrix_1 and 0 from matrix_2_were chosen\n",
      "vertex 2 from matrix_1 and 0 from matrix_2_were chosen\n"
     ]
    },
    {
     "data": {
      "application/vnd.jupyter.widget-view+json": {
       "model_id": "d7b4e8569beb4d86967aa9cce256e247",
       "version_major": 2,
       "version_minor": 0
      },
      "text/plain": [
       "Computing:   0%|                                         | 0/15 [00:00<?, ?it/s]"
      ]
     },
     "metadata": {},
     "output_type": "display_data"
    },
    {
     "name": "stdout",
     "output_type": "stream",
     "text": [
      "Interations taken for prob method is 7\n",
      "Interations taken for deterministicc method is 4\n",
      "matrix size one is 5\n",
      "matrix size 2 is 5\n",
      "vertex 0 from matrix_1 and 2 from matrix_2_were chosen\n",
      "vertex 2 from matrix_1 and 1 from matrix_2_were chosen\n"
     ]
    },
    {
     "data": {
      "application/vnd.jupyter.widget-view+json": {
       "model_id": "47f704229363402b911d890e90c8b945",
       "version_major": 2,
       "version_minor": 0
      },
      "text/plain": [
       "Computing:   0%|                                         | 0/15 [00:00<?, ?it/s]"
      ]
     },
     "metadata": {},
     "output_type": "display_data"
    },
    {
     "name": "stdout",
     "output_type": "stream",
     "text": [
      "Interations taken for prob method is 7\n",
      "Interations taken for deterministicc method is 4\n",
      "matrix size one is 5\n",
      "matrix size 2 is 5\n",
      "vertex 0 from matrix_1 and 3 from matrix_2_were chosen\n",
      "vertex 4 from matrix_1 and 1 from matrix_2_were chosen\n"
     ]
    },
    {
     "data": {
      "application/vnd.jupyter.widget-view+json": {
       "model_id": "51c4a662b190436d9196485808780560",
       "version_major": 2,
       "version_minor": 0
      },
      "text/plain": [
       "Computing:   0%|                                         | 0/15 [00:00<?, ?it/s]"
      ]
     },
     "metadata": {},
     "output_type": "display_data"
    },
    {
     "name": "stdout",
     "output_type": "stream",
     "text": [
      "Interations taken for prob method is 7\n",
      "Interations taken for deterministicc method is 5\n",
      "matrix size one is 5\n",
      "matrix size 2 is 5\n",
      "vertex 1 from matrix_1 and 3 from matrix_2_were chosen\n",
      "vertex 0 from matrix_1 and 0 from matrix_2_were chosen\n"
     ]
    },
    {
     "data": {
      "application/vnd.jupyter.widget-view+json": {
       "model_id": "d156fe0b205c414bb9fa3f60e32c9ee3",
       "version_major": 2,
       "version_minor": 0
      },
      "text/plain": [
       "Computing:   0%|                                         | 0/15 [00:00<?, ?it/s]"
      ]
     },
     "metadata": {},
     "output_type": "display_data"
    },
    {
     "name": "stdout",
     "output_type": "stream",
     "text": [
      "Interations taken for prob method is 7\n",
      "Interations taken for deterministicc method is 5\n",
      "matrix size one is 5\n",
      "matrix size 2 is 5\n",
      "vertex 0 from matrix_1 and 0 from matrix_2_were chosen\n",
      "vertex 1 from matrix_1 and 1 from matrix_2_were chosen\n"
     ]
    },
    {
     "data": {
      "application/vnd.jupyter.widget-view+json": {
       "model_id": "982cead98d054344887d8470f3937014",
       "version_major": 2,
       "version_minor": 0
      },
      "text/plain": [
       "Computing:   0%|                                         | 0/15 [00:00<?, ?it/s]"
      ]
     },
     "metadata": {},
     "output_type": "display_data"
    },
    {
     "name": "stdout",
     "output_type": "stream",
     "text": [
      "Interations taken for prob method is 7\n",
      "Interations taken for deterministicc method is 5\n",
      "matrix size one is 5\n",
      "matrix size 2 is 5\n",
      "vertex 0 from matrix_1 and 4 from matrix_2_were chosen\n",
      "vertex 4 from matrix_1 and 1 from matrix_2_were chosen\n"
     ]
    },
    {
     "data": {
      "application/vnd.jupyter.widget-view+json": {
       "model_id": "2281a5a99cc24865a968be99b9643bc8",
       "version_major": 2,
       "version_minor": 0
      },
      "text/plain": [
       "Computing:   0%|                                         | 0/15 [00:00<?, ?it/s]"
      ]
     },
     "metadata": {},
     "output_type": "display_data"
    },
    {
     "name": "stdout",
     "output_type": "stream",
     "text": [
      "Interations taken for prob method is 7\n",
      "Interations taken for deterministicc method is 4\n",
      "matrix size one is 5\n",
      "matrix size 2 is 5\n",
      "vertex 1 from matrix_1 and 2 from matrix_2_were chosen\n",
      "vertex 0 from matrix_1 and 0 from matrix_2_were chosen\n"
     ]
    },
    {
     "data": {
      "application/vnd.jupyter.widget-view+json": {
       "model_id": "d3a69ba14a944217a32d7a18bf2aedb6",
       "version_major": 2,
       "version_minor": 0
      },
      "text/plain": [
       "Computing:   0%|                                         | 0/15 [00:00<?, ?it/s]"
      ]
     },
     "metadata": {},
     "output_type": "display_data"
    },
    {
     "name": "stdout",
     "output_type": "stream",
     "text": [
      "Interations taken for prob method is 7\n",
      "Interations taken for deterministicc method is 4\n",
      "matrix size one is 5\n",
      "matrix size 2 is 5\n",
      "vertex 1 from matrix_1 and 1 from matrix_2_were chosen\n",
      "vertex 2 from matrix_1 and 0 from matrix_2_were chosen\n"
     ]
    },
    {
     "data": {
      "application/vnd.jupyter.widget-view+json": {
       "model_id": "96ded4fbc33d42dcb6f3c9b4011d6129",
       "version_major": 2,
       "version_minor": 0
      },
      "text/plain": [
       "Computing:   0%|                                         | 0/15 [00:00<?, ?it/s]"
      ]
     },
     "metadata": {},
     "output_type": "display_data"
    },
    {
     "name": "stdout",
     "output_type": "stream",
     "text": [
      "Interations taken for prob method is 7\n",
      "Interations taken for deterministicc method is 4\n",
      "matrix size one is 5\n",
      "matrix size 2 is 5\n",
      "vertex 1 from matrix_1 and 0 from matrix_2_were chosen\n",
      "vertex 4 from matrix_1 and 0 from matrix_2_were chosen\n"
     ]
    },
    {
     "data": {
      "application/vnd.jupyter.widget-view+json": {
       "model_id": "225bcb91b61642b4ae58f2aa54d6bce6",
       "version_major": 2,
       "version_minor": 0
      },
      "text/plain": [
       "Computing:   0%|                                         | 0/15 [00:00<?, ?it/s]"
      ]
     },
     "metadata": {},
     "output_type": "display_data"
    },
    {
     "name": "stdout",
     "output_type": "stream",
     "text": [
      "Interations taken for prob method is 7\n",
      "Interations taken for deterministicc method is 4\n",
      "matrix size one is 5\n",
      "matrix size 2 is 5\n",
      "vertex 1 from matrix_1 and 2 from matrix_2_were chosen\n",
      "vertex 4 from matrix_1 and 0 from matrix_2_were chosen\n"
     ]
    },
    {
     "data": {
      "application/vnd.jupyter.widget-view+json": {
       "model_id": "4723d80bcd424dbbbe6492528ea8ab69",
       "version_major": 2,
       "version_minor": 0
      },
      "text/plain": [
       "Computing:   0%|                                         | 0/15 [00:00<?, ?it/s]"
      ]
     },
     "metadata": {},
     "output_type": "display_data"
    },
    {
     "name": "stdout",
     "output_type": "stream",
     "text": [
      "Interations taken for prob method is 7\n",
      "Interations taken for deterministicc method is 5\n",
      "matrix size one is 10\n",
      "matrix size 2 is 10\n",
      "vertex 1 from matrix_1 and 9 from matrix_2_were chosen\n",
      "vertex 8 from matrix_1 and 0 from matrix_2_were chosen\n"
     ]
    },
    {
     "data": {
      "application/vnd.jupyter.widget-view+json": {
       "model_id": "0da851924bf9455fb70105a7a03b6887",
       "version_major": 2,
       "version_minor": 0
      },
      "text/plain": [
       "Computing:   0%|                                         | 0/15 [00:00<?, ?it/s]"
      ]
     },
     "metadata": {},
     "output_type": "display_data"
    },
    {
     "name": "stdout",
     "output_type": "stream",
     "text": [
      "Interations taken for prob method is 9\n",
      "Interations taken for deterministicc method is 8\n",
      "matrix size one is 10\n",
      "matrix size 2 is 10\n",
      "vertex 0 from matrix_1 and 3 from matrix_2_were chosen\n",
      "vertex 9 from matrix_1 and 1 from matrix_2_were chosen\n"
     ]
    },
    {
     "data": {
      "application/vnd.jupyter.widget-view+json": {
       "model_id": "92145841cec546cd89721ee223b9a37f",
       "version_major": 2,
       "version_minor": 0
      },
      "text/plain": [
       "Computing:   0%|                                         | 0/15 [00:00<?, ?it/s]"
      ]
     },
     "metadata": {},
     "output_type": "display_data"
    },
    {
     "name": "stdout",
     "output_type": "stream",
     "text": [
      "Interations taken for prob method is 9\n",
      "Interations taken for deterministicc method is 8\n",
      "matrix size one is 10\n",
      "matrix size 2 is 10\n",
      "vertex 1 from matrix_1 and 4 from matrix_2_were chosen\n",
      "vertex 4 from matrix_1 and 0 from matrix_2_were chosen\n"
     ]
    },
    {
     "data": {
      "application/vnd.jupyter.widget-view+json": {
       "model_id": "c7d10eb9659d405eb5f1378ea6a91c39",
       "version_major": 2,
       "version_minor": 0
      },
      "text/plain": [
       "Computing:   0%|                                         | 0/15 [00:00<?, ?it/s]"
      ]
     },
     "metadata": {},
     "output_type": "display_data"
    },
    {
     "name": "stdout",
     "output_type": "stream",
     "text": [
      "Interations taken for prob method is 9\n",
      "Interations taken for deterministicc method is 6\n",
      "matrix size one is 10\n",
      "matrix size 2 is 10\n",
      "vertex 1 from matrix_1 and 7 from matrix_2_were chosen\n",
      "vertex 9 from matrix_1 and 0 from matrix_2_were chosen\n"
     ]
    },
    {
     "data": {
      "application/vnd.jupyter.widget-view+json": {
       "model_id": "10399ee135bf48d5a439b6bfb6e672f9",
       "version_major": 2,
       "version_minor": 0
      },
      "text/plain": [
       "Computing:   0%|                                         | 0/15 [00:00<?, ?it/s]"
      ]
     },
     "metadata": {},
     "output_type": "display_data"
    },
    {
     "name": "stdout",
     "output_type": "stream",
     "text": [
      "Interations taken for prob method is 9\n",
      "Interations taken for deterministicc method is 9\n",
      "matrix size one is 10\n",
      "matrix size 2 is 10\n",
      "vertex 1 from matrix_1 and 8 from matrix_2_were chosen\n",
      "vertex 3 from matrix_1 and 0 from matrix_2_were chosen\n"
     ]
    },
    {
     "data": {
      "application/vnd.jupyter.widget-view+json": {
       "model_id": "9764aa78431240cd8032a49fe43f3a98",
       "version_major": 2,
       "version_minor": 0
      },
      "text/plain": [
       "Computing:   0%|                                         | 0/15 [00:00<?, ?it/s]"
      ]
     },
     "metadata": {},
     "output_type": "display_data"
    },
    {
     "name": "stdout",
     "output_type": "stream",
     "text": [
      "Interations taken for prob method is 9\n",
      "Interations taken for deterministicc method is 8\n",
      "matrix size one is 10\n",
      "matrix size 2 is 10\n",
      "vertex 0 from matrix_1 and 3 from matrix_2_were chosen\n",
      "vertex 7 from matrix_1 and 1 from matrix_2_were chosen\n"
     ]
    },
    {
     "data": {
      "application/vnd.jupyter.widget-view+json": {
       "model_id": "b3641ff0dd4043ff8e89849d8aba093e",
       "version_major": 2,
       "version_minor": 0
      },
      "text/plain": [
       "Computing:   0%|                                         | 0/15 [00:00<?, ?it/s]"
      ]
     },
     "metadata": {},
     "output_type": "display_data"
    },
    {
     "name": "stdout",
     "output_type": "stream",
     "text": [
      "Interations taken for prob method is 9\n",
      "Interations taken for deterministicc method is 6\n",
      "matrix size one is 10\n",
      "matrix size 2 is 10\n",
      "vertex 1 from matrix_1 and 9 from matrix_2_were chosen\n",
      "vertex 8 from matrix_1 and 0 from matrix_2_were chosen\n"
     ]
    },
    {
     "data": {
      "application/vnd.jupyter.widget-view+json": {
       "model_id": "a8a516d10ddf465898bff1e9c69e3f21",
       "version_major": 2,
       "version_minor": 0
      },
      "text/plain": [
       "Computing:   0%|                                         | 0/15 [00:00<?, ?it/s]"
      ]
     },
     "metadata": {},
     "output_type": "display_data"
    },
    {
     "name": "stdout",
     "output_type": "stream",
     "text": [
      "Interations taken for prob method is 9\n",
      "Interations taken for deterministicc method is 8\n",
      "matrix size one is 10\n",
      "matrix size 2 is 10\n",
      "vertex 0 from matrix_1 and 3 from matrix_2_were chosen\n",
      "vertex 6 from matrix_1 and 1 from matrix_2_were chosen\n"
     ]
    },
    {
     "data": {
      "application/vnd.jupyter.widget-view+json": {
       "model_id": "bf5c0f639a094c59b3a3d931fb62088e",
       "version_major": 2,
       "version_minor": 0
      },
      "text/plain": [
       "Computing:   0%|                                         | 0/15 [00:00<?, ?it/s]"
      ]
     },
     "metadata": {},
     "output_type": "display_data"
    },
    {
     "name": "stdout",
     "output_type": "stream",
     "text": [
      "Interations taken for prob method is 9\n",
      "Interations taken for deterministicc method is 7\n",
      "matrix size one is 10\n",
      "matrix size 2 is 10\n",
      "vertex 0 from matrix_1 and 0 from matrix_2_were chosen\n",
      "vertex 2 from matrix_1 and 1 from matrix_2_were chosen\n"
     ]
    },
    {
     "data": {
      "application/vnd.jupyter.widget-view+json": {
       "model_id": "e8445b5bb9334d57ada80fc17818c106",
       "version_major": 2,
       "version_minor": 0
      },
      "text/plain": [
       "Computing:   0%|                                         | 0/15 [00:00<?, ?it/s]"
      ]
     },
     "metadata": {},
     "output_type": "display_data"
    },
    {
     "name": "stdout",
     "output_type": "stream",
     "text": [
      "Interations taken for prob method is 9\n",
      "Interations taken for deterministicc method is 6\n",
      "matrix size one is 10\n",
      "matrix size 2 is 10\n",
      "vertex 0 from matrix_1 and 8 from matrix_2_were chosen\n",
      "vertex 5 from matrix_1 and 1 from matrix_2_were chosen\n"
     ]
    },
    {
     "data": {
      "application/vnd.jupyter.widget-view+json": {
       "model_id": "d149b362bf1846a1818b3fa02e3f625a",
       "version_major": 2,
       "version_minor": 0
      },
      "text/plain": [
       "Computing:   0%|                                         | 0/15 [00:00<?, ?it/s]"
      ]
     },
     "metadata": {},
     "output_type": "display_data"
    },
    {
     "name": "stdout",
     "output_type": "stream",
     "text": [
      "Interations taken for prob method is 9\n",
      "Interations taken for deterministicc method is 7\n",
      "matrix size one is 10\n",
      "matrix size 2 is 10\n",
      "vertex 1 from matrix_1 and 0 from matrix_2_were chosen\n",
      "vertex 9 from matrix_1 and 0 from matrix_2_were chosen\n"
     ]
    },
    {
     "data": {
      "application/vnd.jupyter.widget-view+json": {
       "model_id": "3a442f9bd88b43c8a59dd4319694d2ac",
       "version_major": 2,
       "version_minor": 0
      },
      "text/plain": [
       "Computing:   0%|                                         | 0/15 [00:00<?, ?it/s]"
      ]
     },
     "metadata": {},
     "output_type": "display_data"
    },
    {
     "name": "stdout",
     "output_type": "stream",
     "text": [
      "Interations taken for prob method is 9\n",
      "Interations taken for deterministicc method is 7\n",
      "matrix size one is 10\n",
      "matrix size 2 is 10\n",
      "vertex 0 from matrix_1 and 7 from matrix_2_were chosen\n",
      "vertex 8 from matrix_1 and 1 from matrix_2_were chosen\n"
     ]
    },
    {
     "data": {
      "application/vnd.jupyter.widget-view+json": {
       "model_id": "3c00454b0248428ca98f69f31442cfd3",
       "version_major": 2,
       "version_minor": 0
      },
      "text/plain": [
       "Computing:   0%|                                         | 0/15 [00:00<?, ?it/s]"
      ]
     },
     "metadata": {},
     "output_type": "display_data"
    },
    {
     "name": "stdout",
     "output_type": "stream",
     "text": [
      "Interations taken for prob method is 9\n",
      "Interations taken for deterministicc method is 7\n",
      "matrix size one is 10\n",
      "matrix size 2 is 10\n",
      "vertex 1 from matrix_1 and 5 from matrix_2_were chosen\n",
      "vertex 3 from matrix_1 and 0 from matrix_2_were chosen\n"
     ]
    },
    {
     "data": {
      "application/vnd.jupyter.widget-view+json": {
       "model_id": "e9bd7f4561f644d0b2103b59a83a29dd",
       "version_major": 2,
       "version_minor": 0
      },
      "text/plain": [
       "Computing:   0%|                                         | 0/15 [00:00<?, ?it/s]"
      ]
     },
     "metadata": {},
     "output_type": "display_data"
    },
    {
     "name": "stdout",
     "output_type": "stream",
     "text": [
      "Interations taken for prob method is 9\n",
      "Interations taken for deterministicc method is 6\n",
      "matrix size one is 10\n",
      "matrix size 2 is 10\n",
      "vertex 1 from matrix_1 and 2 from matrix_2_were chosen\n",
      "vertex 4 from matrix_1 and 0 from matrix_2_were chosen\n"
     ]
    },
    {
     "data": {
      "application/vnd.jupyter.widget-view+json": {
       "model_id": "6e5f98afeb2b4f18882008c9a6a9e296",
       "version_major": 2,
       "version_minor": 0
      },
      "text/plain": [
       "Computing:   0%|                                         | 0/15 [00:00<?, ?it/s]"
      ]
     },
     "metadata": {},
     "output_type": "display_data"
    },
    {
     "name": "stdout",
     "output_type": "stream",
     "text": [
      "Interations taken for prob method is 9\n",
      "Interations taken for deterministicc method is 6\n",
      "matrix size one is 10\n",
      "matrix size 2 is 10\n",
      "vertex 0 from matrix_1 and 2 from matrix_2_were chosen\n",
      "vertex 8 from matrix_1 and 1 from matrix_2_were chosen\n"
     ]
    },
    {
     "data": {
      "application/vnd.jupyter.widget-view+json": {
       "model_id": "47ada9883d9c4fe0b5fc58aadc473d42",
       "version_major": 2,
       "version_minor": 0
      },
      "text/plain": [
       "Computing:   0%|                                         | 0/15 [00:00<?, ?it/s]"
      ]
     },
     "metadata": {},
     "output_type": "display_data"
    },
    {
     "name": "stdout",
     "output_type": "stream",
     "text": [
      "Interations taken for prob method is 9\n",
      "Interations taken for deterministicc method is 7\n",
      "matrix size one is 10\n",
      "matrix size 2 is 10\n",
      "vertex 1 from matrix_1 and 9 from matrix_2_were chosen\n",
      "vertex 9 from matrix_1 and 0 from matrix_2_were chosen\n"
     ]
    },
    {
     "data": {
      "application/vnd.jupyter.widget-view+json": {
       "model_id": "c2bbb9b8b2b549f0b92c4ff0f4df124a",
       "version_major": 2,
       "version_minor": 0
      },
      "text/plain": [
       "Computing:   0%|                                         | 0/15 [00:00<?, ?it/s]"
      ]
     },
     "metadata": {},
     "output_type": "display_data"
    },
    {
     "name": "stdout",
     "output_type": "stream",
     "text": [
      "Interations taken for prob method is 9\n",
      "Interations taken for deterministicc method is 9\n",
      "matrix size one is 10\n",
      "matrix size 2 is 10\n",
      "vertex 0 from matrix_1 and 2 from matrix_2_were chosen\n",
      "vertex 9 from matrix_1 and 1 from matrix_2_were chosen\n"
     ]
    },
    {
     "data": {
      "application/vnd.jupyter.widget-view+json": {
       "model_id": "9e27eb57f2214931aec2d28d552997b4",
       "version_major": 2,
       "version_minor": 0
      },
      "text/plain": [
       "Computing:   0%|                                         | 0/15 [00:00<?, ?it/s]"
      ]
     },
     "metadata": {},
     "output_type": "display_data"
    },
    {
     "name": "stdout",
     "output_type": "stream",
     "text": [
      "Interations taken for prob method is 9\n",
      "Interations taken for deterministicc method is 8\n",
      "matrix size one is 10\n",
      "matrix size 2 is 10\n",
      "vertex 0 from matrix_1 and 4 from matrix_2_were chosen\n",
      "vertex 7 from matrix_1 and 1 from matrix_2_were chosen\n"
     ]
    },
    {
     "data": {
      "application/vnd.jupyter.widget-view+json": {
       "model_id": "046db468e3194d5b9bca8d155174c016",
       "version_major": 2,
       "version_minor": 0
      },
      "text/plain": [
       "Computing:   0%|                                         | 0/15 [00:00<?, ?it/s]"
      ]
     },
     "metadata": {},
     "output_type": "display_data"
    },
    {
     "name": "stdout",
     "output_type": "stream",
     "text": [
      "Interations taken for prob method is 9\n",
      "Interations taken for deterministicc method is 8\n",
      "matrix size one is 10\n",
      "matrix size 2 is 10\n",
      "vertex 1 from matrix_1 and 9 from matrix_2_were chosen\n",
      "vertex 5 from matrix_1 and 0 from matrix_2_were chosen\n"
     ]
    },
    {
     "data": {
      "application/vnd.jupyter.widget-view+json": {
       "model_id": "cf78af0630c046d28f6684ec0feff5de",
       "version_major": 2,
       "version_minor": 0
      },
      "text/plain": [
       "Computing:   0%|                                         | 0/15 [00:00<?, ?it/s]"
      ]
     },
     "metadata": {},
     "output_type": "display_data"
    },
    {
     "name": "stdout",
     "output_type": "stream",
     "text": [
      "Interations taken for prob method is 9\n",
      "Interations taken for deterministicc method is 7\n",
      "matrix size one is 10\n",
      "matrix size 2 is 10\n",
      "vertex 1 from matrix_1 and 5 from matrix_2_were chosen\n",
      "vertex 5 from matrix_1 and 0 from matrix_2_were chosen\n"
     ]
    },
    {
     "data": {
      "application/vnd.jupyter.widget-view+json": {
       "model_id": "ff0dc79f94f04845b18f421be9afcaf1",
       "version_major": 2,
       "version_minor": 0
      },
      "text/plain": [
       "Computing:   0%|                                         | 0/15 [00:00<?, ?it/s]"
      ]
     },
     "metadata": {},
     "output_type": "display_data"
    },
    {
     "name": "stdout",
     "output_type": "stream",
     "text": [
      "Interations taken for prob method is 9\n",
      "Interations taken for deterministicc method is 5\n",
      "matrix size one is 15\n",
      "matrix size 2 is 15\n",
      "vertex 1 from matrix_1 and 13 from matrix_2_were chosen\n",
      "vertex 2 from matrix_1 and 0 from matrix_2_were chosen\n"
     ]
    },
    {
     "data": {
      "application/vnd.jupyter.widget-view+json": {
       "model_id": "7efa943268a54077a61e55713e4dd65c",
       "version_major": 2,
       "version_minor": 0
      },
      "text/plain": [
       "Computing:   0%|                                         | 0/15 [00:00<?, ?it/s]"
      ]
     },
     "metadata": {},
     "output_type": "display_data"
    },
    {
     "name": "stdout",
     "output_type": "stream",
     "text": [
      "Interations taken for prob method is 10\n",
      "Interations taken for deterministicc method is 10\n",
      "matrix size one is 15\n",
      "matrix size 2 is 15\n",
      "vertex 1 from matrix_1 and 9 from matrix_2_were chosen\n",
      "vertex 5 from matrix_1 and 0 from matrix_2_were chosen\n"
     ]
    },
    {
     "data": {
      "application/vnd.jupyter.widget-view+json": {
       "model_id": "ec51e19dcaed4059a893466c86586973",
       "version_major": 2,
       "version_minor": 0
      },
      "text/plain": [
       "Computing:   0%|                                         | 0/15 [00:00<?, ?it/s]"
      ]
     },
     "metadata": {},
     "output_type": "display_data"
    },
    {
     "name": "stdout",
     "output_type": "stream",
     "text": [
      "Interations taken for prob method is 10\n",
      "Interations taken for deterministicc method is 9\n",
      "matrix size one is 15\n",
      "matrix size 2 is 15\n",
      "vertex 0 from matrix_1 and 14 from matrix_2_were chosen\n",
      "vertex 9 from matrix_1 and 1 from matrix_2_were chosen\n"
     ]
    },
    {
     "data": {
      "application/vnd.jupyter.widget-view+json": {
       "model_id": "cc44621b987b4755a99e9af4b7579a22",
       "version_major": 2,
       "version_minor": 0
      },
      "text/plain": [
       "Computing:   0%|                                         | 0/15 [00:00<?, ?it/s]"
      ]
     },
     "metadata": {},
     "output_type": "display_data"
    },
    {
     "name": "stdout",
     "output_type": "stream",
     "text": [
      "Interations taken for prob method is 10\n",
      "Interations taken for deterministicc method is 9\n",
      "matrix size one is 15\n",
      "matrix size 2 is 15\n",
      "vertex 0 from matrix_1 and 3 from matrix_2_were chosen\n",
      "vertex 7 from matrix_1 and 1 from matrix_2_were chosen\n"
     ]
    },
    {
     "data": {
      "application/vnd.jupyter.widget-view+json": {
       "model_id": "530849a5a165438082d6b52777f18bd1",
       "version_major": 2,
       "version_minor": 0
      },
      "text/plain": [
       "Computing:   0%|                                         | 0/15 [00:00<?, ?it/s]"
      ]
     },
     "metadata": {},
     "output_type": "display_data"
    },
    {
     "name": "stdout",
     "output_type": "stream",
     "text": [
      "Interations taken for prob method is 10\n",
      "Interations taken for deterministicc method is 8\n",
      "matrix size one is 15\n",
      "matrix size 2 is 15\n",
      "vertex 1 from matrix_1 and 14 from matrix_2_were chosen\n",
      "vertex 5 from matrix_1 and 0 from matrix_2_were chosen\n"
     ]
    },
    {
     "data": {
      "application/vnd.jupyter.widget-view+json": {
       "model_id": "e7e444281d9a4684b662dacd846cb9b0",
       "version_major": 2,
       "version_minor": 0
      },
      "text/plain": [
       "Computing:   0%|                                         | 0/15 [00:00<?, ?it/s]"
      ]
     },
     "metadata": {},
     "output_type": "display_data"
    },
    {
     "name": "stdout",
     "output_type": "stream",
     "text": [
      "Interations taken for prob method is 10\n",
      "Interations taken for deterministicc method is 9\n",
      "matrix size one is 15\n",
      "matrix size 2 is 15\n",
      "vertex 0 from matrix_1 and 2 from matrix_2_were chosen\n",
      "vertex 6 from matrix_1 and 1 from matrix_2_were chosen\n"
     ]
    },
    {
     "data": {
      "application/vnd.jupyter.widget-view+json": {
       "model_id": "6b743af427c649a5a9444d90b75e3563",
       "version_major": 2,
       "version_minor": 0
      },
      "text/plain": [
       "Computing:   0%|                                         | 0/15 [00:00<?, ?it/s]"
      ]
     },
     "metadata": {},
     "output_type": "display_data"
    },
    {
     "name": "stdout",
     "output_type": "stream",
     "text": [
      "Interations taken for prob method is 10\n",
      "Interations taken for deterministicc method is 7\n",
      "matrix size one is 15\n",
      "matrix size 2 is 15\n",
      "vertex 0 from matrix_1 and 11 from matrix_2_were chosen\n",
      "vertex 13 from matrix_1 and 1 from matrix_2_were chosen\n"
     ]
    },
    {
     "data": {
      "application/vnd.jupyter.widget-view+json": {
       "model_id": "c3c8b954d99240e188be90c0ea362603",
       "version_major": 2,
       "version_minor": 0
      },
      "text/plain": [
       "Computing:   0%|                                         | 0/15 [00:00<?, ?it/s]"
      ]
     },
     "metadata": {},
     "output_type": "display_data"
    },
    {
     "name": "stdout",
     "output_type": "stream",
     "text": [
      "Interations taken for prob method is 10\n",
      "Interations taken for deterministicc method is 11\n",
      "matrix size one is 15\n",
      "matrix size 2 is 15\n",
      "vertex 1 from matrix_1 and 7 from matrix_2_were chosen\n",
      "vertex 4 from matrix_1 and 0 from matrix_2_were chosen\n"
     ]
    },
    {
     "data": {
      "application/vnd.jupyter.widget-view+json": {
       "model_id": "e4e214f3dde0420292ce5fa8eddcc3f7",
       "version_major": 2,
       "version_minor": 0
      },
      "text/plain": [
       "Computing:   0%|                                         | 0/15 [00:00<?, ?it/s]"
      ]
     },
     "metadata": {},
     "output_type": "display_data"
    },
    {
     "name": "stdout",
     "output_type": "stream",
     "text": [
      "Interations taken for prob method is 10\n",
      "Interations taken for deterministicc method is 9\n",
      "matrix size one is 15\n",
      "matrix size 2 is 15\n",
      "vertex 0 from matrix_1 and 13 from matrix_2_were chosen\n",
      "vertex 12 from matrix_1 and 1 from matrix_2_were chosen\n"
     ]
    },
    {
     "data": {
      "application/vnd.jupyter.widget-view+json": {
       "model_id": "6b5da77a4ea14fbdb05beeaeebf7ae71",
       "version_major": 2,
       "version_minor": 0
      },
      "text/plain": [
       "Computing:   0%|                                         | 0/15 [00:00<?, ?it/s]"
      ]
     },
     "metadata": {},
     "output_type": "display_data"
    },
    {
     "name": "stdout",
     "output_type": "stream",
     "text": [
      "Interations taken for prob method is 10\n",
      "Interations taken for deterministicc method is 10\n",
      "matrix size one is 15\n",
      "matrix size 2 is 15\n",
      "vertex 1 from matrix_1 and 13 from matrix_2_were chosen\n",
      "vertex 14 from matrix_1 and 0 from matrix_2_were chosen\n"
     ]
    },
    {
     "data": {
      "application/vnd.jupyter.widget-view+json": {
       "model_id": "5d1300db432748f8a598ebcfbdc22134",
       "version_major": 2,
       "version_minor": 0
      },
      "text/plain": [
       "Computing:   0%|                                         | 0/15 [00:00<?, ?it/s]"
      ]
     },
     "metadata": {},
     "output_type": "display_data"
    },
    {
     "name": "stdout",
     "output_type": "stream",
     "text": [
      "Interations taken for prob method is 10\n",
      "Interations taken for deterministicc method is 11\n",
      "matrix size one is 15\n",
      "matrix size 2 is 15\n",
      "vertex 0 from matrix_1 and 14 from matrix_2_were chosen\n",
      "vertex 10 from matrix_1 and 1 from matrix_2_were chosen\n"
     ]
    },
    {
     "data": {
      "application/vnd.jupyter.widget-view+json": {
       "model_id": "cf9dde948a784881ba97a95565e868ed",
       "version_major": 2,
       "version_minor": 0
      },
      "text/plain": [
       "Computing:   0%|                                         | 0/15 [00:00<?, ?it/s]"
      ]
     },
     "metadata": {},
     "output_type": "display_data"
    },
    {
     "name": "stdout",
     "output_type": "stream",
     "text": [
      "Interations taken for prob method is 10\n",
      "Interations taken for deterministicc method is 9\n",
      "matrix size one is 15\n",
      "matrix size 2 is 15\n",
      "vertex 0 from matrix_1 and 3 from matrix_2_were chosen\n",
      "vertex 10 from matrix_1 and 1 from matrix_2_were chosen\n"
     ]
    },
    {
     "data": {
      "application/vnd.jupyter.widget-view+json": {
       "model_id": "0c6785eec6094360bcb25424135c9b83",
       "version_major": 2,
       "version_minor": 0
      },
      "text/plain": [
       "Computing:   0%|                                         | 0/15 [00:00<?, ?it/s]"
      ]
     },
     "metadata": {},
     "output_type": "display_data"
    },
    {
     "name": "stdout",
     "output_type": "stream",
     "text": [
      "Interations taken for prob method is 10\n",
      "Interations taken for deterministicc method is 9\n",
      "matrix size one is 15\n",
      "matrix size 2 is 15\n",
      "vertex 0 from matrix_1 and 12 from matrix_2_were chosen\n",
      "vertex 14 from matrix_1 and 1 from matrix_2_were chosen\n"
     ]
    },
    {
     "data": {
      "application/vnd.jupyter.widget-view+json": {
       "model_id": "2820b6a6dfe5481cb27a67105dbab45a",
       "version_major": 2,
       "version_minor": 0
      },
      "text/plain": [
       "Computing:   0%|                                         | 0/15 [00:00<?, ?it/s]"
      ]
     },
     "metadata": {},
     "output_type": "display_data"
    },
    {
     "name": "stdout",
     "output_type": "stream",
     "text": [
      "Interations taken for prob method is 10\n",
      "Interations taken for deterministicc method is 12\n",
      "matrix size one is 15\n",
      "matrix size 2 is 15\n",
      "vertex 0 from matrix_1 and 3 from matrix_2_were chosen\n",
      "vertex 2 from matrix_1 and 1 from matrix_2_were chosen\n"
     ]
    },
    {
     "data": {
      "application/vnd.jupyter.widget-view+json": {
       "model_id": "b75e03ab947d4a599210a294729e3217",
       "version_major": 2,
       "version_minor": 0
      },
      "text/plain": [
       "Computing:   0%|                                         | 0/15 [00:00<?, ?it/s]"
      ]
     },
     "metadata": {},
     "output_type": "display_data"
    },
    {
     "name": "stdout",
     "output_type": "stream",
     "text": [
      "Interations taken for prob method is 10\n",
      "Interations taken for deterministicc method is 9\n",
      "matrix size one is 15\n",
      "matrix size 2 is 15\n",
      "vertex 1 from matrix_1 and 2 from matrix_2_were chosen\n",
      "vertex 6 from matrix_1 and 0 from matrix_2_were chosen\n"
     ]
    },
    {
     "data": {
      "application/vnd.jupyter.widget-view+json": {
       "model_id": "b2112e2e2cd74633a3587e2c45b153c0",
       "version_major": 2,
       "version_minor": 0
      },
      "text/plain": [
       "Computing:   0%|                                         | 0/15 [00:00<?, ?it/s]"
      ]
     },
     "metadata": {},
     "output_type": "display_data"
    },
    {
     "name": "stdout",
     "output_type": "stream",
     "text": [
      "Interations taken for prob method is 10\n",
      "Interations taken for deterministicc method is 7\n",
      "matrix size one is 15\n",
      "matrix size 2 is 15\n",
      "vertex 1 from matrix_1 and 4 from matrix_2_were chosen\n",
      "vertex 13 from matrix_1 and 0 from matrix_2_were chosen\n"
     ]
    },
    {
     "data": {
      "application/vnd.jupyter.widget-view+json": {
       "model_id": "08452415304e4284a425b28806a6424f",
       "version_major": 2,
       "version_minor": 0
      },
      "text/plain": [
       "Computing:   0%|                                         | 0/15 [00:00<?, ?it/s]"
      ]
     },
     "metadata": {},
     "output_type": "display_data"
    },
    {
     "name": "stdout",
     "output_type": "stream",
     "text": [
      "Interations taken for prob method is 10\n",
      "Interations taken for deterministicc method is 10\n",
      "matrix size one is 15\n",
      "matrix size 2 is 15\n",
      "vertex 1 from matrix_1 and 9 from matrix_2_were chosen\n",
      "vertex 13 from matrix_1 and 0 from matrix_2_were chosen\n"
     ]
    },
    {
     "data": {
      "application/vnd.jupyter.widget-view+json": {
       "model_id": "b33f3e70dae04c4495cd6c6d5f7aec8b",
       "version_major": 2,
       "version_minor": 0
      },
      "text/plain": [
       "Computing:   0%|                                         | 0/15 [00:00<?, ?it/s]"
      ]
     },
     "metadata": {},
     "output_type": "display_data"
    },
    {
     "name": "stdout",
     "output_type": "stream",
     "text": [
      "Interations taken for prob method is 10\n",
      "Interations taken for deterministicc method is 11\n",
      "matrix size one is 15\n",
      "matrix size 2 is 15\n",
      "vertex 1 from matrix_1 and 4 from matrix_2_were chosen\n",
      "vertex 12 from matrix_1 and 0 from matrix_2_were chosen\n"
     ]
    },
    {
     "data": {
      "application/vnd.jupyter.widget-view+json": {
       "model_id": "888513f19a494562bba9ba680db3c35a",
       "version_major": 2,
       "version_minor": 0
      },
      "text/plain": [
       "Computing:   0%|                                         | 0/15 [00:00<?, ?it/s]"
      ]
     },
     "metadata": {},
     "output_type": "display_data"
    },
    {
     "name": "stdout",
     "output_type": "stream",
     "text": [
      "Interations taken for prob method is 10\n",
      "Interations taken for deterministicc method is 9\n",
      "matrix size one is 15\n",
      "matrix size 2 is 15\n",
      "vertex 1 from matrix_1 and 13 from matrix_2_were chosen\n",
      "vertex 13 from matrix_1 and 0 from matrix_2_were chosen\n"
     ]
    },
    {
     "data": {
      "application/vnd.jupyter.widget-view+json": {
       "model_id": "6c0f048f606745c9ac3090ed99661ffa",
       "version_major": 2,
       "version_minor": 0
      },
      "text/plain": [
       "Computing:   0%|                                         | 0/15 [00:00<?, ?it/s]"
      ]
     },
     "metadata": {},
     "output_type": "display_data"
    },
    {
     "name": "stdout",
     "output_type": "stream",
     "text": [
      "Interations taken for prob method is 10\n",
      "Interations taken for deterministicc method is 11\n",
      "matrix size one is 15\n",
      "matrix size 2 is 15\n",
      "vertex 0 from matrix_1 and 7 from matrix_2_were chosen\n",
      "vertex 12 from matrix_1 and 1 from matrix_2_were chosen\n"
     ]
    },
    {
     "data": {
      "application/vnd.jupyter.widget-view+json": {
       "model_id": "6985a6d9713b458495edd361dad22e7c",
       "version_major": 2,
       "version_minor": 0
      },
      "text/plain": [
       "Computing:   0%|                                         | 0/15 [00:00<?, ?it/s]"
      ]
     },
     "metadata": {},
     "output_type": "display_data"
    },
    {
     "name": "stdout",
     "output_type": "stream",
     "text": [
      "Interations taken for prob method is 10\n",
      "Interations taken for deterministicc method is 10\n",
      "matrix size one is 6\n",
      "matrix size 2 is 4\n",
      "vertex 0 from matrix_1 and 0 from matrix_2_were chosen\n",
      "vertex 0 from matrix_1 and 1 from matrix_2_were chosen\n"
     ]
    },
    {
     "data": {
      "application/vnd.jupyter.widget-view+json": {
       "model_id": "bebb5d3bfd0c4d63a95b0cc4d3e7eeec",
       "version_major": 2,
       "version_minor": 0
      },
      "text/plain": [
       "Computing:   0%|                                         | 0/15 [00:00<?, ?it/s]"
      ]
     },
     "metadata": {},
     "output_type": "display_data"
    },
    {
     "name": "stdout",
     "output_type": "stream",
     "text": [
      "Interations taken for prob method is 7\n",
      "Interations taken for deterministicc method is 4\n",
      "matrix size one is 6\n",
      "matrix size 2 is 4\n",
      "vertex 0 from matrix_1 and 4 from matrix_2_were chosen\n",
      "vertex 0 from matrix_1 and 1 from matrix_2_were chosen\n"
     ]
    },
    {
     "data": {
      "application/vnd.jupyter.widget-view+json": {
       "model_id": "edcb0a0544fb466fbdfc9a43b968f590",
       "version_major": 2,
       "version_minor": 0
      },
      "text/plain": [
       "Computing:   0%|                                         | 0/15 [00:00<?, ?it/s]"
      ]
     },
     "metadata": {},
     "output_type": "display_data"
    },
    {
     "name": "stdout",
     "output_type": "stream",
     "text": [
      "Interations taken for prob method is 7\n",
      "Interations taken for deterministicc method is 4\n",
      "matrix size one is 6\n",
      "matrix size 2 is 4\n",
      "vertex 0 from matrix_1 and 0 from matrix_2_were chosen\n",
      "vertex 0 from matrix_1 and 1 from matrix_2_were chosen\n"
     ]
    },
    {
     "data": {
      "application/vnd.jupyter.widget-view+json": {
       "model_id": "830420c7d6c44b408d73c309bd6ece8c",
       "version_major": 2,
       "version_minor": 0
      },
      "text/plain": [
       "Computing:   0%|                                         | 0/15 [00:00<?, ?it/s]"
      ]
     },
     "metadata": {},
     "output_type": "display_data"
    },
    {
     "name": "stdout",
     "output_type": "stream",
     "text": [
      "Interations taken for prob method is 7\n",
      "Interations taken for deterministicc method is 4\n",
      "matrix size one is 6\n",
      "matrix size 2 is 4\n",
      "vertex 1 from matrix_1 and 0 from matrix_2_were chosen\n",
      "vertex 0 from matrix_1 and 0 from matrix_2_were chosen\n"
     ]
    },
    {
     "data": {
      "application/vnd.jupyter.widget-view+json": {
       "model_id": "d004db96646c4891b21d9a95aff95534",
       "version_major": 2,
       "version_minor": 0
      },
      "text/plain": [
       "Computing:   0%|                                         | 0/15 [00:00<?, ?it/s]"
      ]
     },
     "metadata": {},
     "output_type": "display_data"
    },
    {
     "name": "stdout",
     "output_type": "stream",
     "text": [
      "Interations taken for prob method is 7\n",
      "Interations taken for deterministicc method is 4\n",
      "matrix size one is 6\n",
      "matrix size 2 is 4\n",
      "vertex 1 from matrix_1 and 2 from matrix_2_were chosen\n",
      "vertex 3 from matrix_1 and 0 from matrix_2_were chosen\n"
     ]
    },
    {
     "data": {
      "application/vnd.jupyter.widget-view+json": {
       "model_id": "63fa9897b55540bea9d85cbede66f0e2",
       "version_major": 2,
       "version_minor": 0
      },
      "text/plain": [
       "Computing:   0%|                                         | 0/15 [00:00<?, ?it/s]"
      ]
     },
     "metadata": {},
     "output_type": "display_data"
    },
    {
     "name": "stdout",
     "output_type": "stream",
     "text": [
      "Interations taken for prob method is 7\n",
      "Interations taken for deterministicc method is 4\n",
      "matrix size one is 6\n",
      "matrix size 2 is 4\n",
      "vertex 0 from matrix_1 and 0 from matrix_2_were chosen\n",
      "vertex 3 from matrix_1 and 1 from matrix_2_were chosen\n"
     ]
    },
    {
     "data": {
      "application/vnd.jupyter.widget-view+json": {
       "model_id": "35b7b73d52dd4c5fbc32b89b9e796602",
       "version_major": 2,
       "version_minor": 0
      },
      "text/plain": [
       "Computing:   0%|                                         | 0/15 [00:00<?, ?it/s]"
      ]
     },
     "metadata": {},
     "output_type": "display_data"
    },
    {
     "name": "stdout",
     "output_type": "stream",
     "text": [
      "Interations taken for prob method is 7\n",
      "Interations taken for deterministicc method is 4\n",
      "matrix size one is 6\n",
      "matrix size 2 is 4\n",
      "vertex 0 from matrix_1 and 4 from matrix_2_were chosen\n",
      "vertex 3 from matrix_1 and 1 from matrix_2_were chosen\n"
     ]
    },
    {
     "data": {
      "application/vnd.jupyter.widget-view+json": {
       "model_id": "06a1e18b744747e59c37fd641d2ba3a7",
       "version_major": 2,
       "version_minor": 0
      },
      "text/plain": [
       "Computing:   0%|                                         | 0/15 [00:00<?, ?it/s]"
      ]
     },
     "metadata": {},
     "output_type": "display_data"
    },
    {
     "name": "stdout",
     "output_type": "stream",
     "text": [
      "Interations taken for prob method is 7\n",
      "Interations taken for deterministicc method is 4\n",
      "matrix size one is 6\n",
      "matrix size 2 is 4\n",
      "vertex 1 from matrix_1 and 5 from matrix_2_were chosen\n",
      "vertex 1 from matrix_1 and 0 from matrix_2_were chosen\n"
     ]
    },
    {
     "data": {
      "application/vnd.jupyter.widget-view+json": {
       "model_id": "534790aa37e84cea982dc5edb5cda7ad",
       "version_major": 2,
       "version_minor": 0
      },
      "text/plain": [
       "Computing:   0%|                                         | 0/15 [00:00<?, ?it/s]"
      ]
     },
     "metadata": {},
     "output_type": "display_data"
    },
    {
     "name": "stdout",
     "output_type": "stream",
     "text": [
      "Interations taken for prob method is 7\n",
      "Interations taken for deterministicc method is 4\n",
      "matrix size one is 6\n",
      "matrix size 2 is 4\n",
      "vertex 1 from matrix_1 and 3 from matrix_2_were chosen\n",
      "vertex 0 from matrix_1 and 0 from matrix_2_were chosen\n"
     ]
    },
    {
     "data": {
      "application/vnd.jupyter.widget-view+json": {
       "model_id": "1219e97f1d6142c899e9480784d37d97",
       "version_major": 2,
       "version_minor": 0
      },
      "text/plain": [
       "Computing:   0%|                                         | 0/15 [00:00<?, ?it/s]"
      ]
     },
     "metadata": {},
     "output_type": "display_data"
    },
    {
     "name": "stdout",
     "output_type": "stream",
     "text": [
      "Interations taken for prob method is 7\n",
      "Interations taken for deterministicc method is 5\n",
      "matrix size one is 6\n",
      "matrix size 2 is 4\n",
      "vertex 0 from matrix_1 and 1 from matrix_2_were chosen\n",
      "vertex 1 from matrix_1 and 1 from matrix_2_were chosen\n"
     ]
    },
    {
     "data": {
      "application/vnd.jupyter.widget-view+json": {
       "model_id": "060c31432f75425c85d903bbc75c5a87",
       "version_major": 2,
       "version_minor": 0
      },
      "text/plain": [
       "Computing:   0%|                                         | 0/15 [00:00<?, ?it/s]"
      ]
     },
     "metadata": {},
     "output_type": "display_data"
    },
    {
     "name": "stdout",
     "output_type": "stream",
     "text": [
      "Interations taken for prob method is 7\n",
      "Interations taken for deterministicc method is 4\n",
      "matrix size one is 6\n",
      "matrix size 2 is 4\n",
      "vertex 0 from matrix_1 and 5 from matrix_2_were chosen\n",
      "vertex 2 from matrix_1 and 1 from matrix_2_were chosen\n"
     ]
    },
    {
     "data": {
      "application/vnd.jupyter.widget-view+json": {
       "model_id": "9dc4b38ea49643f2af0c9f49b77e13c3",
       "version_major": 2,
       "version_minor": 0
      },
      "text/plain": [
       "Computing:   0%|                                         | 0/15 [00:00<?, ?it/s]"
      ]
     },
     "metadata": {},
     "output_type": "display_data"
    },
    {
     "name": "stdout",
     "output_type": "stream",
     "text": [
      "Interations taken for prob method is 7\n",
      "Interations taken for deterministicc method is 4\n",
      "matrix size one is 6\n",
      "matrix size 2 is 4\n",
      "vertex 1 from matrix_1 and 2 from matrix_2_were chosen\n",
      "vertex 0 from matrix_1 and 0 from matrix_2_were chosen\n"
     ]
    },
    {
     "data": {
      "application/vnd.jupyter.widget-view+json": {
       "model_id": "72eba88faba34e2f86978ac630f4d855",
       "version_major": 2,
       "version_minor": 0
      },
      "text/plain": [
       "Computing:   0%|                                         | 0/15 [00:00<?, ?it/s]"
      ]
     },
     "metadata": {},
     "output_type": "display_data"
    },
    {
     "name": "stdout",
     "output_type": "stream",
     "text": [
      "Interations taken for prob method is 7\n",
      "Interations taken for deterministicc method is 5\n",
      "matrix size one is 6\n",
      "matrix size 2 is 4\n",
      "vertex 0 from matrix_1 and 0 from matrix_2_were chosen\n",
      "vertex 3 from matrix_1 and 1 from matrix_2_were chosen\n"
     ]
    },
    {
     "data": {
      "application/vnd.jupyter.widget-view+json": {
       "model_id": "15e7b363a2684a7980384eda5290435f",
       "version_major": 2,
       "version_minor": 0
      },
      "text/plain": [
       "Computing:   0%|                                         | 0/15 [00:00<?, ?it/s]"
      ]
     },
     "metadata": {},
     "output_type": "display_data"
    },
    {
     "name": "stdout",
     "output_type": "stream",
     "text": [
      "Interations taken for prob method is 7\n",
      "Interations taken for deterministicc method is 4\n",
      "matrix size one is 6\n",
      "matrix size 2 is 4\n",
      "vertex 1 from matrix_1 and 1 from matrix_2_were chosen\n",
      "vertex 0 from matrix_1 and 0 from matrix_2_were chosen\n"
     ]
    },
    {
     "data": {
      "application/vnd.jupyter.widget-view+json": {
       "model_id": "a9736f1cb65e49fa9066e976fe2b87a1",
       "version_major": 2,
       "version_minor": 0
      },
      "text/plain": [
       "Computing:   0%|                                         | 0/15 [00:00<?, ?it/s]"
      ]
     },
     "metadata": {},
     "output_type": "display_data"
    },
    {
     "name": "stdout",
     "output_type": "stream",
     "text": [
      "Interations taken for prob method is 7\n",
      "Interations taken for deterministicc method is 4\n",
      "matrix size one is 6\n",
      "matrix size 2 is 4\n",
      "vertex 1 from matrix_1 and 0 from matrix_2_were chosen\n",
      "vertex 1 from matrix_1 and 0 from matrix_2_were chosen\n"
     ]
    },
    {
     "data": {
      "application/vnd.jupyter.widget-view+json": {
       "model_id": "073a92cd9b0f4bff977d37b4df50272c",
       "version_major": 2,
       "version_minor": 0
      },
      "text/plain": [
       "Computing:   0%|                                         | 0/15 [00:00<?, ?it/s]"
      ]
     },
     "metadata": {},
     "output_type": "display_data"
    },
    {
     "name": "stdout",
     "output_type": "stream",
     "text": [
      "Interations taken for prob method is 7\n",
      "Interations taken for deterministicc method is 3\n",
      "matrix size one is 6\n",
      "matrix size 2 is 4\n",
      "vertex 0 from matrix_1 and 3 from matrix_2_were chosen\n",
      "vertex 2 from matrix_1 and 1 from matrix_2_were chosen\n"
     ]
    },
    {
     "data": {
      "application/vnd.jupyter.widget-view+json": {
       "model_id": "6b2499e084a3456abfd1d0f1a90e54d6",
       "version_major": 2,
       "version_minor": 0
      },
      "text/plain": [
       "Computing:   0%|                                         | 0/15 [00:00<?, ?it/s]"
      ]
     },
     "metadata": {},
     "output_type": "display_data"
    },
    {
     "name": "stdout",
     "output_type": "stream",
     "text": [
      "Interations taken for prob method is 7\n",
      "Interations taken for deterministicc method is 4\n",
      "matrix size one is 6\n",
      "matrix size 2 is 4\n",
      "vertex 0 from matrix_1 and 1 from matrix_2_were chosen\n",
      "vertex 0 from matrix_1 and 1 from matrix_2_were chosen\n"
     ]
    },
    {
     "data": {
      "application/vnd.jupyter.widget-view+json": {
       "model_id": "2e38a6f407b542919b3407252d87e81f",
       "version_major": 2,
       "version_minor": 0
      },
      "text/plain": [
       "Computing:   0%|                                         | 0/15 [00:00<?, ?it/s]"
      ]
     },
     "metadata": {},
     "output_type": "display_data"
    },
    {
     "name": "stdout",
     "output_type": "stream",
     "text": [
      "Interations taken for prob method is 7\n",
      "Interations taken for deterministicc method is 4\n",
      "matrix size one is 6\n",
      "matrix size 2 is 4\n",
      "vertex 0 from matrix_1 and 1 from matrix_2_were chosen\n",
      "vertex 3 from matrix_1 and 1 from matrix_2_were chosen\n"
     ]
    },
    {
     "data": {
      "application/vnd.jupyter.widget-view+json": {
       "model_id": "b8dbb49496da4bf2a3290c8e43efbbf9",
       "version_major": 2,
       "version_minor": 0
      },
      "text/plain": [
       "Computing:   0%|                                         | 0/15 [00:00<?, ?it/s]"
      ]
     },
     "metadata": {},
     "output_type": "display_data"
    },
    {
     "name": "stdout",
     "output_type": "stream",
     "text": [
      "Interations taken for prob method is 7\n",
      "Interations taken for deterministicc method is 4\n",
      "matrix size one is 6\n",
      "matrix size 2 is 4\n",
      "vertex 0 from matrix_1 and 2 from matrix_2_were chosen\n",
      "vertex 3 from matrix_1 and 1 from matrix_2_were chosen\n"
     ]
    },
    {
     "data": {
      "application/vnd.jupyter.widget-view+json": {
       "model_id": "c54129655b3e4cfc9c04f30a0278890e",
       "version_major": 2,
       "version_minor": 0
      },
      "text/plain": [
       "Computing:   0%|                                         | 0/15 [00:00<?, ?it/s]"
      ]
     },
     "metadata": {},
     "output_type": "display_data"
    },
    {
     "name": "stdout",
     "output_type": "stream",
     "text": [
      "Interations taken for prob method is 7\n",
      "Interations taken for deterministicc method is 5\n",
      "matrix size one is 6\n",
      "matrix size 2 is 4\n",
      "vertex 0 from matrix_1 and 4 from matrix_2_were chosen\n",
      "vertex 1 from matrix_1 and 1 from matrix_2_were chosen\n"
     ]
    },
    {
     "data": {
      "application/vnd.jupyter.widget-view+json": {
       "model_id": "e9b7ff4454644e2f8f3ac14ded247ffe",
       "version_major": 2,
       "version_minor": 0
      },
      "text/plain": [
       "Computing:   0%|                                         | 0/15 [00:00<?, ?it/s]"
      ]
     },
     "metadata": {},
     "output_type": "display_data"
    },
    {
     "name": "stdout",
     "output_type": "stream",
     "text": [
      "Interations taken for prob method is 7\n",
      "Interations taken for deterministicc method is 4\n",
      "matrix size one is 12\n",
      "matrix size 2 is 8\n",
      "vertex 0 from matrix_1 and 1 from matrix_2_were chosen\n",
      "vertex 2 from matrix_1 and 1 from matrix_2_were chosen\n"
     ]
    },
    {
     "data": {
      "application/vnd.jupyter.widget-view+json": {
       "model_id": "9c0c1d58e3b7426e87ecbd9acf4cab8d",
       "version_major": 2,
       "version_minor": 0
      },
      "text/plain": [
       "Computing:   0%|                                         | 0/15 [00:00<?, ?it/s]"
      ]
     },
     "metadata": {},
     "output_type": "display_data"
    },
    {
     "name": "stdout",
     "output_type": "stream",
     "text": [
      "Interations taken for prob method is 5\n",
      "Interations taken for deterministicc method is 6\n",
      "matrix size one is 12\n",
      "matrix size 2 is 8\n",
      "vertex 1 from matrix_1 and 1 from matrix_2_were chosen\n",
      "vertex 2 from matrix_1 and 0 from matrix_2_were chosen\n"
     ]
    },
    {
     "data": {
      "application/vnd.jupyter.widget-view+json": {
       "model_id": "a77c9c5e28b94f998e46f493ccc65ced",
       "version_major": 2,
       "version_minor": 0
      },
      "text/plain": [
       "Computing:   0%|                                         | 0/15 [00:00<?, ?it/s]"
      ]
     },
     "metadata": {},
     "output_type": "display_data"
    },
    {
     "name": "stdout",
     "output_type": "stream",
     "text": [
      "Interations taken for prob method is 5\n",
      "Interations taken for deterministicc method is 6\n",
      "matrix size one is 12\n",
      "matrix size 2 is 8\n",
      "vertex 1 from matrix_1 and 8 from matrix_2_were chosen\n",
      "vertex 1 from matrix_1 and 0 from matrix_2_were chosen\n"
     ]
    },
    {
     "data": {
      "application/vnd.jupyter.widget-view+json": {
       "model_id": "63a1772e20394a0a87052fb0097b9f56",
       "version_major": 2,
       "version_minor": 0
      },
      "text/plain": [
       "Computing:   0%|                                         | 0/15 [00:00<?, ?it/s]"
      ]
     },
     "metadata": {},
     "output_type": "display_data"
    },
    {
     "name": "stdout",
     "output_type": "stream",
     "text": [
      "Interations taken for prob method is 9\n",
      "Interations taken for deterministicc method is 7\n",
      "matrix size one is 12\n",
      "matrix size 2 is 8\n",
      "vertex 0 from matrix_1 and 9 from matrix_2_were chosen\n",
      "vertex 6 from matrix_1 and 1 from matrix_2_were chosen\n"
     ]
    },
    {
     "data": {
      "application/vnd.jupyter.widget-view+json": {
       "model_id": "56db15da8f134a8ba3a481683b1d89b3",
       "version_major": 2,
       "version_minor": 0
      },
      "text/plain": [
       "Computing:   0%|                                         | 0/15 [00:00<?, ?it/s]"
      ]
     },
     "metadata": {},
     "output_type": "display_data"
    },
    {
     "name": "stdout",
     "output_type": "stream",
     "text": [
      "Interations taken for prob method is 9\n",
      "Interations taken for deterministicc method is 7\n",
      "matrix size one is 12\n",
      "matrix size 2 is 8\n",
      "vertex 1 from matrix_1 and 1 from matrix_2_were chosen\n",
      "vertex 7 from matrix_1 and 0 from matrix_2_were chosen\n"
     ]
    },
    {
     "data": {
      "application/vnd.jupyter.widget-view+json": {
       "model_id": "460c7d99c47d41069ec6a95e13232558",
       "version_major": 2,
       "version_minor": 0
      },
      "text/plain": [
       "Computing:   0%|                                         | 0/15 [00:00<?, ?it/s]"
      ]
     },
     "metadata": {},
     "output_type": "display_data"
    },
    {
     "name": "stdout",
     "output_type": "stream",
     "text": [
      "Interations taken for prob method is 9\n",
      "Interations taken for deterministicc method is 7\n",
      "matrix size one is 12\n",
      "matrix size 2 is 8\n",
      "vertex 0 from matrix_1 and 4 from matrix_2_were chosen\n",
      "vertex 3 from matrix_1 and 1 from matrix_2_were chosen\n"
     ]
    },
    {
     "data": {
      "application/vnd.jupyter.widget-view+json": {
       "model_id": "60a50858d05946f285790c0568ce3e0b",
       "version_major": 2,
       "version_minor": 0
      },
      "text/plain": [
       "Computing:   0%|                                         | 0/15 [00:00<?, ?it/s]"
      ]
     },
     "metadata": {},
     "output_type": "display_data"
    },
    {
     "name": "stdout",
     "output_type": "stream",
     "text": [
      "Interations taken for prob method is 9\n",
      "Interations taken for deterministicc method is 6\n",
      "matrix size one is 12\n",
      "matrix size 2 is 8\n",
      "vertex 1 from matrix_1 and 8 from matrix_2_were chosen\n",
      "vertex 4 from matrix_1 and 0 from matrix_2_were chosen\n"
     ]
    },
    {
     "data": {
      "application/vnd.jupyter.widget-view+json": {
       "model_id": "078760d7ddaa41958cef176c4a910f8a",
       "version_major": 2,
       "version_minor": 0
      },
      "text/plain": [
       "Computing:   0%|                                         | 0/15 [00:00<?, ?it/s]"
      ]
     },
     "metadata": {},
     "output_type": "display_data"
    },
    {
     "name": "stdout",
     "output_type": "stream",
     "text": [
      "Interations taken for prob method is 9\n",
      "Interations taken for deterministicc method is 6\n",
      "matrix size one is 12\n",
      "matrix size 2 is 8\n",
      "vertex 1 from matrix_1 and 1 from matrix_2_were chosen\n",
      "vertex 7 from matrix_1 and 0 from matrix_2_were chosen\n"
     ]
    },
    {
     "data": {
      "application/vnd.jupyter.widget-view+json": {
       "model_id": "f153841c853e4afb92478815086b4f01",
       "version_major": 2,
       "version_minor": 0
      },
      "text/plain": [
       "Computing:   0%|                                         | 0/15 [00:00<?, ?it/s]"
      ]
     },
     "metadata": {},
     "output_type": "display_data"
    },
    {
     "name": "stdout",
     "output_type": "stream",
     "text": [
      "Interations taken for prob method is 6\n",
      "Interations taken for deterministicc method is 7\n",
      "matrix size one is 12\n",
      "matrix size 2 is 8\n",
      "vertex 1 from matrix_1 and 9 from matrix_2_were chosen\n",
      "vertex 0 from matrix_1 and 0 from matrix_2_were chosen\n"
     ]
    },
    {
     "data": {
      "application/vnd.jupyter.widget-view+json": {
       "model_id": "5c8815de63794e158939406dad3f0cf6",
       "version_major": 2,
       "version_minor": 0
      },
      "text/plain": [
       "Computing:   0%|                                         | 0/15 [00:00<?, ?it/s]"
      ]
     },
     "metadata": {},
     "output_type": "display_data"
    },
    {
     "name": "stdout",
     "output_type": "stream",
     "text": [
      "Interations taken for prob method is 9\n",
      "Interations taken for deterministicc method is 7\n",
      "matrix size one is 12\n",
      "matrix size 2 is 8\n",
      "vertex 1 from matrix_1 and 11 from matrix_2_were chosen\n",
      "vertex 2 from matrix_1 and 0 from matrix_2_were chosen\n"
     ]
    },
    {
     "data": {
      "application/vnd.jupyter.widget-view+json": {
       "model_id": "5afdfe44287548929de6d68d51a8f362",
       "version_major": 2,
       "version_minor": 0
      },
      "text/plain": [
       "Computing:   0%|                                         | 0/15 [00:00<?, ?it/s]"
      ]
     },
     "metadata": {},
     "output_type": "display_data"
    },
    {
     "name": "stdout",
     "output_type": "stream",
     "text": [
      "Interations taken for prob method is 9\n",
      "Interations taken for deterministicc method is 6\n",
      "matrix size one is 12\n",
      "matrix size 2 is 8\n",
      "vertex 0 from matrix_1 and 10 from matrix_2_were chosen\n",
      "vertex 1 from matrix_1 and 1 from matrix_2_were chosen\n"
     ]
    },
    {
     "data": {
      "application/vnd.jupyter.widget-view+json": {
       "model_id": "6d1d3bce428041c89ad649891285c93a",
       "version_major": 2,
       "version_minor": 0
      },
      "text/plain": [
       "Computing:   0%|                                         | 0/15 [00:00<?, ?it/s]"
      ]
     },
     "metadata": {},
     "output_type": "display_data"
    },
    {
     "name": "stdout",
     "output_type": "stream",
     "text": [
      "Interations taken for prob method is 9\n",
      "Interations taken for deterministicc method is 6\n",
      "matrix size one is 12\n",
      "matrix size 2 is 8\n",
      "vertex 1 from matrix_1 and 9 from matrix_2_were chosen\n",
      "vertex 7 from matrix_1 and 0 from matrix_2_were chosen\n"
     ]
    },
    {
     "data": {
      "application/vnd.jupyter.widget-view+json": {
       "model_id": "3a4c7a0045194a7f8dc3326515515303",
       "version_major": 2,
       "version_minor": 0
      },
      "text/plain": [
       "Computing:   0%|                                         | 0/15 [00:00<?, ?it/s]"
      ]
     },
     "metadata": {},
     "output_type": "display_data"
    },
    {
     "name": "stdout",
     "output_type": "stream",
     "text": [
      "Interations taken for prob method is 9\n",
      "Interations taken for deterministicc method is 7\n",
      "matrix size one is 12\n",
      "matrix size 2 is 8\n",
      "vertex 1 from matrix_1 and 9 from matrix_2_were chosen\n",
      "vertex 7 from matrix_1 and 0 from matrix_2_were chosen\n"
     ]
    },
    {
     "data": {
      "application/vnd.jupyter.widget-view+json": {
       "model_id": "ed1e909d0c9649a3a2be456dfd302c37",
       "version_major": 2,
       "version_minor": 0
      },
      "text/plain": [
       "Computing:   0%|                                         | 0/15 [00:00<?, ?it/s]"
      ]
     },
     "metadata": {},
     "output_type": "display_data"
    },
    {
     "name": "stdout",
     "output_type": "stream",
     "text": [
      "Interations taken for prob method is 9\n",
      "Interations taken for deterministicc method is 9\n",
      "matrix size one is 12\n",
      "matrix size 2 is 8\n",
      "vertex 0 from matrix_1 and 6 from matrix_2_were chosen\n",
      "vertex 3 from matrix_1 and 1 from matrix_2_were chosen\n"
     ]
    },
    {
     "data": {
      "application/vnd.jupyter.widget-view+json": {
       "model_id": "1aa87600da6e4f0f9718489ccfe317d4",
       "version_major": 2,
       "version_minor": 0
      },
      "text/plain": [
       "Computing:   0%|                                         | 0/15 [00:00<?, ?it/s]"
      ]
     },
     "metadata": {},
     "output_type": "display_data"
    },
    {
     "name": "stdout",
     "output_type": "stream",
     "text": [
      "Interations taken for prob method is 5\n",
      "Interations taken for deterministicc method is 7\n",
      "matrix size one is 12\n",
      "matrix size 2 is 8\n",
      "vertex 1 from matrix_1 and 7 from matrix_2_were chosen\n",
      "vertex 0 from matrix_1 and 0 from matrix_2_were chosen\n"
     ]
    },
    {
     "data": {
      "application/vnd.jupyter.widget-view+json": {
       "model_id": "cf951e44ddec48a8a441b58513f0ca1f",
       "version_major": 2,
       "version_minor": 0
      },
      "text/plain": [
       "Computing:   0%|                                         | 0/15 [00:00<?, ?it/s]"
      ]
     },
     "metadata": {},
     "output_type": "display_data"
    },
    {
     "name": "stdout",
     "output_type": "stream",
     "text": [
      "Interations taken for prob method is 6\n",
      "Interations taken for deterministicc method is 7\n",
      "matrix size one is 12\n",
      "matrix size 2 is 8\n",
      "vertex 1 from matrix_1 and 1 from matrix_2_were chosen\n",
      "vertex 4 from matrix_1 and 0 from matrix_2_were chosen\n"
     ]
    },
    {
     "data": {
      "application/vnd.jupyter.widget-view+json": {
       "model_id": "16d0030da2154922bd136d43f16e6953",
       "version_major": 2,
       "version_minor": 0
      },
      "text/plain": [
       "Computing:   0%|                                         | 0/15 [00:00<?, ?it/s]"
      ]
     },
     "metadata": {},
     "output_type": "display_data"
    },
    {
     "name": "stdout",
     "output_type": "stream",
     "text": [
      "Interations taken for prob method is 5\n",
      "Interations taken for deterministicc method is 5\n",
      "matrix size one is 12\n",
      "matrix size 2 is 8\n",
      "vertex 1 from matrix_1 and 4 from matrix_2_were chosen\n",
      "vertex 7 from matrix_1 and 0 from matrix_2_were chosen\n"
     ]
    },
    {
     "data": {
      "application/vnd.jupyter.widget-view+json": {
       "model_id": "07ab4d85e3a943feb78a1d2954cdf2e3",
       "version_major": 2,
       "version_minor": 0
      },
      "text/plain": [
       "Computing:   0%|                                         | 0/15 [00:00<?, ?it/s]"
      ]
     },
     "metadata": {},
     "output_type": "display_data"
    },
    {
     "name": "stdout",
     "output_type": "stream",
     "text": [
      "Interations taken for prob method is 9\n",
      "Interations taken for deterministicc method is 7\n",
      "matrix size one is 12\n",
      "matrix size 2 is 8\n",
      "vertex 0 from matrix_1 and 8 from matrix_2_were chosen\n",
      "vertex 4 from matrix_1 and 1 from matrix_2_were chosen\n"
     ]
    },
    {
     "data": {
      "application/vnd.jupyter.widget-view+json": {
       "model_id": "74f02f09fc774236a587d21f0f381791",
       "version_major": 2,
       "version_minor": 0
      },
      "text/plain": [
       "Computing:   0%|                                         | 0/15 [00:00<?, ?it/s]"
      ]
     },
     "metadata": {},
     "output_type": "display_data"
    },
    {
     "name": "stdout",
     "output_type": "stream",
     "text": [
      "Interations taken for prob method is 9\n",
      "Interations taken for deterministicc method is 7\n",
      "matrix size one is 12\n",
      "matrix size 2 is 8\n",
      "vertex 0 from matrix_1 and 6 from matrix_2_were chosen\n",
      "vertex 4 from matrix_1 and 1 from matrix_2_were chosen\n"
     ]
    },
    {
     "data": {
      "application/vnd.jupyter.widget-view+json": {
       "model_id": "fee91f678bea4fb4a226423e8b279a7e",
       "version_major": 2,
       "version_minor": 0
      },
      "text/plain": [
       "Computing:   0%|                                         | 0/15 [00:00<?, ?it/s]"
      ]
     },
     "metadata": {},
     "output_type": "display_data"
    },
    {
     "name": "stdout",
     "output_type": "stream",
     "text": [
      "Interations taken for prob method is 6\n",
      "Interations taken for deterministicc method is 5\n",
      "matrix size one is 12\n",
      "matrix size 2 is 8\n",
      "vertex 1 from matrix_1 and 8 from matrix_2_were chosen\n",
      "vertex 0 from matrix_1 and 0 from matrix_2_were chosen\n"
     ]
    },
    {
     "data": {
      "application/vnd.jupyter.widget-view+json": {
       "model_id": "9489f8135ca84696a533e516864d17d5",
       "version_major": 2,
       "version_minor": 0
      },
      "text/plain": [
       "Computing:   0%|                                         | 0/15 [00:00<?, ?it/s]"
      ]
     },
     "metadata": {},
     "output_type": "display_data"
    },
    {
     "name": "stdout",
     "output_type": "stream",
     "text": [
      "Interations taken for prob method is 9\n",
      "Interations taken for deterministicc method is 7\n",
      "matrix size one is 18\n",
      "matrix size 2 is 12\n",
      "vertex 1 from matrix_1 and 4 from matrix_2_were chosen\n",
      "vertex 1 from matrix_1 and 0 from matrix_2_were chosen\n"
     ]
    },
    {
     "data": {
      "application/vnd.jupyter.widget-view+json": {
       "model_id": "e489b69f0ed048cb8eb72a470fcdea86",
       "version_major": 2,
       "version_minor": 0
      },
      "text/plain": [
       "Computing:   0%|                                         | 0/15 [00:00<?, ?it/s]"
      ]
     },
     "metadata": {},
     "output_type": "display_data"
    },
    {
     "name": "stdout",
     "output_type": "stream",
     "text": [
      "Interations taken for prob method is 6\n",
      "Interations taken for deterministicc method is 9\n",
      "matrix size one is 18\n",
      "matrix size 2 is 12\n",
      "vertex 1 from matrix_1 and 10 from matrix_2_were chosen\n",
      "vertex 11 from matrix_1 and 0 from matrix_2_were chosen\n"
     ]
    },
    {
     "data": {
      "application/vnd.jupyter.widget-view+json": {
       "model_id": "1bab09bfcbd64cb09e021fcabdf2bc2d",
       "version_major": 2,
       "version_minor": 0
      },
      "text/plain": [
       "Computing:   0%|                                         | 0/15 [00:00<?, ?it/s]"
      ]
     },
     "metadata": {},
     "output_type": "display_data"
    },
    {
     "name": "stdout",
     "output_type": "stream",
     "text": [
      "Interations taken for prob method is 7\n",
      "Interations taken for deterministicc method is 10\n",
      "matrix size one is 18\n",
      "matrix size 2 is 12\n",
      "vertex 0 from matrix_1 and 3 from matrix_2_were chosen\n",
      "vertex 2 from matrix_1 and 1 from matrix_2_were chosen\n"
     ]
    },
    {
     "data": {
      "application/vnd.jupyter.widget-view+json": {
       "model_id": "c34ab40ed6aa4361ace7a96e3417809f",
       "version_major": 2,
       "version_minor": 0
      },
      "text/plain": [
       "Computing:   0%|                                         | 0/15 [00:00<?, ?it/s]"
      ]
     },
     "metadata": {},
     "output_type": "display_data"
    },
    {
     "name": "stdout",
     "output_type": "stream",
     "text": [
      "Interations taken for prob method is 5\n",
      "Interations taken for deterministicc method is 8\n",
      "matrix size one is 18\n",
      "matrix size 2 is 12\n",
      "vertex 1 from matrix_1 and 7 from matrix_2_were chosen\n",
      "vertex 4 from matrix_1 and 0 from matrix_2_were chosen\n"
     ]
    },
    {
     "data": {
      "application/vnd.jupyter.widget-view+json": {
       "model_id": "7fbfb2bcda034b0bbe3a627be5f48ea7",
       "version_major": 2,
       "version_minor": 0
      },
      "text/plain": [
       "Computing:   0%|                                         | 0/15 [00:00<?, ?it/s]"
      ]
     },
     "metadata": {},
     "output_type": "display_data"
    },
    {
     "name": "stdout",
     "output_type": "stream",
     "text": [
      "Interations taken for prob method is 5\n",
      "Interations taken for deterministicc method is 7\n",
      "matrix size one is 18\n",
      "matrix size 2 is 12\n",
      "vertex 0 from matrix_1 and 5 from matrix_2_were chosen\n",
      "vertex 6 from matrix_1 and 1 from matrix_2_were chosen\n"
     ]
    },
    {
     "data": {
      "application/vnd.jupyter.widget-view+json": {
       "model_id": "a96a80a4fdfa44828b1904944b9a2ee6",
       "version_major": 2,
       "version_minor": 0
      },
      "text/plain": [
       "Computing:   0%|                                         | 0/15 [00:00<?, ?it/s]"
      ]
     },
     "metadata": {},
     "output_type": "display_data"
    },
    {
     "name": "stdout",
     "output_type": "stream",
     "text": [
      "Interations taken for prob method is 6\n",
      "Interations taken for deterministicc method is 7\n",
      "matrix size one is 18\n",
      "matrix size 2 is 12\n",
      "vertex 0 from matrix_1 and 6 from matrix_2_were chosen\n",
      "vertex 11 from matrix_1 and 1 from matrix_2_were chosen\n"
     ]
    },
    {
     "data": {
      "application/vnd.jupyter.widget-view+json": {
       "model_id": "ad1b2cb86e85476d8c74a10ba947f2ed",
       "version_major": 2,
       "version_minor": 0
      },
      "text/plain": [
       "Computing:   0%|                                         | 0/15 [00:00<?, ?it/s]"
      ]
     },
     "metadata": {},
     "output_type": "display_data"
    },
    {
     "name": "stdout",
     "output_type": "stream",
     "text": [
      "Interations taken for prob method is 6\n",
      "Interations taken for deterministicc method is 10\n",
      "matrix size one is 18\n",
      "matrix size 2 is 12\n",
      "vertex 1 from matrix_1 and 4 from matrix_2_were chosen\n",
      "vertex 6 from matrix_1 and 0 from matrix_2_were chosen\n"
     ]
    },
    {
     "data": {
      "application/vnd.jupyter.widget-view+json": {
       "model_id": "ee893d55dd1846b6a294dcb0cfdad242",
       "version_major": 2,
       "version_minor": 0
      },
      "text/plain": [
       "Computing:   0%|                                         | 0/15 [00:00<?, ?it/s]"
      ]
     },
     "metadata": {},
     "output_type": "display_data"
    },
    {
     "name": "stdout",
     "output_type": "stream",
     "text": [
      "Interations taken for prob method is 8\n",
      "Interations taken for deterministicc method is 7\n",
      "matrix size one is 18\n",
      "matrix size 2 is 12\n",
      "vertex 1 from matrix_1 and 0 from matrix_2_were chosen\n",
      "vertex 11 from matrix_1 and 0 from matrix_2_were chosen\n"
     ]
    },
    {
     "data": {
      "application/vnd.jupyter.widget-view+json": {
       "model_id": "39423afd59644d89b44087e1c1b7343d",
       "version_major": 2,
       "version_minor": 0
      },
      "text/plain": [
       "Computing:   0%|                                         | 0/15 [00:00<?, ?it/s]"
      ]
     },
     "metadata": {},
     "output_type": "display_data"
    },
    {
     "name": "stdout",
     "output_type": "stream",
     "text": [
      "Interations taken for prob method is 5\n",
      "Interations taken for deterministicc method is 9\n",
      "matrix size one is 18\n",
      "matrix size 2 is 12\n",
      "vertex 1 from matrix_1 and 14 from matrix_2_were chosen\n",
      "vertex 5 from matrix_1 and 0 from matrix_2_were chosen\n"
     ]
    },
    {
     "data": {
      "application/vnd.jupyter.widget-view+json": {
       "model_id": "b9b2196aadc049ff9204ab1f77ee99f8",
       "version_major": 2,
       "version_minor": 0
      },
      "text/plain": [
       "Computing:   0%|                                         | 0/15 [00:00<?, ?it/s]"
      ]
     },
     "metadata": {},
     "output_type": "display_data"
    },
    {
     "name": "stdout",
     "output_type": "stream",
     "text": [
      "Interations taken for prob method is 10\n",
      "Interations taken for deterministicc method is 8\n",
      "matrix size one is 18\n",
      "matrix size 2 is 12\n",
      "vertex 0 from matrix_1 and 0 from matrix_2_were chosen\n",
      "vertex 4 from matrix_1 and 1 from matrix_2_were chosen\n"
     ]
    },
    {
     "data": {
      "application/vnd.jupyter.widget-view+json": {
       "model_id": "64cafe0a073746bc97cae6beb786ba76",
       "version_major": 2,
       "version_minor": 0
      },
      "text/plain": [
       "Computing:   0%|                                         | 0/15 [00:00<?, ?it/s]"
      ]
     },
     "metadata": {},
     "output_type": "display_data"
    },
    {
     "name": "stdout",
     "output_type": "stream",
     "text": [
      "Interations taken for prob method is 5\n",
      "Interations taken for deterministicc method is 7\n",
      "matrix size one is 18\n",
      "matrix size 2 is 12\n",
      "vertex 1 from matrix_1 and 10 from matrix_2_were chosen\n",
      "vertex 4 from matrix_1 and 0 from matrix_2_were chosen\n"
     ]
    },
    {
     "data": {
      "application/vnd.jupyter.widget-view+json": {
       "model_id": "cf08758064434406b11b4fdcd88fbdae",
       "version_major": 2,
       "version_minor": 0
      },
      "text/plain": [
       "Computing:   0%|                                         | 0/15 [00:00<?, ?it/s]"
      ]
     },
     "metadata": {},
     "output_type": "display_data"
    },
    {
     "name": "stdout",
     "output_type": "stream",
     "text": [
      "Interations taken for prob method is 10\n",
      "Interations taken for deterministicc method is 8\n",
      "matrix size one is 18\n",
      "matrix size 2 is 12\n",
      "vertex 0 from matrix_1 and 14 from matrix_2_were chosen\n",
      "vertex 10 from matrix_1 and 1 from matrix_2_were chosen\n"
     ]
    },
    {
     "data": {
      "application/vnd.jupyter.widget-view+json": {
       "model_id": "7397d02e87dd47ff9b0891fa82837009",
       "version_major": 2,
       "version_minor": 0
      },
      "text/plain": [
       "Computing:   0%|                                         | 0/15 [00:00<?, ?it/s]"
      ]
     },
     "metadata": {},
     "output_type": "display_data"
    },
    {
     "name": "stdout",
     "output_type": "stream",
     "text": [
      "Interations taken for prob method is 10\n",
      "Interations taken for deterministicc method is 9\n",
      "matrix size one is 18\n",
      "matrix size 2 is 12\n",
      "vertex 0 from matrix_1 and 4 from matrix_2_were chosen\n",
      "vertex 11 from matrix_1 and 1 from matrix_2_were chosen\n"
     ]
    },
    {
     "data": {
      "application/vnd.jupyter.widget-view+json": {
       "model_id": "f4913601c2894ed288fb59be4e073553",
       "version_major": 2,
       "version_minor": 0
      },
      "text/plain": [
       "Computing:   0%|                                         | 0/15 [00:00<?, ?it/s]"
      ]
     },
     "metadata": {},
     "output_type": "display_data"
    },
    {
     "name": "stdout",
     "output_type": "stream",
     "text": [
      "Interations taken for prob method is 6\n",
      "Interations taken for deterministicc method is 10\n",
      "matrix size one is 18\n",
      "matrix size 2 is 12\n",
      "vertex 0 from matrix_1 and 13 from matrix_2_were chosen\n",
      "vertex 1 from matrix_1 and 1 from matrix_2_were chosen\n"
     ]
    },
    {
     "data": {
      "application/vnd.jupyter.widget-view+json": {
       "model_id": "f6885e3533da40c9b78612fe40236658",
       "version_major": 2,
       "version_minor": 0
      },
      "text/plain": [
       "Computing:   0%|                                         | 0/15 [00:00<?, ?it/s]"
      ]
     },
     "metadata": {},
     "output_type": "display_data"
    },
    {
     "name": "stdout",
     "output_type": "stream",
     "text": [
      "Interations taken for prob method is 8\n",
      "Interations taken for deterministicc method is 10\n",
      "matrix size one is 18\n",
      "matrix size 2 is 12\n",
      "vertex 1 from matrix_1 and 7 from matrix_2_were chosen\n",
      "vertex 10 from matrix_1 and 0 from matrix_2_were chosen\n"
     ]
    },
    {
     "data": {
      "application/vnd.jupyter.widget-view+json": {
       "model_id": "0b166dec56274e588db8084ed3724887",
       "version_major": 2,
       "version_minor": 0
      },
      "text/plain": [
       "Computing:   0%|                                         | 0/15 [00:00<?, ?it/s]"
      ]
     },
     "metadata": {},
     "output_type": "display_data"
    },
    {
     "name": "stdout",
     "output_type": "stream",
     "text": [
      "Interations taken for prob method is 8\n",
      "Interations taken for deterministicc method is 9\n",
      "matrix size one is 18\n",
      "matrix size 2 is 12\n",
      "vertex 0 from matrix_1 and 3 from matrix_2_were chosen\n",
      "vertex 8 from matrix_1 and 1 from matrix_2_were chosen\n"
     ]
    },
    {
     "data": {
      "application/vnd.jupyter.widget-view+json": {
       "model_id": "c6259d0928aa4fe5ba1d3c62fbd4427b",
       "version_major": 2,
       "version_minor": 0
      },
      "text/plain": [
       "Computing:   0%|                                         | 0/15 [00:00<?, ?it/s]"
      ]
     },
     "metadata": {},
     "output_type": "display_data"
    },
    {
     "name": "stdout",
     "output_type": "stream",
     "text": [
      "Interations taken for prob method is 5\n",
      "Interations taken for deterministicc method is 7\n",
      "matrix size one is 18\n",
      "matrix size 2 is 12\n",
      "vertex 1 from matrix_1 and 16 from matrix_2_were chosen\n",
      "vertex 10 from matrix_1 and 0 from matrix_2_were chosen\n"
     ]
    },
    {
     "data": {
      "application/vnd.jupyter.widget-view+json": {
       "model_id": "5d900e3a2d0145298eaac715cb790a27",
       "version_major": 2,
       "version_minor": 0
      },
      "text/plain": [
       "Computing:   0%|                                         | 0/15 [00:00<?, ?it/s]"
      ]
     },
     "metadata": {},
     "output_type": "display_data"
    },
    {
     "name": "stdout",
     "output_type": "stream",
     "text": [
      "Interations taken for prob method is 7\n",
      "Interations taken for deterministicc method is 10\n",
      "matrix size one is 18\n",
      "matrix size 2 is 12\n",
      "vertex 0 from matrix_1 and 0 from matrix_2_were chosen\n",
      "vertex 9 from matrix_1 and 1 from matrix_2_were chosen\n"
     ]
    },
    {
     "data": {
      "application/vnd.jupyter.widget-view+json": {
       "model_id": "a17edbd06d52462cb5e4841b80852f73",
       "version_major": 2,
       "version_minor": 0
      },
      "text/plain": [
       "Computing:   0%|                                         | 0/15 [00:00<?, ?it/s]"
      ]
     },
     "metadata": {},
     "output_type": "display_data"
    },
    {
     "name": "stdout",
     "output_type": "stream",
     "text": [
      "Interations taken for prob method is 5\n",
      "Interations taken for deterministicc method is 8\n",
      "matrix size one is 18\n",
      "matrix size 2 is 12\n",
      "vertex 0 from matrix_1 and 6 from matrix_2_were chosen\n",
      "vertex 9 from matrix_1 and 1 from matrix_2_were chosen\n"
     ]
    },
    {
     "data": {
      "application/vnd.jupyter.widget-view+json": {
       "model_id": "61627546e2614bfeae2c1ea8a0ab7ff4",
       "version_major": 2,
       "version_minor": 0
      },
      "text/plain": [
       "Computing:   0%|                                         | 0/15 [00:00<?, ?it/s]"
      ]
     },
     "metadata": {},
     "output_type": "display_data"
    },
    {
     "name": "stdout",
     "output_type": "stream",
     "text": [
      "Interations taken for prob method is 6\n",
      "Interations taken for deterministicc method is 8\n",
      "matrix size one is 18\n",
      "matrix size 2 is 12\n",
      "vertex 0 from matrix_1 and 1 from matrix_2_were chosen\n",
      "vertex 0 from matrix_1 and 1 from matrix_2_were chosen\n"
     ]
    },
    {
     "data": {
      "application/vnd.jupyter.widget-view+json": {
       "model_id": "bbf844e16c834af1b2a97f12aa5c0db5",
       "version_major": 2,
       "version_minor": 0
      },
      "text/plain": [
       "Computing:   0%|                                         | 0/15 [00:00<?, ?it/s]"
      ]
     },
     "metadata": {},
     "output_type": "display_data"
    },
    {
     "name": "stdout",
     "output_type": "stream",
     "text": [
      "Interations taken for prob method is 5\n",
      "Interations taken for deterministicc method is 9\n",
      "matrix size one is 7\n",
      "matrix size 2 is 3\n",
      "vertex 0 from matrix_1 and 0 from matrix_2_were chosen\n",
      "vertex 2 from matrix_1 and 1 from matrix_2_were chosen\n"
     ]
    },
    {
     "data": {
      "application/vnd.jupyter.widget-view+json": {
       "model_id": "0b1e38673cf24df9bd6cca48a2e6dad7",
       "version_major": 2,
       "version_minor": 0
      },
      "text/plain": [
       "Computing:   0%|                                         | 0/15 [00:00<?, ?it/s]"
      ]
     },
     "metadata": {},
     "output_type": "display_data"
    },
    {
     "name": "stdout",
     "output_type": "stream",
     "text": [
      "Interations taken for prob method is 5\n",
      "Interations taken for deterministicc method is 4\n",
      "matrix size one is 7\n",
      "matrix size 2 is 3\n",
      "vertex 1 from matrix_1 and 0 from matrix_2_were chosen\n",
      "vertex 0 from matrix_1 and 0 from matrix_2_were chosen\n"
     ]
    },
    {
     "data": {
      "application/vnd.jupyter.widget-view+json": {
       "model_id": "216f6e5deb4a44e997cb9ad83e6abf41",
       "version_major": 2,
       "version_minor": 0
      },
      "text/plain": [
       "Computing:   0%|                                         | 0/15 [00:00<?, ?it/s]"
      ]
     },
     "metadata": {},
     "output_type": "display_data"
    },
    {
     "name": "stdout",
     "output_type": "stream",
     "text": [
      "Interations taken for prob method is 7\n",
      "Interations taken for deterministicc method is 4\n",
      "matrix size one is 7\n",
      "matrix size 2 is 3\n",
      "vertex 1 from matrix_1 and 1 from matrix_2_were chosen\n",
      "vertex 1 from matrix_1 and 0 from matrix_2_were chosen\n"
     ]
    },
    {
     "data": {
      "application/vnd.jupyter.widget-view+json": {
       "model_id": "aac4e24c931c421a9ee1c32e3be52510",
       "version_major": 2,
       "version_minor": 0
      },
      "text/plain": [
       "Computing:   0%|                                         | 0/15 [00:00<?, ?it/s]"
      ]
     },
     "metadata": {},
     "output_type": "display_data"
    },
    {
     "name": "stdout",
     "output_type": "stream",
     "text": [
      "Interations taken for prob method is 4\n",
      "Interations taken for deterministicc method is 3\n",
      "matrix size one is 7\n",
      "matrix size 2 is 3\n",
      "vertex 1 from matrix_1 and 4 from matrix_2_were chosen\n",
      "vertex 1 from matrix_1 and 0 from matrix_2_were chosen\n"
     ]
    },
    {
     "data": {
      "application/vnd.jupyter.widget-view+json": {
       "model_id": "9391f5a602b14c3399d015f319db1149",
       "version_major": 2,
       "version_minor": 0
      },
      "text/plain": [
       "Computing:   0%|                                         | 0/15 [00:00<?, ?it/s]"
      ]
     },
     "metadata": {},
     "output_type": "display_data"
    },
    {
     "name": "stdout",
     "output_type": "stream",
     "text": [
      "Interations taken for prob method is 5\n",
      "Interations taken for deterministicc method is 4\n",
      "matrix size one is 7\n",
      "matrix size 2 is 3\n",
      "vertex 0 from matrix_1 and 0 from matrix_2_were chosen\n",
      "vertex 0 from matrix_1 and 1 from matrix_2_were chosen\n"
     ]
    },
    {
     "data": {
      "application/vnd.jupyter.widget-view+json": {
       "model_id": "e4b6c83255ab469083ef03bc16e2ff55",
       "version_major": 2,
       "version_minor": 0
      },
      "text/plain": [
       "Computing:   0%|                                         | 0/15 [00:00<?, ?it/s]"
      ]
     },
     "metadata": {},
     "output_type": "display_data"
    },
    {
     "name": "stdout",
     "output_type": "stream",
     "text": [
      "Interations taken for prob method is 7\n",
      "Interations taken for deterministicc method is 4\n",
      "matrix size one is 7\n",
      "matrix size 2 is 3\n",
      "vertex 0 from matrix_1 and 4 from matrix_2_were chosen\n",
      "vertex 1 from matrix_1 and 1 from matrix_2_were chosen\n"
     ]
    },
    {
     "data": {
      "application/vnd.jupyter.widget-view+json": {
       "model_id": "520455291b2c47759d661a52ba07a393",
       "version_major": 2,
       "version_minor": 0
      },
      "text/plain": [
       "Computing:   0%|                                         | 0/15 [00:00<?, ?it/s]"
      ]
     },
     "metadata": {},
     "output_type": "display_data"
    },
    {
     "name": "stdout",
     "output_type": "stream",
     "text": [
      "Interations taken for prob method is 7\n",
      "Interations taken for deterministicc method is 4\n",
      "matrix size one is 7\n",
      "matrix size 2 is 3\n",
      "vertex 0 from matrix_1 and 4 from matrix_2_were chosen\n",
      "vertex 0 from matrix_1 and 1 from matrix_2_were chosen\n"
     ]
    },
    {
     "data": {
      "application/vnd.jupyter.widget-view+json": {
       "model_id": "286f2b4e23424d58b9005c94784787cc",
       "version_major": 2,
       "version_minor": 0
      },
      "text/plain": [
       "Computing:   0%|                                         | 0/15 [00:00<?, ?it/s]"
      ]
     },
     "metadata": {},
     "output_type": "display_data"
    },
    {
     "name": "stdout",
     "output_type": "stream",
     "text": [
      "Interations taken for prob method is 7\n",
      "Interations taken for deterministicc method is 4\n",
      "matrix size one is 7\n",
      "matrix size 2 is 3\n",
      "vertex 1 from matrix_1 and 4 from matrix_2_were chosen\n",
      "vertex 2 from matrix_1 and 0 from matrix_2_were chosen\n"
     ]
    },
    {
     "data": {
      "application/vnd.jupyter.widget-view+json": {
       "model_id": "afe7def636e8473c991307e83d33338e",
       "version_major": 2,
       "version_minor": 0
      },
      "text/plain": [
       "Computing:   0%|                                         | 0/15 [00:00<?, ?it/s]"
      ]
     },
     "metadata": {},
     "output_type": "display_data"
    },
    {
     "name": "stdout",
     "output_type": "stream",
     "text": [
      "Interations taken for prob method is 7\n",
      "Interations taken for deterministicc method is 4\n",
      "matrix size one is 7\n",
      "matrix size 2 is 3\n",
      "vertex 1 from matrix_1 and 4 from matrix_2_were chosen\n",
      "vertex 0 from matrix_1 and 0 from matrix_2_were chosen\n"
     ]
    },
    {
     "data": {
      "application/vnd.jupyter.widget-view+json": {
       "model_id": "7f40fa362fdb4fdea9227c0d4bf1afd1",
       "version_major": 2,
       "version_minor": 0
      },
      "text/plain": [
       "Computing:   0%|                                         | 0/15 [00:00<?, ?it/s]"
      ]
     },
     "metadata": {},
     "output_type": "display_data"
    },
    {
     "name": "stdout",
     "output_type": "stream",
     "text": [
      "Interations taken for prob method is 5\n",
      "Interations taken for deterministicc method is 4\n",
      "matrix size one is 7\n",
      "matrix size 2 is 3\n",
      "vertex 0 from matrix_1 and 2 from matrix_2_were chosen\n",
      "vertex 2 from matrix_1 and 1 from matrix_2_were chosen\n"
     ]
    },
    {
     "data": {
      "application/vnd.jupyter.widget-view+json": {
       "model_id": "39836ff3c00945c49c00d02e47cf0092",
       "version_major": 2,
       "version_minor": 0
      },
      "text/plain": [
       "Computing:   0%|                                         | 0/15 [00:00<?, ?it/s]"
      ]
     },
     "metadata": {},
     "output_type": "display_data"
    },
    {
     "name": "stdout",
     "output_type": "stream",
     "text": [
      "Interations taken for prob method is 4\n",
      "Interations taken for deterministicc method is 3\n",
      "matrix size one is 7\n",
      "matrix size 2 is 3\n",
      "vertex 1 from matrix_1 and 6 from matrix_2_were chosen\n",
      "vertex 0 from matrix_1 and 0 from matrix_2_were chosen\n"
     ]
    },
    {
     "data": {
      "application/vnd.jupyter.widget-view+json": {
       "model_id": "8802e59662cd4797880e38d1dcf9bad7",
       "version_major": 2,
       "version_minor": 0
      },
      "text/plain": [
       "Computing:   0%|                                         | 0/15 [00:00<?, ?it/s]"
      ]
     },
     "metadata": {},
     "output_type": "display_data"
    },
    {
     "name": "stdout",
     "output_type": "stream",
     "text": [
      "Interations taken for prob method is 7\n",
      "Interations taken for deterministicc method is 4\n",
      "matrix size one is 7\n",
      "matrix size 2 is 3\n",
      "vertex 0 from matrix_1 and 3 from matrix_2_were chosen\n",
      "vertex 1 from matrix_1 and 1 from matrix_2_were chosen\n"
     ]
    },
    {
     "data": {
      "application/vnd.jupyter.widget-view+json": {
       "model_id": "69cbfd5a49374629a81fac38f60225b7",
       "version_major": 2,
       "version_minor": 0
      },
      "text/plain": [
       "Computing:   0%|                                         | 0/15 [00:00<?, ?it/s]"
      ]
     },
     "metadata": {},
     "output_type": "display_data"
    },
    {
     "name": "stdout",
     "output_type": "stream",
     "text": [
      "Interations taken for prob method is 7\n",
      "Interations taken for deterministicc method is 3\n",
      "matrix size one is 7\n",
      "matrix size 2 is 3\n",
      "vertex 0 from matrix_1 and 1 from matrix_2_were chosen\n",
      "vertex 2 from matrix_1 and 1 from matrix_2_were chosen\n"
     ]
    },
    {
     "data": {
      "application/vnd.jupyter.widget-view+json": {
       "model_id": "ea557fcf316d4bf994ea34b516005962",
       "version_major": 2,
       "version_minor": 0
      },
      "text/plain": [
       "Computing:   0%|                                         | 0/15 [00:00<?, ?it/s]"
      ]
     },
     "metadata": {},
     "output_type": "display_data"
    },
    {
     "name": "stdout",
     "output_type": "stream",
     "text": [
      "Interations taken for prob method is 4\n",
      "Interations taken for deterministicc method is 4\n",
      "matrix size one is 7\n",
      "matrix size 2 is 3\n",
      "vertex 1 from matrix_1 and 4 from matrix_2_were chosen\n",
      "vertex 2 from matrix_1 and 0 from matrix_2_were chosen\n"
     ]
    },
    {
     "data": {
      "application/vnd.jupyter.widget-view+json": {
       "model_id": "684aeb235ea04a7d94367930cd66eeb9",
       "version_major": 2,
       "version_minor": 0
      },
      "text/plain": [
       "Computing:   0%|                                         | 0/15 [00:00<?, ?it/s]"
      ]
     },
     "metadata": {},
     "output_type": "display_data"
    },
    {
     "name": "stdout",
     "output_type": "stream",
     "text": [
      "Interations taken for prob method is 5\n",
      "Interations taken for deterministicc method is 4\n",
      "matrix size one is 7\n",
      "matrix size 2 is 3\n",
      "vertex 0 from matrix_1 and 0 from matrix_2_were chosen\n",
      "vertex 1 from matrix_1 and 1 from matrix_2_were chosen\n"
     ]
    },
    {
     "data": {
      "application/vnd.jupyter.widget-view+json": {
       "model_id": "947356fb21334380801e0d185799159e",
       "version_major": 2,
       "version_minor": 0
      },
      "text/plain": [
       "Computing:   0%|                                         | 0/15 [00:00<?, ?it/s]"
      ]
     },
     "metadata": {},
     "output_type": "display_data"
    },
    {
     "name": "stdout",
     "output_type": "stream",
     "text": [
      "Interations taken for prob method is 4\n",
      "Interations taken for deterministicc method is 3\n",
      "matrix size one is 7\n",
      "matrix size 2 is 3\n",
      "vertex 0 from matrix_1 and 6 from matrix_2_were chosen\n",
      "vertex 1 from matrix_1 and 1 from matrix_2_were chosen\n"
     ]
    },
    {
     "data": {
      "application/vnd.jupyter.widget-view+json": {
       "model_id": "baf992e84fd74998bfc1443624f101fd",
       "version_major": 2,
       "version_minor": 0
      },
      "text/plain": [
       "Computing:   0%|                                         | 0/15 [00:00<?, ?it/s]"
      ]
     },
     "metadata": {},
     "output_type": "display_data"
    },
    {
     "name": "stdout",
     "output_type": "stream",
     "text": [
      "Interations taken for prob method is 7\n",
      "Interations taken for deterministicc method is 4\n",
      "matrix size one is 7\n",
      "matrix size 2 is 3\n",
      "vertex 1 from matrix_1 and 6 from matrix_2_were chosen\n",
      "vertex 2 from matrix_1 and 0 from matrix_2_were chosen\n"
     ]
    },
    {
     "data": {
      "application/vnd.jupyter.widget-view+json": {
       "model_id": "c5fadae8582d4d26befaf45cbcf5bc87",
       "version_major": 2,
       "version_minor": 0
      },
      "text/plain": [
       "Computing:   0%|                                         | 0/15 [00:00<?, ?it/s]"
      ]
     },
     "metadata": {},
     "output_type": "display_data"
    },
    {
     "name": "stdout",
     "output_type": "stream",
     "text": [
      "Interations taken for prob method is 7\n",
      "Interations taken for deterministicc method is 5\n",
      "matrix size one is 7\n",
      "matrix size 2 is 3\n",
      "vertex 1 from matrix_1 and 0 from matrix_2_were chosen\n",
      "vertex 0 from matrix_1 and 0 from matrix_2_were chosen\n"
     ]
    },
    {
     "data": {
      "application/vnd.jupyter.widget-view+json": {
       "model_id": "0de19146101c4f15953d76de342b0d20",
       "version_major": 2,
       "version_minor": 0
      },
      "text/plain": [
       "Computing:   0%|                                         | 0/15 [00:00<?, ?it/s]"
      ]
     },
     "metadata": {},
     "output_type": "display_data"
    },
    {
     "name": "stdout",
     "output_type": "stream",
     "text": [
      "Interations taken for prob method is 4\n",
      "Interations taken for deterministicc method is 3\n",
      "matrix size one is 7\n",
      "matrix size 2 is 3\n",
      "vertex 1 from matrix_1 and 1 from matrix_2_were chosen\n",
      "vertex 0 from matrix_1 and 0 from matrix_2_were chosen\n"
     ]
    },
    {
     "data": {
      "application/vnd.jupyter.widget-view+json": {
       "model_id": "a00cb5b2fc9144b3b4d5b29556cd8d0a",
       "version_major": 2,
       "version_minor": 0
      },
      "text/plain": [
       "Computing:   0%|                                         | 0/15 [00:00<?, ?it/s]"
      ]
     },
     "metadata": {},
     "output_type": "display_data"
    },
    {
     "name": "stdout",
     "output_type": "stream",
     "text": [
      "Interations taken for prob method is 5\n",
      "Interations taken for deterministicc method is 4\n",
      "matrix size one is 7\n",
      "matrix size 2 is 3\n",
      "vertex 0 from matrix_1 and 5 from matrix_2_were chosen\n",
      "vertex 2 from matrix_1 and 1 from matrix_2_were chosen\n"
     ]
    },
    {
     "data": {
      "application/vnd.jupyter.widget-view+json": {
       "model_id": "a28dab8ffcee4b6984c27858ffe5cb8d",
       "version_major": 2,
       "version_minor": 0
      },
      "text/plain": [
       "Computing:   0%|                                         | 0/15 [00:00<?, ?it/s]"
      ]
     },
     "metadata": {},
     "output_type": "display_data"
    },
    {
     "name": "stdout",
     "output_type": "stream",
     "text": [
      "Interations taken for prob method is 5\n",
      "Interations taken for deterministicc method is 4\n",
      "matrix size one is 14\n",
      "matrix size 2 is 6\n",
      "vertex 1 from matrix_1 and 0 from matrix_2_were chosen\n",
      "vertex 1 from matrix_1 and 0 from matrix_2_were chosen\n"
     ]
    },
    {
     "data": {
      "application/vnd.jupyter.widget-view+json": {
       "model_id": "ddee6b6981a74e87965361fa7f7dc99c",
       "version_major": 2,
       "version_minor": 0
      },
      "text/plain": [
       "Computing:   0%|                                         | 0/15 [00:00<?, ?it/s]"
      ]
     },
     "metadata": {},
     "output_type": "display_data"
    },
    {
     "name": "stdout",
     "output_type": "stream",
     "text": [
      "Interations taken for prob method is 3\n",
      "Interations taken for deterministicc method is 5\n",
      "matrix size one is 14\n",
      "matrix size 2 is 6\n",
      "vertex 0 from matrix_1 and 7 from matrix_2_were chosen\n",
      "vertex 4 from matrix_1 and 1 from matrix_2_were chosen\n"
     ]
    },
    {
     "data": {
      "application/vnd.jupyter.widget-view+json": {
       "model_id": "a21140bb4b104ca0b06419f2057d5dd1",
       "version_major": 2,
       "version_minor": 0
      },
      "text/plain": [
       "Computing:   0%|                                         | 0/15 [00:00<?, ?it/s]"
      ]
     },
     "metadata": {},
     "output_type": "display_data"
    },
    {
     "name": "stdout",
     "output_type": "stream",
     "text": [
      "Interations taken for prob method is 9\n",
      "Interations taken for deterministicc method is 6\n",
      "matrix size one is 14\n",
      "matrix size 2 is 6\n",
      "vertex 1 from matrix_1 and 0 from matrix_2_were chosen\n",
      "vertex 5 from matrix_1 and 0 from matrix_2_were chosen\n"
     ]
    },
    {
     "data": {
      "application/vnd.jupyter.widget-view+json": {
       "model_id": "eb30ae6b52c540d0a303f2c4d030d64b",
       "version_major": 2,
       "version_minor": 0
      },
      "text/plain": [
       "Computing:   0%|                                         | 0/15 [00:00<?, ?it/s]"
      ]
     },
     "metadata": {},
     "output_type": "display_data"
    },
    {
     "name": "stdout",
     "output_type": "stream",
     "text": [
      "Interations taken for prob method is 4\n",
      "Interations taken for deterministicc method is 5\n",
      "matrix size one is 14\n",
      "matrix size 2 is 6\n",
      "vertex 1 from matrix_1 and 3 from matrix_2_were chosen\n",
      "vertex 4 from matrix_1 and 0 from matrix_2_were chosen\n"
     ]
    },
    {
     "data": {
      "application/vnd.jupyter.widget-view+json": {
       "model_id": "b34cd3f96e854c1097f5df3abf0be086",
       "version_major": 2,
       "version_minor": 0
      },
      "text/plain": [
       "Computing:   0%|                                         | 0/15 [00:00<?, ?it/s]"
      ]
     },
     "metadata": {},
     "output_type": "display_data"
    },
    {
     "name": "stdout",
     "output_type": "stream",
     "text": [
      "Interations taken for prob method is 3\n",
      "Interations taken for deterministicc method is 5\n",
      "matrix size one is 14\n",
      "matrix size 2 is 6\n",
      "vertex 1 from matrix_1 and 3 from matrix_2_were chosen\n",
      "vertex 5 from matrix_1 and 0 from matrix_2_were chosen\n"
     ]
    },
    {
     "data": {
      "application/vnd.jupyter.widget-view+json": {
       "model_id": "f695dc0fa932483f93599f8fd270d300",
       "version_major": 2,
       "version_minor": 0
      },
      "text/plain": [
       "Computing:   0%|                                         | 0/15 [00:00<?, ?it/s]"
      ]
     },
     "metadata": {},
     "output_type": "display_data"
    },
    {
     "name": "stdout",
     "output_type": "stream",
     "text": [
      "Interations taken for prob method is 4\n",
      "Interations taken for deterministicc method is 6\n",
      "matrix size one is 14\n",
      "matrix size 2 is 6\n",
      "vertex 1 from matrix_1 and 10 from matrix_2_were chosen\n",
      "vertex 3 from matrix_1 and 0 from matrix_2_were chosen\n"
     ]
    },
    {
     "data": {
      "application/vnd.jupyter.widget-view+json": {
       "model_id": "1595fb5f376d4d9989083ca3452de66c",
       "version_major": 2,
       "version_minor": 0
      },
      "text/plain": [
       "Computing:   0%|                                         | 0/15 [00:00<?, ?it/s]"
      ]
     },
     "metadata": {},
     "output_type": "display_data"
    },
    {
     "name": "stdout",
     "output_type": "stream",
     "text": [
      "Interations taken for prob method is 7\n",
      "Interations taken for deterministicc method is 6\n",
      "matrix size one is 14\n",
      "matrix size 2 is 6\n",
      "vertex 1 from matrix_1 and 5 from matrix_2_were chosen\n",
      "vertex 4 from matrix_1 and 0 from matrix_2_were chosen\n"
     ]
    },
    {
     "data": {
      "application/vnd.jupyter.widget-view+json": {
       "model_id": "90c6b92925c44804b7a1a75fe68a16c3",
       "version_major": 2,
       "version_minor": 0
      },
      "text/plain": [
       "Computing:   0%|                                         | 0/15 [00:00<?, ?it/s]"
      ]
     },
     "metadata": {},
     "output_type": "display_data"
    },
    {
     "name": "stdout",
     "output_type": "stream",
     "text": [
      "Interations taken for prob method is 6\n",
      "Interations taken for deterministicc method is 7\n",
      "matrix size one is 14\n",
      "matrix size 2 is 6\n",
      "vertex 0 from matrix_1 and 13 from matrix_2_were chosen\n",
      "vertex 0 from matrix_1 and 1 from matrix_2_were chosen\n"
     ]
    },
    {
     "data": {
      "application/vnd.jupyter.widget-view+json": {
       "model_id": "3e8b6c4a608f485fb4c9ad3931f5a767",
       "version_major": 2,
       "version_minor": 0
      },
      "text/plain": [
       "Computing:   0%|                                         | 0/15 [00:00<?, ?it/s]"
      ]
     },
     "metadata": {},
     "output_type": "display_data"
    },
    {
     "name": "stdout",
     "output_type": "stream",
     "text": [
      "Interations taken for prob method is 5\n",
      "Interations taken for deterministicc method is 7\n",
      "matrix size one is 14\n",
      "matrix size 2 is 6\n",
      "vertex 0 from matrix_1 and 8 from matrix_2_were chosen\n",
      "vertex 5 from matrix_1 and 1 from matrix_2_were chosen\n"
     ]
    },
    {
     "data": {
      "application/vnd.jupyter.widget-view+json": {
       "model_id": "0c0765c4fd6749feae928b9b0890daae",
       "version_major": 2,
       "version_minor": 0
      },
      "text/plain": [
       "Computing:   0%|                                         | 0/15 [00:00<?, ?it/s]"
      ]
     },
     "metadata": {},
     "output_type": "display_data"
    },
    {
     "name": "stdout",
     "output_type": "stream",
     "text": [
      "Interations taken for prob method is 5\n",
      "Interations taken for deterministicc method is 6\n",
      "matrix size one is 14\n",
      "matrix size 2 is 6\n",
      "vertex 0 from matrix_1 and 6 from matrix_2_were chosen\n",
      "vertex 0 from matrix_1 and 1 from matrix_2_were chosen\n"
     ]
    },
    {
     "data": {
      "application/vnd.jupyter.widget-view+json": {
       "model_id": "0918eafff3234d44a435418fbbae14b4",
       "version_major": 2,
       "version_minor": 0
      },
      "text/plain": [
       "Computing:   0%|                                         | 0/15 [00:00<?, ?it/s]"
      ]
     },
     "metadata": {},
     "output_type": "display_data"
    },
    {
     "name": "stdout",
     "output_type": "stream",
     "text": [
      "Interations taken for prob method is 5\n",
      "Interations taken for deterministicc method is 6\n",
      "matrix size one is 14\n",
      "matrix size 2 is 6\n",
      "vertex 0 from matrix_1 and 1 from matrix_2_were chosen\n",
      "vertex 3 from matrix_1 and 1 from matrix_2_were chosen\n"
     ]
    },
    {
     "data": {
      "application/vnd.jupyter.widget-view+json": {
       "model_id": "3451be19427c4375bf61e52e8ef02cde",
       "version_major": 2,
       "version_minor": 0
      },
      "text/plain": [
       "Computing:   0%|                                         | 0/15 [00:00<?, ?it/s]"
      ]
     },
     "metadata": {},
     "output_type": "display_data"
    },
    {
     "name": "stdout",
     "output_type": "stream",
     "text": [
      "Interations taken for prob method is 4\n",
      "Interations taken for deterministicc method is 4\n",
      "matrix size one is 14\n",
      "matrix size 2 is 6\n",
      "vertex 1 from matrix_1 and 6 from matrix_2_were chosen\n",
      "vertex 5 from matrix_1 and 0 from matrix_2_were chosen\n"
     ]
    },
    {
     "data": {
      "application/vnd.jupyter.widget-view+json": {
       "model_id": "43a386216c174f3b98eaf0a64291eca6",
       "version_major": 2,
       "version_minor": 0
      },
      "text/plain": [
       "Computing:   0%|                                         | 0/15 [00:00<?, ?it/s]"
      ]
     },
     "metadata": {},
     "output_type": "display_data"
    },
    {
     "name": "stdout",
     "output_type": "stream",
     "text": [
      "Interations taken for prob method is 4\n",
      "Interations taken for deterministicc method is 6\n",
      "matrix size one is 14\n",
      "matrix size 2 is 6\n",
      "vertex 0 from matrix_1 and 11 from matrix_2_were chosen\n",
      "vertex 1 from matrix_1 and 1 from matrix_2_were chosen\n"
     ]
    },
    {
     "data": {
      "application/vnd.jupyter.widget-view+json": {
       "model_id": "9880a276298e47b8ba8f74ca49d9d62f",
       "version_major": 2,
       "version_minor": 0
      },
      "text/plain": [
       "Computing:   0%|                                         | 0/15 [00:00<?, ?it/s]"
      ]
     },
     "metadata": {},
     "output_type": "display_data"
    },
    {
     "name": "stdout",
     "output_type": "stream",
     "text": [
      "Interations taken for prob method is 9\n",
      "Interations taken for deterministicc method is 7\n",
      "matrix size one is 14\n",
      "matrix size 2 is 6\n",
      "vertex 1 from matrix_1 and 11 from matrix_2_were chosen\n",
      "vertex 4 from matrix_1 and 0 from matrix_2_were chosen\n"
     ]
    },
    {
     "data": {
      "application/vnd.jupyter.widget-view+json": {
       "model_id": "49b78d803294419db0254fee982f1f47",
       "version_major": 2,
       "version_minor": 0
      },
      "text/plain": [
       "Computing:   0%|                                         | 0/15 [00:00<?, ?it/s]"
      ]
     },
     "metadata": {},
     "output_type": "display_data"
    },
    {
     "name": "stdout",
     "output_type": "stream",
     "text": [
      "Interations taken for prob method is 9\n",
      "Interations taken for deterministicc method is 7\n",
      "matrix size one is 14\n",
      "matrix size 2 is 6\n",
      "vertex 1 from matrix_1 and 9 from matrix_2_were chosen\n",
      "vertex 3 from matrix_1 and 0 from matrix_2_were chosen\n"
     ]
    },
    {
     "data": {
      "application/vnd.jupyter.widget-view+json": {
       "model_id": "859c7c178bf440609b034f4b0264cfd9",
       "version_major": 2,
       "version_minor": 0
      },
      "text/plain": [
       "Computing:   0%|                                         | 0/15 [00:00<?, ?it/s]"
      ]
     },
     "metadata": {},
     "output_type": "display_data"
    },
    {
     "name": "stdout",
     "output_type": "stream",
     "text": [
      "Interations taken for prob method is 9\n",
      "Interations taken for deterministicc method is 5\n",
      "matrix size one is 14\n",
      "matrix size 2 is 6\n",
      "vertex 0 from matrix_1 and 10 from matrix_2_were chosen\n",
      "vertex 5 from matrix_1 and 1 from matrix_2_were chosen\n"
     ]
    },
    {
     "data": {
      "application/vnd.jupyter.widget-view+json": {
       "model_id": "03b127f6f2d74b5bacc3c03daed99032",
       "version_major": 2,
       "version_minor": 0
      },
      "text/plain": [
       "Computing:   0%|                                         | 0/15 [00:00<?, ?it/s]"
      ]
     },
     "metadata": {},
     "output_type": "display_data"
    },
    {
     "name": "stdout",
     "output_type": "stream",
     "text": [
      "Interations taken for prob method is 4\n",
      "Interations taken for deterministicc method is 6\n",
      "matrix size one is 14\n",
      "matrix size 2 is 6\n",
      "vertex 1 from matrix_1 and 0 from matrix_2_were chosen\n",
      "vertex 4 from matrix_1 and 0 from matrix_2_were chosen\n"
     ]
    },
    {
     "data": {
      "application/vnd.jupyter.widget-view+json": {
       "model_id": "13d31285df0842e888121702c7194490",
       "version_major": 2,
       "version_minor": 0
      },
      "text/plain": [
       "Computing:   0%|                                         | 0/15 [00:00<?, ?it/s]"
      ]
     },
     "metadata": {},
     "output_type": "display_data"
    },
    {
     "name": "stdout",
     "output_type": "stream",
     "text": [
      "Interations taken for prob method is 4\n",
      "Interations taken for deterministicc method is 5\n",
      "matrix size one is 14\n",
      "matrix size 2 is 6\n",
      "vertex 1 from matrix_1 and 6 from matrix_2_were chosen\n",
      "vertex 1 from matrix_1 and 0 from matrix_2_were chosen\n"
     ]
    },
    {
     "data": {
      "application/vnd.jupyter.widget-view+json": {
       "model_id": "bf9c6e01d56e468d965b4563819f8ebf",
       "version_major": 2,
       "version_minor": 0
      },
      "text/plain": [
       "Computing:   0%|                                         | 0/15 [00:00<?, ?it/s]"
      ]
     },
     "metadata": {},
     "output_type": "display_data"
    },
    {
     "name": "stdout",
     "output_type": "stream",
     "text": [
      "Interations taken for prob method is 6\n",
      "Interations taken for deterministicc method is 7\n",
      "matrix size one is 14\n",
      "matrix size 2 is 6\n",
      "vertex 1 from matrix_1 and 10 from matrix_2_were chosen\n",
      "vertex 2 from matrix_1 and 0 from matrix_2_were chosen\n"
     ]
    },
    {
     "data": {
      "application/vnd.jupyter.widget-view+json": {
       "model_id": "6fc8ec3c62fc452e8d355dff8a29035e",
       "version_major": 2,
       "version_minor": 0
      },
      "text/plain": [
       "Computing:   0%|                                         | 0/15 [00:00<?, ?it/s]"
      ]
     },
     "metadata": {},
     "output_type": "display_data"
    },
    {
     "name": "stdout",
     "output_type": "stream",
     "text": [
      "Interations taken for prob method is 5\n",
      "Interations taken for deterministicc method is 6\n",
      "matrix size one is 14\n",
      "matrix size 2 is 6\n",
      "vertex 1 from matrix_1 and 2 from matrix_2_were chosen\n",
      "vertex 0 from matrix_1 and 0 from matrix_2_were chosen\n"
     ]
    },
    {
     "data": {
      "application/vnd.jupyter.widget-view+json": {
       "model_id": "3eeb20b6f28e403d8a37b46368b60dc3",
       "version_major": 2,
       "version_minor": 0
      },
      "text/plain": [
       "Computing:   0%|                                         | 0/15 [00:00<?, ?it/s]"
      ]
     },
     "metadata": {},
     "output_type": "display_data"
    },
    {
     "name": "stdout",
     "output_type": "stream",
     "text": [
      "Interations taken for prob method is 4\n",
      "Interations taken for deterministicc method is 6\n",
      "matrix size one is 21\n",
      "matrix size 2 is 9\n",
      "vertex 0 from matrix_1 and 8 from matrix_2_were chosen\n",
      "vertex 4 from matrix_1 and 1 from matrix_2_were chosen\n"
     ]
    },
    {
     "data": {
      "application/vnd.jupyter.widget-view+json": {
       "model_id": "de25de545a3e4519934e8603d74a479c",
       "version_major": 2,
       "version_minor": 0
      },
      "text/plain": [
       "Computing:   0%|                                         | 0/15 [00:00<?, ?it/s]"
      ]
     },
     "metadata": {},
     "output_type": "display_data"
    },
    {
     "name": "stdout",
     "output_type": "stream",
     "text": [
      "Interations taken for prob method is 5\n",
      "Interations taken for deterministicc method is 6\n",
      "matrix size one is 21\n",
      "matrix size 2 is 9\n",
      "vertex 1 from matrix_1 and 11 from matrix_2_were chosen\n",
      "vertex 1 from matrix_1 and 0 from matrix_2_were chosen\n"
     ]
    },
    {
     "data": {
      "application/vnd.jupyter.widget-view+json": {
       "model_id": "027087ad903e4e31ae4ee0ff02b15777",
       "version_major": 2,
       "version_minor": 0
      },
      "text/plain": [
       "Computing:   0%|                                         | 0/15 [00:00<?, ?it/s]"
      ]
     },
     "metadata": {},
     "output_type": "display_data"
    },
    {
     "name": "stdout",
     "output_type": "stream",
     "text": [
      "Interations taken for prob method is 6\n",
      "Interations taken for deterministicc method is 9\n",
      "matrix size one is 21\n",
      "matrix size 2 is 9\n",
      "vertex 1 from matrix_1 and 8 from matrix_2_were chosen\n",
      "vertex 3 from matrix_1 and 0 from matrix_2_were chosen\n"
     ]
    },
    {
     "data": {
      "application/vnd.jupyter.widget-view+json": {
       "model_id": "097b5a94a7144dc997f0d7cf3ab57278",
       "version_major": 2,
       "version_minor": 0
      },
      "text/plain": [
       "Computing:   0%|                                         | 0/15 [00:00<?, ?it/s]"
      ]
     },
     "metadata": {},
     "output_type": "display_data"
    },
    {
     "name": "stdout",
     "output_type": "stream",
     "text": [
      "Interations taken for prob method is 7\n",
      "Interations taken for deterministicc method is 7\n",
      "matrix size one is 21\n",
      "matrix size 2 is 9\n",
      "vertex 0 from matrix_1 and 2 from matrix_2_were chosen\n",
      "vertex 6 from matrix_1 and 1 from matrix_2_were chosen\n"
     ]
    },
    {
     "data": {
      "application/vnd.jupyter.widget-view+json": {
       "model_id": "041711570d664a59bbab6970946e640a",
       "version_major": 2,
       "version_minor": 0
      },
      "text/plain": [
       "Computing:   0%|                                         | 0/15 [00:00<?, ?it/s]"
      ]
     },
     "metadata": {},
     "output_type": "display_data"
    },
    {
     "name": "stdout",
     "output_type": "stream",
     "text": [
      "Interations taken for prob method is 4\n",
      "Interations taken for deterministicc method is 7\n",
      "matrix size one is 21\n",
      "matrix size 2 is 9\n",
      "vertex 0 from matrix_1 and 17 from matrix_2_were chosen\n",
      "vertex 2 from matrix_1 and 1 from matrix_2_were chosen\n"
     ]
    },
    {
     "data": {
      "application/vnd.jupyter.widget-view+json": {
       "model_id": "18ac2d2b33b943dbb2d9509183b0cc15",
       "version_major": 2,
       "version_minor": 0
      },
      "text/plain": [
       "Computing:   0%|                                         | 0/15 [00:00<?, ?it/s]"
      ]
     },
     "metadata": {},
     "output_type": "display_data"
    },
    {
     "name": "stdout",
     "output_type": "stream",
     "text": [
      "Interations taken for prob method is 6\n",
      "Interations taken for deterministicc method is 9\n",
      "matrix size one is 21\n",
      "matrix size 2 is 9\n",
      "vertex 0 from matrix_1 and 14 from matrix_2_were chosen\n",
      "vertex 5 from matrix_1 and 1 from matrix_2_were chosen\n"
     ]
    },
    {
     "data": {
      "application/vnd.jupyter.widget-view+json": {
       "model_id": "5427c5aacf5e44e085710e0910d5f86e",
       "version_major": 2,
       "version_minor": 0
      },
      "text/plain": [
       "Computing:   0%|                                         | 0/15 [00:00<?, ?it/s]"
      ]
     },
     "metadata": {},
     "output_type": "display_data"
    },
    {
     "name": "stdout",
     "output_type": "stream",
     "text": [
      "Interations taken for prob method is 6\n",
      "Interations taken for deterministicc method is 8\n",
      "matrix size one is 21\n",
      "matrix size 2 is 9\n",
      "vertex 1 from matrix_1 and 2 from matrix_2_were chosen\n",
      "vertex 0 from matrix_1 and 0 from matrix_2_were chosen\n"
     ]
    },
    {
     "data": {
      "application/vnd.jupyter.widget-view+json": {
       "model_id": "ce22443ac5b942239d4d6cf6fdd7b752",
       "version_major": 2,
       "version_minor": 0
      },
      "text/plain": [
       "Computing:   0%|                                         | 0/15 [00:00<?, ?it/s]"
      ]
     },
     "metadata": {},
     "output_type": "display_data"
    },
    {
     "name": "stdout",
     "output_type": "stream",
     "text": [
      "Interations taken for prob method is 5\n",
      "Interations taken for deterministicc method is 9\n",
      "matrix size one is 21\n",
      "matrix size 2 is 9\n",
      "vertex 1 from matrix_1 and 6 from matrix_2_were chosen\n",
      "vertex 7 from matrix_1 and 0 from matrix_2_were chosen\n"
     ]
    },
    {
     "data": {
      "application/vnd.jupyter.widget-view+json": {
       "model_id": "c8ead499c3e14e2da100c7d264fc33fa",
       "version_major": 2,
       "version_minor": 0
      },
      "text/plain": [
       "Computing:   0%|                                         | 0/15 [00:00<?, ?it/s]"
      ]
     },
     "metadata": {},
     "output_type": "display_data"
    },
    {
     "name": "stdout",
     "output_type": "stream",
     "text": [
      "Interations taken for prob method is 6\n",
      "Interations taken for deterministicc method is 8\n",
      "matrix size one is 21\n",
      "matrix size 2 is 9\n",
      "vertex 0 from matrix_1 and 0 from matrix_2_were chosen\n",
      "vertex 6 from matrix_1 and 1 from matrix_2_were chosen\n"
     ]
    },
    {
     "data": {
      "application/vnd.jupyter.widget-view+json": {
       "model_id": "5a5e5439102e461187502aeb993cd43a",
       "version_major": 2,
       "version_minor": 0
      },
      "text/plain": [
       "Computing:   0%|                                         | 0/15 [00:00<?, ?it/s]"
      ]
     },
     "metadata": {},
     "output_type": "display_data"
    },
    {
     "name": "stdout",
     "output_type": "stream",
     "text": [
      "Interations taken for prob method is 6\n",
      "Interations taken for deterministicc method is 7\n",
      "matrix size one is 21\n",
      "matrix size 2 is 9\n",
      "vertex 1 from matrix_1 and 0 from matrix_2_were chosen\n",
      "vertex 7 from matrix_1 and 0 from matrix_2_were chosen\n"
     ]
    },
    {
     "data": {
      "application/vnd.jupyter.widget-view+json": {
       "model_id": "3c845662aea14f3c8955870582a07ff3",
       "version_major": 2,
       "version_minor": 0
      },
      "text/plain": [
       "Computing:   0%|                                         | 0/15 [00:00<?, ?it/s]"
      ]
     },
     "metadata": {},
     "output_type": "display_data"
    },
    {
     "name": "stdout",
     "output_type": "stream",
     "text": [
      "Interations taken for prob method is 4\n",
      "Interations taken for deterministicc method is 7\n",
      "matrix size one is 21\n",
      "matrix size 2 is 9\n",
      "vertex 1 from matrix_1 and 9 from matrix_2_were chosen\n",
      "vertex 2 from matrix_1 and 0 from matrix_2_were chosen\n"
     ]
    },
    {
     "data": {
      "application/vnd.jupyter.widget-view+json": {
       "model_id": "90ff6f424c9e4478b836d4e3c11925b7",
       "version_major": 2,
       "version_minor": 0
      },
      "text/plain": [
       "Computing:   0%|                                         | 0/15 [00:00<?, ?it/s]"
      ]
     },
     "metadata": {},
     "output_type": "display_data"
    },
    {
     "name": "stdout",
     "output_type": "stream",
     "text": [
      "Interations taken for prob method is 3\n",
      "Interations taken for deterministicc method is 7\n",
      "matrix size one is 21\n",
      "matrix size 2 is 9\n",
      "vertex 0 from matrix_1 and 10 from matrix_2_were chosen\n",
      "vertex 5 from matrix_1 and 1 from matrix_2_were chosen\n"
     ]
    },
    {
     "data": {
      "application/vnd.jupyter.widget-view+json": {
       "model_id": "96b83cfb11594f86aeff7506c7e10edd",
       "version_major": 2,
       "version_minor": 0
      },
      "text/plain": [
       "Computing:   0%|                                         | 0/15 [00:00<?, ?it/s]"
      ]
     },
     "metadata": {},
     "output_type": "display_data"
    },
    {
     "name": "stdout",
     "output_type": "stream",
     "text": [
      "Interations taken for prob method is 6\n",
      "Interations taken for deterministicc method is 8\n",
      "matrix size one is 21\n",
      "matrix size 2 is 9\n",
      "vertex 1 from matrix_1 and 4 from matrix_2_were chosen\n",
      "vertex 6 from matrix_1 and 0 from matrix_2_were chosen\n"
     ]
    },
    {
     "data": {
      "application/vnd.jupyter.widget-view+json": {
       "model_id": "6d518a8673184ea0bc5c3168c43249d4",
       "version_major": 2,
       "version_minor": 0
      },
      "text/plain": [
       "Computing:   0%|                                         | 0/15 [00:00<?, ?it/s]"
      ]
     },
     "metadata": {},
     "output_type": "display_data"
    },
    {
     "name": "stdout",
     "output_type": "stream",
     "text": [
      "Interations taken for prob method is 7\n",
      "Interations taken for deterministicc method is 7\n",
      "matrix size one is 21\n",
      "matrix size 2 is 9\n",
      "vertex 0 from matrix_1 and 10 from matrix_2_were chosen\n",
      "vertex 6 from matrix_1 and 1 from matrix_2_were chosen\n"
     ]
    },
    {
     "data": {
      "application/vnd.jupyter.widget-view+json": {
       "model_id": "86a41b4a92be4123bb6d995ceff4f273",
       "version_major": 2,
       "version_minor": 0
      },
      "text/plain": [
       "Computing:   0%|                                         | 0/15 [00:00<?, ?it/s]"
      ]
     },
     "metadata": {},
     "output_type": "display_data"
    },
    {
     "name": "stdout",
     "output_type": "stream",
     "text": [
      "Interations taken for prob method is 4\n",
      "Interations taken for deterministicc method is 7\n",
      "matrix size one is 21\n",
      "matrix size 2 is 9\n",
      "vertex 1 from matrix_1 and 19 from matrix_2_were chosen\n",
      "vertex 1 from matrix_1 and 0 from matrix_2_were chosen\n"
     ]
    },
    {
     "data": {
      "application/vnd.jupyter.widget-view+json": {
       "model_id": "5f1adeff39f24919a55608a0ec44c8d4",
       "version_major": 2,
       "version_minor": 0
      },
      "text/plain": [
       "Computing:   0%|                                         | 0/15 [00:00<?, ?it/s]"
      ]
     },
     "metadata": {},
     "output_type": "display_data"
    },
    {
     "name": "stdout",
     "output_type": "stream",
     "text": [
      "Interations taken for prob method is 7\n",
      "Interations taken for deterministicc method is 9\n",
      "matrix size one is 21\n",
      "matrix size 2 is 9\n",
      "vertex 0 from matrix_1 and 19 from matrix_2_were chosen\n",
      "vertex 3 from matrix_1 and 1 from matrix_2_were chosen\n"
     ]
    },
    {
     "data": {
      "application/vnd.jupyter.widget-view+json": {
       "model_id": "cadfa7ad6c1e411f90d0f8e474ffe4cd",
       "version_major": 2,
       "version_minor": 0
      },
      "text/plain": [
       "Computing:   0%|                                         | 0/15 [00:00<?, ?it/s]"
      ]
     },
     "metadata": {},
     "output_type": "display_data"
    },
    {
     "name": "stdout",
     "output_type": "stream",
     "text": [
      "Interations taken for prob method is 6\n",
      "Interations taken for deterministicc method is 7\n",
      "matrix size one is 21\n",
      "matrix size 2 is 9\n",
      "vertex 1 from matrix_1 and 1 from matrix_2_were chosen\n",
      "vertex 1 from matrix_1 and 0 from matrix_2_were chosen\n"
     ]
    },
    {
     "data": {
      "application/vnd.jupyter.widget-view+json": {
       "model_id": "0e27084635fe44c4807e6271b54149ba",
       "version_major": 2,
       "version_minor": 0
      },
      "text/plain": [
       "Computing:   0%|                                         | 0/15 [00:00<?, ?it/s]"
      ]
     },
     "metadata": {},
     "output_type": "display_data"
    },
    {
     "name": "stdout",
     "output_type": "stream",
     "text": [
      "Interations taken for prob method is 4\n",
      "Interations taken for deterministicc method is 7\n",
      "matrix size one is 21\n",
      "matrix size 2 is 9\n",
      "vertex 1 from matrix_1 and 5 from matrix_2_were chosen\n",
      "vertex 6 from matrix_1 and 0 from matrix_2_were chosen\n"
     ]
    },
    {
     "data": {
      "application/vnd.jupyter.widget-view+json": {
       "model_id": "7e51fa1a7ad5437d807ad9a296aa541e",
       "version_major": 2,
       "version_minor": 0
      },
      "text/plain": [
       "Computing:   0%|                                         | 0/15 [00:00<?, ?it/s]"
      ]
     },
     "metadata": {},
     "output_type": "display_data"
    },
    {
     "name": "stdout",
     "output_type": "stream",
     "text": [
      "Interations taken for prob method is 6\n",
      "Interations taken for deterministicc method is 8\n",
      "matrix size one is 21\n",
      "matrix size 2 is 9\n",
      "vertex 1 from matrix_1 and 9 from matrix_2_were chosen\n",
      "vertex 1 from matrix_1 and 0 from matrix_2_were chosen\n"
     ]
    },
    {
     "data": {
      "application/vnd.jupyter.widget-view+json": {
       "model_id": "09268d6a19e04d9c8ca927b225c4364e",
       "version_major": 2,
       "version_minor": 0
      },
      "text/plain": [
       "Computing:   0%|                                         | 0/15 [00:00<?, ?it/s]"
      ]
     },
     "metadata": {},
     "output_type": "display_data"
    },
    {
     "name": "stdout",
     "output_type": "stream",
     "text": [
      "Interations taken for prob method is 6\n",
      "Interations taken for deterministicc method is 9\n",
      "matrix size one is 21\n",
      "matrix size 2 is 9\n",
      "vertex 0 from matrix_1 and 18 from matrix_2_were chosen\n",
      "vertex 7 from matrix_1 and 1 from matrix_2_were chosen\n"
     ]
    },
    {
     "data": {
      "application/vnd.jupyter.widget-view+json": {
       "model_id": "6614c7b6ca88410295f84652df695111",
       "version_major": 2,
       "version_minor": 0
      },
      "text/plain": [
       "Computing:   0%|                                         | 0/15 [00:00<?, ?it/s]"
      ]
     },
     "metadata": {},
     "output_type": "display_data"
    },
    {
     "name": "stdout",
     "output_type": "stream",
     "text": [
      "Interations taken for prob method is 6\n",
      "Interations taken for deterministicc method is 9\n",
      "matrix size one is 8\n",
      "matrix size 2 is 2\n",
      "vertex 1 from matrix_1 and 1 from matrix_2_were chosen\n",
      "vertex 0 from matrix_1 and 0 from matrix_2_were chosen\n"
     ]
    },
    {
     "data": {
      "application/vnd.jupyter.widget-view+json": {
       "model_id": "45e3e81b8ba44a47831d86ffea794513",
       "version_major": 2,
       "version_minor": 0
      },
      "text/plain": [
       "Computing:   0%|                                         | 0/15 [00:00<?, ?it/s]"
      ]
     },
     "metadata": {},
     "output_type": "display_data"
    },
    {
     "name": "stdout",
     "output_type": "stream",
     "text": [
      "Interations taken for prob method is 4\n",
      "Interations taken for deterministicc method is 4\n",
      "matrix size one is 8\n",
      "matrix size 2 is 2\n",
      "vertex 1 from matrix_1 and 3 from matrix_2_were chosen\n",
      "vertex 0 from matrix_1 and 0 from matrix_2_were chosen\n"
     ]
    },
    {
     "data": {
      "application/vnd.jupyter.widget-view+json": {
       "model_id": "9b20bae84f18497e9957923a2104f115",
       "version_major": 2,
       "version_minor": 0
      },
      "text/plain": [
       "Computing:   0%|                                         | 0/15 [00:00<?, ?it/s]"
      ]
     },
     "metadata": {},
     "output_type": "display_data"
    },
    {
     "name": "stdout",
     "output_type": "stream",
     "text": [
      "Interations taken for prob method is 7\n",
      "Interations taken for deterministicc method is 4\n",
      "matrix size one is 8\n",
      "matrix size 2 is 2\n",
      "vertex 1 from matrix_1 and 3 from matrix_2_were chosen\n",
      "vertex 1 from matrix_1 and 0 from matrix_2_were chosen\n"
     ]
    },
    {
     "data": {
      "application/vnd.jupyter.widget-view+json": {
       "model_id": "b04d987b210f453396742e14e9db9f5e",
       "version_major": 2,
       "version_minor": 0
      },
      "text/plain": [
       "Computing:   0%|                                         | 0/15 [00:00<?, ?it/s]"
      ]
     },
     "metadata": {},
     "output_type": "display_data"
    },
    {
     "name": "stdout",
     "output_type": "stream",
     "text": [
      "Interations taken for prob method is 5\n",
      "Interations taken for deterministicc method is 4\n",
      "matrix size one is 8\n",
      "matrix size 2 is 2\n",
      "vertex 0 from matrix_1 and 0 from matrix_2_were chosen\n",
      "vertex 1 from matrix_1 and 1 from matrix_2_were chosen\n"
     ]
    },
    {
     "data": {
      "application/vnd.jupyter.widget-view+json": {
       "model_id": "353778a623c540b2a15d50eb65bf9b50",
       "version_major": 2,
       "version_minor": 0
      },
      "text/plain": [
       "Computing:   0%|                                         | 0/15 [00:00<?, ?it/s]"
      ]
     },
     "metadata": {},
     "output_type": "display_data"
    },
    {
     "name": "stdout",
     "output_type": "stream",
     "text": [
      "Interations taken for prob method is 6\n",
      "Interations taken for deterministicc method is 4\n",
      "matrix size one is 8\n",
      "matrix size 2 is 2\n",
      "vertex 1 from matrix_1 and 6 from matrix_2_were chosen\n",
      "vertex 0 from matrix_1 and 0 from matrix_2_were chosen\n"
     ]
    },
    {
     "data": {
      "application/vnd.jupyter.widget-view+json": {
       "model_id": "bc2d59fac6d546d49604195485d4dfa5",
       "version_major": 2,
       "version_minor": 0
      },
      "text/plain": [
       "Computing:   0%|                                         | 0/15 [00:00<?, ?it/s]"
      ]
     },
     "metadata": {},
     "output_type": "display_data"
    },
    {
     "name": "stdout",
     "output_type": "stream",
     "text": [
      "Interations taken for prob method is 7\n",
      "Interations taken for deterministicc method is 4\n",
      "matrix size one is 8\n",
      "matrix size 2 is 2\n",
      "vertex 0 from matrix_1 and 2 from matrix_2_were chosen\n",
      "vertex 0 from matrix_1 and 1 from matrix_2_were chosen\n"
     ]
    },
    {
     "data": {
      "application/vnd.jupyter.widget-view+json": {
       "model_id": "e3248c06f01147f8a09381e891630dc4",
       "version_major": 2,
       "version_minor": 0
      },
      "text/plain": [
       "Computing:   0%|                                         | 0/15 [00:00<?, ?it/s]"
      ]
     },
     "metadata": {},
     "output_type": "display_data"
    },
    {
     "name": "stdout",
     "output_type": "stream",
     "text": [
      "Interations taken for prob method is 4\n",
      "Interations taken for deterministicc method is 3\n",
      "matrix size one is 8\n",
      "matrix size 2 is 2\n",
      "vertex 1 from matrix_1 and 4 from matrix_2_were chosen\n",
      "vertex 0 from matrix_1 and 0 from matrix_2_were chosen\n"
     ]
    },
    {
     "data": {
      "application/vnd.jupyter.widget-view+json": {
       "model_id": "cad2941bcc2c433b8dcac6b0eb2a4c35",
       "version_major": 2,
       "version_minor": 0
      },
      "text/plain": [
       "Computing:   0%|                                         | 0/15 [00:00<?, ?it/s]"
      ]
     },
     "metadata": {},
     "output_type": "display_data"
    },
    {
     "name": "stdout",
     "output_type": "stream",
     "text": [
      "Interations taken for prob method is 4\n",
      "Interations taken for deterministicc method is 3\n",
      "matrix size one is 8\n",
      "matrix size 2 is 2\n",
      "vertex 1 from matrix_1 and 2 from matrix_2_were chosen\n",
      "vertex 1 from matrix_1 and 0 from matrix_2_were chosen\n"
     ]
    },
    {
     "data": {
      "application/vnd.jupyter.widget-view+json": {
       "model_id": "e9b275a937204eceb5fbc424a61efb8b",
       "version_major": 2,
       "version_minor": 0
      },
      "text/plain": [
       "Computing:   0%|                                         | 0/15 [00:00<?, ?it/s]"
      ]
     },
     "metadata": {},
     "output_type": "display_data"
    },
    {
     "name": "stdout",
     "output_type": "stream",
     "text": [
      "Interations taken for prob method is 3\n",
      "Interations taken for deterministicc method is 3\n",
      "matrix size one is 8\n",
      "matrix size 2 is 2\n",
      "vertex 1 from matrix_1 and 6 from matrix_2_were chosen\n",
      "vertex 0 from matrix_1 and 0 from matrix_2_were chosen\n"
     ]
    },
    {
     "data": {
      "application/vnd.jupyter.widget-view+json": {
       "model_id": "95abcfed2680431c89abfa138972f7ba",
       "version_major": 2,
       "version_minor": 0
      },
      "text/plain": [
       "Computing:   0%|                                         | 0/15 [00:00<?, ?it/s]"
      ]
     },
     "metadata": {},
     "output_type": "display_data"
    },
    {
     "name": "stdout",
     "output_type": "stream",
     "text": [
      "Interations taken for prob method is 7\n",
      "Interations taken for deterministicc method is 4\n",
      "matrix size one is 8\n",
      "matrix size 2 is 2\n",
      "vertex 0 from matrix_1 and 4 from matrix_2_were chosen\n",
      "vertex 1 from matrix_1 and 1 from matrix_2_were chosen\n"
     ]
    },
    {
     "data": {
      "application/vnd.jupyter.widget-view+json": {
       "model_id": "e9b5c5b152294e968fc45e34e57fe664",
       "version_major": 2,
       "version_minor": 0
      },
      "text/plain": [
       "Computing:   0%|                                         | 0/15 [00:00<?, ?it/s]"
      ]
     },
     "metadata": {},
     "output_type": "display_data"
    },
    {
     "name": "stdout",
     "output_type": "stream",
     "text": [
      "Interations taken for prob method is 4\n",
      "Interations taken for deterministicc method is 4\n",
      "matrix size one is 8\n",
      "matrix size 2 is 2\n",
      "vertex 0 from matrix_1 and 3 from matrix_2_were chosen\n",
      "vertex 0 from matrix_1 and 1 from matrix_2_were chosen\n"
     ]
    },
    {
     "data": {
      "application/vnd.jupyter.widget-view+json": {
       "model_id": "1738078a63c844968f4b8ba622bff9a4",
       "version_major": 2,
       "version_minor": 0
      },
      "text/plain": [
       "Computing:   0%|                                         | 0/15 [00:00<?, ?it/s]"
      ]
     },
     "metadata": {},
     "output_type": "display_data"
    },
    {
     "name": "stdout",
     "output_type": "stream",
     "text": [
      "Interations taken for prob method is 3\n",
      "Interations taken for deterministicc method is 3\n",
      "matrix size one is 8\n",
      "matrix size 2 is 2\n",
      "vertex 1 from matrix_1 and 0 from matrix_2_were chosen\n",
      "vertex 1 from matrix_1 and 0 from matrix_2_were chosen\n"
     ]
    },
    {
     "data": {
      "application/vnd.jupyter.widget-view+json": {
       "model_id": "af2be4a14796426593c35233cc28380c",
       "version_major": 2,
       "version_minor": 0
      },
      "text/plain": [
       "Computing:   0%|                                         | 0/15 [00:00<?, ?it/s]"
      ]
     },
     "metadata": {},
     "output_type": "display_data"
    },
    {
     "name": "stdout",
     "output_type": "stream",
     "text": [
      "Interations taken for prob method is 3\n",
      "Interations taken for deterministicc method is 3\n",
      "matrix size one is 8\n",
      "matrix size 2 is 2\n",
      "vertex 1 from matrix_1 and 2 from matrix_2_were chosen\n",
      "vertex 1 from matrix_1 and 0 from matrix_2_were chosen\n"
     ]
    },
    {
     "data": {
      "application/vnd.jupyter.widget-view+json": {
       "model_id": "dcdb346de26c4783ae64ec274f9d8f6a",
       "version_major": 2,
       "version_minor": 0
      },
      "text/plain": [
       "Computing:   0%|                                         | 0/15 [00:00<?, ?it/s]"
      ]
     },
     "metadata": {},
     "output_type": "display_data"
    },
    {
     "name": "stdout",
     "output_type": "stream",
     "text": [
      "Interations taken for prob method is 5\n",
      "Interations taken for deterministicc method is 3\n",
      "matrix size one is 8\n",
      "matrix size 2 is 2\n",
      "vertex 1 from matrix_1 and 0 from matrix_2_were chosen\n",
      "vertex 0 from matrix_1 and 0 from matrix_2_were chosen\n"
     ]
    },
    {
     "data": {
      "application/vnd.jupyter.widget-view+json": {
       "model_id": "433b03daa3524ce79655bf80ffaae685",
       "version_major": 2,
       "version_minor": 0
      },
      "text/plain": [
       "Computing:   0%|                                         | 0/15 [00:00<?, ?it/s]"
      ]
     },
     "metadata": {},
     "output_type": "display_data"
    },
    {
     "name": "stdout",
     "output_type": "stream",
     "text": [
      "Interations taken for prob method is 3\n",
      "Interations taken for deterministicc method is 3\n",
      "matrix size one is 8\n",
      "matrix size 2 is 2\n",
      "vertex 0 from matrix_1 and 6 from matrix_2_were chosen\n",
      "vertex 0 from matrix_1 and 1 from matrix_2_were chosen\n"
     ]
    },
    {
     "data": {
      "application/vnd.jupyter.widget-view+json": {
       "model_id": "63d7c34160f8427ebb7412edb849c6e5",
       "version_major": 2,
       "version_minor": 0
      },
      "text/plain": [
       "Computing:   0%|                                         | 0/15 [00:00<?, ?it/s]"
      ]
     },
     "metadata": {},
     "output_type": "display_data"
    },
    {
     "name": "stdout",
     "output_type": "stream",
     "text": [
      "Interations taken for prob method is 4\n",
      "Interations taken for deterministicc method is 3\n",
      "matrix size one is 8\n",
      "matrix size 2 is 2\n",
      "vertex 0 from matrix_1 and 4 from matrix_2_were chosen\n",
      "vertex 1 from matrix_1 and 1 from matrix_2_were chosen\n"
     ]
    },
    {
     "data": {
      "application/vnd.jupyter.widget-view+json": {
       "model_id": "3334b9486ba7410eac84cc9eaeeb210b",
       "version_major": 2,
       "version_minor": 0
      },
      "text/plain": [
       "Computing:   0%|                                         | 0/15 [00:00<?, ?it/s]"
      ]
     },
     "metadata": {},
     "output_type": "display_data"
    },
    {
     "name": "stdout",
     "output_type": "stream",
     "text": [
      "Interations taken for prob method is 4\n",
      "Interations taken for deterministicc method is 4\n",
      "matrix size one is 8\n",
      "matrix size 2 is 2\n",
      "vertex 1 from matrix_1 and 7 from matrix_2_were chosen\n",
      "vertex 0 from matrix_1 and 0 from matrix_2_were chosen\n"
     ]
    },
    {
     "data": {
      "application/vnd.jupyter.widget-view+json": {
       "model_id": "7bd223b3fbde4188a2288e34214fdc09",
       "version_major": 2,
       "version_minor": 0
      },
      "text/plain": [
       "Computing:   0%|                                         | 0/15 [00:00<?, ?it/s]"
      ]
     },
     "metadata": {},
     "output_type": "display_data"
    },
    {
     "name": "stdout",
     "output_type": "stream",
     "text": [
      "Interations taken for prob method is 7\n",
      "Interations taken for deterministicc method is 5\n",
      "matrix size one is 8\n",
      "matrix size 2 is 2\n",
      "vertex 1 from matrix_1 and 5 from matrix_2_were chosen\n",
      "vertex 1 from matrix_1 and 0 from matrix_2_were chosen\n"
     ]
    },
    {
     "data": {
      "application/vnd.jupyter.widget-view+json": {
       "model_id": "0ad9798055bd4c3dbecb2c1eaf02b1f8",
       "version_major": 2,
       "version_minor": 0
      },
      "text/plain": [
       "Computing:   0%|                                         | 0/15 [00:00<?, ?it/s]"
      ]
     },
     "metadata": {},
     "output_type": "display_data"
    },
    {
     "name": "stdout",
     "output_type": "stream",
     "text": [
      "Interations taken for prob method is 7\n",
      "Interations taken for deterministicc method is 5\n",
      "matrix size one is 8\n",
      "matrix size 2 is 2\n",
      "vertex 0 from matrix_1 and 7 from matrix_2_were chosen\n",
      "vertex 1 from matrix_1 and 1 from matrix_2_were chosen\n"
     ]
    },
    {
     "data": {
      "application/vnd.jupyter.widget-view+json": {
       "model_id": "4e62fd8b522c44b596053b1970e89433",
       "version_major": 2,
       "version_minor": 0
      },
      "text/plain": [
       "Computing:   0%|                                         | 0/15 [00:00<?, ?it/s]"
      ]
     },
     "metadata": {},
     "output_type": "display_data"
    },
    {
     "name": "stdout",
     "output_type": "stream",
     "text": [
      "Interations taken for prob method is 7\n",
      "Interations taken for deterministicc method is 4\n",
      "matrix size one is 8\n",
      "matrix size 2 is 2\n",
      "vertex 1 from matrix_1 and 4 from matrix_2_were chosen\n",
      "vertex 0 from matrix_1 and 0 from matrix_2_were chosen\n"
     ]
    },
    {
     "data": {
      "application/vnd.jupyter.widget-view+json": {
       "model_id": "a8e2daed370e4cc394f6cbe46fa3929e",
       "version_major": 2,
       "version_minor": 0
      },
      "text/plain": [
       "Computing:   0%|                                         | 0/15 [00:00<?, ?it/s]"
      ]
     },
     "metadata": {},
     "output_type": "display_data"
    },
    {
     "name": "stdout",
     "output_type": "stream",
     "text": [
      "Interations taken for prob method is 7\n",
      "Interations taken for deterministicc method is 4\n",
      "matrix size one is 16\n",
      "matrix size 2 is 4\n",
      "vertex 0 from matrix_1 and 1 from matrix_2_were chosen\n",
      "vertex 0 from matrix_1 and 1 from matrix_2_were chosen\n"
     ]
    },
    {
     "data": {
      "application/vnd.jupyter.widget-view+json": {
       "model_id": "75f245ac03334133b4fa1f022254eba0",
       "version_major": 2,
       "version_minor": 0
      },
      "text/plain": [
       "Computing:   0%|                                         | 0/15 [00:00<?, ?it/s]"
      ]
     },
     "metadata": {},
     "output_type": "display_data"
    },
    {
     "name": "stdout",
     "output_type": "stream",
     "text": [
      "Interations taken for prob method is 4\n",
      "Interations taken for deterministicc method is 5\n",
      "matrix size one is 16\n",
      "matrix size 2 is 4\n",
      "vertex 1 from matrix_1 and 14 from matrix_2_were chosen\n",
      "vertex 1 from matrix_1 and 0 from matrix_2_were chosen\n"
     ]
    },
    {
     "data": {
      "application/vnd.jupyter.widget-view+json": {
       "model_id": "1a887b6c70824dc984179f6c78e66cbf",
       "version_major": 2,
       "version_minor": 0
      },
      "text/plain": [
       "Computing:   0%|                                         | 0/15 [00:00<?, ?it/s]"
      ]
     },
     "metadata": {},
     "output_type": "display_data"
    },
    {
     "name": "stdout",
     "output_type": "stream",
     "text": [
      "Interations taken for prob method is 9\n",
      "Interations taken for deterministicc method is 5\n",
      "matrix size one is 16\n",
      "matrix size 2 is 4\n",
      "vertex 0 from matrix_1 and 15 from matrix_2_were chosen\n",
      "vertex 0 from matrix_1 and 1 from matrix_2_were chosen\n"
     ]
    },
    {
     "data": {
      "application/vnd.jupyter.widget-view+json": {
       "model_id": "ab546bd168e542c5ae13108fc377b18f",
       "version_major": 2,
       "version_minor": 0
      },
      "text/plain": [
       "Computing:   0%|                                         | 0/15 [00:00<?, ?it/s]"
      ]
     },
     "metadata": {},
     "output_type": "display_data"
    },
    {
     "name": "stdout",
     "output_type": "stream",
     "text": [
      "Interations taken for prob method is 4\n",
      "Interations taken for deterministicc method is 5\n",
      "matrix size one is 16\n",
      "matrix size 2 is 4\n",
      "vertex 0 from matrix_1 and 15 from matrix_2_were chosen\n",
      "vertex 2 from matrix_1 and 1 from matrix_2_were chosen\n"
     ]
    },
    {
     "data": {
      "application/vnd.jupyter.widget-view+json": {
       "model_id": "8b6a511a250f420f977ac10b6b3abcec",
       "version_major": 2,
       "version_minor": 0
      },
      "text/plain": [
       "Computing:   0%|                                         | 0/15 [00:00<?, ?it/s]"
      ]
     },
     "metadata": {},
     "output_type": "display_data"
    },
    {
     "name": "stdout",
     "output_type": "stream",
     "text": [
      "Interations taken for prob method is 6\n",
      "Interations taken for deterministicc method is 6\n",
      "matrix size one is 16\n",
      "matrix size 2 is 4\n",
      "vertex 0 from matrix_1 and 0 from matrix_2_were chosen\n",
      "vertex 3 from matrix_1 and 1 from matrix_2_were chosen\n"
     ]
    },
    {
     "data": {
      "application/vnd.jupyter.widget-view+json": {
       "model_id": "438b0433c2c9494b9b03355c82e3f7aa",
       "version_major": 2,
       "version_minor": 0
      },
      "text/plain": [
       "Computing:   0%|                                         | 0/15 [00:00<?, ?it/s]"
      ]
     },
     "metadata": {},
     "output_type": "display_data"
    },
    {
     "name": "stdout",
     "output_type": "stream",
     "text": [
      "Interations taken for prob method is 2\n",
      "Interations taken for deterministicc method is 4\n",
      "matrix size one is 16\n",
      "matrix size 2 is 4\n",
      "vertex 0 from matrix_1 and 3 from matrix_2_were chosen\n",
      "vertex 2 from matrix_1 and 1 from matrix_2_were chosen\n"
     ]
    },
    {
     "data": {
      "application/vnd.jupyter.widget-view+json": {
       "model_id": "9ba26d31440546c6aef18bab1a00d3e7",
       "version_major": 2,
       "version_minor": 0
      },
      "text/plain": [
       "Computing:   0%|                                         | 0/15 [00:00<?, ?it/s]"
      ]
     },
     "metadata": {},
     "output_type": "display_data"
    },
    {
     "name": "stdout",
     "output_type": "stream",
     "text": [
      "Interations taken for prob method is 4\n",
      "Interations taken for deterministicc method is 5\n",
      "matrix size one is 16\n",
      "matrix size 2 is 4\n",
      "vertex 1 from matrix_1 and 6 from matrix_2_were chosen\n",
      "vertex 1 from matrix_1 and 0 from matrix_2_were chosen\n"
     ]
    },
    {
     "data": {
      "application/vnd.jupyter.widget-view+json": {
       "model_id": "2e34abf6811d458883dd4ec69e4d04af",
       "version_major": 2,
       "version_minor": 0
      },
      "text/plain": [
       "Computing:   0%|                                         | 0/15 [00:00<?, ?it/s]"
      ]
     },
     "metadata": {},
     "output_type": "display_data"
    },
    {
     "name": "stdout",
     "output_type": "stream",
     "text": [
      "Interations taken for prob method is 4\n",
      "Interations taken for deterministicc method is 5\n",
      "matrix size one is 16\n",
      "matrix size 2 is 4\n",
      "vertex 1 from matrix_1 and 13 from matrix_2_were chosen\n",
      "vertex 2 from matrix_1 and 0 from matrix_2_were chosen\n"
     ]
    },
    {
     "data": {
      "application/vnd.jupyter.widget-view+json": {
       "model_id": "c66ab4db5cd74b3f99339ef73d51531d",
       "version_major": 2,
       "version_minor": 0
      },
      "text/plain": [
       "Computing:   0%|                                         | 0/15 [00:00<?, ?it/s]"
      ]
     },
     "metadata": {},
     "output_type": "display_data"
    },
    {
     "name": "stdout",
     "output_type": "stream",
     "text": [
      "Interations taken for prob method is 4\n",
      "Interations taken for deterministicc method is 5\n",
      "matrix size one is 16\n",
      "matrix size 2 is 4\n",
      "vertex 0 from matrix_1 and 14 from matrix_2_were chosen\n",
      "vertex 3 from matrix_1 and 1 from matrix_2_were chosen\n"
     ]
    },
    {
     "data": {
      "application/vnd.jupyter.widget-view+json": {
       "model_id": "e56b51296b4148c293a2f21e3067f6b7",
       "version_major": 2,
       "version_minor": 0
      },
      "text/plain": [
       "Computing:   0%|                                         | 0/15 [00:00<?, ?it/s]"
      ]
     },
     "metadata": {},
     "output_type": "display_data"
    },
    {
     "name": "stdout",
     "output_type": "stream",
     "text": [
      "Interations taken for prob method is 3\n",
      "Interations taken for deterministicc method is 6\n",
      "matrix size one is 16\n",
      "matrix size 2 is 4\n",
      "vertex 0 from matrix_1 and 5 from matrix_2_were chosen\n",
      "vertex 0 from matrix_1 and 1 from matrix_2_were chosen\n"
     ]
    },
    {
     "data": {
      "application/vnd.jupyter.widget-view+json": {
       "model_id": "dbf329a5c2ab456e8a84a65e90389fde",
       "version_major": 2,
       "version_minor": 0
      },
      "text/plain": [
       "Computing:   0%|                                         | 0/15 [00:00<?, ?it/s]"
      ]
     },
     "metadata": {},
     "output_type": "display_data"
    },
    {
     "name": "stdout",
     "output_type": "stream",
     "text": [
      "Interations taken for prob method is 6\n",
      "Interations taken for deterministicc method is 5\n",
      "matrix size one is 16\n",
      "matrix size 2 is 4\n",
      "vertex 1 from matrix_1 and 4 from matrix_2_were chosen\n",
      "vertex 3 from matrix_1 and 0 from matrix_2_were chosen\n"
     ]
    },
    {
     "data": {
      "application/vnd.jupyter.widget-view+json": {
       "model_id": "6d129b1b6342485d9968d5b8e3a5d652",
       "version_major": 2,
       "version_minor": 0
      },
      "text/plain": [
       "Computing:   0%|                                         | 0/15 [00:00<?, ?it/s]"
      ]
     },
     "metadata": {},
     "output_type": "display_data"
    },
    {
     "name": "stdout",
     "output_type": "stream",
     "text": [
      "Interations taken for prob method is 5\n",
      "Interations taken for deterministicc method is 5\n",
      "matrix size one is 16\n",
      "matrix size 2 is 4\n",
      "vertex 1 from matrix_1 and 7 from matrix_2_were chosen\n",
      "vertex 1 from matrix_1 and 0 from matrix_2_were chosen\n"
     ]
    },
    {
     "data": {
      "application/vnd.jupyter.widget-view+json": {
       "model_id": "adb2bccb0255420e943ba2e1b6219d3a",
       "version_major": 2,
       "version_minor": 0
      },
      "text/plain": [
       "Computing:   0%|                                         | 0/15 [00:00<?, ?it/s]"
      ]
     },
     "metadata": {},
     "output_type": "display_data"
    },
    {
     "name": "stdout",
     "output_type": "stream",
     "text": [
      "Interations taken for prob method is 4\n",
      "Interations taken for deterministicc method is 5\n",
      "matrix size one is 16\n",
      "matrix size 2 is 4\n",
      "vertex 0 from matrix_1 and 14 from matrix_2_were chosen\n",
      "vertex 3 from matrix_1 and 1 from matrix_2_were chosen\n"
     ]
    },
    {
     "data": {
      "application/vnd.jupyter.widget-view+json": {
       "model_id": "a03fbbb0921b4d2dae9e539c1bfdcf65",
       "version_major": 2,
       "version_minor": 0
      },
      "text/plain": [
       "Computing:   0%|                                         | 0/15 [00:00<?, ?it/s]"
      ]
     },
     "metadata": {},
     "output_type": "display_data"
    },
    {
     "name": "stdout",
     "output_type": "stream",
     "text": [
      "Interations taken for prob method is 5\n",
      "Interations taken for deterministicc method is 6\n",
      "matrix size one is 16\n",
      "matrix size 2 is 4\n",
      "vertex 0 from matrix_1 and 0 from matrix_2_were chosen\n",
      "vertex 3 from matrix_1 and 1 from matrix_2_were chosen\n"
     ]
    },
    {
     "data": {
      "application/vnd.jupyter.widget-view+json": {
       "model_id": "e21346f6c9f44e508b53982a91fe3139",
       "version_major": 2,
       "version_minor": 0
      },
      "text/plain": [
       "Computing:   0%|                                         | 0/15 [00:00<?, ?it/s]"
      ]
     },
     "metadata": {},
     "output_type": "display_data"
    },
    {
     "name": "stdout",
     "output_type": "stream",
     "text": [
      "Interations taken for prob method is 3\n",
      "Interations taken for deterministicc method is 5\n",
      "matrix size one is 16\n",
      "matrix size 2 is 4\n",
      "vertex 0 from matrix_1 and 1 from matrix_2_were chosen\n",
      "vertex 2 from matrix_1 and 1 from matrix_2_were chosen\n"
     ]
    },
    {
     "data": {
      "application/vnd.jupyter.widget-view+json": {
       "model_id": "1a92bcc4f2214f41b33ee49ebb0e2624",
       "version_major": 2,
       "version_minor": 0
      },
      "text/plain": [
       "Computing:   0%|                                         | 0/15 [00:00<?, ?it/s]"
      ]
     },
     "metadata": {},
     "output_type": "display_data"
    },
    {
     "name": "stdout",
     "output_type": "stream",
     "text": [
      "Interations taken for prob method is 3\n",
      "Interations taken for deterministicc method is 5\n",
      "matrix size one is 16\n",
      "matrix size 2 is 4\n",
      "vertex 0 from matrix_1 and 0 from matrix_2_were chosen\n",
      "vertex 1 from matrix_1 and 1 from matrix_2_were chosen\n"
     ]
    },
    {
     "data": {
      "application/vnd.jupyter.widget-view+json": {
       "model_id": "16f0874f87c547e2a74954b3cf9877c7",
       "version_major": 2,
       "version_minor": 0
      },
      "text/plain": [
       "Computing:   0%|                                         | 0/15 [00:00<?, ?it/s]"
      ]
     },
     "metadata": {},
     "output_type": "display_data"
    },
    {
     "name": "stdout",
     "output_type": "stream",
     "text": [
      "Interations taken for prob method is 4\n",
      "Interations taken for deterministicc method is 5\n",
      "matrix size one is 16\n",
      "matrix size 2 is 4\n",
      "vertex 1 from matrix_1 and 2 from matrix_2_were chosen\n",
      "vertex 3 from matrix_1 and 0 from matrix_2_were chosen\n"
     ]
    },
    {
     "data": {
      "application/vnd.jupyter.widget-view+json": {
       "model_id": "fd0d9968c511435fae4e222884b06dfa",
       "version_major": 2,
       "version_minor": 0
      },
      "text/plain": [
       "Computing:   0%|                                         | 0/15 [00:00<?, ?it/s]"
      ]
     },
     "metadata": {},
     "output_type": "display_data"
    },
    {
     "name": "stdout",
     "output_type": "stream",
     "text": [
      "Interations taken for prob method is 5\n",
      "Interations taken for deterministicc method is 5\n",
      "matrix size one is 16\n",
      "matrix size 2 is 4\n",
      "vertex 1 from matrix_1 and 13 from matrix_2_were chosen\n",
      "vertex 0 from matrix_1 and 0 from matrix_2_were chosen\n"
     ]
    },
    {
     "data": {
      "application/vnd.jupyter.widget-view+json": {
       "model_id": "209afc371274439d813834df471151ba",
       "version_major": 2,
       "version_minor": 0
      },
      "text/plain": [
       "Computing:   0%|                                         | 0/15 [00:00<?, ?it/s]"
      ]
     },
     "metadata": {},
     "output_type": "display_data"
    },
    {
     "name": "stdout",
     "output_type": "stream",
     "text": [
      "Interations taken for prob method is 9\n",
      "Interations taken for deterministicc method is 6\n",
      "matrix size one is 16\n",
      "matrix size 2 is 4\n",
      "vertex 1 from matrix_1 and 4 from matrix_2_were chosen\n",
      "vertex 0 from matrix_1 and 0 from matrix_2_were chosen\n"
     ]
    },
    {
     "data": {
      "application/vnd.jupyter.widget-view+json": {
       "model_id": "0595ee9b0ef145b4822674e699fe3da0",
       "version_major": 2,
       "version_minor": 0
      },
      "text/plain": [
       "Computing:   0%|                                         | 0/15 [00:00<?, ?it/s]"
      ]
     },
     "metadata": {},
     "output_type": "display_data"
    },
    {
     "name": "stdout",
     "output_type": "stream",
     "text": [
      "Interations taken for prob method is 5\n",
      "Interations taken for deterministicc method is 5\n",
      "matrix size one is 16\n",
      "matrix size 2 is 4\n",
      "vertex 0 from matrix_1 and 14 from matrix_2_were chosen\n",
      "vertex 1 from matrix_1 and 1 from matrix_2_were chosen\n"
     ]
    },
    {
     "data": {
      "application/vnd.jupyter.widget-view+json": {
       "model_id": "8d5b601978434c379dd53c8ee913b340",
       "version_major": 2,
       "version_minor": 0
      },
      "text/plain": [
       "Computing:   0%|                                         | 0/15 [00:00<?, ?it/s]"
      ]
     },
     "metadata": {},
     "output_type": "display_data"
    },
    {
     "name": "stdout",
     "output_type": "stream",
     "text": [
      "Interations taken for prob method is 4\n",
      "Interations taken for deterministicc method is 6\n",
      "matrix size one is 24\n",
      "matrix size 2 is 6\n",
      "vertex 0 from matrix_1 and 14 from matrix_2_were chosen\n",
      "vertex 1 from matrix_1 and 1 from matrix_2_were chosen\n"
     ]
    },
    {
     "data": {
      "application/vnd.jupyter.widget-view+json": {
       "model_id": "852527d89f824a20b2840ed5e0d98981",
       "version_major": 2,
       "version_minor": 0
      },
      "text/plain": [
       "Computing:   0%|                                         | 0/15 [00:00<?, ?it/s]"
      ]
     },
     "metadata": {},
     "output_type": "display_data"
    },
    {
     "name": "stdout",
     "output_type": "stream",
     "text": [
      "Interations taken for prob method is 3\n",
      "Interations taken for deterministicc method is 6\n",
      "matrix size one is 24\n",
      "matrix size 2 is 6\n",
      "vertex 1 from matrix_1 and 17 from matrix_2_were chosen\n",
      "vertex 2 from matrix_1 and 0 from matrix_2_were chosen\n"
     ]
    },
    {
     "data": {
      "application/vnd.jupyter.widget-view+json": {
       "model_id": "1457c1665c8a43869f46525ec3895938",
       "version_major": 2,
       "version_minor": 0
      },
      "text/plain": [
       "Computing:   0%|                                         | 0/15 [00:00<?, ?it/s]"
      ]
     },
     "metadata": {},
     "output_type": "display_data"
    },
    {
     "name": "stdout",
     "output_type": "stream",
     "text": [
      "Interations taken for prob method is 5\n",
      "Interations taken for deterministicc method is 8\n",
      "matrix size one is 24\n",
      "matrix size 2 is 6\n",
      "vertex 0 from matrix_1 and 7 from matrix_2_were chosen\n",
      "vertex 5 from matrix_1 and 1 from matrix_2_were chosen\n"
     ]
    },
    {
     "data": {
      "application/vnd.jupyter.widget-view+json": {
       "model_id": "2040f7be45d445ffba2ea25a6fcb2e4e",
       "version_major": 2,
       "version_minor": 0
      },
      "text/plain": [
       "Computing:   0%|                                         | 0/15 [00:00<?, ?it/s]"
      ]
     },
     "metadata": {},
     "output_type": "display_data"
    },
    {
     "name": "stdout",
     "output_type": "stream",
     "text": [
      "Interations taken for prob method is 5\n",
      "Interations taken for deterministicc method is 7\n",
      "matrix size one is 24\n",
      "matrix size 2 is 6\n",
      "vertex 1 from matrix_1 and 4 from matrix_2_were chosen\n",
      "vertex 2 from matrix_1 and 0 from matrix_2_were chosen\n"
     ]
    },
    {
     "data": {
      "application/vnd.jupyter.widget-view+json": {
       "model_id": "59b0438593e0473bb0ec1375a225a6e1",
       "version_major": 2,
       "version_minor": 0
      },
      "text/plain": [
       "Computing:   0%|                                         | 0/15 [00:00<?, ?it/s]"
      ]
     },
     "metadata": {},
     "output_type": "display_data"
    },
    {
     "name": "stdout",
     "output_type": "stream",
     "text": [
      "Interations taken for prob method is 4\n",
      "Interations taken for deterministicc method is 5\n",
      "matrix size one is 24\n",
      "matrix size 2 is 6\n",
      "vertex 0 from matrix_1 and 2 from matrix_2_were chosen\n",
      "vertex 0 from matrix_1 and 1 from matrix_2_were chosen\n"
     ]
    },
    {
     "data": {
      "application/vnd.jupyter.widget-view+json": {
       "model_id": "553db01b378d4b07babdadda40193dab",
       "version_major": 2,
       "version_minor": 0
      },
      "text/plain": [
       "Computing:   0%|                                         | 0/15 [00:00<?, ?it/s]"
      ]
     },
     "metadata": {},
     "output_type": "display_data"
    },
    {
     "name": "stdout",
     "output_type": "stream",
     "text": [
      "Interations taken for prob method is 3\n",
      "Interations taken for deterministicc method is 6\n",
      "matrix size one is 24\n",
      "matrix size 2 is 6\n",
      "vertex 1 from matrix_1 and 6 from matrix_2_were chosen\n",
      "vertex 5 from matrix_1 and 0 from matrix_2_were chosen\n"
     ]
    },
    {
     "data": {
      "application/vnd.jupyter.widget-view+json": {
       "model_id": "dbbe68b21ae64c208a3da481921b7ada",
       "version_major": 2,
       "version_minor": 0
      },
      "text/plain": [
       "Computing:   0%|                                         | 0/15 [00:00<?, ?it/s]"
      ]
     },
     "metadata": {},
     "output_type": "display_data"
    },
    {
     "name": "stdout",
     "output_type": "stream",
     "text": [
      "Interations taken for prob method is 4\n",
      "Interations taken for deterministicc method is 7\n",
      "matrix size one is 24\n",
      "matrix size 2 is 6\n",
      "vertex 1 from matrix_1 and 13 from matrix_2_were chosen\n",
      "vertex 1 from matrix_1 and 0 from matrix_2_were chosen\n"
     ]
    },
    {
     "data": {
      "application/vnd.jupyter.widget-view+json": {
       "model_id": "4e2a517fd76949e3afb53e03658a61c7",
       "version_major": 2,
       "version_minor": 0
      },
      "text/plain": [
       "Computing:   0%|                                         | 0/15 [00:00<?, ?it/s]"
      ]
     },
     "metadata": {},
     "output_type": "display_data"
    },
    {
     "name": "stdout",
     "output_type": "stream",
     "text": [
      "Interations taken for prob method is 4\n",
      "Interations taken for deterministicc method is 6\n",
      "matrix size one is 24\n",
      "matrix size 2 is 6\n",
      "vertex 1 from matrix_1 and 1 from matrix_2_were chosen\n",
      "vertex 5 from matrix_1 and 0 from matrix_2_were chosen\n"
     ]
    },
    {
     "data": {
      "application/vnd.jupyter.widget-view+json": {
       "model_id": "2ce1fc89261b49e2924a9734f610a9b6",
       "version_major": 2,
       "version_minor": 0
      },
      "text/plain": [
       "Computing:   0%|                                         | 0/15 [00:00<?, ?it/s]"
      ]
     },
     "metadata": {},
     "output_type": "display_data"
    },
    {
     "name": "stdout",
     "output_type": "stream",
     "text": [
      "Interations taken for prob method is 3\n",
      "Interations taken for deterministicc method is 6\n",
      "matrix size one is 24\n",
      "matrix size 2 is 6\n",
      "vertex 1 from matrix_1 and 2 from matrix_2_were chosen\n",
      "vertex 1 from matrix_1 and 0 from matrix_2_were chosen\n"
     ]
    },
    {
     "data": {
      "application/vnd.jupyter.widget-view+json": {
       "model_id": "f6804fb7604d47629e496c42cfe1b4d5",
       "version_major": 2,
       "version_minor": 0
      },
      "text/plain": [
       "Computing:   0%|                                         | 0/15 [00:00<?, ?it/s]"
      ]
     },
     "metadata": {},
     "output_type": "display_data"
    },
    {
     "name": "stdout",
     "output_type": "stream",
     "text": [
      "Interations taken for prob method is 6\n",
      "Interations taken for deterministicc method is 7\n",
      "matrix size one is 24\n",
      "matrix size 2 is 6\n",
      "vertex 1 from matrix_1 and 2 from matrix_2_were chosen\n",
      "vertex 4 from matrix_1 and 0 from matrix_2_were chosen\n"
     ]
    },
    {
     "data": {
      "application/vnd.jupyter.widget-view+json": {
       "model_id": "f88ea484736749aea1269b508db354c0",
       "version_major": 2,
       "version_minor": 0
      },
      "text/plain": [
       "Computing:   0%|                                         | 0/15 [00:00<?, ?it/s]"
      ]
     },
     "metadata": {},
     "output_type": "display_data"
    },
    {
     "name": "stdout",
     "output_type": "stream",
     "text": [
      "Interations taken for prob method is 7\n",
      "Interations taken for deterministicc method is 6\n",
      "matrix size one is 24\n",
      "matrix size 2 is 6\n",
      "vertex 1 from matrix_1 and 9 from matrix_2_were chosen\n",
      "vertex 0 from matrix_1 and 0 from matrix_2_were chosen\n"
     ]
    },
    {
     "data": {
      "application/vnd.jupyter.widget-view+json": {
       "model_id": "73c10d02fa9f4252a2d87ea85f881de5",
       "version_major": 2,
       "version_minor": 0
      },
      "text/plain": [
       "Computing:   0%|                                         | 0/15 [00:00<?, ?it/s]"
      ]
     },
     "metadata": {},
     "output_type": "display_data"
    },
    {
     "name": "stdout",
     "output_type": "stream",
     "text": [
      "Interations taken for prob method is 5\n",
      "Interations taken for deterministicc method is 8\n",
      "matrix size one is 24\n",
      "matrix size 2 is 6\n",
      "vertex 0 from matrix_1 and 2 from matrix_2_were chosen\n",
      "vertex 5 from matrix_1 and 1 from matrix_2_were chosen\n"
     ]
    },
    {
     "data": {
      "application/vnd.jupyter.widget-view+json": {
       "model_id": "c4894a9c7a87443184eab161477fb253",
       "version_major": 2,
       "version_minor": 0
      },
      "text/plain": [
       "Computing:   0%|                                         | 0/15 [00:00<?, ?it/s]"
      ]
     },
     "metadata": {},
     "output_type": "display_data"
    },
    {
     "name": "stdout",
     "output_type": "stream",
     "text": [
      "Interations taken for prob method is 5\n",
      "Interations taken for deterministicc method is 7\n",
      "matrix size one is 24\n",
      "matrix size 2 is 6\n",
      "vertex 0 from matrix_1 and 4 from matrix_2_were chosen\n",
      "vertex 2 from matrix_1 and 1 from matrix_2_were chosen\n"
     ]
    },
    {
     "data": {
      "application/vnd.jupyter.widget-view+json": {
       "model_id": "d57248d732cb4629b0a05f0fa5e9c7b2",
       "version_major": 2,
       "version_minor": 0
      },
      "text/plain": [
       "Computing:   0%|                                         | 0/15 [00:00<?, ?it/s]"
      ]
     },
     "metadata": {},
     "output_type": "display_data"
    },
    {
     "name": "stdout",
     "output_type": "stream",
     "text": [
      "Interations taken for prob method is 3\n",
      "Interations taken for deterministicc method is 6\n",
      "matrix size one is 24\n",
      "matrix size 2 is 6\n",
      "vertex 1 from matrix_1 and 7 from matrix_2_were chosen\n",
      "vertex 5 from matrix_1 and 0 from matrix_2_were chosen\n"
     ]
    },
    {
     "data": {
      "application/vnd.jupyter.widget-view+json": {
       "model_id": "08a0b542e66842fda2a89112645e0bfd",
       "version_major": 2,
       "version_minor": 0
      },
      "text/plain": [
       "Computing:   0%|                                         | 0/15 [00:00<?, ?it/s]"
      ]
     },
     "metadata": {},
     "output_type": "display_data"
    },
    {
     "name": "stdout",
     "output_type": "stream",
     "text": [
      "Interations taken for prob method is 7\n",
      "Interations taken for deterministicc method is 8\n",
      "matrix size one is 24\n",
      "matrix size 2 is 6\n",
      "vertex 1 from matrix_1 and 21 from matrix_2_were chosen\n",
      "vertex 5 from matrix_1 and 0 from matrix_2_were chosen\n"
     ]
    },
    {
     "data": {
      "application/vnd.jupyter.widget-view+json": {
       "model_id": "8102f63ec51d4151b3a99ef649d3666c",
       "version_major": 2,
       "version_minor": 0
      },
      "text/plain": [
       "Computing:   0%|                                         | 0/15 [00:00<?, ?it/s]"
      ]
     },
     "metadata": {},
     "output_type": "display_data"
    },
    {
     "name": "stdout",
     "output_type": "stream",
     "text": [
      "Interations taken for prob method is 7\n",
      "Interations taken for deterministicc method is 8\n",
      "matrix size one is 24\n",
      "matrix size 2 is 6\n",
      "vertex 1 from matrix_1 and 15 from matrix_2_were chosen\n",
      "vertex 3 from matrix_1 and 0 from matrix_2_were chosen\n"
     ]
    },
    {
     "data": {
      "application/vnd.jupyter.widget-view+json": {
       "model_id": "1a0152d5e8514de9a77b5807d9d31328",
       "version_major": 2,
       "version_minor": 0
      },
      "text/plain": [
       "Computing:   0%|                                         | 0/15 [00:00<?, ?it/s]"
      ]
     },
     "metadata": {},
     "output_type": "display_data"
    },
    {
     "name": "stdout",
     "output_type": "stream",
     "text": [
      "Interations taken for prob method is 5\n",
      "Interations taken for deterministicc method is 6\n",
      "matrix size one is 24\n",
      "matrix size 2 is 6\n",
      "vertex 1 from matrix_1 and 12 from matrix_2_were chosen\n",
      "vertex 5 from matrix_1 and 0 from matrix_2_were chosen\n"
     ]
    },
    {
     "data": {
      "application/vnd.jupyter.widget-view+json": {
       "model_id": "87f0d29321c642f886b4126fc5eccf96",
       "version_major": 2,
       "version_minor": 0
      },
      "text/plain": [
       "Computing:   0%|                                         | 0/15 [00:00<?, ?it/s]"
      ]
     },
     "metadata": {},
     "output_type": "display_data"
    },
    {
     "name": "stdout",
     "output_type": "stream",
     "text": [
      "Interations taken for prob method is 5\n",
      "Interations taken for deterministicc method is 7\n",
      "matrix size one is 24\n",
      "matrix size 2 is 6\n",
      "vertex 0 from matrix_1 and 8 from matrix_2_were chosen\n",
      "vertex 4 from matrix_1 and 1 from matrix_2_were chosen\n"
     ]
    },
    {
     "data": {
      "application/vnd.jupyter.widget-view+json": {
       "model_id": "613c02159ba64cf39993df9a04de5b76",
       "version_major": 2,
       "version_minor": 0
      },
      "text/plain": [
       "Computing:   0%|                                         | 0/15 [00:00<?, ?it/s]"
      ]
     },
     "metadata": {},
     "output_type": "display_data"
    },
    {
     "name": "stdout",
     "output_type": "stream",
     "text": [
      "Interations taken for prob method is 4\n",
      "Interations taken for deterministicc method is 6\n",
      "matrix size one is 24\n",
      "matrix size 2 is 6\n",
      "vertex 0 from matrix_1 and 2 from matrix_2_were chosen\n",
      "vertex 2 from matrix_1 and 1 from matrix_2_were chosen\n"
     ]
    },
    {
     "data": {
      "application/vnd.jupyter.widget-view+json": {
       "model_id": "8db6fa2fb2d442acbf44ad42362c97d4",
       "version_major": 2,
       "version_minor": 0
      },
      "text/plain": [
       "Computing:   0%|                                         | 0/15 [00:00<?, ?it/s]"
      ]
     },
     "metadata": {},
     "output_type": "display_data"
    },
    {
     "name": "stdout",
     "output_type": "stream",
     "text": [
      "Interations taken for prob method is 3\n",
      "Interations taken for deterministicc method is 5\n",
      "matrix size one is 24\n",
      "matrix size 2 is 6\n",
      "vertex 1 from matrix_1 and 12 from matrix_2_were chosen\n",
      "vertex 4 from matrix_1 and 0 from matrix_2_were chosen\n"
     ]
    },
    {
     "data": {
      "application/vnd.jupyter.widget-view+json": {
       "model_id": "58522157e5404e09bf1fad9e3049632c",
       "version_major": 2,
       "version_minor": 0
      },
      "text/plain": [
       "Computing:   0%|                                         | 0/15 [00:00<?, ?it/s]"
      ]
     },
     "metadata": {},
     "output_type": "display_data"
    },
    {
     "name": "stdout",
     "output_type": "stream",
     "text": [
      "Interations taken for prob method is 4\n",
      "Interations taken for deterministicc method is 7\n",
      "matrix size one is 9\n",
      "matrix size 2 is 1\n",
      "vertex 1 from matrix_1 and 4 from matrix_2_were chosen\n",
      "vertex 0 from matrix_1 and 0 from matrix_2_were chosen\n"
     ]
    },
    {
     "data": {
      "application/vnd.jupyter.widget-view+json": {
       "model_id": "b6ec49c2598e4316aca17be127344de6",
       "version_major": 2,
       "version_minor": 0
      },
      "text/plain": [
       "Computing:   0%|                                         | 0/15 [00:00<?, ?it/s]"
      ]
     },
     "metadata": {},
     "output_type": "display_data"
    },
    {
     "name": "stdout",
     "output_type": "stream",
     "text": [
      "Interations taken for prob method is 4\n",
      "Interations taken for deterministicc method is 4\n",
      "matrix size one is 9\n",
      "matrix size 2 is 1\n",
      "vertex 0 from matrix_1 and 1 from matrix_2_were chosen\n",
      "vertex 0 from matrix_1 and 1 from matrix_2_were chosen\n"
     ]
    },
    {
     "data": {
      "application/vnd.jupyter.widget-view+json": {
       "model_id": "5cddb4fe4bc8419781a98adf8c275463",
       "version_major": 2,
       "version_minor": 0
      },
      "text/plain": [
       "Computing:   0%|                                         | 0/15 [00:00<?, ?it/s]"
      ]
     },
     "metadata": {},
     "output_type": "display_data"
    },
    {
     "name": "stdout",
     "output_type": "stream",
     "text": [
      "Interations taken for prob method is 5\n",
      "Interations taken for deterministicc method is 3\n",
      "matrix size one is 9\n",
      "matrix size 2 is 1\n",
      "vertex 0 from matrix_1 and 6 from matrix_2_were chosen\n",
      "vertex 0 from matrix_1 and 1 from matrix_2_were chosen\n"
     ]
    },
    {
     "data": {
      "application/vnd.jupyter.widget-view+json": {
       "model_id": "1f55698609f5485c92ef26e4d224c144",
       "version_major": 2,
       "version_minor": 0
      },
      "text/plain": [
       "Computing:   0%|                                         | 0/15 [00:00<?, ?it/s]"
      ]
     },
     "metadata": {},
     "output_type": "display_data"
    },
    {
     "name": "stdout",
     "output_type": "stream",
     "text": [
      "Interations taken for prob method is 7\n",
      "Interations taken for deterministicc method is 4\n",
      "matrix size one is 9\n",
      "matrix size 2 is 1\n",
      "vertex 1 from matrix_1 and 1 from matrix_2_were chosen\n",
      "vertex 0 from matrix_1 and 0 from matrix_2_were chosen\n"
     ]
    },
    {
     "data": {
      "application/vnd.jupyter.widget-view+json": {
       "model_id": "fb768551ede649f284ecc427007dbf84",
       "version_major": 2,
       "version_minor": 0
      },
      "text/plain": [
       "Computing:   0%|                                         | 0/15 [00:00<?, ?it/s]"
      ]
     },
     "metadata": {},
     "output_type": "display_data"
    },
    {
     "name": "stdout",
     "output_type": "stream",
     "text": [
      "Interations taken for prob method is 2\n",
      "Interations taken for deterministicc method is 2\n",
      "matrix size one is 9\n",
      "matrix size 2 is 1\n",
      "vertex 0 from matrix_1 and 0 from matrix_2_were chosen\n",
      "vertex 0 from matrix_1 and 1 from matrix_2_were chosen\n"
     ]
    },
    {
     "data": {
      "application/vnd.jupyter.widget-view+json": {
       "model_id": "aac9c1ed31644a85a00ba8c1e521a87e",
       "version_major": 2,
       "version_minor": 0
      },
      "text/plain": [
       "Computing:   0%|                                         | 0/15 [00:00<?, ?it/s]"
      ]
     },
     "metadata": {},
     "output_type": "display_data"
    },
    {
     "name": "stdout",
     "output_type": "stream",
     "text": [
      "Interations taken for prob method is 4\n",
      "Interations taken for deterministicc method is 4\n",
      "matrix size one is 9\n",
      "matrix size 2 is 1\n",
      "vertex 0 from matrix_1 and 4 from matrix_2_were chosen\n",
      "vertex 0 from matrix_1 and 1 from matrix_2_were chosen\n"
     ]
    },
    {
     "data": {
      "application/vnd.jupyter.widget-view+json": {
       "model_id": "5e565bceca9143e19002c223d08250e0",
       "version_major": 2,
       "version_minor": 0
      },
      "text/plain": [
       "Computing:   0%|                                         | 0/15 [00:00<?, ?it/s]"
      ]
     },
     "metadata": {},
     "output_type": "display_data"
    },
    {
     "name": "stdout",
     "output_type": "stream",
     "text": [
      "Interations taken for prob method is 5\n",
      "Interations taken for deterministicc method is 3\n",
      "matrix size one is 9\n",
      "matrix size 2 is 1\n",
      "vertex 1 from matrix_1 and 3 from matrix_2_were chosen\n",
      "vertex 0 from matrix_1 and 0 from matrix_2_were chosen\n"
     ]
    },
    {
     "data": {
      "application/vnd.jupyter.widget-view+json": {
       "model_id": "077acc06fa79433fbe78f4ee8b03d0b9",
       "version_major": 2,
       "version_minor": 0
      },
      "text/plain": [
       "Computing:   0%|                                         | 0/15 [00:00<?, ?it/s]"
      ]
     },
     "metadata": {},
     "output_type": "display_data"
    },
    {
     "name": "stdout",
     "output_type": "stream",
     "text": [
      "Interations taken for prob method is 3\n",
      "Interations taken for deterministicc method is 3\n",
      "matrix size one is 9\n",
      "matrix size 2 is 1\n",
      "vertex 1 from matrix_1 and 8 from matrix_2_were chosen\n",
      "vertex 0 from matrix_1 and 0 from matrix_2_were chosen\n"
     ]
    },
    {
     "data": {
      "application/vnd.jupyter.widget-view+json": {
       "model_id": "ba50a433de5445e69deca4f2ee036524",
       "version_major": 2,
       "version_minor": 0
      },
      "text/plain": [
       "Computing:   0%|                                         | 0/15 [00:00<?, ?it/s]"
      ]
     },
     "metadata": {},
     "output_type": "display_data"
    },
    {
     "name": "stdout",
     "output_type": "stream",
     "text": [
      "Interations taken for prob method is 4\n",
      "Interations taken for deterministicc method is 3\n",
      "matrix size one is 9\n",
      "matrix size 2 is 1\n",
      "vertex 0 from matrix_1 and 6 from matrix_2_were chosen\n",
      "vertex 0 from matrix_1 and 1 from matrix_2_were chosen\n"
     ]
    },
    {
     "data": {
      "application/vnd.jupyter.widget-view+json": {
       "model_id": "6145870a30e64108b3872ea421f55f9f",
       "version_major": 2,
       "version_minor": 0
      },
      "text/plain": [
       "Computing:   0%|                                         | 0/15 [00:00<?, ?it/s]"
      ]
     },
     "metadata": {},
     "output_type": "display_data"
    },
    {
     "name": "stdout",
     "output_type": "stream",
     "text": [
      "Interations taken for prob method is 7\n",
      "Interations taken for deterministicc method is 4\n",
      "matrix size one is 9\n",
      "matrix size 2 is 1\n",
      "vertex 0 from matrix_1 and 6 from matrix_2_were chosen\n",
      "vertex 0 from matrix_1 and 1 from matrix_2_were chosen\n"
     ]
    },
    {
     "data": {
      "application/vnd.jupyter.widget-view+json": {
       "model_id": "5af33d0e7ae84accb147a3dabf2253a6",
       "version_major": 2,
       "version_minor": 0
      },
      "text/plain": [
       "Computing:   0%|                                         | 0/15 [00:00<?, ?it/s]"
      ]
     },
     "metadata": {},
     "output_type": "display_data"
    },
    {
     "name": "stdout",
     "output_type": "stream",
     "text": [
      "Interations taken for prob method is 3\n",
      "Interations taken for deterministicc method is 3\n",
      "matrix size one is 9\n",
      "matrix size 2 is 1\n",
      "vertex 1 from matrix_1 and 4 from matrix_2_were chosen\n",
      "vertex 0 from matrix_1 and 0 from matrix_2_were chosen\n"
     ]
    },
    {
     "data": {
      "application/vnd.jupyter.widget-view+json": {
       "model_id": "f70eef68d46d457e93ffe85a60123daf",
       "version_major": 2,
       "version_minor": 0
      },
      "text/plain": [
       "Computing:   0%|                                         | 0/15 [00:00<?, ?it/s]"
      ]
     },
     "metadata": {},
     "output_type": "display_data"
    },
    {
     "name": "stdout",
     "output_type": "stream",
     "text": [
      "Interations taken for prob method is 3\n",
      "Interations taken for deterministicc method is 3\n",
      "matrix size one is 9\n",
      "matrix size 2 is 1\n",
      "vertex 1 from matrix_1 and 7 from matrix_2_were chosen\n",
      "vertex 0 from matrix_1 and 0 from matrix_2_were chosen\n"
     ]
    },
    {
     "data": {
      "application/vnd.jupyter.widget-view+json": {
       "model_id": "4b9db37e76164c339df9ec031eaaa897",
       "version_major": 2,
       "version_minor": 0
      },
      "text/plain": [
       "Computing:   0%|                                         | 0/15 [00:00<?, ?it/s]"
      ]
     },
     "metadata": {},
     "output_type": "display_data"
    },
    {
     "name": "stdout",
     "output_type": "stream",
     "text": [
      "Interations taken for prob method is 4\n",
      "Interations taken for deterministicc method is 4\n",
      "matrix size one is 9\n",
      "matrix size 2 is 1\n",
      "vertex 0 from matrix_1 and 7 from matrix_2_were chosen\n",
      "vertex 0 from matrix_1 and 1 from matrix_2_were chosen\n"
     ]
    },
    {
     "data": {
      "application/vnd.jupyter.widget-view+json": {
       "model_id": "1260ed667ea348caa84466abccf1900e",
       "version_major": 2,
       "version_minor": 0
      },
      "text/plain": [
       "Computing:   0%|                                         | 0/15 [00:00<?, ?it/s]"
      ]
     },
     "metadata": {},
     "output_type": "display_data"
    },
    {
     "name": "stdout",
     "output_type": "stream",
     "text": [
      "Interations taken for prob method is 4\n",
      "Interations taken for deterministicc method is 3\n",
      "matrix size one is 9\n",
      "matrix size 2 is 1\n",
      "vertex 0 from matrix_1 and 4 from matrix_2_were chosen\n",
      "vertex 0 from matrix_1 and 1 from matrix_2_were chosen\n"
     ]
    },
    {
     "data": {
      "application/vnd.jupyter.widget-view+json": {
       "model_id": "4ff0778cca7b4145844c8641f2327b5e",
       "version_major": 2,
       "version_minor": 0
      },
      "text/plain": [
       "Computing:   0%|                                         | 0/15 [00:00<?, ?it/s]"
      ]
     },
     "metadata": {},
     "output_type": "display_data"
    },
    {
     "name": "stdout",
     "output_type": "stream",
     "text": [
      "Interations taken for prob method is 4\n",
      "Interations taken for deterministicc method is 4\n",
      "matrix size one is 9\n",
      "matrix size 2 is 1\n",
      "vertex 0 from matrix_1 and 0 from matrix_2_were chosen\n",
      "vertex 0 from matrix_1 and 1 from matrix_2_were chosen\n"
     ]
    },
    {
     "data": {
      "application/vnd.jupyter.widget-view+json": {
       "model_id": "77c643732b114ad5912508ffb7f3e4b3",
       "version_major": 2,
       "version_minor": 0
      },
      "text/plain": [
       "Computing:   0%|                                         | 0/15 [00:00<?, ?it/s]"
      ]
     },
     "metadata": {},
     "output_type": "display_data"
    },
    {
     "name": "stdout",
     "output_type": "stream",
     "text": [
      "Interations taken for prob method is 2\n",
      "Interations taken for deterministicc method is 2\n",
      "matrix size one is 9\n",
      "matrix size 2 is 1\n",
      "vertex 0 from matrix_1 and 2 from matrix_2_were chosen\n",
      "vertex 0 from matrix_1 and 1 from matrix_2_were chosen\n"
     ]
    },
    {
     "data": {
      "application/vnd.jupyter.widget-view+json": {
       "model_id": "afe3ac2b392d4b2a82ac6aa619f68b43",
       "version_major": 2,
       "version_minor": 0
      },
      "text/plain": [
       "Computing:   0%|                                         | 0/15 [00:00<?, ?it/s]"
      ]
     },
     "metadata": {},
     "output_type": "display_data"
    },
    {
     "name": "stdout",
     "output_type": "stream",
     "text": [
      "Interations taken for prob method is 3\n",
      "Interations taken for deterministicc method is 3\n",
      "matrix size one is 9\n",
      "matrix size 2 is 1\n",
      "vertex 0 from matrix_1 and 0 from matrix_2_were chosen\n",
      "vertex 0 from matrix_1 and 1 from matrix_2_were chosen\n"
     ]
    },
    {
     "data": {
      "application/vnd.jupyter.widget-view+json": {
       "model_id": "8cf46d3d5a2840d1b28c462f4e5d17af",
       "version_major": 2,
       "version_minor": 0
      },
      "text/plain": [
       "Computing:   0%|                                         | 0/15 [00:00<?, ?it/s]"
      ]
     },
     "metadata": {},
     "output_type": "display_data"
    },
    {
     "name": "stdout",
     "output_type": "stream",
     "text": [
      "Interations taken for prob method is 4\n",
      "Interations taken for deterministicc method is 3\n",
      "matrix size one is 9\n",
      "matrix size 2 is 1\n",
      "vertex 1 from matrix_1 and 0 from matrix_2_were chosen\n",
      "vertex 0 from matrix_1 and 0 from matrix_2_were chosen\n"
     ]
    },
    {
     "data": {
      "application/vnd.jupyter.widget-view+json": {
       "model_id": "4f68bdea9c0444509d41e0557adfe830",
       "version_major": 2,
       "version_minor": 0
      },
      "text/plain": [
       "Computing:   0%|                                         | 0/15 [00:00<?, ?it/s]"
      ]
     },
     "metadata": {},
     "output_type": "display_data"
    },
    {
     "name": "stdout",
     "output_type": "stream",
     "text": [
      "Interations taken for prob method is 3\n",
      "Interations taken for deterministicc method is 2\n",
      "matrix size one is 9\n",
      "matrix size 2 is 1\n",
      "vertex 1 from matrix_1 and 4 from matrix_2_were chosen\n",
      "vertex 0 from matrix_1 and 0 from matrix_2_were chosen\n"
     ]
    },
    {
     "data": {
      "application/vnd.jupyter.widget-view+json": {
       "model_id": "11acae6ce78440898af9f83c9fd9d20a",
       "version_major": 2,
       "version_minor": 0
      },
      "text/plain": [
       "Computing:   0%|                                         | 0/15 [00:00<?, ?it/s]"
      ]
     },
     "metadata": {},
     "output_type": "display_data"
    },
    {
     "name": "stdout",
     "output_type": "stream",
     "text": [
      "Interations taken for prob method is 7\n",
      "Interations taken for deterministicc method is 3\n",
      "matrix size one is 9\n",
      "matrix size 2 is 1\n",
      "vertex 1 from matrix_1 and 5 from matrix_2_were chosen\n",
      "vertex 0 from matrix_1 and 0 from matrix_2_were chosen\n"
     ]
    },
    {
     "data": {
      "application/vnd.jupyter.widget-view+json": {
       "model_id": "398ef442059e46ea8a3765ad93a94dee",
       "version_major": 2,
       "version_minor": 0
      },
      "text/plain": [
       "Computing:   0%|                                         | 0/15 [00:00<?, ?it/s]"
      ]
     },
     "metadata": {},
     "output_type": "display_data"
    },
    {
     "name": "stdout",
     "output_type": "stream",
     "text": [
      "Interations taken for prob method is 3\n",
      "Interations taken for deterministicc method is 3\n",
      "matrix size one is 18\n",
      "matrix size 2 is 2\n",
      "vertex 0 from matrix_1 and 16 from matrix_2_were chosen\n",
      "vertex 1 from matrix_1 and 1 from matrix_2_were chosen\n"
     ]
    },
    {
     "data": {
      "application/vnd.jupyter.widget-view+json": {
       "model_id": "941dbf5d614c4fd189b3f776ff7c120a",
       "version_major": 2,
       "version_minor": 0
      },
      "text/plain": [
       "Computing:   0%|                                         | 0/15 [00:00<?, ?it/s]"
      ]
     },
     "metadata": {},
     "output_type": "display_data"
    },
    {
     "name": "stdout",
     "output_type": "stream",
     "text": [
      "Interations taken for prob method is 5\n",
      "Interations taken for deterministicc method is 5\n",
      "matrix size one is 18\n",
      "matrix size 2 is 2\n",
      "vertex 0 from matrix_1 and 4 from matrix_2_were chosen\n",
      "vertex 1 from matrix_1 and 1 from matrix_2_were chosen\n"
     ]
    },
    {
     "data": {
      "application/vnd.jupyter.widget-view+json": {
       "model_id": "c1c9e72635c94b7d8c24cafc1bef7c39",
       "version_major": 2,
       "version_minor": 0
      },
      "text/plain": [
       "Computing:   0%|                                         | 0/15 [00:00<?, ?it/s]"
      ]
     },
     "metadata": {},
     "output_type": "display_data"
    },
    {
     "name": "stdout",
     "output_type": "stream",
     "text": [
      "Interations taken for prob method is 4\n",
      "Interations taken for deterministicc method is 5\n",
      "matrix size one is 18\n",
      "matrix size 2 is 2\n",
      "vertex 0 from matrix_1 and 4 from matrix_2_were chosen\n",
      "vertex 0 from matrix_1 and 1 from matrix_2_were chosen\n"
     ]
    },
    {
     "data": {
      "application/vnd.jupyter.widget-view+json": {
       "model_id": "09ea16cbd9744a56a06124c80f3409b7",
       "version_major": 2,
       "version_minor": 0
      },
      "text/plain": [
       "Computing:   0%|                                         | 0/15 [00:00<?, ?it/s]"
      ]
     },
     "metadata": {},
     "output_type": "display_data"
    },
    {
     "name": "stdout",
     "output_type": "stream",
     "text": [
      "Interations taken for prob method is 3\n",
      "Interations taken for deterministicc method is 4\n",
      "matrix size one is 18\n",
      "matrix size 2 is 2\n",
      "vertex 0 from matrix_1 and 16 from matrix_2_were chosen\n",
      "vertex 0 from matrix_1 and 1 from matrix_2_were chosen\n"
     ]
    },
    {
     "data": {
      "application/vnd.jupyter.widget-view+json": {
       "model_id": "38b4720f600e4b5fb019c82777a8658c",
       "version_major": 2,
       "version_minor": 0
      },
      "text/plain": [
       "Computing:   0%|                                         | 0/15 [00:00<?, ?it/s]"
      ]
     },
     "metadata": {},
     "output_type": "display_data"
    },
    {
     "name": "stdout",
     "output_type": "stream",
     "text": [
      "Interations taken for prob method is 3\n",
      "Interations taken for deterministicc method is 5\n",
      "matrix size one is 18\n",
      "matrix size 2 is 2\n",
      "vertex 0 from matrix_1 and 8 from matrix_2_were chosen\n",
      "vertex 0 from matrix_1 and 1 from matrix_2_were chosen\n"
     ]
    },
    {
     "data": {
      "application/vnd.jupyter.widget-view+json": {
       "model_id": "bf59909abb1a44fd8204a03c85e0d4ad",
       "version_major": 2,
       "version_minor": 0
      },
      "text/plain": [
       "Computing:   0%|                                         | 0/15 [00:00<?, ?it/s]"
      ]
     },
     "metadata": {},
     "output_type": "display_data"
    },
    {
     "name": "stdout",
     "output_type": "stream",
     "text": [
      "Interations taken for prob method is 5\n",
      "Interations taken for deterministicc method is 5\n",
      "matrix size one is 18\n",
      "matrix size 2 is 2\n",
      "vertex 1 from matrix_1 and 14 from matrix_2_were chosen\n",
      "vertex 1 from matrix_1 and 0 from matrix_2_were chosen\n"
     ]
    },
    {
     "data": {
      "application/vnd.jupyter.widget-view+json": {
       "model_id": "4abcba21c97042c882b0bac59773464a",
       "version_major": 2,
       "version_minor": 0
      },
      "text/plain": [
       "Computing:   0%|                                         | 0/15 [00:00<?, ?it/s]"
      ]
     },
     "metadata": {},
     "output_type": "display_data"
    },
    {
     "name": "stdout",
     "output_type": "stream",
     "text": [
      "Interations taken for prob method is 3\n",
      "Interations taken for deterministicc method is 5\n",
      "matrix size one is 18\n",
      "matrix size 2 is 2\n",
      "vertex 1 from matrix_1 and 17 from matrix_2_were chosen\n",
      "vertex 1 from matrix_1 and 0 from matrix_2_were chosen\n"
     ]
    },
    {
     "data": {
      "application/vnd.jupyter.widget-view+json": {
       "model_id": "5f36044d9ff040b6befdf77a679c57fc",
       "version_major": 2,
       "version_minor": 0
      },
      "text/plain": [
       "Computing:   0%|                                         | 0/15 [00:00<?, ?it/s]"
      ]
     },
     "metadata": {},
     "output_type": "display_data"
    },
    {
     "name": "stdout",
     "output_type": "stream",
     "text": [
      "Interations taken for prob method is 4\n",
      "Interations taken for deterministicc method is 5\n",
      "matrix size one is 18\n",
      "matrix size 2 is 2\n",
      "vertex 0 from matrix_1 and 13 from matrix_2_were chosen\n",
      "vertex 1 from matrix_1 and 1 from matrix_2_were chosen\n"
     ]
    },
    {
     "data": {
      "application/vnd.jupyter.widget-view+json": {
       "model_id": "1922c7c0e6764bea892878b833dd9db0",
       "version_major": 2,
       "version_minor": 0
      },
      "text/plain": [
       "Computing:   0%|                                         | 0/15 [00:00<?, ?it/s]"
      ]
     },
     "metadata": {},
     "output_type": "display_data"
    },
    {
     "name": "stdout",
     "output_type": "stream",
     "text": [
      "Interations taken for prob method is 5\n",
      "Interations taken for deterministicc method is 5\n",
      "matrix size one is 18\n",
      "matrix size 2 is 2\n",
      "vertex 0 from matrix_1 and 1 from matrix_2_were chosen\n",
      "vertex 0 from matrix_1 and 1 from matrix_2_were chosen\n"
     ]
    },
    {
     "data": {
      "application/vnd.jupyter.widget-view+json": {
       "model_id": "f79e8800ad6e4902b7f33e48631e0506",
       "version_major": 2,
       "version_minor": 0
      },
      "text/plain": [
       "Computing:   0%|                                         | 0/15 [00:00<?, ?it/s]"
      ]
     },
     "metadata": {},
     "output_type": "display_data"
    },
    {
     "name": "stdout",
     "output_type": "stream",
     "text": [
      "Interations taken for prob method is 3\n",
      "Interations taken for deterministicc method is 4\n",
      "matrix size one is 18\n",
      "matrix size 2 is 2\n",
      "vertex 0 from matrix_1 and 13 from matrix_2_were chosen\n",
      "vertex 0 from matrix_1 and 1 from matrix_2_were chosen\n"
     ]
    },
    {
     "data": {
      "application/vnd.jupyter.widget-view+json": {
       "model_id": "b435453e5cc04dc59e24e76e7bdc5281",
       "version_major": 2,
       "version_minor": 0
      },
      "text/plain": [
       "Computing:   0%|                                         | 0/15 [00:00<?, ?it/s]"
      ]
     },
     "metadata": {},
     "output_type": "display_data"
    },
    {
     "name": "stdout",
     "output_type": "stream",
     "text": [
      "Interations taken for prob method is 4\n",
      "Interations taken for deterministicc method is 5\n",
      "matrix size one is 18\n",
      "matrix size 2 is 2\n",
      "vertex 0 from matrix_1 and 16 from matrix_2_were chosen\n",
      "vertex 0 from matrix_1 and 1 from matrix_2_were chosen\n"
     ]
    },
    {
     "data": {
      "application/vnd.jupyter.widget-view+json": {
       "model_id": "eb7991dc2a4f4908aaf25fa04be02e81",
       "version_major": 2,
       "version_minor": 0
      },
      "text/plain": [
       "Computing:   0%|                                         | 0/15 [00:00<?, ?it/s]"
      ]
     },
     "metadata": {},
     "output_type": "display_data"
    },
    {
     "name": "stdout",
     "output_type": "stream",
     "text": [
      "Interations taken for prob method is 4\n",
      "Interations taken for deterministicc method is 7\n",
      "matrix size one is 18\n",
      "matrix size 2 is 2\n",
      "vertex 0 from matrix_1 and 13 from matrix_2_were chosen\n",
      "vertex 1 from matrix_1 and 1 from matrix_2_were chosen\n"
     ]
    },
    {
     "data": {
      "application/vnd.jupyter.widget-view+json": {
       "model_id": "dabe6969476540c39b6a9f63a6274f03",
       "version_major": 2,
       "version_minor": 0
      },
      "text/plain": [
       "Computing:   0%|                                         | 0/15 [00:00<?, ?it/s]"
      ]
     },
     "metadata": {},
     "output_type": "display_data"
    },
    {
     "name": "stdout",
     "output_type": "stream",
     "text": [
      "Interations taken for prob method is 5\n",
      "Interations taken for deterministicc method is 5\n",
      "matrix size one is 18\n",
      "matrix size 2 is 2\n",
      "vertex 0 from matrix_1 and 11 from matrix_2_were chosen\n",
      "vertex 1 from matrix_1 and 1 from matrix_2_were chosen\n"
     ]
    },
    {
     "data": {
      "application/vnd.jupyter.widget-view+json": {
       "model_id": "801a76a6350e4c6cbe6c896b4b807263",
       "version_major": 2,
       "version_minor": 0
      },
      "text/plain": [
       "Computing:   0%|                                         | 0/15 [00:00<?, ?it/s]"
      ]
     },
     "metadata": {},
     "output_type": "display_data"
    },
    {
     "name": "stdout",
     "output_type": "stream",
     "text": [
      "Interations taken for prob method is 4\n",
      "Interations taken for deterministicc method is 5\n",
      "matrix size one is 18\n",
      "matrix size 2 is 2\n",
      "vertex 0 from matrix_1 and 15 from matrix_2_were chosen\n",
      "vertex 0 from matrix_1 and 1 from matrix_2_were chosen\n"
     ]
    },
    {
     "data": {
      "application/vnd.jupyter.widget-view+json": {
       "model_id": "8d41859b9f1541d0a47d2edffd22e266",
       "version_major": 2,
       "version_minor": 0
      },
      "text/plain": [
       "Computing:   0%|                                         | 0/15 [00:00<?, ?it/s]"
      ]
     },
     "metadata": {},
     "output_type": "display_data"
    },
    {
     "name": "stdout",
     "output_type": "stream",
     "text": [
      "Interations taken for prob method is 3\n",
      "Interations taken for deterministicc method is 4\n",
      "matrix size one is 18\n",
      "matrix size 2 is 2\n",
      "vertex 0 from matrix_1 and 7 from matrix_2_were chosen\n",
      "vertex 0 from matrix_1 and 1 from matrix_2_were chosen\n"
     ]
    },
    {
     "data": {
      "application/vnd.jupyter.widget-view+json": {
       "model_id": "27db2a2d845f4e658694f4580c6d25ce",
       "version_major": 2,
       "version_minor": 0
      },
      "text/plain": [
       "Computing:   0%|                                         | 0/15 [00:00<?, ?it/s]"
      ]
     },
     "metadata": {},
     "output_type": "display_data"
    },
    {
     "name": "stdout",
     "output_type": "stream",
     "text": [
      "Interations taken for prob method is 3\n",
      "Interations taken for deterministicc method is 4\n",
      "matrix size one is 18\n",
      "matrix size 2 is 2\n",
      "vertex 0 from matrix_1 and 1 from matrix_2_were chosen\n",
      "vertex 0 from matrix_1 and 1 from matrix_2_were chosen\n"
     ]
    },
    {
     "data": {
      "application/vnd.jupyter.widget-view+json": {
       "model_id": "4330aa0704d54e88b8725ccc37d1c6b9",
       "version_major": 2,
       "version_minor": 0
      },
      "text/plain": [
       "Computing:   0%|                                         | 0/15 [00:00<?, ?it/s]"
      ]
     },
     "metadata": {},
     "output_type": "display_data"
    },
    {
     "name": "stdout",
     "output_type": "stream",
     "text": [
      "Interations taken for prob method is 2\n",
      "Interations taken for deterministicc method is 4\n",
      "matrix size one is 18\n",
      "matrix size 2 is 2\n",
      "vertex 0 from matrix_1 and 0 from matrix_2_were chosen\n",
      "vertex 1 from matrix_1 and 1 from matrix_2_were chosen\n"
     ]
    },
    {
     "data": {
      "application/vnd.jupyter.widget-view+json": {
       "model_id": "5f39069a905d47ec9cdb07428e617542",
       "version_major": 2,
       "version_minor": 0
      },
      "text/plain": [
       "Computing:   0%|                                         | 0/15 [00:00<?, ?it/s]"
      ]
     },
     "metadata": {},
     "output_type": "display_data"
    },
    {
     "name": "stdout",
     "output_type": "stream",
     "text": [
      "Interations taken for prob method is 3\n",
      "Interations taken for deterministicc method is 5\n",
      "matrix size one is 18\n",
      "matrix size 2 is 2\n",
      "vertex 1 from matrix_1 and 10 from matrix_2_were chosen\n",
      "vertex 0 from matrix_1 and 0 from matrix_2_were chosen\n"
     ]
    },
    {
     "data": {
      "application/vnd.jupyter.widget-view+json": {
       "model_id": "df1dbf7da94e42df901d14ea31d790b1",
       "version_major": 2,
       "version_minor": 0
      },
      "text/plain": [
       "Computing:   0%|                                         | 0/15 [00:00<?, ?it/s]"
      ]
     },
     "metadata": {},
     "output_type": "display_data"
    },
    {
     "name": "stdout",
     "output_type": "stream",
     "text": [
      "Interations taken for prob method is 4\n",
      "Interations taken for deterministicc method is 6\n",
      "matrix size one is 18\n",
      "matrix size 2 is 2\n",
      "vertex 1 from matrix_1 and 1 from matrix_2_were chosen\n",
      "vertex 1 from matrix_1 and 0 from matrix_2_were chosen\n"
     ]
    },
    {
     "data": {
      "application/vnd.jupyter.widget-view+json": {
       "model_id": "5916ee6a7beb406b803deee83eac55d1",
       "version_major": 2,
       "version_minor": 0
      },
      "text/plain": [
       "Computing:   0%|                                         | 0/15 [00:00<?, ?it/s]"
      ]
     },
     "metadata": {},
     "output_type": "display_data"
    },
    {
     "name": "stdout",
     "output_type": "stream",
     "text": [
      "Interations taken for prob method is 3\n",
      "Interations taken for deterministicc method is 4\n",
      "matrix size one is 18\n",
      "matrix size 2 is 2\n",
      "vertex 0 from matrix_1 and 13 from matrix_2_were chosen\n",
      "vertex 0 from matrix_1 and 1 from matrix_2_were chosen\n"
     ]
    },
    {
     "data": {
      "application/vnd.jupyter.widget-view+json": {
       "model_id": "1ce78cca6ebe4cfb9d2e60444e941981",
       "version_major": 2,
       "version_minor": 0
      },
      "text/plain": [
       "Computing:   0%|                                         | 0/15 [00:00<?, ?it/s]"
      ]
     },
     "metadata": {},
     "output_type": "display_data"
    },
    {
     "name": "stdout",
     "output_type": "stream",
     "text": [
      "Interations taken for prob method is 7\n",
      "Interations taken for deterministicc method is 6\n",
      "matrix size one is 27\n",
      "matrix size 2 is 3\n",
      "vertex 0 from matrix_1 and 1 from matrix_2_were chosen\n",
      "vertex 0 from matrix_1 and 1 from matrix_2_were chosen\n"
     ]
    },
    {
     "data": {
      "application/vnd.jupyter.widget-view+json": {
       "model_id": "48e2cac1830848b89f405a5a1c5ed1b9",
       "version_major": 2,
       "version_minor": 0
      },
      "text/plain": [
       "Computing:   0%|                                         | 0/15 [00:00<?, ?it/s]"
      ]
     },
     "metadata": {},
     "output_type": "display_data"
    },
    {
     "name": "stdout",
     "output_type": "stream",
     "text": [
      "Interations taken for prob method is 3\n",
      "Interations taken for deterministicc method is 5\n",
      "matrix size one is 27\n",
      "matrix size 2 is 3\n",
      "vertex 1 from matrix_1 and 10 from matrix_2_were chosen\n",
      "vertex 1 from matrix_1 and 0 from matrix_2_were chosen\n"
     ]
    },
    {
     "data": {
      "application/vnd.jupyter.widget-view+json": {
       "model_id": "11bb6c9bf68c461cba585765b9127641",
       "version_major": 2,
       "version_minor": 0
      },
      "text/plain": [
       "Computing:   0%|                                         | 0/15 [00:00<?, ?it/s]"
      ]
     },
     "metadata": {},
     "output_type": "display_data"
    },
    {
     "name": "stdout",
     "output_type": "stream",
     "text": [
      "Interations taken for prob method is 4\n",
      "Interations taken for deterministicc method is 6\n",
      "matrix size one is 27\n",
      "matrix size 2 is 3\n",
      "vertex 0 from matrix_1 and 0 from matrix_2_were chosen\n",
      "vertex 2 from matrix_1 and 1 from matrix_2_were chosen\n"
     ]
    },
    {
     "data": {
      "application/vnd.jupyter.widget-view+json": {
       "model_id": "d5991b6020a9455fa60fee00d3c8a7fa",
       "version_major": 2,
       "version_minor": 0
      },
      "text/plain": [
       "Computing:   0%|                                         | 0/15 [00:00<?, ?it/s]"
      ]
     },
     "metadata": {},
     "output_type": "display_data"
    },
    {
     "name": "stdout",
     "output_type": "stream",
     "text": [
      "Interations taken for prob method is 3\n",
      "Interations taken for deterministicc method is 6\n",
      "matrix size one is 27\n",
      "matrix size 2 is 3\n",
      "vertex 0 from matrix_1 and 14 from matrix_2_were chosen\n",
      "vertex 2 from matrix_1 and 1 from matrix_2_were chosen\n"
     ]
    },
    {
     "data": {
      "application/vnd.jupyter.widget-view+json": {
       "model_id": "f4e120dcedc04f79811739b0294badb3",
       "version_major": 2,
       "version_minor": 0
      },
      "text/plain": [
       "Computing:   0%|                                         | 0/15 [00:00<?, ?it/s]"
      ]
     },
     "metadata": {},
     "output_type": "display_data"
    },
    {
     "name": "stdout",
     "output_type": "stream",
     "text": [
      "Interations taken for prob method is 5\n",
      "Interations taken for deterministicc method is 6\n",
      "matrix size one is 27\n",
      "matrix size 2 is 3\n",
      "vertex 1 from matrix_1 and 9 from matrix_2_were chosen\n",
      "vertex 1 from matrix_1 and 0 from matrix_2_were chosen\n"
     ]
    },
    {
     "data": {
      "application/vnd.jupyter.widget-view+json": {
       "model_id": "06f2086142cc4c61807972560dc474de",
       "version_major": 2,
       "version_minor": 0
      },
      "text/plain": [
       "Computing:   0%|                                         | 0/15 [00:00<?, ?it/s]"
      ]
     },
     "metadata": {},
     "output_type": "display_data"
    },
    {
     "name": "stdout",
     "output_type": "stream",
     "text": [
      "Interations taken for prob method is 3\n",
      "Interations taken for deterministicc method is 5\n",
      "matrix size one is 27\n",
      "matrix size 2 is 3\n",
      "vertex 1 from matrix_1 and 2 from matrix_2_were chosen\n",
      "vertex 0 from matrix_1 and 0 from matrix_2_were chosen\n"
     ]
    },
    {
     "data": {
      "application/vnd.jupyter.widget-view+json": {
       "model_id": "643d8122071c49b78562bad3568b6857",
       "version_major": 2,
       "version_minor": 0
      },
      "text/plain": [
       "Computing:   0%|                                         | 0/15 [00:00<?, ?it/s]"
      ]
     },
     "metadata": {},
     "output_type": "display_data"
    },
    {
     "name": "stdout",
     "output_type": "stream",
     "text": [
      "Interations taken for prob method is 4\n",
      "Interations taken for deterministicc method is 5\n",
      "matrix size one is 27\n",
      "matrix size 2 is 3\n",
      "vertex 0 from matrix_1 and 12 from matrix_2_were chosen\n",
      "vertex 1 from matrix_1 and 1 from matrix_2_were chosen\n"
     ]
    },
    {
     "data": {
      "application/vnd.jupyter.widget-view+json": {
       "model_id": "5e5bda5109ed44e7ad71f3f1e7b4d9c7",
       "version_major": 2,
       "version_minor": 0
      },
      "text/plain": [
       "Computing:   0%|                                         | 0/15 [00:00<?, ?it/s]"
      ]
     },
     "metadata": {},
     "output_type": "display_data"
    },
    {
     "name": "stdout",
     "output_type": "stream",
     "text": [
      "Interations taken for prob method is 3\n",
      "Interations taken for deterministicc method is 5\n",
      "matrix size one is 27\n",
      "matrix size 2 is 3\n",
      "vertex 0 from matrix_1 and 22 from matrix_2_were chosen\n",
      "vertex 2 from matrix_1 and 1 from matrix_2_were chosen\n"
     ]
    },
    {
     "data": {
      "application/vnd.jupyter.widget-view+json": {
       "model_id": "5a157ae969ab4ca5b72d9bb87922bed1",
       "version_major": 2,
       "version_minor": 0
      },
      "text/plain": [
       "Computing:   0%|                                         | 0/15 [00:00<?, ?it/s]"
      ]
     },
     "metadata": {},
     "output_type": "display_data"
    },
    {
     "name": "stdout",
     "output_type": "stream",
     "text": [
      "Interations taken for prob method is 4\n",
      "Interations taken for deterministicc method is 6\n",
      "matrix size one is 27\n",
      "matrix size 2 is 3\n",
      "vertex 0 from matrix_1 and 26 from matrix_2_were chosen\n",
      "vertex 1 from matrix_1 and 1 from matrix_2_were chosen\n"
     ]
    },
    {
     "data": {
      "application/vnd.jupyter.widget-view+json": {
       "model_id": "c9eb9ba728e64ab3994fe691f9338be2",
       "version_major": 2,
       "version_minor": 0
      },
      "text/plain": [
       "Computing:   0%|                                         | 0/15 [00:00<?, ?it/s]"
      ]
     },
     "metadata": {},
     "output_type": "display_data"
    },
    {
     "name": "stdout",
     "output_type": "stream",
     "text": [
      "Interations taken for prob method is 4\n",
      "Interations taken for deterministicc method is 5\n",
      "matrix size one is 27\n",
      "matrix size 2 is 3\n",
      "vertex 0 from matrix_1 and 6 from matrix_2_were chosen\n",
      "vertex 1 from matrix_1 and 1 from matrix_2_were chosen\n"
     ]
    },
    {
     "data": {
      "application/vnd.jupyter.widget-view+json": {
       "model_id": "e81d7b525c17456f847e471f7d759aab",
       "version_major": 2,
       "version_minor": 0
      },
      "text/plain": [
       "Computing:   0%|                                         | 0/15 [00:00<?, ?it/s]"
      ]
     },
     "metadata": {},
     "output_type": "display_data"
    },
    {
     "name": "stdout",
     "output_type": "stream",
     "text": [
      "Interations taken for prob method is 6\n",
      "Interations taken for deterministicc method is 5\n",
      "matrix size one is 27\n",
      "matrix size 2 is 3\n",
      "vertex 1 from matrix_1 and 6 from matrix_2_were chosen\n",
      "vertex 2 from matrix_1 and 0 from matrix_2_were chosen\n"
     ]
    },
    {
     "data": {
      "application/vnd.jupyter.widget-view+json": {
       "model_id": "fa45b30fbb7044d2b2e667548b391d0d",
       "version_major": 2,
       "version_minor": 0
      },
      "text/plain": [
       "Computing:   0%|                                         | 0/15 [00:00<?, ?it/s]"
      ]
     },
     "metadata": {},
     "output_type": "display_data"
    },
    {
     "name": "stdout",
     "output_type": "stream",
     "text": [
      "Interations taken for prob method is 3\n",
      "Interations taken for deterministicc method is 5\n",
      "matrix size one is 27\n",
      "matrix size 2 is 3\n",
      "vertex 0 from matrix_1 and 16 from matrix_2_were chosen\n",
      "vertex 2 from matrix_1 and 1 from matrix_2_were chosen\n"
     ]
    },
    {
     "data": {
      "application/vnd.jupyter.widget-view+json": {
       "model_id": "3c47a9a362d54e34af4e38e775d5c5a7",
       "version_major": 2,
       "version_minor": 0
      },
      "text/plain": [
       "Computing:   0%|                                         | 0/15 [00:00<?, ?it/s]"
      ]
     },
     "metadata": {},
     "output_type": "display_data"
    },
    {
     "name": "stdout",
     "output_type": "stream",
     "text": [
      "Interations taken for prob method is 7\n",
      "Interations taken for deterministicc method is 7\n",
      "matrix size one is 27\n",
      "matrix size 2 is 3\n",
      "vertex 1 from matrix_1 and 22 from matrix_2_were chosen\n",
      "vertex 2 from matrix_1 and 0 from matrix_2_were chosen\n"
     ]
    },
    {
     "data": {
      "application/vnd.jupyter.widget-view+json": {
       "model_id": "cce2ed4842dd4645be2b56e944e16293",
       "version_major": 2,
       "version_minor": 0
      },
      "text/plain": [
       "Computing:   0%|                                         | 0/15 [00:00<?, ?it/s]"
      ]
     },
     "metadata": {},
     "output_type": "display_data"
    },
    {
     "name": "stdout",
     "output_type": "stream",
     "text": [
      "Interations taken for prob method is 6\n",
      "Interations taken for deterministicc method is 8\n",
      "matrix size one is 27\n",
      "matrix size 2 is 3\n",
      "vertex 0 from matrix_1 and 11 from matrix_2_were chosen\n",
      "vertex 2 from matrix_1 and 1 from matrix_2_were chosen\n"
     ]
    },
    {
     "data": {
      "application/vnd.jupyter.widget-view+json": {
       "model_id": "e05bc6faf159425b9760d8d6b06e23b1",
       "version_major": 2,
       "version_minor": 0
      },
      "text/plain": [
       "Computing:   0%|                                         | 0/15 [00:00<?, ?it/s]"
      ]
     },
     "metadata": {},
     "output_type": "display_data"
    },
    {
     "name": "stdout",
     "output_type": "stream",
     "text": [
      "Interations taken for prob method is 6\n",
      "Interations taken for deterministicc method is 7\n",
      "matrix size one is 27\n",
      "matrix size 2 is 3\n",
      "vertex 0 from matrix_1 and 3 from matrix_2_were chosen\n",
      "vertex 0 from matrix_1 and 1 from matrix_2_were chosen\n"
     ]
    },
    {
     "data": {
      "application/vnd.jupyter.widget-view+json": {
       "model_id": "f1a5916df82244b895e67c41e36478a4",
       "version_major": 2,
       "version_minor": 0
      },
      "text/plain": [
       "Computing:   0%|                                         | 0/15 [00:00<?, ?it/s]"
      ]
     },
     "metadata": {},
     "output_type": "display_data"
    },
    {
     "name": "stdout",
     "output_type": "stream",
     "text": [
      "Interations taken for prob method is 7\n",
      "Interations taken for deterministicc method is 6\n",
      "matrix size one is 27\n",
      "matrix size 2 is 3\n",
      "vertex 1 from matrix_1 and 6 from matrix_2_were chosen\n",
      "vertex 2 from matrix_1 and 0 from matrix_2_were chosen\n"
     ]
    },
    {
     "data": {
      "application/vnd.jupyter.widget-view+json": {
       "model_id": "4763c7f48e2d4ceb8a9182c104c06b2e",
       "version_major": 2,
       "version_minor": 0
      },
      "text/plain": [
       "Computing:   0%|                                         | 0/15 [00:00<?, ?it/s]"
      ]
     },
     "metadata": {},
     "output_type": "display_data"
    },
    {
     "name": "stdout",
     "output_type": "stream",
     "text": [
      "Interations taken for prob method is 3\n",
      "Interations taken for deterministicc method is 6\n",
      "matrix size one is 27\n",
      "matrix size 2 is 3\n",
      "vertex 1 from matrix_1 and 6 from matrix_2_were chosen\n",
      "vertex 2 from matrix_1 and 0 from matrix_2_were chosen\n"
     ]
    },
    {
     "data": {
      "application/vnd.jupyter.widget-view+json": {
       "model_id": "0bc6def8df914caea89e937b47e75723",
       "version_major": 2,
       "version_minor": 0
      },
      "text/plain": [
       "Computing:   0%|                                         | 0/15 [00:00<?, ?it/s]"
      ]
     },
     "metadata": {},
     "output_type": "display_data"
    },
    {
     "name": "stdout",
     "output_type": "stream",
     "text": [
      "Interations taken for prob method is 4\n",
      "Interations taken for deterministicc method is 5\n",
      "matrix size one is 27\n",
      "matrix size 2 is 3\n",
      "vertex 1 from matrix_1 and 7 from matrix_2_were chosen\n",
      "vertex 0 from matrix_1 and 0 from matrix_2_were chosen\n"
     ]
    },
    {
     "data": {
      "application/vnd.jupyter.widget-view+json": {
       "model_id": "0ecb8114f66b48da92c9019547728682",
       "version_major": 2,
       "version_minor": 0
      },
      "text/plain": [
       "Computing:   0%|                                         | 0/15 [00:00<?, ?it/s]"
      ]
     },
     "metadata": {},
     "output_type": "display_data"
    },
    {
     "name": "stdout",
     "output_type": "stream",
     "text": [
      "Interations taken for prob method is 6\n",
      "Interations taken for deterministicc method is 5\n",
      "matrix size one is 27\n",
      "matrix size 2 is 3\n",
      "vertex 1 from matrix_1 and 10 from matrix_2_were chosen\n",
      "vertex 1 from matrix_1 and 0 from matrix_2_were chosen\n"
     ]
    },
    {
     "data": {
      "application/vnd.jupyter.widget-view+json": {
       "model_id": "ffb53b36361149d79f686dc6e5d05c2e",
       "version_major": 2,
       "version_minor": 0
      },
      "text/plain": [
       "Computing:   0%|                                         | 0/15 [00:00<?, ?it/s]"
      ]
     },
     "metadata": {},
     "output_type": "display_data"
    },
    {
     "name": "stdout",
     "output_type": "stream",
     "text": [
      "Interations taken for prob method is 3\n",
      "Interations taken for deterministicc method is 5\n",
      "matrix size one is 27\n",
      "matrix size 2 is 3\n",
      "vertex 1 from matrix_1 and 9 from matrix_2_were chosen\n",
      "vertex 1 from matrix_1 and 0 from matrix_2_were chosen\n"
     ]
    },
    {
     "data": {
      "application/vnd.jupyter.widget-view+json": {
       "model_id": "b4871e8bfddb4d90a8fd4fdd37a072f9",
       "version_major": 2,
       "version_minor": 0
      },
      "text/plain": [
       "Computing:   0%|                                         | 0/15 [00:00<?, ?it/s]"
      ]
     },
     "metadata": {},
     "output_type": "display_data"
    },
    {
     "name": "stdout",
     "output_type": "stream",
     "text": [
      "Interations taken for prob method is 3\n",
      "Interations taken for deterministicc method is 5\n"
     ]
    }
   ],
   "source": [
    "p = [0.5, 0.6, 0.7, 0.8, 0.9]\n",
    "nodes_size = [10, 20, 30]\n",
    "final_re = []\n",
    "\n",
    "for prob in p :\n",
    "    for node in nodes_size:\n",
    "        local_list = []\n",
    "        for _ in range(20):#do the average of 30 runs:\n",
    "            lr2 = p_and_1_minus_p(node, prob)\n",
    "            top_2 = heapq.nlargest(2, (lr2[-1:][0]['u_calculated']))\n",
    "            dict_2 = {\n",
    "                'p':prob,\n",
    "                'vertex_size':node,\n",
    "                'top_1_bary':top_2[0],\n",
    "                'top_2_bary': top_2[1]\n",
    "            }\n",
    "            local_list.append(dict_2)\n",
    "\n",
    "        df = pd.DataFrame(local_list) # here find the average\n",
    "        mean_top_1 = df['top_1_bary'].mean()\n",
    "        mean_top_2 = df['top_2_bary'].mean()\n",
    "        dict_2_send_final = {\n",
    "            'p': df.iloc[0]['p'],\n",
    "            'vertex_size': df.iloc[0]['vertex_size'],\n",
    "            'top_1_bary':mean_top_1,\n",
    "            'top_2_bary':mean_top_2\n",
    "        }\n",
    "        final_re.append(dict_2_send_final)\n",
    "        \n",
    "\n",
    "        \n",
    "\n",
    "        \n"
   ]
  },
  {
   "cell_type": "code",
   "execution_count": 32,
   "id": "0aa58a39-c898-4525-9718-0cb8603b2c9c",
   "metadata": {},
   "outputs": [],
   "source": [
    "df = pd.DataFrame(final_re)\n",
    "df.to_csv(\"p_vertex_size_barycenter_improved.csv\")"
   ]
  },
  {
   "cell_type": "code",
   "execution_count": 33,
   "id": "7c7b8257-acd5-4e89-ba4f-5dbfe7ebb409",
   "metadata": {},
   "outputs": [
    {
     "data": {
      "image/png": "[encoded data removed]",
      "text/plain": [
       "<Figure size 720x432 with 2 Axes>"
      ]
     },
     "metadata": {
      "needs_background": "light"
     },
     "output_type": "display_data"
    }
   ],
   "source": [
    "import seaborn as sns\n",
    "heatmap_data_top1 = df.pivot(index=\"vertex_size\", columns=\"p\", values=\"top_1_bary\")\n",
    "heatmap_data_top2 = df.pivot(index=\"vertex_size\", columns=\"p\", values=\"top_2_bary\")\n",
    "\n",
    "plt.figure(figsize=(10, 6))\n",
    "ax = sns.heatmap(heatmap_data_top1, annot=False, cmap=\"coolwarm\", linewidths=0.5, fmt=\".2f\")\n",
    "\n",
    "\n",
    "for i in range(len(heatmap_data_top1.index)):\n",
    "    for j in range(len(heatmap_data_top1.columns)):\n",
    "        val1 = heatmap_data_top1.iloc[i, j]\n",
    "        val2 = heatmap_data_top2.iloc[i, j]\n",
    "        text = f\"{val1:.2f}\\n{val2:.2f}\"  \n",
    "        ax.text(j + 0.5, i + 0.5, text, ha=\"center\", va=\"center\", fontsize=10, color=\"black\")\n",
    "\n",
    "\n",
    "plt.xlabel(\"p\")\n",
    "plt.ylabel(\"Vertex Size\")\n",
    "plt.title(\"Heatmap of Top 1 & Top 2 Bary Values\")\n",
    "\n",
    "plt.show()"
   ]
  },
  {
   "cell_type": "code",
   "execution_count": 3,
   "id": "73868484-ba01-4f73-9a88-3e452caca401",
   "metadata": {},
   "outputs": [],
   "source": [
    "df = pd.read_csv(\"p_vertex_size_barycenter_improved.csv\")"
   ]
  },
  {
   "cell_type": "code",
   "execution_count": null,
   "id": "7fd74fee-dd88-48a6-9b28-48bfd73c1250",
   "metadata": {},
   "outputs": [],
   "source": []
  }
 ],
 "metadata": {
  "kernelspec": {
   "display_name": "Python 3 (ipykernel)",
   "language": "python",
   "name": "python3"
  },
  "language_info": {
   "codemirror_mode": {
    "name": "ipython",
    "version": 3
   },
   "file_extension": ".py",
   "mimetype": "text/x-python",
   "name": "python",
   "nbconvert_exporter": "python",
   "pygments_lexer": "ipython3",
   "version": "3.10.12"
  }
 },
 "nbformat": 4,
 "nbformat_minor": 5
}
