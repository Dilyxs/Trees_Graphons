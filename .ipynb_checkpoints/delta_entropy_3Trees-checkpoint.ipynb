{
 "cells": [
  {
   "cell_type": "code",
   "execution_count": 1,
   "id": "c290e099-f691-46ec-87b8-cc8f472e0f4a",
   "metadata": {},
   "outputs": [
    {
     "name": "stderr",
     "output_type": "stream",
     "text": [
      "/home/adsayan/.local/lib/python3.10/site-packages/matplotlib/projections/__init__.py:63: UserWarning: Unable to import Axes3D. This may be due to multiple versions of Matplotlib being installed (e.g. as a system package and as a pip package). As a result, the 3D projection is not available.\n",
      "  warnings.warn(\"Unable to import Axes3D. This may be due to multiple versions of \"\n"
     ]
    },
    {
     "name": "stdout",
     "output_type": "stream",
     "text": [
      "0.05444455146789551\n",
      "time take  is 4.2438507080078125e-05\n",
      "printing time is (5.4836273193359375e-06)\n"
     ]
    }
   ],
   "source": [
    "import numpy as np\n",
    "import networkx as nx\n",
    "import matplotlib.pyplot as plt\n",
    "import copy\n",
    "from uniform_attachment_model  import matrix_uniform_attachment\n",
    "from tqdm.notebook import tqdm\n",
    "import pandas as pd\n",
    "import time\n",
    "import copy\n",
    "import  heapq\n",
    "from reg_three_g import make_that_0_into_1_with_transpose\n",
    "from line_tree import create_line_tree_adjacency_matrix\n",
    "from reg_three_g import final_3_reg_tree\n",
    "import seaborn as sns\n",
    "import os\n",
    "import math\n",
    "import matplotlib.animation as animation\n",
    "import imageio.v2 as imageio\n",
    "import ast\n",
    "import random"
   ]
  },
  {
   "cell_type": "code",
   "execution_count": 2,
   "id": "dda42cc5-1ec0-4625-96c0-38d243f88b58",
   "metadata": {},
   "outputs": [],
   "source": [
    "def quick_binomial(n, p):\n",
    "    return np.random.binomial(n, p)\n",
    "\n",
    "def max_finder_in_list(lst):\n",
    "\n",
    "    return max(lst, default=0)\n",
    "\n",
    "def make_that_0_into_1_with_transpose(matrix, i, j):\n",
    "    matrix[i][j] = 1\n",
    "    matrix[j][i] = 1\n",
    "\n",
    "def draw_graph_from_adjacency_matrix(adjacency_matrix):\n",
    "    G = nx.Graph()\n",
    "\n",
    "    for i in range(len(adjacency_matrix)):\n",
    "        for j in range(len(adjacency_matrix[i])):\n",
    "            if adjacency_matrix[i][j] != 0: \n",
    "                G.add_edge(i, j, weight=adjacency_matrix[i][j])\n",
    "\n",
    "\n",
    "    G.add_nodes_from(range(len(adjacency_matrix)))\n",
    "\n",
    "    pos = nx.spring_layout(G, seed=42)\n",
    "\n",
    "    # Draw the graph\n",
    "    plt.figure(figsize=(8, 6))\n",
    "    nx.draw(\n",
    "        G,\n",
    "        pos,\n",
    "        with_labels=True,\n",
    "        node_color='lightblue',\n",
    "        edge_color='black',\n",
    "        node_size=10,\n",
    "        font_size=10,\n",
    "        width=0.5\n",
    "    )\n",
    "    plt.title(\"Graph from Adjacency Matrix\")\n",
    "    plt.show()"
   ]
  },
  {
   "cell_type": "code",
   "execution_count": 3,
   "id": "3a30dcb4-8b7b-45b5-b47c-4406bb002729",
   "metadata": {},
   "outputs": [],
   "source": [
    "def generate_galton_watson_adjacency(n, p, max_nodes=100, max_iterations=20):\n",
    "    \"\"\"Generate the adjacency matrix for a Galton-Watson process.\"\"\"\n",
    "    matrix = [[0]]  \n",
    "    rows_completed = []  \n",
    "    \n",
    "    iteration = 0\n",
    "    while iteration < max_iterations:\n",
    "        new_nodes_added = False \n",
    "\n",
    "        for i in range(len(matrix)):\n",
    "            if i in rows_completed:\n",
    "                continue\n",
    "\n",
    "            locally_completed_int = []\n",
    "            how_many_kids = quick_binomial(n, p)\n",
    "\n",
    "            if how_many_kids > 0:\n",
    "                new_nodes_added = True  \n",
    "\n",
    "            for _ in range(how_many_kids):\n",
    "                while len(matrix[i]) <= max_finder_in_list(locally_completed_int):\n",
    "                    matrix[i].append(0)\n",
    "                \n",
    "                matrix[i].append(1)\n",
    "                locally_completed_int.append(len(matrix[i]) - 1)\n",
    "\n",
    "            how_many_rows_required = len(matrix[i])\n",
    "            while len(matrix) < how_many_rows_required:\n",
    "                matrix.append([0] * how_many_rows_required)\n",
    "\n",
    "            for row in matrix:\n",
    "                while len(row) < len(matrix):\n",
    "                    row.append(0)\n",
    "\n",
    "            for child_index in locally_completed_int:\n",
    "                make_that_0_into_1_with_transpose(matrix, i, child_index)\n",
    "\n",
    "            rows_completed.append(i)\n",
    "\n",
    "        iteration += 1\n",
    "\n",
    "        if not new_nodes_added:  \n",
    "            break\n",
    "\n",
    "    return matrix\n"
   ]
  },
  {
   "cell_type": "code",
   "execution_count": 4,
   "id": "4cd30459-6137-45d8-b8e9-e1b88b9fe20e",
   "metadata": {},
   "outputs": [],
   "source": [
    "def find_barycenter_prob(matrix, vertex_to_remove):\n",
    "\n",
    "    matrix_copy = copy.deepcopy(matrix)\n",
    "\n",
    "    row_c = [0, 1]\n",
    "\n",
    "    for i in vertex_to_remove:\n",
    "        if vertex_to_remove.count(i) >= 2:\n",
    "            return i  \n",
    "\n",
    "    while len(row_c) != 0:\n",
    "        row, column = row_colum_returner(matrix_copy, vertex_to_remove)\n",
    "        row_c = row\n",
    "\n",
    "        if len(row_c) == 0:\n",
    "            break\n",
    "\n",
    "        for r, c in zip(row, column):\n",
    "            matrix_copy = make_that_1_into_0_with_transpose(matrix_copy, r, c)\n",
    "\n",
    " \n",
    "    for s, i in enumerate(matrix_copy):\n",
    "        if sum(i) == 3:\n",
    "            return s  #\n",
    "\n",
    "    for i in vertex_to_remove:\n",
    "        if sum(matrix_copy[i]) == 2:\n",
    "            return i  \n",
    "\n",
    " \n",
    "    return None\n",
    "def row_colum_returner(matrix, vertex_to_remove):\n",
    "    s= 0 \n",
    "    column = []\n",
    "    row = []\n",
    "    for i in matrix:\n",
    "        if sum(i) == 1:\n",
    "            if s in vertex_to_remove:\n",
    "                pass\n",
    "            if s not in vertex_to_remove:\n",
    "                d = 0\n",
    "                for v in i:\n",
    "                    if v==1:\n",
    "                        row.append(s)\n",
    "                        column.append(d)\n",
    "                    d+=1\n",
    "                        \n",
    "    \n",
    "        s+=1\n",
    "\n",
    "    return row, column\n",
    "\n",
    "def calculate_u_new(matrix):\n",
    "    row_count = max(len(i) for i in matrix)\n",
    "    u_new = [0] * row_count\n",
    "    u_old = [1 / row_count] * row_count\n",
    "    \n",
    "    for i in range(0, row_count):\n",
    "        for j in range(0, row_count):\n",
    "            for k in range(0, row_count):\n",
    "                center = find_barycenter_prob(matrix, vertex_to_remove=[i, j, k])\n",
    "                u_new[center] += u_old[i] * u_old[j] * u_old[k]\n",
    "    \n",
    "    return u_new\n",
    "\n",
    "\n",
    "def find_barycenter_deterministic(adj_matrix):\n",
    "    leaf_cut = []    \n",
    "    adj_matrix_copy = copy.deepcopy(adj_matrix)\n",
    "    \n",
    "    n = len(adj_matrix_copy)  # Number of nodes, number of rows\n",
    "    degrees = np.sum(adj_matrix_copy, axis=1)  # Sum of row = degree\n",
    "    nodes = set(range(n))  # All vertices\n",
    "    \n",
    "    while len(nodes) > 2: \n",
    "        # Find all leaf nodes (nodes with degree 1)\n",
    "        leaf_nodes = [i for i in nodes if degrees[i] == 1]  # Only those with a single 1 are leaves\n",
    "        \n",
    "        for leaf in leaf_nodes:\n",
    "            nodes.remove(leaf)  # Remove the leaf\n",
    "            degrees[leaf] = 0  # Degree is then 0\n",
    "\n",
    "            for neighbor in range(n):  # Check all neighbors\n",
    "                if adj_matrix_copy[leaf][neighbor] == 1:  # If there is a connection\n",
    "                    degrees[neighbor] -= 1  # Decrement the degree of the neighbor\n",
    "                    adj_matrix_copy[leaf][neighbor] = 0  # Change the 1 to 0\n",
    "                    adj_matrix_copy[neighbor][leaf] = 0  # Also change its \"transpose position\" to 0\n",
    "        leaf_cut.append(1)\n",
    "\n",
    "    # At this point, there should only be 1 or 2 nodes left\n",
    "    remaining_nodes = list(nodes)  # Convert the set to a list\n",
    "\n",
    "    if len(remaining_nodes) == 1:  # If only 1 vertex remains\n",
    "        return remaining_nodes, adj_matrix_copy, sum(leaf_cut)\n",
    "    elif len(remaining_nodes) == 2:  # If 2 vertices remain\n",
    "        return remaining_nodes, adj_matrix_copy, sum(leaf_cut)\n",
    "\n",
    "def make_that_1_into_0_with_transpose(matrix, row, column):\n",
    "    matrix[row][column] = 0\n",
    "    matrix[column][row] = 0\n",
    "\n",
    "\n",
    "    return matrix\n",
    "\n",
    "def draw_graph_from_adjacency_matrix(adjacency_matrix):\n",
    "    G = nx.Graph()\n",
    "\n",
    "    for i in range(len(adjacency_matrix)):\n",
    "        for j in range(len(adjacency_matrix[i])):\n",
    "            if adjacency_matrix[i][j] != 0: \n",
    "                G.add_edge(i, j, weight=adjacency_matrix[i][j])\n",
    "\n",
    "\n",
    "    G.add_nodes_from(range(len(adjacency_matrix)))\n",
    "\n",
    "    pos = nx.spring_layout(G, seed=42)\n",
    "\n",
    "    # Draw the graph\n",
    "    plt.figure(figsize=(8, 6))\n",
    "    nx.draw(\n",
    "        G,\n",
    "        pos,\n",
    "        with_labels=True,\n",
    "        node_color='lightblue',\n",
    "        edge_color='black',\n",
    "        node_size=10,\n",
    "        font_size=10,\n",
    "        width=0.5\n",
    "    )\n",
    "    plt.title(\"Graph from Adjacency Matrix\")\n",
    "    plt.show()\n",
    "def calculate_u_new(matrix, u_old = None, centers = None):\n",
    "    centers = []\n",
    "    row_count = max(len(i) for i in matrix)\n",
    "    u_new = [0] * row_count\n",
    "\n",
    "    if u_old is None:\n",
    "        u_old = [1 / row_count] * row_count\n",
    "\n",
    "    if  not centers:\n",
    "        for i in range(0, row_count):\n",
    "            for j in range(0, row_count):\n",
    "                for k in range(0, row_count):\n",
    "                    center = find_barycenter_prob(matrix, vertex_to_remove=[i, j, k])\n",
    "                    no_change_center = [i,j,k,center]\n",
    "                    u_new[center] += u_old[i] * u_old[j] * u_old[k]\n",
    "                    centers.append(no_change_center)\n",
    "        return u_new,centers\n",
    "\n",
    "\n",
    "    if centers:\n",
    "        for element in centers:\n",
    "            u_new[element[3]] += u_old[element[0]] * u_old[element[1]] * u_old[element[2]]\n",
    "            return u_new, centers\n",
    "            \n",
    "\n",
    "\n",
    "def entropy_calculator(list_s):\n",
    "    entropy_sum_list = []\n",
    "    for i in list_s:\n",
    "        if i < 0.0000000001:\n",
    "            value = 0\n",
    "        else:\n",
    "            value = i * np.log(i)\n",
    "            entropy_sum_list.append(value)\n",
    "    \n",
    "    return -sum(entropy_sum_list)\n",
    "\n",
    "def main_entropy_for_each_interation(n, matrix, lower_barrier = np.log(2).round(10)):\n",
    "    start_time = time.time() \n",
    "    total_steps = n\n",
    "    progress_bar = tqdm(total=total_steps, desc=\"Computing\", dynamic_ncols=True)\n",
    "\n",
    "    list_with_all_iteration = []\n",
    "    u_old = None\n",
    "    centers = None\n",
    "    for s in range(n):\n",
    "        elapsed_time = time.time() - start_time\n",
    "        progress_bar.set_description(f\"Elapsed: {elapsed_time:.2f} sec\")\n",
    "        u_calculated, los_centers = calculate_u_new(matrix, u_old, centers)\n",
    "        entropy_received = (entropy_calculator(u_calculated)).round(4)\n",
    "        centers = los_centers\n",
    "        u_old = u_calculated\n",
    "\n",
    "        dict_2_send = {\n",
    "            \"interation\": s,\n",
    "            \"entropy\": entropy_received,\n",
    "            'u_calculated': u_calculated\n",
    "        }\n",
    "        list_with_all_iteration.append(dict_2_send)\n",
    "\n",
    "        if entropy_received < lower_barrier:  \n",
    "            progress_bar.n = total_steps  # Set progress to max\n",
    "            progress_bar.refresh()  # Force update the UI\n",
    "            progress_bar.close\n",
    "            break  \n",
    "\n",
    "        progress_bar.update(1)  \n",
    "\n",
    "    progress_bar.close()  \n",
    "    return list_with_all_iteration\n",
    "    \n",
    "def runner(iterations, node_size):\n",
    "    \n",
    "    node_counter = []\n",
    "    edge_counter = []\n",
    "    \n",
    "    edge_count = 0\n",
    "    vertex_count = 0\n",
    "    for i in set(range(iterations)):\n",
    "        matrix = matrix_uniform_attachment(node_size)\n",
    "        sd ,ad, cuts = find_barycenter_deterministic(matrix)\n",
    "\n",
    "\n",
    "        \n",
    "        if len(sd) == 2:#it is an edge\n",
    "            edge_count+=1\n",
    "            edge_counter.append(sd[0])\n",
    "            edge_counter.append(sd[1])\n",
    "        elif len(sd) == 1: #is is an vertex\n",
    "            vertex_count+=1\n",
    "            node_counter.append(sd[0])\n",
    "    return edge_count, vertex_count, node_counter, edge_counter\n",
    "def generate_galton_watson_adjacency(n, p, max_nodes=100, max_iterations=20):\n",
    "    \"\"\"Generate the adjacency matrix for a Galton-Watson process.\"\"\"\n",
    "    matrix = [[0]]  \n",
    "    rows_completed = []  \n",
    "    \n",
    "    iteration = 0\n",
    "    while iteration < max_iterations:\n",
    "        new_nodes_added = False \n",
    "\n",
    "        for i in range(len(matrix)):\n",
    "            if i in rows_completed:\n",
    "                continue\n",
    "\n",
    "            locally_completed_int = []\n",
    "            how_many_kids = quick_binomial(n, p)\n",
    "\n",
    "            if how_many_kids > 0:\n",
    "                new_nodes_added = True  \n",
    "\n",
    "            for _ in range(how_many_kids):\n",
    "                while len(matrix[i]) <= max_finder_in_list(locally_completed_int):\n",
    "                    matrix[i].append(0)\n",
    "                \n",
    "                matrix[i].append(1)\n",
    "                locally_completed_int.append(len(matrix[i]) - 1)\n",
    "\n",
    "            how_many_rows_required = len(matrix[i])\n",
    "            while len(matrix) < how_many_rows_required:\n",
    "                matrix.append([0] * how_many_rows_required)\n",
    "\n",
    "            for row in matrix:\n",
    "                while len(row) < len(matrix):\n",
    "                    row.append(0)\n",
    "\n",
    "            for child_index in locally_completed_int:\n",
    "                make_that_0_into_1_with_transpose(matrix, i, child_index)\n",
    "\n",
    "            rows_completed.append(i)\n",
    "\n",
    "        iteration += 1\n",
    "\n",
    "        if not new_nodes_added:  \n",
    "            break\n",
    "\n",
    "    return matrix\n"
   ]
  },
  {
   "cell_type": "code",
   "execution_count": 5,
   "id": "d522fe33-df63-4144-a8ac-8d9abf7b0df9",
   "metadata": {},
   "outputs": [],
   "source": [
    "\n",
    "def make_that_1_into_0_with_transpos(matrix, row, column):\n",
    "    matrix[row][column] = 0\n",
    "    matrix[column][row] = 0\n",
    "\n",
    "    \n",
    "def merge_trees(matrix_1, matrix_2, random_vertex_selection = True, vertex_from_matrix_1 = None, vertex_from_matrix_2 = None):\n",
    "    matrix_1_cp = copy.deepcopy(matrix_1)\n",
    "    matrix_2_cp = copy.deepcopy(matrix_2)\n",
    "\n",
    "\n",
    "    for i in range(len(matrix_2_cp)):\n",
    "        for li in matrix_1_cp:\n",
    "            li.append(0)\n",
    "\n",
    "\n",
    "    for i in range(len(matrix_1_cp)):\n",
    "        for li in matrix_2_cp:\n",
    "            li.insert(0, 0)\n",
    "        \n",
    "\n",
    "\n",
    "    for row in matrix_2_cp:\n",
    "        matrix_1_cp.append(row)\n",
    "\n",
    "    if random_vertex_selection: \n",
    "        vertex_for_matrix_1 = np.random.choice(list(range(len(matrix_1))))\n",
    "        vertex_for_matrix_2_og = np.random.choice(list(range(len(matrix_2))))\n",
    "        vertex_2_to_change = vertex_for_matrix_2_og + len(matrix_1)\n",
    "        print(f\"vertex {vertex_for_matrix_1} from matrix_1 and {vertex_for_matrix_2_og} from matrix_2_were chosen\")\n",
    "        matrix_final = make_that_0_into_1_with_transpose(matrix_1_cp, vertex_for_matrix_1, vertex_2_to_change)\n",
    "        return matrix_final, vertex_for_matrix_1, vertex_for_matrix_2_og\n",
    "\n",
    "    else:\n",
    "        if vertex_from_matrix_1 is None:\n",
    "            vertex_for_matrix_1 = np.random.choice(list(range(len(matrix_1))))\n",
    "            vertex_2_to_change = vertex_from_matrix_2 + len(matrix_1)\n",
    "            print(f\"vertex {vertex_for_matrix_1} from matrix_1 and {vertex_from_matrix_2} from matrix_2_were chosen\")\n",
    "            matrix_final = make_that_0_into_1_with_transpose(matrix_1_cp, vertex_for_matrix_1, vertex_2_to_change)\n",
    "            return matrix_final, vertex_for_matrix_1, vertex_from_matrix_2\n",
    "            \n",
    "        else:\n",
    "            vertex_for_matrix_1 = vertex_from_matrix_1\n",
    "            vertex_2_to_change = vertex_from_matrix_2 + len(matrix_1)\n",
    "            print(f\"vertex {vertex_for_matrix_1} from matrix_1 and {vertex_from_matrix_2} from matrix_2_were chosen\")\n",
    "            matrix_final = make_that_0_into_1_with_transpose(matrix_1_cp, vertex_for_matrix_1, vertex_2_to_change)\n",
    "            return matrix_final, vertex_for_matrix_1, vertex_from_matrix_2\n",
    "\n"
   ]
  },
  {
   "cell_type": "code",
   "execution_count": 19,
   "id": "3234f17e-7474-4091-905c-d875bf276d25",
   "metadata": {},
   "outputs": [],
   "source": [
    "def diffusion_process(M, delta):\n",
    "    matrix = copy.deepcopy(M)\n",
    "    size = np.array(matrix).shape[0]\n",
    "    m = np.identity(size)\n",
    "    first_half = (1-delta) * m\n",
    "    second_half = return_deg(M, delta)\n",
    "    return (first_half + second_half)\n",
    "    \n",
    "\n",
    "def return_deg(matrix, delta):\n",
    "    ma = copy.deepcopy(matrix)\n",
    "    clean = copy.deepcopy(matrix)\n",
    "    for i in ma:\n",
    "        deg = sum(i)\n",
    "        for v, num in enumerate(i):\n",
    "            i[v] = num / deg\n",
    "    ma = np.matrix.transpose(np.array(ma))\n",
    "    return (delta *ma) \n",
    "def main_guy(delta,model_type, matrix_size=15, tolerance=1e-5, max_tolerance = 40):\n",
    "    \"\"\"for model type, put either random_uni, straight_line, tree_3, note that for tree_3 it's iterations done\"\"\"\n",
    "    centers = None\n",
    "    u_old = None\n",
    "    last_before_u = None\n",
    "\n",
    "    if model_type == \"random_uni\":\n",
    "        matrix = matrix_uniform_attachment(matrix_size)\n",
    "\n",
    "    elif model_type == \"straight_line\":\n",
    "        matrix = create_line_tree_adjacency_matrix(matrix_size)\n",
    "    elif model_type == \"tree_3\":\n",
    "        matrix = final_3_reg_tree(matrix_size)\n",
    "    matri = diffusion_process(matrix, delta)\n",
    "    iterations_done = 0\n",
    "    last_four_value = []\n",
    "\n",
    "    start_time = time.time()\n",
    "    pbar = tqdm(total=max_tolerance, desc=\"Processing Iterations\", unit=\"step\") \n",
    "\n",
    "    for _ in range(40):\n",
    "        x, y = calculate_u_new(matrix, u_old=u_old, centers=centers)\n",
    "        centers = y\n",
    "        value = np.matmul(matri, np.array(x))\n",
    "\n",
    "        u_old = value\n",
    "        entropy = entropy_calculator(value)\n",
    "\n",
    "\n",
    "        if entropy < 0.1:\n",
    "            pbar.n = pbar.total\n",
    "            pbar.update(0)\n",
    "            break\n",
    "            \n",
    "        \n",
    "\n",
    "        if len(last_four_value) < 4:\n",
    "            last_four_value.append(entropy)\n",
    "        else:\n",
    "            last_four_value.pop(0)  \n",
    "            last_four_value.append(entropy)\n",
    "\n",
    "        iterations_done += 1\n",
    "\n",
    "        elapsed_time = time.time() - start_time\n",
    "        pbar.set_description(f\"Processing Iterations | Time: {elapsed_time:.2f}s\")\n",
    "        pbar.update(1)  \n",
    "\n",
    "        if len(last_four_value) >= 4:\n",
    "            diffs = [np.linalg.norm(last_four_value[i] - last_four_value[i - 1]) for i in range(1, 4)]\n",
    "            if np.mean(diffs) < tolerance:\n",
    "                pbar.n = pbar.total\n",
    "                pbar.update(0)\n",
    "                break\n",
    "\n",
    "    pbar.close()\n",
    "\n",
    "\n",
    "    return u_old, iterations_done, np.mean(last_four_value), last_four_value"
   ]
  },
  {
   "cell_type": "code",
   "execution_count": 288,
   "id": "b59f172f-e229-467d-ac56-6eafdec5c71b",
   "metadata": {},
   "outputs": [],
   "source": [
    "n = 4\n",
    "p = 1/n\n",
    "saved_matrix = []\n",
    "\n",
    "while len(saved_matrix) < 20:   \n",
    "    matrix = generate_galton_watson_adjacency(n, p)\n",
    "    if 15 <= len(matrix) <=20:\n",
    "        saved_matrix.append(matrix)\n"
   ]
  },
  {
   "cell_type": "code",
   "execution_count": 27,
   "id": "c41d436f-d945-4b0e-9f60-6dd0606ecae0",
   "metadata": {},
   "outputs": [],
   "source": [
    "delta_range = [0.1, 0.2, 0.3, 0.4, 0.5, 0.6, 0.7, 0.8, 0.9]\n",
    "\n",
    "def boss_runner(delta_range, tolerance = 1e-12, model_type = \"random_uni\"):\n",
    "    all_data = [] \n",
    "    iteration = []\n",
    "    for delta in delta_range:\n",
    "        for _ in range(5):\n",
    "            local_it = []\n",
    "            local_entropy = []\n",
    "            matrix_size = random.randint(15, 20)\n",
    "                                    \n",
    "            u_new, iterr, entropy = main_guy(delta, model_type=model_type, matrix_size=matrix_size, tolerance=tolerance)\n",
    "            local_it.append(iterr)\n",
    "            local_entropy.append(entropy)\n",
    "        iteration.append({'delta':delta ,\n",
    "                          'vertex':matrix_size,\n",
    "                        'iterration':np.mean(local_it),\n",
    "                        'entropy': np.mean(local_entropy),\n",
    "                         'u_old' : u_new})\n",
    "\n",
    "        all_data.append(iteration)\n",
    "    df = pd.DataFrame(iteration)\n",
    "    return all_data, df"
   ]
  },
  {
   "cell_type": "code",
   "execution_count": 28,
   "id": "2843b79b-ff0f-4323-bc87-27c343b629aa",
   "metadata": {
    "scrolled": true
   },
   "outputs": [
    {
     "data": {
      "application/vnd.jupyter.widget-view+json": {
       "model_id": "deabed3e09c54753a11bb300915cb132",
       "version_major": 2,
       "version_minor": 0
      },
      "text/plain": [
       "Processing Iterations:   0%|          | 0/40 [00:00<?, ?step/s]"
      ]
     },
     "metadata": {},
     "output_type": "display_data"
    },
    {
     "data": {
      "application/vnd.jupyter.widget-view+json": {
       "model_id": "2e5d4c03af7e4d178a8e588e0fd183fe",
       "version_major": 2,
       "version_minor": 0
      },
      "text/plain": [
       "Processing Iterations:   0%|          | 0/40 [00:00<?, ?step/s]"
      ]
     },
     "metadata": {},
     "output_type": "display_data"
    },
    {
     "data": {
      "application/vnd.jupyter.widget-view+json": {
       "model_id": "cb10c3019763429eb377aa463ab98719",
       "version_major": 2,
       "version_minor": 0
      },
      "text/plain": [
       "Processing Iterations:   0%|          | 0/40 [00:00<?, ?step/s]"
      ]
     },
     "metadata": {},
     "output_type": "display_data"
    },
    {
     "data": {
      "application/vnd.jupyter.widget-view+json": {
       "model_id": "4cb19c12e4d34499a980c3bae3188437",
       "version_major": 2,
       "version_minor": 0
      },
      "text/plain": [
       "Processing Iterations:   0%|          | 0/40 [00:00<?, ?step/s]"
      ]
     },
     "metadata": {},
     "output_type": "display_data"
    },
    {
     "data": {
      "application/vnd.jupyter.widget-view+json": {
       "model_id": "77d8ee4767c343ed930e871978cbae5d",
       "version_major": 2,
       "version_minor": 0
      },
      "text/plain": [
       "Processing Iterations:   0%|          | 0/40 [00:00<?, ?step/s]"
      ]
     },
     "metadata": {},
     "output_type": "display_data"
    },
    {
     "data": {
      "application/vnd.jupyter.widget-view+json": {
       "model_id": "2d9ef33c405c49bd8fb7a7a047bd4288",
       "version_major": 2,
       "version_minor": 0
      },
      "text/plain": [
       "Processing Iterations:   0%|          | 0/40 [00:00<?, ?step/s]"
      ]
     },
     "metadata": {},
     "output_type": "display_data"
    },
    {
     "data": {
      "application/vnd.jupyter.widget-view+json": {
       "model_id": "6b07693ee1b64634a8627855c6741cdc",
       "version_major": 2,
       "version_minor": 0
      },
      "text/plain": [
       "Processing Iterations:   0%|          | 0/40 [00:00<?, ?step/s]"
      ]
     },
     "metadata": {},
     "output_type": "display_data"
    },
    {
     "data": {
      "application/vnd.jupyter.widget-view+json": {
       "model_id": "990cbdfd7a984317a623d14f0891573c",
       "version_major": 2,
       "version_minor": 0
      },
      "text/plain": [
       "Processing Iterations:   0%|          | 0/40 [00:00<?, ?step/s]"
      ]
     },
     "metadata": {},
     "output_type": "display_data"
    },
    {
     "data": {
      "application/vnd.jupyter.widget-view+json": {
       "model_id": "f899abc6a8604be58aefcef0e6bfef63",
       "version_major": 2,
       "version_minor": 0
      },
      "text/plain": [
       "Processing Iterations:   0%|          | 0/40 [00:00<?, ?step/s]"
      ]
     },
     "metadata": {},
     "output_type": "display_data"
    },
    {
     "data": {
      "application/vnd.jupyter.widget-view+json": {
       "model_id": "a8b0928471c14ac1816083e0b6e36385",
       "version_major": 2,
       "version_minor": 0
      },
      "text/plain": [
       "Processing Iterations:   0%|          | 0/40 [00:00<?, ?step/s]"
      ]
     },
     "metadata": {},
     "output_type": "display_data"
    },
    {
     "data": {
      "application/vnd.jupyter.widget-view+json": {
       "model_id": "d9c53a7647a0443ba215026990e33ef3",
       "version_major": 2,
       "version_minor": 0
      },
      "text/plain": [
       "Processing Iterations:   0%|          | 0/40 [00:00<?, ?step/s]"
      ]
     },
     "metadata": {},
     "output_type": "display_data"
    },
    {
     "data": {
      "application/vnd.jupyter.widget-view+json": {
       "model_id": "a499e5f229714554b53a7c1879700f02",
       "version_major": 2,
       "version_minor": 0
      },
      "text/plain": [
       "Processing Iterations:   0%|          | 0/40 [00:00<?, ?step/s]"
      ]
     },
     "metadata": {},
     "output_type": "display_data"
    },
    {
     "data": {
      "application/vnd.jupyter.widget-view+json": {
       "model_id": "59b68469575244d594c8dfcc5b63ba52",
       "version_major": 2,
       "version_minor": 0
      },
      "text/plain": [
       "Processing Iterations:   0%|          | 0/40 [00:00<?, ?step/s]"
      ]
     },
     "metadata": {},
     "output_type": "display_data"
    },
    {
     "data": {
      "application/vnd.jupyter.widget-view+json": {
       "model_id": "7c4927998f9044c79f0cbf8d78c54e17",
       "version_major": 2,
       "version_minor": 0
      },
      "text/plain": [
       "Processing Iterations:   0%|          | 0/40 [00:00<?, ?step/s]"
      ]
     },
     "metadata": {},
     "output_type": "display_data"
    },
    {
     "data": {
      "application/vnd.jupyter.widget-view+json": {
       "model_id": "4ca027fb7d114f7aa5e1c1da3d4ba4a6",
       "version_major": 2,
       "version_minor": 0
      },
      "text/plain": [
       "Processing Iterations:   0%|          | 0/40 [00:00<?, ?step/s]"
      ]
     },
     "metadata": {},
     "output_type": "display_data"
    },
    {
     "data": {
      "application/vnd.jupyter.widget-view+json": {
       "model_id": "622c329903c843eb93eaf862a9a870df",
       "version_major": 2,
       "version_minor": 0
      },
      "text/plain": [
       "Processing Iterations:   0%|          | 0/40 [00:00<?, ?step/s]"
      ]
     },
     "metadata": {},
     "output_type": "display_data"
    },
    {
     "data": {
      "application/vnd.jupyter.widget-view+json": {
       "model_id": "33fcd215a10f41768ac4de992e9143b0",
       "version_major": 2,
       "version_minor": 0
      },
      "text/plain": [
       "Processing Iterations:   0%|          | 0/40 [00:00<?, ?step/s]"
      ]
     },
     "metadata": {},
     "output_type": "display_data"
    },
    {
     "data": {
      "application/vnd.jupyter.widget-view+json": {
       "model_id": "dcca730f880a43cb8cdbb0c212709134",
       "version_major": 2,
       "version_minor": 0
      },
      "text/plain": [
       "Processing Iterations:   0%|          | 0/40 [00:00<?, ?step/s]"
      ]
     },
     "metadata": {},
     "output_type": "display_data"
    },
    {
     "data": {
      "application/vnd.jupyter.widget-view+json": {
       "model_id": "f78535df7fba460c80d203e328032a17",
       "version_major": 2,
       "version_minor": 0
      },
      "text/plain": [
       "Processing Iterations:   0%|          | 0/40 [00:00<?, ?step/s]"
      ]
     },
     "metadata": {},
     "output_type": "display_data"
    },
    {
     "data": {
      "application/vnd.jupyter.widget-view+json": {
       "model_id": "28656f635a8e4584add0710b56c4427d",
       "version_major": 2,
       "version_minor": 0
      },
      "text/plain": [
       "Processing Iterations:   0%|          | 0/40 [00:00<?, ?step/s]"
      ]
     },
     "metadata": {},
     "output_type": "display_data"
    },
    {
     "data": {
      "application/vnd.jupyter.widget-view+json": {
       "model_id": "8873efc5968845899437bb69d2eff22b",
       "version_major": 2,
       "version_minor": 0
      },
      "text/plain": [
       "Processing Iterations:   0%|          | 0/40 [00:00<?, ?step/s]"
      ]
     },
     "metadata": {},
     "output_type": "display_data"
    },
    {
     "data": {
      "application/vnd.jupyter.widget-view+json": {
       "model_id": "555df176c3b141e99c0f1cc7af4b8d85",
       "version_major": 2,
       "version_minor": 0
      },
      "text/plain": [
       "Processing Iterations:   0%|          | 0/40 [00:00<?, ?step/s]"
      ]
     },
     "metadata": {},
     "output_type": "display_data"
    },
    {
     "data": {
      "application/vnd.jupyter.widget-view+json": {
       "model_id": "8c84f879f62b4daba9206577c3e2d934",
       "version_major": 2,
       "version_minor": 0
      },
      "text/plain": [
       "Processing Iterations:   0%|          | 0/40 [00:00<?, ?step/s]"
      ]
     },
     "metadata": {},
     "output_type": "display_data"
    },
    {
     "data": {
      "application/vnd.jupyter.widget-view+json": {
       "model_id": "a178e339dab241b9bce58a5e1bc73830",
       "version_major": 2,
       "version_minor": 0
      },
      "text/plain": [
       "Processing Iterations:   0%|          | 0/40 [00:00<?, ?step/s]"
      ]
     },
     "metadata": {},
     "output_type": "display_data"
    },
    {
     "data": {
      "application/vnd.jupyter.widget-view+json": {
       "model_id": "c84b7e8e57944bbd98bd4fe5184ae3ef",
       "version_major": 2,
       "version_minor": 0
      },
      "text/plain": [
       "Processing Iterations:   0%|          | 0/40 [00:00<?, ?step/s]"
      ]
     },
     "metadata": {},
     "output_type": "display_data"
    },
    {
     "data": {
      "application/vnd.jupyter.widget-view+json": {
       "model_id": "917fb7afda4f444cac9d689ed224a758",
       "version_major": 2,
       "version_minor": 0
      },
      "text/plain": [
       "Processing Iterations:   0%|          | 0/40 [00:00<?, ?step/s]"
      ]
     },
     "metadata": {},
     "output_type": "display_data"
    },
    {
     "data": {
      "application/vnd.jupyter.widget-view+json": {
       "model_id": "9f396ad3baec46d68ec8131ec9d2a012",
       "version_major": 2,
       "version_minor": 0
      },
      "text/plain": [
       "Processing Iterations:   0%|          | 0/40 [00:00<?, ?step/s]"
      ]
     },
     "metadata": {},
     "output_type": "display_data"
    },
    {
     "data": {
      "application/vnd.jupyter.widget-view+json": {
       "model_id": "a55a66142d27427aa3553dd3422fd58f",
       "version_major": 2,
       "version_minor": 0
      },
      "text/plain": [
       "Processing Iterations:   0%|          | 0/40 [00:00<?, ?step/s]"
      ]
     },
     "metadata": {},
     "output_type": "display_data"
    },
    {
     "data": {
      "application/vnd.jupyter.widget-view+json": {
       "model_id": "6ad486a719664fe78e5c24e1f8e9df25",
       "version_major": 2,
       "version_minor": 0
      },
      "text/plain": [
       "Processing Iterations:   0%|          | 0/40 [00:00<?, ?step/s]"
      ]
     },
     "metadata": {},
     "output_type": "display_data"
    },
    {
     "data": {
      "application/vnd.jupyter.widget-view+json": {
       "model_id": "a7ebabd57472430d98a8f40e751b2599",
       "version_major": 2,
       "version_minor": 0
      },
      "text/plain": [
       "Processing Iterations:   0%|          | 0/40 [00:00<?, ?step/s]"
      ]
     },
     "metadata": {},
     "output_type": "display_data"
    },
    {
     "data": {
      "application/vnd.jupyter.widget-view+json": {
       "model_id": "b500ce00f5054bd6a5352467ebb12bbe",
       "version_major": 2,
       "version_minor": 0
      },
      "text/plain": [
       "Processing Iterations:   0%|          | 0/40 [00:00<?, ?step/s]"
      ]
     },
     "metadata": {},
     "output_type": "display_data"
    },
    {
     "data": {
      "application/vnd.jupyter.widget-view+json": {
       "model_id": "8cf851ba5df742cab3c35b9f766bb82e",
       "version_major": 2,
       "version_minor": 0
      },
      "text/plain": [
       "Processing Iterations:   0%|          | 0/40 [00:00<?, ?step/s]"
      ]
     },
     "metadata": {},
     "output_type": "display_data"
    },
    {
     "data": {
      "application/vnd.jupyter.widget-view+json": {
       "model_id": "fac03bc955b64bf38375d380d4bd6bf7",
       "version_major": 2,
       "version_minor": 0
      },
      "text/plain": [
       "Processing Iterations:   0%|          | 0/40 [00:00<?, ?step/s]"
      ]
     },
     "metadata": {},
     "output_type": "display_data"
    },
    {
     "data": {
      "application/vnd.jupyter.widget-view+json": {
       "model_id": "9840a81f3b8140679139ce790101afc4",
       "version_major": 2,
       "version_minor": 0
      },
      "text/plain": [
       "Processing Iterations:   0%|          | 0/40 [00:00<?, ?step/s]"
      ]
     },
     "metadata": {},
     "output_type": "display_data"
    },
    {
     "data": {
      "application/vnd.jupyter.widget-view+json": {
       "model_id": "7930695d7e554c668cad8c18300eef95",
       "version_major": 2,
       "version_minor": 0
      },
      "text/plain": [
       "Processing Iterations:   0%|          | 0/40 [00:00<?, ?step/s]"
      ]
     },
     "metadata": {},
     "output_type": "display_data"
    },
    {
     "data": {
      "application/vnd.jupyter.widget-view+json": {
       "model_id": "b9cd0297df5f4ca6aad308b17b4d9c42",
       "version_major": 2,
       "version_minor": 0
      },
      "text/plain": [
       "Processing Iterations:   0%|          | 0/40 [00:00<?, ?step/s]"
      ]
     },
     "metadata": {},
     "output_type": "display_data"
    },
    {
     "data": {
      "application/vnd.jupyter.widget-view+json": {
       "model_id": "ce1495c0dc8142cd8e57e7e69b56bb2c",
       "version_major": 2,
       "version_minor": 0
      },
      "text/plain": [
       "Processing Iterations:   0%|          | 0/40 [00:00<?, ?step/s]"
      ]
     },
     "metadata": {},
     "output_type": "display_data"
    },
    {
     "data": {
      "application/vnd.jupyter.widget-view+json": {
       "model_id": "d174eb5745fa4dd6b228c32fa568b15d",
       "version_major": 2,
       "version_minor": 0
      },
      "text/plain": [
       "Processing Iterations:   0%|          | 0/40 [00:00<?, ?step/s]"
      ]
     },
     "metadata": {},
     "output_type": "display_data"
    },
    {
     "data": {
      "application/vnd.jupyter.widget-view+json": {
       "model_id": "a761be9272e04daca12f67d1f139b2ae",
       "version_major": 2,
       "version_minor": 0
      },
      "text/plain": [
       "Processing Iterations:   0%|          | 0/40 [00:00<?, ?step/s]"
      ]
     },
     "metadata": {},
     "output_type": "display_data"
    },
    {
     "data": {
      "application/vnd.jupyter.widget-view+json": {
       "model_id": "b9a4ebede3dd4313ba7aea28b4b6ea15",
       "version_major": 2,
       "version_minor": 0
      },
      "text/plain": [
       "Processing Iterations:   0%|          | 0/40 [00:00<?, ?step/s]"
      ]
     },
     "metadata": {},
     "output_type": "display_data"
    },
    {
     "data": {
      "application/vnd.jupyter.widget-view+json": {
       "model_id": "90dd418f3dc64678ab3bde6c77d1820c",
       "version_major": 2,
       "version_minor": 0
      },
      "text/plain": [
       "Processing Iterations:   0%|          | 0/40 [00:00<?, ?step/s]"
      ]
     },
     "metadata": {},
     "output_type": "display_data"
    },
    {
     "data": {
      "application/vnd.jupyter.widget-view+json": {
       "model_id": "d34c1b1fba6343f9921c4743241ab4ea",
       "version_major": 2,
       "version_minor": 0
      },
      "text/plain": [
       "Processing Iterations:   0%|          | 0/40 [00:00<?, ?step/s]"
      ]
     },
     "metadata": {},
     "output_type": "display_data"
    },
    {
     "data": {
      "application/vnd.jupyter.widget-view+json": {
       "model_id": "c66b288f175745e18d716434d4574972",
       "version_major": 2,
       "version_minor": 0
      },
      "text/plain": [
       "Processing Iterations:   0%|          | 0/40 [00:00<?, ?step/s]"
      ]
     },
     "metadata": {},
     "output_type": "display_data"
    },
    {
     "data": {
      "application/vnd.jupyter.widget-view+json": {
       "model_id": "1b79d835257b4599a9b831de155f2518",
       "version_major": 2,
       "version_minor": 0
      },
      "text/plain": [
       "Processing Iterations:   0%|          | 0/40 [00:00<?, ?step/s]"
      ]
     },
     "metadata": {},
     "output_type": "display_data"
    },
    {
     "data": {
      "application/vnd.jupyter.widget-view+json": {
       "model_id": "c350c05e177145dda44f8b6653f65599",
       "version_major": 2,
       "version_minor": 0
      },
      "text/plain": [
       "Processing Iterations:   0%|          | 0/40 [00:00<?, ?step/s]"
      ]
     },
     "metadata": {},
     "output_type": "display_data"
    }
   ],
   "source": [
    "data, df_random = boss_runner(delta_range)"
   ]
  },
  {
   "cell_type": "code",
   "execution_count": 30,
   "id": "8ad2ebcb-ae1d-425a-8681-c59d1f6cdf41",
   "metadata": {},
   "outputs": [],
   "source": [
    "df_random.to_csv(\"random_data.csv\")"
   ]
  },
  {
   "cell_type": "code",
   "execution_count": null,
   "id": "e3bde61f-8d0e-4035-90fb-2348e3bedd52",
   "metadata": {},
   "outputs": [],
   "source": []
  },
  {
   "cell_type": "code",
   "execution_count": null,
   "id": "cc3d47e9-4163-4b19-aa25-32932cae7f7a",
   "metadata": {},
   "outputs": [],
   "source": []
  },
  {
   "cell_type": "code",
   "execution_count": 10,
   "id": "ec6025e2-0a4f-45f1-823b-bd65ce73ddf5",
   "metadata": {},
   "outputs": [],
   "source": [
    "delta_range = [0.1, 0.2, 0.3, 0.4, 0.5, 0.6, 0.7, 0.8, 0.9]\n",
    "\n",
    "def boss_runner_straight(delta_range, tolerance = 1e-3, model_type = \"straight_line\"):\n",
    "    all_data = [] \n",
    "    iteration = []\n",
    "    for delta in delta_range:\n",
    "        for _ in range(1):\n",
    "            local_it = []\n",
    "            local_entropy = []\n",
    "            matrix_size = random.randint(15, 20)\n",
    "                                    \n",
    "            u_new, iterr, entropy = main_guy(delta, model_type=model_type, matrix_size=matrix_size, tolerance=tolerance)\n",
    "            local_it.append(iterr)\n",
    "            local_entropy.append(entropy)\n",
    "        iteration.append({'delta':delta ,\n",
    "                          'vertex':matrix_size,\n",
    "                        'iterration':np.mean(local_it),\n",
    "                        'entropy': np.mean(local_entropy),\n",
    "                          'entropy_last_one':local_entropy[-1],\n",
    "                          'entropy_last_second_one':local_entropy[-2],\n",
    "                         'u_old' : u_new})\n",
    "\n",
    "        all_data.append(iteration)\n",
    "    df = pd.DataFrame(iteration)\n",
    "    return df"
   ]
  },
  {
   "cell_type": "code",
   "execution_count": 22,
   "id": "d81edb88-bb4b-4634-b31c-791e698cbdb1",
   "metadata": {},
   "outputs": [
    {
     "data": {
      "application/vnd.jupyter.widget-view+json": {
       "model_id": "d52a4207927c4d7dae7ac21ef2c5caf0",
       "version_major": 2,
       "version_minor": 0
      },
      "text/plain": [
       "Processing Iterations:   0%|          | 0/40 [00:00<?, ?step/s]"
      ]
     },
     "metadata": {},
     "output_type": "display_data"
    },
    {
     "data": {
      "application/vnd.jupyter.widget-view+json": {
       "model_id": "acffbedaef504347a0f4e68da529a479",
       "version_major": 2,
       "version_minor": 0
      },
      "text/plain": [
       "Processing Iterations:   0%|          | 0/40 [00:00<?, ?step/s]"
      ]
     },
     "metadata": {},
     "output_type": "display_data"
    },
    {
     "data": {
      "application/vnd.jupyter.widget-view+json": {
       "model_id": "7e5b97517d15480aa32b4ccec73b6988",
       "version_major": 2,
       "version_minor": 0
      },
      "text/plain": [
       "Processing Iterations:   0%|          | 0/40 [00:00<?, ?step/s]"
      ]
     },
     "metadata": {},
     "output_type": "display_data"
    },
    {
     "data": {
      "application/vnd.jupyter.widget-view+json": {
       "model_id": "2528774af2354bf081e2cb036c61be09",
       "version_major": 2,
       "version_minor": 0
      },
      "text/plain": [
       "Processing Iterations:   0%|          | 0/40 [00:00<?, ?step/s]"
      ]
     },
     "metadata": {},
     "output_type": "display_data"
    },
    {
     "data": {
      "application/vnd.jupyter.widget-view+json": {
       "model_id": "ed9e230b497d4aafb633c033d763eeb1",
       "version_major": 2,
       "version_minor": 0
      },
      "text/plain": [
       "Processing Iterations:   0%|          | 0/40 [00:00<?, ?step/s]"
      ]
     },
     "metadata": {},
     "output_type": "display_data"
    },
    {
     "data": {
      "application/vnd.jupyter.widget-view+json": {
       "model_id": "4c8fe878372e4fc488b085c3ee9d75fb",
       "version_major": 2,
       "version_minor": 0
      },
      "text/plain": [
       "Processing Iterations:   0%|          | 0/40 [00:00<?, ?step/s]"
      ]
     },
     "metadata": {},
     "output_type": "display_data"
    },
    {
     "data": {
      "application/vnd.jupyter.widget-view+json": {
       "model_id": "fb81b306c13b4339a8a981c33fe57e6a",
       "version_major": 2,
       "version_minor": 0
      },
      "text/plain": [
       "Processing Iterations:   0%|          | 0/40 [00:00<?, ?step/s]"
      ]
     },
     "metadata": {},
     "output_type": "display_data"
    },
    {
     "data": {
      "application/vnd.jupyter.widget-view+json": {
       "model_id": "ebe8ab81c91146fa900c037549752ac2",
       "version_major": 2,
       "version_minor": 0
      },
      "text/plain": [
       "Processing Iterations:   0%|          | 0/40 [00:00<?, ?step/s]"
      ]
     },
     "metadata": {},
     "output_type": "display_data"
    },
    {
     "data": {
      "application/vnd.jupyter.widget-view+json": {
       "model_id": "abc929502a43435ea31c125b2c1abe21",
       "version_major": 2,
       "version_minor": 0
      },
      "text/plain": [
       "Processing Iterations:   0%|          | 0/40 [00:00<?, ?step/s]"
      ]
     },
     "metadata": {},
     "output_type": "display_data"
    }
   ],
   "source": [
    "df_straight = boss_runner_straight(delta_range)"
   ]
  },
  {
   "cell_type": "code",
   "execution_count": 23,
   "id": "b1d812af-0734-4248-831e-348b3b777753",
   "metadata": {},
   "outputs": [],
   "source": [
    "df_des = pd.DataFrame(df_straight)\n",
    "df_des.to_csv(\"straight_data.csv\")"
   ]
  },
  {
   "cell_type": "code",
   "execution_count": 25,
   "id": "e40b64a6-d839-45c3-8f66-ba7040e9283d",
   "metadata": {},
   "outputs": [
    {
     "data": {
      "text/html": [
       "<div>\n",
       "<style scoped>\n",
       "    .dataframe tbody tr th:only-of-type {\n",
       "        vertical-align: middle;\n",
       "    }\n",
       "\n",
       "    .dataframe tbody tr th {\n",
       "        vertical-align: top;\n",
       "    }\n",
       "\n",
       "    .dataframe thead th {\n",
       "        text-align: right;\n",
       "    }\n",
       "</style>\n",
       "<table border=\"1\" class=\"dataframe\">\n",
       "  <thead>\n",
       "    <tr style=\"text-align: right;\">\n",
       "      <th></th>\n",
       "      <th>delta</th>\n",
       "      <th>vertex</th>\n",
       "      <th>iterration</th>\n",
       "      <th>entropy</th>\n",
       "      <th>u_old</th>\n",
       "    </tr>\n",
       "  </thead>\n",
       "  <tbody>\n",
       "    <tr>\n",
       "      <th>0</th>\n",
       "      <td>0.1</td>\n",
       "      <td>17</td>\n",
       "      <td>32.0</td>\n",
       "      <td>0.358743</td>\n",
       "      <td>[5.528353913250794e-264, 9.661477645544858e-13...</td>\n",
       "    </tr>\n",
       "    <tr>\n",
       "      <th>1</th>\n",
       "      <td>0.2</td>\n",
       "      <td>18</td>\n",
       "      <td>32.0</td>\n",
       "      <td>0.974333</td>\n",
       "      <td>[7.546208250443384e-226, 1.428688364219599e-11...</td>\n",
       "    </tr>\n",
       "    <tr>\n",
       "      <th>2</th>\n",
       "      <td>0.3</td>\n",
       "      <td>19</td>\n",
       "      <td>31.0</td>\n",
       "      <td>1.105655</td>\n",
       "      <td>[9.007703068925475e-266, 7.863447710582761e-13...</td>\n",
       "    </tr>\n",
       "    <tr>\n",
       "      <th>3</th>\n",
       "      <td>0.4</td>\n",
       "      <td>20</td>\n",
       "      <td>33.0</td>\n",
       "      <td>1.249683</td>\n",
       "      <td>[3.5952937711020006e-290, 1.0532315315533357e-...</td>\n",
       "    </tr>\n",
       "    <tr>\n",
       "      <th>4</th>\n",
       "      <td>0.5</td>\n",
       "      <td>17</td>\n",
       "      <td>33.0</td>\n",
       "      <td>1.455204</td>\n",
       "      <td>[5.48552617746588e-85, 2.883708200503744e-42, ...</td>\n",
       "    </tr>\n",
       "    <tr>\n",
       "      <th>5</th>\n",
       "      <td>0.6</td>\n",
       "      <td>16</td>\n",
       "      <td>36.0</td>\n",
       "      <td>1.058063</td>\n",
       "      <td>[9.082842680102869e-55, 2.659413987752739e-29,...</td>\n",
       "    </tr>\n",
       "    <tr>\n",
       "      <th>6</th>\n",
       "      <td>0.7</td>\n",
       "      <td>20</td>\n",
       "      <td>32.0</td>\n",
       "      <td>1.697859</td>\n",
       "      <td>[2.0637460448982824e-174, 3.7464890968952414e-...</td>\n",
       "    </tr>\n",
       "    <tr>\n",
       "      <th>7</th>\n",
       "      <td>0.8</td>\n",
       "      <td>20</td>\n",
       "      <td>33.0</td>\n",
       "      <td>1.772837</td>\n",
       "      <td>[8.411064666953048e-151, 3.782333772993597e-75...</td>\n",
       "    </tr>\n",
       "    <tr>\n",
       "      <th>8</th>\n",
       "      <td>0.9</td>\n",
       "      <td>17</td>\n",
       "      <td>33.0</td>\n",
       "      <td>1.858290</td>\n",
       "      <td>[7.184049900018569e-47, 1.87070336493983e-23, ...</td>\n",
       "    </tr>\n",
       "  </tbody>\n",
       "</table>\n",
       "</div>"
      ],
      "text/plain": [
       "   delta  vertex  iterration   entropy  \\\n",
       "0    0.1      17        32.0  0.358743   \n",
       "1    0.2      18        32.0  0.974333   \n",
       "2    0.3      19        31.0  1.105655   \n",
       "3    0.4      20        33.0  1.249683   \n",
       "4    0.5      17        33.0  1.455204   \n",
       "5    0.6      16        36.0  1.058063   \n",
       "6    0.7      20        32.0  1.697859   \n",
       "7    0.8      20        33.0  1.772837   \n",
       "8    0.9      17        33.0  1.858290   \n",
       "\n",
       "                                               u_old  \n",
       "0  [5.528353913250794e-264, 9.661477645544858e-13...  \n",
       "1  [7.546208250443384e-226, 1.428688364219599e-11...  \n",
       "2  [9.007703068925475e-266, 7.863447710582761e-13...  \n",
       "3  [3.5952937711020006e-290, 1.0532315315533357e-...  \n",
       "4  [5.48552617746588e-85, 2.883708200503744e-42, ...  \n",
       "5  [9.082842680102869e-55, 2.659413987752739e-29,...  \n",
       "6  [2.0637460448982824e-174, 3.7464890968952414e-...  \n",
       "7  [8.411064666953048e-151, 3.782333772993597e-75...  \n",
       "8  [7.184049900018569e-47, 1.87070336493983e-23, ...  "
      ]
     },
     "execution_count": 25,
     "metadata": {},
     "output_type": "execute_result"
    }
   ],
   "source": [
    "df_des"
   ]
  },
  {
   "cell_type": "code",
   "execution_count": 26,
   "id": "1f265b67-d089-4c98-8467-9d34a490a026",
   "metadata": {},
   "outputs": [],
   "source": [
    "\n",
    "def matrxi_for_s(matrix, delta):\n",
    "    centers = None\n",
    "    u_old = None\n",
    "    last_before_u = None\n",
    "    max_tolerance = 1e-6\n",
    "    matri = diffusion_process(matrix, delta)\n",
    "    iterations_done = 0\n",
    "    last_four_value = []\n",
    "    max_iterations = 1000  \n",
    "    for _ in range(max_iterations):\n",
    "            x, y = calculate_u_new(matrix, u_old=u_old, centers=centers)\n",
    "            centers = y\n",
    "            value = np.matmul(matri, np.array(x))\n",
    "    \n",
    "            u_old = value\n",
    "            entropy = entropy_calculator(value)\n",
    "    \n",
    "            if entropy < 0.1:\n",
    "                break\n",
    "                \n",
    "            \n",
    "    \n",
    "            if len(last_four_value) < 4:\n",
    "                last_four_value.append(entropy)\n",
    "            else:\n",
    "                last_four_value.pop(0)  \n",
    "                last_four_value.append(entropy)\n",
    "    \n",
    "            iterations_done += 1\n",
    "            if len(last_four_value) >= 4:\n",
    "                diffs = [np.linalg.norm(last_four_value[i] - last_four_value[i - 1]) for i in range(1, 4)]\n",
    "                if np.mean(diffs) < max_tolerance:\n",
    "                    break\n",
    "                \n",
    "    \n",
    "    return (np.mean(last_four_value))\n"
   ]
  },
  {
   "cell_type": "code",
   "execution_count": 291,
   "id": "b1a635d9-8bd4-4909-9b83-cd8e1acd71e8",
   "metadata": {},
   "outputs": [
    {
     "name": "stdout",
     "output_type": "stream",
     "text": [
      "delta is done\n",
      "delta is done\n",
      "delta is done\n",
      "delta is done\n",
      "delta is done\n",
      "delta is done\n",
      "delta is done\n",
      "delta is done\n",
      "delta is done\n"
     ]
    }
   ],
   "source": [
    "ans = []\n",
    "delta_range = [0.1, 0.2, 0.3, 0.4, 0.5, 0.6, 0.7, 0.8, 0.9]\n",
    "for delta in delta_range:\n",
    "    local_ent = []\n",
    "    for i in saved_matrix:\n",
    "        entopy = matrxi_for_s(i, delta)\n",
    "        local_ent.append(entopy)\n",
    "    \n",
    "    ans.append({'delta':delta,\n",
    "               'entropy':np.mean(local_ent)})\n",
    "    print('delta is done')"
   ]
  },
  {
   "cell_type": "code",
   "execution_count": 296,
   "id": "7287615d-b56a-4e17-a450-71cd76294ed9",
   "metadata": {},
   "outputs": [],
   "source": [
    "pd.DataFrame(ans).to_csv(\"watson_data.csv\")"
   ]
  },
  {
   "cell_type": "code",
   "execution_count": 37,
   "id": "960a3b3b-cc16-432b-b795-a0b97b2bc55a",
   "metadata": {},
   "outputs": [
    {
     "data": {
      "text/html": [
       "<div>\n",
       "<style scoped>\n",
       "    .dataframe tbody tr th:only-of-type {\n",
       "        vertical-align: middle;\n",
       "    }\n",
       "\n",
       "    .dataframe tbody tr th {\n",
       "        vertical-align: top;\n",
       "    }\n",
       "\n",
       "    .dataframe thead th {\n",
       "        text-align: right;\n",
       "    }\n",
       "</style>\n",
       "<table border=\"1\" class=\"dataframe\">\n",
       "  <thead>\n",
       "    <tr style=\"text-align: right;\">\n",
       "      <th></th>\n",
       "      <th>Unnamed: 0</th>\n",
       "      <th>delta</th>\n",
       "      <th>vertex</th>\n",
       "      <th>iterration</th>\n",
       "      <th>entropy</th>\n",
       "      <th>u_old</th>\n",
       "    </tr>\n",
       "  </thead>\n",
       "  <tbody>\n",
       "    <tr>\n",
       "      <th>0</th>\n",
       "      <td>0</td>\n",
       "      <td>0.1</td>\n",
       "      <td>18</td>\n",
       "      <td>31.0</td>\n",
       "      <td>0.474943</td>\n",
       "      <td>[2.66305217e-04 7.95578217e-06 7.96268084e-06 ...</td>\n",
       "    </tr>\n",
       "    <tr>\n",
       "      <th>1</th>\n",
       "      <td>1</td>\n",
       "      <td>0.2</td>\n",
       "      <td>19</td>\n",
       "      <td>31.0</td>\n",
       "      <td>0.658881</td>\n",
       "      <td>[7.82960924e-06 1.08928215e-04 7.83777240e-06 ...</td>\n",
       "    </tr>\n",
       "    <tr>\n",
       "      <th>2</th>\n",
       "      <td>2</td>\n",
       "      <td>0.3</td>\n",
       "      <td>19</td>\n",
       "      <td>31.0</td>\n",
       "      <td>1.005940</td>\n",
       "      <td>[2.10487432e-04 3.13863495e-03 2.10488695e-04 ...</td>\n",
       "    </tr>\n",
       "    <tr>\n",
       "      <th>3</th>\n",
       "      <td>3</td>\n",
       "      <td>0.4</td>\n",
       "      <td>16</td>\n",
       "      <td>33.0</td>\n",
       "      <td>1.225549</td>\n",
       "      <td>[9.57012403e-04 7.76227903e-03 9.62187812e-04 ...</td>\n",
       "    </tr>\n",
       "    <tr>\n",
       "      <th>4</th>\n",
       "      <td>4</td>\n",
       "      <td>0.5</td>\n",
       "      <td>16</td>\n",
       "      <td>33.0</td>\n",
       "      <td>1.218441</td>\n",
       "      <td>[1.21173334e-03 1.42202536e-04 1.41974702e-04 ...</td>\n",
       "    </tr>\n",
       "    <tr>\n",
       "      <th>5</th>\n",
       "      <td>5</td>\n",
       "      <td>0.6</td>\n",
       "      <td>20</td>\n",
       "      <td>30.0</td>\n",
       "      <td>1.165428</td>\n",
       "      <td>[5.70819597e-06 2.77102088e-07 2.77102088e-07 ...</td>\n",
       "    </tr>\n",
       "    <tr>\n",
       "      <th>6</th>\n",
       "      <td>6</td>\n",
       "      <td>0.7</td>\n",
       "      <td>18</td>\n",
       "      <td>31.0</td>\n",
       "      <td>1.223419</td>\n",
       "      <td>[1.47183644e-05 1.72855080e-06 1.80073293e-08 ...</td>\n",
       "    </tr>\n",
       "    <tr>\n",
       "      <th>7</th>\n",
       "      <td>7</td>\n",
       "      <td>0.8</td>\n",
       "      <td>16</td>\n",
       "      <td>35.0</td>\n",
       "      <td>1.137145</td>\n",
       "      <td>[1.58189902e-05 7.92715945e-06 8.38769348e-06 ...</td>\n",
       "    </tr>\n",
       "    <tr>\n",
       "      <th>8</th>\n",
       "      <td>8</td>\n",
       "      <td>0.9</td>\n",
       "      <td>18</td>\n",
       "      <td>31.0</td>\n",
       "      <td>1.314194</td>\n",
       "      <td>[2.55485427e-05 4.25009697e-05 5.61057529e-06 ...</td>\n",
       "    </tr>\n",
       "  </tbody>\n",
       "</table>\n",
       "</div>"
      ],
      "text/plain": [
       "   Unnamed: 0  delta  vertex  iterration   entropy  \\\n",
       "0           0    0.1      18        31.0  0.474943   \n",
       "1           1    0.2      19        31.0  0.658881   \n",
       "2           2    0.3      19        31.0  1.005940   \n",
       "3           3    0.4      16        33.0  1.225549   \n",
       "4           4    0.5      16        33.0  1.218441   \n",
       "5           5    0.6      20        30.0  1.165428   \n",
       "6           6    0.7      18        31.0  1.223419   \n",
       "7           7    0.8      16        35.0  1.137145   \n",
       "8           8    0.9      18        31.0  1.314194   \n",
       "\n",
       "                                               u_old  \n",
       "0  [2.66305217e-04 7.95578217e-06 7.96268084e-06 ...  \n",
       "1  [7.82960924e-06 1.08928215e-04 7.83777240e-06 ...  \n",
       "2  [2.10487432e-04 3.13863495e-03 2.10488695e-04 ...  \n",
       "3  [9.57012403e-04 7.76227903e-03 9.62187812e-04 ...  \n",
       "4  [1.21173334e-03 1.42202536e-04 1.41974702e-04 ...  \n",
       "5  [5.70819597e-06 2.77102088e-07 2.77102088e-07 ...  \n",
       "6  [1.47183644e-05 1.72855080e-06 1.80073293e-08 ...  \n",
       "7  [1.58189902e-05 7.92715945e-06 8.38769348e-06 ...  \n",
       "8  [2.55485427e-05 4.25009697e-05 5.61057529e-06 ...  "
      ]
     },
     "execution_count": 37,
     "metadata": {},
     "output_type": "execute_result"
    }
   ],
   "source": [
    "df_ran"
   ]
  },
  {
   "cell_type": "code",
   "execution_count": 31,
   "id": "7da4265b-944c-48c7-8287-0d51f6c62576",
   "metadata": {},
   "outputs": [],
   "source": [
    "df_wat = pd.read_csv(\"watson_data.csv\")\n",
    "df_ran = pd.read_csv(\"random_data.csv\")\n",
    "df_stra = pd.read_csv(\"straight_data.csv\")"
   ]
  },
  {
   "cell_type": "code",
   "execution_count": 40,
   "id": "ca721442-da28-474c-a332-10a4c5c3ebf1",
   "metadata": {},
   "outputs": [
    {
     "name": "stderr",
     "output_type": "stream",
     "text": [
      "/tmp/ipykernel_131891/2833490027.py:7: UserWarning: No artists with labels found to put in legend.  Note that artists whose label start with an underscore are ignored when legend() is called with no argument.\n",
      "  plt.legend()\n"
     ]
    },
    {
     "data": {
      "image/png": "[encoded data removed]",
      "text/plain": [
       "<Figure size 432x576 with 1 Axes>"
      ]
     },
     "metadata": {
      "needs_background": "light"
     },
     "output_type": "display_data"
    }
   ],
   "source": [
    "plt.figure(figsize=(6,8))\n",
    "\n",
    "plt.plot(df_wat['delta'], df_wat['entropy'], color = 'red')\n",
    "plt.plot(df_ran['delta'], df_ran['entropy'], color = 'yellow')\n",
    "plt.plot(df_stra['delta'], df_stra['entropy'], color = 'purple')\n",
    "plt.title(\"delta vs entropy\")\n",
    "plt.legend()\n",
    "plt.show()"
   ]
  },
  {
   "cell_type": "code",
   "execution_count": 30,
   "id": "0a8184a8-1f26-4aee-b86a-41985d4d86d8",
   "metadata": {},
   "outputs": [],
   "source": [
    "delta_range = [0.1, 0.2, 0.3, 0.4, 0.5, 0.6, 0.7, 0.8, 0.9]\n",
    "\n",
    "def boss_runner_straight(delta_range, matrix_size, tolerance = 1e-3, model_type = \"straight_line\"):\n",
    "    all_data = [] \n",
    "    iteration = []\n",
    "    for delta in delta_range:\n",
    "        for _ in range(1):\n",
    "            local_it = []\n",
    "            local_entropy = []\n",
    "                                    \n",
    "            u_new, iterr, entropy, last_entropies = main_guy(delta, model_type=model_type, matrix_size=matrix_size, tolerance=tolerance)\n",
    "            local_it.append(iterr)\n",
    "            local_entropy.append(entropy)\n",
    "        iteration.append({'delta':delta ,\n",
    "                          'vertex':matrix_size,\n",
    "                        'iterration':np.mean(local_it),\n",
    "                        'entropy': np.mean(local_entropy),\n",
    "                        'entropy_range':last_entropies,\n",
    "                         'u_old' : u_new})\n",
    "\n",
    "        all_data.append(iteration)\n",
    "    df = pd.DataFrame(iteration)\n",
    "    return df\n",
    "\n"
   ]
  },
  {
   "cell_type": "code",
   "execution_count": 31,
   "id": "9ec3a4ac-98ab-4e6a-981b-93bca5bfcddd",
   "metadata": {
    "scrolled": true
   },
   "outputs": [
    {
     "data": {
      "application/vnd.jupyter.widget-view+json": {
       "model_id": "5f49a4c46e85482d937b026ea1df8eca",
       "version_major": 2,
       "version_minor": 0
      },
      "text/plain": [
       "Processing Iterations:   0%|          | 0/40 [00:00<?, ?step/s]"
      ]
     },
     "metadata": {},
     "output_type": "display_data"
    },
    {
     "data": {
      "application/vnd.jupyter.widget-view+json": {
       "model_id": "8e96223b191d47b6af0e63c22e580c09",
       "version_major": 2,
       "version_minor": 0
      },
      "text/plain": [
       "Processing Iterations:   0%|          | 0/40 [00:00<?, ?step/s]"
      ]
     },
     "metadata": {},
     "output_type": "display_data"
    },
    {
     "data": {
      "application/vnd.jupyter.widget-view+json": {
       "model_id": "da4f31e496a944709709e595048a70dd",
       "version_major": 2,
       "version_minor": 0
      },
      "text/plain": [
       "Processing Iterations:   0%|          | 0/40 [00:00<?, ?step/s]"
      ]
     },
     "metadata": {},
     "output_type": "display_data"
    },
    {
     "data": {
      "application/vnd.jupyter.widget-view+json": {
       "model_id": "35740cd3bffd478fb288d6764d124808",
       "version_major": 2,
       "version_minor": 0
      },
      "text/plain": [
       "Processing Iterations:   0%|          | 0/40 [00:00<?, ?step/s]"
      ]
     },
     "metadata": {},
     "output_type": "display_data"
    },
    {
     "data": {
      "application/vnd.jupyter.widget-view+json": {
       "model_id": "6e877fc06d6940268a125418f3203731",
       "version_major": 2,
       "version_minor": 0
      },
      "text/plain": [
       "Processing Iterations:   0%|          | 0/40 [00:00<?, ?step/s]"
      ]
     },
     "metadata": {},
     "output_type": "display_data"
    },
    {
     "data": {
      "application/vnd.jupyter.widget-view+json": {
       "model_id": "a49caf76b6044990b74f293a49256734",
       "version_major": 2,
       "version_minor": 0
      },
      "text/plain": [
       "Processing Iterations:   0%|          | 0/40 [00:00<?, ?step/s]"
      ]
     },
     "metadata": {},
     "output_type": "display_data"
    },
    {
     "data": {
      "application/vnd.jupyter.widget-view+json": {
       "model_id": "4eb7c6c94ac34a308b327d4fd4408622",
       "version_major": 2,
       "version_minor": 0
      },
      "text/plain": [
       "Processing Iterations:   0%|          | 0/40 [00:00<?, ?step/s]"
      ]
     },
     "metadata": {},
     "output_type": "display_data"
    },
    {
     "data": {
      "application/vnd.jupyter.widget-view+json": {
       "model_id": "eee9b0bc4a68437aaf0b56c7e4ab801c",
       "version_major": 2,
       "version_minor": 0
      },
      "text/plain": [
       "Processing Iterations:   0%|          | 0/40 [00:00<?, ?step/s]"
      ]
     },
     "metadata": {},
     "output_type": "display_data"
    },
    {
     "data": {
      "application/vnd.jupyter.widget-view+json": {
       "model_id": "490c2e3b950a4283ba40d111bbf74c42",
       "version_major": 2,
       "version_minor": 0
      },
      "text/plain": [
       "Processing Iterations:   0%|          | 0/40 [00:00<?, ?step/s]"
      ]
     },
     "metadata": {},
     "output_type": "display_data"
    },
    {
     "data": {
      "application/vnd.jupyter.widget-view+json": {
       "model_id": "4a58db534dde4ad0acb28cd2cfd64560",
       "version_major": 2,
       "version_minor": 0
      },
      "text/plain": [
       "Processing Iterations:   0%|          | 0/40 [00:00<?, ?step/s]"
      ]
     },
     "metadata": {},
     "output_type": "display_data"
    },
    {
     "data": {
      "application/vnd.jupyter.widget-view+json": {
       "model_id": "f6636d772f9e46ae8284d254d9e0d150",
       "version_major": 2,
       "version_minor": 0
      },
      "text/plain": [
       "Processing Iterations:   0%|          | 0/40 [00:00<?, ?step/s]"
      ]
     },
     "metadata": {},
     "output_type": "display_data"
    },
    {
     "data": {
      "application/vnd.jupyter.widget-view+json": {
       "model_id": "ecfe86ebb65c4c5288ea882d2002a633",
       "version_major": 2,
       "version_minor": 0
      },
      "text/plain": [
       "Processing Iterations:   0%|          | 0/40 [00:00<?, ?step/s]"
      ]
     },
     "metadata": {},
     "output_type": "display_data"
    },
    {
     "data": {
      "application/vnd.jupyter.widget-view+json": {
       "model_id": "5c3dec4bae8d489385235bdae31c83c8",
       "version_major": 2,
       "version_minor": 0
      },
      "text/plain": [
       "Processing Iterations:   0%|          | 0/40 [00:00<?, ?step/s]"
      ]
     },
     "metadata": {},
     "output_type": "display_data"
    },
    {
     "data": {
      "application/vnd.jupyter.widget-view+json": {
       "model_id": "b6588b76556a45d5acd6388358296bb1",
       "version_major": 2,
       "version_minor": 0
      },
      "text/plain": [
       "Processing Iterations:   0%|          | 0/40 [00:00<?, ?step/s]"
      ]
     },
     "metadata": {},
     "output_type": "display_data"
    },
    {
     "data": {
      "application/vnd.jupyter.widget-view+json": {
       "model_id": "b4356903d79f4c3ca24ecde758ffe5ec",
       "version_major": 2,
       "version_minor": 0
      },
      "text/plain": [
       "Processing Iterations:   0%|          | 0/40 [00:00<?, ?step/s]"
      ]
     },
     "metadata": {},
     "output_type": "display_data"
    },
    {
     "data": {
      "application/vnd.jupyter.widget-view+json": {
       "model_id": "f79341cd812b419d84759bb77055f9d5",
       "version_major": 2,
       "version_minor": 0
      },
      "text/plain": [
       "Processing Iterations:   0%|          | 0/40 [00:00<?, ?step/s]"
      ]
     },
     "metadata": {},
     "output_type": "display_data"
    },
    {
     "data": {
      "application/vnd.jupyter.widget-view+json": {
       "model_id": "8043c2e8b80c40dd97ce2eadeee21777",
       "version_major": 2,
       "version_minor": 0
      },
      "text/plain": [
       "Processing Iterations:   0%|          | 0/40 [00:00<?, ?step/s]"
      ]
     },
     "metadata": {},
     "output_type": "display_data"
    },
    {
     "data": {
      "application/vnd.jupyter.widget-view+json": {
       "model_id": "a994c987e97542ad8394440cf5641cb9",
       "version_major": 2,
       "version_minor": 0
      },
      "text/plain": [
       "Processing Iterations:   0%|          | 0/40 [00:00<?, ?step/s]"
      ]
     },
     "metadata": {},
     "output_type": "display_data"
    },
    {
     "data": {
      "application/vnd.jupyter.widget-view+json": {
       "model_id": "439a771353bb4e42838f6993b64e60b5",
       "version_major": 2,
       "version_minor": 0
      },
      "text/plain": [
       "Processing Iterations:   0%|          | 0/40 [00:00<?, ?step/s]"
      ]
     },
     "metadata": {},
     "output_type": "display_data"
    },
    {
     "data": {
      "application/vnd.jupyter.widget-view+json": {
       "model_id": "efde30f6572a4f9d99f0af1ebcc71744",
       "version_major": 2,
       "version_minor": 0
      },
      "text/plain": [
       "Processing Iterations:   0%|          | 0/40 [00:00<?, ?step/s]"
      ]
     },
     "metadata": {},
     "output_type": "display_data"
    },
    {
     "data": {
      "application/vnd.jupyter.widget-view+json": {
       "model_id": "fe04f5c2ba194e81a4f0d7abe52ae83a",
       "version_major": 2,
       "version_minor": 0
      },
      "text/plain": [
       "Processing Iterations:   0%|          | 0/40 [00:00<?, ?step/s]"
      ]
     },
     "metadata": {},
     "output_type": "display_data"
    },
    {
     "ename": "KeyboardInterrupt",
     "evalue": "",
     "output_type": "error",
     "traceback": [
      "\u001b[0;31m---------------------------------------------------------------------------\u001b[0m",
      "\u001b[0;31mKeyboardInterrupt\u001b[0m                         Traceback (most recent call last)",
      "\u001b[0;32m/tmp/ipykernel_209829/419004209.py\u001b[0m in \u001b[0;36m<module>\u001b[0;34m\u001b[0m\n\u001b[1;32m      3\u001b[0m \u001b[0mdf_straight\u001b[0m \u001b[0;34m=\u001b[0m \u001b[0mboss_runner_straight\u001b[0m\u001b[0;34m(\u001b[0m\u001b[0mdelta_range\u001b[0m\u001b[0;34m,\u001b[0m \u001b[0mmatrix_size\u001b[0m \u001b[0;34m=\u001b[0m \u001b[0;36m20\u001b[0m\u001b[0;34m)\u001b[0m\u001b[0;34m\u001b[0m\u001b[0;34m\u001b[0m\u001b[0m\n\u001b[1;32m      4\u001b[0m \u001b[0mdf_straight\u001b[0m\u001b[0;34m.\u001b[0m\u001b[0mto_csv\u001b[0m\u001b[0;34m(\u001b[0m\u001b[0;34m\"20_straight_line.csv\"\u001b[0m\u001b[0;34m)\u001b[0m\u001b[0;34m\u001b[0m\u001b[0;34m\u001b[0m\u001b[0m\n\u001b[0;32m----> 5\u001b[0;31m \u001b[0mdf_straight\u001b[0m \u001b[0;34m=\u001b[0m \u001b[0mboss_runner_straight\u001b[0m\u001b[0;34m(\u001b[0m\u001b[0mdelta_range\u001b[0m\u001b[0;34m,\u001b[0m \u001b[0mmatrix_size\u001b[0m \u001b[0;34m=\u001b[0m \u001b[0;36m40\u001b[0m\u001b[0;34m)\u001b[0m\u001b[0;34m\u001b[0m\u001b[0;34m\u001b[0m\u001b[0m\n\u001b[0m\u001b[1;32m      6\u001b[0m \u001b[0mdf_straight\u001b[0m\u001b[0;34m.\u001b[0m\u001b[0mto_csv\u001b[0m\u001b[0;34m(\u001b[0m\u001b[0;34m\"40_straight_line.csv\"\u001b[0m\u001b[0;34m)\u001b[0m\u001b[0;34m\u001b[0m\u001b[0;34m\u001b[0m\u001b[0m\n",
      "\u001b[0;32m/tmp/ipykernel_209829/3556781831.py\u001b[0m in \u001b[0;36mboss_runner_straight\u001b[0;34m(delta_range, matrix_size, tolerance, model_type)\u001b[0m\n\u001b[1;32m      9\u001b[0m             \u001b[0mlocal_entropy\u001b[0m \u001b[0;34m=\u001b[0m \u001b[0;34m[\u001b[0m\u001b[0;34m]\u001b[0m\u001b[0;34m\u001b[0m\u001b[0;34m\u001b[0m\u001b[0m\n\u001b[1;32m     10\u001b[0m \u001b[0;34m\u001b[0m\u001b[0m\n\u001b[0;32m---> 11\u001b[0;31m             \u001b[0mu_new\u001b[0m\u001b[0;34m,\u001b[0m \u001b[0miterr\u001b[0m\u001b[0;34m,\u001b[0m \u001b[0mentropy\u001b[0m\u001b[0;34m,\u001b[0m \u001b[0mlast_entropies\u001b[0m \u001b[0;34m=\u001b[0m \u001b[0mmain_guy\u001b[0m\u001b[0;34m(\u001b[0m\u001b[0mdelta\u001b[0m\u001b[0;34m,\u001b[0m \u001b[0mmodel_type\u001b[0m\u001b[0;34m=\u001b[0m\u001b[0mmodel_type\u001b[0m\u001b[0;34m,\u001b[0m \u001b[0mmatrix_size\u001b[0m\u001b[0;34m=\u001b[0m\u001b[0mmatrix_size\u001b[0m\u001b[0;34m,\u001b[0m \u001b[0mtolerance\u001b[0m\u001b[0;34m=\u001b[0m\u001b[0mtolerance\u001b[0m\u001b[0;34m)\u001b[0m\u001b[0;34m\u001b[0m\u001b[0;34m\u001b[0m\u001b[0m\n\u001b[0m\u001b[1;32m     12\u001b[0m             \u001b[0mlocal_it\u001b[0m\u001b[0;34m.\u001b[0m\u001b[0mappend\u001b[0m\u001b[0;34m(\u001b[0m\u001b[0miterr\u001b[0m\u001b[0;34m)\u001b[0m\u001b[0;34m\u001b[0m\u001b[0;34m\u001b[0m\u001b[0m\n\u001b[1;32m     13\u001b[0m             \u001b[0mlocal_entropy\u001b[0m\u001b[0;34m.\u001b[0m\u001b[0mappend\u001b[0m\u001b[0;34m(\u001b[0m\u001b[0mentropy\u001b[0m\u001b[0;34m)\u001b[0m\u001b[0;34m\u001b[0m\u001b[0;34m\u001b[0m\u001b[0m\n",
      "\u001b[0;32m/tmp/ipykernel_209829/3670643178.py\u001b[0m in \u001b[0;36mmain_guy\u001b[0;34m(delta, model_type, matrix_size, tolerance, max_tolerance)\u001b[0m\n\u001b[1;32m     38\u001b[0m \u001b[0;34m\u001b[0m\u001b[0m\n\u001b[1;32m     39\u001b[0m     \u001b[0;32mfor\u001b[0m \u001b[0m_\u001b[0m \u001b[0;32min\u001b[0m \u001b[0mrange\u001b[0m\u001b[0;34m(\u001b[0m\u001b[0;36m40\u001b[0m\u001b[0;34m)\u001b[0m\u001b[0;34m:\u001b[0m\u001b[0;34m\u001b[0m\u001b[0;34m\u001b[0m\u001b[0m\n\u001b[0;32m---> 40\u001b[0;31m         \u001b[0mx\u001b[0m\u001b[0;34m,\u001b[0m \u001b[0my\u001b[0m \u001b[0;34m=\u001b[0m \u001b[0mcalculate_u_new\u001b[0m\u001b[0;34m(\u001b[0m\u001b[0mmatrix\u001b[0m\u001b[0;34m,\u001b[0m \u001b[0mu_old\u001b[0m\u001b[0;34m=\u001b[0m\u001b[0mu_old\u001b[0m\u001b[0;34m,\u001b[0m \u001b[0mcenters\u001b[0m\u001b[0;34m=\u001b[0m\u001b[0mcenters\u001b[0m\u001b[0;34m)\u001b[0m\u001b[0;34m\u001b[0m\u001b[0;34m\u001b[0m\u001b[0m\n\u001b[0m\u001b[1;32m     41\u001b[0m         \u001b[0mcenters\u001b[0m \u001b[0;34m=\u001b[0m \u001b[0my\u001b[0m\u001b[0;34m\u001b[0m\u001b[0;34m\u001b[0m\u001b[0m\n\u001b[1;32m     42\u001b[0m         \u001b[0mvalue\u001b[0m \u001b[0;34m=\u001b[0m \u001b[0mnp\u001b[0m\u001b[0;34m.\u001b[0m\u001b[0mmatmul\u001b[0m\u001b[0;34m(\u001b[0m\u001b[0mmatri\u001b[0m\u001b[0;34m,\u001b[0m \u001b[0mnp\u001b[0m\u001b[0;34m.\u001b[0m\u001b[0marray\u001b[0m\u001b[0;34m(\u001b[0m\u001b[0mx\u001b[0m\u001b[0;34m)\u001b[0m\u001b[0;34m)\u001b[0m\u001b[0;34m\u001b[0m\u001b[0;34m\u001b[0m\u001b[0m\n",
      "\u001b[0;32m/tmp/ipykernel_209829/812122930.py\u001b[0m in \u001b[0;36mcalculate_u_new\u001b[0;34m(matrix, u_old, centers)\u001b[0m\n\u001b[1;32m    142\u001b[0m             \u001b[0;32mfor\u001b[0m \u001b[0mj\u001b[0m \u001b[0;32min\u001b[0m \u001b[0mrange\u001b[0m\u001b[0;34m(\u001b[0m\u001b[0;36m0\u001b[0m\u001b[0;34m,\u001b[0m \u001b[0mrow_count\u001b[0m\u001b[0;34m)\u001b[0m\u001b[0;34m:\u001b[0m\u001b[0;34m\u001b[0m\u001b[0;34m\u001b[0m\u001b[0m\n\u001b[1;32m    143\u001b[0m                 \u001b[0;32mfor\u001b[0m \u001b[0mk\u001b[0m \u001b[0;32min\u001b[0m \u001b[0mrange\u001b[0m\u001b[0;34m(\u001b[0m\u001b[0;36m0\u001b[0m\u001b[0;34m,\u001b[0m \u001b[0mrow_count\u001b[0m\u001b[0;34m)\u001b[0m\u001b[0;34m:\u001b[0m\u001b[0;34m\u001b[0m\u001b[0;34m\u001b[0m\u001b[0m\n\u001b[0;32m--> 144\u001b[0;31m                     \u001b[0mcenter\u001b[0m \u001b[0;34m=\u001b[0m \u001b[0mfind_barycenter_prob\u001b[0m\u001b[0;34m(\u001b[0m\u001b[0mmatrix\u001b[0m\u001b[0;34m,\u001b[0m \u001b[0mvertex_to_remove\u001b[0m\u001b[0;34m=\u001b[0m\u001b[0;34m[\u001b[0m\u001b[0mi\u001b[0m\u001b[0;34m,\u001b[0m \u001b[0mj\u001b[0m\u001b[0;34m,\u001b[0m \u001b[0mk\u001b[0m\u001b[0;34m]\u001b[0m\u001b[0;34m)\u001b[0m\u001b[0;34m\u001b[0m\u001b[0;34m\u001b[0m\u001b[0m\n\u001b[0m\u001b[1;32m    145\u001b[0m                     \u001b[0mno_change_center\u001b[0m \u001b[0;34m=\u001b[0m \u001b[0;34m[\u001b[0m\u001b[0mi\u001b[0m\u001b[0;34m,\u001b[0m\u001b[0mj\u001b[0m\u001b[0;34m,\u001b[0m\u001b[0mk\u001b[0m\u001b[0;34m,\u001b[0m\u001b[0mcenter\u001b[0m\u001b[0;34m]\u001b[0m\u001b[0;34m\u001b[0m\u001b[0;34m\u001b[0m\u001b[0m\n\u001b[1;32m    146\u001b[0m                     \u001b[0mu_new\u001b[0m\u001b[0;34m[\u001b[0m\u001b[0mcenter\u001b[0m\u001b[0;34m]\u001b[0m \u001b[0;34m+=\u001b[0m \u001b[0mu_old\u001b[0m\u001b[0;34m[\u001b[0m\u001b[0mi\u001b[0m\u001b[0;34m]\u001b[0m \u001b[0;34m*\u001b[0m \u001b[0mu_old\u001b[0m\u001b[0;34m[\u001b[0m\u001b[0mj\u001b[0m\u001b[0;34m]\u001b[0m \u001b[0;34m*\u001b[0m \u001b[0mu_old\u001b[0m\u001b[0;34m[\u001b[0m\u001b[0mk\u001b[0m\u001b[0;34m]\u001b[0m\u001b[0;34m\u001b[0m\u001b[0;34m\u001b[0m\u001b[0m\n",
      "\u001b[0;32m/tmp/ipykernel_209829/812122930.py\u001b[0m in \u001b[0;36mfind_barycenter_prob\u001b[0;34m(matrix, vertex_to_remove)\u001b[0m\n\u001b[1;32m      1\u001b[0m \u001b[0;32mdef\u001b[0m \u001b[0mfind_barycenter_prob\u001b[0m\u001b[0;34m(\u001b[0m\u001b[0mmatrix\u001b[0m\u001b[0;34m,\u001b[0m \u001b[0mvertex_to_remove\u001b[0m\u001b[0;34m)\u001b[0m\u001b[0;34m:\u001b[0m\u001b[0;34m\u001b[0m\u001b[0;34m\u001b[0m\u001b[0m\n\u001b[1;32m      2\u001b[0m \u001b[0;34m\u001b[0m\u001b[0m\n\u001b[0;32m----> 3\u001b[0;31m     \u001b[0mmatrix_copy\u001b[0m \u001b[0;34m=\u001b[0m \u001b[0mcopy\u001b[0m\u001b[0;34m.\u001b[0m\u001b[0mdeepcopy\u001b[0m\u001b[0;34m(\u001b[0m\u001b[0mmatrix\u001b[0m\u001b[0;34m)\u001b[0m\u001b[0;34m\u001b[0m\u001b[0;34m\u001b[0m\u001b[0m\n\u001b[0m\u001b[1;32m      4\u001b[0m \u001b[0;34m\u001b[0m\u001b[0m\n\u001b[1;32m      5\u001b[0m     \u001b[0mrow_c\u001b[0m \u001b[0;34m=\u001b[0m \u001b[0;34m[\u001b[0m\u001b[0;36m0\u001b[0m\u001b[0;34m,\u001b[0m \u001b[0;36m1\u001b[0m\u001b[0;34m]\u001b[0m\u001b[0;34m\u001b[0m\u001b[0;34m\u001b[0m\u001b[0m\n",
      "\u001b[0;32m/usr/lib/python3.10/copy.py\u001b[0m in \u001b[0;36mdeepcopy\u001b[0;34m(x, memo, _nil)\u001b[0m\n\u001b[1;32m    144\u001b[0m     \u001b[0mcopier\u001b[0m \u001b[0;34m=\u001b[0m \u001b[0m_deepcopy_dispatch\u001b[0m\u001b[0;34m.\u001b[0m\u001b[0mget\u001b[0m\u001b[0;34m(\u001b[0m\u001b[0mcls\u001b[0m\u001b[0;34m)\u001b[0m\u001b[0;34m\u001b[0m\u001b[0;34m\u001b[0m\u001b[0m\n\u001b[1;32m    145\u001b[0m     \u001b[0;32mif\u001b[0m \u001b[0mcopier\u001b[0m \u001b[0;32mis\u001b[0m \u001b[0;32mnot\u001b[0m \u001b[0;32mNone\u001b[0m\u001b[0;34m:\u001b[0m\u001b[0;34m\u001b[0m\u001b[0;34m\u001b[0m\u001b[0m\n\u001b[0;32m--> 146\u001b[0;31m         \u001b[0my\u001b[0m \u001b[0;34m=\u001b[0m \u001b[0mcopier\u001b[0m\u001b[0;34m(\u001b[0m\u001b[0mx\u001b[0m\u001b[0;34m,\u001b[0m \u001b[0mmemo\u001b[0m\u001b[0;34m)\u001b[0m\u001b[0;34m\u001b[0m\u001b[0;34m\u001b[0m\u001b[0m\n\u001b[0m\u001b[1;32m    147\u001b[0m     \u001b[0;32melse\u001b[0m\u001b[0;34m:\u001b[0m\u001b[0;34m\u001b[0m\u001b[0;34m\u001b[0m\u001b[0m\n\u001b[1;32m    148\u001b[0m         \u001b[0;32mif\u001b[0m \u001b[0missubclass\u001b[0m\u001b[0;34m(\u001b[0m\u001b[0mcls\u001b[0m\u001b[0;34m,\u001b[0m \u001b[0mtype\u001b[0m\u001b[0;34m)\u001b[0m\u001b[0;34m:\u001b[0m\u001b[0;34m\u001b[0m\u001b[0;34m\u001b[0m\u001b[0m\n",
      "\u001b[0;32m/usr/lib/python3.10/copy.py\u001b[0m in \u001b[0;36m_deepcopy_list\u001b[0;34m(x, memo, deepcopy)\u001b[0m\n\u001b[1;32m    204\u001b[0m     \u001b[0mappend\u001b[0m \u001b[0;34m=\u001b[0m \u001b[0my\u001b[0m\u001b[0;34m.\u001b[0m\u001b[0mappend\u001b[0m\u001b[0;34m\u001b[0m\u001b[0;34m\u001b[0m\u001b[0m\n\u001b[1;32m    205\u001b[0m     \u001b[0;32mfor\u001b[0m \u001b[0ma\u001b[0m \u001b[0;32min\u001b[0m \u001b[0mx\u001b[0m\u001b[0;34m:\u001b[0m\u001b[0;34m\u001b[0m\u001b[0;34m\u001b[0m\u001b[0m\n\u001b[0;32m--> 206\u001b[0;31m         \u001b[0mappend\u001b[0m\u001b[0;34m(\u001b[0m\u001b[0mdeepcopy\u001b[0m\u001b[0;34m(\u001b[0m\u001b[0ma\u001b[0m\u001b[0;34m,\u001b[0m \u001b[0mmemo\u001b[0m\u001b[0;34m)\u001b[0m\u001b[0;34m)\u001b[0m\u001b[0;34m\u001b[0m\u001b[0;34m\u001b[0m\u001b[0m\n\u001b[0m\u001b[1;32m    207\u001b[0m     \u001b[0;32mreturn\u001b[0m \u001b[0my\u001b[0m\u001b[0;34m\u001b[0m\u001b[0;34m\u001b[0m\u001b[0m\n\u001b[1;32m    208\u001b[0m \u001b[0md\u001b[0m\u001b[0;34m[\u001b[0m\u001b[0mlist\u001b[0m\u001b[0;34m]\u001b[0m \u001b[0;34m=\u001b[0m \u001b[0m_deepcopy_list\u001b[0m\u001b[0;34m\u001b[0m\u001b[0;34m\u001b[0m\u001b[0m\n",
      "\u001b[0;32m/usr/lib/python3.10/copy.py\u001b[0m in \u001b[0;36mdeepcopy\u001b[0;34m(x, memo, _nil)\u001b[0m\n\u001b[1;32m    144\u001b[0m     \u001b[0mcopier\u001b[0m \u001b[0;34m=\u001b[0m \u001b[0m_deepcopy_dispatch\u001b[0m\u001b[0;34m.\u001b[0m\u001b[0mget\u001b[0m\u001b[0;34m(\u001b[0m\u001b[0mcls\u001b[0m\u001b[0;34m)\u001b[0m\u001b[0;34m\u001b[0m\u001b[0;34m\u001b[0m\u001b[0m\n\u001b[1;32m    145\u001b[0m     \u001b[0;32mif\u001b[0m \u001b[0mcopier\u001b[0m \u001b[0;32mis\u001b[0m \u001b[0;32mnot\u001b[0m \u001b[0;32mNone\u001b[0m\u001b[0;34m:\u001b[0m\u001b[0;34m\u001b[0m\u001b[0;34m\u001b[0m\u001b[0m\n\u001b[0;32m--> 146\u001b[0;31m         \u001b[0my\u001b[0m \u001b[0;34m=\u001b[0m \u001b[0mcopier\u001b[0m\u001b[0;34m(\u001b[0m\u001b[0mx\u001b[0m\u001b[0;34m,\u001b[0m \u001b[0mmemo\u001b[0m\u001b[0;34m)\u001b[0m\u001b[0;34m\u001b[0m\u001b[0;34m\u001b[0m\u001b[0m\n\u001b[0m\u001b[1;32m    147\u001b[0m     \u001b[0;32melse\u001b[0m\u001b[0;34m:\u001b[0m\u001b[0;34m\u001b[0m\u001b[0;34m\u001b[0m\u001b[0m\n\u001b[1;32m    148\u001b[0m         \u001b[0;32mif\u001b[0m \u001b[0missubclass\u001b[0m\u001b[0;34m(\u001b[0m\u001b[0mcls\u001b[0m\u001b[0;34m,\u001b[0m \u001b[0mtype\u001b[0m\u001b[0;34m)\u001b[0m\u001b[0;34m:\u001b[0m\u001b[0;34m\u001b[0m\u001b[0;34m\u001b[0m\u001b[0m\n",
      "\u001b[0;32m/usr/lib/python3.10/copy.py\u001b[0m in \u001b[0;36m_deepcopy_list\u001b[0;34m(x, memo, deepcopy)\u001b[0m\n\u001b[1;32m    204\u001b[0m     \u001b[0mappend\u001b[0m \u001b[0;34m=\u001b[0m \u001b[0my\u001b[0m\u001b[0;34m.\u001b[0m\u001b[0mappend\u001b[0m\u001b[0;34m\u001b[0m\u001b[0;34m\u001b[0m\u001b[0m\n\u001b[1;32m    205\u001b[0m     \u001b[0;32mfor\u001b[0m \u001b[0ma\u001b[0m \u001b[0;32min\u001b[0m \u001b[0mx\u001b[0m\u001b[0;34m:\u001b[0m\u001b[0;34m\u001b[0m\u001b[0;34m\u001b[0m\u001b[0m\n\u001b[0;32m--> 206\u001b[0;31m         \u001b[0mappend\u001b[0m\u001b[0;34m(\u001b[0m\u001b[0mdeepcopy\u001b[0m\u001b[0;34m(\u001b[0m\u001b[0ma\u001b[0m\u001b[0;34m,\u001b[0m \u001b[0mmemo\u001b[0m\u001b[0;34m)\u001b[0m\u001b[0;34m)\u001b[0m\u001b[0;34m\u001b[0m\u001b[0;34m\u001b[0m\u001b[0m\n\u001b[0m\u001b[1;32m    207\u001b[0m     \u001b[0;32mreturn\u001b[0m \u001b[0my\u001b[0m\u001b[0;34m\u001b[0m\u001b[0;34m\u001b[0m\u001b[0m\n\u001b[1;32m    208\u001b[0m \u001b[0md\u001b[0m\u001b[0;34m[\u001b[0m\u001b[0mlist\u001b[0m\u001b[0;34m]\u001b[0m \u001b[0;34m=\u001b[0m \u001b[0m_deepcopy_list\u001b[0m\u001b[0;34m\u001b[0m\u001b[0;34m\u001b[0m\u001b[0m\n",
      "\u001b[0;32m/usr/lib/python3.10/copy.py\u001b[0m in \u001b[0;36mdeepcopy\u001b[0;34m(x, memo, _nil)\u001b[0m\n\u001b[1;32m    144\u001b[0m     \u001b[0mcopier\u001b[0m \u001b[0;34m=\u001b[0m \u001b[0m_deepcopy_dispatch\u001b[0m\u001b[0;34m.\u001b[0m\u001b[0mget\u001b[0m\u001b[0;34m(\u001b[0m\u001b[0mcls\u001b[0m\u001b[0;34m)\u001b[0m\u001b[0;34m\u001b[0m\u001b[0;34m\u001b[0m\u001b[0m\n\u001b[1;32m    145\u001b[0m     \u001b[0;32mif\u001b[0m \u001b[0mcopier\u001b[0m \u001b[0;32mis\u001b[0m \u001b[0;32mnot\u001b[0m \u001b[0;32mNone\u001b[0m\u001b[0;34m:\u001b[0m\u001b[0;34m\u001b[0m\u001b[0;34m\u001b[0m\u001b[0m\n\u001b[0;32m--> 146\u001b[0;31m         \u001b[0my\u001b[0m \u001b[0;34m=\u001b[0m \u001b[0mcopier\u001b[0m\u001b[0;34m(\u001b[0m\u001b[0mx\u001b[0m\u001b[0;34m,\u001b[0m \u001b[0mmemo\u001b[0m\u001b[0;34m)\u001b[0m\u001b[0;34m\u001b[0m\u001b[0;34m\u001b[0m\u001b[0m\n\u001b[0m\u001b[1;32m    147\u001b[0m     \u001b[0;32melse\u001b[0m\u001b[0;34m:\u001b[0m\u001b[0;34m\u001b[0m\u001b[0;34m\u001b[0m\u001b[0m\n\u001b[1;32m    148\u001b[0m         \u001b[0;32mif\u001b[0m \u001b[0missubclass\u001b[0m\u001b[0;34m(\u001b[0m\u001b[0mcls\u001b[0m\u001b[0;34m,\u001b[0m \u001b[0mtype\u001b[0m\u001b[0;34m)\u001b[0m\u001b[0;34m:\u001b[0m\u001b[0;34m\u001b[0m\u001b[0;34m\u001b[0m\u001b[0m\n",
      "\u001b[0;31mKeyboardInterrupt\u001b[0m: "
     ]
    }
   ],
   "source": [
    "df_straight = boss_runner_straight(delta_range, matrix_size = 30)\n",
    "df_straight.to_csv(\"30_straight_line.csv\")\n",
    "df_straight = boss_runner_straight(delta_range, matrix_size = 20)\n",
    "df_straight.to_csv(\"20_straight_line.csv\")\n",
    "df_straight = boss_runner_straight(delta_range, matrix_size = 40)\n",
    "df_straight.to_csv(\"40_straight_line.csv\")"
   ]
  },
  {
   "cell_type": "code",
   "execution_count": null,
   "id": "ceca354e-7e3c-4d09-9527-29d5c82077f0",
   "metadata": {},
   "outputs": [],
   "source": [
    "plt.figure(figsize=(6,8))\n",
    "df1 = pd.read_csv(\"30_straight_line.csv\")\n",
    "df2 = pd.read_csv(\"40_straight_line.csv\")\n",
    "df3 = pd.read_csv(\"20_straight_line.csv\")\n",
    "plt.plot(df1['delta'], df1['entropy'], color = 'red')\n",
    "plt.plot(df2['delta'], df2['entropy'], color = 'blue')\n",
    "plt.plot(df3['delta'], df3['entropy'], color = 'green')\n",
    "plt.title(\"delta vs entropy\")\n",
    "plt.legend()\n",
    "plt.show()"
   ]
  },
  {
   "cell_type": "code",
   "execution_count": null,
   "id": "632f0e3e-5023-4a2d-8bea-db88f9a6e07b",
   "metadata": {},
   "outputs": [],
   "source": [
    "#20, 30, 40 same graph for striaght_line"
   ]
  },
  {
   "cell_type": "code",
   "execution_count": null,
   "id": "4ccc981c-3d12-40c4-a3d1-3bafb6013851",
   "metadata": {},
   "outputs": [],
   "source": []
  }
 ],
 "metadata": {
  "kernelspec": {
   "display_name": "Python 3 (ipykernel)",
   "language": "python",
   "name": "python3"
  },
  "language_info": {
   "codemirror_mode": {
    "name": "ipython",
    "version": 3
   },
   "file_extension": ".py",
   "mimetype": "text/x-python",
   "name": "python",
   "nbconvert_exporter": "python",
   "pygments_lexer": "ipython3",
   "version": "3.10.12"
  }
 },
 "nbformat": 4,
 "nbformat_minor": 5
}
