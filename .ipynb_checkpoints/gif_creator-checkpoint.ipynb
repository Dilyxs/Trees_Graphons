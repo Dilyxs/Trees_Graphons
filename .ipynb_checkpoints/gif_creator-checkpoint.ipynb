{
 "cells": [
  {
   "cell_type": "code",
   "execution_count": 1,
   "id": "bd7aaddb-6637-47e2-b3ff-ecb925abc5a7",
   "metadata": {},
   "outputs": [
    {
     "name": "stderr",
     "output_type": "stream",
     "text": [
      "/home/adsayan/.local/lib/python3.10/site-packages/matplotlib/projections/__init__.py:63: UserWarning: Unable to import Axes3D. This may be due to multiple versions of Matplotlib being installed (e.g. as a system package and as a pip package). As a result, the 3D projection is not available.\n",
      "  warnings.warn(\"Unable to import Axes3D. This may be due to multiple versions of \"\n"
     ]
    },
    {
     "name": "stdout",
     "output_type": "stream",
     "text": [
      "0.04873085021972656\n",
      "time take  is 4.5299530029296875e-05\n",
      "printing time is (5.9604644775390625e-06)\n"
     ]
    }
   ],
   "source": [
    "import numpy as np\n",
    "import networkx as nx\n",
    "import matplotlib.pyplot as plt\n",
    "import copy\n",
    "from uniform_attachment_model  import matrix_uniform_attachment\n",
    "from tqdm.notebook import tqdm\n",
    "import pandas as pd\n",
    "import time\n",
    "import copy\n",
    "import  heapq\n",
    "from reg_three_g import make_that_0_into_1_with_transpose\n",
    "from line_tree import create_line_tree_adjacency_matrix\n",
    "from reg_three_g import final_3_reg_tree\n",
    "import seaborn as sns\n",
    "import os\n",
    "import math\n",
    "import matplotlib.animation as animation\n",
    "import imageio.v2 as imageio\n",
    "import ast"
   ]
  },
  {
   "cell_type": "code",
   "execution_count": 2,
   "id": "76db6e3d-497b-4189-abff-bee0b122de5d",
   "metadata": {},
   "outputs": [],
   "source": [
    "def find_barycenter_prob(matrix, vertex_to_remove):\n",
    "\n",
    "    matrix_copy = copy.deepcopy(matrix)\n",
    "\n",
    "    row_c = [0, 1]\n",
    "\n",
    "    for i in vertex_to_remove:\n",
    "        if vertex_to_remove.count(i) >= 2:\n",
    "            return i  \n",
    "\n",
    "    while len(row_c) != 0:\n",
    "        row, column = row_colum_returner(matrix_copy, vertex_to_remove)\n",
    "        row_c = row\n",
    "\n",
    "        if len(row_c) == 0:\n",
    "            break\n",
    "\n",
    "        for r, c in zip(row, column):\n",
    "            matrix_copy = make_that_1_into_0_with_transpose(matrix_copy, r, c)\n",
    "\n",
    " \n",
    "    for s, i in enumerate(matrix_copy):\n",
    "        if sum(i) == 3:\n",
    "            return s  #\n",
    "\n",
    "    for i in vertex_to_remove:\n",
    "        if sum(matrix_copy[i]) == 2:\n",
    "            return i  \n",
    "\n",
    " \n",
    "    return None\n",
    "def row_colum_returner(matrix, vertex_to_remove):\n",
    "    s= 0 \n",
    "    column = []\n",
    "    row = []\n",
    "    for i in matrix:\n",
    "        if sum(i) == 1:\n",
    "            if s in vertex_to_remove:\n",
    "                pass\n",
    "            if s not in vertex_to_remove:\n",
    "                d = 0\n",
    "                for v in i:\n",
    "                    if v==1:\n",
    "                        row.append(s)\n",
    "                        column.append(d)\n",
    "                    d+=1\n",
    "                        \n",
    "    \n",
    "        s+=1\n",
    "\n",
    "    return row, column\n",
    "\n",
    "def calculate_u_new(matrix):\n",
    "    row_count = max(len(i) for i in matrix)\n",
    "    u_new = [0] * row_count\n",
    "    u_old = [1 / row_count] * row_count\n",
    "    \n",
    "    for i in range(0, row_count):\n",
    "        for j in range(0, row_count):\n",
    "            for k in range(0, row_count):\n",
    "                center = find_barycenter_prob(matrix, vertex_to_remove=[i, j, k])\n",
    "                u_new[center] += u_old[i] * u_old[j] * u_old[k]\n",
    "    \n",
    "    return u_new\n",
    "\n",
    "\n",
    "def find_barycenter_deterministic(adj_matrix):\n",
    "    leaf_cut = []    \n",
    "    adj_matrix_copy = copy.deepcopy(adj_matrix)\n",
    "    \n",
    "    n = len(adj_matrix_copy)  # Number of nodes, number of rows\n",
    "    degrees = np.sum(adj_matrix_copy, axis=1)  # Sum of row = degree\n",
    "    nodes = set(range(n))  # All vertices\n",
    "    \n",
    "    while len(nodes) > 2: \n",
    "        # Find all leaf nodes (nodes with degree 1)\n",
    "        leaf_nodes = [i for i in nodes if degrees[i] == 1]  # Only those with a single 1 are leaves\n",
    "        \n",
    "        for leaf in leaf_nodes:\n",
    "            nodes.remove(leaf)  # Remove the leaf\n",
    "            degrees[leaf] = 0  # Degree is then 0\n",
    "\n",
    "            for neighbor in range(n):  # Check all neighbors\n",
    "                if adj_matrix_copy[leaf][neighbor] == 1:  # If there is a connection\n",
    "                    degrees[neighbor] -= 1  # Decrement the degree of the neighbor\n",
    "                    adj_matrix_copy[leaf][neighbor] = 0  # Change the 1 to 0\n",
    "                    adj_matrix_copy[neighbor][leaf] = 0  # Also change its \"transpose position\" to 0\n",
    "        leaf_cut.append(1)\n",
    "\n",
    "    # At this point, there should only be 1 or 2 nodes left\n",
    "    remaining_nodes = list(nodes)  # Convert the set to a list\n",
    "\n",
    "    if len(remaining_nodes) == 1:  # If only 1 vertex remains\n",
    "        return remaining_nodes, adj_matrix_copy, sum(leaf_cut)\n",
    "    elif len(remaining_nodes) == 2:  # If 2 vertices remain\n",
    "        return remaining_nodes, adj_matrix_copy, sum(leaf_cut)\n",
    "\n",
    "def make_that_1_into_0_with_transpose(matrix, row, column):\n",
    "    matrix[row][column] = 0\n",
    "    matrix[column][row] = 0\n",
    "\n",
    "\n",
    "    return matrix\n",
    "\n",
    "def draw_graph_from_adjacency_matrix(adjacency_matrix):\n",
    "    G = nx.Graph()\n",
    "\n",
    "    for i in range(len(adjacency_matrix)):\n",
    "        for j in range(len(adjacency_matrix[i])):\n",
    "            if adjacency_matrix[i][j] != 0: \n",
    "                G.add_edge(i, j, weight=adjacency_matrix[i][j])\n",
    "\n",
    "\n",
    "    G.add_nodes_from(range(len(adjacency_matrix)))\n",
    "\n",
    "    pos = nx.spring_layout(G, seed=42)\n",
    "\n",
    "    # Draw the graph\n",
    "    plt.figure(figsize=(8, 6))\n",
    "    nx.draw(\n",
    "        G,\n",
    "        pos,\n",
    "        with_labels=True,\n",
    "        node_color='lightblue',\n",
    "        edge_color='black',\n",
    "        node_size=10,\n",
    "        font_size=10,\n",
    "        width=0.5\n",
    "    )\n",
    "    plt.title(\"Graph from Adjacency Matrix\")\n",
    "    plt.show()\n",
    "def calculate_u_new(matrix, u_old = None, centers = None):\n",
    "    centers = []\n",
    "    row_count = max(len(i) for i in matrix)\n",
    "    u_new = [0] * row_count\n",
    "\n",
    "    if u_old is None:\n",
    "        u_old = [1 / row_count] * row_count\n",
    "\n",
    "    if  not centers:\n",
    "        for i in range(0, row_count):\n",
    "            for j in range(0, row_count):\n",
    "                for k in range(0, row_count):\n",
    "                    center = find_barycenter_prob(matrix, vertex_to_remove=[i, j, k])\n",
    "                    no_change_center = [i,j,k,center]\n",
    "                    u_new[center] += u_old[i] * u_old[j] * u_old[k]\n",
    "                    centers.append(no_change_center)\n",
    "        return u_new,centers\n",
    "\n",
    "\n",
    "    if centers:\n",
    "        for element in centers:\n",
    "            u_new[element[3]] += u_old[element[0]] * u_old[element[1]] * u_old[element[2]]\n",
    "            return u_new, centers\n",
    "            \n",
    "\n",
    "\n",
    "def entropy_calculator(list_s):\n",
    "    entropy_sum_list = []\n",
    "    for i in list_s:\n",
    "        if i < 0.0000000001:\n",
    "            value = 0\n",
    "        else:\n",
    "            value = i * np.log(i)\n",
    "            entropy_sum_list.append(value)\n",
    "    \n",
    "    return -sum(entropy_sum_list)\n",
    "\n",
    "def main_entropy_for_each_interation(n, matrix, lower_barrier = np.log(2).round(10)):\n",
    "    start_time = time.time() \n",
    "    total_steps = n\n",
    "    progress_bar = tqdm(total=total_steps, desc=\"Computing\", dynamic_ncols=True)\n",
    "\n",
    "    list_with_all_iteration = []\n",
    "    u_old = None\n",
    "    centers = None\n",
    "    for s in range(n):\n",
    "        elapsed_time = time.time() - start_time\n",
    "        progress_bar.set_description(f\"Elapsed: {elapsed_time:.2f} sec\")\n",
    "        u_calculated, los_centers = calculate_u_new(matrix, u_old, centers)\n",
    "        entropy_received = (entropy_calculator(u_calculated)).round(4)\n",
    "        centers = los_centers\n",
    "        u_old = u_calculated\n",
    "\n",
    "        dict_2_send = {\n",
    "            \"interation\": s,\n",
    "            \"entropy\": entropy_received,\n",
    "            'u_calculated': u_calculated\n",
    "        }\n",
    "        list_with_all_iteration.append(dict_2_send)\n",
    "\n",
    "        if entropy_received < lower_barrier:  \n",
    "            progress_bar.n = total_steps  # Set progress to max\n",
    "            progress_bar.refresh()  # Force update the UI\n",
    "            progress_bar.close\n",
    "            break  \n",
    "\n",
    "        progress_bar.update(1)  \n",
    "\n",
    "    progress_bar.close()  \n",
    "    return list_with_all_iteration\n",
    "    \n",
    "def runner(iterations, node_size):\n",
    "    \n",
    "    node_counter = []\n",
    "    edge_counter = []\n",
    "    \n",
    "    edge_count = 0\n",
    "    vertex_count = 0\n",
    "    for i in set(range(iterations)):\n",
    "        matrix = matrix_uniform_attachment(node_size)\n",
    "        sd ,ad, cuts = find_barycenter_deterministic(matrix)\n",
    "\n",
    "\n",
    "        \n",
    "        if len(sd) == 2:#it is an edge\n",
    "            edge_count+=1\n",
    "            edge_counter.append(sd[0])\n",
    "            edge_counter.append(sd[1])\n",
    "        elif len(sd) == 1: #is is an vertex\n",
    "            vertex_count+=1\n",
    "            node_counter.append(sd[0])\n",
    "    return edge_count, vertex_count, node_counter, edge_counter\n",
    "def generate_galton_watson_adjacency(n, p, max_nodes=100, max_iterations=20):\n",
    "    \"\"\"Generate the adjacency matrix for a Galton-Watson process.\"\"\"\n",
    "    matrix = [[0]]  \n",
    "    rows_completed = []  \n",
    "    \n",
    "    iteration = 0\n",
    "    while iteration < max_iterations:\n",
    "        new_nodes_added = False \n",
    "\n",
    "        for i in range(len(matrix)):\n",
    "            if i in rows_completed:\n",
    "                continue\n",
    "\n",
    "            locally_completed_int = []\n",
    "            how_many_kids = quick_binomial(n, p)\n",
    "\n",
    "            if how_many_kids > 0:\n",
    "                new_nodes_added = True  \n",
    "\n",
    "            for _ in range(how_many_kids):\n",
    "                while len(matrix[i]) <= max_finder_in_list(locally_completed_int):\n",
    "                    matrix[i].append(0)\n",
    "                \n",
    "                matrix[i].append(1)\n",
    "                locally_completed_int.append(len(matrix[i]) - 1)\n",
    "\n",
    "            how_many_rows_required = len(matrix[i])\n",
    "            while len(matrix) < how_many_rows_required:\n",
    "                matrix.append([0] * how_many_rows_required)\n",
    "\n",
    "            for row in matrix:\n",
    "                while len(row) < len(matrix):\n",
    "                    row.append(0)\n",
    "\n",
    "            for child_index in locally_completed_int:\n",
    "                make_that_0_into_1_with_transpose(matrix, i, child_index)\n",
    "\n",
    "            rows_completed.append(i)\n",
    "\n",
    "        iteration += 1\n",
    "\n",
    "        if not new_nodes_added:  \n",
    "            break\n",
    "\n",
    "    return matrix\n"
   ]
  },
  {
   "cell_type": "code",
   "execution_count": null,
   "id": "64b9a65b-3db9-4cbb-af75-7b9075846cbc",
   "metadata": {},
   "outputs": [],
   "source": []
  },
  {
   "cell_type": "code",
   "execution_count": 3,
   "id": "513c4fdf-eb4a-418e-9335-97e6fefafa9a",
   "metadata": {},
   "outputs": [],
   "source": [
    "\n",
    "def make_that_1_into_0_with_transpos(matrix, row, column):\n",
    "    matrix[row][column] = 0\n",
    "    matrix[column][row] = 0\n",
    "\n",
    "    \n",
    "def merge_trees(matrix_1, matrix_2, random_vertex_selection = True, vertex_from_matrix_1 = None, vertex_from_matrix_2 = None):\n",
    "    matrix_1_cp = copy.deepcopy(matrix_1)\n",
    "    matrix_2_cp = copy.deepcopy(matrix_2)\n",
    "\n",
    "\n",
    "    for i in range(len(matrix_2_cp)):\n",
    "        for li in matrix_1_cp:\n",
    "            li.append(0)\n",
    "\n",
    "\n",
    "    for i in range(len(matrix_1_cp)):\n",
    "        for li in matrix_2_cp:\n",
    "            li.insert(0, 0)\n",
    "        \n",
    "\n",
    "\n",
    "    for row in matrix_2_cp:\n",
    "        matrix_1_cp.append(row)\n",
    "\n",
    "    if random_vertex_selection: \n",
    "        vertex_for_matrix_1 = np.random.choice(list(range(len(matrix_1))))\n",
    "        vertex_for_matrix_2_og = np.random.choice(list(range(len(matrix_2))))\n",
    "        vertex_2_to_change = vertex_for_matrix_2_og + len(matrix_1)\n",
    "        print(f\"vertex {vertex_for_matrix_1} from matrix_1 and {vertex_for_matrix_2_og} from matrix_2_were chosen\")\n",
    "        matrix_final = make_that_0_into_1_with_transpose(matrix_1_cp, vertex_for_matrix_1, vertex_2_to_change)\n",
    "        return matrix_final, vertex_for_matrix_1, vertex_for_matrix_2_og\n",
    "\n",
    "    else:\n",
    "        if vertex_from_matrix_1 is None:\n",
    "            vertex_for_matrix_1 = np.random.choice(list(range(len(matrix_1))))\n",
    "            vertex_2_to_change = vertex_from_matrix_2 + len(matrix_1)\n",
    "            print(f\"vertex {vertex_for_matrix_1} from matrix_1 and {vertex_from_matrix_2} from matrix_2_were chosen\")\n",
    "            matrix_final = make_that_0_into_1_with_transpose(matrix_1_cp, vertex_for_matrix_1, vertex_2_to_change)\n",
    "            return matrix_final, vertex_for_matrix_1, vertex_from_matrix_2\n",
    "            \n",
    "        else:\n",
    "            vertex_for_matrix_1 = vertex_from_matrix_1\n",
    "            vertex_2_to_change = vertex_from_matrix_2 + len(matrix_1)\n",
    "            print(f\"vertex {vertex_for_matrix_1} from matrix_1 and {vertex_from_matrix_2} from matrix_2_were chosen\")\n",
    "            matrix_final = make_that_0_into_1_with_transpose(matrix_1_cp, vertex_for_matrix_1, vertex_2_to_change)\n",
    "            return matrix_final, vertex_for_matrix_1, vertex_from_matrix_2\n",
    "\n"
   ]
  },
  {
   "cell_type": "code",
   "execution_count": 4,
   "id": "2400af2d-356a-49d3-a790-8652726e0033",
   "metadata": {},
   "outputs": [],
   "source": [
    "def diffusion_process(M, delta):\n",
    "    matrix = copy.deepcopy(M)\n",
    "    size = np.array(matrix).shape[0]\n",
    "    m = np.identity(size)\n",
    "    first_half = (1-delta) * m\n",
    "    second_half = return_deg(M, delta)\n",
    "    return (first_half + second_half)\n",
    "    \n",
    "\n",
    "def return_deg(matrix, delta):\n",
    "    ma = copy.deepcopy(matrix)\n",
    "    clean = copy.deepcopy(matrix)\n",
    "    for i in ma:\n",
    "        deg = sum(i)\n",
    "        for v, num in enumerate(i):\n",
    "            i[v] = num / deg\n",
    "    ma = np.matrix.transpose(np.array(ma))\n",
    "    return (delta *ma) "
   ]
  },
  {
   "cell_type": "code",
   "execution_count": 12,
   "id": "e6256ab2-7ea6-47d6-9e60-3f2a80ff59ce",
   "metadata": {
    "scrolled": true
   },
   "outputs": [
    {
     "ename": "KeyboardInterrupt",
     "evalue": "",
     "output_type": "error",
     "traceback": [
      "\u001b[0;31m---------------------------------------------------------------------------\u001b[0m",
      "\u001b[0;31mKeyboardInterrupt\u001b[0m                         Traceback (most recent call last)",
      "\u001b[0;32m/tmp/ipykernel_131280/2285463846.py\u001b[0m in \u001b[0;36m<module>\u001b[0;34m\u001b[0m\n\u001b[1;32m      9\u001b[0m \u001b[0mtolerance\u001b[0m \u001b[0;34m=\u001b[0m \u001b[0;36m1e-5\u001b[0m\u001b[0;34m\u001b[0m\u001b[0;34m\u001b[0m\u001b[0m\n\u001b[1;32m     10\u001b[0m \u001b[0;32mfor\u001b[0m \u001b[0m_\u001b[0m \u001b[0;32min\u001b[0m \u001b[0mrange\u001b[0m\u001b[0;34m(\u001b[0m\u001b[0;36m20\u001b[0m\u001b[0;34m)\u001b[0m\u001b[0;34m:\u001b[0m\u001b[0;34m\u001b[0m\u001b[0;34m\u001b[0m\u001b[0m\n\u001b[0;32m---> 11\u001b[0;31m     \u001b[0mx\u001b[0m\u001b[0;34m,\u001b[0m\u001b[0my\u001b[0m \u001b[0;34m=\u001b[0m \u001b[0mcalculate_u_new\u001b[0m\u001b[0;34m(\u001b[0m\u001b[0mmatrix\u001b[0m\u001b[0;34m,\u001b[0m \u001b[0mu_old\u001b[0m \u001b[0;34m=\u001b[0m \u001b[0mu_old\u001b[0m\u001b[0;34m,\u001b[0m \u001b[0mcenters\u001b[0m \u001b[0;34m=\u001b[0m \u001b[0mcenters\u001b[0m\u001b[0;34m)\u001b[0m\u001b[0;34m\u001b[0m\u001b[0;34m\u001b[0m\u001b[0m\n\u001b[0m\u001b[1;32m     12\u001b[0m     \u001b[0mcenters\u001b[0m \u001b[0;34m=\u001b[0m \u001b[0my\u001b[0m\u001b[0;34m\u001b[0m\u001b[0;34m\u001b[0m\u001b[0m\n\u001b[1;32m     13\u001b[0m     \u001b[0mvalue\u001b[0m \u001b[0;34m=\u001b[0m \u001b[0mnp\u001b[0m\u001b[0;34m.\u001b[0m\u001b[0mmatmul\u001b[0m\u001b[0;34m(\u001b[0m\u001b[0mmatri\u001b[0m\u001b[0;34m,\u001b[0m \u001b[0mnp\u001b[0m\u001b[0;34m.\u001b[0m\u001b[0marray\u001b[0m\u001b[0;34m(\u001b[0m\u001b[0mx\u001b[0m\u001b[0;34m)\u001b[0m\u001b[0;34m)\u001b[0m\u001b[0;34m\u001b[0m\u001b[0;34m\u001b[0m\u001b[0m\n",
      "\u001b[0;32m/tmp/ipykernel_131280/812122930.py\u001b[0m in \u001b[0;36mcalculate_u_new\u001b[0;34m(matrix, u_old, centers)\u001b[0m\n\u001b[1;32m    142\u001b[0m             \u001b[0;32mfor\u001b[0m \u001b[0mj\u001b[0m \u001b[0;32min\u001b[0m \u001b[0mrange\u001b[0m\u001b[0;34m(\u001b[0m\u001b[0;36m0\u001b[0m\u001b[0;34m,\u001b[0m \u001b[0mrow_count\u001b[0m\u001b[0;34m)\u001b[0m\u001b[0;34m:\u001b[0m\u001b[0;34m\u001b[0m\u001b[0;34m\u001b[0m\u001b[0m\n\u001b[1;32m    143\u001b[0m                 \u001b[0;32mfor\u001b[0m \u001b[0mk\u001b[0m \u001b[0;32min\u001b[0m \u001b[0mrange\u001b[0m\u001b[0;34m(\u001b[0m\u001b[0;36m0\u001b[0m\u001b[0;34m,\u001b[0m \u001b[0mrow_count\u001b[0m\u001b[0;34m)\u001b[0m\u001b[0;34m:\u001b[0m\u001b[0;34m\u001b[0m\u001b[0;34m\u001b[0m\u001b[0m\n\u001b[0;32m--> 144\u001b[0;31m                     \u001b[0mcenter\u001b[0m \u001b[0;34m=\u001b[0m \u001b[0mfind_barycenter_prob\u001b[0m\u001b[0;34m(\u001b[0m\u001b[0mmatrix\u001b[0m\u001b[0;34m,\u001b[0m \u001b[0mvertex_to_remove\u001b[0m\u001b[0;34m=\u001b[0m\u001b[0;34m[\u001b[0m\u001b[0mi\u001b[0m\u001b[0;34m,\u001b[0m \u001b[0mj\u001b[0m\u001b[0;34m,\u001b[0m \u001b[0mk\u001b[0m\u001b[0;34m]\u001b[0m\u001b[0;34m)\u001b[0m\u001b[0;34m\u001b[0m\u001b[0;34m\u001b[0m\u001b[0m\n\u001b[0m\u001b[1;32m    145\u001b[0m                     \u001b[0mno_change_center\u001b[0m \u001b[0;34m=\u001b[0m \u001b[0;34m[\u001b[0m\u001b[0mi\u001b[0m\u001b[0;34m,\u001b[0m\u001b[0mj\u001b[0m\u001b[0;34m,\u001b[0m\u001b[0mk\u001b[0m\u001b[0;34m,\u001b[0m\u001b[0mcenter\u001b[0m\u001b[0;34m]\u001b[0m\u001b[0;34m\u001b[0m\u001b[0;34m\u001b[0m\u001b[0m\n\u001b[1;32m    146\u001b[0m                     \u001b[0mu_new\u001b[0m\u001b[0;34m[\u001b[0m\u001b[0mcenter\u001b[0m\u001b[0;34m]\u001b[0m \u001b[0;34m+=\u001b[0m \u001b[0mu_old\u001b[0m\u001b[0;34m[\u001b[0m\u001b[0mi\u001b[0m\u001b[0;34m]\u001b[0m \u001b[0;34m*\u001b[0m \u001b[0mu_old\u001b[0m\u001b[0;34m[\u001b[0m\u001b[0mj\u001b[0m\u001b[0;34m]\u001b[0m \u001b[0;34m*\u001b[0m \u001b[0mu_old\u001b[0m\u001b[0;34m[\u001b[0m\u001b[0mk\u001b[0m\u001b[0;34m]\u001b[0m\u001b[0;34m\u001b[0m\u001b[0;34m\u001b[0m\u001b[0m\n",
      "\u001b[0;32m/tmp/ipykernel_131280/812122930.py\u001b[0m in \u001b[0;36mfind_barycenter_prob\u001b[0;34m(matrix, vertex_to_remove)\u001b[0m\n\u001b[1;32m      1\u001b[0m \u001b[0;32mdef\u001b[0m \u001b[0mfind_barycenter_prob\u001b[0m\u001b[0;34m(\u001b[0m\u001b[0mmatrix\u001b[0m\u001b[0;34m,\u001b[0m \u001b[0mvertex_to_remove\u001b[0m\u001b[0;34m)\u001b[0m\u001b[0;34m:\u001b[0m\u001b[0;34m\u001b[0m\u001b[0;34m\u001b[0m\u001b[0m\n\u001b[1;32m      2\u001b[0m \u001b[0;34m\u001b[0m\u001b[0m\n\u001b[0;32m----> 3\u001b[0;31m     \u001b[0mmatrix_copy\u001b[0m \u001b[0;34m=\u001b[0m \u001b[0mcopy\u001b[0m\u001b[0;34m.\u001b[0m\u001b[0mdeepcopy\u001b[0m\u001b[0;34m(\u001b[0m\u001b[0mmatrix\u001b[0m\u001b[0;34m)\u001b[0m\u001b[0;34m\u001b[0m\u001b[0;34m\u001b[0m\u001b[0m\n\u001b[0m\u001b[1;32m      4\u001b[0m \u001b[0;34m\u001b[0m\u001b[0m\n\u001b[1;32m      5\u001b[0m     \u001b[0mrow_c\u001b[0m \u001b[0;34m=\u001b[0m \u001b[0;34m[\u001b[0m\u001b[0;36m0\u001b[0m\u001b[0;34m,\u001b[0m \u001b[0;36m1\u001b[0m\u001b[0;34m]\u001b[0m\u001b[0;34m\u001b[0m\u001b[0;34m\u001b[0m\u001b[0m\n",
      "\u001b[0;32m/usr/lib/python3.10/copy.py\u001b[0m in \u001b[0;36mdeepcopy\u001b[0;34m(x, memo, _nil)\u001b[0m\n\u001b[1;32m    144\u001b[0m     \u001b[0mcopier\u001b[0m \u001b[0;34m=\u001b[0m \u001b[0m_deepcopy_dispatch\u001b[0m\u001b[0;34m.\u001b[0m\u001b[0mget\u001b[0m\u001b[0;34m(\u001b[0m\u001b[0mcls\u001b[0m\u001b[0;34m)\u001b[0m\u001b[0;34m\u001b[0m\u001b[0;34m\u001b[0m\u001b[0m\n\u001b[1;32m    145\u001b[0m     \u001b[0;32mif\u001b[0m \u001b[0mcopier\u001b[0m \u001b[0;32mis\u001b[0m \u001b[0;32mnot\u001b[0m \u001b[0;32mNone\u001b[0m\u001b[0;34m:\u001b[0m\u001b[0;34m\u001b[0m\u001b[0;34m\u001b[0m\u001b[0m\n\u001b[0;32m--> 146\u001b[0;31m         \u001b[0my\u001b[0m \u001b[0;34m=\u001b[0m \u001b[0mcopier\u001b[0m\u001b[0;34m(\u001b[0m\u001b[0mx\u001b[0m\u001b[0;34m,\u001b[0m \u001b[0mmemo\u001b[0m\u001b[0;34m)\u001b[0m\u001b[0;34m\u001b[0m\u001b[0;34m\u001b[0m\u001b[0m\n\u001b[0m\u001b[1;32m    147\u001b[0m     \u001b[0;32melse\u001b[0m\u001b[0;34m:\u001b[0m\u001b[0;34m\u001b[0m\u001b[0;34m\u001b[0m\u001b[0m\n\u001b[1;32m    148\u001b[0m         \u001b[0;32mif\u001b[0m \u001b[0missubclass\u001b[0m\u001b[0;34m(\u001b[0m\u001b[0mcls\u001b[0m\u001b[0;34m,\u001b[0m \u001b[0mtype\u001b[0m\u001b[0;34m)\u001b[0m\u001b[0;34m:\u001b[0m\u001b[0;34m\u001b[0m\u001b[0;34m\u001b[0m\u001b[0m\n",
      "\u001b[0;32m/usr/lib/python3.10/copy.py\u001b[0m in \u001b[0;36m_deepcopy_list\u001b[0;34m(x, memo, deepcopy)\u001b[0m\n\u001b[1;32m    204\u001b[0m     \u001b[0mappend\u001b[0m \u001b[0;34m=\u001b[0m \u001b[0my\u001b[0m\u001b[0;34m.\u001b[0m\u001b[0mappend\u001b[0m\u001b[0;34m\u001b[0m\u001b[0;34m\u001b[0m\u001b[0m\n\u001b[1;32m    205\u001b[0m     \u001b[0;32mfor\u001b[0m \u001b[0ma\u001b[0m \u001b[0;32min\u001b[0m \u001b[0mx\u001b[0m\u001b[0;34m:\u001b[0m\u001b[0;34m\u001b[0m\u001b[0;34m\u001b[0m\u001b[0m\n\u001b[0;32m--> 206\u001b[0;31m         \u001b[0mappend\u001b[0m\u001b[0;34m(\u001b[0m\u001b[0mdeepcopy\u001b[0m\u001b[0;34m(\u001b[0m\u001b[0ma\u001b[0m\u001b[0;34m,\u001b[0m \u001b[0mmemo\u001b[0m\u001b[0;34m)\u001b[0m\u001b[0;34m)\u001b[0m\u001b[0;34m\u001b[0m\u001b[0;34m\u001b[0m\u001b[0m\n\u001b[0m\u001b[1;32m    207\u001b[0m     \u001b[0;32mreturn\u001b[0m \u001b[0my\u001b[0m\u001b[0;34m\u001b[0m\u001b[0;34m\u001b[0m\u001b[0m\n\u001b[1;32m    208\u001b[0m \u001b[0md\u001b[0m\u001b[0;34m[\u001b[0m\u001b[0mlist\u001b[0m\u001b[0;34m]\u001b[0m \u001b[0;34m=\u001b[0m \u001b[0m_deepcopy_list\u001b[0m\u001b[0;34m\u001b[0m\u001b[0;34m\u001b[0m\u001b[0m\n",
      "\u001b[0;32m/usr/lib/python3.10/copy.py\u001b[0m in \u001b[0;36mdeepcopy\u001b[0;34m(x, memo, _nil)\u001b[0m\n\u001b[1;32m    144\u001b[0m     \u001b[0mcopier\u001b[0m \u001b[0;34m=\u001b[0m \u001b[0m_deepcopy_dispatch\u001b[0m\u001b[0;34m.\u001b[0m\u001b[0mget\u001b[0m\u001b[0;34m(\u001b[0m\u001b[0mcls\u001b[0m\u001b[0;34m)\u001b[0m\u001b[0;34m\u001b[0m\u001b[0;34m\u001b[0m\u001b[0m\n\u001b[1;32m    145\u001b[0m     \u001b[0;32mif\u001b[0m \u001b[0mcopier\u001b[0m \u001b[0;32mis\u001b[0m \u001b[0;32mnot\u001b[0m \u001b[0;32mNone\u001b[0m\u001b[0;34m:\u001b[0m\u001b[0;34m\u001b[0m\u001b[0;34m\u001b[0m\u001b[0m\n\u001b[0;32m--> 146\u001b[0;31m         \u001b[0my\u001b[0m \u001b[0;34m=\u001b[0m \u001b[0mcopier\u001b[0m\u001b[0;34m(\u001b[0m\u001b[0mx\u001b[0m\u001b[0;34m,\u001b[0m \u001b[0mmemo\u001b[0m\u001b[0;34m)\u001b[0m\u001b[0;34m\u001b[0m\u001b[0;34m\u001b[0m\u001b[0m\n\u001b[0m\u001b[1;32m    147\u001b[0m     \u001b[0;32melse\u001b[0m\u001b[0;34m:\u001b[0m\u001b[0;34m\u001b[0m\u001b[0;34m\u001b[0m\u001b[0m\n\u001b[1;32m    148\u001b[0m         \u001b[0;32mif\u001b[0m \u001b[0missubclass\u001b[0m\u001b[0;34m(\u001b[0m\u001b[0mcls\u001b[0m\u001b[0;34m,\u001b[0m \u001b[0mtype\u001b[0m\u001b[0;34m)\u001b[0m\u001b[0;34m:\u001b[0m\u001b[0;34m\u001b[0m\u001b[0;34m\u001b[0m\u001b[0m\n",
      "\u001b[0;32m/usr/lib/python3.10/copy.py\u001b[0m in \u001b[0;36m_deepcopy_list\u001b[0;34m(x, memo, deepcopy)\u001b[0m\n\u001b[1;32m    204\u001b[0m     \u001b[0mappend\u001b[0m \u001b[0;34m=\u001b[0m \u001b[0my\u001b[0m\u001b[0;34m.\u001b[0m\u001b[0mappend\u001b[0m\u001b[0;34m\u001b[0m\u001b[0;34m\u001b[0m\u001b[0m\n\u001b[1;32m    205\u001b[0m     \u001b[0;32mfor\u001b[0m \u001b[0ma\u001b[0m \u001b[0;32min\u001b[0m \u001b[0mx\u001b[0m\u001b[0;34m:\u001b[0m\u001b[0;34m\u001b[0m\u001b[0;34m\u001b[0m\u001b[0m\n\u001b[0;32m--> 206\u001b[0;31m         \u001b[0mappend\u001b[0m\u001b[0;34m(\u001b[0m\u001b[0mdeepcopy\u001b[0m\u001b[0;34m(\u001b[0m\u001b[0ma\u001b[0m\u001b[0;34m,\u001b[0m \u001b[0mmemo\u001b[0m\u001b[0;34m)\u001b[0m\u001b[0;34m)\u001b[0m\u001b[0;34m\u001b[0m\u001b[0;34m\u001b[0m\u001b[0m\n\u001b[0m\u001b[1;32m    207\u001b[0m     \u001b[0;32mreturn\u001b[0m \u001b[0my\u001b[0m\u001b[0;34m\u001b[0m\u001b[0;34m\u001b[0m\u001b[0m\n\u001b[1;32m    208\u001b[0m \u001b[0md\u001b[0m\u001b[0;34m[\u001b[0m\u001b[0mlist\u001b[0m\u001b[0;34m]\u001b[0m \u001b[0;34m=\u001b[0m \u001b[0m_deepcopy_list\u001b[0m\u001b[0;34m\u001b[0m\u001b[0;34m\u001b[0m\u001b[0m\n",
      "\u001b[0;32m/usr/lib/python3.10/copy.py\u001b[0m in \u001b[0;36mdeepcopy\u001b[0;34m(x, memo, _nil)\u001b[0m\n\u001b[1;32m    136\u001b[0m \u001b[0;34m\u001b[0m\u001b[0m\n\u001b[1;32m    137\u001b[0m     \u001b[0md\u001b[0m \u001b[0;34m=\u001b[0m \u001b[0mid\u001b[0m\u001b[0;34m(\u001b[0m\u001b[0mx\u001b[0m\u001b[0;34m)\u001b[0m\u001b[0;34m\u001b[0m\u001b[0;34m\u001b[0m\u001b[0m\n\u001b[0;32m--> 138\u001b[0;31m     \u001b[0my\u001b[0m \u001b[0;34m=\u001b[0m \u001b[0mmemo\u001b[0m\u001b[0;34m.\u001b[0m\u001b[0mget\u001b[0m\u001b[0;34m(\u001b[0m\u001b[0md\u001b[0m\u001b[0;34m,\u001b[0m \u001b[0m_nil\u001b[0m\u001b[0;34m)\u001b[0m\u001b[0;34m\u001b[0m\u001b[0;34m\u001b[0m\u001b[0m\n\u001b[0m\u001b[1;32m    139\u001b[0m     \u001b[0;32mif\u001b[0m \u001b[0my\u001b[0m \u001b[0;32mis\u001b[0m \u001b[0;32mnot\u001b[0m \u001b[0m_nil\u001b[0m\u001b[0;34m:\u001b[0m\u001b[0;34m\u001b[0m\u001b[0;34m\u001b[0m\u001b[0m\n\u001b[1;32m    140\u001b[0m         \u001b[0;32mreturn\u001b[0m \u001b[0my\u001b[0m\u001b[0;34m\u001b[0m\u001b[0;34m\u001b[0m\u001b[0m\n",
      "\u001b[0;31mKeyboardInterrupt\u001b[0m: "
     ]
    }
   ],
   "source": [
    "centers = None\n",
    "u_old = None\n",
    "matrix = matrix_uniform_attachment(15)\n",
    "delta = 0.3\n",
    "matri = diffusion_process(matrix, delta)\n",
    "iterations_done = 0\n",
    "last_four_value = []\n",
    "\n",
    "tolerance = 1e-5\n",
    "for _ in range(20):\n",
    "    x,y = calculate_u_new(matrix, u_old = u_old, centers = centers)\n",
    "    centers = y\n",
    "    value = np.matmul(matri, np.array(x))\n",
    "    u_old = value\n",
    "    entropy = entropy_calculator(value)\n",
    "\n",
    "    if len(last_four_value) < 4:\n",
    "        last_four_value.append(entropy)\n",
    "    elif len(last_four_value) >= 4:\n",
    "        last_four_value.remove(last_four_value[0])\n",
    "        last_four_value.append(entropy)\n",
    "\n",
    "\n",
    "    iterations_done+=1\n",
    "    if len(last_four_value) >= 4:\n",
    "        diffs = [np.linalg.norm(last_four_value[i] - last_four_value[i - 1]) for i in range(1, 4)]\n",
    "        if np.mean(diffs) < tolerance:\n",
    "            break\n",
    "\n",
    "\n",
    "\n",
    "        "
   ]
  },
  {
   "cell_type": "code",
   "execution_count": null,
   "id": "e341a89e-ee88-433a-b8fa-a847b4ac8689",
   "metadata": {},
   "outputs": [],
   "source": []
  },
  {
   "cell_type": "code",
   "execution_count": null,
   "id": "244fc102-3c02-4ee6-94b8-a4ef2daa62ba",
   "metadata": {},
   "outputs": [],
   "source": []
  },
  {
   "cell_type": "code",
   "execution_count": null,
   "id": "5295ad9e-afd6-42c6-949f-e8084dd9caa3",
   "metadata": {},
   "outputs": [],
   "source": []
  },
  {
   "cell_type": "code",
   "execution_count": 5,
   "id": "6e2ba88c-4e52-41c2-b272-9507fc84a205",
   "metadata": {},
   "outputs": [],
   "source": [
    "def main_guy(delta,model_type, matrix_size=15, tolerance=1e-5, max_tolerance = 40):\n",
    "    \"\"\"for model type, put either random_uni, straight_line, tree_3, note that for tree_3 it's iterations done\"\"\"\n",
    "    centers = None\n",
    "    u_old = None\n",
    "    last_before_u = None\n",
    "\n",
    "    if model_type == \"random_uni\":\n",
    "        matrix = matrix_uniform_attachment(matrix_size)\n",
    "\n",
    "    elif model_type == \"straight_line\":\n",
    "        matrix = create_line_tree_adjacency_matrix(matrix_size)\n",
    "    elif model_type == \"tree_3\":\n",
    "        matrix = final_3_reg_tree(matrix_size)\n",
    "    matri = diffusion_process(matrix, delta)\n",
    "    iterations_done = 0\n",
    "    last_four_value = []\n",
    "\n",
    "    start_time = time.time()\n",
    "    pbar = tqdm(total=max_tolerance, desc=\"Processing Iterations\", unit=\"step\") \n",
    "\n",
    "    for _ in range(max_tolerance):\n",
    "        x, y = calculate_u_new(matrix, u_old=u_old, centers=centers)\n",
    "        centers = y\n",
    "        value = np.matmul(matri, np.array(x))\n",
    "\n",
    "        u_old = value\n",
    "        entropy = entropy_calculator(value)\n",
    "\n",
    "\n",
    "        if entropy < 0.1:\n",
    "            pbar.n = pbar.total\n",
    "            pbar.update(0)\n",
    "            break\n",
    "            \n",
    "        \n",
    "\n",
    "        if len(last_four_value) < 4:\n",
    "            last_four_value.append(entropy)\n",
    "        else:\n",
    "            last_four_value.pop(0)  \n",
    "            last_four_value.append(entropy)\n",
    "\n",
    "        iterations_done += 1\n",
    "\n",
    "        elapsed_time = time.time() - start_time\n",
    "        pbar.set_description(f\"Processing Iterations | Time: {elapsed_time:.2f}s\")\n",
    "        pbar.update(1)  \n",
    "\n",
    "        if len(last_four_value) >= 4:\n",
    "            diffs = [np.linalg.norm(last_four_value[i] - last_four_value[i - 1]) for i in range(1, 4)]\n",
    "            if np.mean(diffs) < tolerance:\n",
    "                pbar.n = pbar.total\n",
    "                pbar.update(0)\n",
    "                break\n",
    "\n",
    "    pbar.close()\n",
    "\n",
    "\n",
    "    return u_old, iterations_done, np.mean(last_four_value)\n",
    "\n",
    "def make_gif(df):\n",
    "    os.makedirs('frames', exist_ok=True)\n",
    "    folder_path = \"gifs\"\n",
    "    os.makedirs(folder_path, exist_ok=True)\n",
    "    \n",
    "    filenames = []\n",
    "\n",
    "    for i in range(len(df)):\n",
    "        frame_path = f'frames/frame_{i:03d}.png'\n",
    "        filenames.append(frame_path)\n",
    "        \n",
    "        fig, ax = plt.subplots(figsize=(14, 12))\n",
    "        \n",
    "        vertex = df.iloc[i]['vertex']\n",
    "        u_old = df.iloc[i]['u_old']\n",
    "        \n",
    "        \n",
    "        ax.bar(range(vertex), u_old)\n",
    "        ax.set_xlabel('vertex')\n",
    "        ax.set_ylabel('Prob')\n",
    "        ax.set_title(f\"Prob distribution vs. Delta, Vertex count is {df['vertex'][0]}, \"\n",
    "                     f\"Initial entropy: {round(np.log(df['vertex'][0]), 3)}\")\n",
    "\n",
    "        ax.set_ylim(0, max(u_old))\n",
    "        ticks = np.arange(0, max(u_old) + 0.01, 1)\n",
    "        ax.set_yticks(ticks)\n",
    "        ax.legend([f\"delta is {df.delta[i]}\"])\n",
    "        \n",
    "        fig.savefig(frame_path)\n",
    "        plt.close(fig)\n",
    "    \n",
    "    filename = f\"Prob distribution vs. Delta, Vertex count is {df['vertex'][0]}, and initial entropy is {round(np.log(df['vertex'][0]), 3)}\"\n",
    "    gif_filename = f\"{folder_path}/{filename}.gif\"\n",
    "    \n",
    "    with imageio.get_writer(gif_filename, mode='I', duration=4.0, loop = 0) as writer:\n",
    "        for filename in filenames:\n",
    "            image = imageio.imread(filename)\n",
    "            writer.append_data(image)\n",
    "    \n",
    "\n",
    "    for filename in filenames:\n",
    "        os.remove(filename)\n",
    "    \n",
    "    print(f\"GIF saved as '{gif_filename}'\")"
   ]
  },
  {
   "cell_type": "code",
   "execution_count": null,
   "id": "57b5d72d-f53c-4a78-9b0e-f8d1da413aae",
   "metadata": {},
   "outputs": [],
   "source": []
  },
  {
   "cell_type": "code",
   "execution_count": 15,
   "id": "0cff180b-1322-4312-beb4-596165ad6bed",
   "metadata": {
    "scrolled": true
   },
   "outputs": [],
   "source": [
    "delta_range = [0.1, 0.2, 0.3, 0.4, 0.5, 0.6, 0.7, 0.8, 0.9]\n",
    "matrix_sizes = list(range(10,18))\n",
    "\n",
    "def boss_runner(delta_range, matrix_sizes, tolerance = 1e-12, model_type = \"straight_line\"):\n",
    "\n",
    "    all_data = []\n",
    "    \n",
    "    for matrix_size in matrix_sizes:   \n",
    "        iteration = []\n",
    "        for delta in delta_range:\n",
    "            for _ in range(10):\n",
    "                local_it = []\n",
    "                local_entropy = []\n",
    "                u_new, iterr, entropy = main_guy(delta, model_type=model_type, matrix_size=matrix_size, tolerance=tolerance)\n",
    "                local_it.append(iterr)\n",
    "                local_entropy.append(entropy)\n",
    "            iteration.append({'delta':delta ,\n",
    "                              'vertex':matrix_size,\n",
    "                            'iterration':np.mean(local_it),\n",
    "                            'entropy': np.mean(local_entropy),\n",
    "                             'u_old' : u_new})\n",
    "    \n",
    "        all_data.append(iteration)\n",
    "        df = pd.DataFrame(iteration)\n",
    "        test_df = df\n",
    "        make_gif(df)\n",
    "\n",
    "    \n",
    "    return all_data"
   ]
  },
  {
   "cell_type": "code",
   "execution_count": 16,
   "id": "3036e976-381d-4b99-a136-df691241d144",
   "metadata": {
    "scrolled": true
   },
   "outputs": [
    {
     "data": {
      "application/vnd.jupyter.widget-view+json": {
       "model_id": "bb025095d64b43cab37e0c15aea6c9d7",
       "version_major": 2,
       "version_minor": 0
      },
      "text/plain": [
       "Processing Iterations:   0%|          | 0/40 [00:00<?, ?step/s]"
      ]
     },
     "metadata": {},
     "output_type": "display_data"
    },
    {
     "data": {
      "application/vnd.jupyter.widget-view+json": {
       "model_id": "945a0f78f3674e27b6833bbb932b0492",
       "version_major": 2,
       "version_minor": 0
      },
      "text/plain": [
       "Processing Iterations:   0%|          | 0/40 [00:00<?, ?step/s]"
      ]
     },
     "metadata": {},
     "output_type": "display_data"
    },
    {
     "data": {
      "application/vnd.jupyter.widget-view+json": {
       "model_id": "bdcaccb15fb144f1805eef50c925d5f8",
       "version_major": 2,
       "version_minor": 0
      },
      "text/plain": [
       "Processing Iterations:   0%|          | 0/40 [00:00<?, ?step/s]"
      ]
     },
     "metadata": {},
     "output_type": "display_data"
    },
    {
     "data": {
      "application/vnd.jupyter.widget-view+json": {
       "model_id": "0891844aff594c0f9b87fd90f91feec9",
       "version_major": 2,
       "version_minor": 0
      },
      "text/plain": [
       "Processing Iterations:   0%|          | 0/40 [00:00<?, ?step/s]"
      ]
     },
     "metadata": {},
     "output_type": "display_data"
    },
    {
     "data": {
      "application/vnd.jupyter.widget-view+json": {
       "model_id": "e3a46bd68591402ba18287028319da4c",
       "version_major": 2,
       "version_minor": 0
      },
      "text/plain": [
       "Processing Iterations:   0%|          | 0/40 [00:00<?, ?step/s]"
      ]
     },
     "metadata": {},
     "output_type": "display_data"
    },
    {
     "data": {
      "application/vnd.jupyter.widget-view+json": {
       "model_id": "e4a1821c0d8242d595c750a48ae7d849",
       "version_major": 2,
       "version_minor": 0
      },
      "text/plain": [
       "Processing Iterations:   0%|          | 0/40 [00:00<?, ?step/s]"
      ]
     },
     "metadata": {},
     "output_type": "display_data"
    },
    {
     "data": {
      "application/vnd.jupyter.widget-view+json": {
       "model_id": "85cb80d7be144094acb0d2abd0bf4a39",
       "version_major": 2,
       "version_minor": 0
      },
      "text/plain": [
       "Processing Iterations:   0%|          | 0/40 [00:00<?, ?step/s]"
      ]
     },
     "metadata": {},
     "output_type": "display_data"
    },
    {
     "data": {
      "application/vnd.jupyter.widget-view+json": {
       "model_id": "3fd9d7a4f5b843e480f64e51dcd9a1e2",
       "version_major": 2,
       "version_minor": 0
      },
      "text/plain": [
       "Processing Iterations:   0%|          | 0/40 [00:00<?, ?step/s]"
      ]
     },
     "metadata": {},
     "output_type": "display_data"
    },
    {
     "data": {
      "application/vnd.jupyter.widget-view+json": {
       "model_id": "7093338867c54be2b4cf371bc85a3694",
       "version_major": 2,
       "version_minor": 0
      },
      "text/plain": [
       "Processing Iterations:   0%|          | 0/40 [00:00<?, ?step/s]"
      ]
     },
     "metadata": {},
     "output_type": "display_data"
    },
    {
     "data": {
      "application/vnd.jupyter.widget-view+json": {
       "model_id": "df0e2342de31426c9f895426463b04a7",
       "version_major": 2,
       "version_minor": 0
      },
      "text/plain": [
       "Processing Iterations:   0%|          | 0/40 [00:00<?, ?step/s]"
      ]
     },
     "metadata": {},
     "output_type": "display_data"
    },
    {
     "data": {
      "application/vnd.jupyter.widget-view+json": {
       "model_id": "ef0cdf4b0d2a4b6195dd35ff3994b097",
       "version_major": 2,
       "version_minor": 0
      },
      "text/plain": [
       "Processing Iterations:   0%|          | 0/40 [00:00<?, ?step/s]"
      ]
     },
     "metadata": {},
     "output_type": "display_data"
    },
    {
     "data": {
      "application/vnd.jupyter.widget-view+json": {
       "model_id": "e26a06bfbb9249e5b294a772554d950b",
       "version_major": 2,
       "version_minor": 0
      },
      "text/plain": [
       "Processing Iterations:   0%|          | 0/40 [00:00<?, ?step/s]"
      ]
     },
     "metadata": {},
     "output_type": "display_data"
    },
    {
     "data": {
      "application/vnd.jupyter.widget-view+json": {
       "model_id": "ef3fdd49940d4419a0cc8ef667e5f137",
       "version_major": 2,
       "version_minor": 0
      },
      "text/plain": [
       "Processing Iterations:   0%|          | 0/40 [00:00<?, ?step/s]"
      ]
     },
     "metadata": {},
     "output_type": "display_data"
    },
    {
     "data": {
      "application/vnd.jupyter.widget-view+json": {
       "model_id": "532e22584206421cb66dcafe0b0000cf",
       "version_major": 2,
       "version_minor": 0
      },
      "text/plain": [
       "Processing Iterations:   0%|          | 0/40 [00:00<?, ?step/s]"
      ]
     },
     "metadata": {},
     "output_type": "display_data"
    },
    {
     "data": {
      "application/vnd.jupyter.widget-view+json": {
       "model_id": "6b125ce26c7d4b5d9206f816eaa07cba",
       "version_major": 2,
       "version_minor": 0
      },
      "text/plain": [
       "Processing Iterations:   0%|          | 0/40 [00:00<?, ?step/s]"
      ]
     },
     "metadata": {},
     "output_type": "display_data"
    },
    {
     "data": {
      "application/vnd.jupyter.widget-view+json": {
       "model_id": "3a11c8a11ec14d798c113906c6efca4f",
       "version_major": 2,
       "version_minor": 0
      },
      "text/plain": [
       "Processing Iterations:   0%|          | 0/40 [00:00<?, ?step/s]"
      ]
     },
     "metadata": {},
     "output_type": "display_data"
    },
    {
     "data": {
      "application/vnd.jupyter.widget-view+json": {
       "model_id": "19c6fa6e390847f68edeb9ec23a71519",
       "version_major": 2,
       "version_minor": 0
      },
      "text/plain": [
       "Processing Iterations:   0%|          | 0/40 [00:00<?, ?step/s]"
      ]
     },
     "metadata": {},
     "output_type": "display_data"
    },
    {
     "data": {
      "application/vnd.jupyter.widget-view+json": {
       "model_id": "168c72e7d38142b09c43c8cdc9e3c701",
       "version_major": 2,
       "version_minor": 0
      },
      "text/plain": [
       "Processing Iterations:   0%|          | 0/40 [00:00<?, ?step/s]"
      ]
     },
     "metadata": {},
     "output_type": "display_data"
    },
    {
     "data": {
      "application/vnd.jupyter.widget-view+json": {
       "model_id": "237a1fa85f2b4d3ba9b42da6232789c0",
       "version_major": 2,
       "version_minor": 0
      },
      "text/plain": [
       "Processing Iterations:   0%|          | 0/40 [00:00<?, ?step/s]"
      ]
     },
     "metadata": {},
     "output_type": "display_data"
    },
    {
     "data": {
      "application/vnd.jupyter.widget-view+json": {
       "model_id": "8dc6ba67569c478194c6082f4fc30961",
       "version_major": 2,
       "version_minor": 0
      },
      "text/plain": [
       "Processing Iterations:   0%|          | 0/40 [00:00<?, ?step/s]"
      ]
     },
     "metadata": {},
     "output_type": "display_data"
    },
    {
     "data": {
      "application/vnd.jupyter.widget-view+json": {
       "model_id": "951383be074f41e7948c8cf149bf22c3",
       "version_major": 2,
       "version_minor": 0
      },
      "text/plain": [
       "Processing Iterations:   0%|          | 0/40 [00:00<?, ?step/s]"
      ]
     },
     "metadata": {},
     "output_type": "display_data"
    },
    {
     "data": {
      "application/vnd.jupyter.widget-view+json": {
       "model_id": "c511e35cb6c7477ebb72557a76bba636",
       "version_major": 2,
       "version_minor": 0
      },
      "text/plain": [
       "Processing Iterations:   0%|          | 0/40 [00:00<?, ?step/s]"
      ]
     },
     "metadata": {},
     "output_type": "display_data"
    },
    {
     "data": {
      "application/vnd.jupyter.widget-view+json": {
       "model_id": "d918cf55354f4bc3ae7860815710552d",
       "version_major": 2,
       "version_minor": 0
      },
      "text/plain": [
       "Processing Iterations:   0%|          | 0/40 [00:00<?, ?step/s]"
      ]
     },
     "metadata": {},
     "output_type": "display_data"
    },
    {
     "data": {
      "application/vnd.jupyter.widget-view+json": {
       "model_id": "8f1200b4cf88471fb7e1f85ccfb043e1",
       "version_major": 2,
       "version_minor": 0
      },
      "text/plain": [
       "Processing Iterations:   0%|          | 0/40 [00:00<?, ?step/s]"
      ]
     },
     "metadata": {},
     "output_type": "display_data"
    },
    {
     "data": {
      "application/vnd.jupyter.widget-view+json": {
       "model_id": "e04fbd356d9d4ae0ac780fcae8d3874d",
       "version_major": 2,
       "version_minor": 0
      },
      "text/plain": [
       "Processing Iterations:   0%|          | 0/40 [00:00<?, ?step/s]"
      ]
     },
     "metadata": {},
     "output_type": "display_data"
    },
    {
     "data": {
      "application/vnd.jupyter.widget-view+json": {
       "model_id": "63895f38f147495787dea39c15cf1414",
       "version_major": 2,
       "version_minor": 0
      },
      "text/plain": [
       "Processing Iterations:   0%|          | 0/40 [00:00<?, ?step/s]"
      ]
     },
     "metadata": {},
     "output_type": "display_data"
    },
    {
     "data": {
      "application/vnd.jupyter.widget-view+json": {
       "model_id": "944a2e2a53ae43ac9e65c2976e358f66",
       "version_major": 2,
       "version_minor": 0
      },
      "text/plain": [
       "Processing Iterations:   0%|          | 0/40 [00:00<?, ?step/s]"
      ]
     },
     "metadata": {},
     "output_type": "display_data"
    },
    {
     "data": {
      "application/vnd.jupyter.widget-view+json": {
       "model_id": "1b1af21ebcf1468996276db7760d582d",
       "version_major": 2,
       "version_minor": 0
      },
      "text/plain": [
       "Processing Iterations:   0%|          | 0/40 [00:00<?, ?step/s]"
      ]
     },
     "metadata": {},
     "output_type": "display_data"
    },
    {
     "data": {
      "application/vnd.jupyter.widget-view+json": {
       "model_id": "83c8438174944a5d962cb688e3a19c27",
       "version_major": 2,
       "version_minor": 0
      },
      "text/plain": [
       "Processing Iterations:   0%|          | 0/40 [00:00<?, ?step/s]"
      ]
     },
     "metadata": {},
     "output_type": "display_data"
    },
    {
     "data": {
      "application/vnd.jupyter.widget-view+json": {
       "model_id": "5c0aaa0b9a40408ca635c29bac2eb27c",
       "version_major": 2,
       "version_minor": 0
      },
      "text/plain": [
       "Processing Iterations:   0%|          | 0/40 [00:00<?, ?step/s]"
      ]
     },
     "metadata": {},
     "output_type": "display_data"
    },
    {
     "data": {
      "application/vnd.jupyter.widget-view+json": {
       "model_id": "dd4f825021ca4a789ff5202bbb26508c",
       "version_major": 2,
       "version_minor": 0
      },
      "text/plain": [
       "Processing Iterations:   0%|          | 0/40 [00:00<?, ?step/s]"
      ]
     },
     "metadata": {},
     "output_type": "display_data"
    },
    {
     "data": {
      "application/vnd.jupyter.widget-view+json": {
       "model_id": "37e7bc61f619463aab15acd8cf25f22a",
       "version_major": 2,
       "version_minor": 0
      },
      "text/plain": [
       "Processing Iterations:   0%|          | 0/40 [00:00<?, ?step/s]"
      ]
     },
     "metadata": {},
     "output_type": "display_data"
    },
    {
     "data": {
      "application/vnd.jupyter.widget-view+json": {
       "model_id": "2fa1c4d8027b471e9c040d5408247a39",
       "version_major": 2,
       "version_minor": 0
      },
      "text/plain": [
       "Processing Iterations:   0%|          | 0/40 [00:00<?, ?step/s]"
      ]
     },
     "metadata": {},
     "output_type": "display_data"
    },
    {
     "data": {
      "application/vnd.jupyter.widget-view+json": {
       "model_id": "452c5808c0a8411f9349b1bfdfae8aaa",
       "version_major": 2,
       "version_minor": 0
      },
      "text/plain": [
       "Processing Iterations:   0%|          | 0/40 [00:00<?, ?step/s]"
      ]
     },
     "metadata": {},
     "output_type": "display_data"
    },
    {
     "data": {
      "application/vnd.jupyter.widget-view+json": {
       "model_id": "41aed89e9c9d4785bd8428d520220918",
       "version_major": 2,
       "version_minor": 0
      },
      "text/plain": [
       "Processing Iterations:   0%|          | 0/40 [00:00<?, ?step/s]"
      ]
     },
     "metadata": {},
     "output_type": "display_data"
    },
    {
     "data": {
      "application/vnd.jupyter.widget-view+json": {
       "model_id": "597744f3770c4c7f8064f05738a54989",
       "version_major": 2,
       "version_minor": 0
      },
      "text/plain": [
       "Processing Iterations:   0%|          | 0/40 [00:00<?, ?step/s]"
      ]
     },
     "metadata": {},
     "output_type": "display_data"
    },
    {
     "data": {
      "application/vnd.jupyter.widget-view+json": {
       "model_id": "87a6fe43dcdc4cd2be2b6164a132944b",
       "version_major": 2,
       "version_minor": 0
      },
      "text/plain": [
       "Processing Iterations:   0%|          | 0/40 [00:00<?, ?step/s]"
      ]
     },
     "metadata": {},
     "output_type": "display_data"
    },
    {
     "data": {
      "application/vnd.jupyter.widget-view+json": {
       "model_id": "ed5b83cca70743b6b66aeaa598ef7e66",
       "version_major": 2,
       "version_minor": 0
      },
      "text/plain": [
       "Processing Iterations:   0%|          | 0/40 [00:00<?, ?step/s]"
      ]
     },
     "metadata": {},
     "output_type": "display_data"
    },
    {
     "data": {
      "application/vnd.jupyter.widget-view+json": {
       "model_id": "faaa4040f6134dacb07d605193ae4121",
       "version_major": 2,
       "version_minor": 0
      },
      "text/plain": [
       "Processing Iterations:   0%|          | 0/40 [00:00<?, ?step/s]"
      ]
     },
     "metadata": {},
     "output_type": "display_data"
    },
    {
     "data": {
      "application/vnd.jupyter.widget-view+json": {
       "model_id": "1b02f3efb3214019bb1088025e1746f4",
       "version_major": 2,
       "version_minor": 0
      },
      "text/plain": [
       "Processing Iterations:   0%|          | 0/40 [00:00<?, ?step/s]"
      ]
     },
     "metadata": {},
     "output_type": "display_data"
    },
    {
     "data": {
      "application/vnd.jupyter.widget-view+json": {
       "model_id": "4cf4360a902d49b095ecb5e45de5aaf6",
       "version_major": 2,
       "version_minor": 0
      },
      "text/plain": [
       "Processing Iterations:   0%|          | 0/40 [00:00<?, ?step/s]"
      ]
     },
     "metadata": {},
     "output_type": "display_data"
    },
    {
     "data": {
      "application/vnd.jupyter.widget-view+json": {
       "model_id": "597e9f066eda4bb6ba5de9f7cac2968c",
       "version_major": 2,
       "version_minor": 0
      },
      "text/plain": [
       "Processing Iterations:   0%|          | 0/40 [00:00<?, ?step/s]"
      ]
     },
     "metadata": {},
     "output_type": "display_data"
    },
    {
     "data": {
      "application/vnd.jupyter.widget-view+json": {
       "model_id": "04fbabf176114248b1627c509205bfd9",
       "version_major": 2,
       "version_minor": 0
      },
      "text/plain": [
       "Processing Iterations:   0%|          | 0/40 [00:00<?, ?step/s]"
      ]
     },
     "metadata": {},
     "output_type": "display_data"
    },
    {
     "data": {
      "application/vnd.jupyter.widget-view+json": {
       "model_id": "ad9d7e3bfd4b4885a608bcf14a442837",
       "version_major": 2,
       "version_minor": 0
      },
      "text/plain": [
       "Processing Iterations:   0%|          | 0/40 [00:00<?, ?step/s]"
      ]
     },
     "metadata": {},
     "output_type": "display_data"
    },
    {
     "data": {
      "application/vnd.jupyter.widget-view+json": {
       "model_id": "66581fae450f45499847bc293bc1a625",
       "version_major": 2,
       "version_minor": 0
      },
      "text/plain": [
       "Processing Iterations:   0%|          | 0/40 [00:00<?, ?step/s]"
      ]
     },
     "metadata": {},
     "output_type": "display_data"
    },
    {
     "data": {
      "application/vnd.jupyter.widget-view+json": {
       "model_id": "afbff6808ae640df92ba6c7bf12f1046",
       "version_major": 2,
       "version_minor": 0
      },
      "text/plain": [
       "Processing Iterations:   0%|          | 0/40 [00:00<?, ?step/s]"
      ]
     },
     "metadata": {},
     "output_type": "display_data"
    },
    {
     "data": {
      "application/vnd.jupyter.widget-view+json": {
       "model_id": "f4f182853603484095b4e1d1a8816855",
       "version_major": 2,
       "version_minor": 0
      },
      "text/plain": [
       "Processing Iterations:   0%|          | 0/40 [00:00<?, ?step/s]"
      ]
     },
     "metadata": {},
     "output_type": "display_data"
    },
    {
     "data": {
      "application/vnd.jupyter.widget-view+json": {
       "model_id": "7ca36f0ee2f54772a1c5713efa6e017d",
       "version_major": 2,
       "version_minor": 0
      },
      "text/plain": [
       "Processing Iterations:   0%|          | 0/40 [00:00<?, ?step/s]"
      ]
     },
     "metadata": {},
     "output_type": "display_data"
    },
    {
     "data": {
      "application/vnd.jupyter.widget-view+json": {
       "model_id": "faac6edbafd349158441984f82bb73ea",
       "version_major": 2,
       "version_minor": 0
      },
      "text/plain": [
       "Processing Iterations:   0%|          | 0/40 [00:00<?, ?step/s]"
      ]
     },
     "metadata": {},
     "output_type": "display_data"
    },
    {
     "data": {
      "application/vnd.jupyter.widget-view+json": {
       "model_id": "b918d547e848485e97d806222f7a91c8",
       "version_major": 2,
       "version_minor": 0
      },
      "text/plain": [
       "Processing Iterations:   0%|          | 0/40 [00:00<?, ?step/s]"
      ]
     },
     "metadata": {},
     "output_type": "display_data"
    },
    {
     "data": {
      "application/vnd.jupyter.widget-view+json": {
       "model_id": "ae7293662f2b451cab644cc1476afda4",
       "version_major": 2,
       "version_minor": 0
      },
      "text/plain": [
       "Processing Iterations:   0%|          | 0/40 [00:00<?, ?step/s]"
      ]
     },
     "metadata": {},
     "output_type": "display_data"
    },
    {
     "data": {
      "application/vnd.jupyter.widget-view+json": {
       "model_id": "84a6922b364d4265978f8b1322abde4b",
       "version_major": 2,
       "version_minor": 0
      },
      "text/plain": [
       "Processing Iterations:   0%|          | 0/40 [00:00<?, ?step/s]"
      ]
     },
     "metadata": {},
     "output_type": "display_data"
    },
    {
     "data": {
      "application/vnd.jupyter.widget-view+json": {
       "model_id": "05585ad02ab14b74925e282f19a27f70",
       "version_major": 2,
       "version_minor": 0
      },
      "text/plain": [
       "Processing Iterations:   0%|          | 0/40 [00:00<?, ?step/s]"
      ]
     },
     "metadata": {},
     "output_type": "display_data"
    },
    {
     "data": {
      "application/vnd.jupyter.widget-view+json": {
       "model_id": "7ac65f4bd6d1488c8e9ae16928529867",
       "version_major": 2,
       "version_minor": 0
      },
      "text/plain": [
       "Processing Iterations:   0%|          | 0/40 [00:00<?, ?step/s]"
      ]
     },
     "metadata": {},
     "output_type": "display_data"
    },
    {
     "data": {
      "application/vnd.jupyter.widget-view+json": {
       "model_id": "ab9c41d8716f48518c2e4f2ebd33d3fe",
       "version_major": 2,
       "version_minor": 0
      },
      "text/plain": [
       "Processing Iterations:   0%|          | 0/40 [00:00<?, ?step/s]"
      ]
     },
     "metadata": {},
     "output_type": "display_data"
    },
    {
     "data": {
      "application/vnd.jupyter.widget-view+json": {
       "model_id": "88b67fe6508047e2944b73b229f46b6b",
       "version_major": 2,
       "version_minor": 0
      },
      "text/plain": [
       "Processing Iterations:   0%|          | 0/40 [00:00<?, ?step/s]"
      ]
     },
     "metadata": {},
     "output_type": "display_data"
    },
    {
     "data": {
      "application/vnd.jupyter.widget-view+json": {
       "model_id": "e80916cd45dc44e5aaf8e0da55757fb2",
       "version_major": 2,
       "version_minor": 0
      },
      "text/plain": [
       "Processing Iterations:   0%|          | 0/40 [00:00<?, ?step/s]"
      ]
     },
     "metadata": {},
     "output_type": "display_data"
    },
    {
     "data": {
      "application/vnd.jupyter.widget-view+json": {
       "model_id": "1879b5856ac04d52a67d2fae08f8ed17",
       "version_major": 2,
       "version_minor": 0
      },
      "text/plain": [
       "Processing Iterations:   0%|          | 0/40 [00:00<?, ?step/s]"
      ]
     },
     "metadata": {},
     "output_type": "display_data"
    },
    {
     "data": {
      "application/vnd.jupyter.widget-view+json": {
       "model_id": "e7c02a1775844e099dda29058cc3a2fe",
       "version_major": 2,
       "version_minor": 0
      },
      "text/plain": [
       "Processing Iterations:   0%|          | 0/40 [00:00<?, ?step/s]"
      ]
     },
     "metadata": {},
     "output_type": "display_data"
    },
    {
     "data": {
      "application/vnd.jupyter.widget-view+json": {
       "model_id": "d3d1bf96d2344e84aa244ff52fcafc47",
       "version_major": 2,
       "version_minor": 0
      },
      "text/plain": [
       "Processing Iterations:   0%|          | 0/40 [00:00<?, ?step/s]"
      ]
     },
     "metadata": {},
     "output_type": "display_data"
    },
    {
     "data": {
      "application/vnd.jupyter.widget-view+json": {
       "model_id": "8fe962cfc7a24dba9d2536188ab3e81c",
       "version_major": 2,
       "version_minor": 0
      },
      "text/plain": [
       "Processing Iterations:   0%|          | 0/40 [00:00<?, ?step/s]"
      ]
     },
     "metadata": {},
     "output_type": "display_data"
    },
    {
     "data": {
      "application/vnd.jupyter.widget-view+json": {
       "model_id": "c3e9518eddd84c16ae4a3b431c9eec7e",
       "version_major": 2,
       "version_minor": 0
      },
      "text/plain": [
       "Processing Iterations:   0%|          | 0/40 [00:00<?, ?step/s]"
      ]
     },
     "metadata": {},
     "output_type": "display_data"
    },
    {
     "data": {
      "application/vnd.jupyter.widget-view+json": {
       "model_id": "6c28dfc0bbfa4444b30f804f966a99f5",
       "version_major": 2,
       "version_minor": 0
      },
      "text/plain": [
       "Processing Iterations:   0%|          | 0/40 [00:00<?, ?step/s]"
      ]
     },
     "metadata": {},
     "output_type": "display_data"
    },
    {
     "data": {
      "application/vnd.jupyter.widget-view+json": {
       "model_id": "1612014cb8354593849ae76526c7867b",
       "version_major": 2,
       "version_minor": 0
      },
      "text/plain": [
       "Processing Iterations:   0%|          | 0/40 [00:00<?, ?step/s]"
      ]
     },
     "metadata": {},
     "output_type": "display_data"
    },
    {
     "data": {
      "application/vnd.jupyter.widget-view+json": {
       "model_id": "0a51c3467e5e44068cadd4312585349a",
       "version_major": 2,
       "version_minor": 0
      },
      "text/plain": [
       "Processing Iterations:   0%|          | 0/40 [00:00<?, ?step/s]"
      ]
     },
     "metadata": {},
     "output_type": "display_data"
    },
    {
     "data": {
      "application/vnd.jupyter.widget-view+json": {
       "model_id": "3269af64fb8a452f9e94ef66dd5b7956",
       "version_major": 2,
       "version_minor": 0
      },
      "text/plain": [
       "Processing Iterations:   0%|          | 0/40 [00:00<?, ?step/s]"
      ]
     },
     "metadata": {},
     "output_type": "display_data"
    },
    {
     "data": {
      "application/vnd.jupyter.widget-view+json": {
       "model_id": "3b5275f0d99742b4a1948e9f9a498188",
       "version_major": 2,
       "version_minor": 0
      },
      "text/plain": [
       "Processing Iterations:   0%|          | 0/40 [00:00<?, ?step/s]"
      ]
     },
     "metadata": {},
     "output_type": "display_data"
    },
    {
     "data": {
      "application/vnd.jupyter.widget-view+json": {
       "model_id": "fb265d5e597448a3aaa92ec0ce8abfb4",
       "version_major": 2,
       "version_minor": 0
      },
      "text/plain": [
       "Processing Iterations:   0%|          | 0/40 [00:00<?, ?step/s]"
      ]
     },
     "metadata": {},
     "output_type": "display_data"
    },
    {
     "data": {
      "application/vnd.jupyter.widget-view+json": {
       "model_id": "a5797299232b4176866fcb11847a6e84",
       "version_major": 2,
       "version_minor": 0
      },
      "text/plain": [
       "Processing Iterations:   0%|          | 0/40 [00:00<?, ?step/s]"
      ]
     },
     "metadata": {},
     "output_type": "display_data"
    },
    {
     "data": {
      "application/vnd.jupyter.widget-view+json": {
       "model_id": "9154278f963c4bf7856390d73e849917",
       "version_major": 2,
       "version_minor": 0
      },
      "text/plain": [
       "Processing Iterations:   0%|          | 0/40 [00:00<?, ?step/s]"
      ]
     },
     "metadata": {},
     "output_type": "display_data"
    },
    {
     "data": {
      "application/vnd.jupyter.widget-view+json": {
       "model_id": "1dcec8d54b0e463197ca93253b1dbedb",
       "version_major": 2,
       "version_minor": 0
      },
      "text/plain": [
       "Processing Iterations:   0%|          | 0/40 [00:00<?, ?step/s]"
      ]
     },
     "metadata": {},
     "output_type": "display_data"
    },
    {
     "data": {
      "application/vnd.jupyter.widget-view+json": {
       "model_id": "135f0dca35da4101b4f0df936ce08d4f",
       "version_major": 2,
       "version_minor": 0
      },
      "text/plain": [
       "Processing Iterations:   0%|          | 0/40 [00:00<?, ?step/s]"
      ]
     },
     "metadata": {},
     "output_type": "display_data"
    },
    {
     "data": {
      "application/vnd.jupyter.widget-view+json": {
       "model_id": "04b6afe4f691464a9777e099a221384c",
       "version_major": 2,
       "version_minor": 0
      },
      "text/plain": [
       "Processing Iterations:   0%|          | 0/40 [00:00<?, ?step/s]"
      ]
     },
     "metadata": {},
     "output_type": "display_data"
    },
    {
     "data": {
      "application/vnd.jupyter.widget-view+json": {
       "model_id": "a5b7ff6665ee4c1792fbaf63e2152ac4",
       "version_major": 2,
       "version_minor": 0
      },
      "text/plain": [
       "Processing Iterations:   0%|          | 0/40 [00:00<?, ?step/s]"
      ]
     },
     "metadata": {},
     "output_type": "display_data"
    },
    {
     "data": {
      "application/vnd.jupyter.widget-view+json": {
       "model_id": "52efa9ecc48c48b1b48819dfe4043c6b",
       "version_major": 2,
       "version_minor": 0
      },
      "text/plain": [
       "Processing Iterations:   0%|          | 0/40 [00:00<?, ?step/s]"
      ]
     },
     "metadata": {},
     "output_type": "display_data"
    },
    {
     "data": {
      "application/vnd.jupyter.widget-view+json": {
       "model_id": "1219c648c9bb492187a4a70d9aa8b75e",
       "version_major": 2,
       "version_minor": 0
      },
      "text/plain": [
       "Processing Iterations:   0%|          | 0/40 [00:00<?, ?step/s]"
      ]
     },
     "metadata": {},
     "output_type": "display_data"
    },
    {
     "data": {
      "application/vnd.jupyter.widget-view+json": {
       "model_id": "59d2fff775564b1b9969aadff4e7cb66",
       "version_major": 2,
       "version_minor": 0
      },
      "text/plain": [
       "Processing Iterations:   0%|          | 0/40 [00:00<?, ?step/s]"
      ]
     },
     "metadata": {},
     "output_type": "display_data"
    },
    {
     "data": {
      "application/vnd.jupyter.widget-view+json": {
       "model_id": "49616a3d4cb34bcdbf7fb42b1633c3d7",
       "version_major": 2,
       "version_minor": 0
      },
      "text/plain": [
       "Processing Iterations:   0%|          | 0/40 [00:00<?, ?step/s]"
      ]
     },
     "metadata": {},
     "output_type": "display_data"
    },
    {
     "data": {
      "application/vnd.jupyter.widget-view+json": {
       "model_id": "d8c30dd0a9104d5f927ff671822c2943",
       "version_major": 2,
       "version_minor": 0
      },
      "text/plain": [
       "Processing Iterations:   0%|          | 0/40 [00:00<?, ?step/s]"
      ]
     },
     "metadata": {},
     "output_type": "display_data"
    },
    {
     "data": {
      "application/vnd.jupyter.widget-view+json": {
       "model_id": "6ed5b7e6084f4dbda34faf3b1a4f9599",
       "version_major": 2,
       "version_minor": 0
      },
      "text/plain": [
       "Processing Iterations:   0%|          | 0/40 [00:00<?, ?step/s]"
      ]
     },
     "metadata": {},
     "output_type": "display_data"
    },
    {
     "data": {
      "application/vnd.jupyter.widget-view+json": {
       "model_id": "cd1d1b2de891406dbcf2e70c8b673637",
       "version_major": 2,
       "version_minor": 0
      },
      "text/plain": [
       "Processing Iterations:   0%|          | 0/40 [00:00<?, ?step/s]"
      ]
     },
     "metadata": {},
     "output_type": "display_data"
    },
    {
     "data": {
      "application/vnd.jupyter.widget-view+json": {
       "model_id": "c1c36755506149d5acbc03d4b468fdce",
       "version_major": 2,
       "version_minor": 0
      },
      "text/plain": [
       "Processing Iterations:   0%|          | 0/40 [00:00<?, ?step/s]"
      ]
     },
     "metadata": {},
     "output_type": "display_data"
    },
    {
     "data": {
      "application/vnd.jupyter.widget-view+json": {
       "model_id": "bd470c0a7f0646ba96a7aaec8721e265",
       "version_major": 2,
       "version_minor": 0
      },
      "text/plain": [
       "Processing Iterations:   0%|          | 0/40 [00:00<?, ?step/s]"
      ]
     },
     "metadata": {},
     "output_type": "display_data"
    },
    {
     "data": {
      "application/vnd.jupyter.widget-view+json": {
       "model_id": "5fbc436012f24d858158747dd4f36297",
       "version_major": 2,
       "version_minor": 0
      },
      "text/plain": [
       "Processing Iterations:   0%|          | 0/40 [00:00<?, ?step/s]"
      ]
     },
     "metadata": {},
     "output_type": "display_data"
    },
    {
     "data": {
      "application/vnd.jupyter.widget-view+json": {
       "model_id": "e2e17fd322b94b00893e75629d05ff4a",
       "version_major": 2,
       "version_minor": 0
      },
      "text/plain": [
       "Processing Iterations:   0%|          | 0/40 [00:00<?, ?step/s]"
      ]
     },
     "metadata": {},
     "output_type": "display_data"
    },
    {
     "data": {
      "application/vnd.jupyter.widget-view+json": {
       "model_id": "05b5dcfa2ea6475a8fc1cd41b27ea2d5",
       "version_major": 2,
       "version_minor": 0
      },
      "text/plain": [
       "Processing Iterations:   0%|          | 0/40 [00:00<?, ?step/s]"
      ]
     },
     "metadata": {},
     "output_type": "display_data"
    },
    {
     "data": {
      "application/vnd.jupyter.widget-view+json": {
       "model_id": "1406da92c6b84451af77d0c053a79b6b",
       "version_major": 2,
       "version_minor": 0
      },
      "text/plain": [
       "Processing Iterations:   0%|          | 0/40 [00:00<?, ?step/s]"
      ]
     },
     "metadata": {},
     "output_type": "display_data"
    },
    {
     "data": {
      "application/vnd.jupyter.widget-view+json": {
       "model_id": "0a7228b74a84467789588c05ecf0b8a1",
       "version_major": 2,
       "version_minor": 0
      },
      "text/plain": [
       "Processing Iterations:   0%|          | 0/40 [00:00<?, ?step/s]"
      ]
     },
     "metadata": {},
     "output_type": "display_data"
    },
    {
     "data": {
      "application/vnd.jupyter.widget-view+json": {
       "model_id": "728b0feda1a344b5a8388821c8094ff2",
       "version_major": 2,
       "version_minor": 0
      },
      "text/plain": [
       "Processing Iterations:   0%|          | 0/40 [00:00<?, ?step/s]"
      ]
     },
     "metadata": {},
     "output_type": "display_data"
    },
    {
     "data": {
      "application/vnd.jupyter.widget-view+json": {
       "model_id": "10b09008d37841d1b738c9f1df509a70",
       "version_major": 2,
       "version_minor": 0
      },
      "text/plain": [
       "Processing Iterations:   0%|          | 0/40 [00:00<?, ?step/s]"
      ]
     },
     "metadata": {},
     "output_type": "display_data"
    },
    {
     "name": "stdout",
     "output_type": "stream",
     "text": [
      "GIF saved as 'gifs/Prob distribution vs. Delta, Vertex count is 10, and initial entropy is 2.303.gif'\n"
     ]
    },
    {
     "data": {
      "application/vnd.jupyter.widget-view+json": {
       "model_id": "281af4854ddb41a4bb3b9c926f507a49",
       "version_major": 2,
       "version_minor": 0
      },
      "text/plain": [
       "Processing Iterations:   0%|          | 0/40 [00:00<?, ?step/s]"
      ]
     },
     "metadata": {},
     "output_type": "display_data"
    },
    {
     "data": {
      "application/vnd.jupyter.widget-view+json": {
       "model_id": "a5949acbd6b34068b5d442e46c0bb3b3",
       "version_major": 2,
       "version_minor": 0
      },
      "text/plain": [
       "Processing Iterations:   0%|          | 0/40 [00:00<?, ?step/s]"
      ]
     },
     "metadata": {},
     "output_type": "display_data"
    },
    {
     "data": {
      "application/vnd.jupyter.widget-view+json": {
       "model_id": "dca3bb8951ba458ea5d596e34d6c895e",
       "version_major": 2,
       "version_minor": 0
      },
      "text/plain": [
       "Processing Iterations:   0%|          | 0/40 [00:00<?, ?step/s]"
      ]
     },
     "metadata": {},
     "output_type": "display_data"
    },
    {
     "data": {
      "application/vnd.jupyter.widget-view+json": {
       "model_id": "adf48645f5014db7b9ed93ed657a428c",
       "version_major": 2,
       "version_minor": 0
      },
      "text/plain": [
       "Processing Iterations:   0%|          | 0/40 [00:00<?, ?step/s]"
      ]
     },
     "metadata": {},
     "output_type": "display_data"
    },
    {
     "data": {
      "application/vnd.jupyter.widget-view+json": {
       "model_id": "d098d4b834cb4063865ba7d44824b33f",
       "version_major": 2,
       "version_minor": 0
      },
      "text/plain": [
       "Processing Iterations:   0%|          | 0/40 [00:00<?, ?step/s]"
      ]
     },
     "metadata": {},
     "output_type": "display_data"
    },
    {
     "data": {
      "application/vnd.jupyter.widget-view+json": {
       "model_id": "e78c28c32db54b2ca543cc935856f0c8",
       "version_major": 2,
       "version_minor": 0
      },
      "text/plain": [
       "Processing Iterations:   0%|          | 0/40 [00:00<?, ?step/s]"
      ]
     },
     "metadata": {},
     "output_type": "display_data"
    },
    {
     "data": {
      "application/vnd.jupyter.widget-view+json": {
       "model_id": "f147193beca04e62b920e4d0a25cc5b9",
       "version_major": 2,
       "version_minor": 0
      },
      "text/plain": [
       "Processing Iterations:   0%|          | 0/40 [00:00<?, ?step/s]"
      ]
     },
     "metadata": {},
     "output_type": "display_data"
    },
    {
     "data": {
      "application/vnd.jupyter.widget-view+json": {
       "model_id": "5e4f91831b52429f9471e076a01bb150",
       "version_major": 2,
       "version_minor": 0
      },
      "text/plain": [
       "Processing Iterations:   0%|          | 0/40 [00:00<?, ?step/s]"
      ]
     },
     "metadata": {},
     "output_type": "display_data"
    },
    {
     "data": {
      "application/vnd.jupyter.widget-view+json": {
       "model_id": "d064eb302eb14214871085a29587fbb7",
       "version_major": 2,
       "version_minor": 0
      },
      "text/plain": [
       "Processing Iterations:   0%|          | 0/40 [00:00<?, ?step/s]"
      ]
     },
     "metadata": {},
     "output_type": "display_data"
    },
    {
     "data": {
      "application/vnd.jupyter.widget-view+json": {
       "model_id": "cbe7baac23f84f71a256cadc809df796",
       "version_major": 2,
       "version_minor": 0
      },
      "text/plain": [
       "Processing Iterations:   0%|          | 0/40 [00:00<?, ?step/s]"
      ]
     },
     "metadata": {},
     "output_type": "display_data"
    },
    {
     "data": {
      "application/vnd.jupyter.widget-view+json": {
       "model_id": "0b2b388e7e824c0285393dc325f77087",
       "version_major": 2,
       "version_minor": 0
      },
      "text/plain": [
       "Processing Iterations:   0%|          | 0/40 [00:00<?, ?step/s]"
      ]
     },
     "metadata": {},
     "output_type": "display_data"
    },
    {
     "data": {
      "application/vnd.jupyter.widget-view+json": {
       "model_id": "ad54f6310e9c4095afe07b17065f8ee5",
       "version_major": 2,
       "version_minor": 0
      },
      "text/plain": [
       "Processing Iterations:   0%|          | 0/40 [00:00<?, ?step/s]"
      ]
     },
     "metadata": {},
     "output_type": "display_data"
    },
    {
     "data": {
      "application/vnd.jupyter.widget-view+json": {
       "model_id": "40af5c4ad4b04ec1b68eb8ddb241765b",
       "version_major": 2,
       "version_minor": 0
      },
      "text/plain": [
       "Processing Iterations:   0%|          | 0/40 [00:00<?, ?step/s]"
      ]
     },
     "metadata": {},
     "output_type": "display_data"
    },
    {
     "data": {
      "application/vnd.jupyter.widget-view+json": {
       "model_id": "aad18ff408204b0d878bcf85994d7eb5",
       "version_major": 2,
       "version_minor": 0
      },
      "text/plain": [
       "Processing Iterations:   0%|          | 0/40 [00:00<?, ?step/s]"
      ]
     },
     "metadata": {},
     "output_type": "display_data"
    },
    {
     "data": {
      "application/vnd.jupyter.widget-view+json": {
       "model_id": "ce9900f3c9464d5da5245fae863c6aeb",
       "version_major": 2,
       "version_minor": 0
      },
      "text/plain": [
       "Processing Iterations:   0%|          | 0/40 [00:00<?, ?step/s]"
      ]
     },
     "metadata": {},
     "output_type": "display_data"
    },
    {
     "data": {
      "application/vnd.jupyter.widget-view+json": {
       "model_id": "e23feb5a838d4f35a8ceeff07ac427c4",
       "version_major": 2,
       "version_minor": 0
      },
      "text/plain": [
       "Processing Iterations:   0%|          | 0/40 [00:00<?, ?step/s]"
      ]
     },
     "metadata": {},
     "output_type": "display_data"
    },
    {
     "data": {
      "application/vnd.jupyter.widget-view+json": {
       "model_id": "61477b0eb43c480897912a4af8290a55",
       "version_major": 2,
       "version_minor": 0
      },
      "text/plain": [
       "Processing Iterations:   0%|          | 0/40 [00:00<?, ?step/s]"
      ]
     },
     "metadata": {},
     "output_type": "display_data"
    },
    {
     "data": {
      "application/vnd.jupyter.widget-view+json": {
       "model_id": "674fdf174e7e47c5982ba836113c6931",
       "version_major": 2,
       "version_minor": 0
      },
      "text/plain": [
       "Processing Iterations:   0%|          | 0/40 [00:00<?, ?step/s]"
      ]
     },
     "metadata": {},
     "output_type": "display_data"
    },
    {
     "data": {
      "application/vnd.jupyter.widget-view+json": {
       "model_id": "bfb2156995c2424dbc539b5a896d3ff3",
       "version_major": 2,
       "version_minor": 0
      },
      "text/plain": [
       "Processing Iterations:   0%|          | 0/40 [00:00<?, ?step/s]"
      ]
     },
     "metadata": {},
     "output_type": "display_data"
    },
    {
     "data": {
      "application/vnd.jupyter.widget-view+json": {
       "model_id": "df3c0267c5cc4cba98a5944a248e0552",
       "version_major": 2,
       "version_minor": 0
      },
      "text/plain": [
       "Processing Iterations:   0%|          | 0/40 [00:00<?, ?step/s]"
      ]
     },
     "metadata": {},
     "output_type": "display_data"
    },
    {
     "data": {
      "application/vnd.jupyter.widget-view+json": {
       "model_id": "83b119f89bff47d7961660d5596875bb",
       "version_major": 2,
       "version_minor": 0
      },
      "text/plain": [
       "Processing Iterations:   0%|          | 0/40 [00:00<?, ?step/s]"
      ]
     },
     "metadata": {},
     "output_type": "display_data"
    },
    {
     "data": {
      "application/vnd.jupyter.widget-view+json": {
       "model_id": "e93d46e7270948d0a54ff7597e3c1016",
       "version_major": 2,
       "version_minor": 0
      },
      "text/plain": [
       "Processing Iterations:   0%|          | 0/40 [00:00<?, ?step/s]"
      ]
     },
     "metadata": {},
     "output_type": "display_data"
    },
    {
     "data": {
      "application/vnd.jupyter.widget-view+json": {
       "model_id": "ea2d5601f8cb433ea59e80e71445e71d",
       "version_major": 2,
       "version_minor": 0
      },
      "text/plain": [
       "Processing Iterations:   0%|          | 0/40 [00:00<?, ?step/s]"
      ]
     },
     "metadata": {},
     "output_type": "display_data"
    },
    {
     "data": {
      "application/vnd.jupyter.widget-view+json": {
       "model_id": "564be8cd722d468fb7ce0075c709c9c0",
       "version_major": 2,
       "version_minor": 0
      },
      "text/plain": [
       "Processing Iterations:   0%|          | 0/40 [00:00<?, ?step/s]"
      ]
     },
     "metadata": {},
     "output_type": "display_data"
    },
    {
     "data": {
      "application/vnd.jupyter.widget-view+json": {
       "model_id": "03a1341a725d47ef9a1b592bf6888b98",
       "version_major": 2,
       "version_minor": 0
      },
      "text/plain": [
       "Processing Iterations:   0%|          | 0/40 [00:00<?, ?step/s]"
      ]
     },
     "metadata": {},
     "output_type": "display_data"
    },
    {
     "data": {
      "application/vnd.jupyter.widget-view+json": {
       "model_id": "42f396255f0b4a87bfdfe391b3080107",
       "version_major": 2,
       "version_minor": 0
      },
      "text/plain": [
       "Processing Iterations:   0%|          | 0/40 [00:00<?, ?step/s]"
      ]
     },
     "metadata": {},
     "output_type": "display_data"
    },
    {
     "data": {
      "application/vnd.jupyter.widget-view+json": {
       "model_id": "0c69f8e9f36349d29c45809c6c7b5f74",
       "version_major": 2,
       "version_minor": 0
      },
      "text/plain": [
       "Processing Iterations:   0%|          | 0/40 [00:00<?, ?step/s]"
      ]
     },
     "metadata": {},
     "output_type": "display_data"
    },
    {
     "data": {
      "application/vnd.jupyter.widget-view+json": {
       "model_id": "beda43c1f914439eb9e49c7b70a87720",
       "version_major": 2,
       "version_minor": 0
      },
      "text/plain": [
       "Processing Iterations:   0%|          | 0/40 [00:00<?, ?step/s]"
      ]
     },
     "metadata": {},
     "output_type": "display_data"
    },
    {
     "data": {
      "application/vnd.jupyter.widget-view+json": {
       "model_id": "268f41bb93b14375bb54fdc7657ef19d",
       "version_major": 2,
       "version_minor": 0
      },
      "text/plain": [
       "Processing Iterations:   0%|          | 0/40 [00:00<?, ?step/s]"
      ]
     },
     "metadata": {},
     "output_type": "display_data"
    },
    {
     "data": {
      "application/vnd.jupyter.widget-view+json": {
       "model_id": "d91610cc73ea482792788c7500a4fe63",
       "version_major": 2,
       "version_minor": 0
      },
      "text/plain": [
       "Processing Iterations:   0%|          | 0/40 [00:00<?, ?step/s]"
      ]
     },
     "metadata": {},
     "output_type": "display_data"
    },
    {
     "data": {
      "application/vnd.jupyter.widget-view+json": {
       "model_id": "fd845d63e27846079def5f2530ed1e70",
       "version_major": 2,
       "version_minor": 0
      },
      "text/plain": [
       "Processing Iterations:   0%|          | 0/40 [00:00<?, ?step/s]"
      ]
     },
     "metadata": {},
     "output_type": "display_data"
    },
    {
     "data": {
      "application/vnd.jupyter.widget-view+json": {
       "model_id": "47a514bf1490469b9f9b53c4ddd4958e",
       "version_major": 2,
       "version_minor": 0
      },
      "text/plain": [
       "Processing Iterations:   0%|          | 0/40 [00:00<?, ?step/s]"
      ]
     },
     "metadata": {},
     "output_type": "display_data"
    },
    {
     "data": {
      "application/vnd.jupyter.widget-view+json": {
       "model_id": "292bb0524c144160982bfec0800f6962",
       "version_major": 2,
       "version_minor": 0
      },
      "text/plain": [
       "Processing Iterations:   0%|          | 0/40 [00:00<?, ?step/s]"
      ]
     },
     "metadata": {},
     "output_type": "display_data"
    },
    {
     "data": {
      "application/vnd.jupyter.widget-view+json": {
       "model_id": "8ae74efb376944a59aaa02dad3a8a66f",
       "version_major": 2,
       "version_minor": 0
      },
      "text/plain": [
       "Processing Iterations:   0%|          | 0/40 [00:00<?, ?step/s]"
      ]
     },
     "metadata": {},
     "output_type": "display_data"
    },
    {
     "data": {
      "application/vnd.jupyter.widget-view+json": {
       "model_id": "d8988b84565f4412ade871ce19c5f927",
       "version_major": 2,
       "version_minor": 0
      },
      "text/plain": [
       "Processing Iterations:   0%|          | 0/40 [00:00<?, ?step/s]"
      ]
     },
     "metadata": {},
     "output_type": "display_data"
    },
    {
     "data": {
      "application/vnd.jupyter.widget-view+json": {
       "model_id": "58ec0951acd24e22b04e8fc4fce51208",
       "version_major": 2,
       "version_minor": 0
      },
      "text/plain": [
       "Processing Iterations:   0%|          | 0/40 [00:00<?, ?step/s]"
      ]
     },
     "metadata": {},
     "output_type": "display_data"
    },
    {
     "data": {
      "application/vnd.jupyter.widget-view+json": {
       "model_id": "f6f354282c6c4bcca07ec277fb1e177a",
       "version_major": 2,
       "version_minor": 0
      },
      "text/plain": [
       "Processing Iterations:   0%|          | 0/40 [00:00<?, ?step/s]"
      ]
     },
     "metadata": {},
     "output_type": "display_data"
    },
    {
     "data": {
      "application/vnd.jupyter.widget-view+json": {
       "model_id": "33958fa0acf54d89b54f881f4f3ac125",
       "version_major": 2,
       "version_minor": 0
      },
      "text/plain": [
       "Processing Iterations:   0%|          | 0/40 [00:00<?, ?step/s]"
      ]
     },
     "metadata": {},
     "output_type": "display_data"
    },
    {
     "data": {
      "application/vnd.jupyter.widget-view+json": {
       "model_id": "e4856611da374e18abe8ef4d53456ce2",
       "version_major": 2,
       "version_minor": 0
      },
      "text/plain": [
       "Processing Iterations:   0%|          | 0/40 [00:00<?, ?step/s]"
      ]
     },
     "metadata": {},
     "output_type": "display_data"
    },
    {
     "data": {
      "application/vnd.jupyter.widget-view+json": {
       "model_id": "54ac7970add049eab32f516dd0ad0898",
       "version_major": 2,
       "version_minor": 0
      },
      "text/plain": [
       "Processing Iterations:   0%|          | 0/40 [00:00<?, ?step/s]"
      ]
     },
     "metadata": {},
     "output_type": "display_data"
    },
    {
     "data": {
      "application/vnd.jupyter.widget-view+json": {
       "model_id": "4ebeb323dcf1451081637a47f3bcf319",
       "version_major": 2,
       "version_minor": 0
      },
      "text/plain": [
       "Processing Iterations:   0%|          | 0/40 [00:00<?, ?step/s]"
      ]
     },
     "metadata": {},
     "output_type": "display_data"
    },
    {
     "data": {
      "application/vnd.jupyter.widget-view+json": {
       "model_id": "989c528d150847a894ee400576c36955",
       "version_major": 2,
       "version_minor": 0
      },
      "text/plain": [
       "Processing Iterations:   0%|          | 0/40 [00:00<?, ?step/s]"
      ]
     },
     "metadata": {},
     "output_type": "display_data"
    },
    {
     "data": {
      "application/vnd.jupyter.widget-view+json": {
       "model_id": "79f1fb8cac5e46f0a1a1c8d4d74f0535",
       "version_major": 2,
       "version_minor": 0
      },
      "text/plain": [
       "Processing Iterations:   0%|          | 0/40 [00:00<?, ?step/s]"
      ]
     },
     "metadata": {},
     "output_type": "display_data"
    },
    {
     "data": {
      "application/vnd.jupyter.widget-view+json": {
       "model_id": "68a38ad33b5c433fb0e2b72ce6e40825",
       "version_major": 2,
       "version_minor": 0
      },
      "text/plain": [
       "Processing Iterations:   0%|          | 0/40 [00:00<?, ?step/s]"
      ]
     },
     "metadata": {},
     "output_type": "display_data"
    },
    {
     "data": {
      "application/vnd.jupyter.widget-view+json": {
       "model_id": "9c701af97e9a4329b7789f8533557636",
       "version_major": 2,
       "version_minor": 0
      },
      "text/plain": [
       "Processing Iterations:   0%|          | 0/40 [00:00<?, ?step/s]"
      ]
     },
     "metadata": {},
     "output_type": "display_data"
    },
    {
     "data": {
      "application/vnd.jupyter.widget-view+json": {
       "model_id": "d3069a3ee1a5486ab7abb62b9c454ea6",
       "version_major": 2,
       "version_minor": 0
      },
      "text/plain": [
       "Processing Iterations:   0%|          | 0/40 [00:00<?, ?step/s]"
      ]
     },
     "metadata": {},
     "output_type": "display_data"
    },
    {
     "data": {
      "application/vnd.jupyter.widget-view+json": {
       "model_id": "5399099ea1e84cea9fe17c52bf73af78",
       "version_major": 2,
       "version_minor": 0
      },
      "text/plain": [
       "Processing Iterations:   0%|          | 0/40 [00:00<?, ?step/s]"
      ]
     },
     "metadata": {},
     "output_type": "display_data"
    },
    {
     "data": {
      "application/vnd.jupyter.widget-view+json": {
       "model_id": "c79381258a7946789b5e1df478506cb6",
       "version_major": 2,
       "version_minor": 0
      },
      "text/plain": [
       "Processing Iterations:   0%|          | 0/40 [00:00<?, ?step/s]"
      ]
     },
     "metadata": {},
     "output_type": "display_data"
    },
    {
     "data": {
      "application/vnd.jupyter.widget-view+json": {
       "model_id": "93907142321f4bf2a5403939643b5f52",
       "version_major": 2,
       "version_minor": 0
      },
      "text/plain": [
       "Processing Iterations:   0%|          | 0/40 [00:00<?, ?step/s]"
      ]
     },
     "metadata": {},
     "output_type": "display_data"
    },
    {
     "data": {
      "application/vnd.jupyter.widget-view+json": {
       "model_id": "46f01e143fd040f4861018f43ad72d3a",
       "version_major": 2,
       "version_minor": 0
      },
      "text/plain": [
       "Processing Iterations:   0%|          | 0/40 [00:00<?, ?step/s]"
      ]
     },
     "metadata": {},
     "output_type": "display_data"
    },
    {
     "data": {
      "application/vnd.jupyter.widget-view+json": {
       "model_id": "b2f6fcd1b8fd4aa6a409a680b1272cf9",
       "version_major": 2,
       "version_minor": 0
      },
      "text/plain": [
       "Processing Iterations:   0%|          | 0/40 [00:00<?, ?step/s]"
      ]
     },
     "metadata": {},
     "output_type": "display_data"
    },
    {
     "data": {
      "application/vnd.jupyter.widget-view+json": {
       "model_id": "edd80e719bc74ba3b548dffb01f759ac",
       "version_major": 2,
       "version_minor": 0
      },
      "text/plain": [
       "Processing Iterations:   0%|          | 0/40 [00:00<?, ?step/s]"
      ]
     },
     "metadata": {},
     "output_type": "display_data"
    },
    {
     "data": {
      "application/vnd.jupyter.widget-view+json": {
       "model_id": "49cd6838473e4600ac5c85c7426bfbc1",
       "version_major": 2,
       "version_minor": 0
      },
      "text/plain": [
       "Processing Iterations:   0%|          | 0/40 [00:00<?, ?step/s]"
      ]
     },
     "metadata": {},
     "output_type": "display_data"
    },
    {
     "data": {
      "application/vnd.jupyter.widget-view+json": {
       "model_id": "e9ddc517f0f84268a82a9f6f18123124",
       "version_major": 2,
       "version_minor": 0
      },
      "text/plain": [
       "Processing Iterations:   0%|          | 0/40 [00:00<?, ?step/s]"
      ]
     },
     "metadata": {},
     "output_type": "display_data"
    },
    {
     "data": {
      "application/vnd.jupyter.widget-view+json": {
       "model_id": "d4e8616d05994f248beee61ed118af5a",
       "version_major": 2,
       "version_minor": 0
      },
      "text/plain": [
       "Processing Iterations:   0%|          | 0/40 [00:00<?, ?step/s]"
      ]
     },
     "metadata": {},
     "output_type": "display_data"
    },
    {
     "data": {
      "application/vnd.jupyter.widget-view+json": {
       "model_id": "0be6f184dffd450eb8fc1d6d0f2aa828",
       "version_major": 2,
       "version_minor": 0
      },
      "text/plain": [
       "Processing Iterations:   0%|          | 0/40 [00:00<?, ?step/s]"
      ]
     },
     "metadata": {},
     "output_type": "display_data"
    },
    {
     "data": {
      "application/vnd.jupyter.widget-view+json": {
       "model_id": "643a788c6c134c1f9163a7bc75ba1ad5",
       "version_major": 2,
       "version_minor": 0
      },
      "text/plain": [
       "Processing Iterations:   0%|          | 0/40 [00:00<?, ?step/s]"
      ]
     },
     "metadata": {},
     "output_type": "display_data"
    },
    {
     "data": {
      "application/vnd.jupyter.widget-view+json": {
       "model_id": "794f18d9a0ab4079901963909247d8e0",
       "version_major": 2,
       "version_minor": 0
      },
      "text/plain": [
       "Processing Iterations:   0%|          | 0/40 [00:00<?, ?step/s]"
      ]
     },
     "metadata": {},
     "output_type": "display_data"
    },
    {
     "data": {
      "application/vnd.jupyter.widget-view+json": {
       "model_id": "1828afffcb93495f98ac358c2b807f56",
       "version_major": 2,
       "version_minor": 0
      },
      "text/plain": [
       "Processing Iterations:   0%|          | 0/40 [00:00<?, ?step/s]"
      ]
     },
     "metadata": {},
     "output_type": "display_data"
    },
    {
     "data": {
      "application/vnd.jupyter.widget-view+json": {
       "model_id": "df171f0a93b0406e819442d2d6563c0d",
       "version_major": 2,
       "version_minor": 0
      },
      "text/plain": [
       "Processing Iterations:   0%|          | 0/40 [00:00<?, ?step/s]"
      ]
     },
     "metadata": {},
     "output_type": "display_data"
    },
    {
     "data": {
      "application/vnd.jupyter.widget-view+json": {
       "model_id": "f406b886ff0e48ec80ec203c9c8baa1e",
       "version_major": 2,
       "version_minor": 0
      },
      "text/plain": [
       "Processing Iterations:   0%|          | 0/40 [00:00<?, ?step/s]"
      ]
     },
     "metadata": {},
     "output_type": "display_data"
    },
    {
     "data": {
      "application/vnd.jupyter.widget-view+json": {
       "model_id": "0b121743115641579106be6c68138427",
       "version_major": 2,
       "version_minor": 0
      },
      "text/plain": [
       "Processing Iterations:   0%|          | 0/40 [00:00<?, ?step/s]"
      ]
     },
     "metadata": {},
     "output_type": "display_data"
    },
    {
     "data": {
      "application/vnd.jupyter.widget-view+json": {
       "model_id": "c3030631b2a74993841b26679fa763df",
       "version_major": 2,
       "version_minor": 0
      },
      "text/plain": [
       "Processing Iterations:   0%|          | 0/40 [00:00<?, ?step/s]"
      ]
     },
     "metadata": {},
     "output_type": "display_data"
    },
    {
     "data": {
      "application/vnd.jupyter.widget-view+json": {
       "model_id": "c208ca668ad7433fbed4cf70b9d98000",
       "version_major": 2,
       "version_minor": 0
      },
      "text/plain": [
       "Processing Iterations:   0%|          | 0/40 [00:00<?, ?step/s]"
      ]
     },
     "metadata": {},
     "output_type": "display_data"
    },
    {
     "data": {
      "application/vnd.jupyter.widget-view+json": {
       "model_id": "1326e4dc847e4ccea423d97ab1e91302",
       "version_major": 2,
       "version_minor": 0
      },
      "text/plain": [
       "Processing Iterations:   0%|          | 0/40 [00:00<?, ?step/s]"
      ]
     },
     "metadata": {},
     "output_type": "display_data"
    },
    {
     "data": {
      "application/vnd.jupyter.widget-view+json": {
       "model_id": "b79e40ed848c43e9a554e41531496054",
       "version_major": 2,
       "version_minor": 0
      },
      "text/plain": [
       "Processing Iterations:   0%|          | 0/40 [00:00<?, ?step/s]"
      ]
     },
     "metadata": {},
     "output_type": "display_data"
    },
    {
     "data": {
      "application/vnd.jupyter.widget-view+json": {
       "model_id": "656031603aaa4ccfb04b1a825948792d",
       "version_major": 2,
       "version_minor": 0
      },
      "text/plain": [
       "Processing Iterations:   0%|          | 0/40 [00:00<?, ?step/s]"
      ]
     },
     "metadata": {},
     "output_type": "display_data"
    },
    {
     "data": {
      "application/vnd.jupyter.widget-view+json": {
       "model_id": "8531608eebba4d299f1875e98568e9b6",
       "version_major": 2,
       "version_minor": 0
      },
      "text/plain": [
       "Processing Iterations:   0%|          | 0/40 [00:00<?, ?step/s]"
      ]
     },
     "metadata": {},
     "output_type": "display_data"
    },
    {
     "data": {
      "application/vnd.jupyter.widget-view+json": {
       "model_id": "5127bd197b1940b5887a0df22de49bf6",
       "version_major": 2,
       "version_minor": 0
      },
      "text/plain": [
       "Processing Iterations:   0%|          | 0/40 [00:00<?, ?step/s]"
      ]
     },
     "metadata": {},
     "output_type": "display_data"
    },
    {
     "data": {
      "application/vnd.jupyter.widget-view+json": {
       "model_id": "2e36a381ef3e4358bad08206b97250cd",
       "version_major": 2,
       "version_minor": 0
      },
      "text/plain": [
       "Processing Iterations:   0%|          | 0/40 [00:00<?, ?step/s]"
      ]
     },
     "metadata": {},
     "output_type": "display_data"
    },
    {
     "data": {
      "application/vnd.jupyter.widget-view+json": {
       "model_id": "cd57ca29bbd443d7b6f186c3466ee57f",
       "version_major": 2,
       "version_minor": 0
      },
      "text/plain": [
       "Processing Iterations:   0%|          | 0/40 [00:00<?, ?step/s]"
      ]
     },
     "metadata": {},
     "output_type": "display_data"
    },
    {
     "data": {
      "application/vnd.jupyter.widget-view+json": {
       "model_id": "209490f3878b40ba82e50b9a1fa01642",
       "version_major": 2,
       "version_minor": 0
      },
      "text/plain": [
       "Processing Iterations:   0%|          | 0/40 [00:00<?, ?step/s]"
      ]
     },
     "metadata": {},
     "output_type": "display_data"
    },
    {
     "data": {
      "application/vnd.jupyter.widget-view+json": {
       "model_id": "1f04177676ec452081053af1d01a4bd9",
       "version_major": 2,
       "version_minor": 0
      },
      "text/plain": [
       "Processing Iterations:   0%|          | 0/40 [00:00<?, ?step/s]"
      ]
     },
     "metadata": {},
     "output_type": "display_data"
    },
    {
     "data": {
      "application/vnd.jupyter.widget-view+json": {
       "model_id": "a4d4b3a6f1e244349e1951e265f2570e",
       "version_major": 2,
       "version_minor": 0
      },
      "text/plain": [
       "Processing Iterations:   0%|          | 0/40 [00:00<?, ?step/s]"
      ]
     },
     "metadata": {},
     "output_type": "display_data"
    },
    {
     "data": {
      "application/vnd.jupyter.widget-view+json": {
       "model_id": "d82224b8e83243878c6e039202db3f35",
       "version_major": 2,
       "version_minor": 0
      },
      "text/plain": [
       "Processing Iterations:   0%|          | 0/40 [00:00<?, ?step/s]"
      ]
     },
     "metadata": {},
     "output_type": "display_data"
    },
    {
     "data": {
      "application/vnd.jupyter.widget-view+json": {
       "model_id": "bb58a0f9a6d34389a16f686424bd4d5c",
       "version_major": 2,
       "version_minor": 0
      },
      "text/plain": [
       "Processing Iterations:   0%|          | 0/40 [00:00<?, ?step/s]"
      ]
     },
     "metadata": {},
     "output_type": "display_data"
    },
    {
     "data": {
      "application/vnd.jupyter.widget-view+json": {
       "model_id": "fd17a3886a2e46129ce9ad473635b4d3",
       "version_major": 2,
       "version_minor": 0
      },
      "text/plain": [
       "Processing Iterations:   0%|          | 0/40 [00:00<?, ?step/s]"
      ]
     },
     "metadata": {},
     "output_type": "display_data"
    },
    {
     "data": {
      "application/vnd.jupyter.widget-view+json": {
       "model_id": "a09d2d82cb3a4f7f80c168e8e67b716e",
       "version_major": 2,
       "version_minor": 0
      },
      "text/plain": [
       "Processing Iterations:   0%|          | 0/40 [00:00<?, ?step/s]"
      ]
     },
     "metadata": {},
     "output_type": "display_data"
    },
    {
     "data": {
      "application/vnd.jupyter.widget-view+json": {
       "model_id": "faecd3eff4c04e7e88604e0b13af0ba2",
       "version_major": 2,
       "version_minor": 0
      },
      "text/plain": [
       "Processing Iterations:   0%|          | 0/40 [00:00<?, ?step/s]"
      ]
     },
     "metadata": {},
     "output_type": "display_data"
    },
    {
     "data": {
      "application/vnd.jupyter.widget-view+json": {
       "model_id": "295b8044555b4b33a97bb2034dde3fa5",
       "version_major": 2,
       "version_minor": 0
      },
      "text/plain": [
       "Processing Iterations:   0%|          | 0/40 [00:00<?, ?step/s]"
      ]
     },
     "metadata": {},
     "output_type": "display_data"
    },
    {
     "data": {
      "application/vnd.jupyter.widget-view+json": {
       "model_id": "b58a176d842440349a5d4fed1852f55f",
       "version_major": 2,
       "version_minor": 0
      },
      "text/plain": [
       "Processing Iterations:   0%|          | 0/40 [00:00<?, ?step/s]"
      ]
     },
     "metadata": {},
     "output_type": "display_data"
    },
    {
     "data": {
      "application/vnd.jupyter.widget-view+json": {
       "model_id": "e01b4e1bb94b4d85931bf77aeea8b2c8",
       "version_major": 2,
       "version_minor": 0
      },
      "text/plain": [
       "Processing Iterations:   0%|          | 0/40 [00:00<?, ?step/s]"
      ]
     },
     "metadata": {},
     "output_type": "display_data"
    },
    {
     "data": {
      "application/vnd.jupyter.widget-view+json": {
       "model_id": "f3980c61edb5403e8fa9c7c2d2ee40ef",
       "version_major": 2,
       "version_minor": 0
      },
      "text/plain": [
       "Processing Iterations:   0%|          | 0/40 [00:00<?, ?step/s]"
      ]
     },
     "metadata": {},
     "output_type": "display_data"
    },
    {
     "data": {
      "application/vnd.jupyter.widget-view+json": {
       "model_id": "9ae5fefc048a479eafb00d4085262b9b",
       "version_major": 2,
       "version_minor": 0
      },
      "text/plain": [
       "Processing Iterations:   0%|          | 0/40 [00:00<?, ?step/s]"
      ]
     },
     "metadata": {},
     "output_type": "display_data"
    },
    {
     "data": {
      "application/vnd.jupyter.widget-view+json": {
       "model_id": "f1aa3d3f7c9c45098aeef67ed4e12d38",
       "version_major": 2,
       "version_minor": 0
      },
      "text/plain": [
       "Processing Iterations:   0%|          | 0/40 [00:00<?, ?step/s]"
      ]
     },
     "metadata": {},
     "output_type": "display_data"
    },
    {
     "data": {
      "application/vnd.jupyter.widget-view+json": {
       "model_id": "daaa91a1b1f84de997749c5a5fd7e073",
       "version_major": 2,
       "version_minor": 0
      },
      "text/plain": [
       "Processing Iterations:   0%|          | 0/40 [00:00<?, ?step/s]"
      ]
     },
     "metadata": {},
     "output_type": "display_data"
    },
    {
     "data": {
      "application/vnd.jupyter.widget-view+json": {
       "model_id": "c047e254ba924c20a1892afd138d974c",
       "version_major": 2,
       "version_minor": 0
      },
      "text/plain": [
       "Processing Iterations:   0%|          | 0/40 [00:00<?, ?step/s]"
      ]
     },
     "metadata": {},
     "output_type": "display_data"
    },
    {
     "data": {
      "application/vnd.jupyter.widget-view+json": {
       "model_id": "95284039719b4d879fa9f4a3fa389706",
       "version_major": 2,
       "version_minor": 0
      },
      "text/plain": [
       "Processing Iterations:   0%|          | 0/40 [00:00<?, ?step/s]"
      ]
     },
     "metadata": {},
     "output_type": "display_data"
    },
    {
     "data": {
      "application/vnd.jupyter.widget-view+json": {
       "model_id": "07d8bb7637784291a49b7c2eb7fa7948",
       "version_major": 2,
       "version_minor": 0
      },
      "text/plain": [
       "Processing Iterations:   0%|          | 0/40 [00:00<?, ?step/s]"
      ]
     },
     "metadata": {},
     "output_type": "display_data"
    },
    {
     "data": {
      "application/vnd.jupyter.widget-view+json": {
       "model_id": "11526a161d3c4894906792a124744b14",
       "version_major": 2,
       "version_minor": 0
      },
      "text/plain": [
       "Processing Iterations:   0%|          | 0/40 [00:00<?, ?step/s]"
      ]
     },
     "metadata": {},
     "output_type": "display_data"
    },
    {
     "name": "stdout",
     "output_type": "stream",
     "text": [
      "GIF saved as 'gifs/Prob distribution vs. Delta, Vertex count is 11, and initial entropy is 2.398.gif'\n"
     ]
    },
    {
     "data": {
      "application/vnd.jupyter.widget-view+json": {
       "model_id": "03381f0ee16248aa90ffdacd61df89dd",
       "version_major": 2,
       "version_minor": 0
      },
      "text/plain": [
       "Processing Iterations:   0%|          | 0/40 [00:00<?, ?step/s]"
      ]
     },
     "metadata": {},
     "output_type": "display_data"
    },
    {
     "data": {
      "application/vnd.jupyter.widget-view+json": {
       "model_id": "a936d636fb76423aacecb9f01335cf6b",
       "version_major": 2,
       "version_minor": 0
      },
      "text/plain": [
       "Processing Iterations:   0%|          | 0/40 [00:00<?, ?step/s]"
      ]
     },
     "metadata": {},
     "output_type": "display_data"
    },
    {
     "data": {
      "application/vnd.jupyter.widget-view+json": {
       "model_id": "54c578b09d8c429fad3673712f58b639",
       "version_major": 2,
       "version_minor": 0
      },
      "text/plain": [
       "Processing Iterations:   0%|          | 0/40 [00:00<?, ?step/s]"
      ]
     },
     "metadata": {},
     "output_type": "display_data"
    },
    {
     "data": {
      "application/vnd.jupyter.widget-view+json": {
       "model_id": "1fb7eb784d4340329c0a2d0afd426317",
       "version_major": 2,
       "version_minor": 0
      },
      "text/plain": [
       "Processing Iterations:   0%|          | 0/40 [00:00<?, ?step/s]"
      ]
     },
     "metadata": {},
     "output_type": "display_data"
    },
    {
     "data": {
      "application/vnd.jupyter.widget-view+json": {
       "model_id": "5a0bc73d26b8405295b5e8f903033d56",
       "version_major": 2,
       "version_minor": 0
      },
      "text/plain": [
       "Processing Iterations:   0%|          | 0/40 [00:00<?, ?step/s]"
      ]
     },
     "metadata": {},
     "output_type": "display_data"
    },
    {
     "data": {
      "application/vnd.jupyter.widget-view+json": {
       "model_id": "c9cc891a08604023aa048a1f310d5e60",
       "version_major": 2,
       "version_minor": 0
      },
      "text/plain": [
       "Processing Iterations:   0%|          | 0/40 [00:00<?, ?step/s]"
      ]
     },
     "metadata": {},
     "output_type": "display_data"
    },
    {
     "data": {
      "application/vnd.jupyter.widget-view+json": {
       "model_id": "e367f9320c4e42a2be2c1d52e918824a",
       "version_major": 2,
       "version_minor": 0
      },
      "text/plain": [
       "Processing Iterations:   0%|          | 0/40 [00:00<?, ?step/s]"
      ]
     },
     "metadata": {},
     "output_type": "display_data"
    },
    {
     "data": {
      "application/vnd.jupyter.widget-view+json": {
       "model_id": "e1330da84a024193bf5f092e24fb611f",
       "version_major": 2,
       "version_minor": 0
      },
      "text/plain": [
       "Processing Iterations:   0%|          | 0/40 [00:00<?, ?step/s]"
      ]
     },
     "metadata": {},
     "output_type": "display_data"
    },
    {
     "data": {
      "application/vnd.jupyter.widget-view+json": {
       "model_id": "706ec5cca4f34f2cb34a89c968c20658",
       "version_major": 2,
       "version_minor": 0
      },
      "text/plain": [
       "Processing Iterations:   0%|          | 0/40 [00:00<?, ?step/s]"
      ]
     },
     "metadata": {},
     "output_type": "display_data"
    },
    {
     "data": {
      "application/vnd.jupyter.widget-view+json": {
       "model_id": "9d0e9f720cdd455690970e313392f883",
       "version_major": 2,
       "version_minor": 0
      },
      "text/plain": [
       "Processing Iterations:   0%|          | 0/40 [00:00<?, ?step/s]"
      ]
     },
     "metadata": {},
     "output_type": "display_data"
    },
    {
     "data": {
      "application/vnd.jupyter.widget-view+json": {
       "model_id": "152593721afe4dca8f1b3799b64258ee",
       "version_major": 2,
       "version_minor": 0
      },
      "text/plain": [
       "Processing Iterations:   0%|          | 0/40 [00:00<?, ?step/s]"
      ]
     },
     "metadata": {},
     "output_type": "display_data"
    },
    {
     "data": {
      "application/vnd.jupyter.widget-view+json": {
       "model_id": "2f18ee196df84540a153a1a3e502e132",
       "version_major": 2,
       "version_minor": 0
      },
      "text/plain": [
       "Processing Iterations:   0%|          | 0/40 [00:00<?, ?step/s]"
      ]
     },
     "metadata": {},
     "output_type": "display_data"
    },
    {
     "data": {
      "application/vnd.jupyter.widget-view+json": {
       "model_id": "4e3b7efbd29c4e7a8c70fb585b4e03bc",
       "version_major": 2,
       "version_minor": 0
      },
      "text/plain": [
       "Processing Iterations:   0%|          | 0/40 [00:00<?, ?step/s]"
      ]
     },
     "metadata": {},
     "output_type": "display_data"
    },
    {
     "data": {
      "application/vnd.jupyter.widget-view+json": {
       "model_id": "ea62e8bb43f14dd7b6aa47247cc32066",
       "version_major": 2,
       "version_minor": 0
      },
      "text/plain": [
       "Processing Iterations:   0%|          | 0/40 [00:00<?, ?step/s]"
      ]
     },
     "metadata": {},
     "output_type": "display_data"
    },
    {
     "data": {
      "application/vnd.jupyter.widget-view+json": {
       "model_id": "cfce64b1e86b48698f02edcefa7a0fef",
       "version_major": 2,
       "version_minor": 0
      },
      "text/plain": [
       "Processing Iterations:   0%|          | 0/40 [00:00<?, ?step/s]"
      ]
     },
     "metadata": {},
     "output_type": "display_data"
    },
    {
     "data": {
      "application/vnd.jupyter.widget-view+json": {
       "model_id": "05bd2f880d71498b92e048ec4a0892e8",
       "version_major": 2,
       "version_minor": 0
      },
      "text/plain": [
       "Processing Iterations:   0%|          | 0/40 [00:00<?, ?step/s]"
      ]
     },
     "metadata": {},
     "output_type": "display_data"
    },
    {
     "data": {
      "application/vnd.jupyter.widget-view+json": {
       "model_id": "d3a967893fcc4d85b4a1d0def9518f18",
       "version_major": 2,
       "version_minor": 0
      },
      "text/plain": [
       "Processing Iterations:   0%|          | 0/40 [00:00<?, ?step/s]"
      ]
     },
     "metadata": {},
     "output_type": "display_data"
    },
    {
     "data": {
      "application/vnd.jupyter.widget-view+json": {
       "model_id": "291155b6222745c29f82df2e65b1aebe",
       "version_major": 2,
       "version_minor": 0
      },
      "text/plain": [
       "Processing Iterations:   0%|          | 0/40 [00:00<?, ?step/s]"
      ]
     },
     "metadata": {},
     "output_type": "display_data"
    },
    {
     "data": {
      "application/vnd.jupyter.widget-view+json": {
       "model_id": "256dc54258bb4d8c856d768e6630fda0",
       "version_major": 2,
       "version_minor": 0
      },
      "text/plain": [
       "Processing Iterations:   0%|          | 0/40 [00:00<?, ?step/s]"
      ]
     },
     "metadata": {},
     "output_type": "display_data"
    },
    {
     "data": {
      "application/vnd.jupyter.widget-view+json": {
       "model_id": "aa21af6f897c4b7a9a0b0f43044d0417",
       "version_major": 2,
       "version_minor": 0
      },
      "text/plain": [
       "Processing Iterations:   0%|          | 0/40 [00:00<?, ?step/s]"
      ]
     },
     "metadata": {},
     "output_type": "display_data"
    },
    {
     "data": {
      "application/vnd.jupyter.widget-view+json": {
       "model_id": "de0356c230854ec8a62573dc9f764430",
       "version_major": 2,
       "version_minor": 0
      },
      "text/plain": [
       "Processing Iterations:   0%|          | 0/40 [00:00<?, ?step/s]"
      ]
     },
     "metadata": {},
     "output_type": "display_data"
    },
    {
     "data": {
      "application/vnd.jupyter.widget-view+json": {
       "model_id": "40291bd68e7a4c29bd40b262d313a353",
       "version_major": 2,
       "version_minor": 0
      },
      "text/plain": [
       "Processing Iterations:   0%|          | 0/40 [00:00<?, ?step/s]"
      ]
     },
     "metadata": {},
     "output_type": "display_data"
    },
    {
     "data": {
      "application/vnd.jupyter.widget-view+json": {
       "model_id": "b77363aabc4e40fe925d1281ac75aa3e",
       "version_major": 2,
       "version_minor": 0
      },
      "text/plain": [
       "Processing Iterations:   0%|          | 0/40 [00:00<?, ?step/s]"
      ]
     },
     "metadata": {},
     "output_type": "display_data"
    },
    {
     "data": {
      "application/vnd.jupyter.widget-view+json": {
       "model_id": "49a1cd145fab43f8984c28b9384650a4",
       "version_major": 2,
       "version_minor": 0
      },
      "text/plain": [
       "Processing Iterations:   0%|          | 0/40 [00:00<?, ?step/s]"
      ]
     },
     "metadata": {},
     "output_type": "display_data"
    },
    {
     "data": {
      "application/vnd.jupyter.widget-view+json": {
       "model_id": "946191fa3d334d0fa1b39f74adbefc28",
       "version_major": 2,
       "version_minor": 0
      },
      "text/plain": [
       "Processing Iterations:   0%|          | 0/40 [00:00<?, ?step/s]"
      ]
     },
     "metadata": {},
     "output_type": "display_data"
    },
    {
     "data": {
      "application/vnd.jupyter.widget-view+json": {
       "model_id": "ecb420dd48424134b52cb26cb77c1df3",
       "version_major": 2,
       "version_minor": 0
      },
      "text/plain": [
       "Processing Iterations:   0%|          | 0/40 [00:00<?, ?step/s]"
      ]
     },
     "metadata": {},
     "output_type": "display_data"
    },
    {
     "data": {
      "application/vnd.jupyter.widget-view+json": {
       "model_id": "532f63f9cc884680890f900acc38551e",
       "version_major": 2,
       "version_minor": 0
      },
      "text/plain": [
       "Processing Iterations:   0%|          | 0/40 [00:00<?, ?step/s]"
      ]
     },
     "metadata": {},
     "output_type": "display_data"
    },
    {
     "data": {
      "application/vnd.jupyter.widget-view+json": {
       "model_id": "9d16f82d109249e2847890d99bf814db",
       "version_major": 2,
       "version_minor": 0
      },
      "text/plain": [
       "Processing Iterations:   0%|          | 0/40 [00:00<?, ?step/s]"
      ]
     },
     "metadata": {},
     "output_type": "display_data"
    },
    {
     "data": {
      "application/vnd.jupyter.widget-view+json": {
       "model_id": "4da820bd142c42ee99764cb7062e00ff",
       "version_major": 2,
       "version_minor": 0
      },
      "text/plain": [
       "Processing Iterations:   0%|          | 0/40 [00:00<?, ?step/s]"
      ]
     },
     "metadata": {},
     "output_type": "display_data"
    },
    {
     "data": {
      "application/vnd.jupyter.widget-view+json": {
       "model_id": "b14201afe6b34068940d00bd54095a38",
       "version_major": 2,
       "version_minor": 0
      },
      "text/plain": [
       "Processing Iterations:   0%|          | 0/40 [00:00<?, ?step/s]"
      ]
     },
     "metadata": {},
     "output_type": "display_data"
    },
    {
     "data": {
      "application/vnd.jupyter.widget-view+json": {
       "model_id": "57f8a65fdb654651b935b006dadad065",
       "version_major": 2,
       "version_minor": 0
      },
      "text/plain": [
       "Processing Iterations:   0%|          | 0/40 [00:00<?, ?step/s]"
      ]
     },
     "metadata": {},
     "output_type": "display_data"
    },
    {
     "data": {
      "application/vnd.jupyter.widget-view+json": {
       "model_id": "06b446bbcaac407a90405ed5775a6cd9",
       "version_major": 2,
       "version_minor": 0
      },
      "text/plain": [
       "Processing Iterations:   0%|          | 0/40 [00:00<?, ?step/s]"
      ]
     },
     "metadata": {},
     "output_type": "display_data"
    },
    {
     "data": {
      "application/vnd.jupyter.widget-view+json": {
       "model_id": "4d48badd23194f16973d97e5cb21752b",
       "version_major": 2,
       "version_minor": 0
      },
      "text/plain": [
       "Processing Iterations:   0%|          | 0/40 [00:00<?, ?step/s]"
      ]
     },
     "metadata": {},
     "output_type": "display_data"
    },
    {
     "data": {
      "application/vnd.jupyter.widget-view+json": {
       "model_id": "b2166ce7cad547ee815866b5b2de3292",
       "version_major": 2,
       "version_minor": 0
      },
      "text/plain": [
       "Processing Iterations:   0%|          | 0/40 [00:00<?, ?step/s]"
      ]
     },
     "metadata": {},
     "output_type": "display_data"
    },
    {
     "data": {
      "application/vnd.jupyter.widget-view+json": {
       "model_id": "ced90377374e4f36940252d8d083a52a",
       "version_major": 2,
       "version_minor": 0
      },
      "text/plain": [
       "Processing Iterations:   0%|          | 0/40 [00:00<?, ?step/s]"
      ]
     },
     "metadata": {},
     "output_type": "display_data"
    },
    {
     "data": {
      "application/vnd.jupyter.widget-view+json": {
       "model_id": "6aecff248c9b4c838c57f17b7ef889a6",
       "version_major": 2,
       "version_minor": 0
      },
      "text/plain": [
       "Processing Iterations:   0%|          | 0/40 [00:00<?, ?step/s]"
      ]
     },
     "metadata": {},
     "output_type": "display_data"
    },
    {
     "data": {
      "application/vnd.jupyter.widget-view+json": {
       "model_id": "0da7d884d9c746a4b7cb59ad8c5e4288",
       "version_major": 2,
       "version_minor": 0
      },
      "text/plain": [
       "Processing Iterations:   0%|          | 0/40 [00:00<?, ?step/s]"
      ]
     },
     "metadata": {},
     "output_type": "display_data"
    },
    {
     "data": {
      "application/vnd.jupyter.widget-view+json": {
       "model_id": "a54088aedcad4bb6b15e06fb5dbde672",
       "version_major": 2,
       "version_minor": 0
      },
      "text/plain": [
       "Processing Iterations:   0%|          | 0/40 [00:00<?, ?step/s]"
      ]
     },
     "metadata": {},
     "output_type": "display_data"
    },
    {
     "data": {
      "application/vnd.jupyter.widget-view+json": {
       "model_id": "86a6ff09e7e046f0a3744d08a5a8b826",
       "version_major": 2,
       "version_minor": 0
      },
      "text/plain": [
       "Processing Iterations:   0%|          | 0/40 [00:00<?, ?step/s]"
      ]
     },
     "metadata": {},
     "output_type": "display_data"
    },
    {
     "data": {
      "application/vnd.jupyter.widget-view+json": {
       "model_id": "24e9211215a64ac9a8adf336c4bd9b14",
       "version_major": 2,
       "version_minor": 0
      },
      "text/plain": [
       "Processing Iterations:   0%|          | 0/40 [00:00<?, ?step/s]"
      ]
     },
     "metadata": {},
     "output_type": "display_data"
    },
    {
     "data": {
      "application/vnd.jupyter.widget-view+json": {
       "model_id": "29e628aab79746c69037854f6d4c889b",
       "version_major": 2,
       "version_minor": 0
      },
      "text/plain": [
       "Processing Iterations:   0%|          | 0/40 [00:00<?, ?step/s]"
      ]
     },
     "metadata": {},
     "output_type": "display_data"
    },
    {
     "data": {
      "application/vnd.jupyter.widget-view+json": {
       "model_id": "6491f369a3324994a64d0fb17aee0d15",
       "version_major": 2,
       "version_minor": 0
      },
      "text/plain": [
       "Processing Iterations:   0%|          | 0/40 [00:00<?, ?step/s]"
      ]
     },
     "metadata": {},
     "output_type": "display_data"
    },
    {
     "data": {
      "application/vnd.jupyter.widget-view+json": {
       "model_id": "1351c07c19b249e1a7937035cf3d212d",
       "version_major": 2,
       "version_minor": 0
      },
      "text/plain": [
       "Processing Iterations:   0%|          | 0/40 [00:00<?, ?step/s]"
      ]
     },
     "metadata": {},
     "output_type": "display_data"
    },
    {
     "data": {
      "application/vnd.jupyter.widget-view+json": {
       "model_id": "9cf0b9f9f8294dfcb87aae17541d2108",
       "version_major": 2,
       "version_minor": 0
      },
      "text/plain": [
       "Processing Iterations:   0%|          | 0/40 [00:00<?, ?step/s]"
      ]
     },
     "metadata": {},
     "output_type": "display_data"
    },
    {
     "data": {
      "application/vnd.jupyter.widget-view+json": {
       "model_id": "2cbea390caa246e09f6230ac5ed544b7",
       "version_major": 2,
       "version_minor": 0
      },
      "text/plain": [
       "Processing Iterations:   0%|          | 0/40 [00:00<?, ?step/s]"
      ]
     },
     "metadata": {},
     "output_type": "display_data"
    },
    {
     "data": {
      "application/vnd.jupyter.widget-view+json": {
       "model_id": "f7b799555b8644d3a104746ad3c6f753",
       "version_major": 2,
       "version_minor": 0
      },
      "text/plain": [
       "Processing Iterations:   0%|          | 0/40 [00:00<?, ?step/s]"
      ]
     },
     "metadata": {},
     "output_type": "display_data"
    },
    {
     "data": {
      "application/vnd.jupyter.widget-view+json": {
       "model_id": "f589f530029546b59f50f610456d8354",
       "version_major": 2,
       "version_minor": 0
      },
      "text/plain": [
       "Processing Iterations:   0%|          | 0/40 [00:00<?, ?step/s]"
      ]
     },
     "metadata": {},
     "output_type": "display_data"
    },
    {
     "data": {
      "application/vnd.jupyter.widget-view+json": {
       "model_id": "d5b4b7c9887c4c5c84e63a6da9a64cea",
       "version_major": 2,
       "version_minor": 0
      },
      "text/plain": [
       "Processing Iterations:   0%|          | 0/40 [00:00<?, ?step/s]"
      ]
     },
     "metadata": {},
     "output_type": "display_data"
    },
    {
     "data": {
      "application/vnd.jupyter.widget-view+json": {
       "model_id": "1ca540c539824676b8f095360cc061fc",
       "version_major": 2,
       "version_minor": 0
      },
      "text/plain": [
       "Processing Iterations:   0%|          | 0/40 [00:00<?, ?step/s]"
      ]
     },
     "metadata": {},
     "output_type": "display_data"
    },
    {
     "data": {
      "application/vnd.jupyter.widget-view+json": {
       "model_id": "eb6216a7295c4676a293d76f7477c1e0",
       "version_major": 2,
       "version_minor": 0
      },
      "text/plain": [
       "Processing Iterations:   0%|          | 0/40 [00:00<?, ?step/s]"
      ]
     },
     "metadata": {},
     "output_type": "display_data"
    },
    {
     "data": {
      "application/vnd.jupyter.widget-view+json": {
       "model_id": "f7b6b089b52b44bf90cd22949987c23a",
       "version_major": 2,
       "version_minor": 0
      },
      "text/plain": [
       "Processing Iterations:   0%|          | 0/40 [00:00<?, ?step/s]"
      ]
     },
     "metadata": {},
     "output_type": "display_data"
    },
    {
     "data": {
      "application/vnd.jupyter.widget-view+json": {
       "model_id": "5132ad14fc8a486badfe5f331cbd2ecc",
       "version_major": 2,
       "version_minor": 0
      },
      "text/plain": [
       "Processing Iterations:   0%|          | 0/40 [00:00<?, ?step/s]"
      ]
     },
     "metadata": {},
     "output_type": "display_data"
    },
    {
     "data": {
      "application/vnd.jupyter.widget-view+json": {
       "model_id": "c58087a580034ef0a399d7136cde6007",
       "version_major": 2,
       "version_minor": 0
      },
      "text/plain": [
       "Processing Iterations:   0%|          | 0/40 [00:00<?, ?step/s]"
      ]
     },
     "metadata": {},
     "output_type": "display_data"
    },
    {
     "data": {
      "application/vnd.jupyter.widget-view+json": {
       "model_id": "32b6b7be11894d0eb2cdcda086326007",
       "version_major": 2,
       "version_minor": 0
      },
      "text/plain": [
       "Processing Iterations:   0%|          | 0/40 [00:00<?, ?step/s]"
      ]
     },
     "metadata": {},
     "output_type": "display_data"
    },
    {
     "data": {
      "application/vnd.jupyter.widget-view+json": {
       "model_id": "470a12f21b404b6cbadb07ce64d74bea",
       "version_major": 2,
       "version_minor": 0
      },
      "text/plain": [
       "Processing Iterations:   0%|          | 0/40 [00:00<?, ?step/s]"
      ]
     },
     "metadata": {},
     "output_type": "display_data"
    },
    {
     "data": {
      "application/vnd.jupyter.widget-view+json": {
       "model_id": "8b6f72b5b6c24afb85ece6e60a666702",
       "version_major": 2,
       "version_minor": 0
      },
      "text/plain": [
       "Processing Iterations:   0%|          | 0/40 [00:00<?, ?step/s]"
      ]
     },
     "metadata": {},
     "output_type": "display_data"
    },
    {
     "data": {
      "application/vnd.jupyter.widget-view+json": {
       "model_id": "4388ceceefff48e7bc1c85fc5d878e65",
       "version_major": 2,
       "version_minor": 0
      },
      "text/plain": [
       "Processing Iterations:   0%|          | 0/40 [00:00<?, ?step/s]"
      ]
     },
     "metadata": {},
     "output_type": "display_data"
    },
    {
     "data": {
      "application/vnd.jupyter.widget-view+json": {
       "model_id": "6d79d6f7752f46a1a24133f9ff023e3e",
       "version_major": 2,
       "version_minor": 0
      },
      "text/plain": [
       "Processing Iterations:   0%|          | 0/40 [00:00<?, ?step/s]"
      ]
     },
     "metadata": {},
     "output_type": "display_data"
    },
    {
     "data": {
      "application/vnd.jupyter.widget-view+json": {
       "model_id": "2aa4484c8b2842a3aee533e589573d75",
       "version_major": 2,
       "version_minor": 0
      },
      "text/plain": [
       "Processing Iterations:   0%|          | 0/40 [00:00<?, ?step/s]"
      ]
     },
     "metadata": {},
     "output_type": "display_data"
    },
    {
     "data": {
      "application/vnd.jupyter.widget-view+json": {
       "model_id": "f024892dd0034b998d58abeeac3daa27",
       "version_major": 2,
       "version_minor": 0
      },
      "text/plain": [
       "Processing Iterations:   0%|          | 0/40 [00:00<?, ?step/s]"
      ]
     },
     "metadata": {},
     "output_type": "display_data"
    },
    {
     "data": {
      "application/vnd.jupyter.widget-view+json": {
       "model_id": "8c15fca024114140a3e707292cf13b93",
       "version_major": 2,
       "version_minor": 0
      },
      "text/plain": [
       "Processing Iterations:   0%|          | 0/40 [00:00<?, ?step/s]"
      ]
     },
     "metadata": {},
     "output_type": "display_data"
    },
    {
     "data": {
      "application/vnd.jupyter.widget-view+json": {
       "model_id": "c4d6f6725eb34611bf5c7fdc2e14bde6",
       "version_major": 2,
       "version_minor": 0
      },
      "text/plain": [
       "Processing Iterations:   0%|          | 0/40 [00:00<?, ?step/s]"
      ]
     },
     "metadata": {},
     "output_type": "display_data"
    },
    {
     "data": {
      "application/vnd.jupyter.widget-view+json": {
       "model_id": "b0379fcdf10e4366b39ed6b275dc599f",
       "version_major": 2,
       "version_minor": 0
      },
      "text/plain": [
       "Processing Iterations:   0%|          | 0/40 [00:00<?, ?step/s]"
      ]
     },
     "metadata": {},
     "output_type": "display_data"
    },
    {
     "data": {
      "application/vnd.jupyter.widget-view+json": {
       "model_id": "635b39f26ad84b6083173ee8a87a90f1",
       "version_major": 2,
       "version_minor": 0
      },
      "text/plain": [
       "Processing Iterations:   0%|          | 0/40 [00:00<?, ?step/s]"
      ]
     },
     "metadata": {},
     "output_type": "display_data"
    },
    {
     "data": {
      "application/vnd.jupyter.widget-view+json": {
       "model_id": "8310f11f9c2245e781e0546dbc53e2fd",
       "version_major": 2,
       "version_minor": 0
      },
      "text/plain": [
       "Processing Iterations:   0%|          | 0/40 [00:00<?, ?step/s]"
      ]
     },
     "metadata": {},
     "output_type": "display_data"
    },
    {
     "data": {
      "application/vnd.jupyter.widget-view+json": {
       "model_id": "afe58b15c1fc4190ac9f4bb8e00e4726",
       "version_major": 2,
       "version_minor": 0
      },
      "text/plain": [
       "Processing Iterations:   0%|          | 0/40 [00:00<?, ?step/s]"
      ]
     },
     "metadata": {},
     "output_type": "display_data"
    },
    {
     "data": {
      "application/vnd.jupyter.widget-view+json": {
       "model_id": "d413b30439734ad8969074d23a81e55a",
       "version_major": 2,
       "version_minor": 0
      },
      "text/plain": [
       "Processing Iterations:   0%|          | 0/40 [00:00<?, ?step/s]"
      ]
     },
     "metadata": {},
     "output_type": "display_data"
    },
    {
     "data": {
      "application/vnd.jupyter.widget-view+json": {
       "model_id": "feafeaaa4408453fb57e8d871ac17cfd",
       "version_major": 2,
       "version_minor": 0
      },
      "text/plain": [
       "Processing Iterations:   0%|          | 0/40 [00:00<?, ?step/s]"
      ]
     },
     "metadata": {},
     "output_type": "display_data"
    },
    {
     "data": {
      "application/vnd.jupyter.widget-view+json": {
       "model_id": "e3ad79503bef456fb764a952f897c1d0",
       "version_major": 2,
       "version_minor": 0
      },
      "text/plain": [
       "Processing Iterations:   0%|          | 0/40 [00:00<?, ?step/s]"
      ]
     },
     "metadata": {},
     "output_type": "display_data"
    },
    {
     "data": {
      "application/vnd.jupyter.widget-view+json": {
       "model_id": "bb62a16faa204d18bbf0a68782558975",
       "version_major": 2,
       "version_minor": 0
      },
      "text/plain": [
       "Processing Iterations:   0%|          | 0/40 [00:00<?, ?step/s]"
      ]
     },
     "metadata": {},
     "output_type": "display_data"
    },
    {
     "data": {
      "application/vnd.jupyter.widget-view+json": {
       "model_id": "e8ac1f8d2bb945b8a0101c8ef4ad0f02",
       "version_major": 2,
       "version_minor": 0
      },
      "text/plain": [
       "Processing Iterations:   0%|          | 0/40 [00:00<?, ?step/s]"
      ]
     },
     "metadata": {},
     "output_type": "display_data"
    },
    {
     "data": {
      "application/vnd.jupyter.widget-view+json": {
       "model_id": "299202328ed64ae9aeddd48106be2bce",
       "version_major": 2,
       "version_minor": 0
      },
      "text/plain": [
       "Processing Iterations:   0%|          | 0/40 [00:00<?, ?step/s]"
      ]
     },
     "metadata": {},
     "output_type": "display_data"
    },
    {
     "data": {
      "application/vnd.jupyter.widget-view+json": {
       "model_id": "3184e73c20db450db540cfffa551f49b",
       "version_major": 2,
       "version_minor": 0
      },
      "text/plain": [
       "Processing Iterations:   0%|          | 0/40 [00:00<?, ?step/s]"
      ]
     },
     "metadata": {},
     "output_type": "display_data"
    },
    {
     "data": {
      "application/vnd.jupyter.widget-view+json": {
       "model_id": "da8e6cfb4a664234ac7e473e17268e50",
       "version_major": 2,
       "version_minor": 0
      },
      "text/plain": [
       "Processing Iterations:   0%|          | 0/40 [00:00<?, ?step/s]"
      ]
     },
     "metadata": {},
     "output_type": "display_data"
    },
    {
     "data": {
      "application/vnd.jupyter.widget-view+json": {
       "model_id": "c2b66b0509b24f069741bbf3ec673ac2",
       "version_major": 2,
       "version_minor": 0
      },
      "text/plain": [
       "Processing Iterations:   0%|          | 0/40 [00:00<?, ?step/s]"
      ]
     },
     "metadata": {},
     "output_type": "display_data"
    },
    {
     "data": {
      "application/vnd.jupyter.widget-view+json": {
       "model_id": "24d005fc146e45edb0c3f75cbe47260d",
       "version_major": 2,
       "version_minor": 0
      },
      "text/plain": [
       "Processing Iterations:   0%|          | 0/40 [00:00<?, ?step/s]"
      ]
     },
     "metadata": {},
     "output_type": "display_data"
    },
    {
     "data": {
      "application/vnd.jupyter.widget-view+json": {
       "model_id": "ef688b05a3a14a27bfa76998c6c72208",
       "version_major": 2,
       "version_minor": 0
      },
      "text/plain": [
       "Processing Iterations:   0%|          | 0/40 [00:00<?, ?step/s]"
      ]
     },
     "metadata": {},
     "output_type": "display_data"
    },
    {
     "data": {
      "application/vnd.jupyter.widget-view+json": {
       "model_id": "ba85243ccf5b4d62b42a74d4bee22fd6",
       "version_major": 2,
       "version_minor": 0
      },
      "text/plain": [
       "Processing Iterations:   0%|          | 0/40 [00:00<?, ?step/s]"
      ]
     },
     "metadata": {},
     "output_type": "display_data"
    },
    {
     "data": {
      "application/vnd.jupyter.widget-view+json": {
       "model_id": "519be1a2e9a24752b0391645afac267d",
       "version_major": 2,
       "version_minor": 0
      },
      "text/plain": [
       "Processing Iterations:   0%|          | 0/40 [00:00<?, ?step/s]"
      ]
     },
     "metadata": {},
     "output_type": "display_data"
    },
    {
     "data": {
      "application/vnd.jupyter.widget-view+json": {
       "model_id": "c1131403dd5643899358f508161ea679",
       "version_major": 2,
       "version_minor": 0
      },
      "text/plain": [
       "Processing Iterations:   0%|          | 0/40 [00:00<?, ?step/s]"
      ]
     },
     "metadata": {},
     "output_type": "display_data"
    },
    {
     "data": {
      "application/vnd.jupyter.widget-view+json": {
       "model_id": "c7e96333e74b405d9ef7830b250fe2fd",
       "version_major": 2,
       "version_minor": 0
      },
      "text/plain": [
       "Processing Iterations:   0%|          | 0/40 [00:00<?, ?step/s]"
      ]
     },
     "metadata": {},
     "output_type": "display_data"
    },
    {
     "data": {
      "application/vnd.jupyter.widget-view+json": {
       "model_id": "e5d1455ae86a4798b683bc5e24cbeb7c",
       "version_major": 2,
       "version_minor": 0
      },
      "text/plain": [
       "Processing Iterations:   0%|          | 0/40 [00:00<?, ?step/s]"
      ]
     },
     "metadata": {},
     "output_type": "display_data"
    },
    {
     "data": {
      "application/vnd.jupyter.widget-view+json": {
       "model_id": "e62345dba04f4f4eb62a734f8d5e16a0",
       "version_major": 2,
       "version_minor": 0
      },
      "text/plain": [
       "Processing Iterations:   0%|          | 0/40 [00:00<?, ?step/s]"
      ]
     },
     "metadata": {},
     "output_type": "display_data"
    },
    {
     "data": {
      "application/vnd.jupyter.widget-view+json": {
       "model_id": "48bff7a1ff5a47549bd7405493a101ed",
       "version_major": 2,
       "version_minor": 0
      },
      "text/plain": [
       "Processing Iterations:   0%|          | 0/40 [00:00<?, ?step/s]"
      ]
     },
     "metadata": {},
     "output_type": "display_data"
    },
    {
     "data": {
      "application/vnd.jupyter.widget-view+json": {
       "model_id": "5bd7b71de9c749e3b5c67e280706f3f1",
       "version_major": 2,
       "version_minor": 0
      },
      "text/plain": [
       "Processing Iterations:   0%|          | 0/40 [00:00<?, ?step/s]"
      ]
     },
     "metadata": {},
     "output_type": "display_data"
    },
    {
     "data": {
      "application/vnd.jupyter.widget-view+json": {
       "model_id": "4ff8fd2cdafd4dc98447aa2120867896",
       "version_major": 2,
       "version_minor": 0
      },
      "text/plain": [
       "Processing Iterations:   0%|          | 0/40 [00:00<?, ?step/s]"
      ]
     },
     "metadata": {},
     "output_type": "display_data"
    },
    {
     "data": {
      "application/vnd.jupyter.widget-view+json": {
       "model_id": "8e61a081ba0c4880801478742c3b36dd",
       "version_major": 2,
       "version_minor": 0
      },
      "text/plain": [
       "Processing Iterations:   0%|          | 0/40 [00:00<?, ?step/s]"
      ]
     },
     "metadata": {},
     "output_type": "display_data"
    },
    {
     "data": {
      "application/vnd.jupyter.widget-view+json": {
       "model_id": "260972d0e6da499bbd8647b23721057a",
       "version_major": 2,
       "version_minor": 0
      },
      "text/plain": [
       "Processing Iterations:   0%|          | 0/40 [00:00<?, ?step/s]"
      ]
     },
     "metadata": {},
     "output_type": "display_data"
    },
    {
     "data": {
      "application/vnd.jupyter.widget-view+json": {
       "model_id": "689a9a096c664375abebf063aa94d784",
       "version_major": 2,
       "version_minor": 0
      },
      "text/plain": [
       "Processing Iterations:   0%|          | 0/40 [00:00<?, ?step/s]"
      ]
     },
     "metadata": {},
     "output_type": "display_data"
    },
    {
     "data": {
      "application/vnd.jupyter.widget-view+json": {
       "model_id": "86a81f21e0044ee9b48f46dd16a908d1",
       "version_major": 2,
       "version_minor": 0
      },
      "text/plain": [
       "Processing Iterations:   0%|          | 0/40 [00:00<?, ?step/s]"
      ]
     },
     "metadata": {},
     "output_type": "display_data"
    },
    {
     "name": "stdout",
     "output_type": "stream",
     "text": [
      "GIF saved as 'gifs/Prob distribution vs. Delta, Vertex count is 12, and initial entropy is 2.485.gif'\n"
     ]
    },
    {
     "data": {
      "application/vnd.jupyter.widget-view+json": {
       "model_id": "aba5568a3698463abded70fbee38426f",
       "version_major": 2,
       "version_minor": 0
      },
      "text/plain": [
       "Processing Iterations:   0%|          | 0/40 [00:00<?, ?step/s]"
      ]
     },
     "metadata": {},
     "output_type": "display_data"
    },
    {
     "data": {
      "application/vnd.jupyter.widget-view+json": {
       "model_id": "a59b526a0c7d4b11824183f55a1951aa",
       "version_major": 2,
       "version_minor": 0
      },
      "text/plain": [
       "Processing Iterations:   0%|          | 0/40 [00:00<?, ?step/s]"
      ]
     },
     "metadata": {},
     "output_type": "display_data"
    },
    {
     "data": {
      "application/vnd.jupyter.widget-view+json": {
       "model_id": "67dfa3c6dccb4ff686aebf9fc6e6902c",
       "version_major": 2,
       "version_minor": 0
      },
      "text/plain": [
       "Processing Iterations:   0%|          | 0/40 [00:00<?, ?step/s]"
      ]
     },
     "metadata": {},
     "output_type": "display_data"
    },
    {
     "data": {
      "application/vnd.jupyter.widget-view+json": {
       "model_id": "25fa4dcccbe0440290c531c20af5526b",
       "version_major": 2,
       "version_minor": 0
      },
      "text/plain": [
       "Processing Iterations:   0%|          | 0/40 [00:00<?, ?step/s]"
      ]
     },
     "metadata": {},
     "output_type": "display_data"
    },
    {
     "data": {
      "application/vnd.jupyter.widget-view+json": {
       "model_id": "290121220bde4966abed1dc64ac9582f",
       "version_major": 2,
       "version_minor": 0
      },
      "text/plain": [
       "Processing Iterations:   0%|          | 0/40 [00:00<?, ?step/s]"
      ]
     },
     "metadata": {},
     "output_type": "display_data"
    },
    {
     "data": {
      "application/vnd.jupyter.widget-view+json": {
       "model_id": "7e0bec8246c041afa3ec0a697c258a3d",
       "version_major": 2,
       "version_minor": 0
      },
      "text/plain": [
       "Processing Iterations:   0%|          | 0/40 [00:00<?, ?step/s]"
      ]
     },
     "metadata": {},
     "output_type": "display_data"
    },
    {
     "data": {
      "application/vnd.jupyter.widget-view+json": {
       "model_id": "2e18e5281da34dc883ac1352c6571b2d",
       "version_major": 2,
       "version_minor": 0
      },
      "text/plain": [
       "Processing Iterations:   0%|          | 0/40 [00:00<?, ?step/s]"
      ]
     },
     "metadata": {},
     "output_type": "display_data"
    },
    {
     "data": {
      "application/vnd.jupyter.widget-view+json": {
       "model_id": "84773cf56f73495d95b87d39982e1f19",
       "version_major": 2,
       "version_minor": 0
      },
      "text/plain": [
       "Processing Iterations:   0%|          | 0/40 [00:00<?, ?step/s]"
      ]
     },
     "metadata": {},
     "output_type": "display_data"
    },
    {
     "data": {
      "application/vnd.jupyter.widget-view+json": {
       "model_id": "2e16b2bfaadb44d4a591f6c81686e96a",
       "version_major": 2,
       "version_minor": 0
      },
      "text/plain": [
       "Processing Iterations:   0%|          | 0/40 [00:00<?, ?step/s]"
      ]
     },
     "metadata": {},
     "output_type": "display_data"
    },
    {
     "data": {
      "application/vnd.jupyter.widget-view+json": {
       "model_id": "3010b9cebc7749538e88497819b910f3",
       "version_major": 2,
       "version_minor": 0
      },
      "text/plain": [
       "Processing Iterations:   0%|          | 0/40 [00:00<?, ?step/s]"
      ]
     },
     "metadata": {},
     "output_type": "display_data"
    },
    {
     "data": {
      "application/vnd.jupyter.widget-view+json": {
       "model_id": "d6661170f3e142c88c29c83ee56e16cd",
       "version_major": 2,
       "version_minor": 0
      },
      "text/plain": [
       "Processing Iterations:   0%|          | 0/40 [00:00<?, ?step/s]"
      ]
     },
     "metadata": {},
     "output_type": "display_data"
    },
    {
     "data": {
      "application/vnd.jupyter.widget-view+json": {
       "model_id": "ef9d05a755f14c9baaafe95b8482dd4d",
       "version_major": 2,
       "version_minor": 0
      },
      "text/plain": [
       "Processing Iterations:   0%|          | 0/40 [00:00<?, ?step/s]"
      ]
     },
     "metadata": {},
     "output_type": "display_data"
    },
    {
     "data": {
      "application/vnd.jupyter.widget-view+json": {
       "model_id": "3df898a6aa5546e58ec7157a75eb8de8",
       "version_major": 2,
       "version_minor": 0
      },
      "text/plain": [
       "Processing Iterations:   0%|          | 0/40 [00:00<?, ?step/s]"
      ]
     },
     "metadata": {},
     "output_type": "display_data"
    },
    {
     "data": {
      "application/vnd.jupyter.widget-view+json": {
       "model_id": "5329735491014829babee8fdc37debe3",
       "version_major": 2,
       "version_minor": 0
      },
      "text/plain": [
       "Processing Iterations:   0%|          | 0/40 [00:00<?, ?step/s]"
      ]
     },
     "metadata": {},
     "output_type": "display_data"
    },
    {
     "data": {
      "application/vnd.jupyter.widget-view+json": {
       "model_id": "3da78f0cc79e43b7ba060b580a688aa9",
       "version_major": 2,
       "version_minor": 0
      },
      "text/plain": [
       "Processing Iterations:   0%|          | 0/40 [00:00<?, ?step/s]"
      ]
     },
     "metadata": {},
     "output_type": "display_data"
    },
    {
     "data": {
      "application/vnd.jupyter.widget-view+json": {
       "model_id": "4b4f89022a774a3683822cd12c27aefc",
       "version_major": 2,
       "version_minor": 0
      },
      "text/plain": [
       "Processing Iterations:   0%|          | 0/40 [00:00<?, ?step/s]"
      ]
     },
     "metadata": {},
     "output_type": "display_data"
    },
    {
     "data": {
      "application/vnd.jupyter.widget-view+json": {
       "model_id": "b507938fed1e402991e974da0f803993",
       "version_major": 2,
       "version_minor": 0
      },
      "text/plain": [
       "Processing Iterations:   0%|          | 0/40 [00:00<?, ?step/s]"
      ]
     },
     "metadata": {},
     "output_type": "display_data"
    },
    {
     "data": {
      "application/vnd.jupyter.widget-view+json": {
       "model_id": "d0952571af604f88adf7f3b08e65b13d",
       "version_major": 2,
       "version_minor": 0
      },
      "text/plain": [
       "Processing Iterations:   0%|          | 0/40 [00:00<?, ?step/s]"
      ]
     },
     "metadata": {},
     "output_type": "display_data"
    },
    {
     "data": {
      "application/vnd.jupyter.widget-view+json": {
       "model_id": "f2bdd7ef1cbc44189527b9009f281e14",
       "version_major": 2,
       "version_minor": 0
      },
      "text/plain": [
       "Processing Iterations:   0%|          | 0/40 [00:00<?, ?step/s]"
      ]
     },
     "metadata": {},
     "output_type": "display_data"
    },
    {
     "data": {
      "application/vnd.jupyter.widget-view+json": {
       "model_id": "751789dfc40b47d79d4ef93828380c00",
       "version_major": 2,
       "version_minor": 0
      },
      "text/plain": [
       "Processing Iterations:   0%|          | 0/40 [00:00<?, ?step/s]"
      ]
     },
     "metadata": {},
     "output_type": "display_data"
    },
    {
     "data": {
      "application/vnd.jupyter.widget-view+json": {
       "model_id": "2c08d764ca834a2089842b68d4a3cd62",
       "version_major": 2,
       "version_minor": 0
      },
      "text/plain": [
       "Processing Iterations:   0%|          | 0/40 [00:00<?, ?step/s]"
      ]
     },
     "metadata": {},
     "output_type": "display_data"
    },
    {
     "data": {
      "application/vnd.jupyter.widget-view+json": {
       "model_id": "80a81e693599450cab47ffdefccf3728",
       "version_major": 2,
       "version_minor": 0
      },
      "text/plain": [
       "Processing Iterations:   0%|          | 0/40 [00:00<?, ?step/s]"
      ]
     },
     "metadata": {},
     "output_type": "display_data"
    },
    {
     "data": {
      "application/vnd.jupyter.widget-view+json": {
       "model_id": "815a2be9be3742d9b07d3f41f4e12a9a",
       "version_major": 2,
       "version_minor": 0
      },
      "text/plain": [
       "Processing Iterations:   0%|          | 0/40 [00:00<?, ?step/s]"
      ]
     },
     "metadata": {},
     "output_type": "display_data"
    },
    {
     "data": {
      "application/vnd.jupyter.widget-view+json": {
       "model_id": "59d99cdad2b34dce8b54a517bca20fb7",
       "version_major": 2,
       "version_minor": 0
      },
      "text/plain": [
       "Processing Iterations:   0%|          | 0/40 [00:00<?, ?step/s]"
      ]
     },
     "metadata": {},
     "output_type": "display_data"
    },
    {
     "data": {
      "application/vnd.jupyter.widget-view+json": {
       "model_id": "8a11632dc89e48b5a91e3fa43ba6e921",
       "version_major": 2,
       "version_minor": 0
      },
      "text/plain": [
       "Processing Iterations:   0%|          | 0/40 [00:00<?, ?step/s]"
      ]
     },
     "metadata": {},
     "output_type": "display_data"
    },
    {
     "data": {
      "application/vnd.jupyter.widget-view+json": {
       "model_id": "f3e239c6c48f4f0b84d19f073fecea6b",
       "version_major": 2,
       "version_minor": 0
      },
      "text/plain": [
       "Processing Iterations:   0%|          | 0/40 [00:00<?, ?step/s]"
      ]
     },
     "metadata": {},
     "output_type": "display_data"
    },
    {
     "data": {
      "application/vnd.jupyter.widget-view+json": {
       "model_id": "1fb7d6a9d6a149db844ce3c9bb62313c",
       "version_major": 2,
       "version_minor": 0
      },
      "text/plain": [
       "Processing Iterations:   0%|          | 0/40 [00:00<?, ?step/s]"
      ]
     },
     "metadata": {},
     "output_type": "display_data"
    },
    {
     "data": {
      "application/vnd.jupyter.widget-view+json": {
       "model_id": "00a6ef6e24ba493d8039d23b5e14a464",
       "version_major": 2,
       "version_minor": 0
      },
      "text/plain": [
       "Processing Iterations:   0%|          | 0/40 [00:00<?, ?step/s]"
      ]
     },
     "metadata": {},
     "output_type": "display_data"
    },
    {
     "data": {
      "application/vnd.jupyter.widget-view+json": {
       "model_id": "d5466c6895164473b6fd424d36faf404",
       "version_major": 2,
       "version_minor": 0
      },
      "text/plain": [
       "Processing Iterations:   0%|          | 0/40 [00:00<?, ?step/s]"
      ]
     },
     "metadata": {},
     "output_type": "display_data"
    },
    {
     "data": {
      "application/vnd.jupyter.widget-view+json": {
       "model_id": "0ad202a0da0341569cd1ccf497d250f3",
       "version_major": 2,
       "version_minor": 0
      },
      "text/plain": [
       "Processing Iterations:   0%|          | 0/40 [00:00<?, ?step/s]"
      ]
     },
     "metadata": {},
     "output_type": "display_data"
    },
    {
     "data": {
      "application/vnd.jupyter.widget-view+json": {
       "model_id": "cf42dbcf12514e0187d7bdc0da2a8682",
       "version_major": 2,
       "version_minor": 0
      },
      "text/plain": [
       "Processing Iterations:   0%|          | 0/40 [00:00<?, ?step/s]"
      ]
     },
     "metadata": {},
     "output_type": "display_data"
    },
    {
     "data": {
      "application/vnd.jupyter.widget-view+json": {
       "model_id": "16c721b7bf804e489d75ccdf85bec2d9",
       "version_major": 2,
       "version_minor": 0
      },
      "text/plain": [
       "Processing Iterations:   0%|          | 0/40 [00:00<?, ?step/s]"
      ]
     },
     "metadata": {},
     "output_type": "display_data"
    },
    {
     "data": {
      "application/vnd.jupyter.widget-view+json": {
       "model_id": "4fba780f0e0948e2abbe837ea7ec7dd5",
       "version_major": 2,
       "version_minor": 0
      },
      "text/plain": [
       "Processing Iterations:   0%|          | 0/40 [00:00<?, ?step/s]"
      ]
     },
     "metadata": {},
     "output_type": "display_data"
    },
    {
     "data": {
      "application/vnd.jupyter.widget-view+json": {
       "model_id": "a70b5c819796466d8c97ab3ab5ecb8da",
       "version_major": 2,
       "version_minor": 0
      },
      "text/plain": [
       "Processing Iterations:   0%|          | 0/40 [00:00<?, ?step/s]"
      ]
     },
     "metadata": {},
     "output_type": "display_data"
    },
    {
     "data": {
      "application/vnd.jupyter.widget-view+json": {
       "model_id": "9acdb20318c54c19a2600fd4b6fcbb2e",
       "version_major": 2,
       "version_minor": 0
      },
      "text/plain": [
       "Processing Iterations:   0%|          | 0/40 [00:00<?, ?step/s]"
      ]
     },
     "metadata": {},
     "output_type": "display_data"
    },
    {
     "data": {
      "application/vnd.jupyter.widget-view+json": {
       "model_id": "22888f874d634aeb8dce5530be105735",
       "version_major": 2,
       "version_minor": 0
      },
      "text/plain": [
       "Processing Iterations:   0%|          | 0/40 [00:00<?, ?step/s]"
      ]
     },
     "metadata": {},
     "output_type": "display_data"
    },
    {
     "data": {
      "application/vnd.jupyter.widget-view+json": {
       "model_id": "aecae7c6ef9a4629a33cee5188b6be85",
       "version_major": 2,
       "version_minor": 0
      },
      "text/plain": [
       "Processing Iterations:   0%|          | 0/40 [00:00<?, ?step/s]"
      ]
     },
     "metadata": {},
     "output_type": "display_data"
    },
    {
     "data": {
      "application/vnd.jupyter.widget-view+json": {
       "model_id": "9cad3556b4b7457fa18cd043f9269024",
       "version_major": 2,
       "version_minor": 0
      },
      "text/plain": [
       "Processing Iterations:   0%|          | 0/40 [00:00<?, ?step/s]"
      ]
     },
     "metadata": {},
     "output_type": "display_data"
    },
    {
     "data": {
      "application/vnd.jupyter.widget-view+json": {
       "model_id": "1f091f30c485493c832df94367bea147",
       "version_major": 2,
       "version_minor": 0
      },
      "text/plain": [
       "Processing Iterations:   0%|          | 0/40 [00:00<?, ?step/s]"
      ]
     },
     "metadata": {},
     "output_type": "display_data"
    },
    {
     "data": {
      "application/vnd.jupyter.widget-view+json": {
       "model_id": "35ca6528c5184999a08f14e17479ffdb",
       "version_major": 2,
       "version_minor": 0
      },
      "text/plain": [
       "Processing Iterations:   0%|          | 0/40 [00:00<?, ?step/s]"
      ]
     },
     "metadata": {},
     "output_type": "display_data"
    },
    {
     "data": {
      "application/vnd.jupyter.widget-view+json": {
       "model_id": "57a6ae7cec044b809e44db02bdf46885",
       "version_major": 2,
       "version_minor": 0
      },
      "text/plain": [
       "Processing Iterations:   0%|          | 0/40 [00:00<?, ?step/s]"
      ]
     },
     "metadata": {},
     "output_type": "display_data"
    },
    {
     "data": {
      "application/vnd.jupyter.widget-view+json": {
       "model_id": "e301c286dc62421aaf3b9b1e8157d7dd",
       "version_major": 2,
       "version_minor": 0
      },
      "text/plain": [
       "Processing Iterations:   0%|          | 0/40 [00:00<?, ?step/s]"
      ]
     },
     "metadata": {},
     "output_type": "display_data"
    },
    {
     "data": {
      "application/vnd.jupyter.widget-view+json": {
       "model_id": "15296ed5169e4abe8050a8c39c52ba96",
       "version_major": 2,
       "version_minor": 0
      },
      "text/plain": [
       "Processing Iterations:   0%|          | 0/40 [00:00<?, ?step/s]"
      ]
     },
     "metadata": {},
     "output_type": "display_data"
    },
    {
     "data": {
      "application/vnd.jupyter.widget-view+json": {
       "model_id": "51de811321b04bc3aec1e5b9eac6d1ac",
       "version_major": 2,
       "version_minor": 0
      },
      "text/plain": [
       "Processing Iterations:   0%|          | 0/40 [00:00<?, ?step/s]"
      ]
     },
     "metadata": {},
     "output_type": "display_data"
    },
    {
     "data": {
      "application/vnd.jupyter.widget-view+json": {
       "model_id": "95393a51904540e38c45541c314c03a2",
       "version_major": 2,
       "version_minor": 0
      },
      "text/plain": [
       "Processing Iterations:   0%|          | 0/40 [00:00<?, ?step/s]"
      ]
     },
     "metadata": {},
     "output_type": "display_data"
    },
    {
     "data": {
      "application/vnd.jupyter.widget-view+json": {
       "model_id": "01b8a5d783b84ac2beaba395f2f3edbc",
       "version_major": 2,
       "version_minor": 0
      },
      "text/plain": [
       "Processing Iterations:   0%|          | 0/40 [00:00<?, ?step/s]"
      ]
     },
     "metadata": {},
     "output_type": "display_data"
    },
    {
     "data": {
      "application/vnd.jupyter.widget-view+json": {
       "model_id": "971990440f4247a48ca285b3792ec0b6",
       "version_major": 2,
       "version_minor": 0
      },
      "text/plain": [
       "Processing Iterations:   0%|          | 0/40 [00:00<?, ?step/s]"
      ]
     },
     "metadata": {},
     "output_type": "display_data"
    },
    {
     "data": {
      "application/vnd.jupyter.widget-view+json": {
       "model_id": "16c94cdeb86343f78f08cda67fa99cd2",
       "version_major": 2,
       "version_minor": 0
      },
      "text/plain": [
       "Processing Iterations:   0%|          | 0/40 [00:00<?, ?step/s]"
      ]
     },
     "metadata": {},
     "output_type": "display_data"
    },
    {
     "data": {
      "application/vnd.jupyter.widget-view+json": {
       "model_id": "9773dcb462144a12a331f65ad67beb69",
       "version_major": 2,
       "version_minor": 0
      },
      "text/plain": [
       "Processing Iterations:   0%|          | 0/40 [00:00<?, ?step/s]"
      ]
     },
     "metadata": {},
     "output_type": "display_data"
    },
    {
     "data": {
      "application/vnd.jupyter.widget-view+json": {
       "model_id": "2839b71c5a0d4ddd90552e6fd474dcad",
       "version_major": 2,
       "version_minor": 0
      },
      "text/plain": [
       "Processing Iterations:   0%|          | 0/40 [00:00<?, ?step/s]"
      ]
     },
     "metadata": {},
     "output_type": "display_data"
    },
    {
     "data": {
      "application/vnd.jupyter.widget-view+json": {
       "model_id": "c60e98c4feb54a69823bc4153ab8bbda",
       "version_major": 2,
       "version_minor": 0
      },
      "text/plain": [
       "Processing Iterations:   0%|          | 0/40 [00:00<?, ?step/s]"
      ]
     },
     "metadata": {},
     "output_type": "display_data"
    },
    {
     "data": {
      "application/vnd.jupyter.widget-view+json": {
       "model_id": "103402c6e6a54bb0aa9b92d3979433d3",
       "version_major": 2,
       "version_minor": 0
      },
      "text/plain": [
       "Processing Iterations:   0%|          | 0/40 [00:00<?, ?step/s]"
      ]
     },
     "metadata": {},
     "output_type": "display_data"
    },
    {
     "data": {
      "application/vnd.jupyter.widget-view+json": {
       "model_id": "4828d46a5a774bf5a06a1486474c3ae4",
       "version_major": 2,
       "version_minor": 0
      },
      "text/plain": [
       "Processing Iterations:   0%|          | 0/40 [00:00<?, ?step/s]"
      ]
     },
     "metadata": {},
     "output_type": "display_data"
    },
    {
     "data": {
      "application/vnd.jupyter.widget-view+json": {
       "model_id": "e84987e49b9147b7b583aa600575d031",
       "version_major": 2,
       "version_minor": 0
      },
      "text/plain": [
       "Processing Iterations:   0%|          | 0/40 [00:00<?, ?step/s]"
      ]
     },
     "metadata": {},
     "output_type": "display_data"
    },
    {
     "data": {
      "application/vnd.jupyter.widget-view+json": {
       "model_id": "79a8349fda4044f6919c70bd63c2b022",
       "version_major": 2,
       "version_minor": 0
      },
      "text/plain": [
       "Processing Iterations:   0%|          | 0/40 [00:00<?, ?step/s]"
      ]
     },
     "metadata": {},
     "output_type": "display_data"
    },
    {
     "data": {
      "application/vnd.jupyter.widget-view+json": {
       "model_id": "fcbf8b7f1251467e87ef9353b5209f15",
       "version_major": 2,
       "version_minor": 0
      },
      "text/plain": [
       "Processing Iterations:   0%|          | 0/40 [00:00<?, ?step/s]"
      ]
     },
     "metadata": {},
     "output_type": "display_data"
    },
    {
     "data": {
      "application/vnd.jupyter.widget-view+json": {
       "model_id": "cccaa042d10d4c6097cd55c873cf0650",
       "version_major": 2,
       "version_minor": 0
      },
      "text/plain": [
       "Processing Iterations:   0%|          | 0/40 [00:00<?, ?step/s]"
      ]
     },
     "metadata": {},
     "output_type": "display_data"
    },
    {
     "data": {
      "application/vnd.jupyter.widget-view+json": {
       "model_id": "2edbe83a1b1a43f59ea45a891ddd290a",
       "version_major": 2,
       "version_minor": 0
      },
      "text/plain": [
       "Processing Iterations:   0%|          | 0/40 [00:00<?, ?step/s]"
      ]
     },
     "metadata": {},
     "output_type": "display_data"
    },
    {
     "data": {
      "application/vnd.jupyter.widget-view+json": {
       "model_id": "ac4b6490e9e44178a80dea2912e1f770",
       "version_major": 2,
       "version_minor": 0
      },
      "text/plain": [
       "Processing Iterations:   0%|          | 0/40 [00:00<?, ?step/s]"
      ]
     },
     "metadata": {},
     "output_type": "display_data"
    },
    {
     "data": {
      "application/vnd.jupyter.widget-view+json": {
       "model_id": "c523e82d5c774d9ba0ea6e3be6f651e6",
       "version_major": 2,
       "version_minor": 0
      },
      "text/plain": [
       "Processing Iterations:   0%|          | 0/40 [00:00<?, ?step/s]"
      ]
     },
     "metadata": {},
     "output_type": "display_data"
    },
    {
     "data": {
      "application/vnd.jupyter.widget-view+json": {
       "model_id": "a9057405543744db835deb5033a78ca2",
       "version_major": 2,
       "version_minor": 0
      },
      "text/plain": [
       "Processing Iterations:   0%|          | 0/40 [00:00<?, ?step/s]"
      ]
     },
     "metadata": {},
     "output_type": "display_data"
    },
    {
     "data": {
      "application/vnd.jupyter.widget-view+json": {
       "model_id": "68f55615a4bf443daf52c17ae57f2f9a",
       "version_major": 2,
       "version_minor": 0
      },
      "text/plain": [
       "Processing Iterations:   0%|          | 0/40 [00:00<?, ?step/s]"
      ]
     },
     "metadata": {},
     "output_type": "display_data"
    },
    {
     "data": {
      "application/vnd.jupyter.widget-view+json": {
       "model_id": "572a20ca728247439bd698f038a2364e",
       "version_major": 2,
       "version_minor": 0
      },
      "text/plain": [
       "Processing Iterations:   0%|          | 0/40 [00:00<?, ?step/s]"
      ]
     },
     "metadata": {},
     "output_type": "display_data"
    },
    {
     "data": {
      "application/vnd.jupyter.widget-view+json": {
       "model_id": "60a656124aa54948bf0f351139995f1f",
       "version_major": 2,
       "version_minor": 0
      },
      "text/plain": [
       "Processing Iterations:   0%|          | 0/40 [00:00<?, ?step/s]"
      ]
     },
     "metadata": {},
     "output_type": "display_data"
    },
    {
     "data": {
      "application/vnd.jupyter.widget-view+json": {
       "model_id": "4ebfbec28024469abbcbfb4851b03544",
       "version_major": 2,
       "version_minor": 0
      },
      "text/plain": [
       "Processing Iterations:   0%|          | 0/40 [00:00<?, ?step/s]"
      ]
     },
     "metadata": {},
     "output_type": "display_data"
    },
    {
     "data": {
      "application/vnd.jupyter.widget-view+json": {
       "model_id": "e3b1cc43b4224677bb5467855bcd1d80",
       "version_major": 2,
       "version_minor": 0
      },
      "text/plain": [
       "Processing Iterations:   0%|          | 0/40 [00:00<?, ?step/s]"
      ]
     },
     "metadata": {},
     "output_type": "display_data"
    },
    {
     "data": {
      "application/vnd.jupyter.widget-view+json": {
       "model_id": "bbb1d2c0c95f4eb6ad7abc1fc9de201c",
       "version_major": 2,
       "version_minor": 0
      },
      "text/plain": [
       "Processing Iterations:   0%|          | 0/40 [00:00<?, ?step/s]"
      ]
     },
     "metadata": {},
     "output_type": "display_data"
    },
    {
     "data": {
      "application/vnd.jupyter.widget-view+json": {
       "model_id": "1757002cbd794682845c83467500fa09",
       "version_major": 2,
       "version_minor": 0
      },
      "text/plain": [
       "Processing Iterations:   0%|          | 0/40 [00:00<?, ?step/s]"
      ]
     },
     "metadata": {},
     "output_type": "display_data"
    },
    {
     "data": {
      "application/vnd.jupyter.widget-view+json": {
       "model_id": "0d4a2bb6b955449ca8855e619b601ff6",
       "version_major": 2,
       "version_minor": 0
      },
      "text/plain": [
       "Processing Iterations:   0%|          | 0/40 [00:00<?, ?step/s]"
      ]
     },
     "metadata": {},
     "output_type": "display_data"
    },
    {
     "data": {
      "application/vnd.jupyter.widget-view+json": {
       "model_id": "353e537bbc0f402181742e43c2134c3f",
       "version_major": 2,
       "version_minor": 0
      },
      "text/plain": [
       "Processing Iterations:   0%|          | 0/40 [00:00<?, ?step/s]"
      ]
     },
     "metadata": {},
     "output_type": "display_data"
    },
    {
     "data": {
      "application/vnd.jupyter.widget-view+json": {
       "model_id": "ad6794866bce47bca4c9175d6bfc1a6c",
       "version_major": 2,
       "version_minor": 0
      },
      "text/plain": [
       "Processing Iterations:   0%|          | 0/40 [00:00<?, ?step/s]"
      ]
     },
     "metadata": {},
     "output_type": "display_data"
    },
    {
     "data": {
      "application/vnd.jupyter.widget-view+json": {
       "model_id": "5f7044b4efc24bc082dce219e409769b",
       "version_major": 2,
       "version_minor": 0
      },
      "text/plain": [
       "Processing Iterations:   0%|          | 0/40 [00:00<?, ?step/s]"
      ]
     },
     "metadata": {},
     "output_type": "display_data"
    },
    {
     "data": {
      "application/vnd.jupyter.widget-view+json": {
       "model_id": "25f899fc2b1449d1a659c805b2552f08",
       "version_major": 2,
       "version_minor": 0
      },
      "text/plain": [
       "Processing Iterations:   0%|          | 0/40 [00:00<?, ?step/s]"
      ]
     },
     "metadata": {},
     "output_type": "display_data"
    },
    {
     "data": {
      "application/vnd.jupyter.widget-view+json": {
       "model_id": "35ce310206dd4f57a913100ab51fdf0a",
       "version_major": 2,
       "version_minor": 0
      },
      "text/plain": [
       "Processing Iterations:   0%|          | 0/40 [00:00<?, ?step/s]"
      ]
     },
     "metadata": {},
     "output_type": "display_data"
    },
    {
     "data": {
      "application/vnd.jupyter.widget-view+json": {
       "model_id": "84ed5a1016ea40539e2d7ae91c7bb46c",
       "version_major": 2,
       "version_minor": 0
      },
      "text/plain": [
       "Processing Iterations:   0%|          | 0/40 [00:00<?, ?step/s]"
      ]
     },
     "metadata": {},
     "output_type": "display_data"
    },
    {
     "data": {
      "application/vnd.jupyter.widget-view+json": {
       "model_id": "674752b9d0684f76be6c5ebdc642e681",
       "version_major": 2,
       "version_minor": 0
      },
      "text/plain": [
       "Processing Iterations:   0%|          | 0/40 [00:00<?, ?step/s]"
      ]
     },
     "metadata": {},
     "output_type": "display_data"
    },
    {
     "data": {
      "application/vnd.jupyter.widget-view+json": {
       "model_id": "3091f5327da74d3b91ef922974d0ec19",
       "version_major": 2,
       "version_minor": 0
      },
      "text/plain": [
       "Processing Iterations:   0%|          | 0/40 [00:00<?, ?step/s]"
      ]
     },
     "metadata": {},
     "output_type": "display_data"
    },
    {
     "data": {
      "application/vnd.jupyter.widget-view+json": {
       "model_id": "c5ec84017b094cb684550c17e5be7ea8",
       "version_major": 2,
       "version_minor": 0
      },
      "text/plain": [
       "Processing Iterations:   0%|          | 0/40 [00:00<?, ?step/s]"
      ]
     },
     "metadata": {},
     "output_type": "display_data"
    },
    {
     "data": {
      "application/vnd.jupyter.widget-view+json": {
       "model_id": "06a7375e10004948980b12f244d8aff7",
       "version_major": 2,
       "version_minor": 0
      },
      "text/plain": [
       "Processing Iterations:   0%|          | 0/40 [00:00<?, ?step/s]"
      ]
     },
     "metadata": {},
     "output_type": "display_data"
    },
    {
     "data": {
      "application/vnd.jupyter.widget-view+json": {
       "model_id": "3c2ac74ce9f44a4e9c3376df4235d6ba",
       "version_major": 2,
       "version_minor": 0
      },
      "text/plain": [
       "Processing Iterations:   0%|          | 0/40 [00:00<?, ?step/s]"
      ]
     },
     "metadata": {},
     "output_type": "display_data"
    },
    {
     "data": {
      "application/vnd.jupyter.widget-view+json": {
       "model_id": "ea5040519eb74b199c5639e68f2f1def",
       "version_major": 2,
       "version_minor": 0
      },
      "text/plain": [
       "Processing Iterations:   0%|          | 0/40 [00:00<?, ?step/s]"
      ]
     },
     "metadata": {},
     "output_type": "display_data"
    },
    {
     "data": {
      "application/vnd.jupyter.widget-view+json": {
       "model_id": "ad112d101a6448c78a5aa076af33f953",
       "version_major": 2,
       "version_minor": 0
      },
      "text/plain": [
       "Processing Iterations:   0%|          | 0/40 [00:00<?, ?step/s]"
      ]
     },
     "metadata": {},
     "output_type": "display_data"
    },
    {
     "data": {
      "application/vnd.jupyter.widget-view+json": {
       "model_id": "6d63f13ce6424053b7ca970cfa577f05",
       "version_major": 2,
       "version_minor": 0
      },
      "text/plain": [
       "Processing Iterations:   0%|          | 0/40 [00:00<?, ?step/s]"
      ]
     },
     "metadata": {},
     "output_type": "display_data"
    },
    {
     "data": {
      "application/vnd.jupyter.widget-view+json": {
       "model_id": "a9a7141c372844d9ab1ecd9a572416f5",
       "version_major": 2,
       "version_minor": 0
      },
      "text/plain": [
       "Processing Iterations:   0%|          | 0/40 [00:00<?, ?step/s]"
      ]
     },
     "metadata": {},
     "output_type": "display_data"
    },
    {
     "data": {
      "application/vnd.jupyter.widget-view+json": {
       "model_id": "594237aa996d4f66bac789426d367ba0",
       "version_major": 2,
       "version_minor": 0
      },
      "text/plain": [
       "Processing Iterations:   0%|          | 0/40 [00:00<?, ?step/s]"
      ]
     },
     "metadata": {},
     "output_type": "display_data"
    },
    {
     "data": {
      "application/vnd.jupyter.widget-view+json": {
       "model_id": "0eaf6d8b6cf149f99ad68154731a6dd4",
       "version_major": 2,
       "version_minor": 0
      },
      "text/plain": [
       "Processing Iterations:   0%|          | 0/40 [00:00<?, ?step/s]"
      ]
     },
     "metadata": {},
     "output_type": "display_data"
    },
    {
     "data": {
      "application/vnd.jupyter.widget-view+json": {
       "model_id": "eee78e3f88ce4abf8e30cfccb916e893",
       "version_major": 2,
       "version_minor": 0
      },
      "text/plain": [
       "Processing Iterations:   0%|          | 0/40 [00:00<?, ?step/s]"
      ]
     },
     "metadata": {},
     "output_type": "display_data"
    },
    {
     "data": {
      "application/vnd.jupyter.widget-view+json": {
       "model_id": "f15b2e449edd4a24bae5243ab4569554",
       "version_major": 2,
       "version_minor": 0
      },
      "text/plain": [
       "Processing Iterations:   0%|          | 0/40 [00:00<?, ?step/s]"
      ]
     },
     "metadata": {},
     "output_type": "display_data"
    },
    {
     "data": {
      "application/vnd.jupyter.widget-view+json": {
       "model_id": "de72db4bd0ae4cd4bc3dacedf2a6c40f",
       "version_major": 2,
       "version_minor": 0
      },
      "text/plain": [
       "Processing Iterations:   0%|          | 0/40 [00:00<?, ?step/s]"
      ]
     },
     "metadata": {},
     "output_type": "display_data"
    },
    {
     "data": {
      "application/vnd.jupyter.widget-view+json": {
       "model_id": "a5674e3783684185baffe0a6cf9b05fd",
       "version_major": 2,
       "version_minor": 0
      },
      "text/plain": [
       "Processing Iterations:   0%|          | 0/40 [00:00<?, ?step/s]"
      ]
     },
     "metadata": {},
     "output_type": "display_data"
    },
    {
     "name": "stdout",
     "output_type": "stream",
     "text": [
      "GIF saved as 'gifs/Prob distribution vs. Delta, Vertex count is 13, and initial entropy is 2.565.gif'\n"
     ]
    },
    {
     "data": {
      "application/vnd.jupyter.widget-view+json": {
       "model_id": "3c1a6aff7eef4e3ebe53cfaced3ccefc",
       "version_major": 2,
       "version_minor": 0
      },
      "text/plain": [
       "Processing Iterations:   0%|          | 0/40 [00:00<?, ?step/s]"
      ]
     },
     "metadata": {},
     "output_type": "display_data"
    },
    {
     "data": {
      "application/vnd.jupyter.widget-view+json": {
       "model_id": "2ec1abc1ac3e484fbfe46682d6f7da26",
       "version_major": 2,
       "version_minor": 0
      },
      "text/plain": [
       "Processing Iterations:   0%|          | 0/40 [00:00<?, ?step/s]"
      ]
     },
     "metadata": {},
     "output_type": "display_data"
    },
    {
     "data": {
      "application/vnd.jupyter.widget-view+json": {
       "model_id": "b3ef869aed1e4c13bb286867e8d118a6",
       "version_major": 2,
       "version_minor": 0
      },
      "text/plain": [
       "Processing Iterations:   0%|          | 0/40 [00:00<?, ?step/s]"
      ]
     },
     "metadata": {},
     "output_type": "display_data"
    },
    {
     "data": {
      "application/vnd.jupyter.widget-view+json": {
       "model_id": "dc4d4e42b14b46d8bd88744ee6dd147f",
       "version_major": 2,
       "version_minor": 0
      },
      "text/plain": [
       "Processing Iterations:   0%|          | 0/40 [00:00<?, ?step/s]"
      ]
     },
     "metadata": {},
     "output_type": "display_data"
    },
    {
     "data": {
      "application/vnd.jupyter.widget-view+json": {
       "model_id": "954d3614790c41dd896d1045cf4f0dac",
       "version_major": 2,
       "version_minor": 0
      },
      "text/plain": [
       "Processing Iterations:   0%|          | 0/40 [00:00<?, ?step/s]"
      ]
     },
     "metadata": {},
     "output_type": "display_data"
    },
    {
     "data": {
      "application/vnd.jupyter.widget-view+json": {
       "model_id": "280f6a39959e4764ba6fd5c5693cfff7",
       "version_major": 2,
       "version_minor": 0
      },
      "text/plain": [
       "Processing Iterations:   0%|          | 0/40 [00:00<?, ?step/s]"
      ]
     },
     "metadata": {},
     "output_type": "display_data"
    },
    {
     "data": {
      "application/vnd.jupyter.widget-view+json": {
       "model_id": "2507c80d02374de2aeeb726ef900bfba",
       "version_major": 2,
       "version_minor": 0
      },
      "text/plain": [
       "Processing Iterations:   0%|          | 0/40 [00:00<?, ?step/s]"
      ]
     },
     "metadata": {},
     "output_type": "display_data"
    },
    {
     "data": {
      "application/vnd.jupyter.widget-view+json": {
       "model_id": "ae264b73c32b427698da580c04d7dbed",
       "version_major": 2,
       "version_minor": 0
      },
      "text/plain": [
       "Processing Iterations:   0%|          | 0/40 [00:00<?, ?step/s]"
      ]
     },
     "metadata": {},
     "output_type": "display_data"
    },
    {
     "data": {
      "application/vnd.jupyter.widget-view+json": {
       "model_id": "0a31d8c9e4bc45ff8a197af08f6a503a",
       "version_major": 2,
       "version_minor": 0
      },
      "text/plain": [
       "Processing Iterations:   0%|          | 0/40 [00:00<?, ?step/s]"
      ]
     },
     "metadata": {},
     "output_type": "display_data"
    },
    {
     "data": {
      "application/vnd.jupyter.widget-view+json": {
       "model_id": "780a6e33e49a47b0a0da58cb5c356c53",
       "version_major": 2,
       "version_minor": 0
      },
      "text/plain": [
       "Processing Iterations:   0%|          | 0/40 [00:00<?, ?step/s]"
      ]
     },
     "metadata": {},
     "output_type": "display_data"
    },
    {
     "data": {
      "application/vnd.jupyter.widget-view+json": {
       "model_id": "8b258efaaba54d1ca37c73bee611d05a",
       "version_major": 2,
       "version_minor": 0
      },
      "text/plain": [
       "Processing Iterations:   0%|          | 0/40 [00:00<?, ?step/s]"
      ]
     },
     "metadata": {},
     "output_type": "display_data"
    },
    {
     "data": {
      "application/vnd.jupyter.widget-view+json": {
       "model_id": "d71950ef2e9743ff8a88b08b2d2ea841",
       "version_major": 2,
       "version_minor": 0
      },
      "text/plain": [
       "Processing Iterations:   0%|          | 0/40 [00:00<?, ?step/s]"
      ]
     },
     "metadata": {},
     "output_type": "display_data"
    },
    {
     "data": {
      "application/vnd.jupyter.widget-view+json": {
       "model_id": "060a2741f55847f2892d23943ecd72d5",
       "version_major": 2,
       "version_minor": 0
      },
      "text/plain": [
       "Processing Iterations:   0%|          | 0/40 [00:00<?, ?step/s]"
      ]
     },
     "metadata": {},
     "output_type": "display_data"
    },
    {
     "data": {
      "application/vnd.jupyter.widget-view+json": {
       "model_id": "e4e9f7db821042edbf1cf392a55624e6",
       "version_major": 2,
       "version_minor": 0
      },
      "text/plain": [
       "Processing Iterations:   0%|          | 0/40 [00:00<?, ?step/s]"
      ]
     },
     "metadata": {},
     "output_type": "display_data"
    },
    {
     "data": {
      "application/vnd.jupyter.widget-view+json": {
       "model_id": "9aa5c5fdc8f047f0ba2206a3169f11eb",
       "version_major": 2,
       "version_minor": 0
      },
      "text/plain": [
       "Processing Iterations:   0%|          | 0/40 [00:00<?, ?step/s]"
      ]
     },
     "metadata": {},
     "output_type": "display_data"
    },
    {
     "data": {
      "application/vnd.jupyter.widget-view+json": {
       "model_id": "e91ac71958644c71922953add38fbd80",
       "version_major": 2,
       "version_minor": 0
      },
      "text/plain": [
       "Processing Iterations:   0%|          | 0/40 [00:00<?, ?step/s]"
      ]
     },
     "metadata": {},
     "output_type": "display_data"
    },
    {
     "data": {
      "application/vnd.jupyter.widget-view+json": {
       "model_id": "cce9dd8fa23848c5bac17f2729c70aac",
       "version_major": 2,
       "version_minor": 0
      },
      "text/plain": [
       "Processing Iterations:   0%|          | 0/40 [00:00<?, ?step/s]"
      ]
     },
     "metadata": {},
     "output_type": "display_data"
    },
    {
     "data": {
      "application/vnd.jupyter.widget-view+json": {
       "model_id": "8f9f7e8dcfa64bdc809a638c2bd9abdb",
       "version_major": 2,
       "version_minor": 0
      },
      "text/plain": [
       "Processing Iterations:   0%|          | 0/40 [00:00<?, ?step/s]"
      ]
     },
     "metadata": {},
     "output_type": "display_data"
    },
    {
     "data": {
      "application/vnd.jupyter.widget-view+json": {
       "model_id": "4c97dda823544b3b888909ff8bf1077b",
       "version_major": 2,
       "version_minor": 0
      },
      "text/plain": [
       "Processing Iterations:   0%|          | 0/40 [00:00<?, ?step/s]"
      ]
     },
     "metadata": {},
     "output_type": "display_data"
    },
    {
     "data": {
      "application/vnd.jupyter.widget-view+json": {
       "model_id": "cf42728483f543f78ac55f48a4e5c4bd",
       "version_major": 2,
       "version_minor": 0
      },
      "text/plain": [
       "Processing Iterations:   0%|          | 0/40 [00:00<?, ?step/s]"
      ]
     },
     "metadata": {},
     "output_type": "display_data"
    },
    {
     "data": {
      "application/vnd.jupyter.widget-view+json": {
       "model_id": "669be5bde26249eda4b8ec06af10663b",
       "version_major": 2,
       "version_minor": 0
      },
      "text/plain": [
       "Processing Iterations:   0%|          | 0/40 [00:00<?, ?step/s]"
      ]
     },
     "metadata": {},
     "output_type": "display_data"
    },
    {
     "data": {
      "application/vnd.jupyter.widget-view+json": {
       "model_id": "713afd2575984da3a47ad81e97fd6457",
       "version_major": 2,
       "version_minor": 0
      },
      "text/plain": [
       "Processing Iterations:   0%|          | 0/40 [00:00<?, ?step/s]"
      ]
     },
     "metadata": {},
     "output_type": "display_data"
    },
    {
     "data": {
      "application/vnd.jupyter.widget-view+json": {
       "model_id": "0351f9bd1d074f7aa8590a511b9aa912",
       "version_major": 2,
       "version_minor": 0
      },
      "text/plain": [
       "Processing Iterations:   0%|          | 0/40 [00:00<?, ?step/s]"
      ]
     },
     "metadata": {},
     "output_type": "display_data"
    },
    {
     "data": {
      "application/vnd.jupyter.widget-view+json": {
       "model_id": "f52d5bec17d845539220e3992c6a431c",
       "version_major": 2,
       "version_minor": 0
      },
      "text/plain": [
       "Processing Iterations:   0%|          | 0/40 [00:00<?, ?step/s]"
      ]
     },
     "metadata": {},
     "output_type": "display_data"
    },
    {
     "data": {
      "application/vnd.jupyter.widget-view+json": {
       "model_id": "d35da0a0f82b448abb6dfbb4fcd0efdd",
       "version_major": 2,
       "version_minor": 0
      },
      "text/plain": [
       "Processing Iterations:   0%|          | 0/40 [00:00<?, ?step/s]"
      ]
     },
     "metadata": {},
     "output_type": "display_data"
    },
    {
     "data": {
      "application/vnd.jupyter.widget-view+json": {
       "model_id": "096539b84dd840ca91c4a26b401a74b4",
       "version_major": 2,
       "version_minor": 0
      },
      "text/plain": [
       "Processing Iterations:   0%|          | 0/40 [00:00<?, ?step/s]"
      ]
     },
     "metadata": {},
     "output_type": "display_data"
    },
    {
     "data": {
      "application/vnd.jupyter.widget-view+json": {
       "model_id": "2653f1c176f44587b6eb8f889c75782e",
       "version_major": 2,
       "version_minor": 0
      },
      "text/plain": [
       "Processing Iterations:   0%|          | 0/40 [00:00<?, ?step/s]"
      ]
     },
     "metadata": {},
     "output_type": "display_data"
    },
    {
     "data": {
      "application/vnd.jupyter.widget-view+json": {
       "model_id": "d81c60c98d164974af1c66c4f6bd7417",
       "version_major": 2,
       "version_minor": 0
      },
      "text/plain": [
       "Processing Iterations:   0%|          | 0/40 [00:00<?, ?step/s]"
      ]
     },
     "metadata": {},
     "output_type": "display_data"
    },
    {
     "data": {
      "application/vnd.jupyter.widget-view+json": {
       "model_id": "cda577d014644f308e7b305eabd93fd2",
       "version_major": 2,
       "version_minor": 0
      },
      "text/plain": [
       "Processing Iterations:   0%|          | 0/40 [00:00<?, ?step/s]"
      ]
     },
     "metadata": {},
     "output_type": "display_data"
    },
    {
     "data": {
      "application/vnd.jupyter.widget-view+json": {
       "model_id": "703eb9e3a3bf4be2807eac8ad414154f",
       "version_major": 2,
       "version_minor": 0
      },
      "text/plain": [
       "Processing Iterations:   0%|          | 0/40 [00:00<?, ?step/s]"
      ]
     },
     "metadata": {},
     "output_type": "display_data"
    },
    {
     "data": {
      "application/vnd.jupyter.widget-view+json": {
       "model_id": "7325fdb777aa4f35a3d0108b8ef0ed0b",
       "version_major": 2,
       "version_minor": 0
      },
      "text/plain": [
       "Processing Iterations:   0%|          | 0/40 [00:00<?, ?step/s]"
      ]
     },
     "metadata": {},
     "output_type": "display_data"
    },
    {
     "data": {
      "application/vnd.jupyter.widget-view+json": {
       "model_id": "b58ac4ac7d674a55be9d16b034273159",
       "version_major": 2,
       "version_minor": 0
      },
      "text/plain": [
       "Processing Iterations:   0%|          | 0/40 [00:00<?, ?step/s]"
      ]
     },
     "metadata": {},
     "output_type": "display_data"
    },
    {
     "data": {
      "application/vnd.jupyter.widget-view+json": {
       "model_id": "00f02ca6ebed495c99fc1f31bd80235b",
       "version_major": 2,
       "version_minor": 0
      },
      "text/plain": [
       "Processing Iterations:   0%|          | 0/40 [00:00<?, ?step/s]"
      ]
     },
     "metadata": {},
     "output_type": "display_data"
    },
    {
     "data": {
      "application/vnd.jupyter.widget-view+json": {
       "model_id": "f88b591985ef4b1e91f73a1054e9bff0",
       "version_major": 2,
       "version_minor": 0
      },
      "text/plain": [
       "Processing Iterations:   0%|          | 0/40 [00:00<?, ?step/s]"
      ]
     },
     "metadata": {},
     "output_type": "display_data"
    },
    {
     "data": {
      "application/vnd.jupyter.widget-view+json": {
       "model_id": "c2bdc7a7157c4724ac94b8cdea89e0d2",
       "version_major": 2,
       "version_minor": 0
      },
      "text/plain": [
       "Processing Iterations:   0%|          | 0/40 [00:00<?, ?step/s]"
      ]
     },
     "metadata": {},
     "output_type": "display_data"
    },
    {
     "data": {
      "application/vnd.jupyter.widget-view+json": {
       "model_id": "02b68c9957c14427969c6801237c3766",
       "version_major": 2,
       "version_minor": 0
      },
      "text/plain": [
       "Processing Iterations:   0%|          | 0/40 [00:00<?, ?step/s]"
      ]
     },
     "metadata": {},
     "output_type": "display_data"
    },
    {
     "data": {
      "application/vnd.jupyter.widget-view+json": {
       "model_id": "12de639f33f3427788ef4eb5df8cad43",
       "version_major": 2,
       "version_minor": 0
      },
      "text/plain": [
       "Processing Iterations:   0%|          | 0/40 [00:00<?, ?step/s]"
      ]
     },
     "metadata": {},
     "output_type": "display_data"
    },
    {
     "data": {
      "application/vnd.jupyter.widget-view+json": {
       "model_id": "886f24f101984c94bb3c2be886ed0bef",
       "version_major": 2,
       "version_minor": 0
      },
      "text/plain": [
       "Processing Iterations:   0%|          | 0/40 [00:00<?, ?step/s]"
      ]
     },
     "metadata": {},
     "output_type": "display_data"
    },
    {
     "data": {
      "application/vnd.jupyter.widget-view+json": {
       "model_id": "f4244e5ca64f49e19bb99b18d87e243b",
       "version_major": 2,
       "version_minor": 0
      },
      "text/plain": [
       "Processing Iterations:   0%|          | 0/40 [00:00<?, ?step/s]"
      ]
     },
     "metadata": {},
     "output_type": "display_data"
    },
    {
     "data": {
      "application/vnd.jupyter.widget-view+json": {
       "model_id": "fe60fc9206844c3781e7b0d7a03a98b3",
       "version_major": 2,
       "version_minor": 0
      },
      "text/plain": [
       "Processing Iterations:   0%|          | 0/40 [00:00<?, ?step/s]"
      ]
     },
     "metadata": {},
     "output_type": "display_data"
    },
    {
     "data": {
      "application/vnd.jupyter.widget-view+json": {
       "model_id": "2597a4a98a6f4142bfd35cb6193cce1f",
       "version_major": 2,
       "version_minor": 0
      },
      "text/plain": [
       "Processing Iterations:   0%|          | 0/40 [00:00<?, ?step/s]"
      ]
     },
     "metadata": {},
     "output_type": "display_data"
    },
    {
     "data": {
      "application/vnd.jupyter.widget-view+json": {
       "model_id": "443e6db4fdd94c119e6c356708b7119c",
       "version_major": 2,
       "version_minor": 0
      },
      "text/plain": [
       "Processing Iterations:   0%|          | 0/40 [00:00<?, ?step/s]"
      ]
     },
     "metadata": {},
     "output_type": "display_data"
    },
    {
     "data": {
      "application/vnd.jupyter.widget-view+json": {
       "model_id": "7d5b2683635a4303a01764d01d9d7fd3",
       "version_major": 2,
       "version_minor": 0
      },
      "text/plain": [
       "Processing Iterations:   0%|          | 0/40 [00:00<?, ?step/s]"
      ]
     },
     "metadata": {},
     "output_type": "display_data"
    },
    {
     "data": {
      "application/vnd.jupyter.widget-view+json": {
       "model_id": "44ac2cf776b8452198c93ba72f029af4",
       "version_major": 2,
       "version_minor": 0
      },
      "text/plain": [
       "Processing Iterations:   0%|          | 0/40 [00:00<?, ?step/s]"
      ]
     },
     "metadata": {},
     "output_type": "display_data"
    },
    {
     "data": {
      "application/vnd.jupyter.widget-view+json": {
       "model_id": "d215f6989e0c4645be032a9b5741e703",
       "version_major": 2,
       "version_minor": 0
      },
      "text/plain": [
       "Processing Iterations:   0%|          | 0/40 [00:00<?, ?step/s]"
      ]
     },
     "metadata": {},
     "output_type": "display_data"
    },
    {
     "data": {
      "application/vnd.jupyter.widget-view+json": {
       "model_id": "2ee06b0f7d5a4946bef5196564ec1c0e",
       "version_major": 2,
       "version_minor": 0
      },
      "text/plain": [
       "Processing Iterations:   0%|          | 0/40 [00:00<?, ?step/s]"
      ]
     },
     "metadata": {},
     "output_type": "display_data"
    },
    {
     "data": {
      "application/vnd.jupyter.widget-view+json": {
       "model_id": "4e4cf0c3d0124bc4bf16ec1e4db24ebb",
       "version_major": 2,
       "version_minor": 0
      },
      "text/plain": [
       "Processing Iterations:   0%|          | 0/40 [00:00<?, ?step/s]"
      ]
     },
     "metadata": {},
     "output_type": "display_data"
    },
    {
     "data": {
      "application/vnd.jupyter.widget-view+json": {
       "model_id": "eb2428e2aa0a4198ab7801b3615c6b7f",
       "version_major": 2,
       "version_minor": 0
      },
      "text/plain": [
       "Processing Iterations:   0%|          | 0/40 [00:00<?, ?step/s]"
      ]
     },
     "metadata": {},
     "output_type": "display_data"
    },
    {
     "data": {
      "application/vnd.jupyter.widget-view+json": {
       "model_id": "6e127a23989243ceacd31f17cd83789a",
       "version_major": 2,
       "version_minor": 0
      },
      "text/plain": [
       "Processing Iterations:   0%|          | 0/40 [00:00<?, ?step/s]"
      ]
     },
     "metadata": {},
     "output_type": "display_data"
    },
    {
     "data": {
      "application/vnd.jupyter.widget-view+json": {
       "model_id": "0e493ba48c3d47cdad3ce124c025cfbe",
       "version_major": 2,
       "version_minor": 0
      },
      "text/plain": [
       "Processing Iterations:   0%|          | 0/40 [00:00<?, ?step/s]"
      ]
     },
     "metadata": {},
     "output_type": "display_data"
    },
    {
     "data": {
      "application/vnd.jupyter.widget-view+json": {
       "model_id": "a45ab65cbf0040c5bb99ac4dd6f522d8",
       "version_major": 2,
       "version_minor": 0
      },
      "text/plain": [
       "Processing Iterations:   0%|          | 0/40 [00:00<?, ?step/s]"
      ]
     },
     "metadata": {},
     "output_type": "display_data"
    },
    {
     "data": {
      "application/vnd.jupyter.widget-view+json": {
       "model_id": "f7ac3bf8ad1144ec8f3d96c9f22c2146",
       "version_major": 2,
       "version_minor": 0
      },
      "text/plain": [
       "Processing Iterations:   0%|          | 0/40 [00:00<?, ?step/s]"
      ]
     },
     "metadata": {},
     "output_type": "display_data"
    },
    {
     "data": {
      "application/vnd.jupyter.widget-view+json": {
       "model_id": "8258b2f8e1444cdb99145b81a581b6ff",
       "version_major": 2,
       "version_minor": 0
      },
      "text/plain": [
       "Processing Iterations:   0%|          | 0/40 [00:00<?, ?step/s]"
      ]
     },
     "metadata": {},
     "output_type": "display_data"
    },
    {
     "data": {
      "application/vnd.jupyter.widget-view+json": {
       "model_id": "e89bace11fcb4e0a81f80dcc98a4329d",
       "version_major": 2,
       "version_minor": 0
      },
      "text/plain": [
       "Processing Iterations:   0%|          | 0/40 [00:00<?, ?step/s]"
      ]
     },
     "metadata": {},
     "output_type": "display_data"
    },
    {
     "data": {
      "application/vnd.jupyter.widget-view+json": {
       "model_id": "a67eb33c23bf49059d03c7d7517c30dc",
       "version_major": 2,
       "version_minor": 0
      },
      "text/plain": [
       "Processing Iterations:   0%|          | 0/40 [00:00<?, ?step/s]"
      ]
     },
     "metadata": {},
     "output_type": "display_data"
    },
    {
     "data": {
      "application/vnd.jupyter.widget-view+json": {
       "model_id": "15f4e90ffad84e97bc5e95903f18e1d3",
       "version_major": 2,
       "version_minor": 0
      },
      "text/plain": [
       "Processing Iterations:   0%|          | 0/40 [00:00<?, ?step/s]"
      ]
     },
     "metadata": {},
     "output_type": "display_data"
    },
    {
     "data": {
      "application/vnd.jupyter.widget-view+json": {
       "model_id": "f2ec93089c384afeb5c3c76cf4aa14ea",
       "version_major": 2,
       "version_minor": 0
      },
      "text/plain": [
       "Processing Iterations:   0%|          | 0/40 [00:00<?, ?step/s]"
      ]
     },
     "metadata": {},
     "output_type": "display_data"
    },
    {
     "data": {
      "application/vnd.jupyter.widget-view+json": {
       "model_id": "3e32f76238b64943adb375cbe2de48ff",
       "version_major": 2,
       "version_minor": 0
      },
      "text/plain": [
       "Processing Iterations:   0%|          | 0/40 [00:00<?, ?step/s]"
      ]
     },
     "metadata": {},
     "output_type": "display_data"
    },
    {
     "data": {
      "application/vnd.jupyter.widget-view+json": {
       "model_id": "90729fda7a6f43a18f02c1349ec17cb2",
       "version_major": 2,
       "version_minor": 0
      },
      "text/plain": [
       "Processing Iterations:   0%|          | 0/40 [00:00<?, ?step/s]"
      ]
     },
     "metadata": {},
     "output_type": "display_data"
    },
    {
     "data": {
      "application/vnd.jupyter.widget-view+json": {
       "model_id": "521a1661356343e692bd3b4f9e0bb4d9",
       "version_major": 2,
       "version_minor": 0
      },
      "text/plain": [
       "Processing Iterations:   0%|          | 0/40 [00:00<?, ?step/s]"
      ]
     },
     "metadata": {},
     "output_type": "display_data"
    },
    {
     "data": {
      "application/vnd.jupyter.widget-view+json": {
       "model_id": "7edb8d3063d04bd5af4ffdc0e8f8efec",
       "version_major": 2,
       "version_minor": 0
      },
      "text/plain": [
       "Processing Iterations:   0%|          | 0/40 [00:00<?, ?step/s]"
      ]
     },
     "metadata": {},
     "output_type": "display_data"
    },
    {
     "data": {
      "application/vnd.jupyter.widget-view+json": {
       "model_id": "5c91b482ff0f49cf94d3916b328d937b",
       "version_major": 2,
       "version_minor": 0
      },
      "text/plain": [
       "Processing Iterations:   0%|          | 0/40 [00:00<?, ?step/s]"
      ]
     },
     "metadata": {},
     "output_type": "display_data"
    },
    {
     "data": {
      "application/vnd.jupyter.widget-view+json": {
       "model_id": "98db6146463b48f39b9fe5acc929df7d",
       "version_major": 2,
       "version_minor": 0
      },
      "text/plain": [
       "Processing Iterations:   0%|          | 0/40 [00:00<?, ?step/s]"
      ]
     },
     "metadata": {},
     "output_type": "display_data"
    },
    {
     "data": {
      "application/vnd.jupyter.widget-view+json": {
       "model_id": "2585109664ea41dc8efe8f7aaf248848",
       "version_major": 2,
       "version_minor": 0
      },
      "text/plain": [
       "Processing Iterations:   0%|          | 0/40 [00:00<?, ?step/s]"
      ]
     },
     "metadata": {},
     "output_type": "display_data"
    },
    {
     "data": {
      "application/vnd.jupyter.widget-view+json": {
       "model_id": "e310718212a544cfb6d60a58467eff30",
       "version_major": 2,
       "version_minor": 0
      },
      "text/plain": [
       "Processing Iterations:   0%|          | 0/40 [00:00<?, ?step/s]"
      ]
     },
     "metadata": {},
     "output_type": "display_data"
    },
    {
     "data": {
      "application/vnd.jupyter.widget-view+json": {
       "model_id": "4645909281df48339861aee928f502d6",
       "version_major": 2,
       "version_minor": 0
      },
      "text/plain": [
       "Processing Iterations:   0%|          | 0/40 [00:00<?, ?step/s]"
      ]
     },
     "metadata": {},
     "output_type": "display_data"
    },
    {
     "data": {
      "application/vnd.jupyter.widget-view+json": {
       "model_id": "8cef6e2133e443aa9c7b595bfcde0760",
       "version_major": 2,
       "version_minor": 0
      },
      "text/plain": [
       "Processing Iterations:   0%|          | 0/40 [00:00<?, ?step/s]"
      ]
     },
     "metadata": {},
     "output_type": "display_data"
    },
    {
     "data": {
      "application/vnd.jupyter.widget-view+json": {
       "model_id": "cdc9cfa97be042cc8aaa01142040a3a9",
       "version_major": 2,
       "version_minor": 0
      },
      "text/plain": [
       "Processing Iterations:   0%|          | 0/40 [00:00<?, ?step/s]"
      ]
     },
     "metadata": {},
     "output_type": "display_data"
    },
    {
     "data": {
      "application/vnd.jupyter.widget-view+json": {
       "model_id": "8f0ee442811644bdbdcb60ccf7491c80",
       "version_major": 2,
       "version_minor": 0
      },
      "text/plain": [
       "Processing Iterations:   0%|          | 0/40 [00:00<?, ?step/s]"
      ]
     },
     "metadata": {},
     "output_type": "display_data"
    },
    {
     "data": {
      "application/vnd.jupyter.widget-view+json": {
       "model_id": "760b4610422f42e08cfaa1bb4ea5e694",
       "version_major": 2,
       "version_minor": 0
      },
      "text/plain": [
       "Processing Iterations:   0%|          | 0/40 [00:00<?, ?step/s]"
      ]
     },
     "metadata": {},
     "output_type": "display_data"
    },
    {
     "data": {
      "application/vnd.jupyter.widget-view+json": {
       "model_id": "9bdb597743a74f49b4bd839d740419b9",
       "version_major": 2,
       "version_minor": 0
      },
      "text/plain": [
       "Processing Iterations:   0%|          | 0/40 [00:00<?, ?step/s]"
      ]
     },
     "metadata": {},
     "output_type": "display_data"
    },
    {
     "data": {
      "application/vnd.jupyter.widget-view+json": {
       "model_id": "bb0d235a084645d19618b1a6e26b1566",
       "version_major": 2,
       "version_minor": 0
      },
      "text/plain": [
       "Processing Iterations:   0%|          | 0/40 [00:00<?, ?step/s]"
      ]
     },
     "metadata": {},
     "output_type": "display_data"
    },
    {
     "data": {
      "application/vnd.jupyter.widget-view+json": {
       "model_id": "bcb83f85950a4be896696302c289d716",
       "version_major": 2,
       "version_minor": 0
      },
      "text/plain": [
       "Processing Iterations:   0%|          | 0/40 [00:00<?, ?step/s]"
      ]
     },
     "metadata": {},
     "output_type": "display_data"
    },
    {
     "data": {
      "application/vnd.jupyter.widget-view+json": {
       "model_id": "fe748fb2d84a4785ba60e53cfccc68d6",
       "version_major": 2,
       "version_minor": 0
      },
      "text/plain": [
       "Processing Iterations:   0%|          | 0/40 [00:00<?, ?step/s]"
      ]
     },
     "metadata": {},
     "output_type": "display_data"
    },
    {
     "data": {
      "application/vnd.jupyter.widget-view+json": {
       "model_id": "4a0539604f93469e8f323b83bac0c153",
       "version_major": 2,
       "version_minor": 0
      },
      "text/plain": [
       "Processing Iterations:   0%|          | 0/40 [00:00<?, ?step/s]"
      ]
     },
     "metadata": {},
     "output_type": "display_data"
    },
    {
     "data": {
      "application/vnd.jupyter.widget-view+json": {
       "model_id": "f864f7dffcad401a85ef0d52c54d2c10",
       "version_major": 2,
       "version_minor": 0
      },
      "text/plain": [
       "Processing Iterations:   0%|          | 0/40 [00:00<?, ?step/s]"
      ]
     },
     "metadata": {},
     "output_type": "display_data"
    },
    {
     "data": {
      "application/vnd.jupyter.widget-view+json": {
       "model_id": "07522b96f7814f1090415823dff2f643",
       "version_major": 2,
       "version_minor": 0
      },
      "text/plain": [
       "Processing Iterations:   0%|          | 0/40 [00:00<?, ?step/s]"
      ]
     },
     "metadata": {},
     "output_type": "display_data"
    },
    {
     "data": {
      "application/vnd.jupyter.widget-view+json": {
       "model_id": "ee2856c12cf045f686b9c9e83fc4bf62",
       "version_major": 2,
       "version_minor": 0
      },
      "text/plain": [
       "Processing Iterations:   0%|          | 0/40 [00:00<?, ?step/s]"
      ]
     },
     "metadata": {},
     "output_type": "display_data"
    },
    {
     "data": {
      "application/vnd.jupyter.widget-view+json": {
       "model_id": "f844bb068df943e68622254f099a1a90",
       "version_major": 2,
       "version_minor": 0
      },
      "text/plain": [
       "Processing Iterations:   0%|          | 0/40 [00:00<?, ?step/s]"
      ]
     },
     "metadata": {},
     "output_type": "display_data"
    },
    {
     "data": {
      "application/vnd.jupyter.widget-view+json": {
       "model_id": "b6018402ce4044369f8756ba3401a352",
       "version_major": 2,
       "version_minor": 0
      },
      "text/plain": [
       "Processing Iterations:   0%|          | 0/40 [00:00<?, ?step/s]"
      ]
     },
     "metadata": {},
     "output_type": "display_data"
    },
    {
     "data": {
      "application/vnd.jupyter.widget-view+json": {
       "model_id": "b04a5ec6ad2441f0bc39c1adc5787eea",
       "version_major": 2,
       "version_minor": 0
      },
      "text/plain": [
       "Processing Iterations:   0%|          | 0/40 [00:00<?, ?step/s]"
      ]
     },
     "metadata": {},
     "output_type": "display_data"
    },
    {
     "data": {
      "application/vnd.jupyter.widget-view+json": {
       "model_id": "30d5de9d2ce14d7f936e93919d4e6f32",
       "version_major": 2,
       "version_minor": 0
      },
      "text/plain": [
       "Processing Iterations:   0%|          | 0/40 [00:00<?, ?step/s]"
      ]
     },
     "metadata": {},
     "output_type": "display_data"
    },
    {
     "data": {
      "application/vnd.jupyter.widget-view+json": {
       "model_id": "ad9f2fd5dd844130a2484dda7b64e7e9",
       "version_major": 2,
       "version_minor": 0
      },
      "text/plain": [
       "Processing Iterations:   0%|          | 0/40 [00:00<?, ?step/s]"
      ]
     },
     "metadata": {},
     "output_type": "display_data"
    },
    {
     "data": {
      "application/vnd.jupyter.widget-view+json": {
       "model_id": "78ac604162ef4ee5bf28e94af49c0c5a",
       "version_major": 2,
       "version_minor": 0
      },
      "text/plain": [
       "Processing Iterations:   0%|          | 0/40 [00:00<?, ?step/s]"
      ]
     },
     "metadata": {},
     "output_type": "display_data"
    },
    {
     "data": {
      "application/vnd.jupyter.widget-view+json": {
       "model_id": "259f72e115924f51b2c7b74b0177c7a2",
       "version_major": 2,
       "version_minor": 0
      },
      "text/plain": [
       "Processing Iterations:   0%|          | 0/40 [00:00<?, ?step/s]"
      ]
     },
     "metadata": {},
     "output_type": "display_data"
    },
    {
     "data": {
      "application/vnd.jupyter.widget-view+json": {
       "model_id": "13cb44914abe4e04892dab97a7294f3d",
       "version_major": 2,
       "version_minor": 0
      },
      "text/plain": [
       "Processing Iterations:   0%|          | 0/40 [00:00<?, ?step/s]"
      ]
     },
     "metadata": {},
     "output_type": "display_data"
    },
    {
     "data": {
      "application/vnd.jupyter.widget-view+json": {
       "model_id": "5370d0fd369946b795f580f37190a821",
       "version_major": 2,
       "version_minor": 0
      },
      "text/plain": [
       "Processing Iterations:   0%|          | 0/40 [00:00<?, ?step/s]"
      ]
     },
     "metadata": {},
     "output_type": "display_data"
    },
    {
     "data": {
      "application/vnd.jupyter.widget-view+json": {
       "model_id": "eb34f35d4f2f4a68a3498d55c6ea21e7",
       "version_major": 2,
       "version_minor": 0
      },
      "text/plain": [
       "Processing Iterations:   0%|          | 0/40 [00:00<?, ?step/s]"
      ]
     },
     "metadata": {},
     "output_type": "display_data"
    },
    {
     "data": {
      "application/vnd.jupyter.widget-view+json": {
       "model_id": "4869ef74bcff4820aa02e5068cf2c5a0",
       "version_major": 2,
       "version_minor": 0
      },
      "text/plain": [
       "Processing Iterations:   0%|          | 0/40 [00:00<?, ?step/s]"
      ]
     },
     "metadata": {},
     "output_type": "display_data"
    },
    {
     "data": {
      "application/vnd.jupyter.widget-view+json": {
       "model_id": "9cbf33e162b843309f71ca29b10f3455",
       "version_major": 2,
       "version_minor": 0
      },
      "text/plain": [
       "Processing Iterations:   0%|          | 0/40 [00:00<?, ?step/s]"
      ]
     },
     "metadata": {},
     "output_type": "display_data"
    },
    {
     "name": "stdout",
     "output_type": "stream",
     "text": [
      "GIF saved as 'gifs/Prob distribution vs. Delta, Vertex count is 14, and initial entropy is 2.639.gif'\n"
     ]
    },
    {
     "data": {
      "application/vnd.jupyter.widget-view+json": {
       "model_id": "397b5c5218084e15984f212cebecf6c3",
       "version_major": 2,
       "version_minor": 0
      },
      "text/plain": [
       "Processing Iterations:   0%|          | 0/40 [00:00<?, ?step/s]"
      ]
     },
     "metadata": {},
     "output_type": "display_data"
    },
    {
     "data": {
      "application/vnd.jupyter.widget-view+json": {
       "model_id": "077045839acb41db95cd86b736628a03",
       "version_major": 2,
       "version_minor": 0
      },
      "text/plain": [
       "Processing Iterations:   0%|          | 0/40 [00:00<?, ?step/s]"
      ]
     },
     "metadata": {},
     "output_type": "display_data"
    },
    {
     "data": {
      "application/vnd.jupyter.widget-view+json": {
       "model_id": "546cfb8745d345079dbd8f4761e7e1da",
       "version_major": 2,
       "version_minor": 0
      },
      "text/plain": [
       "Processing Iterations:   0%|          | 0/40 [00:00<?, ?step/s]"
      ]
     },
     "metadata": {},
     "output_type": "display_data"
    },
    {
     "data": {
      "application/vnd.jupyter.widget-view+json": {
       "model_id": "a5ed71e145664b2eb56b7ab58cd0c192",
       "version_major": 2,
       "version_minor": 0
      },
      "text/plain": [
       "Processing Iterations:   0%|          | 0/40 [00:00<?, ?step/s]"
      ]
     },
     "metadata": {},
     "output_type": "display_data"
    },
    {
     "data": {
      "application/vnd.jupyter.widget-view+json": {
       "model_id": "3a6a830591a14806b5d9490c57e0af4f",
       "version_major": 2,
       "version_minor": 0
      },
      "text/plain": [
       "Processing Iterations:   0%|          | 0/40 [00:00<?, ?step/s]"
      ]
     },
     "metadata": {},
     "output_type": "display_data"
    },
    {
     "data": {
      "application/vnd.jupyter.widget-view+json": {
       "model_id": "6c006ab81a804bdc891c41f88e3411af",
       "version_major": 2,
       "version_minor": 0
      },
      "text/plain": [
       "Processing Iterations:   0%|          | 0/40 [00:00<?, ?step/s]"
      ]
     },
     "metadata": {},
     "output_type": "display_data"
    },
    {
     "data": {
      "application/vnd.jupyter.widget-view+json": {
       "model_id": "58a472963150466084ea6b527e8cf803",
       "version_major": 2,
       "version_minor": 0
      },
      "text/plain": [
       "Processing Iterations:   0%|          | 0/40 [00:00<?, ?step/s]"
      ]
     },
     "metadata": {},
     "output_type": "display_data"
    },
    {
     "data": {
      "application/vnd.jupyter.widget-view+json": {
       "model_id": "3f24dec691294dfea755f1eecc360dde",
       "version_major": 2,
       "version_minor": 0
      },
      "text/plain": [
       "Processing Iterations:   0%|          | 0/40 [00:00<?, ?step/s]"
      ]
     },
     "metadata": {},
     "output_type": "display_data"
    },
    {
     "data": {
      "application/vnd.jupyter.widget-view+json": {
       "model_id": "ccd798f83b014f0891eb82358c7f4902",
       "version_major": 2,
       "version_minor": 0
      },
      "text/plain": [
       "Processing Iterations:   0%|          | 0/40 [00:00<?, ?step/s]"
      ]
     },
     "metadata": {},
     "output_type": "display_data"
    },
    {
     "data": {
      "application/vnd.jupyter.widget-view+json": {
       "model_id": "b08360a8e7ae4c07a664ad836d71336c",
       "version_major": 2,
       "version_minor": 0
      },
      "text/plain": [
       "Processing Iterations:   0%|          | 0/40 [00:00<?, ?step/s]"
      ]
     },
     "metadata": {},
     "output_type": "display_data"
    },
    {
     "data": {
      "application/vnd.jupyter.widget-view+json": {
       "model_id": "87cff95d950e439ebc2fc140511b67d1",
       "version_major": 2,
       "version_minor": 0
      },
      "text/plain": [
       "Processing Iterations:   0%|          | 0/40 [00:00<?, ?step/s]"
      ]
     },
     "metadata": {},
     "output_type": "display_data"
    },
    {
     "data": {
      "application/vnd.jupyter.widget-view+json": {
       "model_id": "5c4f52976110420989597a336c851942",
       "version_major": 2,
       "version_minor": 0
      },
      "text/plain": [
       "Processing Iterations:   0%|          | 0/40 [00:00<?, ?step/s]"
      ]
     },
     "metadata": {},
     "output_type": "display_data"
    },
    {
     "data": {
      "application/vnd.jupyter.widget-view+json": {
       "model_id": "f681d63574ea4731bea41490da0bf43d",
       "version_major": 2,
       "version_minor": 0
      },
      "text/plain": [
       "Processing Iterations:   0%|          | 0/40 [00:00<?, ?step/s]"
      ]
     },
     "metadata": {},
     "output_type": "display_data"
    },
    {
     "data": {
      "application/vnd.jupyter.widget-view+json": {
       "model_id": "1476409abe764e8a959faed6b60d5de6",
       "version_major": 2,
       "version_minor": 0
      },
      "text/plain": [
       "Processing Iterations:   0%|          | 0/40 [00:00<?, ?step/s]"
      ]
     },
     "metadata": {},
     "output_type": "display_data"
    },
    {
     "data": {
      "application/vnd.jupyter.widget-view+json": {
       "model_id": "cd100a5690864c31af07af6b5e40774e",
       "version_major": 2,
       "version_minor": 0
      },
      "text/plain": [
       "Processing Iterations:   0%|          | 0/40 [00:00<?, ?step/s]"
      ]
     },
     "metadata": {},
     "output_type": "display_data"
    },
    {
     "data": {
      "application/vnd.jupyter.widget-view+json": {
       "model_id": "9f5067492a7949cc850af72fedfc1bf6",
       "version_major": 2,
       "version_minor": 0
      },
      "text/plain": [
       "Processing Iterations:   0%|          | 0/40 [00:00<?, ?step/s]"
      ]
     },
     "metadata": {},
     "output_type": "display_data"
    },
    {
     "data": {
      "application/vnd.jupyter.widget-view+json": {
       "model_id": "48b7f153f55a4e7f915aa44110f358a3",
       "version_major": 2,
       "version_minor": 0
      },
      "text/plain": [
       "Processing Iterations:   0%|          | 0/40 [00:00<?, ?step/s]"
      ]
     },
     "metadata": {},
     "output_type": "display_data"
    },
    {
     "data": {
      "application/vnd.jupyter.widget-view+json": {
       "model_id": "74fb6d3fab7d4220986912f285498df1",
       "version_major": 2,
       "version_minor": 0
      },
      "text/plain": [
       "Processing Iterations:   0%|          | 0/40 [00:00<?, ?step/s]"
      ]
     },
     "metadata": {},
     "output_type": "display_data"
    },
    {
     "data": {
      "application/vnd.jupyter.widget-view+json": {
       "model_id": "ad36fe16e1b745759b742985cbf4804c",
       "version_major": 2,
       "version_minor": 0
      },
      "text/plain": [
       "Processing Iterations:   0%|          | 0/40 [00:00<?, ?step/s]"
      ]
     },
     "metadata": {},
     "output_type": "display_data"
    },
    {
     "data": {
      "application/vnd.jupyter.widget-view+json": {
       "model_id": "6fb2512d16a14068bc320d3fd0af4601",
       "version_major": 2,
       "version_minor": 0
      },
      "text/plain": [
       "Processing Iterations:   0%|          | 0/40 [00:00<?, ?step/s]"
      ]
     },
     "metadata": {},
     "output_type": "display_data"
    },
    {
     "data": {
      "application/vnd.jupyter.widget-view+json": {
       "model_id": "9d962d4892ff4186ad5fe337f4bebdc0",
       "version_major": 2,
       "version_minor": 0
      },
      "text/plain": [
       "Processing Iterations:   0%|          | 0/40 [00:00<?, ?step/s]"
      ]
     },
     "metadata": {},
     "output_type": "display_data"
    },
    {
     "data": {
      "application/vnd.jupyter.widget-view+json": {
       "model_id": "61d9d8d61a31411d9ba6ee20eb2be339",
       "version_major": 2,
       "version_minor": 0
      },
      "text/plain": [
       "Processing Iterations:   0%|          | 0/40 [00:00<?, ?step/s]"
      ]
     },
     "metadata": {},
     "output_type": "display_data"
    },
    {
     "data": {
      "application/vnd.jupyter.widget-view+json": {
       "model_id": "6ea51f53a2434406aa6395fbe6a6b30c",
       "version_major": 2,
       "version_minor": 0
      },
      "text/plain": [
       "Processing Iterations:   0%|          | 0/40 [00:00<?, ?step/s]"
      ]
     },
     "metadata": {},
     "output_type": "display_data"
    },
    {
     "data": {
      "application/vnd.jupyter.widget-view+json": {
       "model_id": "2ed40f13819d48aa8fec4980fe57e52f",
       "version_major": 2,
       "version_minor": 0
      },
      "text/plain": [
       "Processing Iterations:   0%|          | 0/40 [00:00<?, ?step/s]"
      ]
     },
     "metadata": {},
     "output_type": "display_data"
    },
    {
     "data": {
      "application/vnd.jupyter.widget-view+json": {
       "model_id": "d7d472884614401194314da2567466f1",
       "version_major": 2,
       "version_minor": 0
      },
      "text/plain": [
       "Processing Iterations:   0%|          | 0/40 [00:00<?, ?step/s]"
      ]
     },
     "metadata": {},
     "output_type": "display_data"
    },
    {
     "data": {
      "application/vnd.jupyter.widget-view+json": {
       "model_id": "ade2799b0adc4604b0a507193acef49e",
       "version_major": 2,
       "version_minor": 0
      },
      "text/plain": [
       "Processing Iterations:   0%|          | 0/40 [00:00<?, ?step/s]"
      ]
     },
     "metadata": {},
     "output_type": "display_data"
    },
    {
     "data": {
      "application/vnd.jupyter.widget-view+json": {
       "model_id": "fffe62a46dd7487b81cd0d1765511c7f",
       "version_major": 2,
       "version_minor": 0
      },
      "text/plain": [
       "Processing Iterations:   0%|          | 0/40 [00:00<?, ?step/s]"
      ]
     },
     "metadata": {},
     "output_type": "display_data"
    },
    {
     "data": {
      "application/vnd.jupyter.widget-view+json": {
       "model_id": "69ca8035ba3d40ea804044c52d373252",
       "version_major": 2,
       "version_minor": 0
      },
      "text/plain": [
       "Processing Iterations:   0%|          | 0/40 [00:00<?, ?step/s]"
      ]
     },
     "metadata": {},
     "output_type": "display_data"
    },
    {
     "data": {
      "application/vnd.jupyter.widget-view+json": {
       "model_id": "0a6ccf58e01b4c8cad0bfb8bdcc8056c",
       "version_major": 2,
       "version_minor": 0
      },
      "text/plain": [
       "Processing Iterations:   0%|          | 0/40 [00:00<?, ?step/s]"
      ]
     },
     "metadata": {},
     "output_type": "display_data"
    },
    {
     "data": {
      "application/vnd.jupyter.widget-view+json": {
       "model_id": "9389f09d3c59499e867019042f4cc22e",
       "version_major": 2,
       "version_minor": 0
      },
      "text/plain": [
       "Processing Iterations:   0%|          | 0/40 [00:00<?, ?step/s]"
      ]
     },
     "metadata": {},
     "output_type": "display_data"
    },
    {
     "data": {
      "application/vnd.jupyter.widget-view+json": {
       "model_id": "7a04624bc40747119237b3639d40ae3a",
       "version_major": 2,
       "version_minor": 0
      },
      "text/plain": [
       "Processing Iterations:   0%|          | 0/40 [00:00<?, ?step/s]"
      ]
     },
     "metadata": {},
     "output_type": "display_data"
    },
    {
     "data": {
      "application/vnd.jupyter.widget-view+json": {
       "model_id": "dd575c74b8b748d1a9537621a011f0fe",
       "version_major": 2,
       "version_minor": 0
      },
      "text/plain": [
       "Processing Iterations:   0%|          | 0/40 [00:00<?, ?step/s]"
      ]
     },
     "metadata": {},
     "output_type": "display_data"
    },
    {
     "data": {
      "application/vnd.jupyter.widget-view+json": {
       "model_id": "322d00767a7f44cc947856279b8256ef",
       "version_major": 2,
       "version_minor": 0
      },
      "text/plain": [
       "Processing Iterations:   0%|          | 0/40 [00:00<?, ?step/s]"
      ]
     },
     "metadata": {},
     "output_type": "display_data"
    },
    {
     "data": {
      "application/vnd.jupyter.widget-view+json": {
       "model_id": "4e90bcf3105340f99a998b915e386be5",
       "version_major": 2,
       "version_minor": 0
      },
      "text/plain": [
       "Processing Iterations:   0%|          | 0/40 [00:00<?, ?step/s]"
      ]
     },
     "metadata": {},
     "output_type": "display_data"
    },
    {
     "data": {
      "application/vnd.jupyter.widget-view+json": {
       "model_id": "4d818acc380d4e7c93a8124f88dcd8b4",
       "version_major": 2,
       "version_minor": 0
      },
      "text/plain": [
       "Processing Iterations:   0%|          | 0/40 [00:00<?, ?step/s]"
      ]
     },
     "metadata": {},
     "output_type": "display_data"
    },
    {
     "data": {
      "application/vnd.jupyter.widget-view+json": {
       "model_id": "9f68108b4052480aa0cc3bbd6e5d1bc2",
       "version_major": 2,
       "version_minor": 0
      },
      "text/plain": [
       "Processing Iterations:   0%|          | 0/40 [00:00<?, ?step/s]"
      ]
     },
     "metadata": {},
     "output_type": "display_data"
    },
    {
     "data": {
      "application/vnd.jupyter.widget-view+json": {
       "model_id": "d7904b4e71d44dd7ba689634a50532ee",
       "version_major": 2,
       "version_minor": 0
      },
      "text/plain": [
       "Processing Iterations:   0%|          | 0/40 [00:00<?, ?step/s]"
      ]
     },
     "metadata": {},
     "output_type": "display_data"
    },
    {
     "data": {
      "application/vnd.jupyter.widget-view+json": {
       "model_id": "ab47e10de08448e2bf9514e7dfc434a4",
       "version_major": 2,
       "version_minor": 0
      },
      "text/plain": [
       "Processing Iterations:   0%|          | 0/40 [00:00<?, ?step/s]"
      ]
     },
     "metadata": {},
     "output_type": "display_data"
    },
    {
     "data": {
      "application/vnd.jupyter.widget-view+json": {
       "model_id": "7bbdd74343be427095e4c52740fe2138",
       "version_major": 2,
       "version_minor": 0
      },
      "text/plain": [
       "Processing Iterations:   0%|          | 0/40 [00:00<?, ?step/s]"
      ]
     },
     "metadata": {},
     "output_type": "display_data"
    },
    {
     "data": {
      "application/vnd.jupyter.widget-view+json": {
       "model_id": "e4608c4548bb449ab53f11e7214bf7d3",
       "version_major": 2,
       "version_minor": 0
      },
      "text/plain": [
       "Processing Iterations:   0%|          | 0/40 [00:00<?, ?step/s]"
      ]
     },
     "metadata": {},
     "output_type": "display_data"
    },
    {
     "data": {
      "application/vnd.jupyter.widget-view+json": {
       "model_id": "adf93a8ac67d4828a62dfaa151a83ed2",
       "version_major": 2,
       "version_minor": 0
      },
      "text/plain": [
       "Processing Iterations:   0%|          | 0/40 [00:00<?, ?step/s]"
      ]
     },
     "metadata": {},
     "output_type": "display_data"
    },
    {
     "data": {
      "application/vnd.jupyter.widget-view+json": {
       "model_id": "e9fa59b6ad2f422ca2040fef0506555b",
       "version_major": 2,
       "version_minor": 0
      },
      "text/plain": [
       "Processing Iterations:   0%|          | 0/40 [00:00<?, ?step/s]"
      ]
     },
     "metadata": {},
     "output_type": "display_data"
    },
    {
     "data": {
      "application/vnd.jupyter.widget-view+json": {
       "model_id": "501e32a7d9104ab4a7e31ec88f8ae8d1",
       "version_major": 2,
       "version_minor": 0
      },
      "text/plain": [
       "Processing Iterations:   0%|          | 0/40 [00:00<?, ?step/s]"
      ]
     },
     "metadata": {},
     "output_type": "display_data"
    },
    {
     "data": {
      "application/vnd.jupyter.widget-view+json": {
       "model_id": "65e0b5eac31446b0b7e80575eef71883",
       "version_major": 2,
       "version_minor": 0
      },
      "text/plain": [
       "Processing Iterations:   0%|          | 0/40 [00:00<?, ?step/s]"
      ]
     },
     "metadata": {},
     "output_type": "display_data"
    },
    {
     "data": {
      "application/vnd.jupyter.widget-view+json": {
       "model_id": "316e06847ffd4774af7f0ec28b45cdd6",
       "version_major": 2,
       "version_minor": 0
      },
      "text/plain": [
       "Processing Iterations:   0%|          | 0/40 [00:00<?, ?step/s]"
      ]
     },
     "metadata": {},
     "output_type": "display_data"
    },
    {
     "data": {
      "application/vnd.jupyter.widget-view+json": {
       "model_id": "f10791acb25a40f4bcbfa7e276f0ea9a",
       "version_major": 2,
       "version_minor": 0
      },
      "text/plain": [
       "Processing Iterations:   0%|          | 0/40 [00:00<?, ?step/s]"
      ]
     },
     "metadata": {},
     "output_type": "display_data"
    },
    {
     "data": {
      "application/vnd.jupyter.widget-view+json": {
       "model_id": "150da5d71fed4cddb98ef4f01cb4840e",
       "version_major": 2,
       "version_minor": 0
      },
      "text/plain": [
       "Processing Iterations:   0%|          | 0/40 [00:00<?, ?step/s]"
      ]
     },
     "metadata": {},
     "output_type": "display_data"
    },
    {
     "data": {
      "application/vnd.jupyter.widget-view+json": {
       "model_id": "a3ab716ff1974c259fe01701db70ad06",
       "version_major": 2,
       "version_minor": 0
      },
      "text/plain": [
       "Processing Iterations:   0%|          | 0/40 [00:00<?, ?step/s]"
      ]
     },
     "metadata": {},
     "output_type": "display_data"
    },
    {
     "data": {
      "application/vnd.jupyter.widget-view+json": {
       "model_id": "392162393ccb46239a2340d426d5f75d",
       "version_major": 2,
       "version_minor": 0
      },
      "text/plain": [
       "Processing Iterations:   0%|          | 0/40 [00:00<?, ?step/s]"
      ]
     },
     "metadata": {},
     "output_type": "display_data"
    },
    {
     "data": {
      "application/vnd.jupyter.widget-view+json": {
       "model_id": "0d20ec0e70034eec93f82941b19455dd",
       "version_major": 2,
       "version_minor": 0
      },
      "text/plain": [
       "Processing Iterations:   0%|          | 0/40 [00:00<?, ?step/s]"
      ]
     },
     "metadata": {},
     "output_type": "display_data"
    },
    {
     "data": {
      "application/vnd.jupyter.widget-view+json": {
       "model_id": "4d41be0ed8bc4c16b134bd82848bd57e",
       "version_major": 2,
       "version_minor": 0
      },
      "text/plain": [
       "Processing Iterations:   0%|          | 0/40 [00:00<?, ?step/s]"
      ]
     },
     "metadata": {},
     "output_type": "display_data"
    },
    {
     "data": {
      "application/vnd.jupyter.widget-view+json": {
       "model_id": "4ff000ed82aa4c4295d7a5b319519c77",
       "version_major": 2,
       "version_minor": 0
      },
      "text/plain": [
       "Processing Iterations:   0%|          | 0/40 [00:00<?, ?step/s]"
      ]
     },
     "metadata": {},
     "output_type": "display_data"
    },
    {
     "data": {
      "application/vnd.jupyter.widget-view+json": {
       "model_id": "196d4417fc0641b5b58a49403b13d491",
       "version_major": 2,
       "version_minor": 0
      },
      "text/plain": [
       "Processing Iterations:   0%|          | 0/40 [00:00<?, ?step/s]"
      ]
     },
     "metadata": {},
     "output_type": "display_data"
    },
    {
     "data": {
      "application/vnd.jupyter.widget-view+json": {
       "model_id": "8759bdd7963c4ee8a03e8c314b09d5e5",
       "version_major": 2,
       "version_minor": 0
      },
      "text/plain": [
       "Processing Iterations:   0%|          | 0/40 [00:00<?, ?step/s]"
      ]
     },
     "metadata": {},
     "output_type": "display_data"
    },
    {
     "data": {
      "application/vnd.jupyter.widget-view+json": {
       "model_id": "ab805237f71b44c0a7d9e9609ad74e47",
       "version_major": 2,
       "version_minor": 0
      },
      "text/plain": [
       "Processing Iterations:   0%|          | 0/40 [00:00<?, ?step/s]"
      ]
     },
     "metadata": {},
     "output_type": "display_data"
    },
    {
     "data": {
      "application/vnd.jupyter.widget-view+json": {
       "model_id": "24cc1307c7e34bd99382cb1b15ec2905",
       "version_major": 2,
       "version_minor": 0
      },
      "text/plain": [
       "Processing Iterations:   0%|          | 0/40 [00:00<?, ?step/s]"
      ]
     },
     "metadata": {},
     "output_type": "display_data"
    },
    {
     "data": {
      "application/vnd.jupyter.widget-view+json": {
       "model_id": "bffbfa9a8c09420785194fcdad5d2016",
       "version_major": 2,
       "version_minor": 0
      },
      "text/plain": [
       "Processing Iterations:   0%|          | 0/40 [00:00<?, ?step/s]"
      ]
     },
     "metadata": {},
     "output_type": "display_data"
    },
    {
     "data": {
      "application/vnd.jupyter.widget-view+json": {
       "model_id": "75629f2cff19497785773f464d34f8cd",
       "version_major": 2,
       "version_minor": 0
      },
      "text/plain": [
       "Processing Iterations:   0%|          | 0/40 [00:00<?, ?step/s]"
      ]
     },
     "metadata": {},
     "output_type": "display_data"
    },
    {
     "data": {
      "application/vnd.jupyter.widget-view+json": {
       "model_id": "740ff1ed839a4c53a80fe4d6e6faf9c1",
       "version_major": 2,
       "version_minor": 0
      },
      "text/plain": [
       "Processing Iterations:   0%|          | 0/40 [00:00<?, ?step/s]"
      ]
     },
     "metadata": {},
     "output_type": "display_data"
    },
    {
     "data": {
      "application/vnd.jupyter.widget-view+json": {
       "model_id": "5432ce66bb9d4f14a1e854c12321f156",
       "version_major": 2,
       "version_minor": 0
      },
      "text/plain": [
       "Processing Iterations:   0%|          | 0/40 [00:00<?, ?step/s]"
      ]
     },
     "metadata": {},
     "output_type": "display_data"
    },
    {
     "data": {
      "application/vnd.jupyter.widget-view+json": {
       "model_id": "fed9260529204ecab3c14707ba88c688",
       "version_major": 2,
       "version_minor": 0
      },
      "text/plain": [
       "Processing Iterations:   0%|          | 0/40 [00:00<?, ?step/s]"
      ]
     },
     "metadata": {},
     "output_type": "display_data"
    },
    {
     "data": {
      "application/vnd.jupyter.widget-view+json": {
       "model_id": "8526919ef16342afa3f6e928bfa532bc",
       "version_major": 2,
       "version_minor": 0
      },
      "text/plain": [
       "Processing Iterations:   0%|          | 0/40 [00:00<?, ?step/s]"
      ]
     },
     "metadata": {},
     "output_type": "display_data"
    },
    {
     "data": {
      "application/vnd.jupyter.widget-view+json": {
       "model_id": "ce68269c02694a128139ce2008f25029",
       "version_major": 2,
       "version_minor": 0
      },
      "text/plain": [
       "Processing Iterations:   0%|          | 0/40 [00:00<?, ?step/s]"
      ]
     },
     "metadata": {},
     "output_type": "display_data"
    },
    {
     "data": {
      "application/vnd.jupyter.widget-view+json": {
       "model_id": "3424ea1ae7044f0a83a0c0905b9d1f03",
       "version_major": 2,
       "version_minor": 0
      },
      "text/plain": [
       "Processing Iterations:   0%|          | 0/40 [00:00<?, ?step/s]"
      ]
     },
     "metadata": {},
     "output_type": "display_data"
    },
    {
     "data": {
      "application/vnd.jupyter.widget-view+json": {
       "model_id": "5a461128efd04a4fb331793a78b4240f",
       "version_major": 2,
       "version_minor": 0
      },
      "text/plain": [
       "Processing Iterations:   0%|          | 0/40 [00:00<?, ?step/s]"
      ]
     },
     "metadata": {},
     "output_type": "display_data"
    },
    {
     "data": {
      "application/vnd.jupyter.widget-view+json": {
       "model_id": "250f924eee1a4dadbdf04f535327601d",
       "version_major": 2,
       "version_minor": 0
      },
      "text/plain": [
       "Processing Iterations:   0%|          | 0/40 [00:00<?, ?step/s]"
      ]
     },
     "metadata": {},
     "output_type": "display_data"
    },
    {
     "data": {
      "application/vnd.jupyter.widget-view+json": {
       "model_id": "90e1466819b84b0783eff596a2602b37",
       "version_major": 2,
       "version_minor": 0
      },
      "text/plain": [
       "Processing Iterations:   0%|          | 0/40 [00:00<?, ?step/s]"
      ]
     },
     "metadata": {},
     "output_type": "display_data"
    },
    {
     "data": {
      "application/vnd.jupyter.widget-view+json": {
       "model_id": "fb1f514edc4440138df27a3494d0006f",
       "version_major": 2,
       "version_minor": 0
      },
      "text/plain": [
       "Processing Iterations:   0%|          | 0/40 [00:00<?, ?step/s]"
      ]
     },
     "metadata": {},
     "output_type": "display_data"
    },
    {
     "data": {
      "application/vnd.jupyter.widget-view+json": {
       "model_id": "df8fcc764492443dad3c45474815d564",
       "version_major": 2,
       "version_minor": 0
      },
      "text/plain": [
       "Processing Iterations:   0%|          | 0/40 [00:00<?, ?step/s]"
      ]
     },
     "metadata": {},
     "output_type": "display_data"
    },
    {
     "data": {
      "application/vnd.jupyter.widget-view+json": {
       "model_id": "96da85bee8b94b06a12d5be38c0ea581",
       "version_major": 2,
       "version_minor": 0
      },
      "text/plain": [
       "Processing Iterations:   0%|          | 0/40 [00:00<?, ?step/s]"
      ]
     },
     "metadata": {},
     "output_type": "display_data"
    },
    {
     "data": {
      "application/vnd.jupyter.widget-view+json": {
       "model_id": "09ae9e3da69b498eac4ba098c56c0a39",
       "version_major": 2,
       "version_minor": 0
      },
      "text/plain": [
       "Processing Iterations:   0%|          | 0/40 [00:00<?, ?step/s]"
      ]
     },
     "metadata": {},
     "output_type": "display_data"
    },
    {
     "data": {
      "application/vnd.jupyter.widget-view+json": {
       "model_id": "84423073fb8f4aae9753af1308ca14bb",
       "version_major": 2,
       "version_minor": 0
      },
      "text/plain": [
       "Processing Iterations:   0%|          | 0/40 [00:00<?, ?step/s]"
      ]
     },
     "metadata": {},
     "output_type": "display_data"
    },
    {
     "data": {
      "application/vnd.jupyter.widget-view+json": {
       "model_id": "995bb89050204982a5857628b9912263",
       "version_major": 2,
       "version_minor": 0
      },
      "text/plain": [
       "Processing Iterations:   0%|          | 0/40 [00:00<?, ?step/s]"
      ]
     },
     "metadata": {},
     "output_type": "display_data"
    },
    {
     "data": {
      "application/vnd.jupyter.widget-view+json": {
       "model_id": "f04599e411a448c9b1f8f6f56d87ff6a",
       "version_major": 2,
       "version_minor": 0
      },
      "text/plain": [
       "Processing Iterations:   0%|          | 0/40 [00:00<?, ?step/s]"
      ]
     },
     "metadata": {},
     "output_type": "display_data"
    },
    {
     "data": {
      "application/vnd.jupyter.widget-view+json": {
       "model_id": "9d8503675e924e86b99c9436fe9b44d5",
       "version_major": 2,
       "version_minor": 0
      },
      "text/plain": [
       "Processing Iterations:   0%|          | 0/40 [00:00<?, ?step/s]"
      ]
     },
     "metadata": {},
     "output_type": "display_data"
    },
    {
     "data": {
      "application/vnd.jupyter.widget-view+json": {
       "model_id": "b5ed93dadd8d45369e1d8beb21831c04",
       "version_major": 2,
       "version_minor": 0
      },
      "text/plain": [
       "Processing Iterations:   0%|          | 0/40 [00:00<?, ?step/s]"
      ]
     },
     "metadata": {},
     "output_type": "display_data"
    },
    {
     "data": {
      "application/vnd.jupyter.widget-view+json": {
       "model_id": "95fa232fc3a14f3189262727fb3fae6b",
       "version_major": 2,
       "version_minor": 0
      },
      "text/plain": [
       "Processing Iterations:   0%|          | 0/40 [00:00<?, ?step/s]"
      ]
     },
     "metadata": {},
     "output_type": "display_data"
    },
    {
     "data": {
      "application/vnd.jupyter.widget-view+json": {
       "model_id": "5b26243083b548a9bf5d214a8af3321c",
       "version_major": 2,
       "version_minor": 0
      },
      "text/plain": [
       "Processing Iterations:   0%|          | 0/40 [00:00<?, ?step/s]"
      ]
     },
     "metadata": {},
     "output_type": "display_data"
    },
    {
     "data": {
      "application/vnd.jupyter.widget-view+json": {
       "model_id": "5f6deddc777a4a60a3b20a885a9a1159",
       "version_major": 2,
       "version_minor": 0
      },
      "text/plain": [
       "Processing Iterations:   0%|          | 0/40 [00:00<?, ?step/s]"
      ]
     },
     "metadata": {},
     "output_type": "display_data"
    },
    {
     "data": {
      "application/vnd.jupyter.widget-view+json": {
       "model_id": "6528497ab44841a887cc6ee7d940bea2",
       "version_major": 2,
       "version_minor": 0
      },
      "text/plain": [
       "Processing Iterations:   0%|          | 0/40 [00:00<?, ?step/s]"
      ]
     },
     "metadata": {},
     "output_type": "display_data"
    },
    {
     "data": {
      "application/vnd.jupyter.widget-view+json": {
       "model_id": "f075c911dddb424dace967b269ee4b1e",
       "version_major": 2,
       "version_minor": 0
      },
      "text/plain": [
       "Processing Iterations:   0%|          | 0/40 [00:00<?, ?step/s]"
      ]
     },
     "metadata": {},
     "output_type": "display_data"
    },
    {
     "data": {
      "application/vnd.jupyter.widget-view+json": {
       "model_id": "69712317bf0b49688d5a8942642b5a04",
       "version_major": 2,
       "version_minor": 0
      },
      "text/plain": [
       "Processing Iterations:   0%|          | 0/40 [00:00<?, ?step/s]"
      ]
     },
     "metadata": {},
     "output_type": "display_data"
    },
    {
     "data": {
      "application/vnd.jupyter.widget-view+json": {
       "model_id": "b4ad1b1731744b5db0361cd36e034248",
       "version_major": 2,
       "version_minor": 0
      },
      "text/plain": [
       "Processing Iterations:   0%|          | 0/40 [00:00<?, ?step/s]"
      ]
     },
     "metadata": {},
     "output_type": "display_data"
    },
    {
     "data": {
      "application/vnd.jupyter.widget-view+json": {
       "model_id": "9c0b3473f1a94fd991c5d0c2c1463540",
       "version_major": 2,
       "version_minor": 0
      },
      "text/plain": [
       "Processing Iterations:   0%|          | 0/40 [00:00<?, ?step/s]"
      ]
     },
     "metadata": {},
     "output_type": "display_data"
    },
    {
     "data": {
      "application/vnd.jupyter.widget-view+json": {
       "model_id": "0ab5113174bc4b0587e85e750a117a54",
       "version_major": 2,
       "version_minor": 0
      },
      "text/plain": [
       "Processing Iterations:   0%|          | 0/40 [00:00<?, ?step/s]"
      ]
     },
     "metadata": {},
     "output_type": "display_data"
    },
    {
     "data": {
      "application/vnd.jupyter.widget-view+json": {
       "model_id": "f5f08ab3f604483e90e1d0c75207495b",
       "version_major": 2,
       "version_minor": 0
      },
      "text/plain": [
       "Processing Iterations:   0%|          | 0/40 [00:00<?, ?step/s]"
      ]
     },
     "metadata": {},
     "output_type": "display_data"
    },
    {
     "data": {
      "application/vnd.jupyter.widget-view+json": {
       "model_id": "9a6f3e54c0e148ea8c6dd7f54394fe4c",
       "version_major": 2,
       "version_minor": 0
      },
      "text/plain": [
       "Processing Iterations:   0%|          | 0/40 [00:00<?, ?step/s]"
      ]
     },
     "metadata": {},
     "output_type": "display_data"
    },
    {
     "data": {
      "application/vnd.jupyter.widget-view+json": {
       "model_id": "35933b8242134f15ae2bd481d22eb77e",
       "version_major": 2,
       "version_minor": 0
      },
      "text/plain": [
       "Processing Iterations:   0%|          | 0/40 [00:00<?, ?step/s]"
      ]
     },
     "metadata": {},
     "output_type": "display_data"
    },
    {
     "data": {
      "application/vnd.jupyter.widget-view+json": {
       "model_id": "2e8806ae968c4d3e9cf8295692f77e51",
       "version_major": 2,
       "version_minor": 0
      },
      "text/plain": [
       "Processing Iterations:   0%|          | 0/40 [00:00<?, ?step/s]"
      ]
     },
     "metadata": {},
     "output_type": "display_data"
    },
    {
     "data": {
      "application/vnd.jupyter.widget-view+json": {
       "model_id": "4cb45737111c47ad837dc118871bcc0d",
       "version_major": 2,
       "version_minor": 0
      },
      "text/plain": [
       "Processing Iterations:   0%|          | 0/40 [00:00<?, ?step/s]"
      ]
     },
     "metadata": {},
     "output_type": "display_data"
    },
    {
     "name": "stdout",
     "output_type": "stream",
     "text": [
      "GIF saved as 'gifs/Prob distribution vs. Delta, Vertex count is 15, and initial entropy is 2.708.gif'\n"
     ]
    },
    {
     "data": {
      "application/vnd.jupyter.widget-view+json": {
       "model_id": "ed6e598268934cbd9d2127b02afaa9ab",
       "version_major": 2,
       "version_minor": 0
      },
      "text/plain": [
       "Processing Iterations:   0%|          | 0/40 [00:00<?, ?step/s]"
      ]
     },
     "metadata": {},
     "output_type": "display_data"
    },
    {
     "data": {
      "application/vnd.jupyter.widget-view+json": {
       "model_id": "a067b1dec98c428d9a9cf11257fcf6be",
       "version_major": 2,
       "version_minor": 0
      },
      "text/plain": [
       "Processing Iterations:   0%|          | 0/40 [00:00<?, ?step/s]"
      ]
     },
     "metadata": {},
     "output_type": "display_data"
    },
    {
     "data": {
      "application/vnd.jupyter.widget-view+json": {
       "model_id": "4c89fa021ea84509b4d99c0d2c6cf981",
       "version_major": 2,
       "version_minor": 0
      },
      "text/plain": [
       "Processing Iterations:   0%|          | 0/40 [00:00<?, ?step/s]"
      ]
     },
     "metadata": {},
     "output_type": "display_data"
    },
    {
     "data": {
      "application/vnd.jupyter.widget-view+json": {
       "model_id": "1012d6245b6f4be2a400035c2957422d",
       "version_major": 2,
       "version_minor": 0
      },
      "text/plain": [
       "Processing Iterations:   0%|          | 0/40 [00:00<?, ?step/s]"
      ]
     },
     "metadata": {},
     "output_type": "display_data"
    },
    {
     "data": {
      "application/vnd.jupyter.widget-view+json": {
       "model_id": "b95b5a1c41814badbf396c76f98f460d",
       "version_major": 2,
       "version_minor": 0
      },
      "text/plain": [
       "Processing Iterations:   0%|          | 0/40 [00:00<?, ?step/s]"
      ]
     },
     "metadata": {},
     "output_type": "display_data"
    },
    {
     "data": {
      "application/vnd.jupyter.widget-view+json": {
       "model_id": "5cb82dc63af342e9b878362d839c44c3",
       "version_major": 2,
       "version_minor": 0
      },
      "text/plain": [
       "Processing Iterations:   0%|          | 0/40 [00:00<?, ?step/s]"
      ]
     },
     "metadata": {},
     "output_type": "display_data"
    },
    {
     "data": {
      "application/vnd.jupyter.widget-view+json": {
       "model_id": "237f8d04e11c4713bdd569cae601a8ff",
       "version_major": 2,
       "version_minor": 0
      },
      "text/plain": [
       "Processing Iterations:   0%|          | 0/40 [00:00<?, ?step/s]"
      ]
     },
     "metadata": {},
     "output_type": "display_data"
    },
    {
     "data": {
      "application/vnd.jupyter.widget-view+json": {
       "model_id": "32ea403aa7bf4bf1991194988b0a9f11",
       "version_major": 2,
       "version_minor": 0
      },
      "text/plain": [
       "Processing Iterations:   0%|          | 0/40 [00:00<?, ?step/s]"
      ]
     },
     "metadata": {},
     "output_type": "display_data"
    },
    {
     "data": {
      "application/vnd.jupyter.widget-view+json": {
       "model_id": "507ab9860b8e472c95501d989c87fa34",
       "version_major": 2,
       "version_minor": 0
      },
      "text/plain": [
       "Processing Iterations:   0%|          | 0/40 [00:00<?, ?step/s]"
      ]
     },
     "metadata": {},
     "output_type": "display_data"
    },
    {
     "data": {
      "application/vnd.jupyter.widget-view+json": {
       "model_id": "6e79f8840b114a20ba45d1f3ca81990b",
       "version_major": 2,
       "version_minor": 0
      },
      "text/plain": [
       "Processing Iterations:   0%|          | 0/40 [00:00<?, ?step/s]"
      ]
     },
     "metadata": {},
     "output_type": "display_data"
    },
    {
     "data": {
      "application/vnd.jupyter.widget-view+json": {
       "model_id": "8793bd1861004296970492b6ba57ceea",
       "version_major": 2,
       "version_minor": 0
      },
      "text/plain": [
       "Processing Iterations:   0%|          | 0/40 [00:00<?, ?step/s]"
      ]
     },
     "metadata": {},
     "output_type": "display_data"
    },
    {
     "data": {
      "application/vnd.jupyter.widget-view+json": {
       "model_id": "c9ba86838ea14fb18e00a260c55a2dde",
       "version_major": 2,
       "version_minor": 0
      },
      "text/plain": [
       "Processing Iterations:   0%|          | 0/40 [00:00<?, ?step/s]"
      ]
     },
     "metadata": {},
     "output_type": "display_data"
    },
    {
     "data": {
      "application/vnd.jupyter.widget-view+json": {
       "model_id": "413f910ff6184dc38e71cca2ef8d78e1",
       "version_major": 2,
       "version_minor": 0
      },
      "text/plain": [
       "Processing Iterations:   0%|          | 0/40 [00:00<?, ?step/s]"
      ]
     },
     "metadata": {},
     "output_type": "display_data"
    },
    {
     "data": {
      "application/vnd.jupyter.widget-view+json": {
       "model_id": "d63cfb2e58734515bdeb4762dcaef552",
       "version_major": 2,
       "version_minor": 0
      },
      "text/plain": [
       "Processing Iterations:   0%|          | 0/40 [00:00<?, ?step/s]"
      ]
     },
     "metadata": {},
     "output_type": "display_data"
    },
    {
     "data": {
      "application/vnd.jupyter.widget-view+json": {
       "model_id": "6b9824ebaa0b4534befd6054418f6f08",
       "version_major": 2,
       "version_minor": 0
      },
      "text/plain": [
       "Processing Iterations:   0%|          | 0/40 [00:00<?, ?step/s]"
      ]
     },
     "metadata": {},
     "output_type": "display_data"
    },
    {
     "data": {
      "application/vnd.jupyter.widget-view+json": {
       "model_id": "8e2c2357df084dc9b3b2d535a0039440",
       "version_major": 2,
       "version_minor": 0
      },
      "text/plain": [
       "Processing Iterations:   0%|          | 0/40 [00:00<?, ?step/s]"
      ]
     },
     "metadata": {},
     "output_type": "display_data"
    },
    {
     "data": {
      "application/vnd.jupyter.widget-view+json": {
       "model_id": "2a60467ff8fc4744ac6035cc387e5c0e",
       "version_major": 2,
       "version_minor": 0
      },
      "text/plain": [
       "Processing Iterations:   0%|          | 0/40 [00:00<?, ?step/s]"
      ]
     },
     "metadata": {},
     "output_type": "display_data"
    },
    {
     "data": {
      "application/vnd.jupyter.widget-view+json": {
       "model_id": "0aa4aa1e41644bcf86116c82e7782e5e",
       "version_major": 2,
       "version_minor": 0
      },
      "text/plain": [
       "Processing Iterations:   0%|          | 0/40 [00:00<?, ?step/s]"
      ]
     },
     "metadata": {},
     "output_type": "display_data"
    },
    {
     "data": {
      "application/vnd.jupyter.widget-view+json": {
       "model_id": "9502abea294d4898ae8ba246a64911d8",
       "version_major": 2,
       "version_minor": 0
      },
      "text/plain": [
       "Processing Iterations:   0%|          | 0/40 [00:00<?, ?step/s]"
      ]
     },
     "metadata": {},
     "output_type": "display_data"
    },
    {
     "data": {
      "application/vnd.jupyter.widget-view+json": {
       "model_id": "9af310026daa4aee9f6e34ed07e9830d",
       "version_major": 2,
       "version_minor": 0
      },
      "text/plain": [
       "Processing Iterations:   0%|          | 0/40 [00:00<?, ?step/s]"
      ]
     },
     "metadata": {},
     "output_type": "display_data"
    },
    {
     "data": {
      "application/vnd.jupyter.widget-view+json": {
       "model_id": "726ae98c63e2486791211c33636821e0",
       "version_major": 2,
       "version_minor": 0
      },
      "text/plain": [
       "Processing Iterations:   0%|          | 0/40 [00:00<?, ?step/s]"
      ]
     },
     "metadata": {},
     "output_type": "display_data"
    },
    {
     "data": {
      "application/vnd.jupyter.widget-view+json": {
       "model_id": "f88ad6e1f18b45acb0a92d21fe5b62f0",
       "version_major": 2,
       "version_minor": 0
      },
      "text/plain": [
       "Processing Iterations:   0%|          | 0/40 [00:00<?, ?step/s]"
      ]
     },
     "metadata": {},
     "output_type": "display_data"
    },
    {
     "data": {
      "application/vnd.jupyter.widget-view+json": {
       "model_id": "c2263e47ed9a4189b7707eec861f2a69",
       "version_major": 2,
       "version_minor": 0
      },
      "text/plain": [
       "Processing Iterations:   0%|          | 0/40 [00:00<?, ?step/s]"
      ]
     },
     "metadata": {},
     "output_type": "display_data"
    },
    {
     "data": {
      "application/vnd.jupyter.widget-view+json": {
       "model_id": "2abf29f6cd444407b8c55cecfa3ffc22",
       "version_major": 2,
       "version_minor": 0
      },
      "text/plain": [
       "Processing Iterations:   0%|          | 0/40 [00:00<?, ?step/s]"
      ]
     },
     "metadata": {},
     "output_type": "display_data"
    },
    {
     "data": {
      "application/vnd.jupyter.widget-view+json": {
       "model_id": "f735b32b314b4fa683fb8a97adad2b0c",
       "version_major": 2,
       "version_minor": 0
      },
      "text/plain": [
       "Processing Iterations:   0%|          | 0/40 [00:00<?, ?step/s]"
      ]
     },
     "metadata": {},
     "output_type": "display_data"
    },
    {
     "data": {
      "application/vnd.jupyter.widget-view+json": {
       "model_id": "c409b94609314c8ba21331784515155b",
       "version_major": 2,
       "version_minor": 0
      },
      "text/plain": [
       "Processing Iterations:   0%|          | 0/40 [00:00<?, ?step/s]"
      ]
     },
     "metadata": {},
     "output_type": "display_data"
    },
    {
     "data": {
      "application/vnd.jupyter.widget-view+json": {
       "model_id": "83c3e878e1cd4ee1b33ec19d83a407e0",
       "version_major": 2,
       "version_minor": 0
      },
      "text/plain": [
       "Processing Iterations:   0%|          | 0/40 [00:00<?, ?step/s]"
      ]
     },
     "metadata": {},
     "output_type": "display_data"
    },
    {
     "data": {
      "application/vnd.jupyter.widget-view+json": {
       "model_id": "9fb488bfc56f445793c7f46a2eebfef3",
       "version_major": 2,
       "version_minor": 0
      },
      "text/plain": [
       "Processing Iterations:   0%|          | 0/40 [00:00<?, ?step/s]"
      ]
     },
     "metadata": {},
     "output_type": "display_data"
    },
    {
     "data": {
      "application/vnd.jupyter.widget-view+json": {
       "model_id": "8a49e682368c4f43b3740dbaa0ef25bc",
       "version_major": 2,
       "version_minor": 0
      },
      "text/plain": [
       "Processing Iterations:   0%|          | 0/40 [00:00<?, ?step/s]"
      ]
     },
     "metadata": {},
     "output_type": "display_data"
    },
    {
     "data": {
      "application/vnd.jupyter.widget-view+json": {
       "model_id": "b1e22ed23739421d9b5daba6ff2c120c",
       "version_major": 2,
       "version_minor": 0
      },
      "text/plain": [
       "Processing Iterations:   0%|          | 0/40 [00:00<?, ?step/s]"
      ]
     },
     "metadata": {},
     "output_type": "display_data"
    },
    {
     "data": {
      "application/vnd.jupyter.widget-view+json": {
       "model_id": "3bc96e6f66114d4e8c77f02b310cb60b",
       "version_major": 2,
       "version_minor": 0
      },
      "text/plain": [
       "Processing Iterations:   0%|          | 0/40 [00:00<?, ?step/s]"
      ]
     },
     "metadata": {},
     "output_type": "display_data"
    },
    {
     "data": {
      "application/vnd.jupyter.widget-view+json": {
       "model_id": "9f8a4ffbdb62433c873e63cfa8d40022",
       "version_major": 2,
       "version_minor": 0
      },
      "text/plain": [
       "Processing Iterations:   0%|          | 0/40 [00:00<?, ?step/s]"
      ]
     },
     "metadata": {},
     "output_type": "display_data"
    },
    {
     "data": {
      "application/vnd.jupyter.widget-view+json": {
       "model_id": "98bb4ec22d0b4fd1806b42c1e4e5701b",
       "version_major": 2,
       "version_minor": 0
      },
      "text/plain": [
       "Processing Iterations:   0%|          | 0/40 [00:00<?, ?step/s]"
      ]
     },
     "metadata": {},
     "output_type": "display_data"
    },
    {
     "data": {
      "application/vnd.jupyter.widget-view+json": {
       "model_id": "62e1605f6cf54201952cf7621caaa0c0",
       "version_major": 2,
       "version_minor": 0
      },
      "text/plain": [
       "Processing Iterations:   0%|          | 0/40 [00:00<?, ?step/s]"
      ]
     },
     "metadata": {},
     "output_type": "display_data"
    },
    {
     "data": {
      "application/vnd.jupyter.widget-view+json": {
       "model_id": "12617c2907044e14945ab1212683d41a",
       "version_major": 2,
       "version_minor": 0
      },
      "text/plain": [
       "Processing Iterations:   0%|          | 0/40 [00:00<?, ?step/s]"
      ]
     },
     "metadata": {},
     "output_type": "display_data"
    },
    {
     "data": {
      "application/vnd.jupyter.widget-view+json": {
       "model_id": "4a482b816f6148c4b56caeb1332c4fdd",
       "version_major": 2,
       "version_minor": 0
      },
      "text/plain": [
       "Processing Iterations:   0%|          | 0/40 [00:00<?, ?step/s]"
      ]
     },
     "metadata": {},
     "output_type": "display_data"
    },
    {
     "data": {
      "application/vnd.jupyter.widget-view+json": {
       "model_id": "daa5ec00faa8469a8de00e3b3643a29d",
       "version_major": 2,
       "version_minor": 0
      },
      "text/plain": [
       "Processing Iterations:   0%|          | 0/40 [00:00<?, ?step/s]"
      ]
     },
     "metadata": {},
     "output_type": "display_data"
    },
    {
     "data": {
      "application/vnd.jupyter.widget-view+json": {
       "model_id": "c03e04f41d1a4a5c882e6300be463ebb",
       "version_major": 2,
       "version_minor": 0
      },
      "text/plain": [
       "Processing Iterations:   0%|          | 0/40 [00:00<?, ?step/s]"
      ]
     },
     "metadata": {},
     "output_type": "display_data"
    },
    {
     "data": {
      "application/vnd.jupyter.widget-view+json": {
       "model_id": "2ead4afa8ab542c3a47fcec386eb940f",
       "version_major": 2,
       "version_minor": 0
      },
      "text/plain": [
       "Processing Iterations:   0%|          | 0/40 [00:00<?, ?step/s]"
      ]
     },
     "metadata": {},
     "output_type": "display_data"
    },
    {
     "data": {
      "application/vnd.jupyter.widget-view+json": {
       "model_id": "050edfa611c4457e8d6b394eeb887064",
       "version_major": 2,
       "version_minor": 0
      },
      "text/plain": [
       "Processing Iterations:   0%|          | 0/40 [00:00<?, ?step/s]"
      ]
     },
     "metadata": {},
     "output_type": "display_data"
    },
    {
     "data": {
      "application/vnd.jupyter.widget-view+json": {
       "model_id": "5e365daf10a54a03abf652dc39631cc7",
       "version_major": 2,
       "version_minor": 0
      },
      "text/plain": [
       "Processing Iterations:   0%|          | 0/40 [00:00<?, ?step/s]"
      ]
     },
     "metadata": {},
     "output_type": "display_data"
    },
    {
     "data": {
      "application/vnd.jupyter.widget-view+json": {
       "model_id": "71fff50778ef462a874b05acfd5d3a8d",
       "version_major": 2,
       "version_minor": 0
      },
      "text/plain": [
       "Processing Iterations:   0%|          | 0/40 [00:00<?, ?step/s]"
      ]
     },
     "metadata": {},
     "output_type": "display_data"
    },
    {
     "data": {
      "application/vnd.jupyter.widget-view+json": {
       "model_id": "37ce1f8eb4aa4eb1b3c13a8883e1b7d6",
       "version_major": 2,
       "version_minor": 0
      },
      "text/plain": [
       "Processing Iterations:   0%|          | 0/40 [00:00<?, ?step/s]"
      ]
     },
     "metadata": {},
     "output_type": "display_data"
    },
    {
     "data": {
      "application/vnd.jupyter.widget-view+json": {
       "model_id": "af7fd46cd1824c0e9c508375be5cd6af",
       "version_major": 2,
       "version_minor": 0
      },
      "text/plain": [
       "Processing Iterations:   0%|          | 0/40 [00:00<?, ?step/s]"
      ]
     },
     "metadata": {},
     "output_type": "display_data"
    },
    {
     "data": {
      "application/vnd.jupyter.widget-view+json": {
       "model_id": "76c4fb2e790b4b959f249e35ec51b23b",
       "version_major": 2,
       "version_minor": 0
      },
      "text/plain": [
       "Processing Iterations:   0%|          | 0/40 [00:00<?, ?step/s]"
      ]
     },
     "metadata": {},
     "output_type": "display_data"
    },
    {
     "data": {
      "application/vnd.jupyter.widget-view+json": {
       "model_id": "8c56f097ac02434a8ffd9190e82399fc",
       "version_major": 2,
       "version_minor": 0
      },
      "text/plain": [
       "Processing Iterations:   0%|          | 0/40 [00:00<?, ?step/s]"
      ]
     },
     "metadata": {},
     "output_type": "display_data"
    },
    {
     "data": {
      "application/vnd.jupyter.widget-view+json": {
       "model_id": "1e4eb8bd4f7d46dc83f0423de9330fac",
       "version_major": 2,
       "version_minor": 0
      },
      "text/plain": [
       "Processing Iterations:   0%|          | 0/40 [00:00<?, ?step/s]"
      ]
     },
     "metadata": {},
     "output_type": "display_data"
    },
    {
     "data": {
      "application/vnd.jupyter.widget-view+json": {
       "model_id": "3adbdd20c0f74278918deb7e8db4054c",
       "version_major": 2,
       "version_minor": 0
      },
      "text/plain": [
       "Processing Iterations:   0%|          | 0/40 [00:00<?, ?step/s]"
      ]
     },
     "metadata": {},
     "output_type": "display_data"
    },
    {
     "data": {
      "application/vnd.jupyter.widget-view+json": {
       "model_id": "0c9981e95016458f8c9dafa1f0fea1d2",
       "version_major": 2,
       "version_minor": 0
      },
      "text/plain": [
       "Processing Iterations:   0%|          | 0/40 [00:00<?, ?step/s]"
      ]
     },
     "metadata": {},
     "output_type": "display_data"
    },
    {
     "data": {
      "application/vnd.jupyter.widget-view+json": {
       "model_id": "fbf8b3914af24a749ee47bef6d24b2e9",
       "version_major": 2,
       "version_minor": 0
      },
      "text/plain": [
       "Processing Iterations:   0%|          | 0/40 [00:00<?, ?step/s]"
      ]
     },
     "metadata": {},
     "output_type": "display_data"
    },
    {
     "data": {
      "application/vnd.jupyter.widget-view+json": {
       "model_id": "5125a1bfe51f4c4793ff20bfc1b4806c",
       "version_major": 2,
       "version_minor": 0
      },
      "text/plain": [
       "Processing Iterations:   0%|          | 0/40 [00:00<?, ?step/s]"
      ]
     },
     "metadata": {},
     "output_type": "display_data"
    },
    {
     "data": {
      "application/vnd.jupyter.widget-view+json": {
       "model_id": "dff3db68a58e48aa8342ec794f80f952",
       "version_major": 2,
       "version_minor": 0
      },
      "text/plain": [
       "Processing Iterations:   0%|          | 0/40 [00:00<?, ?step/s]"
      ]
     },
     "metadata": {},
     "output_type": "display_data"
    },
    {
     "data": {
      "application/vnd.jupyter.widget-view+json": {
       "model_id": "68a89dd6a68f4248888a7cb07f0ec0ad",
       "version_major": 2,
       "version_minor": 0
      },
      "text/plain": [
       "Processing Iterations:   0%|          | 0/40 [00:00<?, ?step/s]"
      ]
     },
     "metadata": {},
     "output_type": "display_data"
    },
    {
     "data": {
      "application/vnd.jupyter.widget-view+json": {
       "model_id": "40ce1101b5cf4e29a472e8c962bd4990",
       "version_major": 2,
       "version_minor": 0
      },
      "text/plain": [
       "Processing Iterations:   0%|          | 0/40 [00:00<?, ?step/s]"
      ]
     },
     "metadata": {},
     "output_type": "display_data"
    },
    {
     "data": {
      "application/vnd.jupyter.widget-view+json": {
       "model_id": "62c6ff5fc6cb483f969c1304021a2ab4",
       "version_major": 2,
       "version_minor": 0
      },
      "text/plain": [
       "Processing Iterations:   0%|          | 0/40 [00:00<?, ?step/s]"
      ]
     },
     "metadata": {},
     "output_type": "display_data"
    },
    {
     "data": {
      "application/vnd.jupyter.widget-view+json": {
       "model_id": "097ad3c1a06b483fb7cc3056344bebdf",
       "version_major": 2,
       "version_minor": 0
      },
      "text/plain": [
       "Processing Iterations:   0%|          | 0/40 [00:00<?, ?step/s]"
      ]
     },
     "metadata": {},
     "output_type": "display_data"
    },
    {
     "data": {
      "application/vnd.jupyter.widget-view+json": {
       "model_id": "1a8bcc2e3fed4204b2bd5f71ea122e27",
       "version_major": 2,
       "version_minor": 0
      },
      "text/plain": [
       "Processing Iterations:   0%|          | 0/40 [00:00<?, ?step/s]"
      ]
     },
     "metadata": {},
     "output_type": "display_data"
    },
    {
     "data": {
      "application/vnd.jupyter.widget-view+json": {
       "model_id": "7920a91f099c450cba91dd079383e8d2",
       "version_major": 2,
       "version_minor": 0
      },
      "text/plain": [
       "Processing Iterations:   0%|          | 0/40 [00:00<?, ?step/s]"
      ]
     },
     "metadata": {},
     "output_type": "display_data"
    },
    {
     "data": {
      "application/vnd.jupyter.widget-view+json": {
       "model_id": "a3cfa5e505cf441e8cbfb3b57965cdff",
       "version_major": 2,
       "version_minor": 0
      },
      "text/plain": [
       "Processing Iterations:   0%|          | 0/40 [00:00<?, ?step/s]"
      ]
     },
     "metadata": {},
     "output_type": "display_data"
    },
    {
     "data": {
      "application/vnd.jupyter.widget-view+json": {
       "model_id": "564743152ad749f4bc33e618d885e8d4",
       "version_major": 2,
       "version_minor": 0
      },
      "text/plain": [
       "Processing Iterations:   0%|          | 0/40 [00:00<?, ?step/s]"
      ]
     },
     "metadata": {},
     "output_type": "display_data"
    },
    {
     "data": {
      "application/vnd.jupyter.widget-view+json": {
       "model_id": "cafbd4f14e514e6f8ae3f1b1d93c8a08",
       "version_major": 2,
       "version_minor": 0
      },
      "text/plain": [
       "Processing Iterations:   0%|          | 0/40 [00:00<?, ?step/s]"
      ]
     },
     "metadata": {},
     "output_type": "display_data"
    },
    {
     "data": {
      "application/vnd.jupyter.widget-view+json": {
       "model_id": "7ca02949aaf646ff8c82bdaacf7afd30",
       "version_major": 2,
       "version_minor": 0
      },
      "text/plain": [
       "Processing Iterations:   0%|          | 0/40 [00:00<?, ?step/s]"
      ]
     },
     "metadata": {},
     "output_type": "display_data"
    },
    {
     "data": {
      "application/vnd.jupyter.widget-view+json": {
       "model_id": "8a89be4c6c984773ad3be8495ac01cf9",
       "version_major": 2,
       "version_minor": 0
      },
      "text/plain": [
       "Processing Iterations:   0%|          | 0/40 [00:00<?, ?step/s]"
      ]
     },
     "metadata": {},
     "output_type": "display_data"
    },
    {
     "data": {
      "application/vnd.jupyter.widget-view+json": {
       "model_id": "fec17eb5629544689dc63b4d82bf4546",
       "version_major": 2,
       "version_minor": 0
      },
      "text/plain": [
       "Processing Iterations:   0%|          | 0/40 [00:00<?, ?step/s]"
      ]
     },
     "metadata": {},
     "output_type": "display_data"
    },
    {
     "data": {
      "application/vnd.jupyter.widget-view+json": {
       "model_id": "758d73c139ef4b9c984ac5166799a9b1",
       "version_major": 2,
       "version_minor": 0
      },
      "text/plain": [
       "Processing Iterations:   0%|          | 0/40 [00:00<?, ?step/s]"
      ]
     },
     "metadata": {},
     "output_type": "display_data"
    },
    {
     "data": {
      "application/vnd.jupyter.widget-view+json": {
       "model_id": "45391d503e4b4787acce82185445b6e1",
       "version_major": 2,
       "version_minor": 0
      },
      "text/plain": [
       "Processing Iterations:   0%|          | 0/40 [00:00<?, ?step/s]"
      ]
     },
     "metadata": {},
     "output_type": "display_data"
    },
    {
     "data": {
      "application/vnd.jupyter.widget-view+json": {
       "model_id": "9f5c4c502425409693f1062065e5d568",
       "version_major": 2,
       "version_minor": 0
      },
      "text/plain": [
       "Processing Iterations:   0%|          | 0/40 [00:00<?, ?step/s]"
      ]
     },
     "metadata": {},
     "output_type": "display_data"
    },
    {
     "data": {
      "application/vnd.jupyter.widget-view+json": {
       "model_id": "034eb7ef5d794de18947110cf9af73cd",
       "version_major": 2,
       "version_minor": 0
      },
      "text/plain": [
       "Processing Iterations:   0%|          | 0/40 [00:00<?, ?step/s]"
      ]
     },
     "metadata": {},
     "output_type": "display_data"
    },
    {
     "data": {
      "application/vnd.jupyter.widget-view+json": {
       "model_id": "bad4f23cd835413ca2d3138d44dcba94",
       "version_major": 2,
       "version_minor": 0
      },
      "text/plain": [
       "Processing Iterations:   0%|          | 0/40 [00:00<?, ?step/s]"
      ]
     },
     "metadata": {},
     "output_type": "display_data"
    },
    {
     "data": {
      "application/vnd.jupyter.widget-view+json": {
       "model_id": "e63a2ebf4a764166aba2c7e2d4ea0d5c",
       "version_major": 2,
       "version_minor": 0
      },
      "text/plain": [
       "Processing Iterations:   0%|          | 0/40 [00:00<?, ?step/s]"
      ]
     },
     "metadata": {},
     "output_type": "display_data"
    },
    {
     "data": {
      "application/vnd.jupyter.widget-view+json": {
       "model_id": "c3d4f0e402ce4f3b805aa92682375b76",
       "version_major": 2,
       "version_minor": 0
      },
      "text/plain": [
       "Processing Iterations:   0%|          | 0/40 [00:00<?, ?step/s]"
      ]
     },
     "metadata": {},
     "output_type": "display_data"
    },
    {
     "data": {
      "application/vnd.jupyter.widget-view+json": {
       "model_id": "136fa97afbe446b28c8bab55a6bead19",
       "version_major": 2,
       "version_minor": 0
      },
      "text/plain": [
       "Processing Iterations:   0%|          | 0/40 [00:00<?, ?step/s]"
      ]
     },
     "metadata": {},
     "output_type": "display_data"
    },
    {
     "data": {
      "application/vnd.jupyter.widget-view+json": {
       "model_id": "868754206bf74cb6a2ff9a5e913801da",
       "version_major": 2,
       "version_minor": 0
      },
      "text/plain": [
       "Processing Iterations:   0%|          | 0/40 [00:00<?, ?step/s]"
      ]
     },
     "metadata": {},
     "output_type": "display_data"
    },
    {
     "data": {
      "application/vnd.jupyter.widget-view+json": {
       "model_id": "9f2c525093b449d4bf6fbf19272dcebe",
       "version_major": 2,
       "version_minor": 0
      },
      "text/plain": [
       "Processing Iterations:   0%|          | 0/40 [00:00<?, ?step/s]"
      ]
     },
     "metadata": {},
     "output_type": "display_data"
    },
    {
     "data": {
      "application/vnd.jupyter.widget-view+json": {
       "model_id": "27bd9195d53645b2bb25b9ab05b05f5d",
       "version_major": 2,
       "version_minor": 0
      },
      "text/plain": [
       "Processing Iterations:   0%|          | 0/40 [00:00<?, ?step/s]"
      ]
     },
     "metadata": {},
     "output_type": "display_data"
    },
    {
     "data": {
      "application/vnd.jupyter.widget-view+json": {
       "model_id": "0a5927bae32841d7a01f0da039744689",
       "version_major": 2,
       "version_minor": 0
      },
      "text/plain": [
       "Processing Iterations:   0%|          | 0/40 [00:00<?, ?step/s]"
      ]
     },
     "metadata": {},
     "output_type": "display_data"
    },
    {
     "data": {
      "application/vnd.jupyter.widget-view+json": {
       "model_id": "364785eb6eca407b90362cc1b304c80c",
       "version_major": 2,
       "version_minor": 0
      },
      "text/plain": [
       "Processing Iterations:   0%|          | 0/40 [00:00<?, ?step/s]"
      ]
     },
     "metadata": {},
     "output_type": "display_data"
    },
    {
     "data": {
      "application/vnd.jupyter.widget-view+json": {
       "model_id": "1a5b1de35d3d46eeb8b92a76828036e8",
       "version_major": 2,
       "version_minor": 0
      },
      "text/plain": [
       "Processing Iterations:   0%|          | 0/40 [00:00<?, ?step/s]"
      ]
     },
     "metadata": {},
     "output_type": "display_data"
    },
    {
     "data": {
      "application/vnd.jupyter.widget-view+json": {
       "model_id": "aac5607b08f44542ac1809c888886acd",
       "version_major": 2,
       "version_minor": 0
      },
      "text/plain": [
       "Processing Iterations:   0%|          | 0/40 [00:00<?, ?step/s]"
      ]
     },
     "metadata": {},
     "output_type": "display_data"
    },
    {
     "data": {
      "application/vnd.jupyter.widget-view+json": {
       "model_id": "4130f7050ec24cf9a0a79f01fe2bbb04",
       "version_major": 2,
       "version_minor": 0
      },
      "text/plain": [
       "Processing Iterations:   0%|          | 0/40 [00:00<?, ?step/s]"
      ]
     },
     "metadata": {},
     "output_type": "display_data"
    },
    {
     "data": {
      "application/vnd.jupyter.widget-view+json": {
       "model_id": "a6d0cdfe95624b8ea112f8e47dd3273b",
       "version_major": 2,
       "version_minor": 0
      },
      "text/plain": [
       "Processing Iterations:   0%|          | 0/40 [00:00<?, ?step/s]"
      ]
     },
     "metadata": {},
     "output_type": "display_data"
    },
    {
     "data": {
      "application/vnd.jupyter.widget-view+json": {
       "model_id": "8b35a44456fd4a07acb28206e6d19e80",
       "version_major": 2,
       "version_minor": 0
      },
      "text/plain": [
       "Processing Iterations:   0%|          | 0/40 [00:00<?, ?step/s]"
      ]
     },
     "metadata": {},
     "output_type": "display_data"
    },
    {
     "data": {
      "application/vnd.jupyter.widget-view+json": {
       "model_id": "af08710d966a4b5b90b8b42207b7b70e",
       "version_major": 2,
       "version_minor": 0
      },
      "text/plain": [
       "Processing Iterations:   0%|          | 0/40 [00:00<?, ?step/s]"
      ]
     },
     "metadata": {},
     "output_type": "display_data"
    },
    {
     "data": {
      "application/vnd.jupyter.widget-view+json": {
       "model_id": "ca090419b12141498756775b36712bda",
       "version_major": 2,
       "version_minor": 0
      },
      "text/plain": [
       "Processing Iterations:   0%|          | 0/40 [00:00<?, ?step/s]"
      ]
     },
     "metadata": {},
     "output_type": "display_data"
    },
    {
     "data": {
      "application/vnd.jupyter.widget-view+json": {
       "model_id": "025e25df8b5246169a456859cc151af4",
       "version_major": 2,
       "version_minor": 0
      },
      "text/plain": [
       "Processing Iterations:   0%|          | 0/40 [00:00<?, ?step/s]"
      ]
     },
     "metadata": {},
     "output_type": "display_data"
    },
    {
     "data": {
      "application/vnd.jupyter.widget-view+json": {
       "model_id": "0c81b7e1b01f4da5a7b5a02e18882fae",
       "version_major": 2,
       "version_minor": 0
      },
      "text/plain": [
       "Processing Iterations:   0%|          | 0/40 [00:00<?, ?step/s]"
      ]
     },
     "metadata": {},
     "output_type": "display_data"
    },
    {
     "data": {
      "application/vnd.jupyter.widget-view+json": {
       "model_id": "599dd9c2eda64b4c875e66c07c1a062b",
       "version_major": 2,
       "version_minor": 0
      },
      "text/plain": [
       "Processing Iterations:   0%|          | 0/40 [00:00<?, ?step/s]"
      ]
     },
     "metadata": {},
     "output_type": "display_data"
    },
    {
     "data": {
      "application/vnd.jupyter.widget-view+json": {
       "model_id": "b6da9da3a7bb42d2bf803412ff7fe957",
       "version_major": 2,
       "version_minor": 0
      },
      "text/plain": [
       "Processing Iterations:   0%|          | 0/40 [00:00<?, ?step/s]"
      ]
     },
     "metadata": {},
     "output_type": "display_data"
    },
    {
     "data": {
      "application/vnd.jupyter.widget-view+json": {
       "model_id": "f54e8b501dc842c6866ac681402d298a",
       "version_major": 2,
       "version_minor": 0
      },
      "text/plain": [
       "Processing Iterations:   0%|          | 0/40 [00:00<?, ?step/s]"
      ]
     },
     "metadata": {},
     "output_type": "display_data"
    },
    {
     "data": {
      "application/vnd.jupyter.widget-view+json": {
       "model_id": "6f3ff8fffa0b4f40883b84973bf4792e",
       "version_major": 2,
       "version_minor": 0
      },
      "text/plain": [
       "Processing Iterations:   0%|          | 0/40 [00:00<?, ?step/s]"
      ]
     },
     "metadata": {},
     "output_type": "display_data"
    },
    {
     "name": "stdout",
     "output_type": "stream",
     "text": [
      "GIF saved as 'gifs/Prob distribution vs. Delta, Vertex count is 16, and initial entropy is 2.773.gif'\n"
     ]
    },
    {
     "data": {
      "application/vnd.jupyter.widget-view+json": {
       "model_id": "2c4ee719a4b84bfead6c86abd9365ae4",
       "version_major": 2,
       "version_minor": 0
      },
      "text/plain": [
       "Processing Iterations:   0%|          | 0/40 [00:00<?, ?step/s]"
      ]
     },
     "metadata": {},
     "output_type": "display_data"
    },
    {
     "data": {
      "application/vnd.jupyter.widget-view+json": {
       "model_id": "acc589a0837c4de4a62070b5b3df4585",
       "version_major": 2,
       "version_minor": 0
      },
      "text/plain": [
       "Processing Iterations:   0%|          | 0/40 [00:00<?, ?step/s]"
      ]
     },
     "metadata": {},
     "output_type": "display_data"
    },
    {
     "data": {
      "application/vnd.jupyter.widget-view+json": {
       "model_id": "507b56e4139a49328cd15a678cb01386",
       "version_major": 2,
       "version_minor": 0
      },
      "text/plain": [
       "Processing Iterations:   0%|          | 0/40 [00:00<?, ?step/s]"
      ]
     },
     "metadata": {},
     "output_type": "display_data"
    },
    {
     "data": {
      "application/vnd.jupyter.widget-view+json": {
       "model_id": "c61dafa7b4934a5d80d82188b438d6bb",
       "version_major": 2,
       "version_minor": 0
      },
      "text/plain": [
       "Processing Iterations:   0%|          | 0/40 [00:00<?, ?step/s]"
      ]
     },
     "metadata": {},
     "output_type": "display_data"
    },
    {
     "data": {
      "application/vnd.jupyter.widget-view+json": {
       "model_id": "78055910a1664bc7b92c603181f91860",
       "version_major": 2,
       "version_minor": 0
      },
      "text/plain": [
       "Processing Iterations:   0%|          | 0/40 [00:00<?, ?step/s]"
      ]
     },
     "metadata": {},
     "output_type": "display_data"
    },
    {
     "data": {
      "application/vnd.jupyter.widget-view+json": {
       "model_id": "63258699f37e40909fc310d58696278f",
       "version_major": 2,
       "version_minor": 0
      },
      "text/plain": [
       "Processing Iterations:   0%|          | 0/40 [00:00<?, ?step/s]"
      ]
     },
     "metadata": {},
     "output_type": "display_data"
    },
    {
     "data": {
      "application/vnd.jupyter.widget-view+json": {
       "model_id": "3ea002c1747d4d598fd899c5846a0aa4",
       "version_major": 2,
       "version_minor": 0
      },
      "text/plain": [
       "Processing Iterations:   0%|          | 0/40 [00:00<?, ?step/s]"
      ]
     },
     "metadata": {},
     "output_type": "display_data"
    },
    {
     "data": {
      "application/vnd.jupyter.widget-view+json": {
       "model_id": "9b842a0510bf49e89a45def5d38150cd",
       "version_major": 2,
       "version_minor": 0
      },
      "text/plain": [
       "Processing Iterations:   0%|          | 0/40 [00:00<?, ?step/s]"
      ]
     },
     "metadata": {},
     "output_type": "display_data"
    },
    {
     "data": {
      "application/vnd.jupyter.widget-view+json": {
       "model_id": "89f444e8717147c8a3f76046e1a662b8",
       "version_major": 2,
       "version_minor": 0
      },
      "text/plain": [
       "Processing Iterations:   0%|          | 0/40 [00:00<?, ?step/s]"
      ]
     },
     "metadata": {},
     "output_type": "display_data"
    },
    {
     "data": {
      "application/vnd.jupyter.widget-view+json": {
       "model_id": "c67e638736214bfbad5046fb2434ea48",
       "version_major": 2,
       "version_minor": 0
      },
      "text/plain": [
       "Processing Iterations:   0%|          | 0/40 [00:00<?, ?step/s]"
      ]
     },
     "metadata": {},
     "output_type": "display_data"
    },
    {
     "data": {
      "application/vnd.jupyter.widget-view+json": {
       "model_id": "d29f5198d23248e6b80fb40c88c84a18",
       "version_major": 2,
       "version_minor": 0
      },
      "text/plain": [
       "Processing Iterations:   0%|          | 0/40 [00:00<?, ?step/s]"
      ]
     },
     "metadata": {},
     "output_type": "display_data"
    },
    {
     "data": {
      "application/vnd.jupyter.widget-view+json": {
       "model_id": "b8f9c9e3c86847c489d659150f2445b6",
       "version_major": 2,
       "version_minor": 0
      },
      "text/plain": [
       "Processing Iterations:   0%|          | 0/40 [00:00<?, ?step/s]"
      ]
     },
     "metadata": {},
     "output_type": "display_data"
    },
    {
     "data": {
      "application/vnd.jupyter.widget-view+json": {
       "model_id": "61ddd6fb4103449ba15f7dd64f12d280",
       "version_major": 2,
       "version_minor": 0
      },
      "text/plain": [
       "Processing Iterations:   0%|          | 0/40 [00:00<?, ?step/s]"
      ]
     },
     "metadata": {},
     "output_type": "display_data"
    },
    {
     "data": {
      "application/vnd.jupyter.widget-view+json": {
       "model_id": "670f8115608d461f9e09c0dcdbdebd56",
       "version_major": 2,
       "version_minor": 0
      },
      "text/plain": [
       "Processing Iterations:   0%|          | 0/40 [00:00<?, ?step/s]"
      ]
     },
     "metadata": {},
     "output_type": "display_data"
    },
    {
     "data": {
      "application/vnd.jupyter.widget-view+json": {
       "model_id": "4b7f89b8bc5a40a6ae0de04006a443ea",
       "version_major": 2,
       "version_minor": 0
      },
      "text/plain": [
       "Processing Iterations:   0%|          | 0/40 [00:00<?, ?step/s]"
      ]
     },
     "metadata": {},
     "output_type": "display_data"
    },
    {
     "data": {
      "application/vnd.jupyter.widget-view+json": {
       "model_id": "e281b2877a1f43e6ab04ea3354fc84c4",
       "version_major": 2,
       "version_minor": 0
      },
      "text/plain": [
       "Processing Iterations:   0%|          | 0/40 [00:00<?, ?step/s]"
      ]
     },
     "metadata": {},
     "output_type": "display_data"
    },
    {
     "data": {
      "application/vnd.jupyter.widget-view+json": {
       "model_id": "a42efb1654414bcd907b537ddf30cf60",
       "version_major": 2,
       "version_minor": 0
      },
      "text/plain": [
       "Processing Iterations:   0%|          | 0/40 [00:00<?, ?step/s]"
      ]
     },
     "metadata": {},
     "output_type": "display_data"
    },
    {
     "data": {
      "application/vnd.jupyter.widget-view+json": {
       "model_id": "b0ba3cfba69d47fdbd4879cf3d1e45ec",
       "version_major": 2,
       "version_minor": 0
      },
      "text/plain": [
       "Processing Iterations:   0%|          | 0/40 [00:00<?, ?step/s]"
      ]
     },
     "metadata": {},
     "output_type": "display_data"
    },
    {
     "data": {
      "application/vnd.jupyter.widget-view+json": {
       "model_id": "9d1796ae6da044319abfa819543849da",
       "version_major": 2,
       "version_minor": 0
      },
      "text/plain": [
       "Processing Iterations:   0%|          | 0/40 [00:00<?, ?step/s]"
      ]
     },
     "metadata": {},
     "output_type": "display_data"
    },
    {
     "data": {
      "application/vnd.jupyter.widget-view+json": {
       "model_id": "c71a1a21e5294d04adc7e7727cbdddab",
       "version_major": 2,
       "version_minor": 0
      },
      "text/plain": [
       "Processing Iterations:   0%|          | 0/40 [00:00<?, ?step/s]"
      ]
     },
     "metadata": {},
     "output_type": "display_data"
    },
    {
     "data": {
      "application/vnd.jupyter.widget-view+json": {
       "model_id": "efab1f59a1054300a3e03034e00ae54f",
       "version_major": 2,
       "version_minor": 0
      },
      "text/plain": [
       "Processing Iterations:   0%|          | 0/40 [00:00<?, ?step/s]"
      ]
     },
     "metadata": {},
     "output_type": "display_data"
    },
    {
     "data": {
      "application/vnd.jupyter.widget-view+json": {
       "model_id": "ef93ef425a74499ba954b33fd1f66e77",
       "version_major": 2,
       "version_minor": 0
      },
      "text/plain": [
       "Processing Iterations:   0%|          | 0/40 [00:00<?, ?step/s]"
      ]
     },
     "metadata": {},
     "output_type": "display_data"
    },
    {
     "data": {
      "application/vnd.jupyter.widget-view+json": {
       "model_id": "9a702db4b59c43f5a0f2030c258b8391",
       "version_major": 2,
       "version_minor": 0
      },
      "text/plain": [
       "Processing Iterations:   0%|          | 0/40 [00:00<?, ?step/s]"
      ]
     },
     "metadata": {},
     "output_type": "display_data"
    },
    {
     "data": {
      "application/vnd.jupyter.widget-view+json": {
       "model_id": "41c53e9f1f5c44ea9f7a5d5aff54a86d",
       "version_major": 2,
       "version_minor": 0
      },
      "text/plain": [
       "Processing Iterations:   0%|          | 0/40 [00:00<?, ?step/s]"
      ]
     },
     "metadata": {},
     "output_type": "display_data"
    },
    {
     "data": {
      "application/vnd.jupyter.widget-view+json": {
       "model_id": "66f1575f7a014a14bc84ec16a0b11c1c",
       "version_major": 2,
       "version_minor": 0
      },
      "text/plain": [
       "Processing Iterations:   0%|          | 0/40 [00:00<?, ?step/s]"
      ]
     },
     "metadata": {},
     "output_type": "display_data"
    },
    {
     "data": {
      "application/vnd.jupyter.widget-view+json": {
       "model_id": "667f1bce428b459595c559c862d1011e",
       "version_major": 2,
       "version_minor": 0
      },
      "text/plain": [
       "Processing Iterations:   0%|          | 0/40 [00:00<?, ?step/s]"
      ]
     },
     "metadata": {},
     "output_type": "display_data"
    },
    {
     "data": {
      "application/vnd.jupyter.widget-view+json": {
       "model_id": "c477b5f2fde1429bbedd1c899361d54a",
       "version_major": 2,
       "version_minor": 0
      },
      "text/plain": [
       "Processing Iterations:   0%|          | 0/40 [00:00<?, ?step/s]"
      ]
     },
     "metadata": {},
     "output_type": "display_data"
    },
    {
     "data": {
      "application/vnd.jupyter.widget-view+json": {
       "model_id": "7268acb1a7d54289aeef65b397eed8a4",
       "version_major": 2,
       "version_minor": 0
      },
      "text/plain": [
       "Processing Iterations:   0%|          | 0/40 [00:00<?, ?step/s]"
      ]
     },
     "metadata": {},
     "output_type": "display_data"
    },
    {
     "data": {
      "application/vnd.jupyter.widget-view+json": {
       "model_id": "ebcb76f6669741889d1d4d8f518ab322",
       "version_major": 2,
       "version_minor": 0
      },
      "text/plain": [
       "Processing Iterations:   0%|          | 0/40 [00:00<?, ?step/s]"
      ]
     },
     "metadata": {},
     "output_type": "display_data"
    },
    {
     "data": {
      "application/vnd.jupyter.widget-view+json": {
       "model_id": "2121d997a58843a380e3aaf29b0b3b59",
       "version_major": 2,
       "version_minor": 0
      },
      "text/plain": [
       "Processing Iterations:   0%|          | 0/40 [00:00<?, ?step/s]"
      ]
     },
     "metadata": {},
     "output_type": "display_data"
    },
    {
     "data": {
      "application/vnd.jupyter.widget-view+json": {
       "model_id": "efbd3a6e77a543429496b6599d1c37d3",
       "version_major": 2,
       "version_minor": 0
      },
      "text/plain": [
       "Processing Iterations:   0%|          | 0/40 [00:00<?, ?step/s]"
      ]
     },
     "metadata": {},
     "output_type": "display_data"
    },
    {
     "data": {
      "application/vnd.jupyter.widget-view+json": {
       "model_id": "df232d5985ac4c0aad060c29913c135b",
       "version_major": 2,
       "version_minor": 0
      },
      "text/plain": [
       "Processing Iterations:   0%|          | 0/40 [00:00<?, ?step/s]"
      ]
     },
     "metadata": {},
     "output_type": "display_data"
    },
    {
     "data": {
      "application/vnd.jupyter.widget-view+json": {
       "model_id": "e54dac13be9c4b4a8614645d1535808c",
       "version_major": 2,
       "version_minor": 0
      },
      "text/plain": [
       "Processing Iterations:   0%|          | 0/40 [00:00<?, ?step/s]"
      ]
     },
     "metadata": {},
     "output_type": "display_data"
    },
    {
     "data": {
      "application/vnd.jupyter.widget-view+json": {
       "model_id": "fc604aa9bb8444e6a5ae3ae191be30dc",
       "version_major": 2,
       "version_minor": 0
      },
      "text/plain": [
       "Processing Iterations:   0%|          | 0/40 [00:00<?, ?step/s]"
      ]
     },
     "metadata": {},
     "output_type": "display_data"
    },
    {
     "data": {
      "application/vnd.jupyter.widget-view+json": {
       "model_id": "733bd8edf7cb48548a232290c62195dc",
       "version_major": 2,
       "version_minor": 0
      },
      "text/plain": [
       "Processing Iterations:   0%|          | 0/40 [00:00<?, ?step/s]"
      ]
     },
     "metadata": {},
     "output_type": "display_data"
    },
    {
     "data": {
      "application/vnd.jupyter.widget-view+json": {
       "model_id": "2212d9a894c74d6f99f1abf954836dcf",
       "version_major": 2,
       "version_minor": 0
      },
      "text/plain": [
       "Processing Iterations:   0%|          | 0/40 [00:00<?, ?step/s]"
      ]
     },
     "metadata": {},
     "output_type": "display_data"
    },
    {
     "data": {
      "application/vnd.jupyter.widget-view+json": {
       "model_id": "40b7c8e856e24c4ebf448e933a052c8a",
       "version_major": 2,
       "version_minor": 0
      },
      "text/plain": [
       "Processing Iterations:   0%|          | 0/40 [00:00<?, ?step/s]"
      ]
     },
     "metadata": {},
     "output_type": "display_data"
    },
    {
     "data": {
      "application/vnd.jupyter.widget-view+json": {
       "model_id": "0cec7d172fab48748338cc9a156ddb7e",
       "version_major": 2,
       "version_minor": 0
      },
      "text/plain": [
       "Processing Iterations:   0%|          | 0/40 [00:00<?, ?step/s]"
      ]
     },
     "metadata": {},
     "output_type": "display_data"
    },
    {
     "data": {
      "application/vnd.jupyter.widget-view+json": {
       "model_id": "82b6274f452d44cd842810dbf4d88c44",
       "version_major": 2,
       "version_minor": 0
      },
      "text/plain": [
       "Processing Iterations:   0%|          | 0/40 [00:00<?, ?step/s]"
      ]
     },
     "metadata": {},
     "output_type": "display_data"
    },
    {
     "data": {
      "application/vnd.jupyter.widget-view+json": {
       "model_id": "6ca2389e6cbb427bb164d92c40131c3e",
       "version_major": 2,
       "version_minor": 0
      },
      "text/plain": [
       "Processing Iterations:   0%|          | 0/40 [00:00<?, ?step/s]"
      ]
     },
     "metadata": {},
     "output_type": "display_data"
    },
    {
     "data": {
      "application/vnd.jupyter.widget-view+json": {
       "model_id": "8f2f63d3c99e41d88b67c0d635203b66",
       "version_major": 2,
       "version_minor": 0
      },
      "text/plain": [
       "Processing Iterations:   0%|          | 0/40 [00:00<?, ?step/s]"
      ]
     },
     "metadata": {},
     "output_type": "display_data"
    },
    {
     "data": {
      "application/vnd.jupyter.widget-view+json": {
       "model_id": "d64704b354884fc5ab106dd02ffb2714",
       "version_major": 2,
       "version_minor": 0
      },
      "text/plain": [
       "Processing Iterations:   0%|          | 0/40 [00:00<?, ?step/s]"
      ]
     },
     "metadata": {},
     "output_type": "display_data"
    },
    {
     "data": {
      "application/vnd.jupyter.widget-view+json": {
       "model_id": "7a5260e2d8c046c683ab2328eff391d0",
       "version_major": 2,
       "version_minor": 0
      },
      "text/plain": [
       "Processing Iterations:   0%|          | 0/40 [00:00<?, ?step/s]"
      ]
     },
     "metadata": {},
     "output_type": "display_data"
    },
    {
     "data": {
      "application/vnd.jupyter.widget-view+json": {
       "model_id": "74bee7dd3bea43ebbf80c2212d2def9e",
       "version_major": 2,
       "version_minor": 0
      },
      "text/plain": [
       "Processing Iterations:   0%|          | 0/40 [00:00<?, ?step/s]"
      ]
     },
     "metadata": {},
     "output_type": "display_data"
    },
    {
     "data": {
      "application/vnd.jupyter.widget-view+json": {
       "model_id": "f455fc1bca644b7999862d46e3da2bf9",
       "version_major": 2,
       "version_minor": 0
      },
      "text/plain": [
       "Processing Iterations:   0%|          | 0/40 [00:00<?, ?step/s]"
      ]
     },
     "metadata": {},
     "output_type": "display_data"
    },
    {
     "data": {
      "application/vnd.jupyter.widget-view+json": {
       "model_id": "4be7fbb6180442f0a82b487b1f79373c",
       "version_major": 2,
       "version_minor": 0
      },
      "text/plain": [
       "Processing Iterations:   0%|          | 0/40 [00:00<?, ?step/s]"
      ]
     },
     "metadata": {},
     "output_type": "display_data"
    },
    {
     "data": {
      "application/vnd.jupyter.widget-view+json": {
       "model_id": "7355d3262124414c8cd2f3461debe9db",
       "version_major": 2,
       "version_minor": 0
      },
      "text/plain": [
       "Processing Iterations:   0%|          | 0/40 [00:00<?, ?step/s]"
      ]
     },
     "metadata": {},
     "output_type": "display_data"
    },
    {
     "data": {
      "application/vnd.jupyter.widget-view+json": {
       "model_id": "e18480e7cfcf4518acc91c673399d594",
       "version_major": 2,
       "version_minor": 0
      },
      "text/plain": [
       "Processing Iterations:   0%|          | 0/40 [00:00<?, ?step/s]"
      ]
     },
     "metadata": {},
     "output_type": "display_data"
    },
    {
     "data": {
      "application/vnd.jupyter.widget-view+json": {
       "model_id": "af0cf8a93cd14ce3af918233d8e99154",
       "version_major": 2,
       "version_minor": 0
      },
      "text/plain": [
       "Processing Iterations:   0%|          | 0/40 [00:00<?, ?step/s]"
      ]
     },
     "metadata": {},
     "output_type": "display_data"
    },
    {
     "data": {
      "application/vnd.jupyter.widget-view+json": {
       "model_id": "3e0c29d496c94cd0a012fc903629aeaa",
       "version_major": 2,
       "version_minor": 0
      },
      "text/plain": [
       "Processing Iterations:   0%|          | 0/40 [00:00<?, ?step/s]"
      ]
     },
     "metadata": {},
     "output_type": "display_data"
    },
    {
     "data": {
      "application/vnd.jupyter.widget-view+json": {
       "model_id": "1253bc742c7441eea778444cd48b5506",
       "version_major": 2,
       "version_minor": 0
      },
      "text/plain": [
       "Processing Iterations:   0%|          | 0/40 [00:00<?, ?step/s]"
      ]
     },
     "metadata": {},
     "output_type": "display_data"
    },
    {
     "data": {
      "application/vnd.jupyter.widget-view+json": {
       "model_id": "4e7bfacc5a044d1f80aa5aa202ae021e",
       "version_major": 2,
       "version_minor": 0
      },
      "text/plain": [
       "Processing Iterations:   0%|          | 0/40 [00:00<?, ?step/s]"
      ]
     },
     "metadata": {},
     "output_type": "display_data"
    },
    {
     "data": {
      "application/vnd.jupyter.widget-view+json": {
       "model_id": "e6c938e5c3de4567a73d809f7b6a38ca",
       "version_major": 2,
       "version_minor": 0
      },
      "text/plain": [
       "Processing Iterations:   0%|          | 0/40 [00:00<?, ?step/s]"
      ]
     },
     "metadata": {},
     "output_type": "display_data"
    },
    {
     "data": {
      "application/vnd.jupyter.widget-view+json": {
       "model_id": "36fadfa7332e467d961353226ab91e45",
       "version_major": 2,
       "version_minor": 0
      },
      "text/plain": [
       "Processing Iterations:   0%|          | 0/40 [00:00<?, ?step/s]"
      ]
     },
     "metadata": {},
     "output_type": "display_data"
    },
    {
     "data": {
      "application/vnd.jupyter.widget-view+json": {
       "model_id": "eeee94489b364a18861c7385f272ea06",
       "version_major": 2,
       "version_minor": 0
      },
      "text/plain": [
       "Processing Iterations:   0%|          | 0/40 [00:00<?, ?step/s]"
      ]
     },
     "metadata": {},
     "output_type": "display_data"
    },
    {
     "data": {
      "application/vnd.jupyter.widget-view+json": {
       "model_id": "3ba9f0e4915d4874a9dc9ccfa0538c06",
       "version_major": 2,
       "version_minor": 0
      },
      "text/plain": [
       "Processing Iterations:   0%|          | 0/40 [00:00<?, ?step/s]"
      ]
     },
     "metadata": {},
     "output_type": "display_data"
    },
    {
     "data": {
      "application/vnd.jupyter.widget-view+json": {
       "model_id": "dc84d3fafbc9464da71e0cf73b2f5a38",
       "version_major": 2,
       "version_minor": 0
      },
      "text/plain": [
       "Processing Iterations:   0%|          | 0/40 [00:00<?, ?step/s]"
      ]
     },
     "metadata": {},
     "output_type": "display_data"
    },
    {
     "data": {
      "application/vnd.jupyter.widget-view+json": {
       "model_id": "dbc040acffe2441791438078eb6f8e49",
       "version_major": 2,
       "version_minor": 0
      },
      "text/plain": [
       "Processing Iterations:   0%|          | 0/40 [00:00<?, ?step/s]"
      ]
     },
     "metadata": {},
     "output_type": "display_data"
    },
    {
     "data": {
      "application/vnd.jupyter.widget-view+json": {
       "model_id": "210c75bdac6441169bb4f94d6f5bd79c",
       "version_major": 2,
       "version_minor": 0
      },
      "text/plain": [
       "Processing Iterations:   0%|          | 0/40 [00:00<?, ?step/s]"
      ]
     },
     "metadata": {},
     "output_type": "display_data"
    },
    {
     "data": {
      "application/vnd.jupyter.widget-view+json": {
       "model_id": "e8a0c8e7029649b79f0ddd86a036a60d",
       "version_major": 2,
       "version_minor": 0
      },
      "text/plain": [
       "Processing Iterations:   0%|          | 0/40 [00:00<?, ?step/s]"
      ]
     },
     "metadata": {},
     "output_type": "display_data"
    },
    {
     "data": {
      "application/vnd.jupyter.widget-view+json": {
       "model_id": "6761cfd9581a4de5bc5c7d2e26ae8100",
       "version_major": 2,
       "version_minor": 0
      },
      "text/plain": [
       "Processing Iterations:   0%|          | 0/40 [00:00<?, ?step/s]"
      ]
     },
     "metadata": {},
     "output_type": "display_data"
    },
    {
     "data": {
      "application/vnd.jupyter.widget-view+json": {
       "model_id": "3f72e027023c468184eb2cef82bab2e2",
       "version_major": 2,
       "version_minor": 0
      },
      "text/plain": [
       "Processing Iterations:   0%|          | 0/40 [00:00<?, ?step/s]"
      ]
     },
     "metadata": {},
     "output_type": "display_data"
    },
    {
     "data": {
      "application/vnd.jupyter.widget-view+json": {
       "model_id": "ec188aeb172f423ba7ad3d63627f6fe8",
       "version_major": 2,
       "version_minor": 0
      },
      "text/plain": [
       "Processing Iterations:   0%|          | 0/40 [00:00<?, ?step/s]"
      ]
     },
     "metadata": {},
     "output_type": "display_data"
    },
    {
     "data": {
      "application/vnd.jupyter.widget-view+json": {
       "model_id": "b989c22cf5794ea5afed8f60771ee9c7",
       "version_major": 2,
       "version_minor": 0
      },
      "text/plain": [
       "Processing Iterations:   0%|          | 0/40 [00:00<?, ?step/s]"
      ]
     },
     "metadata": {},
     "output_type": "display_data"
    },
    {
     "data": {
      "application/vnd.jupyter.widget-view+json": {
       "model_id": "38f8eec039314655a92276f519a290a5",
       "version_major": 2,
       "version_minor": 0
      },
      "text/plain": [
       "Processing Iterations:   0%|          | 0/40 [00:00<?, ?step/s]"
      ]
     },
     "metadata": {},
     "output_type": "display_data"
    },
    {
     "data": {
      "application/vnd.jupyter.widget-view+json": {
       "model_id": "bc5d980f198e43649ae7f60fd9c286de",
       "version_major": 2,
       "version_minor": 0
      },
      "text/plain": [
       "Processing Iterations:   0%|          | 0/40 [00:00<?, ?step/s]"
      ]
     },
     "metadata": {},
     "output_type": "display_data"
    },
    {
     "data": {
      "application/vnd.jupyter.widget-view+json": {
       "model_id": "8dbd066409b1410582aff555f46fa5ea",
       "version_major": 2,
       "version_minor": 0
      },
      "text/plain": [
       "Processing Iterations:   0%|          | 0/40 [00:00<?, ?step/s]"
      ]
     },
     "metadata": {},
     "output_type": "display_data"
    },
    {
     "data": {
      "application/vnd.jupyter.widget-view+json": {
       "model_id": "c8523a9fbd114df19b44f6de9436c311",
       "version_major": 2,
       "version_minor": 0
      },
      "text/plain": [
       "Processing Iterations:   0%|          | 0/40 [00:00<?, ?step/s]"
      ]
     },
     "metadata": {},
     "output_type": "display_data"
    },
    {
     "data": {
      "application/vnd.jupyter.widget-view+json": {
       "model_id": "09f22223e28d40ca87f7c40360f0cfcb",
       "version_major": 2,
       "version_minor": 0
      },
      "text/plain": [
       "Processing Iterations:   0%|          | 0/40 [00:00<?, ?step/s]"
      ]
     },
     "metadata": {},
     "output_type": "display_data"
    },
    {
     "data": {
      "application/vnd.jupyter.widget-view+json": {
       "model_id": "1a2e17a9b55b467484e4aa1b2737d328",
       "version_major": 2,
       "version_minor": 0
      },
      "text/plain": [
       "Processing Iterations:   0%|          | 0/40 [00:00<?, ?step/s]"
      ]
     },
     "metadata": {},
     "output_type": "display_data"
    },
    {
     "data": {
      "application/vnd.jupyter.widget-view+json": {
       "model_id": "ebcb7566b78e4650b71bb4fc24d143c2",
       "version_major": 2,
       "version_minor": 0
      },
      "text/plain": [
       "Processing Iterations:   0%|          | 0/40 [00:00<?, ?step/s]"
      ]
     },
     "metadata": {},
     "output_type": "display_data"
    },
    {
     "data": {
      "application/vnd.jupyter.widget-view+json": {
       "model_id": "1f59a5ad399f4cf5913a6c34966b5c60",
       "version_major": 2,
       "version_minor": 0
      },
      "text/plain": [
       "Processing Iterations:   0%|          | 0/40 [00:00<?, ?step/s]"
      ]
     },
     "metadata": {},
     "output_type": "display_data"
    },
    {
     "data": {
      "application/vnd.jupyter.widget-view+json": {
       "model_id": "37de0e7008da478a9fe7d289c6fee101",
       "version_major": 2,
       "version_minor": 0
      },
      "text/plain": [
       "Processing Iterations:   0%|          | 0/40 [00:00<?, ?step/s]"
      ]
     },
     "metadata": {},
     "output_type": "display_data"
    },
    {
     "data": {
      "application/vnd.jupyter.widget-view+json": {
       "model_id": "bd267be86aa64b428d11dca47232e60b",
       "version_major": 2,
       "version_minor": 0
      },
      "text/plain": [
       "Processing Iterations:   0%|          | 0/40 [00:00<?, ?step/s]"
      ]
     },
     "metadata": {},
     "output_type": "display_data"
    },
    {
     "data": {
      "application/vnd.jupyter.widget-view+json": {
       "model_id": "6578bf7aa2844c1baf4c34063cca3fa6",
       "version_major": 2,
       "version_minor": 0
      },
      "text/plain": [
       "Processing Iterations:   0%|          | 0/40 [00:00<?, ?step/s]"
      ]
     },
     "metadata": {},
     "output_type": "display_data"
    },
    {
     "data": {
      "application/vnd.jupyter.widget-view+json": {
       "model_id": "2fdee9a9ab164649990b11df0c2d11de",
       "version_major": 2,
       "version_minor": 0
      },
      "text/plain": [
       "Processing Iterations:   0%|          | 0/40 [00:00<?, ?step/s]"
      ]
     },
     "metadata": {},
     "output_type": "display_data"
    },
    {
     "data": {
      "application/vnd.jupyter.widget-view+json": {
       "model_id": "2191d54b1c004fd9b563f9a23d36cdb1",
       "version_major": 2,
       "version_minor": 0
      },
      "text/plain": [
       "Processing Iterations:   0%|          | 0/40 [00:00<?, ?step/s]"
      ]
     },
     "metadata": {},
     "output_type": "display_data"
    },
    {
     "data": {
      "application/vnd.jupyter.widget-view+json": {
       "model_id": "db592c710f824d329d8a1ee8d0fd1487",
       "version_major": 2,
       "version_minor": 0
      },
      "text/plain": [
       "Processing Iterations:   0%|          | 0/40 [00:00<?, ?step/s]"
      ]
     },
     "metadata": {},
     "output_type": "display_data"
    },
    {
     "data": {
      "application/vnd.jupyter.widget-view+json": {
       "model_id": "54a9d822ae1f497f961e6701e229005e",
       "version_major": 2,
       "version_minor": 0
      },
      "text/plain": [
       "Processing Iterations:   0%|          | 0/40 [00:00<?, ?step/s]"
      ]
     },
     "metadata": {},
     "output_type": "display_data"
    },
    {
     "data": {
      "application/vnd.jupyter.widget-view+json": {
       "model_id": "b75897871a864923b09bc2a0f911b9fb",
       "version_major": 2,
       "version_minor": 0
      },
      "text/plain": [
       "Processing Iterations:   0%|          | 0/40 [00:00<?, ?step/s]"
      ]
     },
     "metadata": {},
     "output_type": "display_data"
    },
    {
     "data": {
      "application/vnd.jupyter.widget-view+json": {
       "model_id": "16eb77e01c5d4f17ac9a923399693af8",
       "version_major": 2,
       "version_minor": 0
      },
      "text/plain": [
       "Processing Iterations:   0%|          | 0/40 [00:00<?, ?step/s]"
      ]
     },
     "metadata": {},
     "output_type": "display_data"
    },
    {
     "data": {
      "application/vnd.jupyter.widget-view+json": {
       "model_id": "b546972185ea471d87dddfcb2712207c",
       "version_major": 2,
       "version_minor": 0
      },
      "text/plain": [
       "Processing Iterations:   0%|          | 0/40 [00:00<?, ?step/s]"
      ]
     },
     "metadata": {},
     "output_type": "display_data"
    },
    {
     "data": {
      "application/vnd.jupyter.widget-view+json": {
       "model_id": "a3b322067c654c4eba4dd8a7e013e4d2",
       "version_major": 2,
       "version_minor": 0
      },
      "text/plain": [
       "Processing Iterations:   0%|          | 0/40 [00:00<?, ?step/s]"
      ]
     },
     "metadata": {},
     "output_type": "display_data"
    },
    {
     "data": {
      "application/vnd.jupyter.widget-view+json": {
       "model_id": "4ec15baef7074afaa31bb341dcd9442b",
       "version_major": 2,
       "version_minor": 0
      },
      "text/plain": [
       "Processing Iterations:   0%|          | 0/40 [00:00<?, ?step/s]"
      ]
     },
     "metadata": {},
     "output_type": "display_data"
    },
    {
     "data": {
      "application/vnd.jupyter.widget-view+json": {
       "model_id": "2dfb7a5979e04f3c930f420b1fa7d1de",
       "version_major": 2,
       "version_minor": 0
      },
      "text/plain": [
       "Processing Iterations:   0%|          | 0/40 [00:00<?, ?step/s]"
      ]
     },
     "metadata": {},
     "output_type": "display_data"
    },
    {
     "data": {
      "application/vnd.jupyter.widget-view+json": {
       "model_id": "e04082d5e6614613baa7f38761a8a722",
       "version_major": 2,
       "version_minor": 0
      },
      "text/plain": [
       "Processing Iterations:   0%|          | 0/40 [00:00<?, ?step/s]"
      ]
     },
     "metadata": {},
     "output_type": "display_data"
    },
    {
     "data": {
      "application/vnd.jupyter.widget-view+json": {
       "model_id": "5494f4bb9ddd406e962cb8cbb4e4edf4",
       "version_major": 2,
       "version_minor": 0
      },
      "text/plain": [
       "Processing Iterations:   0%|          | 0/40 [00:00<?, ?step/s]"
      ]
     },
     "metadata": {},
     "output_type": "display_data"
    },
    {
     "data": {
      "application/vnd.jupyter.widget-view+json": {
       "model_id": "eab6230333af4e0d8d726c49cbaec0fa",
       "version_major": 2,
       "version_minor": 0
      },
      "text/plain": [
       "Processing Iterations:   0%|          | 0/40 [00:00<?, ?step/s]"
      ]
     },
     "metadata": {},
     "output_type": "display_data"
    },
    {
     "data": {
      "application/vnd.jupyter.widget-view+json": {
       "model_id": "2acb50b295c04990bf5fae9e067d715e",
       "version_major": 2,
       "version_minor": 0
      },
      "text/plain": [
       "Processing Iterations:   0%|          | 0/40 [00:00<?, ?step/s]"
      ]
     },
     "metadata": {},
     "output_type": "display_data"
    },
    {
     "data": {
      "application/vnd.jupyter.widget-view+json": {
       "model_id": "08e98605bec74751a8d063ffd2bf58d2",
       "version_major": 2,
       "version_minor": 0
      },
      "text/plain": [
       "Processing Iterations:   0%|          | 0/40 [00:00<?, ?step/s]"
      ]
     },
     "metadata": {},
     "output_type": "display_data"
    },
    {
     "name": "stdout",
     "output_type": "stream",
     "text": [
      "GIF saved as 'gifs/Prob distribution vs. Delta, Vertex count is 17, and initial entropy is 2.833.gif'\n"
     ]
    }
   ],
   "source": [
    "data = boss_runner(delta_range, matrix_sizes)"
   ]
  },
  {
   "cell_type": "code",
   "execution_count": 103,
   "id": "43f2c551-77da-4ea7-b669-b3e83fef81f4",
   "metadata": {},
   "outputs": [],
   "source": []
  },
  {
   "cell_type": "code",
   "execution_count": null,
   "id": "1413ceef-c213-439b-a502-1f8b50715d96",
   "metadata": {},
   "outputs": [],
   "source": []
  },
  {
   "cell_type": "code",
   "execution_count": null,
   "id": "78d4d79a-7e95-4a5c-92b8-ca86a698ba1e",
   "metadata": {},
   "outputs": [],
   "source": []
  },
  {
   "cell_type": "code",
   "execution_count": null,
   "id": "4c203cad-065a-4c26-b9a0-e5226e8c42a8",
   "metadata": {},
   "outputs": [],
   "source": []
  },
  {
   "cell_type": "code",
   "execution_count": null,
   "id": "903937a5-6f6b-457c-8398-52e30b15e7c9",
   "metadata": {},
   "outputs": [],
   "source": []
  },
  {
   "cell_type": "code",
   "execution_count": null,
   "id": "051bb67f-acb1-4700-a014-2b6862e44eb1",
   "metadata": {},
   "outputs": [],
   "source": [
    "#from this point onwards, it's old jsut kept just in case as a backup"
   ]
  },
  {
   "cell_type": "code",
   "execution_count": null,
   "id": "7c996c95-1aaa-468a-9221-e2933be9e2e5",
   "metadata": {},
   "outputs": [],
   "source": []
  },
  {
   "cell_type": "code",
   "execution_count": null,
   "id": "2ad0127d-1342-4bae-b921-fc92a40f70a7",
   "metadata": {},
   "outputs": [],
   "source": []
  },
  {
   "cell_type": "code",
   "execution_count": null,
   "id": "d22e83b7-dae7-40b0-94ff-2a8de9fb5bd4",
   "metadata": {},
   "outputs": [],
   "source": []
  },
  {
   "cell_type": "code",
   "execution_count": null,
   "id": "b69e672e-5d41-475e-a406-177e81bcc085",
   "metadata": {},
   "outputs": [],
   "source": []
  },
  {
   "cell_type": "code",
   "execution_count": null,
   "id": "f90c6d4a-4197-4853-a91f-e9f07621f3ca",
   "metadata": {},
   "outputs": [],
   "source": [
    "#previous way of stopping the iterations\n",
    "centers = None\n",
    "u_old = None\n",
    "matrix = matrix_uniform_attachment(15)\n",
    "delta = 0.3\n",
    "matri = diffusion_process(matrix, delta)\n",
    "iterations_done = 0\n",
    "last_four_value = []\n",
    "\n",
    "tolerance = 1e-5\n",
    "for _ in range(20):\n",
    "    x,y = calculate_u_new(matrix, u_old = u_old, centers = centers)\n",
    "    centers = y\n",
    "    value = np.matmul(matri, np.array(x))\n",
    "    u_old = value\n",
    "\n",
    "    if len(last_four_value) < 4:\n",
    "        last_four_value.append(value)\n",
    "    elif len(last_four_value) >= 4:\n",
    "        last_four_value.remove(last_four_value[0])\n",
    "        last_four_value.append(value)\n",
    "\n",
    "\n",
    "    iterations_done+=1\n",
    "    if len(last_four_value) >= 4:\n",
    "        diffs = [np.linalg.norm(last_four_value[i] - last_four_value[i - 1]) for i in range(1, 4)]\n",
    "        if np.mean(diffs) < tolerance:\n",
    "            break\n",
    "\n"
   ]
  },
  {
   "cell_type": "code",
   "execution_count": null,
   "id": "089456f6-d783-4d3b-86e3-f9646bd22553",
   "metadata": {},
   "outputs": [],
   "source": []
  },
  {
   "cell_type": "code",
   "execution_count": null,
   "id": "da1e0aa8-c9f4-4b91-b80e-22ab521fa969",
   "metadata": {},
   "outputs": [],
   "source": []
  },
  {
   "cell_type": "code",
   "execution_count": null,
   "id": "62471cea-ff54-4e0e-8606-e2011fa10dc0",
   "metadata": {},
   "outputs": [],
   "source": []
  },
  {
   "cell_type": "code",
   "execution_count": null,
   "id": "9a244e75-e51f-490d-888f-032ef8e0d20b",
   "metadata": {},
   "outputs": [],
   "source": []
  },
  {
   "cell_type": "code",
   "execution_count": null,
   "id": "c45a7780-8228-43a8-a35a-059e69b0eed2",
   "metadata": {},
   "outputs": [],
   "source": []
  },
  {
   "cell_type": "code",
   "execution_count": null,
   "id": "54825036-7721-4dcf-9e4e-8b3d62b6ab56",
   "metadata": {},
   "outputs": [],
   "source": [
    "delta_range = [0.1, 0.2, 0.3, 0.4, 0.5, 0.6, 0.7, 0.8, 0.9]\n",
    "matrix_sizes = list(range(5,14))\n",
    "\n",
    "def boss_runner(delta_range, matrix_sizes, tolerance = 1e-12, model_type = \"random_uni\"):\n",
    "\n",
    "    all_data = []\n",
    "    \n",
    "    for matrix_size in matrix_sizes:   \n",
    "        iteration = []\n",
    "        for delta in delta_range:\n",
    "            for _ in range(10):\n",
    "                local_it = []\n",
    "                local_entropy = []\n",
    "                u_new, iterr, entropy = main_guy(delta, model_type=model_type, matrix_size=matrix_size, tolerance=tolerance)\n",
    "                local_it.append(iterr)\n",
    "                local_entropy.append(entropy)\n",
    "            iteration.append({'delta':delta ,\n",
    "                              'vertex':matrix_size,\n",
    "                            'iterration':np.mean(local_it),\n",
    "                            'entropy': np.mean(local_entropy),\n",
    "                             'u_old' : u_new})\n",
    "    \n",
    "        all_data.append(iteration)\n",
    "        df = pd.DataFrame(iteration)\n",
    "    \n",
    "        plt.figure(figsize=(8, 5))\n",
    "        sns.set(style=\"whitegrid\")\n",
    "        \n",
    "        \n",
    "        plt.semilogy(df['delta'], df['u_old'], marker='o', linestyle='-', color='b', \n",
    "                     label=f'Entropy (Matrix Size: {matrix_size}, Tolerance: {tolerance}, Model: {model_type})')\n",
    "        \n",
    "        \n",
    "        plt.xlabel(\"(delta)\", fontsize=12)\n",
    "        plt.ylabel(\"Entropy (log scale)\", fontsize=12)\n",
    "        title = f\"Entropy vs. Delta, Vertex count is {df['vertex'][0]}, and initial entropy is {round(np.log(df['vertex'][0]), 3)}\"\n",
    "        plt.title(title, fontsize=14)\n",
    "        plt.legend()\n",
    "        plt.grid(True, which=\"both\", linestyle=\"--\", linewidth=0.5)\n",
    "        \n",
    "        \n",
    "\n",
    "        folder_path = \"images\"\n",
    "        os.makedirs(folder_path, exist_ok=True)\n",
    "        path = os.path.join(folder_path, f\"plot_{title}.png\")\n",
    "        plt.savefig(path)\n",
    "        plt.show()\n",
    "    \n",
    "    return all_data"
   ]
  }
 ],
 "metadata": {
  "kernelspec": {
   "display_name": "Python 3 (ipykernel)",
   "language": "python",
   "name": "python3"
  },
  "language_info": {
   "codemirror_mode": {
    "name": "ipython",
    "version": 3
   },
   "file_extension": ".py",
   "mimetype": "text/x-python",
   "name": "python",
   "nbconvert_exporter": "python",
   "pygments_lexer": "ipython3",
   "version": "3.10.12"
  }
 },
 "nbformat": 4,
 "nbformat_minor": 5
}
