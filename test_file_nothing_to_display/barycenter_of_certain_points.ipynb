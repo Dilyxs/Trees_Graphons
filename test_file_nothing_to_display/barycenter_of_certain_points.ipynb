{
 "cells": [
  {
   "cell_type": "code",
   "execution_count": 320,
   "id": "7f89adb5-8a5f-44e2-9702-31f98ab83216",
   "metadata": {},
   "outputs": [],
   "source": [
    "import numpy as np\n",
    "import networkx as nx\n",
    "import matplotlib.pyplot as plt\n",
    "def find_barycenter(adj_matrix):\n",
    "    n = len(adj_matrix)  # Number of nodes, number of rows\n",
    "    degrees = np.sum(adj_matrix, axis=1)  # sum of row = degree\n",
    "    nodes = set(range(n))  # all vertex\n",
    "    \n",
    "    while len(nodes) > 2: \n",
    "        leaf_nodes = [i for i in nodes if degrees[i] == 1]  # only those with a single 1 is a leaf\n",
    "        \n",
    "        for leaf in leaf_nodes:\n",
    "            nodes.remove(leaf)  # Remove the leaf \n",
    "            degrees[leaf] = 0  # degree is then 0\n",
    "\n",
    "            for neighbor in range(n):  # this is where we change the adjacency_matrix\n",
    "                if adj_matrix[leaf][neighbor] == 1:  # Check if there is a connection\n",
    "                    degrees[neighbor] -= 1 #deg of neighbor is -1\n",
    "                    adj_matrix[leaf][neighbor] = 0  # change the 1 onto 0\n",
    "                    adj_matrix[neighbor][leaf] = 0   # change also its \"transpose position\" into 0\n",
    "\n",
    "    remaining_nodes = list(nodes)  # should only have 2 or 1 vertex\n",
    "\n",
    "    if len(remaining_nodes) == 1:  # If only 1 vertex\n",
    "        print(f\"Barycenter is the vertex {remaining_nodes[0]}\")\n",
    "        return remaining_nodes , adj_matrix\n",
    "    elif len(remaining_nodes) == 2:  # If only 2 vertex\n",
    "        print(f\"Barycenter is the edge that connects {remaining_nodes[0]} and {remaining_nodes[1]}\")\n",
    "        return remaining_nodes, adj_matrix\n",
    "\n"
   ]
  },
  {
   "cell_type": "code",
   "execution_count": 321,
   "id": "9d218027-b38b-471d-8f89-a87ba8968301",
   "metadata": {},
   "outputs": [],
   "source": [
    "def draw_graph_from_adjacency_matrix(adjacency_matrix):\n",
    "    G = nx.Graph()\n",
    "\n",
    "    for i in range(len(adjacency_matrix)):\n",
    "        for j in range(len(adjacency_matrix[i])):\n",
    "            if adjacency_matrix[i][j] != 0: \n",
    "                G.add_edge(i, j, weight=adjacency_matrix[i][j])\n",
    "\n",
    "\n",
    "    G.add_nodes_from(range(len(adjacency_matrix)))\n",
    "\n",
    "    pos = nx.spring_layout(G, seed=42)\n",
    "\n",
    "    # Draw the graph\n",
    "    plt.figure(figsize=(8, 6))\n",
    "    nx.draw(\n",
    "        G,\n",
    "        pos,\n",
    "        with_labels=True,\n",
    "        node_color='lightblue',\n",
    "        edge_color='black',\n",
    "        node_size=10,\n",
    "        font_size=10,\n",
    "        width=0.5\n",
    "    )\n",
    "    plt.title(\"Graph from Adjacency Matrix\")\n",
    "    plt.show()"
   ]
  },
  {
   "cell_type": "code",
   "execution_count": 322,
   "id": "ba986c09-0b13-45f4-98e0-004a59f86124",
   "metadata": {},
   "outputs": [],
   "source": [
    "from uniform_attachment_model  import matrix_uniform_attachment\n",
    "matrix = matrix_uniform_attachment(9)"
   ]
  },
  {
   "cell_type": "code",
   "execution_count": 323,
   "id": "56933959-d78e-4999-8a67-49d476ed0947",
   "metadata": {},
   "outputs": [
    {
     "data": {
      "text/plain": [
       "[[0, 1, 0, 1, 1, 0, 0, 1, 0],\n",
       " [1, 0, 1, 0, 0, 0, 0, 0, 0],\n",
       " [0, 1, 0, 0, 0, 0, 0, 0, 0],\n",
       " [1, 0, 0, 0, 0, 0, 0, 0, 0],\n",
       " [1, 0, 0, 0, 0, 1, 1, 0, 1],\n",
       " [0, 0, 0, 0, 1, 0, 0, 0, 0],\n",
       " [0, 0, 0, 0, 1, 0, 0, 0, 0],\n",
       " [1, 0, 0, 0, 0, 0, 0, 0, 0],\n",
       " [0, 0, 0, 0, 1, 0, 0, 0, 0]]"
      ]
     },
     "execution_count": 323,
     "metadata": {},
     "output_type": "execute_result"
    }
   ],
   "source": [
    "matrix"
   ]
  },
  {
   "cell_type": "code",
   "execution_count": 18,
   "id": "fceaa194-53d6-4ebc-8023-63916b6dbddd",
   "metadata": {},
   "outputs": [
    {
     "data": {
      "image/png": "[encoded data removed]",
      "text/plain": [
       "<Figure size 576x432 with 1 Axes>"
      ]
     },
     "metadata": {},
     "output_type": "display_data"
    }
   ],
   "source": [
    "draw_graph_from_adjacency_matrix(matrix)"
   ]
  },
  {
   "cell_type": "code",
   "execution_count": 19,
   "id": "e29cdf32-c180-4561-b584-a809c5d6ad84",
   "metadata": {},
   "outputs": [
    {
     "data": {
      "text/plain": [
       "9"
      ]
     },
     "execution_count": 19,
     "metadata": {},
     "output_type": "execute_result"
    }
   ],
   "source": [
    "len(matrix)"
   ]
  },
  {
   "cell_type": "code",
   "execution_count": 20,
   "id": "447b98ee-3427-49ba-87ef-aca03c7df79d",
   "metadata": {},
   "outputs": [],
   "source": [
    "data = list(set(range(len(matrix))))"
   ]
  },
  {
   "cell_type": "code",
   "execution_count": 28,
   "id": "2eace148-0e50-461e-85af-bb50e4420459",
   "metadata": {},
   "outputs": [
    {
     "ename": "AttributeError",
     "evalue": "'list' object has no attribute 'astype'",
     "output_type": "error",
     "traceback": [
      "\u001b[0;31m---------------------------------------------------------------------------\u001b[0m",
      "\u001b[0;31mAttributeError\u001b[0m                            Traceback (most recent call last)",
      "\u001b[0;32m/tmp/ipykernel_18668/393065390.py\u001b[0m in \u001b[0;36m<module>\u001b[0;34m\u001b[0m\n\u001b[1;32m      1\u001b[0m \u001b[0mlist_of_stuff\u001b[0m \u001b[0;34m=\u001b[0m \u001b[0mlist\u001b[0m\u001b[0;34m(\u001b[0m\u001b[0mnp\u001b[0m\u001b[0;34m.\u001b[0m\u001b[0mrandom\u001b[0m\u001b[0;34m.\u001b[0m\u001b[0mchoice\u001b[0m\u001b[0;34m(\u001b[0m\u001b[0mdata\u001b[0m\u001b[0;34m,\u001b[0m \u001b[0msize\u001b[0m\u001b[0;34m=\u001b[0m\u001b[0;36m3\u001b[0m\u001b[0;34m,\u001b[0m \u001b[0mreplace\u001b[0m\u001b[0;34m=\u001b[0m\u001b[0;32mFalse\u001b[0m\u001b[0;34m)\u001b[0m\u001b[0;34m)\u001b[0m\u001b[0;34m\u001b[0m\u001b[0;34m\u001b[0m\u001b[0m\n\u001b[0;32m----> 2\u001b[0;31m \u001b[0mlist_of_stuff\u001b[0m\u001b[0;34m.\u001b[0m\u001b[0mastype\u001b[0m\u001b[0;34m(\u001b[0m\u001b[0;34m)\u001b[0m\u001b[0;34m\u001b[0m\u001b[0;34m\u001b[0m\u001b[0m\n\u001b[0m",
      "\u001b[0;31mAttributeError\u001b[0m: 'list' object has no attribute 'astype'"
     ]
    }
   ],
   "source": [
    "list_of_stuff = list(np.random.choice(data, size=3, replace=False))\n",
    "list_of_stuff.astype()"
   ]
  },
  {
   "cell_type": "code",
   "execution_count": 22,
   "id": "2db7e4fc-5e46-4c75-b146-f08ca7c24ec1",
   "metadata": {},
   "outputs": [
    {
     "data": {
      "text/plain": [
       "[[0, 1, 0, 0, 0, 0, 0, 0, 0],\n",
       " [1, 0, 1, 1, 0, 0, 0, 0, 0],\n",
       " [0, 1, 0, 0, 1, 0, 0, 1, 0],\n",
       " [0, 1, 0, 0, 0, 1, 0, 0, 0],\n",
       " [0, 0, 1, 0, 0, 0, 1, 0, 1],\n",
       " [0, 0, 0, 1, 0, 0, 0, 0, 0],\n",
       " [0, 0, 0, 0, 1, 0, 0, 0, 0],\n",
       " [0, 0, 1, 0, 0, 0, 0, 0, 0],\n",
       " [0, 0, 0, 0, 1, 0, 0, 0, 0]]"
      ]
     },
     "execution_count": 22,
     "metadata": {},
     "output_type": "execute_result"
    }
   ],
   "source": [
    "matrix"
   ]
  },
  {
   "cell_type": "code",
   "execution_count": 324,
   "id": "a6764cf3-c28e-49eb-96ff-dc5f7a1f7221",
   "metadata": {},
   "outputs": [],
   "source": [
    "vertexes_to_avoid = [0,4,7]\n",
    "def find_barycenter(adj_matrix):\n",
    "    n = len(adj_matrix)  # Number of nodes, number of rows\n",
    "    degrees = np.sum(adj_matrix, axis=1)  # sum of row = degree\n",
    "    nodes = set(range(n))  # all vertex\n",
    "    \n",
    "    while len(nodes) > 2: \n",
    "        leaf_nodes = [i for i in nodes if degrees[i] == 1]  # only those with a single 1 is a leaf\n",
    "        \n",
    "        for leaf in leaf_nodes:\n",
    "            nodes.remove(leaf)  # Remove the leaf \n",
    "            degrees[leaf] = 0  # degree is then 0\n",
    "\n",
    "            for neighbor in range(n):  # this is where we change the adjacency_matrix\n",
    "                if adj_matrix[leaf][neighbor] == 1:  # Check if there is a connection\n",
    "                    degrees[neighbor] -= 1 #deg of neighbor is -1\n",
    "                    adj_matrix[leaf][neighbor] = 0  # change the 1 onto 0\n",
    "                    adj_matrix[neighbor][leaf] = 0   # change also its \"transpose position\" into 0\n",
    "\n",
    "    remaining_nodes = list(nodes)  # should only have 2 or 1 vertex\n",
    "\n",
    "    if len(remaining_nodes) == 1:  # If only 1 vertex\n",
    "        print(f\"Barycenter is the vertex {remaining_nodes[0]}\")\n",
    "        return remaining_nodes , adj_matrix\n",
    "    elif len(remaining_nodes) == 2:  # If only 2 vertex\n",
    "        print(f\"Barycenter is the edge that connects {remaining_nodes[0]} and {remaining_nodes[1]}\")\n",
    "        return remaining_nodes, adj_matrix\n",
    "\n",
    "\n"
   ]
  },
  {
   "cell_type": "code",
   "execution_count": 51,
   "id": "d940e85c-fd6d-4071-b55e-30eed72db4ca",
   "metadata": {},
   "outputs": [
    {
     "data": {
      "image/png": "[encoded data removed]",
      "text/plain": [
       "<Figure size 576x432 with 1 Axes>"
      ]
     },
     "metadata": {},
     "output_type": "display_data"
    },
    {
     "name": "stdout",
     "output_type": "stream",
     "text": [
      "[3, 6, 8]\n",
      "[1, 2, 5]\n",
      "[7]\n",
      "Barycenter is the edge that connects 0 and 4\n"
     ]
    }
   ],
   "source": [
    "matrix = matrix_uniform_attachment(9)\n",
    "draw_graph_from_adjacency_matrix(matrix)\n",
    "vertexes_to_avoid = [0,4,7]\n",
    "sd, adj = find_barycenter(matrix, vertexes_to_avoid)"
   ]
  },
  {
   "cell_type": "code",
   "execution_count": 48,
   "id": "47223e68-6d47-4214-b52b-fbea1db07a5c",
   "metadata": {},
   "outputs": [
    {
     "data": {
      "text/plain": [
       "[1, 3]"
      ]
     },
     "execution_count": 48,
     "metadata": {},
     "output_type": "execute_result"
    }
   ],
   "source": [
    "vertexes_to_avoid = [0,4,7]\n",
    "leaf_nodes = [0,1,3,7]\n",
    "\n",
    "for i in leaf_nodes:\n",
    "    for j in vertexes_to_avoid:\n",
    "        if i==j:\n",
    "            leaf_nodes.remove(i)\n",
    "leaf_nodes"
   ]
  },
  {
   "cell_type": "code",
   "execution_count": 97,
   "id": "ac8f6559-9a1e-48c9-ad2f-7b7401d780f3",
   "metadata": {},
   "outputs": [
    {
     "data": {
      "image/png": "[encoded data removed]",
      "text/plain": [
       "<Figure size 576x432 with 1 Axes>"
      ]
     },
     "metadata": {},
     "output_type": "display_data"
    }
   ],
   "source": [
    "matrix = matrix_uniform_attachment(9)\n",
    "draw_graph_from_adjacency_matrix(matrix)"
   ]
  },
  {
   "cell_type": "code",
   "execution_count": 98,
   "id": "7c16d779-642d-49b8-bcba-75f4cbdde411",
   "metadata": {},
   "outputs": [
    {
     "data": {
      "text/plain": [
       "[[0, 1, 0, 0, 0, 1, 0, 0, 0],\n",
       " [1, 0, 1, 0, 1, 0, 0, 0, 0],\n",
       " [0, 1, 0, 1, 0, 0, 1, 0, 1],\n",
       " [0, 0, 1, 0, 0, 0, 0, 0, 0],\n",
       " [0, 1, 0, 0, 0, 0, 0, 0, 0],\n",
       " [1, 0, 0, 0, 0, 0, 0, 0, 0],\n",
       " [0, 0, 1, 0, 0, 0, 0, 1, 0],\n",
       " [0, 0, 0, 0, 0, 0, 1, 0, 0],\n",
       " [0, 0, 1, 0, 0, 0, 0, 0, 0]]"
      ]
     },
     "execution_count": 98,
     "metadata": {},
     "output_type": "execute_result"
    }
   ],
   "source": [
    "matrix"
   ]
  },
  {
   "cell_type": "code",
   "execution_count": 99,
   "id": "6cc4c324-6b12-4c81-84f2-58680a9b361c",
   "metadata": {},
   "outputs": [],
   "source": [
    "vertex_to_remove = [1,5,7]"
   ]
  },
  {
   "cell_type": "code",
   "execution_count": 100,
   "id": "307f8ed1-f0e4-4a26-8d4e-8b7c2bd43dc7",
   "metadata": {},
   "outputs": [],
   "source": [
    "s= 0 \n",
    "column = []\n",
    "row = []\n",
    "for i in matrix:\n",
    "    if sum(i) == 1:\n",
    "        if s in vertex_to_remove:\n",
    "            pass\n",
    "        if s not in vertex_to_remove:\n",
    "            d = 0\n",
    "            for v in i:\n",
    "                if v==1:\n",
    "                    row.append(s)\n",
    "                    column.append(d)\n",
    "                d+=1\n",
    "                    \n",
    "\n",
    "    s+=1\n",
    "\n"
   ]
  },
  {
   "cell_type": "code",
   "execution_count": 101,
   "id": "a1585fb8-b7c4-4aa4-8272-f5f16857ee63",
   "metadata": {},
   "outputs": [
    {
     "data": {
      "text/plain": [
       "[2, 1, 2]"
      ]
     },
     "execution_count": 101,
     "metadata": {},
     "output_type": "execute_result"
    }
   ],
   "source": [
    "column"
   ]
  },
  {
   "cell_type": "code",
   "execution_count": 102,
   "id": "2ddccbb6-8c05-4fbb-900c-ef46d7d7ca45",
   "metadata": {},
   "outputs": [
    {
     "data": {
      "text/plain": [
       "[3, 4, 8]"
      ]
     },
     "execution_count": 102,
     "metadata": {},
     "output_type": "execute_result"
    }
   ],
   "source": [
    "row"
   ]
  },
  {
   "cell_type": "code",
   "execution_count": 325,
   "id": "671da2c3-d185-4649-a31e-70d824bad1ce",
   "metadata": {},
   "outputs": [],
   "source": [
    "def make_that_1_into_0_with_transpose(matrix, row, column):\n",
    "    matrix[row][column] = 0\n",
    "    matrix[column][row] = 0\n",
    "\n",
    "\n",
    "    return matrix"
   ]
  },
  {
   "cell_type": "code",
   "execution_count": 326,
   "id": "be04dcb0-1078-43b5-b5af-7fe4c3dde947",
   "metadata": {},
   "outputs": [],
   "source": [
    "for row, column in zip(row, column):\n",
    "    matrix = make_that_1_into_0_with_transpose(matrix, row, column)"
   ]
  },
  {
   "cell_type": "code",
   "execution_count": 327,
   "id": "6c10c0db-75ed-4282-a0f8-199d905442c6",
   "metadata": {},
   "outputs": [
    {
     "data": {
      "text/plain": [
       "[[0, 1, 0, 1, 1, 0, 0, 1, 0],\n",
       " [1, 0, 1, 0, 0, 0, 0, 0, 0],\n",
       " [0, 1, 0, 0, 0, 0, 0, 0, 0],\n",
       " [1, 0, 0, 0, 0, 0, 0, 0, 0],\n",
       " [1, 0, 0, 0, 0, 1, 1, 0, 1],\n",
       " [0, 0, 0, 0, 1, 0, 0, 0, 0],\n",
       " [0, 0, 0, 0, 1, 0, 0, 0, 0],\n",
       " [1, 0, 0, 0, 0, 0, 0, 0, 0],\n",
       " [0, 0, 0, 0, 1, 0, 0, 0, 0]]"
      ]
     },
     "execution_count": 327,
     "metadata": {},
     "output_type": "execute_result"
    }
   ],
   "source": [
    "matrix"
   ]
  },
  {
   "cell_type": "code",
   "execution_count": 328,
   "id": "c6023e47-2536-4817-ac56-22f71fd45b2f",
   "metadata": {},
   "outputs": [
    {
     "data": {
      "image/png": "[encoded data removed]",
      "text/plain": [
       "<Figure size 576x432 with 1 Axes>"
      ]
     },
     "metadata": {},
     "output_type": "display_data"
    }
   ],
   "source": [
    "draw_graph_from_adjacency_matrix(matrix)"
   ]
  },
  {
   "cell_type": "code",
   "execution_count": 329,
   "id": "432ca0fc-87e9-453a-88fc-6f12080f02ef",
   "metadata": {},
   "outputs": [],
   "source": [
    "s= 0 \n",
    "column = []\n",
    "row = []\n",
    "for i in matrix:\n",
    "    if sum(i) == 1:\n",
    "        if s in vertex_to_remove:\n",
    "            pass\n",
    "        if s not in vertex_to_remove:\n",
    "            d = 0\n",
    "            for v in i:\n",
    "                if v==1:\n",
    "                    row.append(s)\n",
    "                    column.append(d)\n",
    "                d+=1\n",
    "                    \n",
    "\n",
    "    s+=1\n"
   ]
  },
  {
   "cell_type": "code",
   "execution_count": 330,
   "id": "1d51b96d-4747-4bc8-a780-49e99872e4f6",
   "metadata": {},
   "outputs": [
    {
     "data": {
      "text/plain": [
       "[1, 0, 4, 0, 4]"
      ]
     },
     "execution_count": 330,
     "metadata": {},
     "output_type": "execute_result"
    }
   ],
   "source": [
    "column"
   ]
  },
  {
   "cell_type": "code",
   "execution_count": 331,
   "id": "7d0f2ff7-5d24-4e52-9778-e53552cf93f1",
   "metadata": {},
   "outputs": [
    {
     "data": {
      "text/plain": [
       "[2, 3, 6, 7, 8]"
      ]
     },
     "execution_count": 331,
     "metadata": {},
     "output_type": "execute_result"
    }
   ],
   "source": [
    "row"
   ]
  },
  {
   "cell_type": "code",
   "execution_count": 332,
   "id": "6e48802b-f9c8-4152-a5a8-82a3ab62bc2e",
   "metadata": {},
   "outputs": [],
   "source": [
    "for row, column in zip(row, column):\n",
    "    matrix = make_that_1_into_0_with_transpose(matrix, row, column)"
   ]
  },
  {
   "cell_type": "code",
   "execution_count": 333,
   "id": "dc4e556e-b0a2-4029-a9c1-cafefe207337",
   "metadata": {},
   "outputs": [
    {
     "data": {
      "text/plain": [
       "[[0, 1, 0, 0, 1, 0, 0, 0, 0],\n",
       " [1, 0, 0, 0, 0, 0, 0, 0, 0],\n",
       " [0, 0, 0, 0, 0, 0, 0, 0, 0],\n",
       " [0, 0, 0, 0, 0, 0, 0, 0, 0],\n",
       " [1, 0, 0, 0, 0, 1, 0, 0, 0],\n",
       " [0, 0, 0, 0, 1, 0, 0, 0, 0],\n",
       " [0, 0, 0, 0, 0, 0, 0, 0, 0],\n",
       " [0, 0, 0, 0, 0, 0, 0, 0, 0],\n",
       " [0, 0, 0, 0, 0, 0, 0, 0, 0]]"
      ]
     },
     "execution_count": 333,
     "metadata": {},
     "output_type": "execute_result"
    }
   ],
   "source": [
    "matrix"
   ]
  },
  {
   "cell_type": "code",
   "execution_count": 88,
   "id": "fdd08f81-d790-408f-8c8a-8819881f615e",
   "metadata": {
    "scrolled": true
   },
   "outputs": [
    {
     "data": {
      "image/png": "[encoded data removed]",
      "text/plain": [
       "<Figure size 576x432 with 1 Axes>"
      ]
     },
     "metadata": {},
     "output_type": "display_data"
    }
   ],
   "source": [
    "draw_graph_from_adjacency_matrix(matrix)"
   ]
  },
  {
   "cell_type": "code",
   "execution_count": 94,
   "id": "2ba9fada-d9da-4a31-9080-5dd38bc67419",
   "metadata": {},
   "outputs": [],
   "source": [
    "interested_vertex = []\n",
    "s = 0\n",
    "for i in matrix:\n",
    "    if sum(i) == 3:\n",
    "        interested_vertex.append(s)\n",
    "\n",
    "    s+=1"
   ]
  },
  {
   "cell_type": "code",
   "execution_count": 95,
   "id": "0a3ace51-adf7-48a4-aab0-665c5129c23d",
   "metadata": {},
   "outputs": [
    {
     "data": {
      "text/plain": [
       "[]"
      ]
     },
     "execution_count": 95,
     "metadata": {},
     "output_type": "execute_result"
    }
   ],
   "source": [
    "interested_vertex"
   ]
  },
  {
   "cell_type": "code",
   "execution_count": 334,
   "id": "116535bf-525b-4a63-963b-f3f985d7ef1b",
   "metadata": {},
   "outputs": [],
   "source": [
    "def row_colum_returner(matrix, vertex_to_remove):\n",
    "    s= 0 \n",
    "    column = []\n",
    "    row = []\n",
    "    for i in matrix:\n",
    "        if sum(i) == 1:\n",
    "            if s in vertex_to_remove:\n",
    "                pass\n",
    "            if s not in vertex_to_remove:\n",
    "                d = 0\n",
    "                for v in i:\n",
    "                    if v==1:\n",
    "                        row.append(s)\n",
    "                        column.append(d)\n",
    "                    d+=1\n",
    "                        \n",
    "    \n",
    "        s+=1\n",
    "\n",
    "    return row, column\n"
   ]
  },
  {
   "cell_type": "code",
   "execution_count": 111,
   "id": "422248d1-c951-42b3-b25a-1d1a9143a037",
   "metadata": {},
   "outputs": [],
   "source": [
    "matrix = matrix_uniform_attachment(9)"
   ]
  },
  {
   "cell_type": "code",
   "execution_count": 116,
   "id": "d4e6a92f-35db-4e15-874e-c56ccef69f71",
   "metadata": {},
   "outputs": [],
   "source": []
  },
  {
   "cell_type": "code",
   "execution_count": 117,
   "id": "8340f0eb-4602-4763-a6b6-7aefff83f900",
   "metadata": {},
   "outputs": [],
   "source": [
    "row, column = row_colum_returner(matrix, vertex_to_remove)"
   ]
  },
  {
   "cell_type": "code",
   "execution_count": 118,
   "id": "9db23c9a-c1c5-4535-8cae-50205e48370c",
   "metadata": {},
   "outputs": [
    {
     "data": {
      "text/plain": [
       "[0, 4, 4]"
      ]
     },
     "execution_count": 118,
     "metadata": {},
     "output_type": "execute_result"
    }
   ],
   "source": [
    "column"
   ]
  },
  {
   "cell_type": "code",
   "execution_count": 119,
   "id": "a8f84fc0-ee10-4265-8d8a-b9f008704ce8",
   "metadata": {},
   "outputs": [
    {
     "data": {
      "text/plain": [
       "[2, 6, 8]"
      ]
     },
     "execution_count": 119,
     "metadata": {},
     "output_type": "execute_result"
    }
   ],
   "source": [
    "row"
   ]
  },
  {
   "cell_type": "code",
   "execution_count": 120,
   "id": "c394942a-69fc-4beb-8406-b570fb117b4d",
   "metadata": {},
   "outputs": [],
   "source": [
    "for row, column in zip(row, column):\n",
    "    matrix = make_that_1_into_0_with_transpose(matrix, row, column)"
   ]
  },
  {
   "cell_type": "code",
   "execution_count": 121,
   "id": "d88fdd31-089d-40e7-9540-3416b1ab2383",
   "metadata": {},
   "outputs": [],
   "source": [
    "row, column = row_colum_returner(matrix, vertex_to_remove)"
   ]
  },
  {
   "cell_type": "code",
   "execution_count": 122,
   "id": "ea4f3cd9-449a-409d-a3e6-7280ba05d66b",
   "metadata": {},
   "outputs": [
    {
     "data": {
      "text/plain": [
       "[]"
      ]
     },
     "execution_count": 122,
     "metadata": {},
     "output_type": "execute_result"
    }
   ],
   "source": [
    "row"
   ]
  },
  {
   "cell_type": "code",
   "execution_count": 123,
   "id": "43e3e6bd-4a0a-4df3-a8ed-f277b7de3ca8",
   "metadata": {},
   "outputs": [
    {
     "data": {
      "text/plain": [
       "[]"
      ]
     },
     "execution_count": 123,
     "metadata": {},
     "output_type": "execute_result"
    }
   ],
   "source": [
    "column"
   ]
  },
  {
   "cell_type": "code",
   "execution_count": 126,
   "id": "ac047140-5993-4df0-a194-b4b18718fd6c",
   "metadata": {},
   "outputs": [
    {
     "name": "stdout",
     "output_type": "stream",
     "text": [
      "3\n"
     ]
    }
   ],
   "source": [
    "if len(row) == 0:\n",
    "    print(3)"
   ]
  },
  {
   "cell_type": "code",
   "execution_count": 133,
   "id": "1ee50682-7b81-4bf0-9fad-3df89f791f84",
   "metadata": {},
   "outputs": [],
   "source": [
    "matrix = matrix_uniform_attachment(9)\n",
    "vertex_to_remove = [1,5,7]"
   ]
  },
  {
   "cell_type": "code",
   "execution_count": 135,
   "id": "befaefd2-1e79-425a-b867-dd4e7458636e",
   "metadata": {},
   "outputs": [],
   "source": [
    "vertex_to_remove = [1,5,7]"
   ]
  },
  {
   "cell_type": "code",
   "execution_count": 134,
   "id": "e78c0f6f-426e-4789-b442-8b86bd80de55",
   "metadata": {},
   "outputs": [
    {
     "data": {
      "image/png": "[encoded data removed]",
      "text/plain": [
       "<Figure size 576x432 with 1 Axes>"
      ]
     },
     "metadata": {},
     "output_type": "display_data"
    }
   ],
   "source": [
    "draw_graph_from_adjacency_matrix(matrix)"
   ]
  },
  {
   "cell_type": "code",
   "execution_count": 136,
   "id": "bf64cceb-ffe2-46a8-b7dd-6182b361c132",
   "metadata": {},
   "outputs": [],
   "source": [
    "row_c = [0,1]\n",
    "while len(row_c) != 0:\n",
    "    row, column = row_colum_returner(matrix, vertex_to_remove)\n",
    "    row_c = row\n",
    "\n",
    "    if len(row_c) == 0:\n",
    "        break\n",
    "    \n",
    "    for row, column in zip(row, column):\n",
    "        matrix = make_that_1_into_0_with_transpose(matrix, row, column)\n"
   ]
  },
  {
   "cell_type": "code",
   "execution_count": 137,
   "id": "66fbb1b8-b84c-4fdd-91aa-cb3513c5ae19",
   "metadata": {},
   "outputs": [
    {
     "data": {
      "text/plain": [
       "[[0, 0, 0, 0, 0, 0, 0, 0, 0],\n",
       " [0, 0, 1, 0, 0, 0, 0, 0, 0],\n",
       " [0, 1, 0, 1, 0, 0, 0, 0, 0],\n",
       " [0, 0, 1, 0, 1, 0, 0, 0, 0],\n",
       " [0, 0, 0, 1, 0, 1, 0, 0, 0],\n",
       " [0, 0, 0, 0, 1, 0, 0, 1, 0],\n",
       " [0, 0, 0, 0, 0, 0, 0, 0, 0],\n",
       " [0, 0, 0, 0, 0, 1, 0, 0, 0],\n",
       " [0, 0, 0, 0, 0, 0, 0, 0, 0]]"
      ]
     },
     "execution_count": 137,
     "metadata": {},
     "output_type": "execute_result"
    }
   ],
   "source": [
    "matrix"
   ]
  },
  {
   "cell_type": "code",
   "execution_count": 138,
   "id": "3fa7058c-aadc-485a-8f81-cf7fa2a579f9",
   "metadata": {},
   "outputs": [
    {
     "data": {
      "image/png": "[encoded data removed]",
      "text/plain": [
       "<Figure size 576x432 with 1 Axes>"
      ]
     },
     "metadata": {},
     "output_type": "display_data"
    }
   ],
   "source": [
    "draw_graph_from_adjacency_matrix(matrix)"
   ]
  },
  {
   "cell_type": "code",
   "execution_count": null,
   "id": "aed9adc0-0461-451c-8897-ef29a1db3325",
   "metadata": {},
   "outputs": [],
   "source": []
  },
  {
   "cell_type": "code",
   "execution_count": null,
   "id": "2168aeaa-dd96-403f-8d21-e090abed10f1",
   "metadata": {},
   "outputs": [],
   "source": []
  },
  {
   "cell_type": "code",
   "execution_count": null,
   "id": "2650afb8-ce89-4945-9eca-fd7d605b322c",
   "metadata": {},
   "outputs": [],
   "source": []
  },
  {
   "cell_type": "code",
   "execution_count": null,
   "id": "a2daf5d6-87f6-40d0-bebe-9383bf1ca00d",
   "metadata": {},
   "outputs": [],
   "source": []
  },
  {
   "cell_type": "code",
   "execution_count": null,
   "id": "97c7245f-476a-4817-ad00-79ae045d7935",
   "metadata": {},
   "outputs": [],
   "source": []
  },
  {
   "cell_type": "code",
   "execution_count": 278,
   "id": "3e685ee7-237a-4c3a-80d7-da1c1c6b0d39",
   "metadata": {},
   "outputs": [
    {
     "data": {
      "image/png": "[encoded data removed]",
      "text/plain": [
       "<Figure size 576x432 with 1 Axes>"
      ]
     },
     "metadata": {},
     "output_type": "display_data"
    }
   ],
   "source": [
    "matrix = matrix_uniform_attachment(11)\n",
    "vertex_to_remove = [1,5,10]\n",
    "draw_graph_from_adjacency_matrix(matrix)"
   ]
  },
  {
   "cell_type": "code",
   "execution_count": 279,
   "id": "9eac9f19-99f8-4613-903f-f0f0f2b494f5",
   "metadata": {},
   "outputs": [
    {
     "name": "stdout",
     "output_type": "stream",
     "text": [
      "Barycenter is 5\n"
     ]
    }
   ],
   "source": [
    "row_c = [0,1]\n",
    "\n",
    "for i in vertex_to_remove:\n",
    "    if vertex_to_remove.count(i) >=2:\n",
    "        value = i\n",
    "        print(f'Barycenter is {value}')\n",
    "\n",
    "while len(row_c) != 0:\n",
    "    row, column = row_colum_returner(matrix, vertex_to_remove)\n",
    "    row_c = row\n",
    "\n",
    "    if len(row_c) == 0:\n",
    "        break\n",
    "    \n",
    "    for row, column in zip(row, column):\n",
    "        matrix = make_that_1_into_0_with_transpose(matrix, row, column)\n",
    "\n",
    "barycenter_found = False  #general case\n",
    "s = 0\n",
    "for i in matrix:\n",
    "    if sum(i) == 3:\n",
    "        print(f'Barycenter is {s}')\n",
    "        Barycenter = s\n",
    "        barycenter_found = True\n",
    "\n",
    "    s+=1\n",
    "\n",
    "\n",
    "if not barycenter_found: #line case\n",
    "    for i in vertex_to_remove:\n",
    "        if sum(matrix[i]) == 2:\n",
    "            print(f'Barycenter is {i}')\n",
    "            Barycenter = i\n",
    "            barycenter_found = True\n",
    "    "
   ]
  },
  {
   "cell_type": "code",
   "execution_count": 280,
   "id": "cdf06a2c-57ac-4e25-9a85-2ccd0f8fb298",
   "metadata": {},
   "outputs": [
    {
     "name": "stdout",
     "output_type": "stream",
     "text": [
      "5\n"
     ]
    }
   ],
   "source": [
    "bary = find_barycenter(matrix, vertex_to_remove)\n",
    "print(bary)"
   ]
  },
  {
   "cell_type": "code",
   "execution_count": null,
   "id": "e438a085-8988-4c44-a7fb-1e9182bb8a71",
   "metadata": {},
   "outputs": [],
   "source": [
    "def make_that_1_into_0_with_transpose(matrix, row, column):\n",
    "    matrix[row][column] = 0\n",
    "    matrix[column][row] = 0\n",
    "\n",
    "\n",
    "    return matrix"
   ]
  },
  {
   "cell_type": "code",
   "execution_count": 377,
   "id": "c627ea9b-6ed5-409f-ba90-d65c8418537c",
   "metadata": {},
   "outputs": [],
   "source": [
    "def find_barycenter_prob(matrix, vertex_to_remove):\n",
    "\n",
    "    matrix_copy = copy.deepcopy(matrix)\n",
    "\n",
    "    row_c = [0, 1]\n",
    "\n",
    "    for i in vertex_to_remove:\n",
    "        if vertex_to_remove.count(i) >= 2:\n",
    "            return i  \n",
    "\n",
    "    while len(row_c) != 0:\n",
    "        row, column = row_colum_returner(matrix_copy, vertex_to_remove)\n",
    "        row_c = row\n",
    "\n",
    "        if len(row_c) == 0:\n",
    "            break\n",
    "\n",
    "        for r, c in zip(row, column):\n",
    "            matrix_copy = make_that_1_into_0_with_transpose(matrix_copy, r, c)\n",
    "\n",
    " \n",
    "    for s, i in enumerate(matrix_copy):\n",
    "        if sum(i) == 3:\n",
    "            return s  #\n",
    "\n",
    "    for i in vertex_to_remove:\n",
    "        if sum(matrix_copy[i]) == 2:\n",
    "            return i  \n",
    "\n",
    " \n",
    "    return None\n"
   ]
  },
  {
   "cell_type": "code",
   "execution_count": 353,
   "id": "8f77847f-33cf-4153-aff5-71ec4b1d7048",
   "metadata": {},
   "outputs": [
    {
     "name": "stdout",
     "output_type": "stream",
     "text": [
      "1\n"
     ]
    }
   ],
   "source": [
    "vertex_to_remove = [1,1,7]\n",
    "for i in vertex_to_remove:\n",
    "    if vertex_to_remove.count(i) >=2:\n",
    "        value = i\n",
    "print(value)"
   ]
  },
  {
   "cell_type": "code",
   "execution_count": 354,
   "id": "8ce4cefd-7846-42b8-86b8-a24026125433",
   "metadata": {},
   "outputs": [],
   "source": [
    "matrix = matrix_uniform_attachment(13)\n",
    "\n"
   ]
  },
  {
   "cell_type": "code",
   "execution_count": 355,
   "id": "bf62ae40-8a51-43a0-9b0e-41ebc7b5315e",
   "metadata": {},
   "outputs": [],
   "source": [
    "row_count = max(len(i) for i in matrix)"
   ]
  },
  {
   "cell_type": "code",
   "execution_count": 356,
   "id": "9b9d0b52-2f1b-411f-a1d4-a83010c82f76",
   "metadata": {},
   "outputs": [],
   "source": [
    "u_new = [0] * row_count"
   ]
  },
  {
   "cell_type": "code",
   "execution_count": 357,
   "id": "21c7e123-dd7a-45cd-8342-73fc0d20fae1",
   "metadata": {},
   "outputs": [],
   "source": [
    "u_old = [1/row_count] * row_count"
   ]
  },
  {
   "cell_type": "code",
   "execution_count": 358,
   "id": "f2ff3175-b470-44a1-beb3-18dd31bea83c",
   "metadata": {
    "scrolled": true
   },
   "outputs": [
    {
     "name": "stdout",
     "output_type": "stream",
     "text": [
      "[0.04688211197086935, 0.232589895311788, 0.016841147018661812, 0.43741465634956594, 0.04688211197086935, 0.0714610832954027, 0.016841147018661812, 0.016841147018661812, 0.016841147018661812, 0.04688211197086935, 0.016841147018661812, 0.016841147018661812, 0.016841147018661812]\n"
     ]
    }
   ],
   "source": [
    "for i in range(0, row_count):\n",
    "    for j in range(0,row_count):\n",
    "        for k in range(0, row_count):\n",
    "            center = find_barycenter(matrix, vertex_to_remove=[i,j,k])\n",
    "            u_new[center] += u_old[i] * u_old[j] * u_old[k]\n",
    "\n",
    "print(u_new)"
   ]
  },
  {
   "cell_type": "code",
   "execution_count": 361,
   "id": "19b1ffce-d11e-4cb4-9b67-70734757930b",
   "metadata": {},
   "outputs": [
    {
     "ename": "TypeError",
     "evalue": "find_barycenter() missing 1 required positional argument: 'vertex_to_remove'",
     "output_type": "error",
     "traceback": [
      "\u001b[0;31m---------------------------------------------------------------------------\u001b[0m",
      "\u001b[0;31mTypeError\u001b[0m                                 Traceback (most recent call last)",
      "\u001b[0;32m/tmp/ipykernel_18668/3982287771.py\u001b[0m in \u001b[0;36m<module>\u001b[0;34m\u001b[0m\n\u001b[0;32m----> 1\u001b[0;31m \u001b[0mfind_barycenter\u001b[0m\u001b[0;34m(\u001b[0m\u001b[0mmatrix\u001b[0m\u001b[0;34m)\u001b[0m\u001b[0;34m\u001b[0m\u001b[0;34m\u001b[0m\u001b[0m\n\u001b[0m",
      "\u001b[0;31mTypeError\u001b[0m: find_barycenter() missing 1 required positional argument: 'vertex_to_remove'"
     ]
    }
   ],
   "source": [
    "find_barycenter(matrix)"
   ]
  },
  {
   "cell_type": "code",
   "execution_count": 1,
   "id": "7e4833cb-97d8-46c5-8f9e-648430fe3034",
   "metadata": {},
   "outputs": [],
   "source": [
    "\n",
    "def find_barycenter_deterministic(adj_matrix):\n",
    "    \n",
    "    adj_matrix_copy = copy.deepcopy(adj_matrix)\n",
    "    \n",
    "    n = len(adj_matrix_copy)  # Number of nodes, number of rows\n",
    "    degrees = np.sum(adj_matrix_copy, axis=1)  # Sum of row = degree\n",
    "    nodes = set(range(n))  # All vertices\n",
    "    \n",
    "    while len(nodes) > 2: \n",
    "        # Find all leaf nodes (nodes with degree 1)\n",
    "        leaf_nodes = [i for i in nodes if degrees[i] == 1]  # Only those with a single 1 are leaves\n",
    "        \n",
    "        for leaf in leaf_nodes:\n",
    "            nodes.remove(leaf)  # Remove the leaf\n",
    "            degrees[leaf] = 0  # Degree is then 0\n",
    "\n",
    "            for neighbor in range(n):  # Check all neighbors\n",
    "                if adj_matrix_copy[leaf][neighbor] == 1:  # If there is a connection\n",
    "                    degrees[neighbor] -= 1  # Decrement the degree of the neighbor\n",
    "                    adj_matrix_copy[leaf][neighbor] = 0  # Change the 1 to 0\n",
    "                    adj_matrix_copy[neighbor][leaf] = 0  # Also change its \"transpose position\" to 0\n",
    "\n",
    "    # At this point, there should only be 1 or 2 nodes left\n",
    "    remaining_nodes = list(nodes)  # Convert the set to a list\n",
    "\n",
    "    if len(remaining_nodes) == 1:  # If only 1 vertex remains\n",
    "        return remaining_nodes, adj_matrix_copy\n",
    "    elif len(remaining_nodes) == 2:  # If 2 vertices remain\n",
    "        return remaining_nodes, adj_matrix_copy\n"
   ]
  },
  {
   "cell_type": "code",
   "execution_count": 365,
   "id": "6ae0cb86-c5a6-4290-a7e6-ad9379cdb1cb",
   "metadata": {},
   "outputs": [],
   "source": [
    "rn, ma = find_barycenter_deterministic(matrix)"
   ]
  },
  {
   "cell_type": "code",
   "execution_count": 366,
   "id": "8749677e-a35a-4cfe-94be-60cc3c876409",
   "metadata": {
    "scrolled": true
   },
   "outputs": [
    {
     "data": {
      "text/plain": [
       "[3]"
      ]
     },
     "execution_count": 366,
     "metadata": {},
     "output_type": "execute_result"
    }
   ],
   "source": [
    "rn"
   ]
  },
  {
   "cell_type": "code",
   "execution_count": 3,
   "id": "23860f36-0364-4318-b6fe-8bafb97fe972",
   "metadata": {},
   "outputs": [],
   "source": [
    "def calculate_u_new(matrix):\n",
    "    row_count = max(len(i) for i in matrix)\n",
    "    u_new = [0] * row_count\n",
    "    u_old = [1 / row_count] * row_count\n",
    "    \n",
    "    for i in range(0, row_count):\n",
    "        for j in range(0, row_count):\n",
    "            for k in range(0, row_count):\n",
    "                center = find_barycenter(matrix, vertex_to_remove=[i, j, k])\n",
    "                u_new[center] += u_old[i] * u_old[j] * u_old[k]\n",
    "    \n",
    "    return u_new"
   ]
  },
  {
   "cell_type": "code",
   "execution_count": 4,
   "id": "59ff13ed-c798-4435-af21-b1d262f6c5c2",
   "metadata": {},
   "outputs": [
    {
     "ename": "NameError",
     "evalue": "name 'matrix' is not defined",
     "output_type": "error",
     "traceback": [
      "\u001b[0;31m---------------------------------------------------------------------------\u001b[0m",
      "\u001b[0;31mNameError\u001b[0m                                 Traceback (most recent call last)",
      "\u001b[0;32m/tmp/ipykernel_11335/3601154740.py\u001b[0m in \u001b[0;36m<module>\u001b[0;34m\u001b[0m\n\u001b[0;32m----> 1\u001b[0;31m \u001b[0mu_new\u001b[0m \u001b[0;34m=\u001b[0m \u001b[0mcalculate_u_new\u001b[0m\u001b[0;34m(\u001b[0m\u001b[0mmatrix\u001b[0m\u001b[0;34m)\u001b[0m\u001b[0;34m\u001b[0m\u001b[0;34m\u001b[0m\u001b[0m\n\u001b[0m",
      "\u001b[0;31mNameError\u001b[0m: name 'matrix' is not defined"
     ]
    }
   ],
   "source": [
    "u_new = calculate_u_new(matrix)"
   ]
  },
  {
   "cell_type": "code",
   "execution_count": 374,
   "id": "28998a95-128b-4e0f-8ad9-3ed56bfa539e",
   "metadata": {},
   "outputs": [],
   "source": [
    "max_index = u_new.index(max(u_new))"
   ]
  },
  {
   "cell_type": "code",
   "execution_count": 375,
   "id": "4e6c6362-2e75-4df6-81cb-a51bbf371915",
   "metadata": {},
   "outputs": [
    {
     "data": {
      "text/plain": [
       "3"
      ]
     },
     "execution_count": 375,
     "metadata": {},
     "output_type": "execute_result"
    }
   ],
   "source": [
    "max_index"
   ]
  },
  {
   "cell_type": "code",
   "execution_count": 2,
   "id": "825ec547-f92c-4b4a-8958-f9b6132d74b5",
   "metadata": {},
   "outputs": [],
   "source": [
    "def find_barycenter_prob(matrix, vertex_to_remove):\n",
    "\n",
    "    matrix_copy = copy.deepcopy(matrix)\n",
    "\n",
    "    row_c = [0, 1]\n",
    "\n",
    "    for i in vertex_to_remove:\n",
    "        if vertex_to_remove.count(i) >= 2:\n",
    "            return i  \n",
    "\n",
    "    while len(row_c) != 0:\n",
    "        row, column = row_colum_returner(matrix_copy, vertex_to_remove)\n",
    "        row_c = row\n",
    "\n",
    "        if len(row_c) == 0:\n",
    "            break\n",
    "\n",
    "        for r, c in zip(row, column):\n",
    "            matrix_copy = make_that_1_into_0_with_transpose(matrix_copy, r, c)\n",
    "\n",
    " \n",
    "    for s, i in enumerate(matrix_copy):\n",
    "        if sum(i) == 3:\n",
    "            return s  #\n",
    "\n",
    "    for i in vertex_to_remove:\n",
    "        if sum(matrix_copy[i]) == 2:\n",
    "            return i  \n",
    "\n",
    " \n",
    "    return None\n"
   ]
  },
  {
   "cell_type": "code",
   "execution_count": null,
   "id": "5ac8067c-15af-48d2-aa51-7f03d25b602c",
   "metadata": {},
   "outputs": [],
   "source": []
  },
  {
   "cell_type": "code",
   "execution_count": null,
   "id": "cd564dae-a45b-4d67-ba26-aaf34b5ced29",
   "metadata": {},
   "outputs": [],
   "source": []
  },
  {
   "cell_type": "code",
   "execution_count": null,
   "id": "cccc8740-9354-4a97-9932-8352ffb621ef",
   "metadata": {},
   "outputs": [],
   "source": []
  },
  {
   "cell_type": "code",
   "execution_count": null,
   "id": "65a31067-98f8-4bd3-9ff5-3f3987cbb51b",
   "metadata": {},
   "outputs": [],
   "source": []
  },
  {
   "cell_type": "code",
   "execution_count": null,
   "id": "86d548f0-4423-4553-9e6a-3d4b49b68605",
   "metadata": {},
   "outputs": [],
   "source": []
  },
  {
   "cell_type": "code",
   "execution_count": null,
   "id": "99be000c-f710-4411-a3fe-2739a1462b94",
   "metadata": {},
   "outputs": [],
   "source": []
  },
  {
   "cell_type": "code",
   "execution_count": null,
   "id": "26cce9d4-a6b2-43dd-bceb-4a4ad8306fe4",
   "metadata": {},
   "outputs": [],
   "source": []
  },
  {
   "cell_type": "markdown",
   "id": "f4a2897d-e9c5-4bcc-872a-d2c0927d66aa",
   "metadata": {
    "jp-MarkdownHeadingCollapsed": true
   },
   "source": [
    "# "
   ]
  }
 ],
 "metadata": {
  "kernelspec": {
   "display_name": "Python 3 (ipykernel)",
   "language": "python",
   "name": "python3"
  },
  "language_info": {
   "codemirror_mode": {
    "name": "ipython",
    "version": 3
   },
   "file_extension": ".py",
   "mimetype": "text/x-python",
   "name": "python",
   "nbconvert_exporter": "python",
   "pygments_lexer": "ipython3",
   "version": "3.10.12"
  }
 },
 "nbformat": 4,
 "nbformat_minor": 5
}
