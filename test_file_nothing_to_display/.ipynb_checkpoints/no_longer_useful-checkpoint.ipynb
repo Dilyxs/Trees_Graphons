{
 "cells": [
  {
   "cell_type": "code",
   "execution_count": 2,
   "id": "66414f34-87e9-4cd2-ad6b-d159de18e8e4",
   "metadata": {},
   "outputs": [],
   "source": [
    "import numpy as np\n",
    "from numpy import matlib as mp\n",
    "import random\n",
    "import time\n",
    "\n",
    "from threading import Timer"
   ]
  },
  {
   "cell_type": "code",
   "execution_count": 54,
   "id": "3df0ff1d-3bd6-403e-9242-2ff0e88921a6",
   "metadata": {},
   "outputs": [],
   "source": [
    "def display_matrix(matrix):\n",
    "    for row in matrix:\n",
    "        print(\" \".join(str(i) for i in row))"
   ]
  },
  {
   "cell_type": "code",
   "execution_count": 39,
   "id": "9173ac99-9d6c-4ed8-a7b8-6189cd1a8579",
   "metadata": {},
   "outputs": [],
   "source": [
    "def matrix_generator(n, matrix):\n",
    "    while n> len(matrix):\n",
    "        new_matrix = []\n",
    "        position = random.randrange(0,len(matrix) )\n",
    "        new_shape = int(len(matrix)) + 1\n",
    "        new_row = [0] * new_shape\n",
    "        new_row[position] = 1\n",
    "        #nr = np.array(new_row)       \n",
    "        for i in range(0, len(matrix)):\n",
    "            \n",
    "            if i != position:\n",
    "                (matrix[i]).append(0)\n",
    "\n",
    "            else:\n",
    "                (matrix[i]).append(1)\n",
    "\n",
    "            new_matrix.append(matrix[i])\n",
    "        new_matrix.append(new_row)\n",
    "        matrix = new_matrix\n",
    "\n",
    "\n",
    "    return matrix\n",
    "\n",
    "    \n",
    "t0 = time.time()\n",
    "\n",
    "inital_row_0 = [0,1]\n",
    "second_row_1 = [1,0]\n",
    "matrix = [inital_row_0, second_row_1]\n",
    "md = matrix_generator(10, matrix)\n",
    "t1 = time.time()\n",
    "\n",
    "time_take =  t1-t0\n"
   ]
  },
  {
   "cell_type": "code",
   "execution_count": 40,
   "id": "508d26a4-d2b9-46c3-b14a-508180f64b72",
   "metadata": {
    "scrolled": true
   },
   "outputs": [
    {
     "data": {
      "text/plain": [
       "[[0, 1, 1, 0, 0, 0, 0, 0, 0, 0],\n",
       " [1, 0, 0, 0, 0, 0, 0, 0, 0, 0],\n",
       " [1, 0, 0, 1, 0, 0, 1, 1, 0, 0],\n",
       " [0, 0, 1, 0, 1, 0, 0, 0, 0, 0],\n",
       " [0, 0, 0, 1, 0, 1, 0, 0, 0, 0],\n",
       " [0, 0, 0, 0, 1, 0, 0, 0, 0, 0],\n",
       " [0, 0, 1, 0, 0, 0, 0, 0, 1, 0],\n",
       " [0, 0, 1, 0, 0, 0, 0, 0, 0, 1],\n",
       " [0, 0, 0, 0, 0, 0, 1, 0, 0, 0],\n",
       " [0, 0, 0, 0, 0, 0, 0, 1, 0, 0]]"
      ]
     },
     "execution_count": 40,
     "metadata": {},
     "output_type": "execute_result"
    }
   ],
   "source": [
    "md"
   ]
  },
  {
   "cell_type": "code",
   "execution_count": 41,
   "id": "f026036c-ab23-48ce-a2b1-9f46c046d6f9",
   "metadata": {},
   "outputs": [],
   "source": [
    "def find_single_one_in_lists(matrix):\n",
    "    s = 0  #s counts which row we at\n",
    "    column = None\n",
    "    row = None\n",
    "    if column == None:          \n",
    "        for v in matrix: #for each list in the matrix\n",
    "            if sum(v) == 1: # if there is only a single 1\n",
    "                 d = 0 #counts for the rows\n",
    "                 for i in v: #for each \"column\"(index) in the list\n",
    "                    if i ==1: # if we found 1\n",
    "                         column = d #save it\n",
    "                         row = s #same, save it\n",
    "                    d+=1 #increment at the end of for lopp\n",
    "            s+=1 # increment at the end of the for loop\n",
    "    else:\n",
    "        pass #haven't found it..\n",
    "\n",
    "    return row, column\n",
    "        \n",
    "\n",
    "\n",
    "\n",
    "def make_that_1_into_0_with_transpose(matrix, row, column):\n",
    "    matrix[row][column] = 0\n",
    "    matrix[column][row] = 0\n",
    "    print(\"DONE\")\n",
    "\n",
    "    return matrix\n",
    "        \n",
    "        "
   ]
  },
  {
   "cell_type": "code",
   "execution_count": 42,
   "id": "be6000bb-1acd-4133-8dbf-ba20321b11fc",
   "metadata": {},
   "outputs": [],
   "source": [
    "row, column = find_single_one_in_lists(md)"
   ]
  },
  {
   "cell_type": "code",
   "execution_count": 43,
   "id": "4a0dff27-efd1-42e6-9ebd-d56d84b092fb",
   "metadata": {},
   "outputs": [
    {
     "name": "stdout",
     "output_type": "stream",
     "text": [
      "9\n"
     ]
    }
   ],
   "source": [
    "print(row)"
   ]
  },
  {
   "cell_type": "code",
   "execution_count": 44,
   "id": "102f5012-cd2e-4571-9956-5c430799f70a",
   "metadata": {},
   "outputs": [
    {
     "name": "stdout",
     "output_type": "stream",
     "text": [
      "7\n"
     ]
    }
   ],
   "source": [
    "print(column)"
   ]
  },
  {
   "cell_type": "code",
   "execution_count": 45,
   "id": "4463809b-cb8e-4130-8671-b5978c0c9af4",
   "metadata": {},
   "outputs": [
    {
     "name": "stdout",
     "output_type": "stream",
     "text": [
      "DONE\n"
     ]
    }
   ],
   "source": [
    "matrix = make_that_1_into_0_with_transpose(md, row, column)"
   ]
  },
  {
   "cell_type": "code",
   "execution_count": 47,
   "id": "e13b2556-5e76-42d0-a1df-fc6c454b26d8",
   "metadata": {},
   "outputs": [
    {
     "data": {
      "text/plain": [
       "[[0, 1, 1, 0, 0, 0, 0, 0, 0, 0],\n",
       " [1, 0, 0, 0, 0, 0, 0, 0, 0, 0],\n",
       " [1, 0, 0, 1, 0, 0, 1, 1, 0, 0],\n",
       " [0, 0, 1, 0, 1, 0, 0, 0, 0, 0],\n",
       " [0, 0, 0, 1, 0, 1, 0, 0, 0, 0],\n",
       " [0, 0, 0, 0, 1, 0, 0, 0, 0, 0],\n",
       " [0, 0, 1, 0, 0, 0, 0, 0, 1, 0],\n",
       " [0, 0, 1, 0, 0, 0, 0, 0, 0, 0],\n",
       " [0, 0, 0, 0, 0, 0, 1, 0, 0, 0],\n",
       " [0, 0, 0, 0, 0, 0, 0, 0, 0, 0]]"
      ]
     },
     "execution_count": 47,
     "metadata": {},
     "output_type": "execute_result"
    }
   ],
   "source": [
    "matrix"
   ]
  },
  {
   "cell_type": "code",
   "execution_count": 48,
   "id": "ebfbfda7-7547-4799-826e-fce98fa83cc1",
   "metadata": {},
   "outputs": [],
   "source": [
    "row, column = find_single_one_in_lists(matrix)"
   ]
  },
  {
   "cell_type": "code",
   "execution_count": 50,
   "id": "ac2377e6-5cd3-4590-96c3-d39187007531",
   "metadata": {},
   "outputs": [
    {
     "name": "stdout",
     "output_type": "stream",
     "text": [
      "8\n",
      "6\n"
     ]
    }
   ],
   "source": [
    "print(row)\n",
    "print(column)"
   ]
  },
  {
   "cell_type": "code",
   "execution_count": 51,
   "id": "4975c1fd-1dc0-4f7b-8b54-3486b85aa91c",
   "metadata": {},
   "outputs": [
    {
     "name": "stdout",
     "output_type": "stream",
     "text": [
      "DONE\n"
     ]
    }
   ],
   "source": [
    "matrix = make_that_1_into_0_with_transpose(matrix, row, column)"
   ]
  },
  {
   "cell_type": "code",
   "execution_count": 52,
   "id": "d62ac0d9-1f6e-4e69-bfb5-ee6217edad3e",
   "metadata": {},
   "outputs": [
    {
     "data": {
      "text/plain": [
       "[[0, 1, 1, 0, 0, 0, 0, 0, 0, 0],\n",
       " [1, 0, 0, 0, 0, 0, 0, 0, 0, 0],\n",
       " [1, 0, 0, 1, 0, 0, 1, 1, 0, 0],\n",
       " [0, 0, 1, 0, 1, 0, 0, 0, 0, 0],\n",
       " [0, 0, 0, 1, 0, 1, 0, 0, 0, 0],\n",
       " [0, 0, 0, 0, 1, 0, 0, 0, 0, 0],\n",
       " [0, 0, 1, 0, 0, 0, 0, 0, 0, 0],\n",
       " [0, 0, 1, 0, 0, 0, 0, 0, 0, 0],\n",
       " [0, 0, 0, 0, 0, 0, 0, 0, 0, 0],\n",
       " [0, 0, 0, 0, 0, 0, 0, 0, 0, 0]]"
      ]
     },
     "execution_count": 52,
     "metadata": {},
     "output_type": "execute_result"
    }
   ],
   "source": [
    "matrix"
   ]
  },
  {
   "cell_type": "code",
   "execution_count": 53,
   "id": "b9e961bd-38b2-4aca-9268-745b8eb34058",
   "metadata": {},
   "outputs": [
    {
     "name": "stdout",
     "output_type": "stream",
     "text": [
      "7\n",
      "2\n",
      "DONE\n",
      "[[0, 1, 1, 0, 0, 0, 0, 0, 0, 0], [1, 0, 0, 0, 0, 0, 0, 0, 0, 0], [1, 0, 0, 1, 0, 0, 1, 0, 0, 0], [0, 0, 1, 0, 1, 0, 0, 0, 0, 0], [0, 0, 0, 1, 0, 1, 0, 0, 0, 0], [0, 0, 0, 0, 1, 0, 0, 0, 0, 0], [0, 0, 1, 0, 0, 0, 0, 0, 0, 0], [0, 0, 0, 0, 0, 0, 0, 0, 0, 0], [0, 0, 0, 0, 0, 0, 0, 0, 0, 0], [0, 0, 0, 0, 0, 0, 0, 0, 0, 0]]\n"
     ]
    }
   ],
   "source": [
    "row, column = find_single_one_in_lists(matrix)\n",
    "print(row)\n",
    "print(column)\n",
    "matrix = make_that_1_into_0_with_transpose(matrix, row, column)\n",
    "print(matrix)"
   ]
  },
  {
   "cell_type": "code",
   "execution_count": 55,
   "id": "b2edce72-483d-4654-9347-d3610e9c5e11",
   "metadata": {},
   "outputs": [
    {
     "name": "stdout",
     "output_type": "stream",
     "text": [
      "0 1 1 0 0 0 0 0 0 0\n",
      "1 0 0 0 0 0 0 0 0 0\n",
      "1 0 0 1 0 0 1 0 0 0\n",
      "0 0 1 0 1 0 0 0 0 0\n",
      "0 0 0 1 0 1 0 0 0 0\n",
      "0 0 0 0 1 0 0 0 0 0\n",
      "0 0 1 0 0 0 0 0 0 0\n",
      "0 0 0 0 0 0 0 0 0 0\n",
      "0 0 0 0 0 0 0 0 0 0\n",
      "0 0 0 0 0 0 0 0 0 0\n"
     ]
    }
   ],
   "source": [
    "display_matrix(matrix)"
   ]
  },
  {
   "cell_type": "code",
   "execution_count": 56,
   "id": "e5efab0a-10c8-4b80-aac6-74fdc4f134c8",
   "metadata": {},
   "outputs": [
    {
     "name": "stdout",
     "output_type": "stream",
     "text": [
      "6\n",
      "2\n",
      "DONE\n",
      "0 1 1 0 0 0 0 0 0 0\n",
      "1 0 0 0 0 0 0 0 0 0\n",
      "1 0 0 1 0 0 0 0 0 0\n",
      "0 0 1 0 1 0 0 0 0 0\n",
      "0 0 0 1 0 1 0 0 0 0\n",
      "0 0 0 0 1 0 0 0 0 0\n",
      "0 0 0 0 0 0 0 0 0 0\n",
      "0 0 0 0 0 0 0 0 0 0\n",
      "0 0 0 0 0 0 0 0 0 0\n",
      "0 0 0 0 0 0 0 0 0 0\n"
     ]
    }
   ],
   "source": [
    "row, column = find_single_one_in_lists(matrix)\n",
    "print(row)\n",
    "print(column)\n",
    "matrix = make_that_1_into_0_with_transpose(matrix, row, column)\n",
    "display_matrix(matrix)"
   ]
  },
  {
   "cell_type": "code",
   "execution_count": 57,
   "id": "2102780d-8011-4d62-9b40-aa88d4aba7d4",
   "metadata": {},
   "outputs": [
    {
     "name": "stdout",
     "output_type": "stream",
     "text": [
      "5\n",
      "4\n",
      "DONE\n",
      "0 1 1 0 0 0 0 0 0 0\n",
      "1 0 0 0 0 0 0 0 0 0\n",
      "1 0 0 1 0 0 0 0 0 0\n",
      "0 0 1 0 1 0 0 0 0 0\n",
      "0 0 0 1 0 0 0 0 0 0\n",
      "0 0 0 0 0 0 0 0 0 0\n",
      "0 0 0 0 0 0 0 0 0 0\n",
      "0 0 0 0 0 0 0 0 0 0\n",
      "0 0 0 0 0 0 0 0 0 0\n",
      "0 0 0 0 0 0 0 0 0 0\n"
     ]
    }
   ],
   "source": [
    "row, column = find_single_one_in_lists(matrix)\n",
    "print(row)\n",
    "print(column)\n",
    "matrix = make_that_1_into_0_with_transpose(matrix, row, column)\n",
    "display_matrix(matrix)"
   ]
  },
  {
   "cell_type": "code",
   "execution_count": 58,
   "id": "daba0e65-47ee-49d4-9273-c06b34e8d21e",
   "metadata": {
    "scrolled": true
   },
   "outputs": [
    {
     "name": "stdout",
     "output_type": "stream",
     "text": [
      "4\n",
      "3\n",
      "DONE\n",
      "0 1 1 0 0 0 0 0 0 0\n",
      "1 0 0 0 0 0 0 0 0 0\n",
      "1 0 0 1 0 0 0 0 0 0\n",
      "0 0 1 0 0 0 0 0 0 0\n",
      "0 0 0 0 0 0 0 0 0 0\n",
      "0 0 0 0 0 0 0 0 0 0\n",
      "0 0 0 0 0 0 0 0 0 0\n",
      "0 0 0 0 0 0 0 0 0 0\n",
      "0 0 0 0 0 0 0 0 0 0\n",
      "0 0 0 0 0 0 0 0 0 0\n"
     ]
    }
   ],
   "source": [
    "row, column = find_single_one_in_lists(matrix)\n",
    "print(row)\n",
    "print(column)\n",
    "matrix = make_that_1_into_0_with_transpose(matrix, row, column)\n",
    "display_matrix(matrix)"
   ]
  },
  {
   "cell_type": "code",
   "execution_count": 59,
   "id": "41c59de9-7b6d-4a77-a05b-3d87ef482ede",
   "metadata": {},
   "outputs": [
    {
     "name": "stdout",
     "output_type": "stream",
     "text": [
      "3\n",
      "2\n",
      "DONE\n",
      "0 1 1 0 0 0 0 0 0 0\n",
      "1 0 0 0 0 0 0 0 0 0\n",
      "1 0 0 0 0 0 0 0 0 0\n",
      "0 0 0 0 0 0 0 0 0 0\n",
      "0 0 0 0 0 0 0 0 0 0\n",
      "0 0 0 0 0 0 0 0 0 0\n",
      "0 0 0 0 0 0 0 0 0 0\n",
      "0 0 0 0 0 0 0 0 0 0\n",
      "0 0 0 0 0 0 0 0 0 0\n",
      "0 0 0 0 0 0 0 0 0 0\n"
     ]
    }
   ],
   "source": [
    "row, column = find_single_one_in_lists(matrix)\n",
    "print(row)\n",
    "print(column)\n",
    "matrix = make_that_1_into_0_with_transpose(matrix, row, column)\n",
    "display_matrix(matrix)"
   ]
  },
  {
   "cell_type": "code",
   "execution_count": 61,
   "id": "28e7e897-0df5-4d3b-8cef-d25d7d122e99",
   "metadata": {},
   "outputs": [
    {
     "data": {
      "text/plain": [
       "4"
      ]
     },
     "execution_count": 61,
     "metadata": {},
     "output_type": "execute_result"
    }
   ],
   "source": [
    "sum_matrix = []\n",
    "for i in matrix:\n",
    "    sum_matrix.append(sum(i))\n",
    "\n",
    "sum(sum_matrix)\n",
    "\n",
    "\n",
    "    "
   ]
  },
  {
   "cell_type": "code",
   "execution_count": 62,
   "id": "4075af35-d9e0-4a07-ba80-170142faf724",
   "metadata": {
    "scrolled": true
   },
   "outputs": [
    {
     "name": "stdout",
     "output_type": "stream",
     "text": [
      "2\n",
      "0\n",
      "DONE\n",
      "0 1 0 0 0 0 0 0 0 0\n",
      "1 0 0 0 0 0 0 0 0 0\n",
      "0 0 0 0 0 0 0 0 0 0\n",
      "0 0 0 0 0 0 0 0 0 0\n",
      "0 0 0 0 0 0 0 0 0 0\n",
      "0 0 0 0 0 0 0 0 0 0\n",
      "0 0 0 0 0 0 0 0 0 0\n",
      "0 0 0 0 0 0 0 0 0 0\n",
      "0 0 0 0 0 0 0 0 0 0\n",
      "0 0 0 0 0 0 0 0 0 0\n"
     ]
    }
   ],
   "source": [
    "row, column = find_single_one_in_lists(matrix)\n",
    "print(row)\n",
    "print(column)\n",
    "matrix = make_that_1_into_0_with_transpose(matrix, row, column)\n",
    "display_matrix(matrix)"
   ]
  },
  {
   "cell_type": "code",
   "execution_count": 65,
   "id": "6461c14f-6326-4987-b9a9-da9efee4441a",
   "metadata": {},
   "outputs": [],
   "source": [
    "\n",
    "def matrix_sum_checker(matrix):\n",
    "    sum_matrix = []\n",
    "    for i in matrix:\n",
    "        sum_matrix.append(sum(i))\n",
    "    \n",
    "    return sum(sum_matrix)"
   ]
  },
  {
   "cell_type": "code",
   "execution_count": 72,
   "id": "a38ea7ce-8d8f-44ce-b195-f86f943e4b8d",
   "metadata": {},
   "outputs": [
    {
     "name": "stdout",
     "output_type": "stream",
     "text": [
      "DONE\n",
      "0 1 0 0 0 1 0 0 0 0\n",
      "1 0 1 1 1 0 0 0 0 0\n",
      "0 1 0 0 0 0 0 1 0 0\n",
      "0 1 0 0 0 0 0 0 0 0\n",
      "0 1 0 0 0 0 1 0 0 0\n",
      "1 0 0 0 0 0 0 0 1 0\n",
      "0 0 0 0 1 0 0 0 0 0\n",
      "0 0 1 0 0 0 0 0 0 0\n",
      "0 0 0 0 0 1 0 0 0 0\n",
      "0 0 0 0 0 0 0 0 0 0\n",
      "DONE\n",
      "0 1 0 0 0 1 0 0 0 0\n",
      "1 0 1 1 1 0 0 0 0 0\n",
      "0 1 0 0 0 0 0 1 0 0\n",
      "0 1 0 0 0 0 0 0 0 0\n",
      "0 1 0 0 0 0 1 0 0 0\n",
      "1 0 0 0 0 0 0 0 0 0\n",
      "0 0 0 0 1 0 0 0 0 0\n",
      "0 0 1 0 0 0 0 0 0 0\n",
      "0 0 0 0 0 0 0 0 0 0\n",
      "0 0 0 0 0 0 0 0 0 0\n",
      "DONE\n",
      "0 1 0 0 0 1 0 0 0 0\n",
      "1 0 1 1 1 0 0 0 0 0\n",
      "0 1 0 0 0 0 0 0 0 0\n",
      "0 1 0 0 0 0 0 0 0 0\n",
      "0 1 0 0 0 0 1 0 0 0\n",
      "1 0 0 0 0 0 0 0 0 0\n",
      "0 0 0 0 1 0 0 0 0 0\n",
      "0 0 0 0 0 0 0 0 0 0\n",
      "0 0 0 0 0 0 0 0 0 0\n",
      "0 0 0 0 0 0 0 0 0 0\n",
      "DONE\n",
      "0 1 0 0 0 1 0 0 0 0\n",
      "1 0 1 1 1 0 0 0 0 0\n",
      "0 1 0 0 0 0 0 0 0 0\n",
      "0 1 0 0 0 0 0 0 0 0\n",
      "0 1 0 0 0 0 0 0 0 0\n",
      "1 0 0 0 0 0 0 0 0 0\n",
      "0 0 0 0 0 0 0 0 0 0\n",
      "0 0 0 0 0 0 0 0 0 0\n",
      "0 0 0 0 0 0 0 0 0 0\n",
      "0 0 0 0 0 0 0 0 0 0\n",
      "DONE\n",
      "0 1 0 0 0 0 0 0 0 0\n",
      "1 0 1 1 1 0 0 0 0 0\n",
      "0 1 0 0 0 0 0 0 0 0\n",
      "0 1 0 0 0 0 0 0 0 0\n",
      "0 1 0 0 0 0 0 0 0 0\n",
      "0 0 0 0 0 0 0 0 0 0\n",
      "0 0 0 0 0 0 0 0 0 0\n",
      "0 0 0 0 0 0 0 0 0 0\n",
      "0 0 0 0 0 0 0 0 0 0\n",
      "0 0 0 0 0 0 0 0 0 0\n",
      "DONE\n",
      "0 1 0 0 0 0 0 0 0 0\n",
      "1 0 1 1 0 0 0 0 0 0\n",
      "0 1 0 0 0 0 0 0 0 0\n",
      "0 1 0 0 0 0 0 0 0 0\n",
      "0 0 0 0 0 0 0 0 0 0\n",
      "0 0 0 0 0 0 0 0 0 0\n",
      "0 0 0 0 0 0 0 0 0 0\n",
      "0 0 0 0 0 0 0 0 0 0\n",
      "0 0 0 0 0 0 0 0 0 0\n",
      "0 0 0 0 0 0 0 0 0 0\n",
      "DONE\n",
      "0 1 0 0 0 0 0 0 0 0\n",
      "1 0 1 0 0 0 0 0 0 0\n",
      "0 1 0 0 0 0 0 0 0 0\n",
      "0 0 0 0 0 0 0 0 0 0\n",
      "0 0 0 0 0 0 0 0 0 0\n",
      "0 0 0 0 0 0 0 0 0 0\n",
      "0 0 0 0 0 0 0 0 0 0\n",
      "0 0 0 0 0 0 0 0 0 0\n",
      "0 0 0 0 0 0 0 0 0 0\n",
      "0 0 0 0 0 0 0 0 0 0\n",
      "DONE\n",
      "0 1 0 0 0 0 0 0 0 0\n",
      "1 0 0 0 0 0 0 0 0 0\n",
      "0 0 0 0 0 0 0 0 0 0\n",
      "0 0 0 0 0 0 0 0 0 0\n",
      "0 0 0 0 0 0 0 0 0 0\n",
      "0 0 0 0 0 0 0 0 0 0\n",
      "0 0 0 0 0 0 0 0 0 0\n",
      "0 0 0 0 0 0 0 0 0 0\n",
      "0 0 0 0 0 0 0 0 0 0\n",
      "0 0 0 0 0 0 0 0 0 0\n"
     ]
    }
   ],
   "source": [
    "inital_row_0 = [0,1]\n",
    "second_row_1 = [1,0]\n",
    "matrix = [inital_row_0, second_row_1]\n",
    "md = matrix_generator(10, matrix)\n",
    "\n",
    "while matrix_sum_checker(md) >2:\n",
    "    row, column = find_single_one_in_lists(md)\n",
    "    mad = make_that_1_into_0_with_transpose(md, row, column)\n",
    "    display_matrix(md)\n",
    "    \n",
    "\n"
   ]
  },
  {
   "cell_type": "code",
   "execution_count": null,
   "id": "ddf176f2-f602-4e13-a5cb-310a16b2fa5e",
   "metadata": {},
   "outputs": [],
   "source": []
  },
  {
   "cell_type": "code",
   "execution_count": null,
   "id": "61bad3b2-c109-4bad-b5e6-c10c355d6879",
   "metadata": {},
   "outputs": [],
   "source": []
  }
 ],
 "metadata": {
  "kernelspec": {
   "display_name": "Python 3 (ipykernel)",
   "language": "python",
   "name": "python3"
  },
  "language_info": {
   "codemirror_mode": {
    "name": "ipython",
    "version": 3
   },
   "file_extension": ".py",
   "mimetype": "text/x-python",
   "name": "python",
   "nbconvert_exporter": "python",
   "pygments_lexer": "ipython3",
   "version": "3.10.12"
  }
 },
 "nbformat": 4,
 "nbformat_minor": 5
}
