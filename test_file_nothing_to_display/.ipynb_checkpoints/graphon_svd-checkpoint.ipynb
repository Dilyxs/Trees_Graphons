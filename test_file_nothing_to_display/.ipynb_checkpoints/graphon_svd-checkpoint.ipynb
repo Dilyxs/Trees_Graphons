{
 "cells": [
  {
   "cell_type": "code",
   "execution_count": 1,
   "id": "5b4065ce-178a-40ab-b816-8b47c1ad9664",
   "metadata": {},
   "outputs": [
    {
     "name": "stderr",
     "output_type": "stream",
     "text": [
      "/home/adsayan/.local/lib/python3.10/site-packages/matplotlib/projections/__init__.py:63: UserWarning: Unable to import Axes3D. This may be due to multiple versions of Matplotlib being installed (e.g. as a system package and as a pip package). As a result, the 3D projection is not available.\n",
      "  warnings.warn(\"Unable to import Axes3D. This may be due to multiple versions of \"\n"
     ]
    },
    {
     "name": "stdout",
     "output_type": "stream",
     "text": [
      "0.07219767570495605\n"
     ]
    }
   ],
   "source": [
    "import numpy as np\n",
    "import networkx as nx\n",
    "import matplotlib.pyplot as plt\n",
    "import copy\n",
    "from uniform_attachment_model  import matrix_uniform_attachment\n",
    "from tqdm.notebook import tqdm\n",
    "import pandas as pd\n",
    "import time\n",
    "import copy\n",
    "import  heapq"
   ]
  },
  {
   "cell_type": "code",
   "execution_count": 23,
   "id": "823613c9-1a75-4cd9-95a2-b7b019b56cc1",
   "metadata": {},
   "outputs": [],
   "source": [
    "matrix = []\n",
    "row = [0] * 300\n",
    "for i in range(300):\n",
    "    matrix.append(row)"
   ]
  },
  {
   "cell_type": "code",
   "execution_count": 24,
   "id": "6e62959e-847c-47b9-9fed-74481bbfba1a",
   "metadata": {},
   "outputs": [],
   "source": [
    "for i, row in enumerate(matrix):\n",
    "    for j, column in enumerate(row):\n",
    "        matrix[i][j] = np.random.random()"
   ]
  },
  {
   "cell_type": "code",
   "execution_count": 25,
   "id": "4ad50428-a9a9-420a-a3d5-89cf8b404147",
   "metadata": {},
   "outputs": [],
   "source": [
    "matrix = np.array(matrix)"
   ]
  },
  {
   "cell_type": "code",
   "execution_count": 40,
   "id": "be737f95-767e-40e9-b00f-e3851e4d3b85",
   "metadata": {},
   "outputs": [],
   "source": [
    "matrix = np.array([[3,2,2], [2,3,-2]])"
   ]
  },
  {
   "cell_type": "code",
   "execution_count": 41,
   "id": "c68ae890-af42-4da6-aeb4-25c208f6d489",
   "metadata": {},
   "outputs": [],
   "source": [
    "U, S, Vh = np.linalg.svd(matrix)\n"
   ]
  },
  {
   "cell_type": "code",
   "execution_count": 42,
   "id": "78dadbab-b731-4139-9565-773e21281f50",
   "metadata": {},
   "outputs": [],
   "source": [
    "n = matrix.shape[0]"
   ]
  },
  {
   "cell_type": "code",
   "execution_count": 43,
   "id": "4f8f5d8f-d69c-4e9a-b2c2-ac5addcd2e22",
   "metadata": {},
   "outputs": [],
   "source": [
    "p_hat = 1  \n",
    "threshold = 2.02 * np.sqrt(n * p_hat)"
   ]
  },
  {
   "cell_type": "code",
   "execution_count": 44,
   "id": "4c064511-de7b-4f50-9ac6-79bb873d39ab",
   "metadata": {},
   "outputs": [],
   "source": [
    "S_indices = np.where(S >= threshold)[0]"
   ]
  },
  {
   "cell_type": "code",
   "execution_count": 45,
   "id": "c1d3d827-594c-402a-a426-2e2b3f035016",
   "metadata": {},
   "outputs": [
    {
     "data": {
      "text/plain": [
       "array([0, 1])"
      ]
     },
     "execution_count": 45,
     "metadata": {},
     "output_type": "execute_result"
    }
   ],
   "source": [
    "S_indices"
   ]
  },
  {
   "cell_type": "code",
   "execution_count": 46,
   "id": "a4a9c873-f854-4a8d-a291-55fa5511fb85",
   "metadata": {},
   "outputs": [],
   "source": [
    "W = sum(S[i] * np.outer(U[:, i], Vh[i, :]) for i in S_indices)"
   ]
  },
  {
   "cell_type": "code",
   "execution_count": 47,
   "id": "9d26b3e9-7e6e-47a7-be5b-50d321db63fa",
   "metadata": {},
   "outputs": [
    {
     "data": {
      "text/plain": [
       "array([[ 3.,  2.,  2.],\n",
       "       [ 2.,  3., -2.]])"
      ]
     },
     "execution_count": 47,
     "metadata": {},
     "output_type": "execute_result"
    }
   ],
   "source": [
    "W"
   ]
  },
  {
   "cell_type": "code",
   "execution_count": 57,
   "id": "9be68aae-87ad-4466-b30c-c2f4857b0505",
   "metadata": {},
   "outputs": [],
   "source": [
    "def transform_w_to_m_hat(W):\n",
    "    M_hat = np.where(W > 1, 1, np.where(W < -1, -1, W))\n",
    "    return M_hat"
   ]
  },
  {
   "cell_type": "code",
   "execution_count": 58,
   "id": "021f521a-d7d7-45d5-9b92-a37f723fa522",
   "metadata": {},
   "outputs": [],
   "source": [
    "M_hat = transform_w_to_m_hat(W)"
   ]
  },
  {
   "cell_type": "code",
   "execution_count": 59,
   "id": "51a99954-0d3d-4167-a379-c7591d86ae14",
   "metadata": {},
   "outputs": [
    {
     "data": {
      "text/plain": [
       "array([[ 1.,  1.,  1.],\n",
       "       [ 1.,  1., -1.]])"
      ]
     },
     "execution_count": 59,
     "metadata": {},
     "output_type": "execute_result"
    }
   ],
   "source": [
    "M_hat"
   ]
  },
  {
   "cell_type": "code",
   "execution_count": 2,
   "id": "faf9ddff-1634-4c30-a875-c395b49a916d",
   "metadata": {},
   "outputs": [],
   "source": [
    "def transform_w_to_m_hat(W):\n",
    "    return np.where(W > 1, 1, np.where(W < -1, -1, W))"
   ]
  },
  {
   "cell_type": "code",
   "execution_count": 11,
   "id": "b8ec1be7-4f54-4a97-988d-c1789a4b042f",
   "metadata": {},
   "outputs": [],
   "source": [
    "def matrix_b(m, variance_k=False):\n",
    "    matrix = copy.deepcopy(m)\n",
    "\n",
    "    M_max = np.max(np.abs(matrix))\n",
    "    if M_max != 0:\n",
    "        matrix = matrix / M_max\n",
    "\n",
    "    U, S, Vh = np.linalg.svd(matrix, full_matrices=False)\n",
    "\n",
    "    n = matrix.shape[0]\n",
    "    p_hat = 1 \n",
    "\n",
    "\n",
    "    \n",
    "    if variance_k:\n",
    "        sigma_squared = np.var(matrix)  \n",
    "        q_hat = p_hat * sigma_squared + p_hat * (1 - p_hat) * (1 - sigma_squared)\n",
    "        threshold = 2.02 * np.sqrt(n * q_hat)\n",
    "        \n",
    "    else:\n",
    "        threshold = 2.02 * np.sqrt(n * p_hat)\n",
    "\n",
    "\n",
    "    S_indices = np.where(S >= threshold)[0]\n",
    "\n",
    "    \n",
    "    W = sum(S[i] * np.outer(U[:, i], Vh[i, :]) for i in S_indices)\n",
    "    matrix = transform_w_to_m_hat(W)\n",
    "\n",
    "    return matrix"
   ]
  },
  {
   "cell_type": "code",
   "execution_count": 12,
   "id": "55db8885-38f2-442b-8849-cfa2eb57687b",
   "metadata": {},
   "outputs": [],
   "source": [
    "matrix = np.array([[3,2,2], [2,3,-2]])"
   ]
  },
  {
   "cell_type": "code",
   "execution_count": 13,
   "id": "0d37e5e9-57e2-4965-812c-5ff5918fd427",
   "metadata": {},
   "outputs": [],
   "source": [
    "k = matrix_b(matrix)"
   ]
  },
  {
   "cell_type": "code",
   "execution_count": 14,
   "id": "f782cea3-d880-4bd6-96bb-5adf83db078a",
   "metadata": {},
   "outputs": [
    {
     "data": {
      "text/plain": [
       "array(0)"
      ]
     },
     "execution_count": 14,
     "metadata": {},
     "output_type": "execute_result"
    }
   ],
   "source": [
    "k"
   ]
  },
  {
   "cell_type": "code",
   "execution_count": null,
   "id": "38a70e31-d3ef-4f63-a563-3628428a36b3",
   "metadata": {},
   "outputs": [],
   "source": []
  }
 ],
 "metadata": {
  "kernelspec": {
   "display_name": "Python 3 (ipykernel)",
   "language": "python",
   "name": "python3"
  },
  "language_info": {
   "codemirror_mode": {
    "name": "ipython",
    "version": 3
   },
   "file_extension": ".py",
   "mimetype": "text/x-python",
   "name": "python",
   "nbconvert_exporter": "python",
   "pygments_lexer": "ipython3",
   "version": "3.10.12"
  }
 },
 "nbformat": 4,
 "nbformat_minor": 5
}
