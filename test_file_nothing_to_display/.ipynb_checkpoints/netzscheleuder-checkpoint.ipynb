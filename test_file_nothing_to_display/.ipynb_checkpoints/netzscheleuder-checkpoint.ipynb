{
 "cells": [
  {
   "cell_type": "code",
   "execution_count": 6,
   "id": "6fd922bb-94bf-4987-b70d-b4cf8bc209eb",
   "metadata": {},
   "outputs": [
    {
     "name": "stdout",
     "output_type": "stream",
     "text": [
      "['7th_graders', 'academia_edu', 'add_health', 'adjnoun', 'advogato', 'amazon_copurchases', 'amazon_ratings', 'ambassador', 'anybeat', 'arxiv_authors', 'arxiv_citation', 'arxiv_collab', 'as_skitter', 'at_migrations', 'bag_of_words', 'baidu', 'baseball', 'berkstan_web', 'bible_nouns', 'bibsonomy', 'bison', 'bitcoin', 'bitcoin_alpha', 'bitcoin_trust', 'blumenau_drug', 'board_directors', 'bookcrossing', 'budapest_connectome', 'caida_as', 'cattle', 'celegans_2019', 'celegans_interactomes', 'celegans_metabolic', 'celegansneural', 'ceo_club', 'chess', 'chicago_road', 'cintestinalis', 'citeseer', 'citeulike', 'cofe', 'college_freshmen', 'collins_yeast', 'contact', 'contiguous_usa', 'copenhagen', 'cora', 'corporate_directors', 'crime', 'cs_department', 'dblp_author_paper', 'dblp_cite', 'dblp_coauthor', 'dblp_coauthor_snap', 'dblp_simplices', 'dbpedia_all', 'dbpedia_country', 'dbpedia_genre', 'dbpedia_link', 'dbpedia_location', 'dbpedia_occupation', 'dbpedia_producer', 'dbpedia_recordlabel', 'dbpedia_starring', 'dbpedia_team', 'dbpedia_writer', 'dbtropes_feature', 'delicious', 'digg_reply', 'digg_votes', 'discogs_affiliation', 'discogs_genre', 'discogs_label', 'dnc', 'dolphins', 'dom', 'douban', 'drosophila_flybi', 'dutch_criticism', 'dutch_school', 'ecoli_transcription', 'edit_wikibooks', 'edit_wikinews', 'edit_wikiquote', 'edit_wiktionary', 'ego_social', 'elec', 'elite', 'email_company', 'email_enron', 'email_eu', 'epinions', 'epinions_trust', 'escorts', 'eu_airlines', 'eu_procurements', 'eu_procurements_alt', 'euroroad', 'faa_routes', 'facebook_friends', 'facebook_organizations', 'facebook_wall', 'faculty_hiring', 'faculty_hiring_us', 'fao_trade', 'fediverse', 'flickr_aminer', 'flickr_groups', 'flickr_growth', 'flixster', 'florentine_families', 'fly_hemibrain', 'fly_larva', 'foldoc', 'foodweb_baywet', 'foodweb_little_rock', 'football', 'football_tsevans', 'foursquare', 'foursquare_friendships', 'foursquare_global', 'fresh_webs', 'freshmen', 'fullerene_structures', 'game_thrones', 'genetic_multiplex', 'github', 'gnutella', 'google', 'google_plus', 'google_web', 'hens', 'high_tech_company', 'highschool', 'hiv_transmission', 'human_brains', 'hyves', 'inploid', 'interactome_figeys', 'interactome_pdz', 'interactome_stelzl', 'interactome_vidal', 'interactome_yeast', 'internet_as', 'internet_top_pop', 'jazz_collab', 'jdk', 'jester', 'jung', 'kangaroo', 'karate', 'kegg_metabolic', 'kidnappings', 'lastfm', 'lastfm_aminer', 'law_firm', 'lesmis', 'libimseti', 'linux', 'livejournal', 'livejournal_aminer', 'livemocha', 'lkml_reply', 'lkml_thread', 'london_transport', 'macaque_neural', 'macaques', 'mag_geology_coauthor', 'mag_history_coauthor', 'malaria_genes', 'marker_cafe', 'marvel_partnerships', 'marvel_universe', 'messal_shale', 'microsoft_concept', 'mislove_osn', 'mist', 'montreal', 'moreno_sheep', 'moreno_sociograms', 'moreno_taro', 'moviegalaxies', 'movielens_100k', 'myspace_aminer', 'nematode_mammal', 'netscience', 'new_guinea_tribes', 'new_zealand_collab', 'notre_dame_web', 'november17', 'openflights', 'openstreetmap', 'packet_delays', 'paris_transportation', 'petster', 'pgp_strong', 'physician_trust', 'physics_collab', 'plant_pol_kato', 'plant_pol_robertson', 'plant_pol_vazquez', 'pokec', 'polblogs', 'polbooks', 'power', 'product_space', 'prosper', 'psi', 'python_dependency', 'qa_user', 'reactome', 'reality_mining', 'residence_hall', 'reuters', 'revolution', 'rhesus_monkey', 'roadnet', 'route_views', 'sa_companies', 'scotus_majority', 'slashdot_threads', 'slashdot_zoo', 'soc_net_comms', 'social_location', 'software_dependencies', 'sp_baboons', 'sp_colocation', 'sp_high_school', 'sp_high_school_new', 'sp_hospital', 'sp_hypertext', 'sp_infectious', 'sp_kenyan_households', 'sp_office', 'sp_primary_school', 'spanish_highschools', 'stackoverflow', 'stanford_web', 'student_cooperation', 'swingers', 'terrorists_911', 'topology', 'trackers', 'train_terrorists', 'trec', 'trec_web', 'tree-of-life', 'twitter', 'twitter_15m', 'twitter_2009', 'twitter_events', 'twitter_higgs', 'twitter_sample', 'twitter_social', 'ugandan_village', 'un_migrations', 'uni_email', 'unicodelang', 'urban_streets', 'us_agencies', 'us_air_traffic', 'us_congress', 'us_patents', 'us_roads', 'visualizeus', 'webkb', 'wiki_article_words', 'wiki_categories', 'wiki_link_dyn', 'wiki_rfa', 'wiki_science', 'wiki_talk', 'wiki_users', 'wikiconflict', 'wikipedia-en-talk', 'wikipedia_growth', 'wikipedia_link', 'wikitree', 'windsurfers', 'word_adjacency', 'word_assoc', 'wordnet', 'yahoo_ads', 'yahoo_song', 'yeast_transcription', 'zebras']\n"
     ]
    }
   ],
   "source": [
    "import requests\n",
    "\n",
    "url = \"https://networks.skewed.de/api/net\"\n",
    "response = requests.get(url)\n",
    "\n",
    "if response.status_code == 200:\n",
    "    print(response.json())  \n",
    "else:\n",
    "    print(\"Error:\", response.status_code, response.text)\n"
   ]
  },
  {
   "cell_type": "code",
   "execution_count": 10,
   "id": "d9beb03c-f102-419a-8d03-5bab47fd988d",
   "metadata": {},
   "outputs": [
    {
     "name": "stdout",
     "output_type": "stream",
     "text": [
      "Error: 404 <!doctype html>\n",
      "<html lang=en>\n",
      "<title>404 Not Found</title>\n",
      "<h1>Not Found</h1>\n",
      "<p>The requested URL was not found on the server. If you entered the URL manually please check your spelling and try again.</p>\n",
      "\n"
     ]
    }
   ],
   "source": [
    "url = \"https://networks.skewed.de/api/net/baseball\"\n",
    "response = requests.get(url)\n",
    "\n",
    "if response.status_code == 200:\n",
    "    print(response.json())  \n",
    "else:\n",
    "    print(\"Error:\", response.status_code, response.text)"
   ]
  },
  {
   "cell_type": "code",
   "execution_count": 13,
   "id": "cca189dc-809e-4343-8f3c-a3ea649292ea",
   "metadata": {},
   "outputs": [
    {
     "name": "stdout",
     "output_type": "stream",
     "text": [
      "Downloaded: advogato.gt.zst\n",
      "Decompressed: advogato.gt\n"
     ]
    }
   ],
   "source": [
    "import requests\n",
    "import zstandard as zstd\n",
    "\n",
    "url = \"https://networks.skewed.de/net/advogato/files/advogato.gt.zst\"\n",
    "zst_file = \"advogato.gt.zst\"\n",
    "gt_file = \"advogato.gt\"\n",
    "\n",
    "def download_file(url, output_path):\n",
    "    response = requests.get(url, stream=True)\n",
    "    if response.status_code == 200:\n",
    "        with open(output_path, \"wb\") as f:\n",
    "            for chunk in response.iter_content(chunk_size=8192):\n",
    "                f.write(chunk)\n",
    "        print(f\"Downloaded: {output_path}\")\n",
    "    else:\n",
    "        print(\"Failed to download:\", response.status_code, response.text)\n",
    "        return False\n",
    "    return True\n",
    "\n",
    "def decompress_zst(input_path, output_path):\n",
    "    with open(input_path, \"rb\") as f_in, open(output_path, \"wb\") as f_out:\n",
    "        dctx = zstd.ZstdDecompressor()\n",
    "        dctx.copy_stream(f_in, f_out)\n",
    "    print(f\"Decompressed: {output_path}\")\n",
    "\n",
    "\n",
    "if download_file(url, zst_file):\n",
    "    decompress_zst(zst_file, gt_file)\n"
   ]
  },
  {
   "cell_type": "code",
   "execution_count": null,
   "id": "a9a42dd8-d158-4c0c-8f49-33d518830e81",
   "metadata": {},
   "outputs": [],
   "source": []
  }
 ],
 "metadata": {
  "kernelspec": {
   "display_name": "Python 3 (ipykernel)",
   "language": "python",
   "name": "python3"
  },
  "language_info": {
   "codemirror_mode": {
    "name": "ipython",
    "version": 3
   },
   "file_extension": ".py",
   "mimetype": "text/x-python",
   "name": "python",
   "nbconvert_exporter": "python",
   "pygments_lexer": "ipython3",
   "version": "3.10.12"
  }
 },
 "nbformat": 4,
 "nbformat_minor": 5
}
