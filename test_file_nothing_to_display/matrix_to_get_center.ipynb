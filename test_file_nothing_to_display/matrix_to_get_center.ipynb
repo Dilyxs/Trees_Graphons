{
 "cells": [
  {
   "cell_type": "code",
   "execution_count": 1,
   "id": "a810c329-d2b0-475d-8ee7-53faccdca9ba",
   "metadata": {},
   "outputs": [],
   "source": [
    "from los_functions import matrix_uniform_attachment,find_barycenter_prob,row_colum_returner,draw_graph_from_adjacency_matrix,merge_trees,entropy_calculator,calculate_u_new,main_entropy_for_each_interation"
   ]
  },
  {
   "cell_type": "code",
   "execution_count": 2,
   "id": "346b3dd5-d955-446f-85d6-a8ef7c7cb16a",
   "metadata": {},
   "outputs": [],
   "source": [
    "import pandas as pd\n",
    "import numpy as np\n",
    "from tqdm.notebook import tqdm"
   ]
  },
  {
   "cell_type": "code",
   "execution_count": 3,
   "id": "ae31c980-07ed-4808-833c-44a952ea2608",
   "metadata": {},
   "outputs": [
    {
     "data": {
      "text/plain": [
       "np.float64(0.6931)"
      ]
     },
     "execution_count": 3,
     "metadata": {},
     "output_type": "execute_result"
    }
   ],
   "source": [
    "np.log(2).round(4)"
   ]
  },
  {
   "cell_type": "code",
   "execution_count": 7,
   "id": "38245c6d-13ac-4191-a33b-df9a2a5baa8d",
   "metadata": {},
   "outputs": [],
   "source": [
    "def calculate_u_new(matrix, u_old = None):\n",
    "    row_count = max(len(i) for i in matrix)\n",
    "    u_new = [0] * row_count\n",
    "\n",
    "    if u_old is None:\n",
    "        u_old = [1 / row_count] * row_count\n",
    "    \n",
    "    for i in range(0, row_count):\n",
    "        for j in range(0, row_count):\n",
    "            for k in range(0, row_count):\n",
    "                center = find_barycenter_prob(matrix, vertex_to_remove=[i, j, k])\n",
    "                u_new[center] += u_old[i] * u_old[j] * u_old[k]\n",
    "    \n",
    "    return u_new"
   ]
  },
  {
   "cell_type": "code",
   "execution_count": 8,
   "id": "5e44805a-2ae6-4dbe-8cc4-9e8ca217243f",
   "metadata": {},
   "outputs": [],
   "source": [
    "def main_entropy_for_each_interation(n, matrix):\n",
    "    total_steps = n\n",
    "    progress_bar = tqdm(total=total_steps, desc=\"Computing\", dynamic_ncols=True)\n",
    "\n",
    "    list_with_all_iteration = []\n",
    "    u_old = None\n",
    "\n",
    "    for s in range(n):  # No need to use set(range(n)), just range(n) works\n",
    "        u_calculated = calculate_u_new(matrix, u_old)\n",
    "        entropy_received = entropy_calculator(u_calculated)\n",
    "        print(u_calculated)\n",
    "        u_old = u_calculated\n",
    "\n",
    "        dict_2_send = {\n",
    "            \"interation\": s,\n",
    "            \"entropy\": entropy_received,\n",
    "            'u_calculated': u_calculated\n",
    "        }\n",
    "        list_with_all_iteration.append(dict_2_send)\n",
    "\n",
    "        if entropy_received < np.log(2).round(4):  \n",
    "            progress_bar.close()  # Ensure the bar is closed before breaking\n",
    "            break  # Leave the loop immediately\n",
    "\n",
    "        progress_bar.update(1)  # Update progress only if not breaking\n",
    "\n",
    "    progress_bar.close()  # Ensure progress bar closes after loop\n",
    "    return list_with_all_iteration\n"
   ]
  },
  {
   "cell_type": "code",
   "execution_count": 9,
   "id": "fc154c0c-4513-4110-a033-dfb3e552fbdf",
   "metadata": {},
   "outputs": [
    {
     "data": {
      "text/plain": [
       "[[0, 1, 0, 0, 0, 0, 0, 0, 0, 0],\n",
       " [1, 0, 1, 0, 0, 0, 1, 0, 0, 0],\n",
       " [0, 1, 0, 1, 0, 0, 0, 1, 0, 0],\n",
       " [0, 0, 1, 0, 1, 0, 0, 0, 0, 0],\n",
       " [0, 0, 0, 1, 0, 1, 0, 0, 0, 0],\n",
       " [0, 0, 0, 0, 1, 0, 0, 0, 1, 0],\n",
       " [0, 1, 0, 0, 0, 0, 0, 0, 0, 0],\n",
       " [0, 0, 1, 0, 0, 0, 0, 0, 0, 1],\n",
       " [0, 0, 0, 0, 0, 1, 0, 0, 0, 0],\n",
       " [0, 0, 0, 0, 0, 0, 0, 1, 0, 0]]"
      ]
     },
     "execution_count": 9,
     "metadata": {},
     "output_type": "execute_result"
    }
   ],
   "source": [
    "matrix = matrix_uniform_attachment(10)\n",
    "matrix"
   ]
  },
  {
   "cell_type": "code",
   "execution_count": 12,
   "id": "461ef4bb-5873-4951-9df9-7ca8607e290f",
   "metadata": {},
   "outputs": [
    {
     "ename": "TypeError",
     "evalue": "list indices must be integers or slices, not NoneType",
     "output_type": "error",
     "traceback": [
      "\u001b[0;31m---------------------------------------------------------------------------\u001b[0m",
      "\u001b[0;31mTypeError\u001b[0m                                 Traceback (most recent call last)",
      "\u001b[0;32m/tmp/ipykernel_285536/3745088080.py\u001b[0m in \u001b[0;36m<module>\u001b[0;34m\u001b[0m\n\u001b[0;32m----> 1\u001b[0;31m \u001b[0mr\u001b[0m \u001b[0;34m=\u001b[0m \u001b[0mcalculate_u_new\u001b[0m\u001b[0;34m(\u001b[0m\u001b[0mmatrix\u001b[0m\u001b[0;34m)\u001b[0m\u001b[0;34m\u001b[0m\u001b[0;34m\u001b[0m\u001b[0m\n\u001b[0m",
      "\u001b[0;32m/tmp/ipykernel_285536/3538241930.py\u001b[0m in \u001b[0;36mcalculate_u_new\u001b[0;34m(matrix, u_old)\u001b[0m\n\u001b[1;32m     10\u001b[0m             \u001b[0;32mfor\u001b[0m \u001b[0mk\u001b[0m \u001b[0;32min\u001b[0m \u001b[0mrange\u001b[0m\u001b[0;34m(\u001b[0m\u001b[0;36m0\u001b[0m\u001b[0;34m,\u001b[0m \u001b[0mrow_count\u001b[0m\u001b[0;34m)\u001b[0m\u001b[0;34m:\u001b[0m\u001b[0;34m\u001b[0m\u001b[0;34m\u001b[0m\u001b[0m\n\u001b[1;32m     11\u001b[0m                 \u001b[0mcenter\u001b[0m \u001b[0;34m=\u001b[0m \u001b[0mfind_barycenter_prob\u001b[0m\u001b[0;34m(\u001b[0m\u001b[0mmatrix\u001b[0m\u001b[0;34m,\u001b[0m \u001b[0mvertex_to_remove\u001b[0m\u001b[0;34m=\u001b[0m\u001b[0;34m[\u001b[0m\u001b[0mi\u001b[0m\u001b[0;34m,\u001b[0m \u001b[0mj\u001b[0m\u001b[0;34m,\u001b[0m \u001b[0mk\u001b[0m\u001b[0;34m]\u001b[0m\u001b[0;34m)\u001b[0m\u001b[0;34m\u001b[0m\u001b[0;34m\u001b[0m\u001b[0m\n\u001b[0;32m---> 12\u001b[0;31m                 \u001b[0mu_new\u001b[0m\u001b[0;34m[\u001b[0m\u001b[0mcenter\u001b[0m\u001b[0;34m]\u001b[0m \u001b[0;34m+=\u001b[0m \u001b[0mu_old\u001b[0m\u001b[0;34m[\u001b[0m\u001b[0mi\u001b[0m\u001b[0;34m]\u001b[0m \u001b[0;34m*\u001b[0m \u001b[0mu_old\u001b[0m\u001b[0;34m[\u001b[0m\u001b[0mj\u001b[0m\u001b[0;34m]\u001b[0m \u001b[0;34m*\u001b[0m \u001b[0mu_old\u001b[0m\u001b[0;34m[\u001b[0m\u001b[0mk\u001b[0m\u001b[0;34m]\u001b[0m\u001b[0;34m\u001b[0m\u001b[0;34m\u001b[0m\u001b[0m\n\u001b[0m\u001b[1;32m     13\u001b[0m \u001b[0;34m\u001b[0m\u001b[0m\n\u001b[1;32m     14\u001b[0m     \u001b[0;32mreturn\u001b[0m \u001b[0mu_new\u001b[0m\u001b[0;34m\u001b[0m\u001b[0;34m\u001b[0m\u001b[0m\n",
      "\u001b[0;31mTypeError\u001b[0m: list indices must be integers or slices, not NoneType"
     ]
    }
   ],
   "source": [
    "r = calculate_u_new(matrix)"
   ]
  },
  {
   "cell_type": "code",
   "execution_count": null,
   "id": "0965e890-256b-41ca-90ea-4430c70e2c31",
   "metadata": {},
   "outputs": [],
   "source": []
  }
 ],
 "metadata": {
  "kernelspec": {
   "display_name": "Python 3 (ipykernel)",
   "language": "python",
   "name": "python3"
  },
  "language_info": {
   "codemirror_mode": {
    "name": "ipython",
    "version": 3
   },
   "file_extension": ".py",
   "mimetype": "text/x-python",
   "name": "python",
   "nbconvert_exporter": "python",
   "pygments_lexer": "ipython3",
   "version": "3.10.12"
  }
 },
 "nbformat": 4,
 "nbformat_minor": 5
}
