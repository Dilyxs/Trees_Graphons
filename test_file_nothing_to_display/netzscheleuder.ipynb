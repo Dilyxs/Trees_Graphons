{
 "cells": [
  {
   "cell_type": "code",
   "execution_count": 22,
   "id": "6fd922bb-94bf-4987-b70d-b4cf8bc209eb",
   "metadata": {},
   "outputs": [
    {
     "name": "stdout",
     "output_type": "stream",
     "text": [
      "Error: 404 <!doctype html>\n",
      "<html lang=en>\n",
      "<title>404 Not Found</title>\n",
      "<h1>Not Found</h1>\n",
      "<p>The requested URL was not found on the server. If you entered the URL manually please check your spelling and try again.</p>\n",
      "\n"
     ]
    }
   ],
   "source": [
    "import requests\n",
    "import networkx as nx\n",
    "url = \"https://networks.skewed.de/api/net\"\n",
    "response = requests.get(url)\n",
    "\n",
    "if response.status_code == 200:\n",
    "    print(response.json())  \n",
    "else:\n",
    "    print(\"Error:\", response.status_code, response.text)\n"
   ]
  },
  {
   "cell_type": "code",
   "execution_count": 21,
   "id": "d9beb03c-f102-419a-8d03-5bab47fd988d",
   "metadata": {},
   "outputs": [
    {
     "name": "stdout",
     "output_type": "stream",
     "text": [
      "{'analyses': {'player-player': {'average_degree': 30.25, 'degree_assortativity': 0.9907544509797475, 'degree_std_dev': 18.59117921070217, 'diameter': 2, 'edge_properties': [], 'edge_reciprocity': 1.0, 'global_clustering': 0.9973602948500847, 'hashimoto_radius': 44.0000245705731, 'is_bipartite': False, 'is_directed': False, 'knn_proj_1': 4.606237499497344, 'knn_proj_2': 2.1165078966485544, 'largest_component_fraction': 0.625, 'mixing_time': 2.5633647708013014, 'num_edges': 1089, 'num_vertices': 72, 'transition_gap': 0.6769808786824754, 'vertex_properties': [['name', 'string'], ['_pos', 'vector<double>']]}, 'user-provider': {'average_degree': 2.0, 'degree_assortativity': -0.45324350935028485, 'degree_std_dev': 4.775931721614517, 'diameter': 4, 'edge_properties': [], 'edge_reciprocity': 1.0, 'global_clustering': 0.0, 'hashimoto_radius': 1.732050807568875, 'is_bipartite': True, 'is_directed': False, 'knn_proj_1': 4.045647796020993, 'knn_proj_2': 1.0754966288732322, 'largest_component_fraction': 0.5595238095238095, 'mixing_time': 6.601759387873558, 'num_edges': 84, 'num_vertices': 84, 'transition_gap': 0.8594395636904105, 'vertex_properties': [['name', 'string'], ['_pos', 'vector<double>']]}}, 'bibtex': ['@unpublished{baseball,\\n    author = {V. Krebs},\\n    title = {The Spread of Steroids in Baseball},\\n    url = {http://orgnet.com/steroids.html},\\n    note = {\\\\url{http://orgnet.com/steroids.html}},\\n}\\n'], 'citation': [['V. Krebs, \"The Spread of Steroids in Baseball.\"', 'http://orgnet.com/steroids.html']], 'description': 'Two networks representing steroid use among baseball players. First, a bipartite network of players and their steroid providers (of illegal performance-enhancing substances). Second, a one-mode projection of players, which are linked if they have a common supplier.[^icon]\\n[^icon]: Description obtained from the [ICON](https://icon.colorado.edu) project.', 'nets': ['player-player', 'user-provider'], 'restricted': False, 'tags': ['Social', 'Offline', 'Weighted', 'Projection'], 'title': 'Baseball steroid use (2008)', 'url': 'http://orgnet.com/steroids.html'}\n"
     ]
    }
   ],
   "source": [
    "url = \"https://networks.skewed.de/api/net/baseball\"\n",
    "response = requests.get(url)\n",
    "\n",
    "if response.status_code == 200:\n",
    "    print(response.json())  \n",
    "else:\n",
    "    print(\"Error:\", response.status_code, response.text)"
   ]
  },
  {
   "cell_type": "code",
   "execution_count": 26,
   "id": "cca189dc-809e-4343-8f3c-a3ea649292ea",
   "metadata": {},
   "outputs": [
    {
     "name": "stdout",
     "output_type": "stream",
     "text": [
      "Downloaded: advogato.gt.zst\n",
      "Decompressed: advogato.gt\n"
     ]
    }
   ],
   "source": [
    "import requests\n",
    "import zstandard as zstd\n",
    "\n",
    "url = \"https://networks.skewed.de/net/advogato/files/advogato.gt.zst\"\n",
    "zst_file = \"advogato.gt.zst\"\n",
    "gt_file = \"advogato.gt\"\n",
    "\n",
    "def download_file(url, output_path):\n",
    "    \"\"\"Download the .zst file in chunks to avoid memory issues.\"\"\"\n",
    "    response = requests.get(url, stream=True)\n",
    "    if response.status_code == 200:\n",
    "        with open(output_path, \"wb\") as f:\n",
    "            for chunk in response.iter_content(chunk_size=8192):\n",
    "                f.write(chunk)\n",
    "        print(f\"Downloaded: {output_path}\")\n",
    "    else:\n",
    "        print(\"Failed to download:\", response.status_code, response.text)\n",
    "        return False\n",
    "    return True\n",
    "\n",
    "def decompress_zst(input_path, output_path):\n",
    "    \"\"\"Decompress .zst file in a streaming manner.\"\"\"\n",
    "    with open(input_path, \"rb\") as f_in, open(output_path, \"wb\") as f_out:\n",
    "        dctx = zstd.ZstdDecompressor()\n",
    "        dctx.copy_stream(f_in, f_out)\n",
    "    print(f\"Decompressed: {output_path}\")\n",
    "\n",
    "# Step 1: Download the file\n",
    "if download_file(url, zst_file):\n",
    "    # Step 2: Decompress it\n",
    "    decompress_zst(zst_file, gt_file)"
   ]
  },
  {
   "cell_type": "code",
   "execution_count": 27,
   "id": "a9a42dd8-d158-4c0c-8f49-33d518830e81",
   "metadata": {},
   "outputs": [],
   "source": [
    "def load_graph_as_nx(gt_file):\n",
    "    \"\"\"Load a .gt file as a NetworkX graph.\"\"\"\n",
    "    graph = nx.read_graphml(gt_file)\n",
    "    print(\"Graph loaded successfully!\")\n",
    "    return graph"
   ]
  },
  {
   "cell_type": "code",
   "execution_count": 28,
   "id": "15fe4b1a-0c3b-417b-ad75-ce7d121ff1b1",
   "metadata": {},
   "outputs": [
    {
     "ename": "ParseError",
     "evalue": "not well-formed (invalid token): line 1, column 0 (<string>)",
     "output_type": "error",
     "traceback": [
      "Traceback \u001b[0;36m(most recent call last)\u001b[0m:\n",
      "  File \u001b[1;32m\"/usr/lib/python3/dist-packages/IPython/core/interactiveshell.py\"\u001b[0m, line \u001b[1;32m3457\u001b[0m, in \u001b[1;35mrun_code\u001b[0m\n    exec(code_obj, self.user_global_ns, self.user_ns)\n",
      "  File \u001b[1;32m\"/tmp/ipykernel_108523/158912601.py\"\u001b[0m, line \u001b[1;32m1\u001b[0m, in \u001b[1;35m<module>\u001b[0m\n    graph = load_graph_as_nx(\"advogato.gt\")\n",
      "  File \u001b[1;32m\"/tmp/ipykernel_108523/2373873878.py\"\u001b[0m, line \u001b[1;32m3\u001b[0m, in \u001b[1;35mload_graph_as_nx\u001b[0m\n    graph = nx.read_graphml(gt_file)\n",
      "  File \u001b[1;32m\"<class 'networkx.utils.decorators.argmap'> compilation 6\"\u001b[0m, line \u001b[1;32m5\u001b[0m, in \u001b[1;35margmap_read_graphml_1\u001b[0m\n    import itertools\n",
      "  File \u001b[1;32m\"/home/adsayan/.local/lib/python3.10/site-packages/networkx/utils/backends.py\"\u001b[0m, line \u001b[1;32m967\u001b[0m, in \u001b[1;35m__call__\u001b[0m\n    return self.orig_func(*args, **kwargs)\n",
      "  File \u001b[1;32m\"/home/adsayan/.local/lib/python3.10/site-packages/networkx/readwrite/graphml.py\"\u001b[0m, line \u001b[1;32m297\u001b[0m, in \u001b[1;35mread_graphml\u001b[0m\n    glist = list(reader(path=path))\n",
      "  File \u001b[1;32m\"/home/adsayan/.local/lib/python3.10/site-packages/networkx/readwrite/graphml.py\"\u001b[0m, line \u001b[1;32m853\u001b[0m, in \u001b[1;35m__call__\u001b[0m\n    self.xml = ElementTree(file=path)\n",
      "  File \u001b[1;32m\"/usr/lib/python3.10/xml/etree/ElementTree.py\"\u001b[0m, line \u001b[1;32m540\u001b[0m, in \u001b[1;35m__init__\u001b[0m\n    self.parse(file)\n",
      "\u001b[0;36m  File \u001b[0;32m\"/usr/lib/python3.10/xml/etree/ElementTree.py\"\u001b[0;36m, line \u001b[0;32m580\u001b[0;36m, in \u001b[0;35mparse\u001b[0;36m\u001b[0m\n\u001b[0;31m    self._root = parser._parse_whole(source)\u001b[0m\n",
      "\u001b[0;36m  File \u001b[0;32m\"<string>\"\u001b[0;36m, line \u001b[0;32munknown\u001b[0m\n\u001b[0;31mParseError\u001b[0m\u001b[0;31m:\u001b[0m not well-formed (invalid token): line 1, column 0\n"
     ]
    }
   ],
   "source": [
    "graph = load_graph_as_nx(\"advogato.gt\")"
   ]
  },
  {
   "cell_type": "code",
   "execution_count": 39,
   "id": "3946fc0f-f578-4e48-8c24-d86ac2342325",
   "metadata": {},
   "outputs": [],
   "source": [
    "import graph_tools as gt"
   ]
  },
  {
   "cell_type": "code",
   "execution_count": 41,
   "id": "74e29025-0d8d-4e3a-aca6-a3ff238bddff",
   "metadata": {},
   "outputs": [
    {
     "data": {
      "text/plain": [
       "['CREATE_SUBP',\n",
       " 'CREATE_TYPES',\n",
       " 'EXPORT_FORMATS',\n",
       " 'EXPORT_SUBP',\n",
       " 'Graph',\n",
       " 'IMPORT_FORMATS',\n",
       " 'IMPORT_SUBP',\n",
       " 'MAX_RETRIES',\n",
       " 'VERSION',\n",
       " '__builtins__',\n",
       " '__cached__',\n",
       " '__doc__',\n",
       " '__file__',\n",
       " '__loader__',\n",
       " '__name__',\n",
       " '__package__',\n",
       " '__path__',\n",
       " '__spec__',\n",
       " 'defaultdict',\n",
       " 'deque',\n",
       " 'die',\n",
       " 'functools',\n",
       " 'heapq',\n",
       " 'itertools',\n",
       " 'main',\n",
       " 'math',\n",
       " 'numpy',\n",
       " 'random',\n",
       " 're',\n",
       " 'statistics',\n",
       " 'tbdump',\n",
       " 'time',\n",
       " 'warn']"
      ]
     },
     "execution_count": 41,
     "metadata": {},
     "output_type": "execute_result"
    }
   ],
   "source": [
    "dir(gt)"
   ]
  },
  {
   "cell_type": "code",
   "execution_count": 42,
   "id": "7fbe93c0-a56e-4533-bc97-59f86a15830e",
   "metadata": {},
   "outputs": [
    {
     "name": "stdout",
     "output_type": "stream",
     "text": [
      "Graph loaded successfully!\n"
     ]
    }
   ],
   "source": [
    "graph = gt.Graph(\"advogato.gt\")\n",
    "print(\"Graph loaded successfully!\")"
   ]
  },
  {
   "cell_type": "code",
   "execution_count": 43,
   "id": "9e1236bf-d671-48d6-a64e-2156c81810ff",
   "metadata": {},
   "outputs": [
    {
     "data": {
      "text/plain": [
       "// Generated by graph-tools (version 1.1) at 2025/58/02/07/25 20:58:05]\n",
       "// directed, 0 vertices, 0 edges\n",
       "digraph export_dot {\n",
       "graph [start=\"1\"]\n",
       "  node [color=gray90,style=filled];\n",
       "}"
      ]
     },
     "execution_count": 43,
     "metadata": {},
     "output_type": "execute_result"
    }
   ],
   "source": [
    "graph"
   ]
  },
  {
   "cell_type": "code",
   "execution_count": null,
   "id": "6b5b6615-9ba1-4e0d-886c-5a8a809b7a8f",
   "metadata": {},
   "outputs": [],
   "source": []
  }
 ],
 "metadata": {
  "kernelspec": {
   "display_name": "Python 3 (ipykernel)",
   "language": "python",
   "name": "python3"
  },
  "language_info": {
   "codemirror_mode": {
    "name": "ipython",
    "version": 3
   },
   "file_extension": ".py",
   "mimetype": "text/x-python",
   "name": "python",
   "nbconvert_exporter": "python",
   "pygments_lexer": "ipython3",
   "version": "3.10.12"
  }
 },
 "nbformat": 4,
 "nbformat_minor": 5
}
