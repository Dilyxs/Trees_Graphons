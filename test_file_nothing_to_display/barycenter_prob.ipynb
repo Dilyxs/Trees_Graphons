{
 "cells": [
  {
   "cell_type": "code",
   "execution_count": 12,
   "id": "50dc7c09-a7be-44c4-85fb-ed30dfe19fa0",
   "metadata": {},
   "outputs": [],
   "source": [
    "import numpy as np\n",
    "import networkx as nx\n",
    "import matplotlib.pyplot as plt\n",
    "import copy\n",
    "\n",
    "def find_barycenter_deterministic(adj_matrix):\n",
    "    adj_matrix_copy = copy.deepcopy(adj_matrix)\n",
    "    n = len(adj_matrix_copy)\n",
    "    degrees = np.sum(adj_matrix_copy, axis=1)\n",
    "    nodes = set(range(n))\n",
    "    \n",
    "    while len(nodes) > 2:\n",
    "        leaf_nodes = [i for i in nodes if degrees[i] == 1]\n",
    "        \n",
    "        for leaf in leaf_nodes:\n",
    "            nodes.remove(leaf)\n",
    "            degrees[leaf] = 0\n",
    "\n",
    "            for neighbor in range(n):\n",
    "                if adj_matrix_copy[leaf][neighbor] == 1:\n",
    "                    degrees[neighbor] -= 1\n",
    "                    adj_matrix_copy[leaf][neighbor] = 0\n",
    "                    adj_matrix_copy[neighbor][leaf] = 0\n",
    "\n",
    "    remaining_nodes = list(nodes)\n",
    "\n",
    "    if len(remaining_nodes) == 1:\n",
    "        return remaining_nodes, adj_matrix_copy\n",
    "    elif len(remaining_nodes) == 2:\n",
    "        return remaining_nodes, adj_matrix_copy\n",
    "\n",
    "def find_barycenter_prob(matrix, vertex_to_remove):\n",
    "\n",
    "    matrix_copy = copy.deepcopy(matrix)\n",
    "\n",
    "    row_c = [0, 1]\n",
    "\n",
    "    for i in vertex_to_remove:\n",
    "        if vertex_to_remove.count(i) >= 2:\n",
    "            return i  \n",
    "\n",
    "    while len(row_c) != 0:\n",
    "        row, column = row_colum_returner(matrix_copy, vertex_to_remove)\n",
    "        row_c = row\n",
    "\n",
    "        if len(row_c) == 0:\n",
    "            break\n",
    "\n",
    "        for r, c in zip(row, column):\n",
    "            matrix_copy = make_that_1_into_0_with_transpose(matrix_copy, r, c)\n",
    "\n",
    " \n",
    "    for s, i in enumerate(matrix_copy):\n",
    "        if sum(i) == 3:\n",
    "            return s  #\n",
    "\n",
    "    for i in vertex_to_remove:\n",
    "        if sum(matrix_copy[i]) == 2:\n",
    "            return i  \n",
    "\n",
    " \n",
    "    return None\n",
    "\n",
    "def row_colum_returner(matrix, vertex_to_remove):\n",
    "    s= 0 \n",
    "    column = []\n",
    "    row = []\n",
    "    for i in matrix:\n",
    "        if sum(i) == 1:\n",
    "            if s in vertex_to_remove:\n",
    "                pass\n",
    "            if s not in vertex_to_remove:\n",
    "                d = 0\n",
    "                for v in i:\n",
    "                    if v==1:\n",
    "                        row.append(s)\n",
    "                        column.append(d)\n",
    "                    d+=1\n",
    "                        \n",
    "    \n",
    "        s+=1\n",
    "\n",
    "    return row, column\n"
   ]
  },
  {
   "cell_type": "code",
   "execution_count": 13,
   "id": "b0328a0f-b678-4f81-8b44-c5822270acc6",
   "metadata": {},
   "outputs": [],
   "source": [
    "def draw_graph_from_adjacency_matrix(adjacency_matrix):\n",
    "    G = nx.Graph()\n",
    "\n",
    "    for i in range(len(adjacency_matrix)):\n",
    "        for j in range(len(adjacency_matrix[i])):\n",
    "            if adjacency_matrix[i][j] != 0: \n",
    "                G.add_edge(i, j, weight=adjacency_matrix[i][j])\n",
    "\n",
    "\n",
    "    G.add_nodes_from(range(len(adjacency_matrix)))\n",
    "\n",
    "    pos = nx.spring_layout(G, seed=42)\n",
    "\n",
    "    # Draw the graph\n",
    "    plt.figure(figsize=(8, 6))\n",
    "    nx.draw(\n",
    "        G,\n",
    "        pos,\n",
    "        with_labels=True,\n",
    "        node_color='lightblue',\n",
    "        edge_color='black',\n",
    "        node_size=10,\n",
    "        font_size=10,\n",
    "        width=0.5\n",
    "    )\n",
    "    plt.title(\"Graph from Adjacency Matrix\")\n",
    "    plt.show()\n",
    "\n",
    "def make_that_1_into_0_with_transpose(matrix, row, column):\n",
    "    matrix[row][column] = 0\n",
    "    matrix[column][row] = 0\n",
    "\n",
    "\n",
    "    return matrix"
   ]
  },
  {
   "cell_type": "code",
   "execution_count": 21,
   "id": "0a3b3a48-439a-4e26-9e0f-9b4b16f46317",
   "metadata": {},
   "outputs": [],
   "source": [
    "def calculate_u_new(matrix):\n",
    "    row_count = max(len(i) for i in matrix)\n",
    "    u_new = [0] * row_count\n",
    "    u_old = [1 / row_count] * row_count\n",
    "    \n",
    "    for i in range(0, row_count):\n",
    "        for j in range(0, row_count):\n",
    "            for k in range(0, row_count):\n",
    "                center = find_barycenter_prob(matrix, vertex_to_remove=[i, j, k])\n",
    "                u_new[center] += u_old[i] * u_old[j] * u_old[k]\n",
    "    \n",
    "    return u_new"
   ]
  },
  {
   "cell_type": "code",
   "execution_count": 22,
   "id": "c3f9ea27-52ab-41fc-a24c-528a7a9ebabb",
   "metadata": {},
   "outputs": [],
   "source": [
    "from uniform_attachment_model import matrix_uniform_attachment"
   ]
  },
  {
   "cell_type": "code",
   "execution_count": 35,
   "id": "f4d02b2f-9b14-4687-853a-54033fd82fb5",
   "metadata": {},
   "outputs": [],
   "source": [
    "matrix = matrix_uniform_attachment(12)"
   ]
  },
  {
   "cell_type": "code",
   "execution_count": 36,
   "id": "6d017280-b6c8-45a9-9139-71d1c2bc9561",
   "metadata": {},
   "outputs": [],
   "source": [
    "vertex, matrix_adj = find_barycenter_deterministic(matrix)"
   ]
  },
  {
   "cell_type": "code",
   "execution_count": 37,
   "id": "fdc83e07-c957-494c-9b4d-571ef1779f5c",
   "metadata": {},
   "outputs": [
    {
     "data": {
      "text/plain": [
       "[1]"
      ]
     },
     "execution_count": 37,
     "metadata": {},
     "output_type": "execute_result"
    }
   ],
   "source": [
    "vertex"
   ]
  },
  {
   "cell_type": "code",
   "execution_count": 38,
   "id": "f627e0a9-c9ab-4873-bfc2-4a551bf9e797",
   "metadata": {},
   "outputs": [
    {
     "data": {
      "text/plain": [
       "4"
      ]
     },
     "execution_count": 38,
     "metadata": {},
     "output_type": "execute_result"
    }
   ],
   "source": [
    "u_new = calculate_u_new(matrix)\n",
    "vertex_prob=  u_new.index(max(u_new))\n",
    "vertex_prob"
   ]
  },
  {
   "cell_type": "code",
   "execution_count": 39,
   "id": "b01d9898-9c64-439f-ae57-04f85233422f",
   "metadata": {},
   "outputs": [
    {
     "data": {
      "text/plain": [
       "[0.054398148148148216,\n",
       " 0.2696759259259244,\n",
       " 0.08217592592592611,\n",
       " 0.054398148148148216,\n",
       " 0.33217592592592615,\n",
       " 0.01967592592592591,\n",
       " 0.054398148148148216,\n",
       " 0.01967592592592591,\n",
       " 0.01967592592592591,\n",
       " 0.054398148148148216,\n",
       " 0.01967592592592591,\n",
       " 0.01967592592592591]"
      ]
     },
     "execution_count": 39,
     "metadata": {},
     "output_type": "execute_result"
    }
   ],
   "source": [
    "u_new"
   ]
  },
  {
   "cell_type": "code",
   "execution_count": 40,
   "id": "4e75aeb7-0dd5-482a-b9d2-857957a308f8",
   "metadata": {},
   "outputs": [
    {
     "data": {
      "image/png": "[encoded data removed]",
      "text/plain": [
       "<Figure size 576x432 with 1 Axes>"
      ]
     },
     "metadata": {},
     "output_type": "display_data"
    }
   ],
   "source": [
    "draw_graph_from_adjacency_matrix(matrix)"
   ]
  },
  {
   "cell_type": "code",
   "execution_count": null,
   "id": "2f2117fa-6d93-460c-8f5f-e584a84ce547",
   "metadata": {},
   "outputs": [],
   "source": []
  }
 ],
 "metadata": {
  "kernelspec": {
   "display_name": "Python 3 (ipykernel)",
   "language": "python",
   "name": "python3"
  },
  "language_info": {
   "codemirror_mode": {
    "name": "ipython",
    "version": 3
   },
   "file_extension": ".py",
   "mimetype": "text/x-python",
   "name": "python",
   "nbconvert_exporter": "python",
   "pygments_lexer": "ipython3",
   "version": "3.10.12"
  }
 },
 "nbformat": 4,
 "nbformat_minor": 5
}
